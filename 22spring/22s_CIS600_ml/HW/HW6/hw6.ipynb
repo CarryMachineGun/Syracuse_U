{
 "cells": [
  {
   "cell_type": "code",
   "execution_count": 6,
   "id": "desperate-infrared",
   "metadata": {},
   "outputs": [
    {
     "ename": "LoadError",
     "evalue": "UndefVarError: Pkg not defined",
     "output_type": "error",
     "traceback": [
      "UndefVarError: Pkg not defined",
      "",
      "Stacktrace:",
      " [1] top-level scope",
      "   @ In[6]:1",
      " [2] eval",
      "   @ ./boot.jl:360 [inlined]",
      " [3] include_string(mapexpr::typeof(REPL.softscope), mod::Module, code::String, filename::String)",
      "   @ Base ./loading.jl:1116"
     ]
    }
   ],
   "source": [
    "# Pkg.add(\"PyCall\")"
   ]
  },
  {
   "cell_type": "code",
   "execution_count": null,
   "id": "distinguished-corps",
   "metadata": {},
   "outputs": [
    {
     "data": {
      "text/plain": [
       "\"C:\\\\Users\\\\DELL\\\\.julia\\\\conda\\\\3\\\\python39.dll\""
      ]
     },
     "execution_count": 14,
     "metadata": {},
     "output_type": "execute_result"
    }
   ],
   "source": [
    "using PyCall\n",
    "PyCall.libpython"
   ]
  },
  {
   "cell_type": "code",
   "execution_count": null,
   "id": "fifth-interaction",
   "metadata": {},
   "outputs": [
    {
     "data": {
      "text/plain": [
       "PyObject <module 'xcs' from 'C:\\\\Users\\\\DELL\\\\.julia\\\\conda\\\\3\\\\lib\\\\site-packages\\\\xcs\\\\__init__.py'>"
      ]
     },
     "execution_count": 15,
     "metadata": {},
     "output_type": "execute_result"
    }
   ],
   "source": [
    "a = pyimport(\"xcs\")"
   ]
  },
  {
   "cell_type": "code",
   "execution_count": null,
   "id": "racial-district",
   "metadata": {},
   "outputs": [
    {
     "data": {
      "text/plain": [
       "PyObject <module 'xcs.scenarios' from 'C:\\\\Users\\\\DELL\\\\.julia\\\\conda\\\\3\\\\lib\\\\site-packages\\\\xcs\\\\scenarios.py'>"
      ]
     },
     "execution_count": 16,
     "metadata": {},
     "output_type": "execute_result"
    }
   ],
   "source": [
    "ScenarioObserver=a.scenarios.ScenarioObserver \n",
    "MUXProblem=a.scenarios.MUXProblem\n",
    "PreClassifiedData=a.scenarios.PreClassifiedData\n",
    "XCSAlgorithm=a.XCSAlgorithm\n",
    "BitString=a.bitstrings\n",
    "Scenario=a.scenarios "
   ]
  },
  {
   "cell_type": "code",
   "execution_count": null,
   "id": "correct-passion",
   "metadata": {},
   "outputs": [
    {
     "data": {
      "text/plain": [
       "PyObject <xcs.XCSAlgorithm object at 0x0000000062223970>"
      ]
     },
     "execution_count": 17,
     "metadata": {},
     "output_type": "execute_result"
    }
   ],
   "source": [
    "algorithm = XCSAlgorithm()\n"
   ]
  },
  {
   "cell_type": "code",
   "execution_count": null,
   "id": "relevant-amateur",
   "metadata": {},
   "outputs": [
    {
     "data": {
      "text/plain": [
       "true"
      ]
     },
     "execution_count": 18,
     "metadata": {},
     "output_type": "execute_result"
    }
   ],
   "source": [
    "algorithm.exploration_probability = .1\n",
    "algorithm.discount_factor = 0\n",
    "algorithm.do_ga_subsumption = true\n",
    "algorithm.do_action_set_subsumption = true"
   ]
  },
  {
   "cell_type": "code",
   "execution_count": null,
   "id": "preceding-individual",
   "metadata": {},
   "outputs": [],
   "source": [
    "py\"\"\"\n",
    "def outputmodel(x):\n",
    "    import logging\n",
    "    logging.basicConfig(level=logging.INFO)\n",
    "    logger = logging.getLogger(__name__)\n",
    "    logger.info('Classifiers:\\n\\n%s\\n', x)\n",
    "\n",
    "\"\"\""
   ]
  },
  {
   "cell_type": "code",
   "execution_count": null,
   "id": "sharp-mainstream",
   "metadata": {},
   "outputs": [
    {
     "data": {
      "text/html": [
       "<div class=\"data-frame\"><p>70,692 rows × 22 columns (omitted printing of 14 columns)</p><table class=\"data-frame\"><thead><tr><th></th><th>Diabetes_binary</th><th>HighBP</th><th>HighChol</th><th>CholCheck</th><th>BMI</th><th>Smoker</th><th>Stroke</th><th>HeartDiseaseorAttack</th></tr><tr><th></th><th title=\"Float64\">Float64</th><th title=\"Float64\">Float64</th><th title=\"Float64\">Float64</th><th title=\"Float64\">Float64</th><th title=\"Float64\">Float64</th><th title=\"Float64\">Float64</th><th title=\"Float64\">Float64</th><th title=\"Float64\">Float64</th></tr></thead><tbody><tr><th>1</th><td>0.0</td><td>0.0</td><td>1.0</td><td>1.0</td><td>25.0</td><td>1.0</td><td>0.0</td><td>0.0</td></tr><tr><th>2</th><td>0.0</td><td>0.0</td><td>0.0</td><td>0.0</td><td>25.0</td><td>1.0</td><td>0.0</td><td>0.0</td></tr><tr><th>3</th><td>0.0</td><td>1.0</td><td>1.0</td><td>1.0</td><td>29.0</td><td>1.0</td><td>0.0</td><td>0.0</td></tr><tr><th>4</th><td>0.0</td><td>0.0</td><td>0.0</td><td>1.0</td><td>26.0</td><td>1.0</td><td>0.0</td><td>0.0</td></tr><tr><th>5</th><td>0.0</td><td>0.0</td><td>0.0</td><td>1.0</td><td>29.0</td><td>1.0</td><td>0.0</td><td>0.0</td></tr><tr><th>6</th><td>0.0</td><td>0.0</td><td>0.0</td><td>0.0</td><td>24.0</td><td>0.0</td><td>0.0</td><td>0.0</td></tr><tr><th>7</th><td>0.0</td><td>1.0</td><td>1.0</td><td>1.0</td><td>36.0</td><td>0.0</td><td>0.0</td><td>0.0</td></tr><tr><th>8</th><td>0.0</td><td>0.0</td><td>0.0</td><td>1.0</td><td>26.0</td><td>1.0</td><td>0.0</td><td>0.0</td></tr><tr><th>9</th><td>0.0</td><td>0.0</td><td>0.0</td><td>1.0</td><td>21.0</td><td>0.0</td><td>0.0</td><td>0.0</td></tr><tr><th>10</th><td>0.0</td><td>1.0</td><td>1.0</td><td>1.0</td><td>23.0</td><td>1.0</td><td>0.0</td><td>1.0</td></tr><tr><th>11</th><td>0.0</td><td>1.0</td><td>1.0</td><td>1.0</td><td>27.0</td><td>0.0</td><td>0.0</td><td>0.0</td></tr><tr><th>12</th><td>0.0</td><td>0.0</td><td>0.0</td><td>0.0</td><td>24.0</td><td>0.0</td><td>0.0</td><td>0.0</td></tr><tr><th>13</th><td>0.0</td><td>1.0</td><td>1.0</td><td>1.0</td><td>25.0</td><td>1.0</td><td>0.0</td><td>0.0</td></tr><tr><th>14</th><td>0.0</td><td>1.0</td><td>1.0</td><td>1.0</td><td>30.0</td><td>0.0</td><td>0.0</td><td>0.0</td></tr><tr><th>15</th><td>0.0</td><td>1.0</td><td>1.0</td><td>1.0</td><td>31.0</td><td>1.0</td><td>0.0</td><td>0.0</td></tr><tr><th>16</th><td>0.0</td><td>0.0</td><td>0.0</td><td>1.0</td><td>24.0</td><td>0.0</td><td>0.0</td><td>0.0</td></tr><tr><th>17</th><td>0.0</td><td>0.0</td><td>0.0</td><td>1.0</td><td>26.0</td><td>0.0</td><td>0.0</td><td>0.0</td></tr><tr><th>18</th><td>0.0</td><td>1.0</td><td>1.0</td><td>1.0</td><td>26.0</td><td>1.0</td><td>0.0</td><td>1.0</td></tr><tr><th>19</th><td>0.0</td><td>0.0</td><td>0.0</td><td>1.0</td><td>35.0</td><td>0.0</td><td>0.0</td><td>0.0</td></tr><tr><th>20</th><td>0.0</td><td>1.0</td><td>0.0</td><td>1.0</td><td>35.0</td><td>1.0</td><td>0.0</td><td>0.0</td></tr><tr><th>21</th><td>0.0</td><td>0.0</td><td>0.0</td><td>1.0</td><td>31.0</td><td>0.0</td><td>0.0</td><td>0.0</td></tr><tr><th>22</th><td>0.0</td><td>1.0</td><td>1.0</td><td>1.0</td><td>33.0</td><td>1.0</td><td>0.0</td><td>0.0</td></tr><tr><th>23</th><td>0.0</td><td>0.0</td><td>0.0</td><td>1.0</td><td>25.0</td><td>0.0</td><td>0.0</td><td>0.0</td></tr><tr><th>24</th><td>0.0</td><td>0.0</td><td>0.0</td><td>1.0</td><td>21.0</td><td>0.0</td><td>0.0</td><td>0.0</td></tr><tr><th>25</th><td>0.0</td><td>0.0</td><td>0.0</td><td>1.0</td><td>37.0</td><td>1.0</td><td>0.0</td><td>0.0</td></tr><tr><th>26</th><td>0.0</td><td>0.0</td><td>0.0</td><td>1.0</td><td>23.0</td><td>0.0</td><td>0.0</td><td>0.0</td></tr><tr><th>27</th><td>0.0</td><td>0.0</td><td>0.0</td><td>1.0</td><td>22.0</td><td>0.0</td><td>0.0</td><td>0.0</td></tr><tr><th>28</th><td>0.0</td><td>0.0</td><td>1.0</td><td>1.0</td><td>29.0</td><td>0.0</td><td>0.0</td><td>0.0</td></tr><tr><th>29</th><td>0.0</td><td>0.0</td><td>0.0</td><td>1.0</td><td>26.0</td><td>0.0</td><td>0.0</td><td>0.0</td></tr><tr><th>30</th><td>0.0</td><td>1.0</td><td>1.0</td><td>1.0</td><td>32.0</td><td>0.0</td><td>0.0</td><td>0.0</td></tr><tr><th>&vellip;</th><td>&vellip;</td><td>&vellip;</td><td>&vellip;</td><td>&vellip;</td><td>&vellip;</td><td>&vellip;</td><td>&vellip;</td><td>&vellip;</td></tr></tbody></table></div>"
      ],
      "text/latex": [
       "\\begin{tabular}{r|ccccccccc}\n",
       "\t& Diabetes\\_binary & HighBP & HighChol & CholCheck & BMI & Smoker & Stroke & HeartDiseaseorAttack & \\\\\n",
       "\t\\hline\n",
       "\t& Float64 & Float64 & Float64 & Float64 & Float64 & Float64 & Float64 & Float64 & \\\\\n",
       "\t\\hline\n",
       "\t1 & 0.0 & 0.0 & 1.0 & 1.0 & 25.0 & 1.0 & 0.0 & 0.0 & $\\dots$ \\\\\n",
       "\t2 & 0.0 & 0.0 & 0.0 & 0.0 & 25.0 & 1.0 & 0.0 & 0.0 & $\\dots$ \\\\\n",
       "\t3 & 0.0 & 1.0 & 1.0 & 1.0 & 29.0 & 1.0 & 0.0 & 0.0 & $\\dots$ \\\\\n",
       "\t4 & 0.0 & 0.0 & 0.0 & 1.0 & 26.0 & 1.0 & 0.0 & 0.0 & $\\dots$ \\\\\n",
       "\t5 & 0.0 & 0.0 & 0.0 & 1.0 & 29.0 & 1.0 & 0.0 & 0.0 & $\\dots$ \\\\\n",
       "\t6 & 0.0 & 0.0 & 0.0 & 0.0 & 24.0 & 0.0 & 0.0 & 0.0 & $\\dots$ \\\\\n",
       "\t7 & 0.0 & 1.0 & 1.0 & 1.0 & 36.0 & 0.0 & 0.0 & 0.0 & $\\dots$ \\\\\n",
       "\t8 & 0.0 & 0.0 & 0.0 & 1.0 & 26.0 & 1.0 & 0.0 & 0.0 & $\\dots$ \\\\\n",
       "\t9 & 0.0 & 0.0 & 0.0 & 1.0 & 21.0 & 0.0 & 0.0 & 0.0 & $\\dots$ \\\\\n",
       "\t10 & 0.0 & 1.0 & 1.0 & 1.0 & 23.0 & 1.0 & 0.0 & 1.0 & $\\dots$ \\\\\n",
       "\t11 & 0.0 & 1.0 & 1.0 & 1.0 & 27.0 & 0.0 & 0.0 & 0.0 & $\\dots$ \\\\\n",
       "\t12 & 0.0 & 0.0 & 0.0 & 0.0 & 24.0 & 0.0 & 0.0 & 0.0 & $\\dots$ \\\\\n",
       "\t13 & 0.0 & 1.0 & 1.0 & 1.0 & 25.0 & 1.0 & 0.0 & 0.0 & $\\dots$ \\\\\n",
       "\t14 & 0.0 & 1.0 & 1.0 & 1.0 & 30.0 & 0.0 & 0.0 & 0.0 & $\\dots$ \\\\\n",
       "\t15 & 0.0 & 1.0 & 1.0 & 1.0 & 31.0 & 1.0 & 0.0 & 0.0 & $\\dots$ \\\\\n",
       "\t16 & 0.0 & 0.0 & 0.0 & 1.0 & 24.0 & 0.0 & 0.0 & 0.0 & $\\dots$ \\\\\n",
       "\t17 & 0.0 & 0.0 & 0.0 & 1.0 & 26.0 & 0.0 & 0.0 & 0.0 & $\\dots$ \\\\\n",
       "\t18 & 0.0 & 1.0 & 1.0 & 1.0 & 26.0 & 1.0 & 0.0 & 1.0 & $\\dots$ \\\\\n",
       "\t19 & 0.0 & 0.0 & 0.0 & 1.0 & 35.0 & 0.0 & 0.0 & 0.0 & $\\dots$ \\\\\n",
       "\t20 & 0.0 & 1.0 & 0.0 & 1.0 & 35.0 & 1.0 & 0.0 & 0.0 & $\\dots$ \\\\\n",
       "\t21 & 0.0 & 0.0 & 0.0 & 1.0 & 31.0 & 0.0 & 0.0 & 0.0 & $\\dots$ \\\\\n",
       "\t22 & 0.0 & 1.0 & 1.0 & 1.0 & 33.0 & 1.0 & 0.0 & 0.0 & $\\dots$ \\\\\n",
       "\t23 & 0.0 & 0.0 & 0.0 & 1.0 & 25.0 & 0.0 & 0.0 & 0.0 & $\\dots$ \\\\\n",
       "\t24 & 0.0 & 0.0 & 0.0 & 1.0 & 21.0 & 0.0 & 0.0 & 0.0 & $\\dots$ \\\\\n",
       "\t25 & 0.0 & 0.0 & 0.0 & 1.0 & 37.0 & 1.0 & 0.0 & 0.0 & $\\dots$ \\\\\n",
       "\t26 & 0.0 & 0.0 & 0.0 & 1.0 & 23.0 & 0.0 & 0.0 & 0.0 & $\\dots$ \\\\\n",
       "\t27 & 0.0 & 0.0 & 0.0 & 1.0 & 22.0 & 0.0 & 0.0 & 0.0 & $\\dots$ \\\\\n",
       "\t28 & 0.0 & 0.0 & 1.0 & 1.0 & 29.0 & 0.0 & 0.0 & 0.0 & $\\dots$ \\\\\n",
       "\t29 & 0.0 & 0.0 & 0.0 & 1.0 & 26.0 & 0.0 & 0.0 & 0.0 & $\\dots$ \\\\\n",
       "\t30 & 0.0 & 1.0 & 1.0 & 1.0 & 32.0 & 0.0 & 0.0 & 0.0 & $\\dots$ \\\\\n",
       "\t$\\dots$ & $\\dots$ & $\\dots$ & $\\dots$ & $\\dots$ & $\\dots$ & $\\dots$ & $\\dots$ & $\\dots$ &  \\\\\n",
       "\\end{tabular}\n"
      ],
      "text/plain": [
       "\u001b[1m70692×22 DataFrame\u001b[0m\n",
       "\u001b[1m   Row \u001b[0m│\u001b[1m Diabetes_binary \u001b[0m\u001b[1m HighBP  \u001b[0m\u001b[1m HighChol \u001b[0m\u001b[1m CholCheck \u001b[0m\u001b[1m BMI     \u001b[0m\u001b[1m Smoker  \u001b[0m\u001b[1m Stro\u001b[0m ⋯\n",
       "\u001b[1m       \u001b[0m│\u001b[90m Float64         \u001b[0m\u001b[90m Float64 \u001b[0m\u001b[90m Float64  \u001b[0m\u001b[90m Float64   \u001b[0m\u001b[90m Float64 \u001b[0m\u001b[90m Float64 \u001b[0m\u001b[90m Floa\u001b[0m ⋯\n",
       "───────┼────────────────────────────────────────────────────────────────────────\n",
       "     1 │             0.0      0.0       1.0        1.0     25.0      1.0       ⋯\n",
       "     2 │             0.0      0.0       0.0        0.0     25.0      1.0\n",
       "     3 │             0.0      1.0       1.0        1.0     29.0      1.0\n",
       "     4 │             0.0      0.0       0.0        1.0     26.0      1.0\n",
       "     5 │             0.0      0.0       0.0        1.0     29.0      1.0       ⋯\n",
       "     6 │             0.0      0.0       0.0        0.0     24.0      0.0\n",
       "     7 │             0.0      1.0       1.0        1.0     36.0      0.0\n",
       "     8 │             0.0      0.0       0.0        1.0     26.0      1.0\n",
       "     9 │             0.0      0.0       0.0        1.0     21.0      0.0       ⋯\n",
       "    10 │             0.0      1.0       1.0        1.0     23.0      1.0\n",
       "    11 │             0.0      1.0       1.0        1.0     27.0      0.0\n",
       "   ⋮   │        ⋮            ⋮        ⋮          ⋮         ⋮        ⋮        ⋮ ⋱\n",
       " 70683 │             1.0      1.0       0.0        1.0     37.0      0.0\n",
       " 70684 │             1.0      1.0       0.0        1.0     28.0      0.0       ⋯\n",
       " 70685 │             1.0      1.0       1.0        1.0     27.0      0.0\n",
       " 70686 │             1.0      1.0       0.0        1.0     38.0      0.0\n",
       " 70687 │             1.0      0.0       1.0        1.0     27.0      0.0\n",
       " 70688 │             1.0      0.0       1.0        1.0     37.0      0.0       ⋯\n",
       " 70689 │             1.0      0.0       1.0        1.0     29.0      1.0\n",
       " 70690 │             1.0      1.0       1.0        1.0     25.0      0.0\n",
       " 70691 │             1.0      1.0       1.0        1.0     18.0      0.0\n",
       " 70692 │             1.0      1.0       1.0        1.0     25.0      0.0       ⋯\n",
       "\u001b[36m                                               16 columns and 70671 rows omitted\u001b[0m"
      ]
     },
     "execution_count": 20,
     "metadata": {},
     "output_type": "execute_result"
    }
   ],
   "source": [
    "using ZipFile, CSV, DataFrames, Random, StatsBase , Plots, Statistics\n",
    "\n",
    "# read file from zip archive\n",
    "\n",
    "z = ZipFile.Reader(\"results.zip\")\n",
    "\n",
    "# identify the right file in zip\n",
    "\n",
    "# The diabetes dataset I found through kaggle have done split into 2 classifiers and select 50 percents of result from each \n",
    "# label. So i think there is more work in my dataset\n",
    "\n",
    "a_file_in_zip = filter(x->x.name == \"diabetes_binary_5050split_health_indicators_BRFSS2015.csv\", z.files)[1]\n",
    "\n",
    "#avoid changing the original files in the zip file. However, the dataset will not change but whatever.\n",
    "\n",
    "a_copy = CSV.File(a_file_in_zip) |> DataFrame\n",
    "\n",
    "close(z)\n",
    "\n",
    "#show the dataset\n",
    "\n",
    "a_copy"
   ]
  },
  {
   "cell_type": "code",
   "execution_count": null,
   "id": "central-circle",
   "metadata": {},
   "outputs": [
    {
     "data": {
      "text/plain": [
       "35346×22 Matrix{Float64}:\n",
       " 1.0  1.0  1.0  1.0  30.0  1.0  0.0  1.0  …  30.0  1.0  0.0   9.0  5.0  1.0\n",
       " 1.0  0.0  0.0  1.0  25.0  1.0  0.0  0.0      0.0  0.0  1.0  13.0  6.0  8.0\n",
       " 1.0  1.0  1.0  1.0  28.0  0.0  0.0  0.0      0.0  1.0  0.0  11.0  4.0  6.0\n",
       " 1.0  0.0  0.0  1.0  23.0  1.0  0.0  0.0      0.0  0.0  1.0   7.0  5.0  6.0\n",
       " 1.0  1.0  0.0  1.0  27.0  0.0  0.0  0.0      0.0  0.0  0.0  13.0  5.0  4.0\n",
       " 1.0  1.0  1.0  1.0  37.0  1.0  1.0  1.0  …   0.0  1.0  1.0  10.0  6.0  5.0\n",
       " 1.0  1.0  1.0  1.0  28.0  1.0  0.0  1.0      0.0  0.0  1.0  12.0  2.0  4.0\n",
       " 1.0  1.0  1.0  1.0  27.0  1.0  0.0  0.0     20.0  1.0  0.0   8.0  4.0  7.0\n",
       " 1.0  1.0  1.0  1.0  34.0  1.0  1.0  0.0      7.0  1.0  0.0   9.0  5.0  4.0\n",
       " 1.0  1.0  1.0  1.0  24.0  1.0  0.0  0.0      0.0  0.0  0.0  12.0  3.0  3.0\n",
       " 1.0  1.0  0.0  1.0  31.0  0.0  0.0  0.0  …   5.0  0.0  0.0  13.0  4.0  4.0\n",
       " 1.0  1.0  1.0  1.0  33.0  1.0  0.0  0.0     30.0  1.0  0.0  11.0  4.0  2.0\n",
       " 1.0  1.0  1.0  1.0  27.0  1.0  0.0  0.0     30.0  1.0  0.0  10.0  4.0  5.0\n",
       " ⋮                         ⋮              ⋱                        ⋮    \n",
       " 1.0  1.0  1.0  1.0  30.0  0.0  0.0  0.0     30.0  1.0  0.0  11.0  2.0  2.0\n",
       " 1.0  0.0  1.0  1.0  19.0  0.0  0.0  0.0  …   2.0  0.0  0.0   7.0  6.0  6.0\n",
       " 1.0  1.0  0.0  1.0  37.0  0.0  0.0  0.0     30.0  1.0  0.0   9.0  2.0  1.0\n",
       " 1.0  1.0  0.0  1.0  28.0  0.0  0.0  0.0      0.0  0.0  0.0  10.0  4.0  3.0\n",
       " 1.0  1.0  1.0  1.0  27.0  0.0  0.0  1.0      5.0  0.0  1.0   9.0  4.0  5.0\n",
       " 1.0  1.0  0.0  1.0  38.0  0.0  0.0  0.0      0.0  0.0  0.0   7.0  6.0  2.0\n",
       " 1.0  0.0  1.0  1.0  27.0  0.0  0.0  0.0  …  30.0  0.0  1.0  11.0  2.0  3.0\n",
       " 1.0  0.0  1.0  1.0  37.0  0.0  0.0  0.0      0.0  0.0  0.0   6.0  4.0  1.0\n",
       " 1.0  0.0  1.0  1.0  29.0  1.0  0.0  1.0      0.0  1.0  1.0  10.0  3.0  6.0\n",
       " 1.0  1.0  1.0  1.0  25.0  0.0  0.0  1.0      0.0  1.0  0.0  13.0  6.0  4.0\n",
       " 1.0  1.0  1.0  1.0  18.0  0.0  0.0  0.0      0.0  1.0  0.0  11.0  2.0  4.0\n",
       " 1.0  1.0  1.0  1.0  25.0  0.0  0.0  1.0  …   0.0  0.0  0.0   9.0  6.0  2.0"
      ]
     },
     "execution_count": 21,
     "metadata": {},
     "output_type": "execute_result"
    }
   ],
   "source": [
    "# Transfer DataFrame to matrix form\n",
    "\n",
    "df=a_copy|>Tables.matrix\n",
    "\n",
    "# Transfer the dataset to 2-classifiers. df_0 represents the result is 0, df_1 represents the result is 1.\n",
    "# Due to my datasset is binary problems, and each result is 50 percents of the whole dataset. So i didn't add any other pre-actions for dataset. \n",
    "\n",
    "df_0 = df[df[:,1] .== 0, :]\n",
    "df_1 = df[df[:,1] .== 1, :]"
   ]
  },
  {
   "cell_type": "code",
   "execution_count": null,
   "id": "fancy-major",
   "metadata": {},
   "outputs": [
    {
     "data": {
      "text/plain": [
       "21226×22 Matrix{Float64}:\n",
       " 0.0  0.0  0.0  0.0  25.0  1.0  0.0  0.0  …   0.0  0.0  0.0  11.0  6.0  8.0\n",
       " 0.0  1.0  1.0  1.0  29.0  1.0  0.0  0.0      1.0  0.0  1.0  13.0  5.0  8.0\n",
       " 0.0  0.0  0.0  1.0  29.0  1.0  0.0  0.0      0.0  0.0  1.0   4.0  4.0  4.0\n",
       " 0.0  1.0  1.0  1.0  36.0  0.0  0.0  0.0      2.0  0.0  1.0  11.0  6.0  8.0\n",
       " 0.0  0.0  0.0  1.0  26.0  1.0  0.0  0.0     15.0  0.0  0.0   7.0  5.0  8.0\n",
       " 0.0  1.0  1.0  1.0  23.0  1.0  0.0  1.0  …   0.0  0.0  0.0   6.0  4.0  6.0\n",
       " 0.0  1.0  1.0  1.0  25.0  1.0  0.0  0.0      0.0  0.0  1.0  11.0  6.0  8.0\n",
       " 0.0  0.0  0.0  1.0  35.0  0.0  0.0  0.0      0.0  0.0  1.0   7.0  4.0  7.0\n",
       " 0.0  0.0  0.0  1.0  21.0  0.0  0.0  0.0      0.0  0.0  0.0   3.0  4.0  6.0\n",
       " 0.0  1.0  1.0  1.0  27.0  0.0  0.0  0.0      0.0  0.0  0.0  11.0  4.0  3.0\n",
       " 0.0  0.0  0.0  1.0  21.0  0.0  0.0  0.0  …   0.0  0.0  0.0  11.0  5.0  7.0\n",
       " 0.0  1.0  0.0  1.0  92.0  0.0  0.0  0.0      0.0  1.0  0.0   7.0  6.0  5.0\n",
       " 0.0  0.0  0.0  1.0  27.0  0.0  0.0  0.0      1.0  0.0  0.0   6.0  6.0  7.0\n",
       " ⋮                         ⋮              ⋱                        ⋮    \n",
       " 1.0  1.0  0.0  1.0  30.0  0.0  0.0  0.0      0.0  0.0  0.0  11.0  4.0  3.0\n",
       " 1.0  0.0  1.0  1.0  35.0  0.0  0.0  0.0  …   6.0  1.0  0.0  10.0  6.0  5.0\n",
       " 1.0  1.0  1.0  1.0  32.0  0.0  0.0  0.0     30.0  1.0  0.0   9.0  4.0  2.0\n",
       " 1.0  1.0  1.0  1.0  29.0  0.0  1.0  0.0      7.0  1.0  1.0  11.0  5.0  4.0\n",
       " 1.0  1.0  1.0  1.0  36.0  1.0  0.0  0.0      0.0  0.0  1.0   6.0  4.0  1.0\n",
       " 1.0  0.0  0.0  1.0  39.0  0.0  0.0  0.0      0.0  0.0  0.0   4.0  5.0  4.0\n",
       " 1.0  1.0  1.0  1.0  36.0  0.0  0.0  0.0  …   0.0  0.0  0.0  10.0  4.0  1.0\n",
       " 1.0  1.0  0.0  1.0  38.0  0.0  0.0  0.0     20.0  1.0  0.0   6.0  4.0  3.0\n",
       " 1.0  1.0  1.0  1.0  32.0  1.0  0.0  1.0     30.0  1.0  1.0  10.0  3.0  2.0\n",
       " 1.0  1.0  1.0  1.0  25.0  0.0  0.0  0.0      0.0  0.0  0.0  11.0  5.0  4.0\n",
       " 1.0  1.0  0.0  1.0  30.0  0.0  0.0  1.0      4.0  0.0  0.0  12.0  5.0  2.0\n",
       " 1.0  1.0  1.0  1.0  30.0  1.0  0.0  1.0  …  30.0  0.0  1.0   9.0  4.0  1.0"
      ]
     },
     "execution_count": 22,
     "metadata": {},
     "output_type": "execute_result"
    }
   ],
   "source": [
    "# The columns of matrix is 35346(here just using 35000 is the same), using random sub-sequence to select 70 percents of \n",
    "# columns as the train data.\n",
    "\n",
    "sample = randsubseq(1:35000, 0.7)\n",
    "train_df = vcat(df_0[sample, :], df_1[sample, :])\n",
    "\n",
    "# Then from the not selected columns (which is 30 percents) to select the test data.\n",
    "\n",
    "notsample = [i for i in 1:35000 if isempty(searchsorted(sample, i))]\n",
    "test_df = vcat(df_0[notsample, :], df_1[notsample, :])"
   ]
  },
  {
   "cell_type": "code",
   "execution_count": null,
   "id": "obvious-springer",
   "metadata": {},
   "outputs": [
    {
     "data": {
      "text/plain": [
       "21226-element Vector{Float64}:\n",
       " 0.0\n",
       " 0.0\n",
       " 0.0\n",
       " 0.0\n",
       " 0.0\n",
       " 0.0\n",
       " 0.0\n",
       " 0.0\n",
       " 0.0\n",
       " 0.0\n",
       " 0.0\n",
       " 0.0\n",
       " 0.0\n",
       " ⋮\n",
       " 1.0\n",
       " 1.0\n",
       " 1.0\n",
       " 1.0\n",
       " 1.0\n",
       " 1.0\n",
       " 1.0\n",
       " 1.0\n",
       " 1.0\n",
       " 1.0\n",
       " 1.0\n",
       " 1.0"
      ]
     },
     "execution_count": 23,
     "metadata": {},
     "output_type": "execute_result"
    }
   ],
   "source": [
    "# Divide the columns into features and result. From my dataset, From 2 to 22 columns are the attributes of whether diabetes or not.\n",
    "\n",
    "X_train = train_df[:, 2:22]\n",
    "X_test = test_df[:, 2:22]\n",
    "\n",
    "y_train = train_df[:, 1]\n",
    "y_test = test_df[:, 1]"
   ]
  },
  {
   "cell_type": "code",
   "execution_count": null,
   "id": "aerial-briefs",
   "metadata": {},
   "outputs": [
    {
     "data": {
      "text/plain": [
       "([-1.145797733050531 -1.145797733050531 … 0.8727364947832692 0.8727364947832692; 0.9490452484555988 -1.0536689361233558 … -1.0536689361233558 -1.0536689361233558; … ; 0.07620955905525127 1.0482401640136292 … -1.8678516508615044 -0.8958210459031265; 0.5946181844448918 1.0547322110998474 … -0.7857238955199749 -0.7857238955199749], [-1.145797733050531 0.8727364947832692 … 0.8727364947832692 0.8727364947832692; -1.0536689361233558 0.9490452484555988 … -1.0536689361233558 0.9490452484555988; … ; 1.0482401640136292 0.07620955905525127 … 0.07620955905525127 -0.8958210459031265; 1.0547322110998474 1.0547322110998474 … -1.705951948829886 -2.1660659754848415])"
      ]
     },
     "execution_count": 24,
     "metadata": {},
     "output_type": "execute_result"
    }
   ],
   "source": [
    "using Distributions\n",
    "\n",
    "# Transfer the X_train to 1 diminension.\n",
    "\n",
    "dt = fit(ZScoreTransform, X_train, dims=1)\n",
    "\n",
    "# Using StateBase package to transfer X_train and X_test(make them standard) to the same formate as dt.\n",
    "\n",
    "X_train_std = StatsBase.transform(dt, X_train)\n",
    "X_test_std = StatsBase.transform(dt, X_test)\n",
    "\n",
    "# Transpose the X_train_std and X_test_std.\n",
    "    \n",
    "X_train_std, X_test_std= transpose(X_train_std), transpose(X_test_std)"
   ]
  },
  {
   "cell_type": "code",
   "execution_count": null,
   "id": "colored-decade",
   "metadata": {},
   "outputs": [
    {
     "data": {
      "text/plain": [
       "PyObject <xcs.scenarios.PreClassifiedData object at 0x00000000567C3760>"
      ]
     },
     "execution_count": 25,
     "metadata": {},
     "output_type": "execute_result"
    }
   ],
   "source": [
    "scenario = PreClassifiedData(X_train, y_train)"
   ]
  },
  {
   "cell_type": "code",
   "execution_count": null,
   "id": "stretch-sudan",
   "metadata": {},
   "outputs": [
    {
     "data": {
      "text/plain": [
       "PyObject <xcs.ClassifierSet object at 0x0000000062223E80>"
      ]
     },
     "execution_count": 26,
     "metadata": {},
     "output_type": "execute_result"
    }
   ],
   "source": [
    "model = algorithm.new_model(scenario)\n"
   ]
  },
  {
   "cell_type": "code",
   "execution_count": null,
   "id": "universal-baghdad",
   "metadata": {},
   "outputs": [
    {
     "data": {
      "text/plain": [
       "PyObject <xcs.ClassifierSet object at 0x0000000065CFAEB0>"
      ]
     },
     "execution_count": 27,
     "metadata": {},
     "output_type": "execute_result"
    }
   ],
   "source": [
    "model = algorithm.run(scenario)\n"
   ]
  },
  {
   "cell_type": "code",
   "execution_count": null,
   "id": "mature-muslim",
   "metadata": {},
   "outputs": [
    {
     "name": "stderr",
     "output_type": "stream",
     "text": [
      "INFO:__main__:Classifiers:\r\n",
      "\r\n",
      "1#011##111#011000#111 => 1.0\r\n",
      "    Time Stamp: 6055\r\n",
      "    Average Reward: 1e-05\r\n",
      "    Error: 1e-05\r\n",
      "    Fitness: 1e-05\r\n",
      "    Experience: 0\r\n",
      "    Action Set Size: 1\r\n",
      "    Numerosity: 1\r\n",
      "#0010#01#1###11001#1# => 1.0\r\n",
      "    Time Stamp: 6384\r\n",
      "    Average Reward: 1e-05\r\n",
      "    Error: 1e-05\r\n",
      "    Fitness: 1e-05\r\n",
      "    Experience: 0\r\n",
      "    Action Set Size: 1\r\n",
      "    Numerosity: 1\r\n",
      "0#0110##011101#0#111# => 1.0\r\n",
      "    Time Stamp: 6670\r\n",
      "    Average Reward: 1e-05\r\n",
      "    Error: 1e-05\r\n",
      "    Fitness: 1e-05\r\n",
      "    Experience: 0\r\n",
      "    Action Set Size: 1\r\n",
      "    Numerosity: 1\r\n",
      "000#0001#1011111#011# => 1.0\r\n",
      "    Time Stamp: 6944\r\n",
      "    Average Reward: 1e-05\r\n",
      "    Error: 1e-05\r\n",
      "    Fitness: 1e-05\r\n",
      "    Experience: 0\r\n",
      "    Action Set Size: 1\r\n",
      "    Numerosity: 1\r\n",
      "001#111000#1011100### => 1.0\r\n",
      "    Time Stamp: 7223\r\n",
      "    Average Reward: 1e-05\r\n",
      "    Error: 1e-05\r\n",
      "    Fitness: 1e-05\r\n",
      "    Experience: 0\r\n",
      "    Action Set Size: 1\r\n",
      "    Numerosity: 1\r\n",
      "011#10001##00101##111 => 1.0\r\n",
      "    Time Stamp: 7417\r\n",
      "    Average Reward: 1e-05\r\n",
      "    Error: 1e-05\r\n",
      "    Fitness: 1e-05\r\n",
      "    Experience: 0\r\n",
      "    Action Set Size: 1\r\n",
      "    Numerosity: 1\r\n",
      "#00###010#0##11001111 => 1.0\r\n",
      "    Time Stamp: 7837\r\n",
      "    Average Reward: 1e-05\r\n",
      "    Error: 1e-05\r\n",
      "    Fitness: 1e-05\r\n",
      "    Experience: 0\r\n",
      "    Action Set Size: 1\r\n",
      "    Numerosity: 1\r\n",
      "#00110011#000#00#0111 => 1.0\r\n",
      "    Time Stamp: 7909\r\n",
      "    Average Reward: 1e-05\r\n",
      "    Error: 1e-05\r\n",
      "    Fitness: 1e-05\r\n",
      "    Experience: 0\r\n",
      "    Action Set Size: 1\r\n",
      "    Numerosity: 1\r\n",
      "11110#01#1101#00#0111 => 1.0\r\n",
      "    Time Stamp: 8643\r\n",
      "    Average Reward: 1e-05\r\n",
      "    Error: 1e-05\r\n",
      "    Fitness: 1e-05\r\n",
      "    Experience: 0\r\n",
      "    Action Set Size: 1\r\n",
      "    Numerosity: 1\r\n",
      "00#1#111##00#1#11#1## => 1.0\r\n",
      "    Time Stamp: 9276\r\n",
      "    Average Reward: 1e-05\r\n",
      "    Error: 1e-05\r\n",
      "    Fitness: 1e-05\r\n",
      "    Experience: 0\r\n",
      "    Action Set Size: 1\r\n",
      "    Numerosity: 1\r\n",
      "1#011011#1#0#1#1#0#11 => 1.0\r\n",
      "    Time Stamp: 9559\r\n",
      "    Average Reward: 1e-05\r\n",
      "    Error: 1e-05\r\n",
      "    Fitness: 1e-05\r\n",
      "    Experience: 0\r\n",
      "    Action Set Size: 1\r\n",
      "    Numerosity: 1\r\n",
      "##010##1110##110001#1 => 1.0\r\n",
      "    Time Stamp: 12967\r\n",
      "    Average Reward: 1e-05\r\n",
      "    Error: 1e-05\r\n",
      "    Fitness: 1e-05\r\n",
      "    Experience: 0\r\n",
      "    Action Set Size: 1\r\n",
      "    Numerosity: 1\r\n",
      "#001#11011#01##1##1#1 => 1.0\r\n",
      "    Time Stamp: 20973\r\n",
      "    Average Reward: 1e-05\r\n",
      "    Error: 1e-05\r\n",
      "    Fitness: 1e-05\r\n",
      "    Experience: 0\r\n",
      "    Action Set Size: 1\r\n",
      "    Numerosity: 1\r\n",
      "01#1111###1#0##001#1# => 1.0\r\n",
      "    Time Stamp: 23778\r\n",
      "    Average Reward: 1e-05\r\n",
      "    Error: 1e-05\r\n",
      "    Fitness: 1e-05\r\n",
      "    Experience: 0\r\n",
      "    Action Set Size: 1\r\n",
      "    Numerosity: 1\r\n",
      "#0011#00#00#1101#11#1 => 1.0\r\n",
      "    Time Stamp: 12266\r\n",
      "    Average Reward: 0.0\r\n",
      "    Error: 0.0\r\n",
      "    Fitness: 0.015000850000000003\r\n",
      "    Experience: 0\r\n",
      "    Action Set Size: 1\r\n",
      "    Numerosity: 1\r\n",
      "#01#1001###01#0011111 => 0.0\r\n",
      "    Time Stamp: 5134\r\n",
      "    Average Reward: 1.0\r\n",
      "    Error: 0.0\r\n",
      "    Fitness: 0.15000850000000002\r\n",
      "    Experience: 1\r\n",
      "    Action Set Size: 1.0\r\n",
      "    Numerosity: 1\r\n",
      "##################### => 0.0\r\n",
      "    Time Stamp: 48661\r\n",
      "    Average Reward: 1.375395104778364e-89\r\n",
      "    Error: 2.597433655373947e-87\r\n",
      "    Fitness: 0.9999999999999997\r\n",
      "    Experience: 8001\r\n",
      "    Action Set Size: 79.08639241694212\r\n",
      "    Numerosity: 76\r\n",
      "##################### => 1.0\r\n",
      "    Time Stamp: 48754\r\n",
      "    Average Reward: 1.0\r\n",
      "    Error: 0.0\r\n",
      "    Fitness: 0.9999999999999997\r\n",
      "    Experience: 22807\r\n",
      "    Action Set Size: 107.9611285536254\r\n",
      "    Numerosity: 108\r\n",
      "\r\n"
     ]
    }
   ],
   "source": [
    "py\"outputmodel\"(model)"
   ]
  },
  {
   "cell_type": "code",
   "execution_count": null,
   "id": "missing-pharmacy",
   "metadata": {},
   "outputs": [
    {
     "name": "stdout",
     "output_type": "stream",
     "text": [
      "18"
     ]
    }
   ],
   "source": [
    "print(length(model))"
   ]
  }
 ],
 "metadata": {
  "kernelspec": {
   "display_name": "Julia 1.6.5",
   "language": "julia",
   "name": "julia-1.6"
  },
  "language_info": {
   "file_extension": ".jl",
   "mimetype": "application/julia",
   "name": "julia",
   "version": "1.6.5"
  }
 },
 "nbformat": 4,
 "nbformat_minor": 5
}
