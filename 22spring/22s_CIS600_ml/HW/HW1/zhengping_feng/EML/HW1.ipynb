{
 "cells": [
  {
   "cell_type": "code",
   "execution_count": 39,
   "id": "bc980825",
   "metadata": {},
   "outputs": [],
   "source": [
    "#import the packet\n",
    "using Plots\n",
    "using ProgressBars\n",
    "using Flux\n",
    "using Flux: onehot\n",
    "using Flux: Data.DataLoader\n",
    "using Flux: onehotbatch, onecold, crossentropy\n",
    "using Flux: @epochs\n",
    "using Statistics\n",
    "using MLDatasets\n",
    "using CSV\n",
    "using DataFrames\n",
    "using Random:shuffle\n",
    "using EvalMetrics"
   ]
  },
  {
   "cell_type": "code",
   "execution_count": 40,
   "id": "e7772a6d",
   "metadata": {
    "collapsed": true
   },
   "outputs": [
    {
     "data": {
      "text/html": [
       "<div class=\"data-frame\"><p>1,599 rows × 12 columns (omitted printing of 6 columns)</p><table class=\"data-frame\"><thead><tr><th></th><th>fixedacidity</th><th>volatileacidity</th><th>citricacid</th><th>residualsugar</th><th>chlorides</th><th>freesulfurdioxide</th></tr><tr><th></th><th title=\"Float64\">Float64</th><th title=\"Float64\">Float64</th><th title=\"Float64\">Float64</th><th title=\"Float64\">Float64</th><th title=\"Float64\">Float64</th><th title=\"Float64\">Float64</th></tr></thead><tbody><tr><th>1</th><td>7.0</td><td>0.27</td><td>0.36</td><td>20.7</td><td>0.045</td><td>45.0</td></tr><tr><th>2</th><td>6.3</td><td>0.3</td><td>0.34</td><td>1.6</td><td>0.049</td><td>14.0</td></tr><tr><th>3</th><td>8.1</td><td>0.28</td><td>0.4</td><td>6.9</td><td>0.05</td><td>30.0</td></tr><tr><th>4</th><td>7.2</td><td>0.23</td><td>0.32</td><td>8.5</td><td>0.058</td><td>47.0</td></tr><tr><th>5</th><td>7.2</td><td>0.23</td><td>0.32</td><td>8.5</td><td>0.058</td><td>47.0</td></tr><tr><th>6</th><td>8.1</td><td>0.28</td><td>0.4</td><td>6.9</td><td>0.05</td><td>30.0</td></tr><tr><th>7</th><td>6.2</td><td>0.32</td><td>0.16</td><td>7.0</td><td>0.045</td><td>30.0</td></tr><tr><th>8</th><td>7.0</td><td>0.27</td><td>0.36</td><td>20.7</td><td>0.045</td><td>45.0</td></tr><tr><th>9</th><td>6.3</td><td>0.3</td><td>0.34</td><td>1.6</td><td>0.049</td><td>14.0</td></tr><tr><th>10</th><td>8.1</td><td>0.22</td><td>0.43</td><td>1.5</td><td>0.044</td><td>28.0</td></tr><tr><th>11</th><td>8.1</td><td>0.27</td><td>0.41</td><td>1.45</td><td>0.033</td><td>11.0</td></tr><tr><th>12</th><td>8.6</td><td>0.23</td><td>0.4</td><td>4.2</td><td>0.035</td><td>17.0</td></tr><tr><th>13</th><td>7.9</td><td>0.18</td><td>0.37</td><td>1.2</td><td>0.04</td><td>16.0</td></tr><tr><th>14</th><td>6.6</td><td>0.16</td><td>0.4</td><td>1.5</td><td>0.044</td><td>48.0</td></tr><tr><th>15</th><td>8.3</td><td>0.42</td><td>0.62</td><td>19.25</td><td>0.04</td><td>41.0</td></tr><tr><th>16</th><td>6.6</td><td>0.17</td><td>0.38</td><td>1.5</td><td>0.032</td><td>28.0</td></tr><tr><th>17</th><td>6.3</td><td>0.48</td><td>0.04</td><td>1.1</td><td>0.046</td><td>30.0</td></tr><tr><th>18</th><td>6.2</td><td>0.66</td><td>0.48</td><td>1.2</td><td>0.029</td><td>29.0</td></tr><tr><th>19</th><td>7.4</td><td>0.34</td><td>0.42</td><td>1.1</td><td>0.033</td><td>17.0</td></tr><tr><th>20</th><td>6.5</td><td>0.31</td><td>0.14</td><td>7.5</td><td>0.044</td><td>34.0</td></tr><tr><th>21</th><td>6.2</td><td>0.66</td><td>0.48</td><td>1.2</td><td>0.029</td><td>29.0</td></tr><tr><th>22</th><td>6.4</td><td>0.31</td><td>0.38</td><td>2.9</td><td>0.038</td><td>19.0</td></tr><tr><th>23</th><td>6.8</td><td>0.26</td><td>0.42</td><td>1.7</td><td>0.049</td><td>41.0</td></tr><tr><th>24</th><td>7.6</td><td>0.67</td><td>0.14</td><td>1.5</td><td>0.074</td><td>25.0</td></tr><tr><th>25</th><td>6.6</td><td>0.27</td><td>0.41</td><td>1.3</td><td>0.052</td><td>16.0</td></tr><tr><th>26</th><td>7.0</td><td>0.25</td><td>0.32</td><td>9.0</td><td>0.046</td><td>56.0</td></tr><tr><th>27</th><td>6.9</td><td>0.24</td><td>0.35</td><td>1.0</td><td>0.052</td><td>35.0</td></tr><tr><th>28</th><td>7.0</td><td>0.28</td><td>0.39</td><td>8.7</td><td>0.051</td><td>32.0</td></tr><tr><th>29</th><td>7.4</td><td>0.27</td><td>0.48</td><td>1.1</td><td>0.047</td><td>17.0</td></tr><tr><th>30</th><td>7.2</td><td>0.32</td><td>0.36</td><td>2.0</td><td>0.033</td><td>37.0</td></tr><tr><th>&vellip;</th><td>&vellip;</td><td>&vellip;</td><td>&vellip;</td><td>&vellip;</td><td>&vellip;</td><td>&vellip;</td></tr></tbody></table></div>"
      ],
      "text/latex": [
       "\\begin{tabular}{r|ccccccc}\n",
       "\t& fixedacidity & volatileacidity & citricacid & residualsugar & chlorides & freesulfurdioxide & \\\\\n",
       "\t\\hline\n",
       "\t& Float64 & Float64 & Float64 & Float64 & Float64 & Float64 & \\\\\n",
       "\t\\hline\n",
       "\t1 & 7.0 & 0.27 & 0.36 & 20.7 & 0.045 & 45.0 & $\\dots$ \\\\\n",
       "\t2 & 6.3 & 0.3 & 0.34 & 1.6 & 0.049 & 14.0 & $\\dots$ \\\\\n",
       "\t3 & 8.1 & 0.28 & 0.4 & 6.9 & 0.05 & 30.0 & $\\dots$ \\\\\n",
       "\t4 & 7.2 & 0.23 & 0.32 & 8.5 & 0.058 & 47.0 & $\\dots$ \\\\\n",
       "\t5 & 7.2 & 0.23 & 0.32 & 8.5 & 0.058 & 47.0 & $\\dots$ \\\\\n",
       "\t6 & 8.1 & 0.28 & 0.4 & 6.9 & 0.05 & 30.0 & $\\dots$ \\\\\n",
       "\t7 & 6.2 & 0.32 & 0.16 & 7.0 & 0.045 & 30.0 & $\\dots$ \\\\\n",
       "\t8 & 7.0 & 0.27 & 0.36 & 20.7 & 0.045 & 45.0 & $\\dots$ \\\\\n",
       "\t9 & 6.3 & 0.3 & 0.34 & 1.6 & 0.049 & 14.0 & $\\dots$ \\\\\n",
       "\t10 & 8.1 & 0.22 & 0.43 & 1.5 & 0.044 & 28.0 & $\\dots$ \\\\\n",
       "\t11 & 8.1 & 0.27 & 0.41 & 1.45 & 0.033 & 11.0 & $\\dots$ \\\\\n",
       "\t12 & 8.6 & 0.23 & 0.4 & 4.2 & 0.035 & 17.0 & $\\dots$ \\\\\n",
       "\t13 & 7.9 & 0.18 & 0.37 & 1.2 & 0.04 & 16.0 & $\\dots$ \\\\\n",
       "\t14 & 6.6 & 0.16 & 0.4 & 1.5 & 0.044 & 48.0 & $\\dots$ \\\\\n",
       "\t15 & 8.3 & 0.42 & 0.62 & 19.25 & 0.04 & 41.0 & $\\dots$ \\\\\n",
       "\t16 & 6.6 & 0.17 & 0.38 & 1.5 & 0.032 & 28.0 & $\\dots$ \\\\\n",
       "\t17 & 6.3 & 0.48 & 0.04 & 1.1 & 0.046 & 30.0 & $\\dots$ \\\\\n",
       "\t18 & 6.2 & 0.66 & 0.48 & 1.2 & 0.029 & 29.0 & $\\dots$ \\\\\n",
       "\t19 & 7.4 & 0.34 & 0.42 & 1.1 & 0.033 & 17.0 & $\\dots$ \\\\\n",
       "\t20 & 6.5 & 0.31 & 0.14 & 7.5 & 0.044 & 34.0 & $\\dots$ \\\\\n",
       "\t21 & 6.2 & 0.66 & 0.48 & 1.2 & 0.029 & 29.0 & $\\dots$ \\\\\n",
       "\t22 & 6.4 & 0.31 & 0.38 & 2.9 & 0.038 & 19.0 & $\\dots$ \\\\\n",
       "\t23 & 6.8 & 0.26 & 0.42 & 1.7 & 0.049 & 41.0 & $\\dots$ \\\\\n",
       "\t24 & 7.6 & 0.67 & 0.14 & 1.5 & 0.074 & 25.0 & $\\dots$ \\\\\n",
       "\t25 & 6.6 & 0.27 & 0.41 & 1.3 & 0.052 & 16.0 & $\\dots$ \\\\\n",
       "\t26 & 7.0 & 0.25 & 0.32 & 9.0 & 0.046 & 56.0 & $\\dots$ \\\\\n",
       "\t27 & 6.9 & 0.24 & 0.35 & 1.0 & 0.052 & 35.0 & $\\dots$ \\\\\n",
       "\t28 & 7.0 & 0.28 & 0.39 & 8.7 & 0.051 & 32.0 & $\\dots$ \\\\\n",
       "\t29 & 7.4 & 0.27 & 0.48 & 1.1 & 0.047 & 17.0 & $\\dots$ \\\\\n",
       "\t30 & 7.2 & 0.32 & 0.36 & 2.0 & 0.033 & 37.0 & $\\dots$ \\\\\n",
       "\t$\\dots$ & $\\dots$ & $\\dots$ & $\\dots$ & $\\dots$ & $\\dots$ & $\\dots$ &  \\\\\n",
       "\\end{tabular}\n"
      ],
      "text/plain": [
       "\u001b[1m1599×12 DataFrame\u001b[0m\n",
       "\u001b[1m  Row \u001b[0m│\u001b[1m fixedacidity \u001b[0m\u001b[1m volatileacidity \u001b[0m\u001b[1m citricacid \u001b[0m\u001b[1m residualsugar \u001b[0m\u001b[1m chlorides \u001b[0m\u001b[1m f\u001b[0m ⋯\n",
       "\u001b[1m      \u001b[0m│\u001b[90m Float64      \u001b[0m\u001b[90m Float64         \u001b[0m\u001b[90m Float64    \u001b[0m\u001b[90m Float64       \u001b[0m\u001b[90m Float64   \u001b[0m\u001b[90m F\u001b[0m ⋯\n",
       "──────┼─────────────────────────────────────────────────────────────────────────\n",
       "    1 │          7.0             0.27        0.36          20.7       0.045    ⋯\n",
       "    2 │          6.3             0.3         0.34           1.6       0.049\n",
       "    3 │          8.1             0.28        0.4            6.9       0.05\n",
       "    4 │          7.2             0.23        0.32           8.5       0.058\n",
       "    5 │          7.2             0.23        0.32           8.5       0.058    ⋯\n",
       "    6 │          8.1             0.28        0.4            6.9       0.05\n",
       "    7 │          6.2             0.32        0.16           7.0       0.045\n",
       "    8 │          7.0             0.27        0.36          20.7       0.045\n",
       "    9 │          6.3             0.3         0.34           1.6       0.049    ⋯\n",
       "   10 │          8.1             0.22        0.43           1.5       0.044\n",
       "   11 │          8.1             0.27        0.41           1.45      0.033\n",
       "  ⋮   │      ⋮               ⋮             ⋮             ⋮            ⋮        ⋱\n",
       " 1590 │          7.0             0.27        0.74           1.5       0.036\n",
       " 1591 │          7.9             0.14        0.74           1.2       0.028    ⋯\n",
       " 1592 │          6.4             0.12        0.49           6.4       0.042\n",
       " 1593 │          6.8             0.21        0.74           1.2       0.047\n",
       " 1594 │          8.6             0.16        0.49           7.3       0.043\n",
       " 1595 │          7.0             0.29        0.49           3.8       0.047    ⋯\n",
       " 1596 │          6.4             0.27        0.49           7.3       0.046\n",
       " 1597 │          6.6             0.55        0.01           2.7       0.034\n",
       " 1598 │          6.4             0.27        0.49           7.3       0.046\n",
       " 1599 │          6.3             0.24        0.74           1.4       0.172    ⋯\n",
       "\u001b[36m                                                 7 columns and 1578 rows omitted\u001b[0m"
      ]
     },
     "execution_count": 40,
     "metadata": {},
     "output_type": "execute_result"
    }
   ],
   "source": [
    "#import the dataset\n",
    "#do 2-class classification:\n",
    "#decide the wine is red or white\n",
    "df_red = CSV.read(\"winequality-red.csv\",DataFrame)\n",
    "df_white = CSV.read(\"winequality-white.csv\",DataFrame)"
   ]
  },
  {
   "cell_type": "code",
   "execution_count": 41,
   "id": "c8d3058b",
   "metadata": {},
   "outputs": [
    {
     "data": {
      "text/plain": [
       "sigmoidmodel (generic function with 1 method)"
      ]
     },
     "execution_count": 41,
     "metadata": {},
     "output_type": "execute_result"
    }
   ],
   "source": [
    "#build the model using sigmoid as Activation Function\n",
    "#The input dim is 12 as 12 features and the output dim is 2 represent A and B\n",
    "function sigmoidmodel(input_dim)\n",
    "    model = Chain(\n",
    "        Dense(input_dim,16,sigmoid),\n",
    "        Dense(16,64,sigmoid),\n",
    "        Dense(64,32,sigmoid),\n",
    "        Dense(32,2),\n",
    "        softmax\n",
    "    )\n",
    "    return model\n",
    "end"
   ]
  },
  {
   "cell_type": "code",
   "execution_count": 42,
   "id": "00aaeb74",
   "metadata": {},
   "outputs": [],
   "source": [
    "#Read In the data from the dataframe\n",
    "csv_mat = [[r.fixedacidity,r.volatileacidity,r.citricacid,r.residualsugar,r.chlorides,r.freesulfurdioxide\n",
    "        ,r.totalsulfurdioxide,r.density,r.pH,r.sulphates,r.alcohol,r.quality] for r in eachrow(df_red)]\n",
    "x_redwines = rand(size(csv_mat)[1],12)\n",
    "for i in 1:size(csv_mat)[1]\n",
    "    x_redwines[i,1]=csv_mat[i][1]\n",
    "    x_redwines[i,2]=csv_mat[i][2]\n",
    "end\n",
    "\n",
    "csv_mat = [[r.fixedacidity,r.volatileacidity,r.citricacid,r.residualsugar,r.chlorides,r.freesulfurdioxide\n",
    "        ,r.totalsulfurdioxide,r.density,r.pH,r.sulphates,r.alcohol,r.quality] for r in eachrow(df_white)]\n",
    "x_whitewines = rand(size(csv_mat)[1],12)\n",
    "for i in 1:size(csv_mat)[1]\n",
    "    x_whitewines[i,1]=csv_mat[i][1]\n",
    "    x_whitewines[i,2]=csv_mat[i][2]\n",
    "end"
   ]
  },
  {
   "cell_type": "code",
   "execution_count": 57,
   "id": "48584eb1",
   "metadata": {},
   "outputs": [
    {
     "data": {
      "text/plain": [
       "2×3198 Matrix{Int64}:\n",
       " 1  1  1  1  1  1  1  1  1  1  1  1  1  …  0  0  0  0  0  0  0  0  0  0  0  0\n",
       " 0  0  0  0  0  0  0  0  0  0  0  0  0     1  1  1  1  1  1  1  1  1  1  1  1"
      ]
     },
     "execution_count": 57,
     "metadata": {},
     "output_type": "execute_result"
    }
   ],
   "source": [
    "#get the matrix\n",
    "xs = [x_redwines;x_whitewines]\n",
    "xs = transpose(xs)\n",
    "ys = [fill(0,size(x_redwines)[1]);fill(1,size(x_whitewines)[1])]\n",
    "#trun label into 0:1 onthot-bat\n",
    "ys = Flux.onehotbatch(ys,0:1)\n",
    "ys = Int.(ys)"
   ]
  },
  {
   "cell_type": "code",
   "execution_count": 54,
   "id": "4a533b1a",
   "metadata": {},
   "outputs": [
    {
     "data": {
      "text/plain": [
       "DataLoader{Tuple{Matrix{Float64}, Matrix{Int64}}, Random._GLOBAL_RNG}(([6.8 6.5 … 5.9 7.4; 0.35 0.3 … 0.24 0.41; … ; 0.3895549509301137 0.09784871293391162 … 0.036789322339063735 0.9819125293793103; 0.2002115569832812 0.9710991700459517 … 0.21191872167402925 0.9886968333151588], [0 0 … 0 1; 1 1 … 1 0]), 20, 2199, true, 2199, [1, 2, 3, 4, 5, 6, 7, 8, 9, 10  …  2190, 2191, 2192, 2193, 2194, 2195, 2196, 2197, 2198, 2199], true, Random._GLOBAL_RNG())"
      ]
     },
     "execution_count": 54,
     "metadata": {},
     "output_type": "execute_result"
    }
   ],
   "source": [
    "#shuffle the data randomly\n",
    "datalength = size(xs)[2]\n",
    "index = shuffle(collect(1:datalength))\n",
    "\n",
    "xs = xs[:,index]\n",
    "ys = ys[:,index]\n",
    "\n",
    "#split the train data and test data\n",
    "train_data = Flux.DataLoader((xs[:,1:1000],ys[:,1:1000]),batchsize=20,shuffle=true)\n",
    "test_data = Flux.DataLoader((xs[:,1000:end],ys[:,1000:end]),batchsize=20,shuffle=true)"
   ]
  },
  {
   "cell_type": "code",
   "execution_count": 58,
   "id": "aaa98aff",
   "metadata": {},
   "outputs": [
    {
     "data": {
      "text/plain": [
       "Chain(\n",
       "  Dense(12, 16, σ),                     \u001b[90m# 208 parameters\u001b[39m\n",
       "  Dense(16, 64, σ),                     \u001b[90m# 1_088 parameters\u001b[39m\n",
       "  Dense(64, 32, σ),                     \u001b[90m# 2_080 parameters\u001b[39m\n",
       "  Dense(32, 2),                         \u001b[90m# 66 parameters\u001b[39m\n",
       "  NNlib.softmax,\n",
       ")\u001b[90m                   # Total: 8 arrays, \u001b[39m3_442 parameters, 13.945 KiB."
      ]
     },
     "execution_count": 58,
     "metadata": {},
     "output_type": "execute_result"
    }
   ],
   "source": [
    "#build the model\n",
    "smodel = sigmoidmodel(12)"
   ]
  },
  {
   "cell_type": "code",
   "execution_count": 9,
   "id": "5c74003a",
   "metadata": {},
   "outputs": [
    {
     "data": {
      "text/plain": [
       "Params([Float32[0.35325572 0.37380418 … 0.44392428 0.44145235; 0.08291709 -0.39051232 … 0.021186864 0.29175088; … ; 0.2678304 0.19595094 … 0.24193701 -0.016435262; -0.15349482 -0.33401406 … -0.20424652 -0.31753367], Float32[0.0, 0.0, 0.0, 0.0, 0.0, 0.0, 0.0, 0.0, 0.0, 0.0, 0.0, 0.0, 0.0, 0.0, 0.0, 0.0], Float32[-0.13922669 0.15442832 … 0.0700008 -0.20671706; 0.17812707 0.021227967 … -0.24741949 0.016553663; … ; 0.22011758 0.061833646 … 0.24239188 -0.16556777; -0.02256479 0.27074283 … -0.042599224 0.15227655], Float32[0.0, 0.0, 0.0, 0.0, 0.0, 0.0, 0.0, 0.0, 0.0, 0.0  …  0.0, 0.0, 0.0, 0.0, 0.0, 0.0, 0.0, 0.0, 0.0, 0.0], Float32[-0.060970902 -0.17141804 … -0.16394028 0.10650954; -0.043524295 0.2410407 … 0.15490201 -0.14948574; … ; -0.084424734 -0.1649003 … 0.05152273 0.017310381; -0.16553402 0.22662804 … -0.21535778 -0.039698422], Float32[0.0, 0.0, 0.0, 0.0, 0.0, 0.0, 0.0, 0.0, 0.0, 0.0  …  0.0, 0.0, 0.0, 0.0, 0.0, 0.0, 0.0, 0.0, 0.0, 0.0], Float32[0.3525807 0.2063702 … -0.23383088 0.08221788; 0.021062523 -0.083208114 … 0.23213714 -0.2847922], Float32[0.0, 0.0]])"
      ]
     },
     "execution_count": 9,
     "metadata": {},
     "output_type": "execute_result"
    }
   ],
   "source": [
    "#loss function and opt\n",
    "L(x,y) = Flux.mse(smodel(x),y)\n",
    "opt = Descent(0.1)\n",
    "ps = params(smodel)"
   ]
  },
  {
   "cell_type": "code",
   "execution_count": 10,
   "id": "d1b04fd9",
   "metadata": {},
   "outputs": [
    {
     "data": {
      "text/plain": [
       "acc (generic function with 1 method)"
      ]
     },
     "execution_count": 10,
     "metadata": {},
     "output_type": "execute_result"
    }
   ],
   "source": [
    "#Accurate Function\n",
    "function acc(x,y)\n",
    "    x = transpose(x)\n",
    "    y = transpose(y)\n",
    "    p=[i[2] for i in argmax(x,dims=2)]\n",
    "    l=[i[2] for i in argmax(y,dims=2)]\n",
    "    p = reshape(p,size(p)[1])\n",
    "    l = reshape(l,size(l)[1])\n",
    "    correct=sum(p.==1)\n",
    "    len=size(x)[1]\n",
    "    acc=correct/len\n",
    "    return acc\n",
    "end"
   ]
  },
  {
   "cell_type": "code",
   "execution_count": 11,
   "id": "358b6005",
   "metadata": {},
   "outputs": [
    {
     "name": "stderr",
     "output_type": "stream",
     "text": [
      "0.0%┣                                              ┫ 0/100 [00:00<00:-5, -0s/it]\n",
      "1.0%┣▍                                         ┫ 1/100 [00:14<Inf:Inf, InfGs/it]\n",
      "4.0%┣█▉                                             ┫ 4/100 [00:14<07:29, 5s/it]\n",
      "9.0%┣████▎                                          ┫ 9/100 [00:14<02:40, 2s/it]\n",
      "12.0%┣█████▍                                       ┫ 12/100 [00:14<01:53, 1s/it]\n",
      "18.0%┣████████                                     ┫ 18/100 [00:14<01:08, 1it/s]\n",
      "21.0%┣█████████▌                                   ┫ 21/100 [00:14<00:56, 1it/s]\n",
      "27.0%┣████████████▏                                ┫ 27/100 [00:14<00:40, 2it/s]\n",
      "31.0%┣██████████████                               ┫ 31/100 [00:14<00:33, 2it/s]\n",
      "36.0%┣████████████████▏                            ┫ 36/100 [00:14<00:26, 2it/s]\n",
      "42.0%┣███████████████████                          ┫ 42/100 [00:14<00:20, 3it/s]\n",
      "46.0%┣████████████████████▊                        ┫ 46/100 [00:15<00:17, 3it/s]\n",
      "52.0%┣███████████████████████▍                     ┫ 52/100 [00:15<00:14, 3it/s]\n",
      "58.0%┣██████████████████████████                   ┫ 58/100 [00:15<00:11, 4it/s]\n",
      "63.0%┣████████████████████████████▍                ┫ 63/100 [00:15<00:09, 4it/s]\n",
      "68.0%┣██████████████████████████████▋              ┫ 68/100 [00:15<00:07, 5it/s]\n",
      "74.0%┣█████████████████████████████████▎           ┫ 74/100 [00:15<00:05, 5it/s]\n",
      "79.0%┣███████████████████████████████████▌         ┫ 79/100 [00:15<00:04, 5it/s]\n",
      "84.0%┣█████████████████████████████████████▉       ┫ 84/100 [00:15<00:03, 6it/s]\n",
      "90.0%┣████████████████████████████████████████▌    ┫ 90/100 [00:15<00:02, 6it/s]\n",
      "95.0%┣██████████████████████████████████████████▊  ┫ 95/100 [00:15<00:01, 6it/s]\n",
      "100.0%┣███████████████████████████████████████████┫ 100/100 [00:15<00:00, 7it/s]\n",
      "100.0%┣███████████████████████████████████████████┫ 100/100 [00:15<00:00, 7it/s]\n"
     ]
    }
   ],
   "source": [
    "#the accuracy list which contains the accuracy for each epoch\n",
    "acc_list_train=[]\n",
    "acc_list_pred=[]\n",
    "\n",
    "for i in ProgressBar(1:100)\n",
    "    #The List which contains the accuracy for each batch(20)\n",
    "    t_acc_list = []\n",
    "    p_acc_list = []\n",
    "    for (x,y) in train_data\n",
    "        pred = smodel(x)\n",
    "        ac = acc(pred,y)\n",
    "        append!(t_acc_list,ac)\n",
    "        Flux.train!(L,ps,[(x,y)],opt)\n",
    "    end\n",
    "    \n",
    "    for (x,y) in test_data\n",
    "        pred = smodel(x)\n",
    "        ac = acc(pred,y)\n",
    "        append!(p_acc_list,ac)\n",
    "    end\n",
    "    append!(acc_list_train,mean(t_acc_list))\n",
    "    append!(acc_list_pred,mean(p_acc_list))\n",
    "end"
   ]
  },
  {
   "cell_type": "code",
   "execution_count": 12,
   "id": "f0c6a43d",
   "metadata": {},
   "outputs": [
    {
     "name": "stdout",
     "output_type": "stream",
     "text": [
      "0.6593956937799044"
     ]
    }
   ],
   "source": [
    "#show accuracy\n",
    "print(sum(acc_list_pred)/(size(acc_list_pred)[1]))"
   ]
  },
  {
   "cell_type": "code",
   "execution_count": 59,
   "id": "023b6b48",
   "metadata": {},
   "outputs": [
    {
     "data": {
      "image/svg+xml": [
       "<?xml version=\"1.0\" encoding=\"utf-8\"?>\n",
       "<svg xmlns=\"http://www.w3.org/2000/svg\" xmlns:xlink=\"http://www.w3.org/1999/xlink\" width=\"600\" height=\"400\" viewBox=\"0 0 2400 1600\">\n",
       "<defs>\n",
       "  <clipPath id=\"clip920\">\n",
       "    <rect x=\"0\" y=\"0\" width=\"2400\" height=\"1600\"/>\n",
       "  </clipPath>\n",
       "</defs>\n",
       "<path clip-path=\"url(#clip920)\" d=\"\n",
       "M0 1600 L2400 1600 L2400 0 L0 0  Z\n",
       "  \" fill=\"#ffffff\" fill-rule=\"evenodd\" fill-opacity=\"1\"/>\n",
       "<defs>\n",
       "  <clipPath id=\"clip921\">\n",
       "    <rect x=\"480\" y=\"0\" width=\"1681\" height=\"1600\"/>\n",
       "  </clipPath>\n",
       "</defs>\n",
       "<path clip-path=\"url(#clip920)\" d=\"\n",
       "M186.274 1486.45 L2352.76 1486.45 L2352.76 123.472 L186.274 123.472  Z\n",
       "  \" fill=\"#ffffff\" fill-rule=\"evenodd\" fill-opacity=\"1\"/>\n",
       "<defs>\n",
       "  <clipPath id=\"clip922\">\n",
       "    <rect x=\"186\" y=\"123\" width=\"2167\" height=\"1364\"/>\n",
       "  </clipPath>\n",
       "</defs>\n",
       "<polyline clip-path=\"url(#clip922)\" style=\"stroke:#000000; stroke-linecap:butt; stroke-linejoin:round; stroke-width:2; stroke-opacity:0.1; fill:none\" points=\"\n",
       "  247.59,1486.45 247.59,123.472 \n",
       "  \"/>\n",
       "<polyline clip-path=\"url(#clip922)\" style=\"stroke:#000000; stroke-linecap:butt; stroke-linejoin:round; stroke-width:2; stroke-opacity:0.1; fill:none\" points=\"\n",
       "  691.406,1486.45 691.406,123.472 \n",
       "  \"/>\n",
       "<polyline clip-path=\"url(#clip922)\" style=\"stroke:#000000; stroke-linecap:butt; stroke-linejoin:round; stroke-width:2; stroke-opacity:0.1; fill:none\" points=\"\n",
       "  1135.22,1486.45 1135.22,123.472 \n",
       "  \"/>\n",
       "<polyline clip-path=\"url(#clip922)\" style=\"stroke:#000000; stroke-linecap:butt; stroke-linejoin:round; stroke-width:2; stroke-opacity:0.1; fill:none\" points=\"\n",
       "  1579.04,1486.45 1579.04,123.472 \n",
       "  \"/>\n",
       "<polyline clip-path=\"url(#clip922)\" style=\"stroke:#000000; stroke-linecap:butt; stroke-linejoin:round; stroke-width:2; stroke-opacity:0.1; fill:none\" points=\"\n",
       "  2022.86,1486.45 2022.86,123.472 \n",
       "  \"/>\n",
       "<polyline clip-path=\"url(#clip920)\" style=\"stroke:#000000; stroke-linecap:butt; stroke-linejoin:round; stroke-width:4; stroke-opacity:1; fill:none\" points=\"\n",
       "  186.274,1486.45 2352.76,1486.45 \n",
       "  \"/>\n",
       "<polyline clip-path=\"url(#clip920)\" style=\"stroke:#000000; stroke-linecap:butt; stroke-linejoin:round; stroke-width:4; stroke-opacity:1; fill:none\" points=\"\n",
       "  247.59,1486.45 247.59,1467.55 \n",
       "  \"/>\n",
       "<polyline clip-path=\"url(#clip920)\" style=\"stroke:#000000; stroke-linecap:butt; stroke-linejoin:round; stroke-width:4; stroke-opacity:1; fill:none\" points=\"\n",
       "  691.406,1486.45 691.406,1467.55 \n",
       "  \"/>\n",
       "<polyline clip-path=\"url(#clip920)\" style=\"stroke:#000000; stroke-linecap:butt; stroke-linejoin:round; stroke-width:4; stroke-opacity:1; fill:none\" points=\"\n",
       "  1135.22,1486.45 1135.22,1467.55 \n",
       "  \"/>\n",
       "<polyline clip-path=\"url(#clip920)\" style=\"stroke:#000000; stroke-linecap:butt; stroke-linejoin:round; stroke-width:4; stroke-opacity:1; fill:none\" points=\"\n",
       "  1579.04,1486.45 1579.04,1467.55 \n",
       "  \"/>\n",
       "<polyline clip-path=\"url(#clip920)\" style=\"stroke:#000000; stroke-linecap:butt; stroke-linejoin:round; stroke-width:4; stroke-opacity:1; fill:none\" points=\"\n",
       "  2022.86,1486.45 2022.86,1467.55 \n",
       "  \"/>\n",
       "<path clip-path=\"url(#clip920)\" d=\"M247.59 1517.37 Q243.978 1517.37 242.15 1520.93 Q240.344 1524.47 240.344 1531.6 Q240.344 1538.71 242.15 1542.27 Q243.978 1545.82 247.59 1545.82 Q251.224 1545.82 253.029 1542.27 Q254.858 1538.71 254.858 1531.6 Q254.858 1524.47 253.029 1520.93 Q251.224 1517.37 247.59 1517.37 M247.59 1513.66 Q253.4 1513.66 256.455 1518.27 Q259.534 1522.85 259.534 1531.6 Q259.534 1540.33 256.455 1544.94 Q253.4 1549.52 247.59 1549.52 Q241.779 1549.52 238.701 1544.94 Q235.645 1540.33 235.645 1531.6 Q235.645 1522.85 238.701 1518.27 Q241.779 1513.66 247.59 1513.66 Z\" fill=\"#000000\" fill-rule=\"evenodd\" fill-opacity=\"1\" /><path clip-path=\"url(#clip920)\" d=\"M681.788 1544.91 L689.427 1544.91 L689.427 1518.55 L681.117 1520.21 L681.117 1515.95 L689.381 1514.29 L694.057 1514.29 L694.057 1544.91 L701.695 1544.91 L701.695 1548.85 L681.788 1548.85 L681.788 1544.91 Z\" fill=\"#000000\" fill-rule=\"evenodd\" fill-opacity=\"1\" /><path clip-path=\"url(#clip920)\" d=\"M1129.88 1544.91 L1146.19 1544.91 L1146.19 1548.85 L1124.25 1548.85 L1124.25 1544.91 Q1126.91 1542.16 1131.5 1537.53 Q1136.1 1532.88 1137.28 1531.53 Q1139.53 1529.01 1140.41 1527.27 Q1141.31 1525.51 1141.31 1523.82 Q1141.31 1521.07 1139.37 1519.33 Q1137.44 1517.6 1134.34 1517.6 Q1132.14 1517.6 1129.69 1518.36 Q1127.26 1519.13 1124.48 1520.68 L1124.48 1515.95 Q1127.31 1514.82 1129.76 1514.24 Q1132.21 1513.66 1134.25 1513.66 Q1139.62 1513.66 1142.82 1516.35 Q1146.01 1519.03 1146.01 1523.52 Q1146.01 1525.65 1145.2 1527.57 Q1144.41 1529.47 1142.31 1532.07 Q1141.73 1532.74 1138.63 1535.95 Q1135.52 1539.15 1129.88 1544.91 Z\" fill=\"#000000\" fill-rule=\"evenodd\" fill-opacity=\"1\" /><path clip-path=\"url(#clip920)\" d=\"M1583.29 1530.21 Q1586.64 1530.93 1588.52 1533.2 Q1590.42 1535.47 1590.42 1538.8 Q1590.42 1543.92 1586.9 1546.72 Q1583.38 1549.52 1576.9 1549.52 Q1574.72 1549.52 1572.41 1549.08 Q1570.12 1548.66 1567.66 1547.81 L1567.66 1543.29 Q1569.61 1544.43 1571.92 1545.01 Q1574.24 1545.58 1576.76 1545.58 Q1581.16 1545.58 1583.45 1543.85 Q1585.76 1542.11 1585.76 1538.8 Q1585.76 1535.75 1583.61 1534.03 Q1581.48 1532.3 1577.66 1532.3 L1573.63 1532.3 L1573.63 1528.45 L1577.85 1528.45 Q1581.3 1528.45 1583.12 1527.09 Q1584.95 1525.7 1584.95 1523.11 Q1584.95 1520.45 1583.06 1519.03 Q1581.18 1517.6 1577.66 1517.6 Q1575.74 1517.6 1573.54 1518.01 Q1571.34 1518.43 1568.7 1519.31 L1568.7 1515.14 Q1571.37 1514.4 1573.68 1514.03 Q1576.02 1513.66 1578.08 1513.66 Q1583.4 1513.66 1586.5 1516.09 Q1589.61 1518.5 1589.61 1522.62 Q1589.61 1525.49 1587.96 1527.48 Q1586.32 1529.45 1583.29 1530.21 Z\" fill=\"#000000\" fill-rule=\"evenodd\" fill-opacity=\"1\" /><path clip-path=\"url(#clip920)\" d=\"M2025.87 1518.36 L2014.06 1536.81 L2025.87 1536.81 L2025.87 1518.36 M2024.64 1514.29 L2030.52 1514.29 L2030.52 1536.81 L2035.45 1536.81 L2035.45 1540.7 L2030.52 1540.7 L2030.52 1548.85 L2025.87 1548.85 L2025.87 1540.7 L2010.26 1540.7 L2010.26 1536.19 L2024.64 1514.29 Z\" fill=\"#000000\" fill-rule=\"evenodd\" fill-opacity=\"1\" /><polyline clip-path=\"url(#clip922)\" style=\"stroke:#000000; stroke-linecap:butt; stroke-linejoin:round; stroke-width:2; stroke-opacity:0.1; fill:none\" points=\"\n",
       "  186.274,1447.87 2352.76,1447.87 \n",
       "  \"/>\n",
       "<polyline clip-path=\"url(#clip922)\" style=\"stroke:#000000; stroke-linecap:butt; stroke-linejoin:round; stroke-width:2; stroke-opacity:0.1; fill:none\" points=\"\n",
       "  186.274,1126.42 2352.76,1126.42 \n",
       "  \"/>\n",
       "<polyline clip-path=\"url(#clip922)\" style=\"stroke:#000000; stroke-linecap:butt; stroke-linejoin:round; stroke-width:2; stroke-opacity:0.1; fill:none\" points=\"\n",
       "  186.274,804.96 2352.76,804.96 \n",
       "  \"/>\n",
       "<polyline clip-path=\"url(#clip922)\" style=\"stroke:#000000; stroke-linecap:butt; stroke-linejoin:round; stroke-width:2; stroke-opacity:0.1; fill:none\" points=\"\n",
       "  186.274,483.503 2352.76,483.503 \n",
       "  \"/>\n",
       "<polyline clip-path=\"url(#clip922)\" style=\"stroke:#000000; stroke-linecap:butt; stroke-linejoin:round; stroke-width:2; stroke-opacity:0.1; fill:none\" points=\"\n",
       "  186.274,162.047 2352.76,162.047 \n",
       "  \"/>\n",
       "<polyline clip-path=\"url(#clip920)\" style=\"stroke:#000000; stroke-linecap:butt; stroke-linejoin:round; stroke-width:4; stroke-opacity:1; fill:none\" points=\"\n",
       "  186.274,1486.45 186.274,123.472 \n",
       "  \"/>\n",
       "<polyline clip-path=\"url(#clip920)\" style=\"stroke:#000000; stroke-linecap:butt; stroke-linejoin:round; stroke-width:4; stroke-opacity:1; fill:none\" points=\"\n",
       "  186.274,1447.87 205.172,1447.87 \n",
       "  \"/>\n",
       "<polyline clip-path=\"url(#clip920)\" style=\"stroke:#000000; stroke-linecap:butt; stroke-linejoin:round; stroke-width:4; stroke-opacity:1; fill:none\" points=\"\n",
       "  186.274,1126.42 205.172,1126.42 \n",
       "  \"/>\n",
       "<polyline clip-path=\"url(#clip920)\" style=\"stroke:#000000; stroke-linecap:butt; stroke-linejoin:round; stroke-width:4; stroke-opacity:1; fill:none\" points=\"\n",
       "  186.274,804.96 205.172,804.96 \n",
       "  \"/>\n",
       "<polyline clip-path=\"url(#clip920)\" style=\"stroke:#000000; stroke-linecap:butt; stroke-linejoin:round; stroke-width:4; stroke-opacity:1; fill:none\" points=\"\n",
       "  186.274,483.503 205.172,483.503 \n",
       "  \"/>\n",
       "<polyline clip-path=\"url(#clip920)\" style=\"stroke:#000000; stroke-linecap:butt; stroke-linejoin:round; stroke-width:4; stroke-opacity:1; fill:none\" points=\"\n",
       "  186.274,162.047 205.172,162.047 \n",
       "  \"/>\n",
       "<path clip-path=\"url(#clip920)\" d=\"M62.9365 1433.67 Q59.3254 1433.67 57.4967 1437.24 Q55.6912 1440.78 55.6912 1447.91 Q55.6912 1455.01 57.4967 1458.58 Q59.3254 1462.12 62.9365 1462.12 Q66.5707 1462.12 68.3763 1458.58 Q70.205 1455.01 70.205 1447.91 Q70.205 1440.78 68.3763 1437.24 Q66.5707 1433.67 62.9365 1433.67 M62.9365 1429.97 Q68.7467 1429.97 71.8022 1434.57 Q74.8809 1439.16 74.8809 1447.91 Q74.8809 1456.63 71.8022 1461.24 Q68.7467 1465.82 62.9365 1465.82 Q57.1264 1465.82 54.0477 1461.24 Q50.9921 1456.63 50.9921 1447.91 Q50.9921 1439.16 54.0477 1434.57 Q57.1264 1429.97 62.9365 1429.97 Z\" fill=\"#000000\" fill-rule=\"evenodd\" fill-opacity=\"1\" /><path clip-path=\"url(#clip920)\" d=\"M83.0984 1459.27 L87.9827 1459.27 L87.9827 1465.15 L83.0984 1465.15 L83.0984 1459.27 Z\" fill=\"#000000\" fill-rule=\"evenodd\" fill-opacity=\"1\" /><path clip-path=\"url(#clip920)\" d=\"M108.168 1433.67 Q104.557 1433.67 102.728 1437.24 Q100.922 1440.78 100.922 1447.91 Q100.922 1455.01 102.728 1458.58 Q104.557 1462.12 108.168 1462.12 Q111.802 1462.12 113.608 1458.58 Q115.436 1455.01 115.436 1447.91 Q115.436 1440.78 113.608 1437.24 Q111.802 1433.67 108.168 1433.67 M108.168 1429.97 Q113.978 1429.97 117.033 1434.57 Q120.112 1439.16 120.112 1447.91 Q120.112 1456.63 117.033 1461.24 Q113.978 1465.82 108.168 1465.82 Q102.358 1465.82 99.2789 1461.24 Q96.2234 1456.63 96.2234 1447.91 Q96.2234 1439.16 99.2789 1434.57 Q102.358 1429.97 108.168 1429.97 Z\" fill=\"#000000\" fill-rule=\"evenodd\" fill-opacity=\"1\" /><path clip-path=\"url(#clip920)\" d=\"M138.33 1433.67 Q134.719 1433.67 132.89 1437.24 Q131.084 1440.78 131.084 1447.91 Q131.084 1455.01 132.89 1458.58 Q134.719 1462.12 138.33 1462.12 Q141.964 1462.12 143.769 1458.58 Q145.598 1455.01 145.598 1447.91 Q145.598 1440.78 143.769 1437.24 Q141.964 1433.67 138.33 1433.67 M138.33 1429.97 Q144.14 1429.97 147.195 1434.57 Q150.274 1439.16 150.274 1447.91 Q150.274 1456.63 147.195 1461.24 Q144.14 1465.82 138.33 1465.82 Q132.519 1465.82 129.441 1461.24 Q126.385 1456.63 126.385 1447.91 Q126.385 1439.16 129.441 1434.57 Q132.519 1429.97 138.33 1429.97 Z\" fill=\"#000000\" fill-rule=\"evenodd\" fill-opacity=\"1\" /><path clip-path=\"url(#clip920)\" d=\"M63.9319 1112.22 Q60.3208 1112.22 58.4921 1115.78 Q56.6865 1119.32 56.6865 1126.45 Q56.6865 1133.56 58.4921 1137.12 Q60.3208 1140.66 63.9319 1140.66 Q67.5661 1140.66 69.3717 1137.12 Q71.2004 1133.56 71.2004 1126.45 Q71.2004 1119.32 69.3717 1115.78 Q67.5661 1112.22 63.9319 1112.22 M63.9319 1108.51 Q69.742 1108.51 72.7976 1113.12 Q75.8763 1117.7 75.8763 1126.45 Q75.8763 1135.18 72.7976 1139.78 Q69.742 1144.37 63.9319 1144.37 Q58.1217 1144.37 55.043 1139.78 Q51.9875 1135.18 51.9875 1126.45 Q51.9875 1117.7 55.043 1113.12 Q58.1217 1108.51 63.9319 1108.51 Z\" fill=\"#000000\" fill-rule=\"evenodd\" fill-opacity=\"1\" /><path clip-path=\"url(#clip920)\" d=\"M84.0938 1137.82 L88.978 1137.82 L88.978 1143.7 L84.0938 1143.7 L84.0938 1137.82 Z\" fill=\"#000000\" fill-rule=\"evenodd\" fill-opacity=\"1\" /><path clip-path=\"url(#clip920)\" d=\"M103.191 1139.76 L119.51 1139.76 L119.51 1143.7 L97.566 1143.7 L97.566 1139.76 Q100.228 1137.01 104.811 1132.38 Q109.418 1127.72 110.598 1126.38 Q112.844 1123.86 113.723 1122.12 Q114.626 1120.36 114.626 1118.67 Q114.626 1115.92 112.682 1114.18 Q110.76 1112.45 107.658 1112.45 Q105.459 1112.45 103.006 1113.21 Q100.575 1113.97 97.7974 1115.53 L97.7974 1110.8 Q100.621 1109.67 103.075 1109.09 Q105.529 1108.51 107.566 1108.51 Q112.936 1108.51 116.131 1111.2 Q119.325 1113.88 119.325 1118.37 Q119.325 1120.5 118.515 1122.42 Q117.728 1124.32 115.621 1126.91 Q115.043 1127.59 111.941 1130.8 Q108.839 1134 103.191 1139.76 Z\" fill=\"#000000\" fill-rule=\"evenodd\" fill-opacity=\"1\" /><path clip-path=\"url(#clip920)\" d=\"M129.371 1109.14 L147.728 1109.14 L147.728 1113.07 L133.654 1113.07 L133.654 1121.54 Q134.672 1121.2 135.691 1121.03 Q136.709 1120.85 137.728 1120.85 Q143.515 1120.85 146.894 1124.02 Q150.274 1127.19 150.274 1132.61 Q150.274 1138.19 146.802 1141.29 Q143.33 1144.37 137.01 1144.37 Q134.834 1144.37 132.566 1144 Q130.32 1143.63 127.913 1142.89 L127.913 1138.19 Q129.996 1139.32 132.219 1139.88 Q134.441 1140.43 136.918 1140.43 Q140.922 1140.43 143.26 1138.33 Q145.598 1136.22 145.598 1132.61 Q145.598 1129 143.26 1126.89 Q140.922 1124.78 136.918 1124.78 Q135.043 1124.78 133.168 1125.2 Q131.316 1125.62 129.371 1126.5 L129.371 1109.14 Z\" fill=\"#000000\" fill-rule=\"evenodd\" fill-opacity=\"1\" /><path clip-path=\"url(#clip920)\" d=\"M62.9365 790.759 Q59.3254 790.759 57.4967 794.323 Q55.6912 797.865 55.6912 804.995 Q55.6912 812.101 57.4967 815.666 Q59.3254 819.208 62.9365 819.208 Q66.5707 819.208 68.3763 815.666 Q70.205 812.101 70.205 804.995 Q70.205 797.865 68.3763 794.323 Q66.5707 790.759 62.9365 790.759 M62.9365 787.055 Q68.7467 787.055 71.8022 791.661 Q74.8809 796.245 74.8809 804.995 Q74.8809 813.722 71.8022 818.328 Q68.7467 822.911 62.9365 822.911 Q57.1264 822.911 54.0477 818.328 Q50.9921 813.722 50.9921 804.995 Q50.9921 796.245 54.0477 791.661 Q57.1264 787.055 62.9365 787.055 Z\" fill=\"#000000\" fill-rule=\"evenodd\" fill-opacity=\"1\" /><path clip-path=\"url(#clip920)\" d=\"M83.0984 816.36 L87.9827 816.36 L87.9827 822.24 L83.0984 822.24 L83.0984 816.36 Z\" fill=\"#000000\" fill-rule=\"evenodd\" fill-opacity=\"1\" /><path clip-path=\"url(#clip920)\" d=\"M98.2141 787.68 L116.57 787.68 L116.57 791.615 L102.496 791.615 L102.496 800.087 Q103.515 799.74 104.534 799.578 Q105.552 799.393 106.571 799.393 Q112.358 799.393 115.737 802.564 Q119.117 805.735 119.117 811.152 Q119.117 816.731 115.645 819.833 Q112.172 822.911 105.853 822.911 Q103.677 822.911 101.409 822.541 Q99.1632 822.171 96.7558 821.43 L96.7558 816.731 Q98.8391 817.865 101.061 818.421 Q103.284 818.976 105.76 818.976 Q109.765 818.976 112.103 816.87 Q114.441 814.763 114.441 811.152 Q114.441 807.541 112.103 805.435 Q109.765 803.328 105.76 803.328 Q103.885 803.328 102.01 803.745 Q100.159 804.161 98.2141 805.041 L98.2141 787.68 Z\" fill=\"#000000\" fill-rule=\"evenodd\" fill-opacity=\"1\" /><path clip-path=\"url(#clip920)\" d=\"M138.33 790.759 Q134.719 790.759 132.89 794.323 Q131.084 797.865 131.084 804.995 Q131.084 812.101 132.89 815.666 Q134.719 819.208 138.33 819.208 Q141.964 819.208 143.769 815.666 Q145.598 812.101 145.598 804.995 Q145.598 797.865 143.769 794.323 Q141.964 790.759 138.33 790.759 M138.33 787.055 Q144.14 787.055 147.195 791.661 Q150.274 796.245 150.274 804.995 Q150.274 813.722 147.195 818.328 Q144.14 822.911 138.33 822.911 Q132.519 822.911 129.441 818.328 Q126.385 813.722 126.385 804.995 Q126.385 796.245 129.441 791.661 Q132.519 787.055 138.33 787.055 Z\" fill=\"#000000\" fill-rule=\"evenodd\" fill-opacity=\"1\" /><path clip-path=\"url(#clip920)\" d=\"M63.9319 469.302 Q60.3208 469.302 58.4921 472.867 Q56.6865 476.409 56.6865 483.538 Q56.6865 490.645 58.4921 494.209 Q60.3208 497.751 63.9319 497.751 Q67.5661 497.751 69.3717 494.209 Q71.2004 490.645 71.2004 483.538 Q71.2004 476.409 69.3717 472.867 Q67.5661 469.302 63.9319 469.302 M63.9319 465.598 Q69.742 465.598 72.7976 470.205 Q75.8763 474.788 75.8763 483.538 Q75.8763 492.265 72.7976 496.871 Q69.742 501.455 63.9319 501.455 Q58.1217 501.455 55.043 496.871 Q51.9875 492.265 51.9875 483.538 Q51.9875 474.788 55.043 470.205 Q58.1217 465.598 63.9319 465.598 Z\" fill=\"#000000\" fill-rule=\"evenodd\" fill-opacity=\"1\" /><path clip-path=\"url(#clip920)\" d=\"M84.0938 494.904 L88.978 494.904 L88.978 500.783 L84.0938 500.783 L84.0938 494.904 Z\" fill=\"#000000\" fill-rule=\"evenodd\" fill-opacity=\"1\" /><path clip-path=\"url(#clip920)\" d=\"M97.9826 466.223 L120.205 466.223 L120.205 468.214 L107.658 500.783 L102.774 500.783 L114.58 470.159 L97.9826 470.159 L97.9826 466.223 Z\" fill=\"#000000\" fill-rule=\"evenodd\" fill-opacity=\"1\" /><path clip-path=\"url(#clip920)\" d=\"M129.371 466.223 L147.728 466.223 L147.728 470.159 L133.654 470.159 L133.654 478.631 Q134.672 478.284 135.691 478.122 Q136.709 477.936 137.728 477.936 Q143.515 477.936 146.894 481.108 Q150.274 484.279 150.274 489.696 Q150.274 495.274 146.802 498.376 Q143.33 501.455 137.01 501.455 Q134.834 501.455 132.566 501.084 Q130.32 500.714 127.913 499.973 L127.913 495.274 Q129.996 496.408 132.219 496.964 Q134.441 497.52 136.918 497.52 Q140.922 497.52 143.26 495.413 Q145.598 493.307 145.598 489.696 Q145.598 486.084 143.26 483.978 Q140.922 481.872 136.918 481.872 Q135.043 481.872 133.168 482.288 Q131.316 482.705 129.371 483.584 L129.371 466.223 Z\" fill=\"#000000\" fill-rule=\"evenodd\" fill-opacity=\"1\" /><path clip-path=\"url(#clip920)\" d=\"M53.7467 175.392 L61.3856 175.392 L61.3856 149.026 L53.0754 150.693 L53.0754 146.434 L61.3393 144.767 L66.0152 144.767 L66.0152 175.392 L73.654 175.392 L73.654 179.327 L53.7467 179.327 L53.7467 175.392 Z\" fill=\"#000000\" fill-rule=\"evenodd\" fill-opacity=\"1\" /><path clip-path=\"url(#clip920)\" d=\"M83.0984 173.447 L87.9827 173.447 L87.9827 179.327 L83.0984 179.327 L83.0984 173.447 Z\" fill=\"#000000\" fill-rule=\"evenodd\" fill-opacity=\"1\" /><path clip-path=\"url(#clip920)\" d=\"M108.168 147.846 Q104.557 147.846 102.728 151.41 Q100.922 154.952 100.922 162.082 Q100.922 169.188 102.728 172.753 Q104.557 176.295 108.168 176.295 Q111.802 176.295 113.608 172.753 Q115.436 169.188 115.436 162.082 Q115.436 154.952 113.608 151.41 Q111.802 147.846 108.168 147.846 M108.168 144.142 Q113.978 144.142 117.033 148.748 Q120.112 153.332 120.112 162.082 Q120.112 170.808 117.033 175.415 Q113.978 179.998 108.168 179.998 Q102.358 179.998 99.2789 175.415 Q96.2234 170.808 96.2234 162.082 Q96.2234 153.332 99.2789 148.748 Q102.358 144.142 108.168 144.142 Z\" fill=\"#000000\" fill-rule=\"evenodd\" fill-opacity=\"1\" /><path clip-path=\"url(#clip920)\" d=\"M138.33 147.846 Q134.719 147.846 132.89 151.41 Q131.084 154.952 131.084 162.082 Q131.084 169.188 132.89 172.753 Q134.719 176.295 138.33 176.295 Q141.964 176.295 143.769 172.753 Q145.598 169.188 145.598 162.082 Q145.598 154.952 143.769 151.41 Q141.964 147.846 138.33 147.846 M138.33 144.142 Q144.14 144.142 147.195 148.748 Q150.274 153.332 150.274 162.082 Q150.274 170.808 147.195 175.415 Q144.14 179.998 138.33 179.998 Q132.519 179.998 129.441 175.415 Q126.385 170.808 126.385 162.082 Q126.385 153.332 129.441 148.748 Q132.519 144.142 138.33 144.142 Z\" fill=\"#000000\" fill-rule=\"evenodd\" fill-opacity=\"1\" /><path clip-path=\"url(#clip920)\" d=\"M1109.54 49.7694 Q1100.51 49.7694 1097.03 51.8354 Q1093.54 53.9013 1093.54 58.8839 Q1093.54 62.8538 1096.14 65.2034 Q1098.77 67.5124 1103.27 67.5124 Q1109.46 67.5124 1113.19 63.1374 Q1116.96 58.7219 1116.96 51.4303 L1116.96 49.7694 L1109.54 49.7694 M1124.41 46.6907 L1124.41 72.576 L1116.96 72.576 L1116.96 65.6895 Q1114.41 69.8214 1110.6 71.8063 Q1106.79 73.7508 1101.28 73.7508 Q1094.31 73.7508 1090.18 69.8619 Q1086.09 65.9325 1086.09 59.3701 Q1086.09 51.7138 1091.19 47.825 Q1096.34 43.9361 1106.51 43.9361 L1116.96 43.9361 L1116.96 43.2069 Q1116.96 38.0623 1113.56 35.2672 Q1110.19 32.4315 1104.08 32.4315 Q1100.19 32.4315 1096.5 33.3632 Q1092.81 34.295 1089.41 36.1584 L1089.41 29.2718 Q1093.5 27.692 1097.35 26.9223 Q1101.2 26.1121 1104.85 26.1121 Q1114.69 26.1121 1119.55 31.2163 Q1124.41 36.3204 1124.41 46.6907 Z\" fill=\"#000000\" fill-rule=\"evenodd\" fill-opacity=\"1\" /><path clip-path=\"url(#clip920)\" d=\"M1172.41 28.9478 L1172.41 35.9153 Q1169.26 34.1734 1166.05 33.3227 Q1162.9 32.4315 1159.65 32.4315 Q1152.4 32.4315 1148.39 37.0496 Q1144.38 41.6271 1144.38 49.9314 Q1144.38 58.2358 1148.39 62.8538 Q1152.4 67.4314 1159.65 67.4314 Q1162.9 67.4314 1166.05 66.5807 Q1169.26 65.6895 1172.41 63.9476 L1172.41 70.8341 Q1169.3 72.2924 1165.93 73.0216 Q1162.61 73.7508 1158.84 73.7508 Q1148.6 73.7508 1142.56 67.3098 Q1136.52 60.8689 1136.52 49.9314 Q1136.52 38.832 1142.6 32.472 Q1148.72 26.1121 1159.33 26.1121 Q1162.77 26.1121 1166.05 26.8413 Q1169.34 27.5299 1172.41 28.9478 Z\" fill=\"#000000\" fill-rule=\"evenodd\" fill-opacity=\"1\" /><path clip-path=\"url(#clip920)\" d=\"M1218.03 28.9478 L1218.03 35.9153 Q1214.87 34.1734 1211.67 33.3227 Q1208.51 32.4315 1205.27 32.4315 Q1198.02 32.4315 1194.01 37.0496 Q1190 41.6271 1190 49.9314 Q1190 58.2358 1194.01 62.8538 Q1198.02 67.4314 1205.27 67.4314 Q1208.51 67.4314 1211.67 66.5807 Q1214.87 65.6895 1218.03 63.9476 L1218.03 70.8341 Q1214.91 72.2924 1211.55 73.0216 Q1208.22 73.7508 1204.46 73.7508 Q1194.21 73.7508 1188.17 67.3098 Q1182.14 60.8689 1182.14 49.9314 Q1182.14 38.832 1188.21 32.472 Q1194.33 26.1121 1204.94 26.1121 Q1208.39 26.1121 1211.67 26.8413 Q1214.95 27.5299 1218.03 28.9478 Z\" fill=\"#000000\" fill-rule=\"evenodd\" fill-opacity=\"1\" /><path clip-path=\"url(#clip920)\" d=\"M1230.22 54.671 L1230.22 27.2059 L1237.67 27.2059 L1237.67 54.3874 Q1237.67 60.8284 1240.19 64.0691 Q1242.7 67.2693 1247.72 67.2693 Q1253.76 67.2693 1257.24 63.421 Q1260.77 59.5726 1260.77 52.9291 L1260.77 27.2059 L1268.22 27.2059 L1268.22 72.576 L1260.77 72.576 L1260.77 65.6084 Q1258.05 69.7404 1254.45 71.7658 Q1250.88 73.7508 1246.14 73.7508 Q1238.32 73.7508 1234.27 68.8897 Q1230.22 64.0286 1230.22 54.671 M1248.98 26.1121 L1248.98 26.1121 Z\" fill=\"#000000\" fill-rule=\"evenodd\" fill-opacity=\"1\" /><path clip-path=\"url(#clip920)\" d=\"M1309.86 34.1734 Q1308.61 33.4443 1307.11 33.1202 Q1305.65 32.7556 1303.87 32.7556 Q1297.55 32.7556 1294.14 36.8875 Q1290.78 40.9789 1290.78 48.6757 L1290.78 72.576 L1283.29 72.576 L1283.29 27.2059 L1290.78 27.2059 L1290.78 34.2544 Q1293.13 30.1225 1296.9 28.1376 Q1300.67 26.1121 1306.05 26.1121 Q1306.82 26.1121 1307.76 26.2337 Q1308.69 26.3147 1309.82 26.5172 L1309.86 34.1734 Z\" fill=\"#000000\" fill-rule=\"evenodd\" fill-opacity=\"1\" /><path clip-path=\"url(#clip920)\" d=\"M1338.3 49.7694 Q1329.27 49.7694 1325.78 51.8354 Q1322.3 53.9013 1322.3 58.8839 Q1322.3 62.8538 1324.89 65.2034 Q1327.52 67.5124 1332.02 67.5124 Q1338.22 67.5124 1341.95 63.1374 Q1345.71 58.7219 1345.71 51.4303 L1345.71 49.7694 L1338.3 49.7694 M1353.17 46.6907 L1353.17 72.576 L1345.71 72.576 L1345.71 65.6895 Q1343.16 69.8214 1339.35 71.8063 Q1335.54 73.7508 1330.04 73.7508 Q1323.07 73.7508 1318.94 69.8619 Q1314.84 65.9325 1314.84 59.3701 Q1314.84 51.7138 1319.95 47.825 Q1325.09 43.9361 1335.26 43.9361 L1345.71 43.9361 L1345.71 43.2069 Q1345.71 38.0623 1342.31 35.2672 Q1338.95 32.4315 1332.83 32.4315 Q1328.94 32.4315 1325.26 33.3632 Q1321.57 34.295 1318.17 36.1584 L1318.17 29.2718 Q1322.26 27.692 1326.11 26.9223 Q1329.95 26.1121 1333.6 26.1121 Q1343.44 26.1121 1348.31 31.2163 Q1353.17 36.3204 1353.17 46.6907 Z\" fill=\"#000000\" fill-rule=\"evenodd\" fill-opacity=\"1\" /><path clip-path=\"url(#clip920)\" d=\"M1401.17 28.9478 L1401.17 35.9153 Q1398.01 34.1734 1394.81 33.3227 Q1391.65 32.4315 1388.41 32.4315 Q1381.16 32.4315 1377.15 37.0496 Q1373.14 41.6271 1373.14 49.9314 Q1373.14 58.2358 1377.15 62.8538 Q1381.16 67.4314 1388.41 67.4314 Q1391.65 67.4314 1394.81 66.5807 Q1398.01 65.6895 1401.17 63.9476 L1401.17 70.8341 Q1398.05 72.2924 1394.69 73.0216 Q1391.37 73.7508 1387.6 73.7508 Q1377.35 73.7508 1371.31 67.3098 Q1365.28 60.8689 1365.28 49.9314 Q1365.28 38.832 1371.35 32.472 Q1377.47 26.1121 1388.08 26.1121 Q1391.53 26.1121 1394.81 26.8413 Q1398.09 27.5299 1401.17 28.9478 Z\" fill=\"#000000\" fill-rule=\"evenodd\" fill-opacity=\"1\" /><path clip-path=\"url(#clip920)\" d=\"M1433.01 76.7889 Q1429.85 84.8907 1426.85 87.3618 Q1423.85 89.8329 1418.83 89.8329 L1412.88 89.8329 L1412.88 83.5945 L1417.25 83.5945 Q1420.33 83.5945 1422.03 82.1361 Q1423.73 80.6778 1425.8 75.2496 L1427.14 71.8468 L1408.79 27.2059 L1416.68 27.2059 L1430.86 62.6918 L1445.04 27.2059 L1452.94 27.2059 L1433.01 76.7889 Z\" fill=\"#000000\" fill-rule=\"evenodd\" fill-opacity=\"1\" /><polyline clip-path=\"url(#clip922)\" style=\"stroke:#009af9; stroke-linecap:butt; stroke-linejoin:round; stroke-width:4; stroke-opacity:1; fill:none\" points=\"\n",
       "  247.59,624.944 555.22,830.677 735.172,573.511 862.85,624.944 961.885,774.1 1042.8,603.085 1111.22,595.37 1170.48,451.358 1222.75,767.671 1269.51,631.373 \n",
       "  1311.82,599.228 1350.43,579.94 1385.96,547.795 1418.85,727.81 1449.47,522.078 1478.11,623.659 1505.02,618.515 1530.38,676.377 1554.38,615.944 1577.15,676.377 \n",
       "  1598.8,582.512 1619.45,659.662 1639.17,597.942 1658.06,545.223 1676.18,628.802 1693.59,506.648 1710.34,628.802 1726.48,660.947 1742.05,561.939 1757.1,702.094 \n",
       "  1771.65,579.94 1785.74,703.38 1799.4,621.087 1812.65,650.661 1825.51,653.233 1838.01,604.371 1850.17,744.526 1862.01,568.368 1873.54,718.81 1884.78,676.377 \n",
       "  1895.73,551.652 1906.43,605.657 1916.87,802.388 1927.08,640.374 1937.05,576.083 1946.8,579.94 1956.35,685.378 1965.69,597.942 1974.84,550.366 1983.81,608.229 \n",
       "  1992.6,591.513 2001.22,464.216 2009.67,793.388 2017.97,685.378 2026.11,717.524 2034.11,456.501 2041.96,650.661 2049.68,714.952 2057.27,709.809 2064.73,610.8 \n",
       "  2072.06,572.225 2079.28,595.37 2086.38,586.37 2093.37,790.816 2100.25,501.505 2107.03,546.509 2113.7,466.788 2120.28,797.245 2126.76,622.373 2133.14,644.232 \n",
       "  2139.44,623.659 2145.64,682.807 2151.77,572.225 2157.8,551.652 2163.76,627.516 2169.64,632.659 2175.44,567.082 2181.17,613.372 2186.82,650.661 2192.41,617.229 \n",
       "  2197.92,663.519 2203.36,653.233 2208.74,689.236 2214.06,594.085 2219.31,669.948 2224.5,684.092 2229.63,703.38 2234.71,666.091 2239.72,650.661 2244.68,639.088 \n",
       "  2249.58,795.959 2254.43,731.668 2259.23,678.949 2263.98,640.374 2268.68,723.953 2273.32,744.526 2277.92,736.811 2282.47,753.527 2286.98,699.522 2291.44,754.813 \n",
       "  \n",
       "  \"/>\n",
       "<polyline clip-path=\"url(#clip922)\" style=\"stroke:#e26f46; stroke-linecap:butt; stroke-linejoin:round; stroke-width:4; stroke-opacity:1; fill:none\" points=\"\n",
       "  247.59,162.047 555.22,162.047 735.172,1447.87 862.85,162.047 961.885,162.047 1042.8,162.047 1111.22,162.047 1170.48,1447.87 1222.75,162.047 1269.51,1447.87 \n",
       "  1311.82,162.047 1350.43,162.047 1385.96,1447.87 1418.85,162.047 1449.47,1447.87 1478.11,1375.92 1505.02,1447.87 1530.38,162.047 1554.38,1447.87 1577.15,1447.87 \n",
       "  1598.8,1447.87 1619.45,163.216 1639.17,162.047 1658.06,698.895 1676.18,204.744 1693.59,1447.87 1710.34,162.047 1726.48,162.047 1742.05,162.047 1757.1,162.047 \n",
       "  1771.65,162.047 1785.74,162.047 1799.4,162.047 1812.65,162.047 1825.51,162.047 1838.01,162.047 1850.17,162.047 1862.01,1160.25 1873.54,162.047 1884.78,162.047 \n",
       "  1895.73,1443.17 1906.43,1447.87 1916.87,162.047 1927.08,162.047 1937.05,1028.04 1946.8,164.385 1956.35,162.047 1965.69,162.047 1974.84,1447.87 1983.81,162.047 \n",
       "  1992.6,162.047 2001.22,1447.87 2009.67,846.088 2017.97,280.109 2026.11,162.047 2034.11,1316.86 2041.96,1447.87 2049.68,1405.73 2057.27,205.297 2064.73,1323.87 \n",
       "  2072.06,511.189 2079.28,162.047 2086.38,583.57 2093.37,162.047 2100.25,162.047 2107.03,162.047 2113.7,1447.87 2120.28,162.047 2126.76,1070.58 2133.14,795.239 \n",
       "  2139.44,1053.2 2145.64,273.126 2151.77,171.983 2157.8,371.87 2163.76,725.78 2169.64,173.152 2175.44,845.657 2181.17,457.879 2186.82,162.047 2192.41,247.994 \n",
       "  2197.92,173.183 2203.36,208.804 2208.74,162.047 2214.06,1143.24 2219.31,992.389 2224.5,171.398 2229.63,162.047 2234.71,359.627 2239.72,166.169 2244.68,1415.73 \n",
       "  2249.58,997.619 2254.43,162.047 2259.23,177.828 2263.98,1356.11 2268.68,1191.66 2273.32,1203.5 2277.92,1071.72 2282.47,278.386 2286.98,778.936 2291.44,1054.34 \n",
       "  \n",
       "  \"/>\n",
       "<path clip-path=\"url(#clip920)\" d=\"\n",
       "M1870.82 324.425 L2280.54 324.425 L2280.54 168.905 L1870.82 168.905  Z\n",
       "  \" fill=\"#ffffff\" fill-rule=\"evenodd\" fill-opacity=\"1\"/>\n",
       "<polyline clip-path=\"url(#clip920)\" style=\"stroke:#000000; stroke-linecap:butt; stroke-linejoin:round; stroke-width:4; stroke-opacity:1; fill:none\" points=\"\n",
       "  1870.82,324.425 2280.54,324.425 2280.54,168.905 1870.82,168.905 1870.82,324.425 \n",
       "  \"/>\n",
       "<polyline clip-path=\"url(#clip920)\" style=\"stroke:#009af9; stroke-linecap:butt; stroke-linejoin:round; stroke-width:4; stroke-opacity:1; fill:none\" points=\"\n",
       "  1894.82,220.745 2038.82,220.745 \n",
       "  \"/>\n",
       "<path clip-path=\"url(#clip920)\" d=\"M2062.82 203.465 L2092.05 203.465 L2092.05 207.4 L2079.79 207.4 L2079.79 238.025 L2075.09 238.025 L2075.09 207.4 L2062.82 207.4 L2062.82 203.465 Z\" fill=\"#000000\" fill-rule=\"evenodd\" fill-opacity=\"1\" /><path clip-path=\"url(#clip920)\" d=\"M2104.44 216.08 Q2103.72 215.664 2102.86 215.478 Q2102.03 215.27 2101.01 215.27 Q2097.4 215.27 2095.46 217.631 Q2093.54 219.969 2093.54 224.367 L2093.54 238.025 L2089.25 238.025 L2089.25 212.099 L2093.54 212.099 L2093.54 216.127 Q2094.88 213.766 2097.03 212.631 Q2099.18 211.474 2102.26 211.474 Q2102.7 211.474 2103.23 211.543 Q2103.77 211.59 2104.42 211.705 L2104.44 216.08 Z\" fill=\"#000000\" fill-rule=\"evenodd\" fill-opacity=\"1\" /><path clip-path=\"url(#clip920)\" d=\"M2120.69 224.992 Q2115.53 224.992 2113.54 226.173 Q2111.55 227.353 2111.55 230.201 Q2111.55 232.469 2113.03 233.812 Q2114.53 235.131 2117.1 235.131 Q2120.64 235.131 2122.77 232.631 Q2124.92 230.108 2124.92 225.941 L2124.92 224.992 L2120.69 224.992 M2129.18 223.233 L2129.18 238.025 L2124.92 238.025 L2124.92 234.089 Q2123.47 236.451 2121.29 237.585 Q2119.11 238.696 2115.97 238.696 Q2111.98 238.696 2109.62 236.474 Q2107.29 234.228 2107.29 230.478 Q2107.29 226.103 2110.2 223.881 Q2113.14 221.659 2118.95 221.659 L2124.92 221.659 L2124.92 221.242 Q2124.92 218.303 2122.98 216.705 Q2121.06 215.085 2117.56 215.085 Q2115.34 215.085 2113.23 215.617 Q2111.13 216.15 2109.18 217.215 L2109.18 213.279 Q2111.52 212.377 2113.72 211.937 Q2115.92 211.474 2118 211.474 Q2123.63 211.474 2126.41 214.391 Q2129.18 217.307 2129.18 223.233 Z\" fill=\"#000000\" fill-rule=\"evenodd\" fill-opacity=\"1\" /><path clip-path=\"url(#clip920)\" d=\"M2159.51 222.377 L2159.51 238.025 L2155.25 238.025 L2155.25 222.515 Q2155.25 218.835 2153.81 217.006 Q2152.38 215.178 2149.51 215.178 Q2146.06 215.178 2144.07 217.377 Q2142.08 219.576 2142.08 223.372 L2142.08 238.025 L2137.79 238.025 L2137.79 212.099 L2142.08 212.099 L2142.08 216.127 Q2143.61 213.789 2145.67 212.631 Q2147.75 211.474 2150.46 211.474 Q2154.92 211.474 2157.22 214.252 Q2159.51 217.006 2159.51 222.377 Z\" fill=\"#000000\" fill-rule=\"evenodd\" fill-opacity=\"1\" /><path clip-path=\"url(#clip920)\" d=\"M2168 212.099 L2172.26 212.099 L2172.26 238.025 L2168 238.025 L2168 212.099 M2168 202.006 L2172.26 202.006 L2172.26 207.4 L2168 207.4 L2168 202.006 Z\" fill=\"#000000\" fill-rule=\"evenodd\" fill-opacity=\"1\" /><path clip-path=\"url(#clip920)\" d=\"M2202.73 222.377 L2202.73 238.025 L2198.47 238.025 L2198.47 222.515 Q2198.47 218.835 2197.03 217.006 Q2195.6 215.178 2192.73 215.178 Q2189.28 215.178 2187.29 217.377 Q2185.29 219.576 2185.29 223.372 L2185.29 238.025 L2181.01 238.025 L2181.01 212.099 L2185.29 212.099 L2185.29 216.127 Q2186.82 213.789 2188.88 212.631 Q2190.97 211.474 2193.67 211.474 Q2198.14 211.474 2200.43 214.252 Q2202.73 217.006 2202.73 222.377 Z\" fill=\"#000000\" fill-rule=\"evenodd\" fill-opacity=\"1\" /><path clip-path=\"url(#clip920)\" d=\"M2228.28 224.761 Q2228.28 220.131 2226.36 217.585 Q2224.46 215.039 2221.01 215.039 Q2217.59 215.039 2215.66 217.585 Q2213.77 220.131 2213.77 224.761 Q2213.77 229.367 2215.66 231.914 Q2217.59 234.46 2221.01 234.46 Q2224.46 234.46 2226.36 231.914 Q2228.28 229.367 2228.28 224.761 M2232.54 234.807 Q2232.54 241.427 2229.6 244.645 Q2226.66 247.886 2220.6 247.886 Q2218.35 247.886 2216.36 247.538 Q2214.37 247.214 2212.49 246.52 L2212.49 242.376 Q2214.37 243.395 2216.2 243.881 Q2218.03 244.367 2219.92 244.367 Q2224.11 244.367 2226.2 242.168 Q2228.28 239.992 2228.28 235.571 L2228.28 233.464 Q2226.96 235.756 2224.9 236.89 Q2222.84 238.025 2219.97 238.025 Q2215.2 238.025 2212.29 234.39 Q2209.37 230.756 2209.37 224.761 Q2209.37 218.742 2212.29 215.108 Q2215.2 211.474 2219.97 211.474 Q2222.84 211.474 2224.9 212.608 Q2226.96 213.742 2228.28 216.034 L2228.28 212.099 L2232.54 212.099 L2232.54 234.807 Z\" fill=\"#000000\" fill-rule=\"evenodd\" fill-opacity=\"1\" /><polyline clip-path=\"url(#clip920)\" style=\"stroke:#e26f46; stroke-linecap:butt; stroke-linejoin:round; stroke-width:4; stroke-opacity:1; fill:none\" points=\"\n",
       "  1894.82,272.585 2038.82,272.585 \n",
       "  \"/>\n",
       "<path clip-path=\"url(#clip920)\" d=\"M2062.82 255.305 L2092.05 255.305 L2092.05 259.24 L2079.79 259.24 L2079.79 289.865 L2075.09 289.865 L2075.09 259.24 L2062.82 259.24 L2062.82 255.305 Z\" fill=\"#000000\" fill-rule=\"evenodd\" fill-opacity=\"1\" /><path clip-path=\"url(#clip920)\" d=\"M2110.5 275.837 L2110.5 277.92 L2090.92 277.92 Q2091.2 282.318 2093.56 284.633 Q2095.94 286.925 2100.18 286.925 Q2102.63 286.925 2104.92 286.323 Q2107.24 285.721 2109.51 284.517 L2109.51 288.545 Q2107.22 289.517 2104.81 290.027 Q2102.4 290.536 2099.92 290.536 Q2093.72 290.536 2090.09 286.925 Q2086.48 283.314 2086.48 277.156 Q2086.48 270.791 2089.9 267.064 Q2093.35 263.314 2099.18 263.314 Q2104.42 263.314 2107.45 266.693 Q2110.5 270.05 2110.5 275.837 M2106.24 274.587 Q2106.2 271.092 2104.28 269.008 Q2102.38 266.925 2099.23 266.925 Q2095.67 266.925 2093.51 268.939 Q2091.38 270.953 2091.06 274.61 L2106.24 274.587 Z\" fill=\"#000000\" fill-rule=\"evenodd\" fill-opacity=\"1\" /><path clip-path=\"url(#clip920)\" d=\"M2134.02 264.703 L2134.02 268.731 Q2132.22 267.805 2130.27 267.342 Q2128.33 266.879 2126.24 266.879 Q2123.07 266.879 2121.48 267.851 Q2119.9 268.823 2119.9 270.768 Q2119.9 272.249 2121.04 273.105 Q2122.17 273.939 2125.6 274.703 L2127.05 275.027 Q2131.59 275.999 2133.49 277.781 Q2135.41 279.541 2135.41 282.712 Q2135.41 286.323 2132.54 288.429 Q2129.69 290.536 2124.69 290.536 Q2122.61 290.536 2120.34 290.119 Q2118.1 289.726 2115.6 288.916 L2115.6 284.517 Q2117.96 285.744 2120.25 286.369 Q2122.54 286.971 2124.79 286.971 Q2127.8 286.971 2129.42 285.953 Q2131.04 284.911 2131.04 283.036 Q2131.04 281.3 2129.86 280.374 Q2128.7 279.448 2124.74 278.592 L2123.26 278.244 Q2119.3 277.411 2117.54 275.698 Q2115.78 273.962 2115.78 270.953 Q2115.78 267.295 2118.37 265.305 Q2120.97 263.314 2125.73 263.314 Q2128.1 263.314 2130.18 263.661 Q2132.26 264.008 2134.02 264.703 Z\" fill=\"#000000\" fill-rule=\"evenodd\" fill-opacity=\"1\" /><path clip-path=\"url(#clip920)\" d=\"M2146.41 256.578 L2146.41 263.939 L2155.18 263.939 L2155.18 267.249 L2146.41 267.249 L2146.41 281.323 Q2146.41 284.494 2147.26 285.397 Q2148.14 286.3 2150.8 286.3 L2155.18 286.3 L2155.18 289.865 L2150.8 289.865 Q2145.87 289.865 2144 288.036 Q2142.12 286.184 2142.12 281.323 L2142.12 267.249 L2139 267.249 L2139 263.939 L2142.12 263.939 L2142.12 256.578 L2146.41 256.578 Z\" fill=\"#000000\" fill-rule=\"evenodd\" fill-opacity=\"1\" /><path clip-path=\"url(#clip920)\" d=\"M2160.78 263.939 L2165.04 263.939 L2165.04 289.865 L2160.78 289.865 L2160.78 263.939 M2160.78 253.846 L2165.04 253.846 L2165.04 259.24 L2160.78 259.24 L2160.78 253.846 Z\" fill=\"#000000\" fill-rule=\"evenodd\" fill-opacity=\"1\" /><path clip-path=\"url(#clip920)\" d=\"M2195.5 274.217 L2195.5 289.865 L2191.24 289.865 L2191.24 274.355 Q2191.24 270.675 2189.81 268.846 Q2188.37 267.018 2185.5 267.018 Q2182.05 267.018 2180.06 269.217 Q2178.07 271.416 2178.07 275.212 L2178.07 289.865 L2173.79 289.865 L2173.79 263.939 L2178.07 263.939 L2178.07 267.967 Q2179.6 265.629 2181.66 264.471 Q2183.74 263.314 2186.45 263.314 Q2190.92 263.314 2193.21 266.092 Q2195.5 268.846 2195.5 274.217 Z\" fill=\"#000000\" fill-rule=\"evenodd\" fill-opacity=\"1\" /><path clip-path=\"url(#clip920)\" d=\"M2221.06 276.601 Q2221.06 271.971 2219.14 269.425 Q2217.24 266.879 2213.79 266.879 Q2210.36 266.879 2208.44 269.425 Q2206.54 271.971 2206.54 276.601 Q2206.54 281.207 2208.44 283.754 Q2210.36 286.3 2213.79 286.3 Q2217.24 286.3 2219.14 283.754 Q2221.06 281.207 2221.06 276.601 M2225.32 286.647 Q2225.32 293.267 2222.38 296.485 Q2219.44 299.726 2213.37 299.726 Q2211.13 299.726 2209.14 299.378 Q2207.15 299.054 2205.27 298.36 L2205.27 294.216 Q2207.15 295.235 2208.98 295.721 Q2210.8 296.207 2212.7 296.207 Q2216.89 296.207 2218.98 294.008 Q2221.06 291.832 2221.06 287.411 L2221.06 285.304 Q2219.74 287.596 2217.68 288.73 Q2215.62 289.865 2212.75 289.865 Q2207.98 289.865 2205.06 286.23 Q2202.15 282.596 2202.15 276.601 Q2202.15 270.582 2205.06 266.948 Q2207.98 263.314 2212.75 263.314 Q2215.62 263.314 2217.68 264.448 Q2219.74 265.582 2221.06 267.874 L2221.06 263.939 L2225.32 263.939 L2225.32 286.647 Z\" fill=\"#000000\" fill-rule=\"evenodd\" fill-opacity=\"1\" /></svg>\n"
      ]
     },
     "execution_count": 59,
     "metadata": {},
     "output_type": "execute_result"
    }
   ],
   "source": [
    "#draw graph\n",
    "x = 1:100\n",
    "x = [log(i) for i in x]\n",
    "y = hcat(acc_list_train,acc_list_pred)\n",
    "plot(x,y,title=\"accuracy\",label=[\"Traning\" \"Testing\"])"
   ]
  },
  {
   "cell_type": "code",
   "execution_count": 30,
   "id": "60f1fe3a",
   "metadata": {},
   "outputs": [],
   "source": [
    "#confusion matrix\n",
    "#set the matrix\n",
    "confusion = zeros(2,2)\n",
    "for (x,y) in test_data\n",
    "    pred = smodel(x)\n",
    "    pred = transpose(pred)\n",
    "    label= transpose(y)\n",
    "    \n",
    "    p = [i[2] for i in argmax(pred,dims=2)]\n",
    "    l = [i[2] for i in argmax(label,dims=2)]\n",
    "    \n",
    "    for (i,j) in zip(l,p)\n",
    "        confusion[i,j]+=1\n",
    "    end\n",
    "end"
   ]
  },
  {
   "cell_type": "code",
   "execution_count": 31,
   "id": "450fab83",
   "metadata": {},
   "outputs": [
    {
     "name": "stdout",
     "output_type": "stream",
     "text": [
      "[584.0 501.0; 89.0 1025.0]"
     ]
    }
   ],
   "source": [
    "#output the confusion matrix\n",
    "print(confusion)"
   ]
  }
 ],
 "metadata": {
  "kernelspec": {
   "display_name": "Julia 1.7.1",
   "language": "julia",
   "name": "julia-1.7"
  },
  "language_info": {
   "file_extension": ".jl",
   "mimetype": "application/julia",
   "name": "julia",
   "version": "1.7.1"
  }
 },
 "nbformat": 4,
 "nbformat_minor": 5
}
