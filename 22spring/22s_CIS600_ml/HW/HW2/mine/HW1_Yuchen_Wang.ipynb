{
 "cells": [
  {
   "cell_type": "code",
   "execution_count": 2,
   "id": "controlled-jerusalem",
   "metadata": {},
   "outputs": [
    {
     "ename": "LoadError",
     "evalue": "InterruptException:",
     "output_type": "error",
     "traceback": [
      "InterruptException:",
      "",
      "Stacktrace:",
      " [1] CSV.File(ctx::CSV.Context, chunking::Bool)",
      "   @ CSV ~/.julia/packages/CSV/0Elut/src/file.jl:291",
      " [2] File",
      "   @ ~/.julia/packages/CSV/0Elut/src/file.jl:226 [inlined]",
      " [3] #File#25",
      "   @ ~/.julia/packages/CSV/0Elut/src/file.jl:222 [inlined]",
      " [4] File",
      "   @ ~/.julia/packages/CSV/0Elut/src/file.jl:221 [inlined]",
      " [5] read(source::String, sink::Type; copycols::Bool, kwargs::Base.Iterators.Pairs{Union{}, Union{}, Tuple{}, NamedTuple{(), Tuple{}}})",
      "   @ CSV ~/.julia/packages/CSV/0Elut/src/CSV.jl:91",
      " [6] read(source::String, sink::Type)",
      "   @ CSV ~/.julia/packages/CSV/0Elut/src/CSV.jl:88",
      " [7] top-level scope",
      "   @ In[2]:3",
      " [8] eval",
      "   @ ./boot.jl:360 [inlined]",
      " [9] include_string(mapexpr::typeof(REPL.softscope), mod::Module, code::String, filename::String)",
      "   @ Base ./loading.jl:1116"
     ]
    }
   ],
   "source": [
    "using ZipFile, Distributed, CSV, DataFrames, Random, StatsBase, Plots, Statistics, StableRNGs, MLJBase\n",
    "\n",
    "file = CSV.read(\"train.csv\", DataFrame)"
   ]
  },
  {
   "cell_type": "code",
   "execution_count": null,
   "id": "postal-class",
   "metadata": {},
   "outputs": [
    {
     "data": {
      "text/plain": [
       "1000×21 Matrix{Float64}:\n",
       " 1021.0  1.0  0.5  1.0   0.0  1.0  53.0  …   3.0   7.0  1.0  1.0  0.0  2.0\n",
       "  563.0  1.0  0.5  1.0   2.0  1.0  41.0      2.0   9.0  1.0  1.0  0.0  2.0\n",
       "  615.0  1.0  2.5  0.0   0.0  0.0  10.0      8.0  11.0  1.0  0.0  0.0  2.0\n",
       " 1821.0  0.0  1.7  0.0   4.0  1.0  10.0      8.0  18.0  1.0  0.0  1.0  3.0\n",
       "  769.0  1.0  2.9  1.0   0.0  0.0   9.0      2.0   7.0  0.0  0.0  0.0  3.0\n",
       " 1520.0  1.0  2.2  0.0   5.0  1.0  33.0  …   9.0  13.0  1.0  1.0  1.0  3.0\n",
       "  803.0  1.0  2.1  0.0   7.0  0.0  17.0      1.0   4.0  1.0  0.0  1.0  2.0\n",
       "  838.0  0.0  0.5  0.0   1.0  1.0  13.0      9.0  19.0  1.0  0.0  1.0  3.0\n",
       "  595.0  0.0  0.9  1.0   7.0  1.0  23.0      2.0  18.0  1.0  1.0  0.0  3.0\n",
       "  772.0  0.0  1.1  1.0  12.0  0.0  39.0     15.0   3.0  1.0  1.0  0.0  3.0\n",
       " 1709.0  1.0  2.1  0.0   1.0  0.0  13.0  …   1.0  15.0  1.0  0.0  0.0  3.0\n",
       "  961.0  1.0  1.4  1.0   0.0  1.0  57.0      9.0   7.0  1.0  1.0  1.0  2.0\n",
       "  519.0  1.0  1.6  1.0   7.0  1.0  51.0      1.0   4.0  1.0  0.0  1.0  3.0\n",
       "    ⋮                         ⋮          ⋱   ⋮                         ⋮\n",
       "  816.0  0.0  3.0  1.0   2.0  0.0   9.0      3.0  14.0  1.0  0.0  1.0  3.0\n",
       " 1157.0  1.0  0.8  0.0   7.0  0.0  27.0      4.0   2.0  1.0  0.0  1.0  3.0\n",
       " 1379.0  0.0  1.1  1.0   1.0  1.0  18.0  …   5.0  15.0  1.0  1.0  0.0  2.0\n",
       " 1784.0  0.0  1.6  0.0   4.0  0.0  41.0      1.0  11.0  0.0  1.0  0.0  2.0\n",
       " 1262.0  0.0  1.8  1.0  12.0  0.0  34.0      3.0   4.0  0.0  1.0  1.0  2.0\n",
       " 1829.0  1.0  2.1  0.0   8.0  0.0  59.0      6.0   5.0  1.0  1.0  1.0  3.0\n",
       " 1882.0  0.0  2.0  0.0  11.0  1.0  44.0      8.0  20.0  1.0  1.0  0.0  3.0\n",
       " 1467.0  1.0  0.5  0.0   0.0  0.0  18.0  …  11.0   5.0  1.0  1.0  1.0  3.0\n",
       "  858.0  0.0  2.2  0.0   1.0  0.0  50.0     16.0   3.0  1.0  1.0  0.0  3.0\n",
       " 1965.0  1.0  2.6  1.0   0.0  0.0  39.0     10.0  16.0  1.0  1.0  1.0  2.0\n",
       " 1911.0  0.0  0.9  1.0   1.0  1.0  36.0      1.0   5.0  1.0  1.0  0.0  3.0\n",
       "  510.0  1.0  2.0  1.0   5.0  1.0  45.0      4.0   2.0  1.0  1.0  1.0  3.0"
      ]
     },
     "execution_count": 18,
     "metadata": {},
     "output_type": "execute_result"
    }
   ],
   "source": [
    "df = file |> Tables.matrix\n",
    "\n",
    "mat_0 = df[df[:,21] .<= 1, :]\n",
    "mat_1 = df[df[:,21] .>= 2, :]"
   ]
  },
  {
   "cell_type": "code",
   "execution_count": null,
   "id": "weekly-presentation",
   "metadata": {},
   "outputs": [
    {
     "data": {
      "text/plain": [
       "568×21 Matrix{Float64}:\n",
       "  842.0  0.0  2.2  0.0   1.0  0.0   7.0  …   7.0  19.0  0.0  0.0  1.0  1.0\n",
       " 1445.0  1.0  0.5  0.0   0.0  0.0  53.0      1.0  20.0  1.0  0.0  0.0  0.0\n",
       " 1815.0  0.0  2.8  0.0   2.0  0.0  33.0      0.0   2.0  1.0  0.0  0.0  1.0\n",
       " 1866.0  0.0  0.5  0.0  13.0  1.0  52.0      9.0   3.0  1.0  0.0  1.0  0.0\n",
       " 1949.0  0.0  2.6  1.0   4.0  0.0  47.0      5.0  20.0  0.0  0.0  1.0  1.0\n",
       "  851.0  0.0  0.5  0.0   3.0  0.0  21.0  …   7.0  10.0  1.0  0.0  1.0  0.0\n",
       " 1319.0  1.0  0.9  0.0   3.0  1.0  41.0      5.0   3.0  1.0  1.0  1.0  1.0\n",
       "  725.0  0.0  1.3  1.0  16.0  0.0  60.0      4.0  15.0  1.0  0.0  0.0  1.0\n",
       " 1253.0  1.0  0.5  1.0   5.0  1.0   5.0      0.0   4.0  1.0  1.0  0.0  1.0\n",
       "  823.0  1.0  2.7  1.0  13.0  0.0  60.0     11.0  17.0  1.0  1.0  1.0  0.0\n",
       " 1484.0  0.0  3.0  0.0   3.0  0.0  12.0  …   4.0  20.0  1.0  1.0  0.0  1.0\n",
       " 1114.0  0.0  2.8  0.0   4.0  1.0   9.0      7.0  17.0  1.0  1.0  0.0  0.0\n",
       " 1127.0  1.0  2.9  1.0   5.0  1.0  57.0      5.0  17.0  1.0  1.0  1.0  1.0\n",
       "    ⋮                         ⋮          ⋱   ⋮                         ⋮\n",
       " 1361.0  1.0  1.4  0.0   1.0  0.0  47.0      7.0  16.0  0.0  0.0  1.0  2.0\n",
       "  709.0  0.0  2.4  1.0   1.0  0.0  11.0     14.0   3.0  0.0  0.0  1.0  3.0\n",
       "  689.0  0.0  1.4  0.0   2.0  0.0  45.0      1.0  10.0  1.0  0.0  0.0  3.0\n",
       "  591.0  1.0  0.5  1.0   1.0  1.0  16.0      0.0   5.0  1.0  1.0  0.0  3.0\n",
       " 1976.0  1.0  2.6  1.0   6.0  0.0  45.0  …   1.0   3.0  0.0  0.0  0.0  3.0\n",
       " 1063.0  0.0  2.0  0.0   0.0  0.0  27.0      5.0  19.0  0.0  0.0  0.0  2.0\n",
       " 1583.0  0.0  1.2  1.0   0.0  0.0  14.0      6.0   8.0  0.0  0.0  1.0  2.0\n",
       " 1913.0  1.0  1.8  0.0   0.0  0.0  29.0     13.0   8.0  1.0  1.0  0.0  2.0\n",
       "  816.0  0.0  3.0  1.0   2.0  0.0   9.0      3.0  14.0  1.0  0.0  1.0  3.0\n",
       " 1379.0  0.0  1.1  1.0   1.0  1.0  18.0  …   5.0  15.0  1.0  1.0  0.0  2.0\n",
       " 1262.0  0.0  1.8  1.0  12.0  0.0  34.0      3.0   4.0  0.0  1.0  1.0  2.0\n",
       " 1829.0  1.0  2.1  0.0   8.0  0.0  59.0      6.0   5.0  1.0  1.0  1.0  3.0"
      ]
     },
     "execution_count": 19,
     "metadata": {},
     "output_type": "execute_result"
    }
   ],
   "source": [
    "train_data = randsubseq(1:1000, 0.7)\n",
    "train_df = vcat(mat_0[train_data, :], mat_1[train_data, :])\n",
    "\n",
    "test_data = [i for i in 1:1000 if isempty(searchsorted(train_data, i))]\n",
    "test_df = vcat(mat_0[test_data, :], mat_1[test_data, :])"
   ]
  },
  {
   "cell_type": "code",
   "execution_count": null,
   "id": "featured-residence",
   "metadata": {},
   "outputs": [
    {
     "data": {
      "text/plain": [
       "568-element Vector{Float64}:\n",
       " 1.0\n",
       " 0.0\n",
       " 1.0\n",
       " 0.0\n",
       " 1.0\n",
       " 0.0\n",
       " 1.0\n",
       " 1.0\n",
       " 1.0\n",
       " 0.0\n",
       " 1.0\n",
       " 0.0\n",
       " 1.0\n",
       " ⋮\n",
       " 2.0\n",
       " 3.0\n",
       " 3.0\n",
       " 3.0\n",
       " 3.0\n",
       " 2.0\n",
       " 2.0\n",
       " 2.0\n",
       " 3.0\n",
       " 2.0\n",
       " 2.0\n",
       " 3.0"
      ]
     },
     "execution_count": 20,
     "metadata": {},
     "output_type": "execute_result"
    }
   ],
   "source": [
    "X_train = train_df[:, 1:20]\n",
    "X_test = test_df[:, 1:20]\n",
    "\n",
    "y_train = train_df[:, 21]\n",
    "y_test = test_df[:, 21]"
   ]
  },
  {
   "cell_type": "code",
   "execution_count": null,
   "id": "prerequisite-commercial",
   "metadata": {},
   "outputs": [
    {
     "data": {
      "text/plain": [
       "20×568 transpose(::Matrix{Float64}) with eltype Float64:\n",
       " -0.888487   0.477573   1.31579    …   0.328054   0.0629972   1.3475\n",
       " -0.989925   1.00947   -0.989925      -0.989925  -0.989925    1.00947\n",
       "  0.839761  -1.24713    1.57631       -0.510578   0.348729    0.717003\n",
       " -1.02511   -1.02511   -1.02511        0.974828   0.974828   -1.02511\n",
       " -0.762897  -0.99688   -0.528913      -0.762897   1.81092     0.874987\n",
       " -1.07057   -1.07057   -1.07057    …   0.933427  -1.07057    -1.07057\n",
       " -1.37752    1.15733    0.0552209     -0.771361   0.110326    1.48796\n",
       "  0.313961   0.662753   0.313961      -1.08121   -1.43       -1.43\n",
       "  1.38261    0.982859   0.554549      -0.30207    0.26901    -1.38712\n",
       " -1.09373    1.07315   -0.226978      -1.09373    0.206399    0.206399\n",
       " -1.29001    0.68994    1.18493    …   1.01993    1.01993     0.854935\n",
       " -1.40562   -0.593418  -0.102989       0.409633  -0.955138    1.78328\n",
       " -1.14876   -0.964795  -1.16716       -0.852116  -1.19245     1.52565\n",
       "  0.39896   -0.945138  -0.590111       0.22191    1.04691     0.94865\n",
       " -0.777092   1.13206    1.3707        -0.538448   0.177483    0.893414\n",
       "  0.276621  -1.10119   -1.33083    …  -0.18265   -0.64192     0.0469854\n",
       "  1.46931    1.65349   -1.66172        0.732599  -1.29337    -1.10919\n",
       " -1.83037    0.545957   0.545957       0.545957  -1.83037     0.545957\n",
       " -1.03085   -1.03085   -1.03085        0.969393   0.969393    0.969393\n",
       "  0.977556  -1.02224   -1.02224       -1.02224    0.977556    0.977556"
      ]
     },
     "execution_count": 21,
     "metadata": {},
     "output_type": "execute_result"
    }
   ],
   "source": [
    "dt = StatsBase.fit(ZScoreTransform, X_train, dims=1)\n",
    "\n",
    "X_train_std = StatsBase.transform(dt, X_train)\n",
    "X_test_std = StatsBase.transform(dt, X_test)\n",
    "\n",
    "X_train_std = transpose(X_train_std) \n",
    "X_test_std = transpose(X_test_std)"
   ]
  },
  {
   "cell_type": "code",
   "execution_count": null,
   "id": "african-recall",
   "metadata": {},
   "outputs": [
    {
     "data": {
      "text/plain": [
       "initialise_model_weights (generic function with 2 methods)"
      ]
     },
     "execution_count": 22,
     "metadata": {},
     "output_type": "execute_result"
    }
   ],
   "source": [
    "function initialise_model_weights(layer_dims, seed = 7)\n",
    "    params = Dict()\n",
    "\n",
    "    for l=2:length(layer_dims)\n",
    "        params[string(\"W_\", (l-1))] = rand(StableRNG(seed), layer_dims[l], layer_dims[l-1]) * sqrt(2 / layer_dims[l-1])\n",
    "        params[string(\"b_\", (l-1))] = zeros(layer_dims[l], 1)\n",
    "    end\n",
    "\n",
    "    return params\n",
    "end"
   ]
  },
  {
   "cell_type": "code",
   "execution_count": null,
   "id": "essential-garden",
   "metadata": {},
   "outputs": [
    {
     "data": {
      "text/plain": [
       "calculate_cost (generic function with 1 method)"
      ]
     },
     "execution_count": 23,
     "metadata": {},
     "output_type": "execute_result"
    }
   ],
   "source": [
    "\n",
    "function sigmoid(Z)\n",
    "    A = 1 ./ (1 .+ exp.(.-Z))\n",
    "    return (A = A, Z = Z)\n",
    "end\n",
    "\n",
    "function linear_forward(A, W, b)\n",
    "    Z = (W * A) .+ b\n",
    "    cache = (A, W, b)\n",
    "\n",
    "    @assert size(Z) == (size(W, 1), size(A, 2))\n",
    "\n",
    "    return (Z = Z, cache = cache)\n",
    "end\n",
    "\n",
    "function forward_activation(A_prev, W, b, activation_function=\"sigmoid\")\n",
    "    Z, linear_cache = linear_forward(A_prev, W, b)\n",
    "\n",
    "    if activation_function == \"sigmoid\"\n",
    "        A, activation_cache = sigmoid(Z)\n",
    "    end\n",
    "\n",
    "    cache = (linear_step_cache=linear_cache, activation_step_cache=activation_cache)\n",
    "\n",
    "    @assert size(A) == (size(W, 1), size(A_prev, 2))\n",
    "\n",
    "    return A, cache\n",
    "end\n",
    "\n",
    "\n",
    "function forward_propagate_model_weights(input, parameters)\n",
    "    master_cache = []\n",
    "    A = input\n",
    "    L = Int(length(parameters) / 2)\n",
    "\n",
    "    for l = 1 : (L-1)\n",
    "        A_prev = A\n",
    "        A, cache = forward_activation(A_prev, parameters[string(\"W_\", (l))], parameters[string(\"b_\", (l))], \"sigmoid\")\n",
    "        push!(master_cache , cache)\n",
    "    end\n",
    "\n",
    "    Ŷ, cache = forward_activation(A, parameters[string(\"W_\", (L))], parameters[string(\"b_\", (L))], \"sigmoid\")\n",
    "    push!(master_cache, cache)\n",
    "\n",
    "    return Ŷ, master_cache\n",
    "end\n",
    "\n",
    "function calculate_cost(Ŷ, Y)\n",
    "    m = max(size(Y, 2), size(Y, 1))\n",
    "    epsilon = eps(1.0)\n",
    "\n",
    "    Ŷ_new = [max(i, epsilon) for i in Ŷ]\n",
    "    Ŷ_new = [min(i, 1-epsilon) for i in Ŷ_new]\n",
    "\n",
    "    cost = -sum(Y .* log.(Ŷ_new) + (1 .- Y) .* log.(1 .- Ŷ_new)) / m\n",
    "    return cost\n",
    "end"
   ]
  },
  {
   "cell_type": "code",
   "execution_count": null,
   "id": "appointed-treatment",
   "metadata": {},
   "outputs": [
    {
     "data": {
      "text/plain": [
       "activation_backward (generic function with 2 methods)"
      ]
     },
     "execution_count": 24,
     "metadata": {},
     "output_type": "execute_result"
    }
   ],
   "source": [
    "function sigmoid_backwards(∂A, activated_cache)\n",
    "    s = sigmoid(activated_cache).A\n",
    "    ∂Z = ∂A .* s .* (1 .- s)\n",
    "\n",
    "    @assert (size(∂Z) == size(activated_cache))\n",
    "    return ∂Z\n",
    "end\n",
    "\n",
    "function linear_backward(∂Z, cache)\n",
    "    # Unpack cache\n",
    "    A_prev , W , b = cache\n",
    "    m = size(A_prev, 2)\n",
    "\n",
    "    # Partial derivates of each of the components\n",
    "    ∂W = ∂Z * (A_prev') / m\n",
    "    ∂b = sum(∂Z, dims = 2) / m\n",
    "    ∂A_prev = (W') * ∂Z\n",
    "\n",
    "    @assert (size(∂A_prev) == size(A_prev))\n",
    "    @assert (size(∂W) == size(W))\n",
    "    @assert (size(∂b) == size(b))\n",
    "\n",
    "    return ∂W , ∂b , ∂A_prev\n",
    "end\n",
    "\n",
    "function activation_backward(∂A, cache, activation_function=\"sigmiod\")\n",
    "    @assert activation_function ∈ (\"sigmoid\", \"relu\")\n",
    "\n",
    "    linear_cache , cache_activation = cache\n",
    "\n",
    "    if (activation_function == \"relu\")\n",
    "\n",
    "        ∂Z = relu_backwards(∂A , cache_activation)\n",
    "        ∂W , ∂b , ∂A_prev = linear_backward(∂Z , linear_cache)\n",
    "\n",
    "    elseif (activation_function == \"sigmoid\")\n",
    "\n",
    "        ∂Z = sigmoid_backwards(∂A , cache_activation)\n",
    "        ∂W , ∂b , ∂A_prev = linear_backward(∂Z , linear_cache)\n",
    "\n",
    "    end\n",
    "\n",
    "    return ∂W , ∂b , ∂A_prev\n",
    "end"
   ]
  },
  {
   "cell_type": "code",
   "execution_count": null,
   "id": "civic-vaccine",
   "metadata": {},
   "outputs": [
    {
     "data": {
      "text/plain": [
       "back_propagate_model_weights (generic function with 1 method)"
      ]
     },
     "execution_count": 25,
     "metadata": {},
     "output_type": "execute_result"
    }
   ],
   "source": [
    "function back_propagate_model_weights(Ŷ, Y, master_cache)\n",
    "    ∇ = Dict()\n",
    "\n",
    "    L = length(master_cache)\n",
    "    Y = reshape(Y , size(Ŷ))\n",
    "\n",
    "    ∂Ŷ = (-(Y ./ Ŷ) .+ ((1 .- Y) ./ ( 1 .- Ŷ)))\n",
    "    current_cache = master_cache[L]\n",
    "\n",
    "        ∇[string(\"∂W_\", (L))], ∇[string(\"∂b_\", (L))], ∇[string(\"∂A_\", (L-1))] = activation_backward(∂Ŷ, current_cache, \"sigmoid\")\n",
    "\n",
    "    for l=reverse(0:L-2)\n",
    "        current_cache = master_cache[l+1]\n",
    "        ∇[string(\"∂W_\", (l+1))], ∇[string(\"∂b_\", (l+1))], ∇[string(\"∂A_\", (l))] = activation_backward(∇[string(\"∂A_\", (l+1))],\n",
    "                                                                                                             current_cache,\n",
    "                                                                                                             \"sigmoid\")\n",
    "    end\n",
    "    return ∇\n",
    "end"
   ]
  },
  {
   "cell_type": "code",
   "execution_count": null,
   "id": "smart-commons",
   "metadata": {},
   "outputs": [
    {
     "data": {
      "text/plain": [
       "calculate_accuracy (generic function with 1 method)"
      ]
     },
     "execution_count": 26,
     "metadata": {},
     "output_type": "execute_result"
    }
   ],
   "source": [
    "\n",
    "function update_model_weights(parameters, ∇, η)\n",
    "    L = Int(length(parameters) / 2)\n",
    "\n",
    "    for l = 0: (L-1)\n",
    "        parameters[string(\"W_\", (l + 1))] -= η .* ∇[string(\"∂W_\", (l + 1))]\n",
    "        parameters[string(\"b_\", (l + 1))] -= η .* ∇[string(\"∂b_\", (l + 1))]\n",
    "    end\n",
    "\n",
    "    return parameters\n",
    "end\n",
    "\n",
    "\n",
    "function calculate_accuracy(Ŷ , Y)\n",
    "    @assert size(Ŷ) == size(Y)\n",
    "    return sum((Ŷ .> 0.5) .== Y) / length(Y)\n",
    "end"
   ]
  },
  {
   "cell_type": "code",
   "execution_count": null,
   "id": "da3d61c3",
   "metadata": {},
   "outputs": [
    {
     "data": {
      "text/plain": [
       "assess_accuracy (generic function with 1 method)"
      ]
     },
     "execution_count": 27,
     "metadata": {},
     "output_type": "execute_result"
    }
   ],
   "source": [
    "function assess_accuracy(Ŷ , Y)\n",
    "    @assert size(Ŷ) == size(Y)\n",
    "    return sum((Ŷ .> 0.5) .== Y) / length(Y)\n",
    "end"
   ]
  },
  {
   "cell_type": "code",
   "execution_count": null,
   "id": "through-awareness",
   "metadata": {},
   "outputs": [
    {
     "data": {
      "text/plain": [
       "update_model_weights_counts (generic function with 1 method)"
      ]
     },
     "execution_count": 28,
     "metadata": {},
     "output_type": "execute_result"
    }
   ],
   "source": [
    "\n",
    "function update_model_weights_counts(parameters_old,parameters_new)\n",
    "    L=Int(length(parameters_old) / 2)\n",
    "    count=0\n",
    "    for l = 0 : (L-1)\n",
    "        for m=1:Int(size(parameters_old[string(\"W_\",(l+1))])[L])\n",
    "            if parameters_old[string(\"W_\",(l+1))]!=parameters_new[string(\"W_\",(l+1))]\n",
    "                count=count+1\n",
    "            end\n",
    "        end\n",
    "    end\n",
    "    return count\n",
    "end\n",
    "        "
   ]
  },
  {
   "cell_type": "code",
   "execution_count": null,
   "id": "together-continuity",
   "metadata": {},
   "outputs": [
    {
     "data": {
      "text/plain": [
       "train_network (generic function with 1 method)"
      ]
     },
     "execution_count": 29,
     "metadata": {},
     "output_type": "execute_result"
    }
   ],
   "source": [
    "function train_network(layer_dims , DMatrix, Y;  η=0.001, epochs=1000, seed=2020, verbose=true)\n",
    "    # Initiate an empty container for cost, iterations, and accuracy at each iteration\n",
    "    costs = []\n",
    "    iters = []\n",
    "    accuracy = []\n",
    "\n",
    "    # Initialise random weights for the network\n",
    "    params = initialise_model_weights(layer_dims, seed)\n",
    "\n",
    "    # Train the network\n",
    "    for i = 1:epochs\n",
    "\n",
    "        Ŷ , caches  = forward_propagate_model_weights(DMatrix, params)\n",
    "        cost = calculate_cost(Ŷ, Y)\n",
    "        acc = assess_accuracy(Ŷ, Y)\n",
    "        ∇  = back_propagate_model_weights(Ŷ, Y, caches)\n",
    "        params = update_model_weights(params, ∇, η)\n",
    "\n",
    "        if verbose\n",
    "            println(\"Iteration -> $i, Cost -> $cost, Accuracy -> $acc\")\n",
    "        end\n",
    "\n",
    "        # Update containers for cost, iterations, and accuracy at the current iteration (epoch)\n",
    "        push!(iters , i)\n",
    "        push!(costs , cost)\n",
    "        push!(accuracy , acc)\n",
    "    end\n",
    "        return (cost = costs, iterations = iters, accuracy = accuracy, parameters = params)\n",
    "end"
   ]
  },
  {
   "cell_type": "code",
   "execution_count": null,
   "id": "87a35964",
   "metadata": {},
   "outputs": [
    {
     "name": "stdout",
     "output_type": "stream",
     "text": [
      "Iteration -> 1, Cost -> 0.7949866042983018, Accuracy -> 0.5\n",
      "Iteration -> 2, Cost -> 0.7937055685736337, Accuracy -> 0.5\n",
      "Iteration -> 3, Cost -> 0.7924400661977145, Accuracy -> 0.5\n",
      "Iteration -> 4, Cost -> 0.791189934378869, Accuracy -> 0.5\n",
      "Iteration -> 5, Cost -> 0.789955011359361, Accuracy -> 0.5\n",
      "Iteration -> 6, Cost -> 0.7887351364261839, Accuracy -> 0.5\n",
      "Iteration -> 7, Cost -> 0.7875301499213111, Accuracy -> 0.5\n",
      "Iteration -> 8, Cost -> 0.7863398932514165, Accuracy -> 0.5\n",
      "Iteration -> 9, Cost -> 0.7851642088970706, Accuracy -> 0.5\n",
      "Iteration -> 10, Cost -> 0.7840029404214236, Accuracy -> 0.5\n"
     ]
    },
    {
     "data": {
      "image/svg+xml": "<?xml version=\"1.0\" encoding=\"utf-8\"?>\n<svg xmlns=\"http://www.w3.org/2000/svg\" xmlns:xlink=\"http://www.w3.org/1999/xlink\" width=\"800\" height=\"600\" viewBox=\"0 0 3200 2400\">\n<defs>\n  <clipPath id=\"clip490\">\n    <rect x=\"0\" y=\"0\" width=\"3200\" height=\"2400\"/>\n  </clipPath>\n</defs>\n<path clip-path=\"url(#clip490)\" d=\"\nM0 2400 L3200 2400 L3200 0 L0 0  Z\n  \" fill=\"#ffffff\" fill-rule=\"evenodd\" fill-opacity=\"1\"/>\n<defs>\n  <clipPath id=\"clip491\">\n    <rect x=\"640\" y=\"0\" width=\"2241\" height=\"2241\"/>\n  </clipPath>\n</defs>\n<path clip-path=\"url(#clip490)\" d=\"\nM233.482 2204.92 L3152.76 2204.92 L3152.76 131.032 L233.482 131.032  Z\n  \" fill=\"#ffffff\" fill-rule=\"evenodd\" fill-opacity=\"1\"/>\n<defs>\n  <clipPath id=\"clip492\">\n    <rect x=\"233\" y=\"131\" width=\"2920\" height=\"2075\"/>\n  </clipPath>\n</defs>\n<polyline clip-path=\"url(#clip492)\" style=\"stroke:#000000; stroke-linecap:butt; stroke-linejoin:round; stroke-width:2; stroke-opacity:0.1; fill:none\" points=\"\n  622.107,2204.92 622.107,131.032 \n  \"/>\n<polyline clip-path=\"url(#clip492)\" style=\"stroke:#000000; stroke-linecap:butt; stroke-linejoin:round; stroke-width:2; stroke-opacity:0.1; fill:none\" points=\"\n  1234.11,2204.92 1234.11,131.032 \n  \"/>\n<polyline clip-path=\"url(#clip492)\" style=\"stroke:#000000; stroke-linecap:butt; stroke-linejoin:round; stroke-width:2; stroke-opacity:0.1; fill:none\" points=\"\n  1846.12,2204.92 1846.12,131.032 \n  \"/>\n<polyline clip-path=\"url(#clip492)\" style=\"stroke:#000000; stroke-linecap:butt; stroke-linejoin:round; stroke-width:2; stroke-opacity:0.1; fill:none\" points=\"\n  2458.13,2204.92 2458.13,131.032 \n  \"/>\n<polyline clip-path=\"url(#clip492)\" style=\"stroke:#000000; stroke-linecap:butt; stroke-linejoin:round; stroke-width:2; stroke-opacity:0.1; fill:none\" points=\"\n  3070.13,2204.92 3070.13,131.032 \n  \"/>\n<polyline clip-path=\"url(#clip490)\" style=\"stroke:#000000; stroke-linecap:butt; stroke-linejoin:round; stroke-width:4; stroke-opacity:1; fill:none\" points=\"\n  233.482,2204.92 3152.76,2204.92 \n  \"/>\n<polyline clip-path=\"url(#clip490)\" style=\"stroke:#000000; stroke-linecap:butt; stroke-linejoin:round; stroke-width:4; stroke-opacity:1; fill:none\" points=\"\n  622.107,2204.92 622.107,2186.02 \n  \"/>\n<polyline clip-path=\"url(#clip490)\" style=\"stroke:#000000; stroke-linecap:butt; stroke-linejoin:round; stroke-width:4; stroke-opacity:1; fill:none\" points=\"\n  1234.11,2204.92 1234.11,2186.02 \n  \"/>\n<polyline clip-path=\"url(#clip490)\" style=\"stroke:#000000; stroke-linecap:butt; stroke-linejoin:round; stroke-width:4; stroke-opacity:1; fill:none\" points=\"\n  1846.12,2204.92 1846.12,2186.02 \n  \"/>\n<polyline clip-path=\"url(#clip490)\" style=\"stroke:#000000; stroke-linecap:butt; stroke-linejoin:round; stroke-width:4; stroke-opacity:1; fill:none\" points=\"\n  2458.13,2204.92 2458.13,2186.02 \n  \"/>\n<polyline clip-path=\"url(#clip490)\" style=\"stroke:#000000; stroke-linecap:butt; stroke-linejoin:round; stroke-width:4; stroke-opacity:1; fill:none\" points=\"\n  3070.13,2204.92 3070.13,2186.02 \n  \"/>\n<path clip-path=\"url(#clip490)\" d=\"M616.759 2269.78 L633.079 2269.78 L633.079 2273.72 L611.135 2273.72 L611.135 2269.78 Q613.797 2267.03 618.38 2262.4 Q622.986 2257.75 624.167 2256.41 Q626.412 2253.88 627.292 2252.15 Q628.195 2250.39 628.195 2248.7 Q628.195 2245.94 626.25 2244.21 Q624.329 2242.47 621.227 2242.47 Q619.028 2242.47 616.574 2243.23 Q614.144 2244 611.366 2245.55 L611.366 2240.83 Q614.19 2239.69 616.644 2239.11 Q619.097 2238.53 621.134 2238.53 Q626.505 2238.53 629.699 2241.22 Q632.894 2243.91 632.894 2248.4 Q632.894 2250.53 632.083 2252.45 Q631.296 2254.34 629.19 2256.94 Q628.611 2257.61 625.509 2260.83 Q622.408 2264.02 616.759 2269.78 Z\" fill=\"#000000\" fill-rule=\"evenodd\" fill-opacity=\"1\" /><path clip-path=\"url(#clip490)\" d=\"M1237.12 2243.23 L1225.32 2261.68 L1237.12 2261.68 L1237.12 2243.23 M1235.9 2239.16 L1241.78 2239.16 L1241.78 2261.68 L1246.71 2261.68 L1246.71 2265.57 L1241.78 2265.57 L1241.78 2273.72 L1237.12 2273.72 L1237.12 2265.57 L1221.52 2265.57 L1221.52 2261.06 L1235.9 2239.16 Z\" fill=\"#000000\" fill-rule=\"evenodd\" fill-opacity=\"1\" /><path clip-path=\"url(#clip490)\" d=\"M1846.53 2254.58 Q1843.38 2254.58 1841.53 2256.73 Q1839.7 2258.88 1839.7 2262.63 Q1839.7 2266.36 1841.53 2268.53 Q1843.38 2270.69 1846.53 2270.69 Q1849.67 2270.69 1851.5 2268.53 Q1853.35 2266.36 1853.35 2262.63 Q1853.35 2258.88 1851.5 2256.73 Q1849.67 2254.58 1846.53 2254.58 M1855.81 2239.92 L1855.81 2244.18 Q1854.05 2243.35 1852.24 2242.91 Q1850.46 2242.47 1848.7 2242.47 Q1844.07 2242.47 1841.62 2245.59 Q1839.19 2248.72 1838.84 2255.04 Q1840.21 2253.03 1842.27 2251.96 Q1844.33 2250.87 1846.8 2250.87 Q1852.01 2250.87 1855.02 2254.04 Q1858.05 2257.19 1858.05 2262.63 Q1858.05 2267.96 1854.91 2271.17 Q1851.76 2274.39 1846.53 2274.39 Q1840.53 2274.39 1837.36 2269.81 Q1834.19 2265.2 1834.19 2256.47 Q1834.19 2248.28 1838.08 2243.42 Q1841.97 2238.53 1848.52 2238.53 Q1850.28 2238.53 1852.06 2238.88 Q1853.86 2239.23 1855.81 2239.92 Z\" fill=\"#000000\" fill-rule=\"evenodd\" fill-opacity=\"1\" /><path clip-path=\"url(#clip490)\" d=\"M2458.13 2257.31 Q2454.79 2257.31 2452.87 2259.09 Q2450.98 2260.87 2450.98 2264 Q2450.98 2267.12 2452.87 2268.91 Q2454.79 2270.69 2458.13 2270.69 Q2461.46 2270.69 2463.38 2268.91 Q2465.3 2267.1 2465.3 2264 Q2465.3 2260.87 2463.38 2259.09 Q2461.48 2257.31 2458.13 2257.31 M2453.45 2255.32 Q2450.44 2254.58 2448.75 2252.52 Q2447.09 2250.46 2447.09 2247.49 Q2447.09 2243.35 2450.03 2240.94 Q2452.99 2238.53 2458.13 2238.53 Q2463.29 2238.53 2466.23 2240.94 Q2469.17 2243.35 2469.17 2247.49 Q2469.17 2250.46 2467.48 2252.52 Q2465.81 2254.58 2462.83 2255.32 Q2466.21 2256.1 2468.08 2258.4 Q2469.98 2260.69 2469.98 2264 Q2469.98 2269.02 2466.9 2271.71 Q2463.85 2274.39 2458.13 2274.39 Q2452.41 2274.39 2449.33 2271.71 Q2446.28 2269.02 2446.28 2264 Q2446.28 2260.69 2448.17 2258.4 Q2450.07 2256.1 2453.45 2255.32 M2451.74 2247.93 Q2451.74 2250.62 2453.41 2252.12 Q2455.1 2253.63 2458.13 2253.63 Q2461.14 2253.63 2462.83 2252.12 Q2464.54 2250.62 2464.54 2247.93 Q2464.54 2245.25 2462.83 2243.74 Q2461.14 2242.24 2458.13 2242.24 Q2455.1 2242.24 2453.41 2243.74 Q2451.74 2245.25 2451.74 2247.93 Z\" fill=\"#000000\" fill-rule=\"evenodd\" fill-opacity=\"1\" /><path clip-path=\"url(#clip490)\" d=\"M3044.82 2269.78 L3052.46 2269.78 L3052.46 2243.42 L3044.15 2245.09 L3044.15 2240.83 L3052.42 2239.16 L3057.09 2239.16 L3057.09 2269.78 L3064.73 2269.78 L3064.73 2273.72 L3044.82 2273.72 L3044.82 2269.78 Z\" fill=\"#000000\" fill-rule=\"evenodd\" fill-opacity=\"1\" /><path clip-path=\"url(#clip490)\" d=\"M3084.17 2242.24 Q3080.56 2242.24 3078.73 2245.8 Q3076.93 2249.34 3076.93 2256.47 Q3076.93 2263.58 3078.73 2267.15 Q3080.56 2270.69 3084.17 2270.69 Q3087.81 2270.69 3089.61 2267.15 Q3091.44 2263.58 3091.44 2256.47 Q3091.44 2249.34 3089.61 2245.8 Q3087.81 2242.24 3084.17 2242.24 M3084.17 2238.53 Q3089.98 2238.53 3093.04 2243.14 Q3096.12 2247.72 3096.12 2256.47 Q3096.12 2265.2 3093.04 2269.81 Q3089.98 2274.39 3084.17 2274.39 Q3078.36 2274.39 3075.29 2269.81 Q3072.23 2265.2 3072.23 2256.47 Q3072.23 2247.72 3075.29 2243.14 Q3078.36 2238.53 3084.17 2238.53 Z\" fill=\"#000000\" fill-rule=\"evenodd\" fill-opacity=\"1\" /><path clip-path=\"url(#clip490)\" d=\"M1641.06 2314.26 L1647.49 2314.26 L1647.49 2356.37 L1670.63 2356.37 L1670.63 2361.78 L1641.06 2361.78 L1641.06 2314.26 Z\" fill=\"#000000\" fill-rule=\"evenodd\" fill-opacity=\"1\" /><path clip-path=\"url(#clip490)\" d=\"M1689.79 2330.24 Q1685.08 2330.24 1682.35 2333.93 Q1679.61 2337.59 1679.61 2343.99 Q1679.61 2350.39 1682.31 2354.08 Q1685.05 2357.74 1689.79 2357.74 Q1694.47 2357.74 1697.21 2354.05 Q1699.95 2350.36 1699.95 2343.99 Q1699.95 2337.66 1697.21 2333.97 Q1694.47 2330.24 1689.79 2330.24 M1689.79 2325.28 Q1697.43 2325.28 1701.79 2330.24 Q1706.15 2335.21 1706.15 2343.99 Q1706.15 2352.74 1701.79 2357.74 Q1697.43 2362.71 1689.79 2362.71 Q1682.12 2362.71 1677.76 2357.74 Q1673.43 2352.74 1673.43 2343.99 Q1673.43 2335.21 1677.76 2330.24 Q1682.12 2325.28 1689.79 2325.28 Z\" fill=\"#000000\" fill-rule=\"evenodd\" fill-opacity=\"1\" /><path clip-path=\"url(#clip490)\" d=\"M1739.32 2343.55 Q1739.32 2337.18 1736.68 2333.68 Q1734.07 2330.18 1729.32 2330.18 Q1724.61 2330.18 1721.97 2333.68 Q1719.36 2337.18 1719.36 2343.55 Q1719.36 2349.88 1721.97 2353.38 Q1724.61 2356.88 1729.32 2356.88 Q1734.07 2356.88 1736.68 2353.38 Q1739.32 2349.88 1739.32 2343.55 M1745.17 2357.36 Q1745.17 2366.46 1741.13 2370.89 Q1737.09 2375.34 1728.75 2375.34 Q1725.66 2375.34 1722.93 2374.87 Q1720.19 2374.42 1717.61 2373.46 L1717.61 2367.77 Q1720.19 2369.17 1722.7 2369.84 Q1725.22 2370.5 1727.83 2370.5 Q1733.59 2370.5 1736.45 2367.48 Q1739.32 2364.49 1739.32 2358.41 L1739.32 2355.51 Q1737.5 2358.66 1734.67 2360.22 Q1731.84 2361.78 1727.89 2361.78 Q1721.34 2361.78 1717.32 2356.79 Q1713.31 2351.79 1713.31 2343.55 Q1713.31 2335.27 1717.32 2330.27 Q1721.34 2325.28 1727.89 2325.28 Q1731.84 2325.28 1734.67 2326.84 Q1737.5 2328.4 1739.32 2331.55 L1739.32 2326.14 L1745.17 2326.14 L1745.17 2357.36 Z\" fill=\"#000000\" fill-rule=\"evenodd\" fill-opacity=\"1\" /><polyline clip-path=\"url(#clip492)\" style=\"stroke:#000000; stroke-linecap:butt; stroke-linejoin:round; stroke-width:2; stroke-opacity:0.1; fill:none\" points=\"\n  233.482,1950.58 3152.76,1950.58 \n  \"/>\n<polyline clip-path=\"url(#clip492)\" style=\"stroke:#000000; stroke-linecap:butt; stroke-linejoin:round; stroke-width:2; stroke-opacity:0.1; fill:none\" points=\"\n  233.482,1559.28 3152.76,1559.28 \n  \"/>\n<polyline clip-path=\"url(#clip492)\" style=\"stroke:#000000; stroke-linecap:butt; stroke-linejoin:round; stroke-width:2; stroke-opacity:0.1; fill:none\" points=\"\n  233.482,1167.98 3152.76,1167.98 \n  \"/>\n<polyline clip-path=\"url(#clip492)\" style=\"stroke:#000000; stroke-linecap:butt; stroke-linejoin:round; stroke-width:2; stroke-opacity:0.1; fill:none\" points=\"\n  233.482,776.676 3152.76,776.676 \n  \"/>\n<polyline clip-path=\"url(#clip492)\" style=\"stroke:#000000; stroke-linecap:butt; stroke-linejoin:round; stroke-width:2; stroke-opacity:0.1; fill:none\" points=\"\n  233.482,385.377 3152.76,385.377 \n  \"/>\n<polyline clip-path=\"url(#clip490)\" style=\"stroke:#000000; stroke-linecap:butt; stroke-linejoin:round; stroke-width:4; stroke-opacity:1; fill:none\" points=\"\n  233.482,2204.92 233.482,131.032 \n  \"/>\n<polyline clip-path=\"url(#clip490)\" style=\"stroke:#000000; stroke-linecap:butt; stroke-linejoin:round; stroke-width:4; stroke-opacity:1; fill:none\" points=\"\n  233.482,1950.58 252.38,1950.58 \n  \"/>\n<polyline clip-path=\"url(#clip490)\" style=\"stroke:#000000; stroke-linecap:butt; stroke-linejoin:round; stroke-width:4; stroke-opacity:1; fill:none\" points=\"\n  233.482,1559.28 252.38,1559.28 \n  \"/>\n<polyline clip-path=\"url(#clip490)\" style=\"stroke:#000000; stroke-linecap:butt; stroke-linejoin:round; stroke-width:4; stroke-opacity:1; fill:none\" points=\"\n  233.482,1167.98 252.38,1167.98 \n  \"/>\n<polyline clip-path=\"url(#clip490)\" style=\"stroke:#000000; stroke-linecap:butt; stroke-linejoin:round; stroke-width:4; stroke-opacity:1; fill:none\" points=\"\n  233.482,776.676 252.38,776.676 \n  \"/>\n<polyline clip-path=\"url(#clip490)\" style=\"stroke:#000000; stroke-linecap:butt; stroke-linejoin:round; stroke-width:4; stroke-opacity:1; fill:none\" points=\"\n  233.482,385.377 252.38,385.377 \n  \"/>\n<path clip-path=\"url(#clip490)\" d=\"M128.145 1936.37 Q124.533 1936.37 122.705 1939.94 Q120.899 1943.48 120.899 1950.61 Q120.899 1957.72 122.705 1961.28 Q124.533 1964.82 128.145 1964.82 Q131.779 1964.82 133.584 1961.28 Q135.413 1957.72 135.413 1950.61 Q135.413 1943.48 133.584 1939.94 Q131.779 1936.37 128.145 1936.37 M128.145 1932.67 Q133.955 1932.67 137.01 1937.28 Q140.089 1941.86 140.089 1950.61 Q140.089 1959.34 137.01 1963.94 Q133.955 1968.53 128.145 1968.53 Q122.334 1968.53 119.256 1963.94 Q116.2 1959.34 116.2 1950.61 Q116.2 1941.86 119.256 1937.28 Q122.334 1932.67 128.145 1932.67 Z\" fill=\"#000000\" fill-rule=\"evenodd\" fill-opacity=\"1\" /><path clip-path=\"url(#clip490)\" d=\"M148.306 1961.98 L153.191 1961.98 L153.191 1967.86 L148.306 1967.86 L148.306 1961.98 Z\" fill=\"#000000\" fill-rule=\"evenodd\" fill-opacity=\"1\" /><path clip-path=\"url(#clip490)\" d=\"M173.954 1948.71 Q170.806 1948.71 168.955 1950.86 Q167.126 1953.02 167.126 1956.77 Q167.126 1960.49 168.955 1962.67 Q170.806 1964.82 173.954 1964.82 Q177.103 1964.82 178.931 1962.67 Q180.783 1960.49 180.783 1956.77 Q180.783 1953.02 178.931 1950.86 Q177.103 1948.71 173.954 1948.71 M183.237 1934.06 L183.237 1938.32 Q181.478 1937.48 179.672 1937.05 Q177.89 1936.61 176.13 1936.61 Q171.501 1936.61 169.047 1939.73 Q166.617 1942.86 166.269 1949.17 Q167.635 1947.16 169.695 1946.1 Q171.755 1945.01 174.232 1945.01 Q179.441 1945.01 182.45 1948.18 Q185.482 1951.33 185.482 1956.77 Q185.482 1962.09 182.334 1965.31 Q179.186 1968.53 173.954 1968.53 Q167.959 1968.53 164.788 1963.94 Q161.617 1959.34 161.617 1950.61 Q161.617 1942.42 165.505 1937.55 Q169.394 1932.67 175.945 1932.67 Q177.704 1932.67 179.487 1933.02 Q181.292 1933.36 183.237 1934.06 Z\" fill=\"#000000\" fill-rule=\"evenodd\" fill-opacity=\"1\" /><path clip-path=\"url(#clip490)\" d=\"M128.399 1545.07 Q124.788 1545.07 122.959 1548.64 Q121.154 1552.18 121.154 1559.31 Q121.154 1566.42 122.959 1569.98 Q124.788 1573.52 128.399 1573.52 Q132.033 1573.52 133.839 1569.98 Q135.668 1566.42 135.668 1559.31 Q135.668 1552.18 133.839 1548.64 Q132.033 1545.07 128.399 1545.07 M128.399 1541.37 Q134.209 1541.37 137.265 1545.98 Q140.344 1550.56 140.344 1559.31 Q140.344 1568.04 137.265 1572.64 Q134.209 1577.23 128.399 1577.23 Q122.589 1577.23 119.51 1572.64 Q116.455 1568.04 116.455 1559.31 Q116.455 1550.56 119.51 1545.98 Q122.589 1541.37 128.399 1541.37 Z\" fill=\"#000000\" fill-rule=\"evenodd\" fill-opacity=\"1\" /><path clip-path=\"url(#clip490)\" d=\"M148.561 1570.68 L153.445 1570.68 L153.445 1576.56 L148.561 1576.56 L148.561 1570.68 Z\" fill=\"#000000\" fill-rule=\"evenodd\" fill-opacity=\"1\" /><path clip-path=\"url(#clip490)\" d=\"M173.63 1560.14 Q170.297 1560.14 168.376 1561.93 Q166.478 1563.71 166.478 1566.83 Q166.478 1569.96 168.376 1571.74 Q170.297 1573.52 173.63 1573.52 Q176.964 1573.52 178.885 1571.74 Q180.806 1569.94 180.806 1566.83 Q180.806 1563.71 178.885 1561.93 Q176.987 1560.14 173.63 1560.14 M168.955 1558.15 Q165.945 1557.41 164.255 1555.35 Q162.589 1553.29 162.589 1550.33 Q162.589 1546.19 165.529 1543.78 Q168.492 1541.37 173.63 1541.37 Q178.792 1541.37 181.732 1543.78 Q184.672 1546.19 184.672 1550.33 Q184.672 1553.29 182.982 1555.35 Q181.316 1557.41 178.329 1558.15 Q181.709 1558.94 183.584 1561.23 Q185.482 1563.52 185.482 1566.83 Q185.482 1571.86 182.404 1574.54 Q179.348 1577.23 173.63 1577.23 Q167.913 1577.23 164.834 1574.54 Q161.779 1571.86 161.779 1566.83 Q161.779 1563.52 163.677 1561.23 Q165.575 1558.94 168.955 1558.15 M167.242 1550.77 Q167.242 1553.45 168.908 1554.96 Q170.598 1556.46 173.63 1556.46 Q176.64 1556.46 178.329 1554.96 Q180.042 1553.45 180.042 1550.77 Q180.042 1548.08 178.329 1546.58 Q176.64 1545.07 173.63 1545.07 Q170.598 1545.07 168.908 1546.58 Q167.242 1548.08 167.242 1550.77 Z\" fill=\"#000000\" fill-rule=\"evenodd\" fill-opacity=\"1\" /><path clip-path=\"url(#clip490)\" d=\"M119.117 1181.32 L126.756 1181.32 L126.756 1154.96 L118.446 1156.62 L118.446 1152.36 L126.709 1150.7 L131.385 1150.7 L131.385 1181.32 L139.024 1181.32 L139.024 1185.26 L119.117 1185.26 L119.117 1181.32 Z\" fill=\"#000000\" fill-rule=\"evenodd\" fill-opacity=\"1\" /><path clip-path=\"url(#clip490)\" d=\"M148.469 1179.38 L153.353 1179.38 L153.353 1185.26 L148.469 1185.26 L148.469 1179.38 Z\" fill=\"#000000\" fill-rule=\"evenodd\" fill-opacity=\"1\" /><path clip-path=\"url(#clip490)\" d=\"M173.538 1153.77 Q169.927 1153.77 168.098 1157.34 Q166.292 1160.88 166.292 1168.01 Q166.292 1175.12 168.098 1178.68 Q169.927 1182.22 173.538 1182.22 Q177.172 1182.22 178.978 1178.68 Q180.806 1175.12 180.806 1168.01 Q180.806 1160.88 178.978 1157.34 Q177.172 1153.77 173.538 1153.77 M173.538 1150.07 Q179.348 1150.07 182.404 1154.68 Q185.482 1159.26 185.482 1168.01 Q185.482 1176.74 182.404 1181.34 Q179.348 1185.93 173.538 1185.93 Q167.728 1185.93 164.649 1181.34 Q161.593 1176.74 161.593 1168.01 Q161.593 1159.26 164.649 1154.68 Q167.728 1150.07 173.538 1150.07 Z\" fill=\"#000000\" fill-rule=\"evenodd\" fill-opacity=\"1\" /><path clip-path=\"url(#clip490)\" d=\"M120.714 790.021 L128.353 790.021 L128.353 763.656 L120.043 765.322 L120.043 761.063 L128.307 759.396 L132.982 759.396 L132.982 790.021 L140.621 790.021 L140.621 793.956 L120.714 793.956 L120.714 790.021 Z\" fill=\"#000000\" fill-rule=\"evenodd\" fill-opacity=\"1\" /><path clip-path=\"url(#clip490)\" d=\"M150.066 788.077 L154.95 788.077 L154.95 793.956 L150.066 793.956 L150.066 788.077 Z\" fill=\"#000000\" fill-rule=\"evenodd\" fill-opacity=\"1\" /><path clip-path=\"url(#clip490)\" d=\"M169.163 790.021 L185.482 790.021 L185.482 793.956 L163.538 793.956 L163.538 790.021 Q166.2 787.267 170.783 782.637 Q175.39 777.984 176.57 776.642 Q178.816 774.119 179.695 772.382 Q180.598 770.623 180.598 768.933 Q180.598 766.179 178.654 764.443 Q176.732 762.707 173.63 762.707 Q171.431 762.707 168.978 763.47 Q166.547 764.234 163.769 765.785 L163.769 761.063 Q166.593 759.929 169.047 759.35 Q171.501 758.771 173.538 758.771 Q178.908 758.771 182.103 761.457 Q185.297 764.142 185.297 768.632 Q185.297 770.762 184.487 772.683 Q183.7 774.582 181.593 777.174 Q181.015 777.845 177.913 781.063 Q174.811 784.257 169.163 790.021 Z\" fill=\"#000000\" fill-rule=\"evenodd\" fill-opacity=\"1\" /><path clip-path=\"url(#clip490)\" d=\"M118.631 398.722 L126.27 398.722 L126.27 372.356 L117.959 374.023 L117.959 369.764 L126.223 368.097 L130.899 368.097 L130.899 398.722 L138.538 398.722 L138.538 402.657 L118.631 402.657 L118.631 398.722 Z\" fill=\"#000000\" fill-rule=\"evenodd\" fill-opacity=\"1\" /><path clip-path=\"url(#clip490)\" d=\"M147.982 396.777 L152.867 396.777 L152.867 402.657 L147.982 402.657 L147.982 396.777 Z\" fill=\"#000000\" fill-rule=\"evenodd\" fill-opacity=\"1\" /><path clip-path=\"url(#clip490)\" d=\"M175.899 372.171 L164.093 390.62 L175.899 390.62 L175.899 372.171 M174.672 368.097 L180.552 368.097 L180.552 390.62 L185.482 390.62 L185.482 394.509 L180.552 394.509 L180.552 402.657 L175.899 402.657 L175.899 394.509 L160.297 394.509 L160.297 389.995 L174.672 368.097 Z\" fill=\"#000000\" fill-rule=\"evenodd\" fill-opacity=\"1\" /><path clip-path=\"url(#clip490)\" d=\"M12.758 1293.78 L36.4066 1302.5 L36.4066 1285.03 L12.758 1293.78 M6.42416 1297.41 L6.42416 1290.12 L53.9442 1272.01 L53.9442 1278.69 L41.7538 1283.02 L41.7538 1304.44 L53.9442 1308.77 L53.9442 1315.55 L6.42416 1297.41 Z\" fill=\"#000000\" fill-rule=\"evenodd\" fill-opacity=\"1\" /><path clip-path=\"url(#clip490)\" d=\"M19.6648 1240.82 L25.1393 1240.82 Q23.7707 1243.3 23.1023 1245.81 Q22.4021 1248.3 22.4021 1250.84 Q22.4021 1256.54 26.0305 1259.69 Q29.6272 1262.84 36.152 1262.84 Q42.6769 1262.84 46.3053 1259.69 Q49.9019 1256.54 49.9019 1250.84 Q49.9019 1248.3 49.2335 1245.81 Q48.5333 1243.3 47.1647 1240.82 L52.5755 1240.82 Q53.7214 1243.27 54.2943 1245.91 Q54.8672 1248.52 54.8672 1251.48 Q54.8672 1259.53 49.8064 1264.27 Q44.7457 1269.02 36.152 1269.02 Q27.431 1269.02 22.4339 1264.24 Q17.4368 1259.44 17.4368 1251.1 Q17.4368 1248.39 18.0097 1245.81 Q18.5508 1243.23 19.6648 1240.82 Z\" fill=\"#000000\" fill-rule=\"evenodd\" fill-opacity=\"1\" /><path clip-path=\"url(#clip490)\" d=\"M19.6648 1204.98 L25.1393 1204.98 Q23.7707 1207.46 23.1023 1209.97 Q22.4021 1212.46 22.4021 1215 Q22.4021 1220.7 26.0305 1223.85 Q29.6272 1227 36.152 1227 Q42.6769 1227 46.3053 1223.85 Q49.9019 1220.7 49.9019 1215 Q49.9019 1212.46 49.2335 1209.97 Q48.5333 1207.46 47.1647 1204.98 L52.5755 1204.98 Q53.7214 1207.43 54.2943 1210.07 Q54.8672 1212.68 54.8672 1215.64 Q54.8672 1223.69 49.8064 1228.43 Q44.7457 1233.18 36.152 1233.18 Q27.431 1233.18 22.4339 1228.4 Q17.4368 1223.6 17.4368 1215.26 Q17.4368 1212.55 18.0097 1209.97 Q18.5508 1207.4 19.6648 1204.98 Z\" fill=\"#000000\" fill-rule=\"evenodd\" fill-opacity=\"1\" /><path clip-path=\"url(#clip490)\" d=\"M39.8759 1195.4 L18.2962 1195.4 L18.2962 1189.54 L39.6531 1189.54 Q44.7139 1189.54 47.2602 1187.57 Q49.7746 1185.59 49.7746 1181.65 Q49.7746 1176.9 46.7509 1174.17 Q43.7272 1171.4 38.5073 1171.4 L18.2962 1171.4 L18.2962 1165.54 L53.9442 1165.54 L53.9442 1171.4 L48.4696 1171.4 Q51.7162 1173.53 53.3076 1176.36 Q54.8672 1179.16 54.8672 1182.89 Q54.8672 1189.03 51.0478 1192.21 Q47.2283 1195.4 39.8759 1195.4 M17.4368 1180.66 L17.4368 1180.66 Z\" fill=\"#000000\" fill-rule=\"evenodd\" fill-opacity=\"1\" /><path clip-path=\"url(#clip490)\" d=\"M23.7707 1132.82 Q23.1978 1133.81 22.9432 1134.99 Q22.6567 1136.13 22.6567 1137.53 Q22.6567 1142.5 25.9032 1145.17 Q29.1179 1147.81 35.1653 1147.81 L53.9442 1147.81 L53.9442 1153.7 L18.2962 1153.7 L18.2962 1147.81 L23.8344 1147.81 Q20.5879 1145.97 19.0283 1143.01 Q17.4368 1140.05 17.4368 1135.81 Q17.4368 1135.21 17.5323 1134.48 Q17.596 1133.74 17.7551 1132.85 L23.7707 1132.82 Z\" fill=\"#000000\" fill-rule=\"evenodd\" fill-opacity=\"1\" /><path clip-path=\"url(#clip490)\" d=\"M36.0247 1110.48 Q36.0247 1117.58 37.6479 1120.31 Q39.2712 1123.05 43.1861 1123.05 Q46.3053 1123.05 48.1514 1121.01 Q49.9656 1118.94 49.9656 1115.41 Q49.9656 1110.54 46.5281 1107.61 Q43.0588 1104.65 37.3297 1104.65 L36.0247 1104.65 L36.0247 1110.48 M33.6057 1098.8 L53.9442 1098.8 L53.9442 1104.65 L48.5333 1104.65 Q51.7798 1106.66 53.3394 1109.65 Q54.8672 1112.64 54.8672 1116.97 Q54.8672 1122.45 51.8116 1125.69 Q48.7243 1128.91 43.5681 1128.91 Q37.5525 1128.91 34.4969 1124.9 Q31.4414 1120.85 31.4414 1112.86 L31.4414 1104.65 L30.8685 1104.65 Q26.8262 1104.65 24.6301 1107.33 Q22.4021 1109.97 22.4021 1114.77 Q22.4021 1117.83 23.1341 1120.73 Q23.8662 1123.62 25.3303 1126.3 L19.9195 1126.3 Q18.6781 1123.08 18.0734 1120.06 Q17.4368 1117.03 17.4368 1114.17 Q17.4368 1106.44 21.4472 1102.62 Q25.4576 1098.8 33.6057 1098.8 Z\" fill=\"#000000\" fill-rule=\"evenodd\" fill-opacity=\"1\" /><path clip-path=\"url(#clip490)\" d=\"M19.6648 1061.08 L25.1393 1061.08 Q23.7707 1063.56 23.1023 1066.08 Q22.4021 1068.56 22.4021 1071.11 Q22.4021 1076.8 26.0305 1079.95 Q29.6272 1083.11 36.152 1083.11 Q42.6769 1083.11 46.3053 1079.95 Q49.9019 1076.8 49.9019 1071.11 Q49.9019 1068.56 49.2335 1066.08 Q48.5333 1063.56 47.1647 1061.08 L52.5755 1061.08 Q53.7214 1063.53 54.2943 1066.17 Q54.8672 1068.78 54.8672 1071.74 Q54.8672 1079.8 49.8064 1084.54 Q44.7457 1089.28 36.152 1089.28 Q27.431 1089.28 22.4339 1084.51 Q17.4368 1079.7 17.4368 1071.36 Q17.4368 1068.66 18.0097 1066.08 Q18.5508 1063.5 19.6648 1061.08 Z\" fill=\"#000000\" fill-rule=\"evenodd\" fill-opacity=\"1\" /><path clip-path=\"url(#clip490)\" d=\"M57.2543 1036.06 Q63.62 1038.55 65.5616 1040.9 Q67.5031 1043.26 67.5031 1047.2 L67.5031 1051.88 L62.6015 1051.88 L62.6015 1048.44 Q62.6015 1046.02 61.4557 1044.69 Q60.3099 1043.35 56.0448 1041.73 L53.3712 1040.68 L18.2962 1055.1 L18.2962 1048.89 L46.178 1037.75 L18.2962 1026.61 L18.2962 1020.4 L57.2543 1036.06 Z\" fill=\"#000000\" fill-rule=\"evenodd\" fill-opacity=\"1\" /><path clip-path=\"url(#clip490)\" d=\"M819.623 18.8205 L819.623 65.8515 L829.507 65.8515 Q842.024 65.8515 847.817 60.1802 Q853.65 54.509 853.65 42.2752 Q853.65 30.1225 847.817 24.4918 Q842.024 18.8205 829.507 18.8205 L819.623 18.8205 M811.44 12.096 L828.251 12.096 Q845.832 12.096 854.055 19.4281 Q862.279 26.7198 862.279 42.2752 Q862.279 57.9117 854.015 65.2439 Q845.751 72.576 828.251 72.576 L811.44 72.576 L811.44 12.096 Z\" fill=\"#000000\" fill-rule=\"evenodd\" fill-opacity=\"1\" /><path clip-path=\"url(#clip490)\" d=\"M913.806 48.0275 L913.806 51.6733 L879.535 51.6733 Q880.022 59.3701 884.153 63.421 Q888.326 67.4314 895.739 67.4314 Q900.033 67.4314 904.043 66.3781 Q908.094 65.3249 912.064 63.2184 L912.064 70.267 Q908.054 71.9684 903.841 72.8596 Q899.628 73.7508 895.293 73.7508 Q884.437 73.7508 878.077 67.4314 Q871.758 61.1119 871.758 50.3365 Q871.758 39.1965 877.753 32.6746 Q883.789 26.1121 893.997 26.1121 Q903.152 26.1121 908.459 32.0264 Q913.806 37.9003 913.806 48.0275 M906.352 45.84 Q906.271 39.7232 902.909 36.0774 Q899.587 32.4315 894.078 32.4315 Q887.84 32.4315 884.072 35.9558 Q880.346 39.4801 879.779 45.8805 L906.352 45.84 Z\" fill=\"#000000\" fill-rule=\"evenodd\" fill-opacity=\"1\" /><path clip-path=\"url(#clip490)\" d=\"M920.693 27.2059 L928.592 27.2059 L942.77 65.2844 L956.948 27.2059 L964.847 27.2059 L947.834 72.576 L937.706 72.576 L920.693 27.2059 Z\" fill=\"#000000\" fill-rule=\"evenodd\" fill-opacity=\"1\" /><path clip-path=\"url(#clip490)\" d=\"M1013.94 48.0275 L1013.94 51.6733 L979.674 51.6733 Q980.16 59.3701 984.292 63.421 Q988.464 67.4314 995.877 67.4314 Q1000.17 67.4314 1004.18 66.3781 Q1008.23 65.3249 1012.2 63.2184 L1012.2 70.267 Q1008.19 71.9684 1003.98 72.8596 Q999.766 73.7508 995.432 73.7508 Q984.575 73.7508 978.215 67.4314 Q971.896 61.1119 971.896 50.3365 Q971.896 39.1965 977.891 32.6746 Q983.927 26.1121 994.136 26.1121 Q1003.29 26.1121 1008.6 32.0264 Q1013.94 37.9003 1013.94 48.0275 M1006.49 45.84 Q1006.41 39.7232 1003.05 36.0774 Q999.726 32.4315 994.217 32.4315 Q987.978 32.4315 984.211 35.9558 Q980.484 39.4801 979.917 45.8805 L1006.49 45.84 Z\" fill=\"#000000\" fill-rule=\"evenodd\" fill-opacity=\"1\" /><path clip-path=\"url(#clip490)\" d=\"M1026.18 9.54393 L1033.63 9.54393 L1033.63 72.576 L1026.18 72.576 L1026.18 9.54393 Z\" fill=\"#000000\" fill-rule=\"evenodd\" fill-opacity=\"1\" /><path clip-path=\"url(#clip490)\" d=\"M1066.81 32.4315 Q1060.81 32.4315 1057.33 37.1306 Q1053.85 41.7891 1053.85 49.9314 Q1053.85 58.0738 1057.29 62.7728 Q1060.77 67.4314 1066.81 67.4314 Q1072.76 67.4314 1076.25 62.7323 Q1079.73 58.0333 1079.73 49.9314 Q1079.73 41.8701 1076.25 37.1711 Q1072.76 32.4315 1066.81 32.4315 M1066.81 26.1121 Q1076.53 26.1121 1082.08 32.4315 Q1087.63 38.7509 1087.63 49.9314 Q1087.63 61.0714 1082.08 67.4314 Q1076.53 73.7508 1066.81 73.7508 Q1057.05 73.7508 1051.5 67.4314 Q1045.99 61.0714 1045.99 49.9314 Q1045.99 38.7509 1051.5 32.4315 Q1057.05 26.1121 1066.81 26.1121 Z\" fill=\"#000000\" fill-rule=\"evenodd\" fill-opacity=\"1\" /><path clip-path=\"url(#clip490)\" d=\"M1107.2 65.7705 L1107.2 89.8329 L1099.7 89.8329 L1099.7 27.2059 L1107.2 27.2059 L1107.2 34.0924 Q1109.55 30.0415 1113.11 28.0971 Q1116.72 26.1121 1121.7 26.1121 Q1129.96 26.1121 1135.11 32.6746 Q1140.29 39.2371 1140.29 49.9314 Q1140.29 60.6258 1135.11 67.1883 Q1129.96 73.7508 1121.7 73.7508 Q1116.72 73.7508 1113.11 71.8063 Q1109.55 69.8214 1107.2 65.7705 M1132.55 49.9314 Q1132.55 41.7081 1129.15 37.0496 Q1125.79 32.3505 1119.88 32.3505 Q1113.96 32.3505 1110.56 37.0496 Q1107.2 41.7081 1107.2 49.9314 Q1107.2 58.1548 1110.56 62.8538 Q1113.96 67.5124 1119.88 67.5124 Q1125.79 67.5124 1129.15 62.8538 Q1132.55 58.1548 1132.55 49.9314 Z\" fill=\"#000000\" fill-rule=\"evenodd\" fill-opacity=\"1\" /><path clip-path=\"url(#clip490)\" d=\"M1187.97 35.9153 Q1190.77 30.8922 1194.66 28.5022 Q1198.54 26.1121 1203.81 26.1121 Q1210.9 26.1121 1214.75 31.0947 Q1218.6 36.0368 1218.6 45.1919 L1218.6 72.576 L1211.1 72.576 L1211.1 45.4349 Q1211.1 38.913 1208.79 35.7533 Q1206.48 32.5936 1201.74 32.5936 Q1195.95 32.5936 1192.59 36.4419 Q1189.23 40.2903 1189.23 46.9338 L1189.23 72.576 L1181.73 72.576 L1181.73 45.4349 Q1181.73 38.8725 1179.42 35.7533 Q1177.11 32.5936 1172.29 32.5936 Q1166.58 32.5936 1163.22 36.4824 Q1159.86 40.3308 1159.86 46.9338 L1159.86 72.576 L1152.36 72.576 L1152.36 27.2059 L1159.86 27.2059 L1159.86 34.2544 Q1162.41 30.082 1165.97 28.0971 Q1169.54 26.1121 1174.44 26.1121 Q1179.38 26.1121 1182.83 28.6237 Q1186.31 31.1352 1187.97 35.9153 Z\" fill=\"#000000\" fill-rule=\"evenodd\" fill-opacity=\"1\" /><path clip-path=\"url(#clip490)\" d=\"M1272.27 48.0275 L1272.27 51.6733 L1238 51.6733 Q1238.49 59.3701 1242.62 63.421 Q1246.79 67.4314 1254.2 67.4314 Q1258.5 67.4314 1262.51 66.3781 Q1266.56 65.3249 1270.53 63.2184 L1270.53 70.267 Q1266.52 71.9684 1262.31 72.8596 Q1258.09 73.7508 1253.76 73.7508 Q1242.9 73.7508 1236.54 67.4314 Q1230.22 61.1119 1230.22 50.3365 Q1230.22 39.1965 1236.22 32.6746 Q1242.25 26.1121 1252.46 26.1121 Q1261.62 26.1121 1266.92 32.0264 Q1272.27 37.9003 1272.27 48.0275 M1264.82 45.84 Q1264.74 39.7232 1261.37 36.0774 Q1258.05 32.4315 1252.54 32.4315 Q1246.3 32.4315 1242.54 35.9558 Q1238.81 39.4801 1238.24 45.8805 L1264.82 45.84 Z\" fill=\"#000000\" fill-rule=\"evenodd\" fill-opacity=\"1\" /><path clip-path=\"url(#clip490)\" d=\"M1322.22 45.1919 L1322.22 72.576 L1314.76 72.576 L1314.76 45.4349 Q1314.76 38.994 1312.25 35.7938 Q1309.74 32.5936 1304.72 32.5936 Q1298.68 32.5936 1295.2 36.4419 Q1291.71 40.2903 1291.71 46.9338 L1291.71 72.576 L1284.22 72.576 L1284.22 27.2059 L1291.71 27.2059 L1291.71 34.2544 Q1294.39 30.163 1297.99 28.1376 Q1301.64 26.1121 1306.38 26.1121 Q1314.2 26.1121 1318.21 30.9732 Q1322.22 35.7938 1322.22 45.1919 Z\" fill=\"#000000\" fill-rule=\"evenodd\" fill-opacity=\"1\" /><path clip-path=\"url(#clip490)\" d=\"M1344.46 14.324 L1344.46 27.2059 L1359.81 27.2059 L1359.81 32.9987 L1344.46 32.9987 L1344.46 57.6282 Q1344.46 63.1779 1345.96 64.7578 Q1347.5 66.3376 1352.15 66.3376 L1359.81 66.3376 L1359.81 72.576 L1352.15 72.576 Q1343.53 72.576 1340.24 69.3758 Q1336.96 66.1351 1336.96 57.6282 L1336.96 32.9987 L1331.49 32.9987 L1331.49 27.2059 L1336.96 27.2059 L1336.96 14.324 L1344.46 14.324 Z\" fill=\"#000000\" fill-rule=\"evenodd\" fill-opacity=\"1\" /><path clip-path=\"url(#clip490)\" d=\"M1413.57 32.4315 Q1407.57 32.4315 1404.09 37.1306 Q1400.6 41.7891 1400.6 49.9314 Q1400.6 58.0738 1404.05 62.7728 Q1407.53 67.4314 1413.57 67.4314 Q1419.52 67.4314 1423 62.7323 Q1426.49 58.0333 1426.49 49.9314 Q1426.49 41.8701 1423 37.1711 Q1419.52 32.4315 1413.57 32.4315 M1413.57 26.1121 Q1423.29 26.1121 1428.84 32.4315 Q1434.39 38.7509 1434.39 49.9314 Q1434.39 61.0714 1428.84 67.4314 Q1423.29 73.7508 1413.57 73.7508 Q1403.8 73.7508 1398.25 67.4314 Q1392.74 61.0714 1392.74 49.9314 Q1392.74 38.7509 1398.25 32.4315 Q1403.8 26.1121 1413.57 26.1121 Z\" fill=\"#000000\" fill-rule=\"evenodd\" fill-opacity=\"1\" /><path clip-path=\"url(#clip490)\" d=\"M1469.71 9.54393 L1469.71 15.7418 L1462.58 15.7418 Q1458.57 15.7418 1456.99 17.3622 Q1455.45 18.9825 1455.45 23.1955 L1455.45 27.2059 L1467.73 27.2059 L1467.73 32.9987 L1455.45 32.9987 L1455.45 72.576 L1447.96 72.576 L1447.96 32.9987 L1440.83 32.9987 L1440.83 27.2059 L1447.96 27.2059 L1447.96 24.0462 Q1447.96 16.471 1451.48 13.0277 Q1455.01 9.54393 1462.66 9.54393 L1469.71 9.54393 Z\" fill=\"#000000\" fill-rule=\"evenodd\" fill-opacity=\"1\" /><path clip-path=\"url(#clip490)\" d=\"M1522.94 49.7694 Q1513.91 49.7694 1510.42 51.8354 Q1506.94 53.9013 1506.94 58.8839 Q1506.94 62.8538 1509.53 65.2034 Q1512.17 67.5124 1516.66 67.5124 Q1522.86 67.5124 1526.59 63.1374 Q1530.35 58.7219 1530.35 51.4303 L1530.35 49.7694 L1522.94 49.7694 M1537.81 46.6907 L1537.81 72.576 L1530.35 72.576 L1530.35 65.6895 Q1527.8 69.8214 1523.99 71.8063 Q1520.19 73.7508 1514.68 73.7508 Q1507.71 73.7508 1503.58 69.8619 Q1499.49 65.9325 1499.49 59.3701 Q1499.49 51.7138 1504.59 47.825 Q1509.73 43.9361 1519.9 43.9361 L1530.35 43.9361 L1530.35 43.2069 Q1530.35 38.0623 1526.95 35.2672 Q1523.59 32.4315 1517.47 32.4315 Q1513.58 32.4315 1509.9 33.3632 Q1506.21 34.295 1502.81 36.1584 L1502.81 29.2718 Q1506.9 27.692 1510.75 26.9223 Q1514.6 26.1121 1518.24 26.1121 Q1528.09 26.1121 1532.95 31.2163 Q1537.81 36.3204 1537.81 46.6907 Z\" fill=\"#000000\" fill-rule=\"evenodd\" fill-opacity=\"1\" /><path clip-path=\"url(#clip490)\" d=\"M1585.81 28.9478 L1585.81 35.9153 Q1582.65 34.1734 1579.45 33.3227 Q1576.29 32.4315 1573.05 32.4315 Q1565.8 32.4315 1561.79 37.0496 Q1557.78 41.6271 1557.78 49.9314 Q1557.78 58.2358 1561.79 62.8538 Q1565.8 67.4314 1573.05 67.4314 Q1576.29 67.4314 1579.45 66.5807 Q1582.65 65.6895 1585.81 63.9476 L1585.81 70.8341 Q1582.69 72.2924 1579.33 73.0216 Q1576.01 73.7508 1572.24 73.7508 Q1561.99 73.7508 1555.96 67.3098 Q1549.92 60.8689 1549.92 49.9314 Q1549.92 38.832 1556 32.472 Q1562.11 26.1121 1572.73 26.1121 Q1576.17 26.1121 1579.45 26.8413 Q1582.73 27.5299 1585.81 28.9478 Z\" fill=\"#000000\" fill-rule=\"evenodd\" fill-opacity=\"1\" /><path clip-path=\"url(#clip490)\" d=\"M1631.42 28.9478 L1631.42 35.9153 Q1628.26 34.1734 1625.06 33.3227 Q1621.9 32.4315 1618.66 32.4315 Q1611.41 32.4315 1607.4 37.0496 Q1603.39 41.6271 1603.39 49.9314 Q1603.39 58.2358 1607.4 62.8538 Q1611.41 67.4314 1618.66 67.4314 Q1621.9 67.4314 1625.06 66.5807 Q1628.26 65.6895 1631.42 63.9476 L1631.42 70.8341 Q1628.3 72.2924 1624.94 73.0216 Q1621.62 73.7508 1617.85 73.7508 Q1607.6 73.7508 1601.57 67.3098 Q1595.53 60.8689 1595.53 49.9314 Q1595.53 38.832 1601.61 32.472 Q1607.73 26.1121 1618.34 26.1121 Q1621.78 26.1121 1625.06 26.8413 Q1628.35 27.5299 1631.42 28.9478 Z\" fill=\"#000000\" fill-rule=\"evenodd\" fill-opacity=\"1\" /><path clip-path=\"url(#clip490)\" d=\"M1643.62 54.671 L1643.62 27.2059 L1651.07 27.2059 L1651.07 54.3874 Q1651.07 60.8284 1653.58 64.0691 Q1656.09 67.2693 1661.12 67.2693 Q1667.15 67.2693 1670.64 63.421 Q1674.16 59.5726 1674.16 52.9291 L1674.16 27.2059 L1681.61 27.2059 L1681.61 72.576 L1674.16 72.576 L1674.16 65.6084 Q1671.45 69.7404 1667.84 71.7658 Q1664.28 73.7508 1659.54 73.7508 Q1651.72 73.7508 1647.67 68.8897 Q1643.62 64.0286 1643.62 54.671 M1662.37 26.1121 L1662.37 26.1121 Z\" fill=\"#000000\" fill-rule=\"evenodd\" fill-opacity=\"1\" /><path clip-path=\"url(#clip490)\" d=\"M1723.26 34.1734 Q1722 33.4443 1720.5 33.1202 Q1719.04 32.7556 1717.26 32.7556 Q1710.94 32.7556 1707.54 36.8875 Q1704.18 40.9789 1704.18 48.6757 L1704.18 72.576 L1696.68 72.576 L1696.68 27.2059 L1704.18 27.2059 L1704.18 34.2544 Q1706.53 30.1225 1710.29 28.1376 Q1714.06 26.1121 1719.45 26.1121 Q1720.22 26.1121 1721.15 26.2337 Q1722.08 26.3147 1723.22 26.5172 L1723.26 34.1734 Z\" fill=\"#000000\" fill-rule=\"evenodd\" fill-opacity=\"1\" /><path clip-path=\"url(#clip490)\" d=\"M1751.7 49.7694 Q1742.66 49.7694 1739.18 51.8354 Q1735.69 53.9013 1735.69 58.8839 Q1735.69 62.8538 1738.29 65.2034 Q1740.92 67.5124 1745.42 67.5124 Q1751.61 67.5124 1755.34 63.1374 Q1759.11 58.7219 1759.11 51.4303 L1759.11 49.7694 L1751.7 49.7694 M1766.56 46.6907 L1766.56 72.576 L1759.11 72.576 L1759.11 65.6895 Q1756.56 69.8214 1752.75 71.8063 Q1748.94 73.7508 1743.43 73.7508 Q1736.46 73.7508 1732.33 69.8619 Q1728.24 65.9325 1728.24 59.3701 Q1728.24 51.7138 1733.34 47.825 Q1738.49 43.9361 1748.66 43.9361 L1759.11 43.9361 L1759.11 43.2069 Q1759.11 38.0623 1755.71 35.2672 Q1752.34 32.4315 1746.23 32.4315 Q1742.34 32.4315 1738.65 33.3632 Q1734.96 34.295 1731.56 36.1584 L1731.56 29.2718 Q1735.65 27.692 1739.5 26.9223 Q1743.35 26.1121 1747 26.1121 Q1756.84 26.1121 1761.7 31.2163 Q1766.56 36.3204 1766.56 46.6907 Z\" fill=\"#000000\" fill-rule=\"evenodd\" fill-opacity=\"1\" /><path clip-path=\"url(#clip490)\" d=\"M1814.57 28.9478 L1814.57 35.9153 Q1811.41 34.1734 1808.21 33.3227 Q1805.05 32.4315 1801.8 32.4315 Q1794.55 32.4315 1790.54 37.0496 Q1786.53 41.6271 1786.53 49.9314 Q1786.53 58.2358 1790.54 62.8538 Q1794.55 67.4314 1801.8 67.4314 Q1805.05 67.4314 1808.21 66.5807 Q1811.41 65.6895 1814.57 63.9476 L1814.57 70.8341 Q1811.45 72.2924 1808.08 73.0216 Q1804.76 73.7508 1800.99 73.7508 Q1790.75 73.7508 1784.71 67.3098 Q1778.67 60.8689 1778.67 49.9314 Q1778.67 38.832 1784.75 32.472 Q1790.87 26.1121 1801.48 26.1121 Q1804.92 26.1121 1808.21 26.8413 Q1811.49 27.5299 1814.57 28.9478 Z\" fill=\"#000000\" fill-rule=\"evenodd\" fill-opacity=\"1\" /><path clip-path=\"url(#clip490)\" d=\"M1846.41 76.7889 Q1843.25 84.8907 1840.25 87.3618 Q1837.25 89.8329 1832.23 89.8329 L1826.27 89.8329 L1826.27 83.5945 L1830.65 83.5945 Q1833.73 83.5945 1835.43 82.1361 Q1837.13 80.6778 1839.19 75.2496 L1840.53 71.8468 L1822.18 27.2059 L1830.08 27.2059 L1844.26 62.6918 L1858.44 27.2059 L1866.34 27.2059 L1846.41 76.7889 Z\" fill=\"#000000\" fill-rule=\"evenodd\" fill-opacity=\"1\" /><path clip-path=\"url(#clip490)\" d=\"M1923.62 49.7694 Q1914.58 49.7694 1911.1 51.8354 Q1907.61 53.9013 1907.61 58.8839 Q1907.61 62.8538 1910.21 65.2034 Q1912.84 67.5124 1917.34 67.5124 Q1923.53 67.5124 1927.26 63.1374 Q1931.03 58.7219 1931.03 51.4303 L1931.03 49.7694 L1923.62 49.7694 M1938.48 46.6907 L1938.48 72.576 L1931.03 72.576 L1931.03 65.6895 Q1928.48 69.8214 1924.67 71.8063 Q1920.86 73.7508 1915.35 73.7508 Q1908.38 73.7508 1904.25 69.8619 Q1900.16 65.9325 1900.16 59.3701 Q1900.16 51.7138 1905.26 47.825 Q1910.41 43.9361 1920.58 43.9361 L1931.03 43.9361 L1931.03 43.2069 Q1931.03 38.0623 1927.63 35.2672 Q1924.26 32.4315 1918.15 32.4315 Q1914.26 32.4315 1910.57 33.3632 Q1906.89 34.295 1903.48 36.1584 L1903.48 29.2718 Q1907.57 27.692 1911.42 26.9223 Q1915.27 26.1121 1918.92 26.1121 Q1928.76 26.1121 1933.62 31.2163 Q1938.48 36.3204 1938.48 46.6907 Z\" fill=\"#000000\" fill-rule=\"evenodd\" fill-opacity=\"1\" /><path clip-path=\"url(#clip490)\" d=\"M1961.21 14.324 L1961.21 27.2059 L1976.56 27.2059 L1976.56 32.9987 L1961.21 32.9987 L1961.21 57.6282 Q1961.21 63.1779 1962.71 64.7578 Q1964.25 66.3376 1968.9 66.3376 L1976.56 66.3376 L1976.56 72.576 L1968.9 72.576 Q1960.28 72.576 1956.99 69.3758 Q1953.71 66.1351 1953.71 57.6282 L1953.71 32.9987 L1948.24 32.9987 L1948.24 27.2059 L1953.71 27.2059 L1953.71 14.324 L1961.21 14.324 Z\" fill=\"#000000\" fill-rule=\"evenodd\" fill-opacity=\"1\" /><path clip-path=\"url(#clip490)\" d=\"M2051.54 48.0275 L2051.54 51.6733 L2017.27 51.6733 Q2017.76 59.3701 2021.89 63.421 Q2026.06 67.4314 2033.48 67.4314 Q2037.77 67.4314 2041.78 66.3781 Q2045.83 65.3249 2049.8 63.2184 L2049.8 70.267 Q2045.79 71.9684 2041.58 72.8596 Q2037.36 73.7508 2033.03 73.7508 Q2022.17 73.7508 2015.81 67.4314 Q2009.49 61.1119 2009.49 50.3365 Q2009.49 39.1965 2015.49 32.6746 Q2021.53 26.1121 2031.73 26.1121 Q2040.89 26.1121 2046.2 32.0264 Q2051.54 37.9003 2051.54 48.0275 M2044.09 45.84 Q2044.01 39.7232 2040.65 36.0774 Q2037.32 32.4315 2031.82 32.4315 Q2025.58 32.4315 2021.81 35.9558 Q2018.08 39.4801 2017.52 45.8805 L2044.09 45.84 Z\" fill=\"#000000\" fill-rule=\"evenodd\" fill-opacity=\"1\" /><path clip-path=\"url(#clip490)\" d=\"M2084.4 49.7694 Q2075.36 49.7694 2071.88 51.8354 Q2068.39 53.9013 2068.39 58.8839 Q2068.39 62.8538 2070.99 65.2034 Q2073.62 67.5124 2078.12 67.5124 Q2084.31 67.5124 2088.04 63.1374 Q2091.81 58.7219 2091.81 51.4303 L2091.81 49.7694 L2084.4 49.7694 M2099.26 46.6907 L2099.26 72.576 L2091.81 72.576 L2091.81 65.6895 Q2089.26 69.8214 2085.45 71.8063 Q2081.64 73.7508 2076.13 73.7508 Q2069.16 73.7508 2065.03 69.8619 Q2060.94 65.9325 2060.94 59.3701 Q2060.94 51.7138 2066.05 47.825 Q2071.19 43.9361 2081.36 43.9361 L2091.81 43.9361 L2091.81 43.2069 Q2091.81 38.0623 2088.41 35.2672 Q2085.04 32.4315 2078.93 32.4315 Q2075.04 32.4315 2071.35 33.3632 Q2067.67 34.295 2064.26 36.1584 L2064.26 29.2718 Q2068.35 27.692 2072.2 26.9223 Q2076.05 26.1121 2079.7 26.1121 Q2089.54 26.1121 2094.4 31.2163 Q2099.26 36.3204 2099.26 46.6907 Z\" fill=\"#000000\" fill-rule=\"evenodd\" fill-opacity=\"1\" /><path clip-path=\"url(#clip490)\" d=\"M2147.27 28.9478 L2147.27 35.9153 Q2144.11 34.1734 2140.91 33.3227 Q2137.75 32.4315 2134.51 32.4315 Q2127.25 32.4315 2123.24 37.0496 Q2119.23 41.6271 2119.23 49.9314 Q2119.23 58.2358 2123.24 62.8538 Q2127.25 67.4314 2134.51 67.4314 Q2137.75 67.4314 2140.91 66.5807 Q2144.11 65.6895 2147.27 63.9476 L2147.27 70.8341 Q2144.15 72.2924 2140.78 73.0216 Q2137.46 73.7508 2133.7 73.7508 Q2123.45 73.7508 2117.41 67.3098 Q2111.37 60.8689 2111.37 49.9314 Q2111.37 38.832 2117.45 32.472 Q2123.57 26.1121 2134.18 26.1121 Q2137.62 26.1121 2140.91 26.8413 Q2144.19 27.5299 2147.27 28.9478 Z\" fill=\"#000000\" fill-rule=\"evenodd\" fill-opacity=\"1\" /><path clip-path=\"url(#clip490)\" d=\"M2197.94 45.1919 L2197.94 72.576 L2190.49 72.576 L2190.49 45.4349 Q2190.49 38.994 2187.98 35.7938 Q2185.47 32.5936 2180.44 32.5936 Q2174.41 32.5936 2170.92 36.4419 Q2167.44 40.2903 2167.44 46.9338 L2167.44 72.576 L2159.95 72.576 L2159.95 9.54393 L2167.44 9.54393 L2167.44 34.2544 Q2170.11 30.163 2173.72 28.1376 Q2177.36 26.1121 2182.1 26.1121 Q2189.92 26.1121 2193.93 30.9732 Q2197.94 35.7938 2197.94 45.1919 Z\" fill=\"#000000\" fill-rule=\"evenodd\" fill-opacity=\"1\" /><path clip-path=\"url(#clip490)\" d=\"M2239.18 27.2059 L2246.63 27.2059 L2246.63 72.576 L2239.18 72.576 L2239.18 27.2059 M2239.18 9.54393 L2246.63 9.54393 L2246.63 18.9825 L2239.18 18.9825 L2239.18 9.54393 Z\" fill=\"#000000\" fill-rule=\"evenodd\" fill-opacity=\"1\" /><path clip-path=\"url(#clip490)\" d=\"M2269.6 14.324 L2269.6 27.2059 L2284.96 27.2059 L2284.96 32.9987 L2269.6 32.9987 L2269.6 57.6282 Q2269.6 63.1779 2271.1 64.7578 Q2272.64 66.3376 2277.3 66.3376 L2284.96 66.3376 L2284.96 72.576 L2277.3 72.576 Q2268.67 72.576 2265.39 69.3758 Q2262.11 66.1351 2262.11 57.6282 L2262.11 32.9987 L2256.64 32.9987 L2256.64 27.2059 L2262.11 27.2059 L2262.11 14.324 L2269.6 14.324 Z\" fill=\"#000000\" fill-rule=\"evenodd\" fill-opacity=\"1\" /><path clip-path=\"url(#clip490)\" d=\"M2333.57 48.0275 L2333.57 51.6733 L2299.3 51.6733 Q2299.78 59.3701 2303.91 63.421 Q2308.09 67.4314 2315.5 67.4314 Q2319.79 67.4314 2323.8 66.3781 Q2327.86 65.3249 2331.83 63.2184 L2331.83 70.267 Q2327.81 71.9684 2323.6 72.8596 Q2319.39 73.7508 2315.05 73.7508 Q2304.2 73.7508 2297.84 67.4314 Q2291.52 61.1119 2291.52 50.3365 Q2291.52 39.1965 2297.51 32.6746 Q2303.55 26.1121 2313.76 26.1121 Q2322.91 26.1121 2328.22 32.0264 Q2333.57 37.9003 2333.57 48.0275 M2326.11 45.84 Q2326.03 39.7232 2322.67 36.0774 Q2319.35 32.4315 2313.84 32.4315 Q2307.6 32.4315 2303.83 35.9558 Q2300.11 39.4801 2299.54 45.8805 L2326.11 45.84 Z\" fill=\"#000000\" fill-rule=\"evenodd\" fill-opacity=\"1\" /><path clip-path=\"url(#clip490)\" d=\"M2372.09 34.1734 Q2370.84 33.4443 2369.34 33.1202 Q2367.88 32.7556 2366.1 32.7556 Q2359.78 32.7556 2356.37 36.8875 Q2353.01 40.9789 2353.01 48.6757 L2353.01 72.576 L2345.52 72.576 L2345.52 27.2059 L2353.01 27.2059 L2353.01 34.2544 Q2355.36 30.1225 2359.13 28.1376 Q2362.9 26.1121 2368.28 26.1121 Q2369.05 26.1121 2369.98 26.2337 Q2370.92 26.3147 2372.05 26.5172 L2372.09 34.1734 Z\" fill=\"#000000\" fill-rule=\"evenodd\" fill-opacity=\"1\" /><path clip-path=\"url(#clip490)\" d=\"M2400.53 49.7694 Q2391.49 49.7694 2388.01 51.8354 Q2384.53 53.9013 2384.53 58.8839 Q2384.53 62.8538 2387.12 65.2034 Q2389.75 67.5124 2394.25 67.5124 Q2400.45 67.5124 2404.17 63.1374 Q2407.94 58.7219 2407.94 51.4303 L2407.94 49.7694 L2400.53 49.7694 M2415.4 46.6907 L2415.4 72.576 L2407.94 72.576 L2407.94 65.6895 Q2405.39 69.8214 2401.58 71.8063 Q2397.77 73.7508 2392.26 73.7508 Q2385.3 73.7508 2381.17 69.8619 Q2377.07 65.9325 2377.07 59.3701 Q2377.07 51.7138 2382.18 47.825 Q2387.32 43.9361 2397.49 43.9361 L2407.94 43.9361 L2407.94 43.2069 Q2407.94 38.0623 2404.54 35.2672 Q2401.18 32.4315 2395.06 32.4315 Q2391.17 32.4315 2387.48 33.3632 Q2383.8 34.295 2380.4 36.1584 L2380.4 29.2718 Q2384.49 27.692 2388.34 26.9223 Q2392.18 26.1121 2395.83 26.1121 Q2405.67 26.1121 2410.53 31.2163 Q2415.4 36.3204 2415.4 46.6907 Z\" fill=\"#000000\" fill-rule=\"evenodd\" fill-opacity=\"1\" /><path clip-path=\"url(#clip490)\" d=\"M2438.12 14.324 L2438.12 27.2059 L2453.47 27.2059 L2453.47 32.9987 L2438.12 32.9987 L2438.12 57.6282 Q2438.12 63.1779 2439.62 64.7578 Q2441.16 66.3376 2445.82 66.3376 L2453.47 66.3376 L2453.47 72.576 L2445.82 72.576 Q2437.19 72.576 2433.91 69.3758 Q2430.63 66.1351 2430.63 57.6282 L2430.63 32.9987 L2425.16 32.9987 L2425.16 27.2059 L2430.63 27.2059 L2430.63 14.324 L2438.12 14.324 Z\" fill=\"#000000\" fill-rule=\"evenodd\" fill-opacity=\"1\" /><path clip-path=\"url(#clip490)\" d=\"M2463.28 27.2059 L2470.73 27.2059 L2470.73 72.576 L2463.28 72.576 L2463.28 27.2059 M2463.28 9.54393 L2470.73 9.54393 L2470.73 18.9825 L2463.28 18.9825 L2463.28 9.54393 Z\" fill=\"#000000\" fill-rule=\"evenodd\" fill-opacity=\"1\" /><path clip-path=\"url(#clip490)\" d=\"M2503.91 32.4315 Q2497.91 32.4315 2494.43 37.1306 Q2490.94 41.7891 2490.94 49.9314 Q2490.94 58.0738 2494.39 62.7728 Q2497.87 67.4314 2503.91 67.4314 Q2509.86 67.4314 2513.35 62.7323 Q2516.83 58.0333 2516.83 49.9314 Q2516.83 41.8701 2513.35 37.1711 Q2509.86 32.4315 2503.91 32.4315 M2503.91 26.1121 Q2513.63 26.1121 2519.18 32.4315 Q2524.73 38.7509 2524.73 49.9314 Q2524.73 61.0714 2519.18 67.4314 Q2513.63 73.7508 2503.91 73.7508 Q2494.14 73.7508 2488.6 67.4314 Q2483.09 61.0714 2483.09 49.9314 Q2483.09 38.7509 2488.6 32.4315 Q2494.14 26.1121 2503.91 26.1121 Z\" fill=\"#000000\" fill-rule=\"evenodd\" fill-opacity=\"1\" /><path clip-path=\"url(#clip490)\" d=\"M2574.8 45.1919 L2574.8 72.576 L2567.34 72.576 L2567.34 45.4349 Q2567.34 38.994 2564.83 35.7938 Q2562.32 32.5936 2557.3 32.5936 Q2551.26 32.5936 2547.78 36.4419 Q2544.3 40.2903 2544.3 46.9338 L2544.3 72.576 L2536.8 72.576 L2536.8 27.2059 L2544.3 27.2059 L2544.3 34.2544 Q2546.97 30.163 2550.57 28.1376 Q2554.22 26.1121 2558.96 26.1121 Q2566.78 26.1121 2570.79 30.9732 Q2574.8 35.7938 2574.8 45.1919 Z\" fill=\"#000000\" fill-rule=\"evenodd\" fill-opacity=\"1\" /><polyline clip-path=\"url(#clip492)\" style=\"stroke:#009af9; stroke-linecap:butt; stroke-linejoin:round; stroke-width:4; stroke-opacity:1; fill:none\" points=\"\n  316.103,2146.22 622.107,2146.22 928.11,2146.22 1234.11,2146.22 1540.12,2146.22 1846.12,2146.22 2152.12,2146.22 2458.13,2146.22 2764.13,2146.22 3070.13,2146.22 \n  \n  \"/>\n<path clip-path=\"url(#clip490)\" d=\"\nM2683.02 303.842 L3055.45 303.842 L3055.45 200.162 L2683.02 200.162  Z\n  \" fill=\"#ffffff\" fill-rule=\"evenodd\" fill-opacity=\"1\"/>\n<polyline clip-path=\"url(#clip490)\" style=\"stroke:#000000; stroke-linecap:butt; stroke-linejoin:round; stroke-width:4; stroke-opacity:1; fill:none\" points=\"\n  2683.02,303.842 3055.45,303.842 3055.45,200.162 2683.02,200.162 2683.02,303.842 \n  \"/>\n<polyline clip-path=\"url(#clip490)\" style=\"stroke:#009af9; stroke-linecap:butt; stroke-linejoin:round; stroke-width:4; stroke-opacity:1; fill:none\" points=\"\n  2715.02,252.002 2907.02,252.002 \n  \"/>\n<path clip-path=\"url(#clip490)\" d=\"M2952.86 271.689 Q2951.05 276.319 2949.34 277.731 Q2947.63 279.143 2944.76 279.143 L2941.35 279.143 L2941.35 275.578 L2943.85 275.578 Q2945.61 275.578 2946.59 274.745 Q2947.56 273.911 2948.74 270.809 L2949.5 268.865 L2939.02 243.356 L2943.53 243.356 L2951.63 263.634 L2959.73 243.356 L2964.25 243.356 L2952.86 271.689 Z\" fill=\"#000000\" fill-rule=\"evenodd\" fill-opacity=\"1\" /><path clip-path=\"url(#clip490)\" d=\"M2971.54 265.347 L2979.18 265.347 L2979.18 238.981 L2970.87 240.648 L2970.87 236.388 L2979.13 234.722 L2983.81 234.722 L2983.81 265.347 L2991.45 265.347 L2991.45 269.282 L2971.54 269.282 L2971.54 265.347 Z\" fill=\"#000000\" fill-rule=\"evenodd\" fill-opacity=\"1\" /></svg>\n"
     },
     "execution_count": 30,
     "metadata": {},
     "output_type": "execute_result"
    }
   ],
   "source": [
    "X, y = make_blobs(10_000, 3; centers=2, as_table=false, rng=2020);\n",
    "X = Matrix(X');\n",
    "y = reshape(y, (1, size(X, 2)));\n",
    "f(x) =  x == 2 ? 0 : x\n",
    "y2 = f.(y);\n",
    "\n",
    "# Input dimensions\n",
    "input_dim = size(X, 1);\n",
    "\n",
    "# Train the model\n",
    "nn_results = train_network([input_dim, 5, 3, 1], X, y2; η=0.01, epochs=10, seed=1, verbose=true);\n",
    "\n",
    "# Plot accuracy per iteration\n",
    "p1 = plot(nn_results.accuracy,\n",
    "         xlabel=\"Log\",\n",
    "         ylabel=\"Accuracy\",\n",
    "         title=\"Development of accuracy at each iteration\");\n",
    "\n",
    "# Combine accuracy and cost plots\n",
    "plot(p1, layout = (2, 1), size = (800, 600))"
   ]
  }
 ],
 "metadata": {
  "kernelspec": {
   "display_name": "Julia 1.6.5",
   "language": "julia",
   "name": "julia-1.6"
  },
  "language_info": {
   "file_extension": ".jl",
   "mimetype": "application/julia",
   "name": "julia",
   "version": "1.6.5"
  }
 },
 "nbformat": 4,
 "nbformat_minor": 5
}
