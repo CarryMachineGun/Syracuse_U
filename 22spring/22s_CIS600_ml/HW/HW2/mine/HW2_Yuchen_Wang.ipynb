{
 "cells": [
  {
   "cell_type": "code",
   "execution_count": 17,
   "id": "controlled-jerusalem",
   "metadata": {},
   "outputs": [
    {
     "data": {
      "text/html": [
       "<div class=\"data-frame\"><p>2,000 rows × 21 columns (omitted printing of 13 columns)</p><table class=\"data-frame\"><thead><tr><th></th><th>battery_power</th><th>blue</th><th>clock_speed</th><th>dual_sim</th><th>fc</th><th>four_g</th><th>int_memory</th><th>m_dep</th></tr><tr><th></th><th title=\"Int64\">Int64</th><th title=\"Int64\">Int64</th><th title=\"Float64\">Float64</th><th title=\"Int64\">Int64</th><th title=\"Int64\">Int64</th><th title=\"Int64\">Int64</th><th title=\"Int64\">Int64</th><th title=\"Float64\">Float64</th></tr></thead><tbody><tr><th>1</th><td>842</td><td>0</td><td>2.2</td><td>0</td><td>1</td><td>0</td><td>7</td><td>0.6</td></tr><tr><th>2</th><td>1021</td><td>1</td><td>0.5</td><td>1</td><td>0</td><td>1</td><td>53</td><td>0.7</td></tr><tr><th>3</th><td>563</td><td>1</td><td>0.5</td><td>1</td><td>2</td><td>1</td><td>41</td><td>0.9</td></tr><tr><th>4</th><td>615</td><td>1</td><td>2.5</td><td>0</td><td>0</td><td>0</td><td>10</td><td>0.8</td></tr><tr><th>5</th><td>1821</td><td>1</td><td>1.2</td><td>0</td><td>13</td><td>1</td><td>44</td><td>0.6</td></tr><tr><th>6</th><td>1859</td><td>0</td><td>0.5</td><td>1</td><td>3</td><td>0</td><td>22</td><td>0.7</td></tr><tr><th>7</th><td>1821</td><td>0</td><td>1.7</td><td>0</td><td>4</td><td>1</td><td>10</td><td>0.8</td></tr><tr><th>8</th><td>1954</td><td>0</td><td>0.5</td><td>1</td><td>0</td><td>0</td><td>24</td><td>0.8</td></tr><tr><th>9</th><td>1445</td><td>1</td><td>0.5</td><td>0</td><td>0</td><td>0</td><td>53</td><td>0.7</td></tr><tr><th>10</th><td>509</td><td>1</td><td>0.6</td><td>1</td><td>2</td><td>1</td><td>9</td><td>0.1</td></tr><tr><th>11</th><td>769</td><td>1</td><td>2.9</td><td>1</td><td>0</td><td>0</td><td>9</td><td>0.1</td></tr><tr><th>12</th><td>1520</td><td>1</td><td>2.2</td><td>0</td><td>5</td><td>1</td><td>33</td><td>0.5</td></tr><tr><th>13</th><td>1815</td><td>0</td><td>2.8</td><td>0</td><td>2</td><td>0</td><td>33</td><td>0.6</td></tr><tr><th>14</th><td>803</td><td>1</td><td>2.1</td><td>0</td><td>7</td><td>0</td><td>17</td><td>1.0</td></tr><tr><th>15</th><td>1866</td><td>0</td><td>0.5</td><td>0</td><td>13</td><td>1</td><td>52</td><td>0.7</td></tr><tr><th>16</th><td>775</td><td>0</td><td>1.0</td><td>0</td><td>3</td><td>0</td><td>46</td><td>0.7</td></tr><tr><th>17</th><td>838</td><td>0</td><td>0.5</td><td>0</td><td>1</td><td>1</td><td>13</td><td>0.1</td></tr><tr><th>18</th><td>595</td><td>0</td><td>0.9</td><td>1</td><td>7</td><td>1</td><td>23</td><td>0.1</td></tr><tr><th>19</th><td>1131</td><td>1</td><td>0.5</td><td>1</td><td>11</td><td>0</td><td>49</td><td>0.6</td></tr><tr><th>20</th><td>682</td><td>1</td><td>0.5</td><td>0</td><td>4</td><td>0</td><td>19</td><td>1.0</td></tr><tr><th>21</th><td>772</td><td>0</td><td>1.1</td><td>1</td><td>12</td><td>0</td><td>39</td><td>0.8</td></tr><tr><th>22</th><td>1709</td><td>1</td><td>2.1</td><td>0</td><td>1</td><td>0</td><td>13</td><td>1.0</td></tr><tr><th>23</th><td>1949</td><td>0</td><td>2.6</td><td>1</td><td>4</td><td>0</td><td>47</td><td>0.3</td></tr><tr><th>24</th><td>1602</td><td>1</td><td>2.8</td><td>1</td><td>4</td><td>1</td><td>38</td><td>0.7</td></tr><tr><th>25</th><td>503</td><td>0</td><td>1.2</td><td>1</td><td>5</td><td>1</td><td>8</td><td>0.4</td></tr><tr><th>26</th><td>961</td><td>1</td><td>1.4</td><td>1</td><td>0</td><td>1</td><td>57</td><td>0.6</td></tr><tr><th>27</th><td>519</td><td>1</td><td>1.6</td><td>1</td><td>7</td><td>1</td><td>51</td><td>0.3</td></tr><tr><th>28</th><td>956</td><td>0</td><td>0.5</td><td>0</td><td>1</td><td>1</td><td>41</td><td>1.0</td></tr><tr><th>29</th><td>1453</td><td>0</td><td>1.6</td><td>1</td><td>12</td><td>1</td><td>52</td><td>0.3</td></tr><tr><th>30</th><td>851</td><td>0</td><td>0.5</td><td>0</td><td>3</td><td>0</td><td>21</td><td>0.4</td></tr><tr><th>&vellip;</th><td>&vellip;</td><td>&vellip;</td><td>&vellip;</td><td>&vellip;</td><td>&vellip;</td><td>&vellip;</td><td>&vellip;</td><td>&vellip;</td></tr></tbody></table></div>"
      ],
      "text/latex": [
       "\\begin{tabular}{r|ccccccccc}\n",
       "\t& battery\\_power & blue & clock\\_speed & dual\\_sim & fc & four\\_g & int\\_memory & m\\_dep & \\\\\n",
       "\t\\hline\n",
       "\t& Int64 & Int64 & Float64 & Int64 & Int64 & Int64 & Int64 & Float64 & \\\\\n",
       "\t\\hline\n",
       "\t1 & 842 & 0 & 2.2 & 0 & 1 & 0 & 7 & 0.6 & $\\dots$ \\\\\n",
       "\t2 & 1021 & 1 & 0.5 & 1 & 0 & 1 & 53 & 0.7 & $\\dots$ \\\\\n",
       "\t3 & 563 & 1 & 0.5 & 1 & 2 & 1 & 41 & 0.9 & $\\dots$ \\\\\n",
       "\t4 & 615 & 1 & 2.5 & 0 & 0 & 0 & 10 & 0.8 & $\\dots$ \\\\\n",
       "\t5 & 1821 & 1 & 1.2 & 0 & 13 & 1 & 44 & 0.6 & $\\dots$ \\\\\n",
       "\t6 & 1859 & 0 & 0.5 & 1 & 3 & 0 & 22 & 0.7 & $\\dots$ \\\\\n",
       "\t7 & 1821 & 0 & 1.7 & 0 & 4 & 1 & 10 & 0.8 & $\\dots$ \\\\\n",
       "\t8 & 1954 & 0 & 0.5 & 1 & 0 & 0 & 24 & 0.8 & $\\dots$ \\\\\n",
       "\t9 & 1445 & 1 & 0.5 & 0 & 0 & 0 & 53 & 0.7 & $\\dots$ \\\\\n",
       "\t10 & 509 & 1 & 0.6 & 1 & 2 & 1 & 9 & 0.1 & $\\dots$ \\\\\n",
       "\t11 & 769 & 1 & 2.9 & 1 & 0 & 0 & 9 & 0.1 & $\\dots$ \\\\\n",
       "\t12 & 1520 & 1 & 2.2 & 0 & 5 & 1 & 33 & 0.5 & $\\dots$ \\\\\n",
       "\t13 & 1815 & 0 & 2.8 & 0 & 2 & 0 & 33 & 0.6 & $\\dots$ \\\\\n",
       "\t14 & 803 & 1 & 2.1 & 0 & 7 & 0 & 17 & 1.0 & $\\dots$ \\\\\n",
       "\t15 & 1866 & 0 & 0.5 & 0 & 13 & 1 & 52 & 0.7 & $\\dots$ \\\\\n",
       "\t16 & 775 & 0 & 1.0 & 0 & 3 & 0 & 46 & 0.7 & $\\dots$ \\\\\n",
       "\t17 & 838 & 0 & 0.5 & 0 & 1 & 1 & 13 & 0.1 & $\\dots$ \\\\\n",
       "\t18 & 595 & 0 & 0.9 & 1 & 7 & 1 & 23 & 0.1 & $\\dots$ \\\\\n",
       "\t19 & 1131 & 1 & 0.5 & 1 & 11 & 0 & 49 & 0.6 & $\\dots$ \\\\\n",
       "\t20 & 682 & 1 & 0.5 & 0 & 4 & 0 & 19 & 1.0 & $\\dots$ \\\\\n",
       "\t21 & 772 & 0 & 1.1 & 1 & 12 & 0 & 39 & 0.8 & $\\dots$ \\\\\n",
       "\t22 & 1709 & 1 & 2.1 & 0 & 1 & 0 & 13 & 1.0 & $\\dots$ \\\\\n",
       "\t23 & 1949 & 0 & 2.6 & 1 & 4 & 0 & 47 & 0.3 & $\\dots$ \\\\\n",
       "\t24 & 1602 & 1 & 2.8 & 1 & 4 & 1 & 38 & 0.7 & $\\dots$ \\\\\n",
       "\t25 & 503 & 0 & 1.2 & 1 & 5 & 1 & 8 & 0.4 & $\\dots$ \\\\\n",
       "\t26 & 961 & 1 & 1.4 & 1 & 0 & 1 & 57 & 0.6 & $\\dots$ \\\\\n",
       "\t27 & 519 & 1 & 1.6 & 1 & 7 & 1 & 51 & 0.3 & $\\dots$ \\\\\n",
       "\t28 & 956 & 0 & 0.5 & 0 & 1 & 1 & 41 & 1.0 & $\\dots$ \\\\\n",
       "\t29 & 1453 & 0 & 1.6 & 1 & 12 & 1 & 52 & 0.3 & $\\dots$ \\\\\n",
       "\t30 & 851 & 0 & 0.5 & 0 & 3 & 0 & 21 & 0.4 & $\\dots$ \\\\\n",
       "\t$\\dots$ & $\\dots$ & $\\dots$ & $\\dots$ & $\\dots$ & $\\dots$ & $\\dots$ & $\\dots$ & $\\dots$ &  \\\\\n",
       "\\end{tabular}\n"
      ],
      "text/plain": [
       "\u001b[1m2000×21 DataFrame\u001b[0m\n",
       "\u001b[1m  Row \u001b[0m│\u001b[1m battery_power \u001b[0m\u001b[1m blue  \u001b[0m\u001b[1m clock_speed \u001b[0m\u001b[1m dual_sim \u001b[0m\u001b[1m fc    \u001b[0m\u001b[1m four_g \u001b[0m\u001b[1m int_memory\u001b[0m ⋯\n",
       "\u001b[1m      \u001b[0m│\u001b[90m Int64         \u001b[0m\u001b[90m Int64 \u001b[0m\u001b[90m Float64     \u001b[0m\u001b[90m Int64    \u001b[0m\u001b[90m Int64 \u001b[0m\u001b[90m Int64  \u001b[0m\u001b[90m Int64     \u001b[0m ⋯\n",
       "──────┼─────────────────────────────────────────────────────────────────────────\n",
       "    1 │           842      0          2.2         0      1       0           7 ⋯\n",
       "    2 │          1021      1          0.5         1      0       1          53\n",
       "    3 │           563      1          0.5         1      2       1          41\n",
       "    4 │           615      1          2.5         0      0       0          10\n",
       "    5 │          1821      1          1.2         0     13       1          44 ⋯\n",
       "    6 │          1859      0          0.5         1      3       0          22\n",
       "    7 │          1821      0          1.7         0      4       1          10\n",
       "    8 │          1954      0          0.5         1      0       0          24\n",
       "    9 │          1445      1          0.5         0      0       0          53 ⋯\n",
       "   10 │           509      1          0.6         1      2       1           9\n",
       "   11 │           769      1          2.9         1      0       0           9\n",
       "  ⋮   │       ⋮          ⋮         ⋮          ⋮        ⋮      ⋮         ⋮      ⋱\n",
       " 1991 │          1617      1          2.4         0      8       1          36\n",
       " 1992 │          1882      0          2.0         0     11       1          44 ⋯\n",
       " 1993 │           674      1          2.9         1      1       0          21\n",
       " 1994 │          1467      1          0.5         0      0       0          18\n",
       " 1995 │           858      0          2.2         0      1       0          50\n",
       " 1996 │           794      1          0.5         1      0       1           2 ⋯\n",
       " 1997 │          1965      1          2.6         1      0       0          39\n",
       " 1998 │          1911      0          0.9         1      1       1          36\n",
       " 1999 │          1512      0          0.9         0      4       1          46\n",
       " 2000 │           510      1          2.0         1      5       1          45 ⋯\n",
       "\u001b[36m                                                14 columns and 1979 rows omitted\u001b[0m"
      ]
     },
     "execution_count": 17,
     "metadata": {},
     "output_type": "execute_result"
    }
   ],
   "source": [
    "using ZipFile, Distributed, CSV, DataFrames, Random, StatsBase, Plots, Statistics, StableRNGs, MLJBase\n",
    "\n",
    "file = CSV.read(\"train.csv\", DataFrame)"
   ]
  },
  {
   "cell_type": "code",
   "execution_count": 18,
   "id": "postal-class",
   "metadata": {},
   "outputs": [
    {
     "data": {
      "text/plain": [
       "1000×21 Matrix{Float64}:\n",
       " 1021.0  1.0  0.5  1.0   0.0  1.0  53.0  …   3.0   7.0  1.0  1.0  0.0  2.0\n",
       "  563.0  1.0  0.5  1.0   2.0  1.0  41.0      2.0   9.0  1.0  1.0  0.0  2.0\n",
       "  615.0  1.0  2.5  0.0   0.0  0.0  10.0      8.0  11.0  1.0  0.0  0.0  2.0\n",
       " 1821.0  0.0  1.7  0.0   4.0  1.0  10.0      8.0  18.0  1.0  0.0  1.0  3.0\n",
       "  769.0  1.0  2.9  1.0   0.0  0.0   9.0      2.0   7.0  0.0  0.0  0.0  3.0\n",
       " 1520.0  1.0  2.2  0.0   5.0  1.0  33.0  …   9.0  13.0  1.0  1.0  1.0  3.0\n",
       "  803.0  1.0  2.1  0.0   7.0  0.0  17.0      1.0   4.0  1.0  0.0  1.0  2.0\n",
       "  838.0  0.0  0.5  0.0   1.0  1.0  13.0      9.0  19.0  1.0  0.0  1.0  3.0\n",
       "  595.0  0.0  0.9  1.0   7.0  1.0  23.0      2.0  18.0  1.0  1.0  0.0  3.0\n",
       "  772.0  0.0  1.1  1.0  12.0  0.0  39.0     15.0   3.0  1.0  1.0  0.0  3.0\n",
       " 1709.0  1.0  2.1  0.0   1.0  0.0  13.0  …   1.0  15.0  1.0  0.0  0.0  3.0\n",
       "  961.0  1.0  1.4  1.0   0.0  1.0  57.0      9.0   7.0  1.0  1.0  1.0  2.0\n",
       "  519.0  1.0  1.6  1.0   7.0  1.0  51.0      1.0   4.0  1.0  0.0  1.0  3.0\n",
       "    ⋮                         ⋮          ⋱   ⋮                         ⋮\n",
       "  816.0  0.0  3.0  1.0   2.0  0.0   9.0      3.0  14.0  1.0  0.0  1.0  3.0\n",
       " 1157.0  1.0  0.8  0.0   7.0  0.0  27.0      4.0   2.0  1.0  0.0  1.0  3.0\n",
       " 1379.0  0.0  1.1  1.0   1.0  1.0  18.0  …   5.0  15.0  1.0  1.0  0.0  2.0\n",
       " 1784.0  0.0  1.6  0.0   4.0  0.0  41.0      1.0  11.0  0.0  1.0  0.0  2.0\n",
       " 1262.0  0.0  1.8  1.0  12.0  0.0  34.0      3.0   4.0  0.0  1.0  1.0  2.0\n",
       " 1829.0  1.0  2.1  0.0   8.0  0.0  59.0      6.0   5.0  1.0  1.0  1.0  3.0\n",
       " 1882.0  0.0  2.0  0.0  11.0  1.0  44.0      8.0  20.0  1.0  1.0  0.0  3.0\n",
       " 1467.0  1.0  0.5  0.0   0.0  0.0  18.0  …  11.0   5.0  1.0  1.0  1.0  3.0\n",
       "  858.0  0.0  2.2  0.0   1.0  0.0  50.0     16.0   3.0  1.0  1.0  0.0  3.0\n",
       " 1965.0  1.0  2.6  1.0   0.0  0.0  39.0     10.0  16.0  1.0  1.0  1.0  2.0\n",
       " 1911.0  0.0  0.9  1.0   1.0  1.0  36.0      1.0   5.0  1.0  1.0  0.0  3.0\n",
       "  510.0  1.0  2.0  1.0   5.0  1.0  45.0      4.0   2.0  1.0  1.0  1.0  3.0"
      ]
     },
     "execution_count": 18,
     "metadata": {},
     "output_type": "execute_result"
    }
   ],
   "source": [
    "# Transfer DataFrame to matrix form\n",
    "df = file |> Tables.matrix\n",
    "\n",
    "# Transfer the dataset to 2-classifiers. df_0 represents the result is 0, df_1 represents the result is 1.\n",
    "# Due to my datasset is binary problems, and each result is 50 percents of the whole dataset. So i didn't add any other pre-actions for dataset. \n",
    "\n",
    "mat_0 = df[df[:,21] .<= 1, :]\n",
    "mat_1 = df[df[:,21] .>= 2, :]\n"
   ]
  },
  {
   "cell_type": "code",
   "execution_count": 19,
   "id": "weekly-presentation",
   "metadata": {},
   "outputs": [
    {
     "data": {
      "text/plain": [
       "644×21 Matrix{Float64}:\n",
       "  842.0  0.0  2.2  0.0  1.0  0.0   7.0  …   7.0  19.0  0.0  0.0  1.0  1.0\n",
       " 1445.0  1.0  0.5  0.0  0.0  0.0  53.0      1.0  20.0  1.0  0.0  0.0  0.0\n",
       "  509.0  1.0  0.6  1.0  2.0  1.0   9.0     10.0  12.0  1.0  0.0  0.0  0.0\n",
       "  503.0  0.0  1.2  1.0  5.0  1.0   8.0      0.0  12.0  1.0  0.0  0.0  1.0\n",
       " 1319.0  1.0  0.9  0.0  3.0  1.0  41.0      5.0   3.0  1.0  1.0  1.0  1.0\n",
       "  589.0  1.0  2.3  1.0  1.0  0.0  61.0  …   7.0   2.0  1.0  0.0  1.0  1.0\n",
       " 1656.0  0.0  1.0  0.0  5.0  1.0  34.0     12.0  14.0  1.0  1.0  0.0  1.0\n",
       " 1195.0  1.0  2.8  0.0  1.0  1.0  20.0      3.0  12.0  1.0  1.0  0.0  0.0\n",
       " 1054.0  1.0  1.8  1.0  3.0  1.0  40.0     12.0  12.0  1.0  0.0  1.0  1.0\n",
       " 1757.0  0.0  0.5  0.0  8.0  0.0  49.0      5.0   4.0  0.0  0.0  0.0  1.0\n",
       "  799.0  1.0  2.3  0.0  1.0  1.0  63.0  …   6.0   6.0  1.0  1.0  1.0  0.0\n",
       " 1156.0  1.0  1.2  1.0  0.0  1.0  50.0      0.0  15.0  1.0  1.0  0.0  0.0\n",
       " 1242.0  0.0  1.1  1.0  0.0  0.0  10.0      1.0   4.0  1.0  0.0  1.0  0.0\n",
       "    ⋮                        ⋮          ⋱   ⋮                         ⋮\n",
       " 1090.0  1.0  2.3  0.0  1.0  1.0   8.0      3.0  11.0  1.0  0.0  1.0  3.0\n",
       "  721.0  1.0  2.7  1.0  1.0  1.0  15.0      0.0   5.0  1.0  1.0  1.0  3.0\n",
       " 1075.0  0.0  0.5  1.0  2.0  0.0  11.0      3.0   7.0  1.0  0.0  0.0  3.0\n",
       "  684.0  1.0  0.9  1.0  3.0  1.0  63.0  …   5.0  12.0  1.0  1.0  1.0  3.0\n",
       " 1872.0  1.0  1.9  0.0  5.0  0.0  35.0      5.0  19.0  0.0  0.0  0.0  3.0\n",
       " 1056.0  1.0  2.1  1.0  8.0  1.0  37.0      5.0   3.0  1.0  1.0  1.0  2.0\n",
       " 1830.0  1.0  0.5  0.0  5.0  0.0  14.0      3.0  19.0  1.0  1.0  1.0  2.0\n",
       "  732.0  1.0  1.3  0.0  5.0  1.0  32.0      2.0   5.0  1.0  0.0  1.0  3.0\n",
       " 1788.0  0.0  0.5  0.0  0.0  1.0   6.0  …   5.0  20.0  1.0  1.0  0.0  2.0\n",
       " 1589.0  0.0  0.6  0.0  0.0  0.0   5.0      5.0  19.0  1.0  1.0  1.0  3.0\n",
       " 1157.0  1.0  0.8  0.0  7.0  0.0  27.0      4.0   2.0  1.0  0.0  1.0  3.0\n",
       "  858.0  0.0  2.2  0.0  1.0  0.0  50.0     16.0   3.0  1.0  1.0  0.0  3.0"
      ]
     },
     "execution_count": 19,
     "metadata": {},
     "output_type": "execute_result"
    }
   ],
   "source": [
    "# randomly select 70% data from data set as the train data\n",
    "\n",
    "train_data = randsubseq(1:1000, 0.7)\n",
    "train_df = vcat(mat_0[train_data, :], mat_1[train_data, :])\n",
    "\n",
    "# select the rest as the test data \n",
    "\n",
    "test_data = [i for i in 1:1000 if isempty(searchsorted(train_data, i))]\n",
    "test_df = vcat(mat_0[test_data, :], mat_1[test_data, :])"
   ]
  },
  {
   "cell_type": "code",
   "execution_count": 20,
   "id": "featured-residence",
   "metadata": {},
   "outputs": [
    {
     "data": {
      "text/plain": [
       "1×644 Matrix{Float64}:\n",
       " 1.0  0.0  0.0  1.0  1.0  1.0  1.0  0.0  …  2.0  2.0  3.0  2.0  3.0  3.0  3.0"
      ]
     },
     "execution_count": 20,
     "metadata": {},
     "output_type": "execute_result"
    }
   ],
   "source": [
    "# parameters of the training and testing data\n",
    "para_train = train_df[:, 1:20]\n",
    "para_test = test_df[:, 1:20]\n",
    "\n",
    "# value is never used?\n",
    "value_train = train_df[:, 21]\n",
    "value_test = test_df[:, 21]\n",
    "value_train = reshape(value_train, (1, :)) \n",
    "value_test = reshape(value_test, (1, :)) \n"
   ]
  },
  {
   "cell_type": "code",
   "execution_count": 21,
   "id": "prerequisite-commercial",
   "metadata": {},
   "outputs": [
    {
     "data": {
      "text/plain": [
       "20×644 transpose(::Matrix{Float64}) with eltype Float64:\n",
       " -0.911359   0.479363  -1.67937    …   0.811476  -0.184863  -0.874458\n",
       " -0.995218   1.00406    1.00406       -0.995218   1.00406   -0.995218\n",
       "  0.844989  -1.2522    -1.12884       -1.12884   -0.882107   0.844989\n",
       " -0.992286  -0.992286   1.00703       -0.992286  -0.992286  -0.992286\n",
       " -0.767827  -0.996959  -0.538696      -0.996959   0.606962  -0.767827\n",
       " -1.04643   -1.04643    0.954924   …  -1.04643   -1.04643   -1.04643\n",
       " -1.37722    1.16805   -1.26656       -1.48788   -0.27058    1.00206\n",
       "  0.343417   0.690935  -1.39417        1.03845   -1.39417   -1.39417\n",
       "  1.36979    0.974698  -1.31118       -0.774989  -1.45229   -1.56517\n",
       " -1.12675    1.07036    0.191518       0.191518   1.50978   -1.56617\n",
       " -1.30526    0.666992   0.831346   …  -1.30526   -0.319133  -1.30526\n",
       " -1.44899   -0.620707   1.07886        0.261893   2.3394    -0.29935\n",
       " -1.14564   -0.961879  -0.0706476      0.326731   1.24782    0.370374\n",
       "  0.409131  -0.934241  -1.47715        1.22535    0.720423   1.73305\n",
       " -0.768138   1.13215    1.60722       -1.24321   -1.00567    1.13215\n",
       "  0.293478  -1.09798    0.989204   …  -0.17034   -0.402249   2.38066\n",
       "  1.48682    1.66989    0.205344       1.48682   -1.62534   -1.44227\n",
       " -1.81348    0.551019   0.551019       0.551019   0.551019   0.551019\n",
       " -0.996687  -0.996687  -0.996687       1.00258   -0.996687   1.00258\n",
       "  0.973435  -1.02653   -1.02653        0.973435   0.973435  -1.02653"
      ]
     },
     "execution_count": 21,
     "metadata": {},
     "output_type": "execute_result"
    }
   ],
   "source": [
    "dt = StatsBase.fit(ZScoreTransform, para_train, dims=1)\n",
    "\n",
    "para_train_std = StatsBase.transform(dt, para_train)\n",
    "para_test_std = StatsBase.transform(dt, para_test)\n",
    "\n",
    "para_train_std = transpose(para_train_std) \n",
    "para_test_std = transpose(para_test_std)"
   ]
  },
  {
   "cell_type": "code",
   "execution_count": 22,
   "id": "african-recall",
   "metadata": {},
   "outputs": [
    {
     "data": {
      "text/plain": [
       "initialise_model_weights (generic function with 2 methods)"
      ]
     },
     "execution_count": 22,
     "metadata": {},
     "output_type": "execute_result"
    }
   ],
   "source": [
    "function initialise_model_weights(layer_dims, seed = 7)\n",
    "    params = Dict()\n",
    "\n",
    "    for l=2:length(layer_dims)\n",
    "        params[string(\"W_\", (l-1))] = rand(StableRNG(seed), layer_dims[l], layer_dims[l-1]) * sqrt(2 / layer_dims[l-1])\n",
    "        params[string(\"b_\", (l-1))] = zeros(layer_dims[l], 1)\n",
    "    end\n",
    "\n",
    "    return params\n",
    "end"
   ]
  },
  {
   "cell_type": "code",
   "execution_count": 23,
   "id": "essential-garden",
   "metadata": {},
   "outputs": [
    {
     "data": {
      "text/plain": [
       "calculate_cost (generic function with 1 method)"
      ]
     },
     "execution_count": 23,
     "metadata": {},
     "output_type": "execute_result"
    }
   ],
   "source": [
    "\n",
    "function sigmoid(Z)\n",
    "    A = 1 ./ (1 .+ exp.(.-Z))\n",
    "    return (A = A, Z = Z)\n",
    "end\n",
    "\n",
    "function linear_forward(A, W, b)\n",
    "    Z = (W * A) .+ b\n",
    "    cache = (A, W, b)\n",
    "\n",
    "    @assert size(Z) == (size(W, 1), size(A, 2))\n",
    "\n",
    "    return (Z = Z, cache = cache)\n",
    "end\n",
    "\n",
    "function forward_activation(A_prev, W, b, activation_function=\"sigmoid\")\n",
    "    Z, linear_cache = linear_forward(A_prev, W, b)\n",
    "\n",
    "    if activation_function == \"sigmoid\"\n",
    "        A, activation_cache = sigmoid(Z)\n",
    "    end\n",
    "\n",
    "    cache = (linear_step_cache=linear_cache, activation_step_cache=activation_cache)\n",
    "\n",
    "    @assert size(A) == (size(W, 1), size(A_prev, 2))\n",
    "\n",
    "    return A, cache\n",
    "end\n",
    "\n",
    "\n",
    "function forward_propagate_model_weights(input, parameters)\n",
    "    master_cache = []\n",
    "    A = input\n",
    "    L = Int(length(parameters) / 2)\n",
    "\n",
    "    for l = 1 : (L-1)\n",
    "        A_prev = A\n",
    "        A, cache = forward_activation(A_prev, parameters[string(\"W_\", (l))], parameters[string(\"b_\", (l))], \"sigmoid\")\n",
    "        push!(master_cache , cache)\n",
    "    end\n",
    "\n",
    "    Ŷ, cache = forward_activation(A, parameters[string(\"W_\", (L))], parameters[string(\"b_\", (L))], \"sigmoid\")\n",
    "    push!(master_cache, cache)\n",
    "\n",
    "    return Ŷ, master_cache\n",
    "end\n",
    "\n",
    "function calculate_cost(Ŷ, Y)\n",
    "    m = max(size(Y, 2), size(Y, 1))\n",
    "    epsilon = eps(1.0)\n",
    "\n",
    "    Ŷ_new = [max(i, epsilon) for i in Ŷ]\n",
    "    Ŷ_new = [min(i, 1-epsilon) for i in Ŷ_new]\n",
    "\n",
    "    cost = -sum(Y .* log.(Ŷ_new) + (1 .- Y) .* log.(1 .- Ŷ_new)) / m\n",
    "    return cost\n",
    "end"
   ]
  },
  {
   "cell_type": "code",
   "execution_count": 24,
   "id": "appointed-treatment",
   "metadata": {},
   "outputs": [
    {
     "data": {
      "text/plain": [
       "activation_backward (generic function with 2 methods)"
      ]
     },
     "execution_count": 24,
     "metadata": {},
     "output_type": "execute_result"
    }
   ],
   "source": [
    "function sigmoid_backwards(∂A, activated_cache)\n",
    "    s = sigmoid(activated_cache).A\n",
    "    ∂Z = ∂A .* s .* (1 .- s)\n",
    "\n",
    "    @assert (size(∂Z) == size(activated_cache))\n",
    "    return ∂Z\n",
    "end\n",
    "\n",
    "function linear_backward(∂Z, cache)\n",
    "    # Unpack cache\n",
    "    A_prev , W , b = cache\n",
    "    m = size(A_prev, 2)\n",
    "\n",
    "    # Partial derivates of each of the components\n",
    "    ∂W = ∂Z * (A_prev') / m\n",
    "    ∂b = sum(∂Z, dims = 2) / m\n",
    "    ∂A_prev = (W') * ∂Z\n",
    "\n",
    "    @assert (size(∂A_prev) == size(A_prev))\n",
    "    @assert (size(∂W) == size(W))\n",
    "    @assert (size(∂b) == size(b))\n",
    "\n",
    "    return ∂W , ∂b , ∂A_prev\n",
    "end\n",
    "\n",
    "function activation_backward(∂A, cache, activation_function=\"sigmiod\")\n",
    "    @assert activation_function ∈ (\"sigmoid\", \"relu\")\n",
    "\n",
    "    linear_cache , cache_activation = cache\n",
    "\n",
    "    if (activation_function == \"relu\")\n",
    "\n",
    "        ∂Z = relu_backwards(∂A , cache_activation)\n",
    "        ∂W , ∂b , ∂A_prev = linear_backward(∂Z , linear_cache)\n",
    "\n",
    "    elseif (activation_function == \"sigmoid\")\n",
    "\n",
    "        ∂Z = sigmoid_backwards(∂A , cache_activation)\n",
    "        ∂W , ∂b , ∂A_prev = linear_backward(∂Z , linear_cache)\n",
    "\n",
    "    end\n",
    "\n",
    "    return ∂W , ∂b , ∂A_prev\n",
    "end"
   ]
  },
  {
   "cell_type": "code",
   "execution_count": 25,
   "id": "civic-vaccine",
   "metadata": {},
   "outputs": [
    {
     "data": {
      "text/plain": [
       "back_propagate_model_weights (generic function with 1 method)"
      ]
     },
     "execution_count": 25,
     "metadata": {},
     "output_type": "execute_result"
    }
   ],
   "source": [
    "function back_propagate_model_weights(Ŷ, Y, master_cache)\n",
    "    ∇ = Dict()\n",
    "\n",
    "    L = length(master_cache)\n",
    "    Y = reshape(Y , size(Ŷ))\n",
    "\n",
    "    ∂Ŷ = (-(Y ./ Ŷ) .+ ((1 .- Y) ./ ( 1 .- Ŷ)))\n",
    "    current_cache = master_cache[L]\n",
    "\n",
    "        ∇[string(\"∂W_\", (L))], ∇[string(\"∂b_\", (L))], ∇[string(\"∂A_\", (L-1))] = activation_backward(∂Ŷ, current_cache, \"sigmoid\")\n",
    "\n",
    "    for l=reverse(0:L-2)\n",
    "        current_cache = master_cache[l+1]\n",
    "        ∇[string(\"∂W_\", (l+1))], ∇[string(\"∂b_\", (l+1))], ∇[string(\"∂A_\", (l))] = activation_backward(∇[string(\"∂A_\", (l+1))],\n",
    "                                                                                                             current_cache,\n",
    "                                                                                                             \"sigmoid\")\n",
    "    end\n",
    "    return ∇\n",
    "end"
   ]
  },
  {
   "cell_type": "code",
   "execution_count": 26,
   "id": "smart-commons",
   "metadata": {},
   "outputs": [
    {
     "data": {
      "text/plain": [
       "calculate_accuracy (generic function with 1 method)"
      ]
     },
     "execution_count": 26,
     "metadata": {},
     "output_type": "execute_result"
    }
   ],
   "source": [
    "\n",
    "function update_model_weights(parameters, ∇, η)\n",
    "    L = Int(length(parameters) / 2)\n",
    "\n",
    "    for l = 0: (L-1)\n",
    "        parameters[string(\"W_\", (l + 1))] -= η .* ∇[string(\"∂W_\", (l + 1))]\n",
    "        parameters[string(\"b_\", (l + 1))] -= η .* ∇[string(\"∂b_\", (l + 1))]\n",
    "    end\n",
    "\n",
    "    return parameters\n",
    "end\n",
    "\n",
    "\n",
    "function calculate_accuracy(Ŷ , Y)\n",
    "    @assert size(Ŷ) == size(Y)\n",
    "    return sum((Ŷ .> 0.5) .== Y) / length(Y)\n",
    "end"
   ]
  },
  {
   "cell_type": "code",
   "execution_count": 27,
   "id": "da3d61c3",
   "metadata": {},
   "outputs": [
    {
     "data": {
      "text/plain": [
       "assess_accuracy (generic function with 1 method)"
      ]
     },
     "execution_count": 27,
     "metadata": {},
     "output_type": "execute_result"
    }
   ],
   "source": [
    "function assess_accuracy(Ŷ , Y)\n",
    "    @assert size(Ŷ) == size(Y)\n",
    "    return sum((Ŷ .> 0.5) .== Y) / length(Y)\n",
    "end"
   ]
  },
  {
   "cell_type": "code",
   "execution_count": 28,
   "id": "through-awareness",
   "metadata": {},
   "outputs": [
    {
     "data": {
      "text/plain": [
       "update_model_weights_counts (generic function with 1 method)"
      ]
     },
     "execution_count": 28,
     "metadata": {},
     "output_type": "execute_result"
    }
   ],
   "source": [
    "\n",
    "function update_model_weights_counts(parameters_old,parameters_new)\n",
    "    L=Int(length(parameters_old) / 2)\n",
    "    count=0\n",
    "    for l = 0 : (L-1)\n",
    "        for m=1:Int(size(parameters_old[string(\"W_\",(l+1))])[L])\n",
    "            if parameters_old[string(\"W_\",(l+1))]!=parameters_new[string(\"W_\",(l+1))]\n",
    "                count=count+1\n",
    "            end\n",
    "        end\n",
    "    end\n",
    "    return count\n",
    "end\n",
    "        "
   ]
  },
  {
   "cell_type": "code",
   "execution_count": 29,
   "id": "together-continuity",
   "metadata": {},
   "outputs": [
    {
     "data": {
      "text/plain": [
       "train_network (generic function with 1 method)"
      ]
     },
     "execution_count": 29,
     "metadata": {},
     "output_type": "execute_result"
    }
   ],
   "source": [
    "function train_network(layer_dims , DMatrix, Y;  η=0.001, epochs=10, seed=2020, verbose=true)\n",
    "    # Initiate an empty container for cost, iterations, and accuracy at each iteration\n",
    "    costs = []\n",
    "    iters = []\n",
    "    accuracy = []\n",
    "\n",
    "    # Initialise random weights for the network\n",
    "    params = initialise_model_weights(layer_dims, seed)\n",
    "\n",
    "    println(length(layer_dims))\n",
    "\n",
    "    println(\"lolololol\")\n",
    "\n",
    "    # Train the network\n",
    "    for i = 1:epochs\n",
    "\n",
    "        Ŷ , caches  = forward_propagate_model_weights(DMatrix, params)\n",
    "        cost = calculate_cost(Ŷ, Y)\n",
    "        acc = assess_accuracy(Ŷ, Y)\n",
    "        ∇  = back_propagate_model_weights(Ŷ, Y, caches)\n",
    "        # each time starting with a different set of randomly initialized weights\n",
    "        params = initialise_model_weights(layer_dims, seed)\n",
    "        # params = update_model_weights(params, ∇, η)\n",
    "\n",
    "        if verbose\n",
    "            println(\"Iteration -> $i, Cost -> $cost, Accuracy -> $acc\")\n",
    "        end\n",
    "\n",
    "        # Update containers for cost, iterations, and accuracy at the current iteration (epoch)\n",
    "        push!(iters , i)\n",
    "        push!(costs , cost)\n",
    "        push!(accuracy , acc)\n",
    "    end\n",
    "        return (cost = costs, iterations = iters, accuracy = accuracy, parameters = params)\n",
    "end"
   ]
  },
  {
   "cell_type": "code",
   "execution_count": 36,
   "id": "87a35964",
   "metadata": {},
   "outputs": [
    {
     "name": "stdout",
     "output_type": "stream",
     "text": [
      "4\n",
      "lolololol\n",
      "Iteration -> 1, Cost -> 0.010884075162634834, Accuracy -> 0.24926253687315633\n",
      "Iteration -> 2, Cost -> 0.010884075162634834, Accuracy -> 0.24926253687315633\n",
      "Iteration -> 3, Cost -> 0.010884075162634834, Accuracy -> 0.24926253687315633\n",
      "Iteration -> 4, Cost -> 0.010884075162634834, Accuracy -> 0.24926253687315633\n",
      "Iteration -> 5, Cost -> 0.010884075162634834, Accuracy -> 0.24926253687315633\n",
      "Iteration -> 6, Cost -> 0.010884075162634834, Accuracy -> 0.24926253687315633\n",
      "Iteration -> 7, Cost -> 0.010884075162634834, Accuracy -> 0.24926253687315633\n",
      "Iteration -> 8, Cost -> 0.010884075162634834, Accuracy -> 0.24926253687315633\n",
      "Iteration -> 9, Cost -> 0.010884075162634834, Accuracy -> 0.24926253687315633\n",
      "Iteration -> 10, Cost -> 0.010884075162634834, Accuracy -> 0.24926253687315633\n"
     ]
    },
    {
     "data": {
      "image/svg+xml": "<?xml version=\"1.0\" encoding=\"utf-8\"?>\n<svg xmlns=\"http://www.w3.org/2000/svg\" xmlns:xlink=\"http://www.w3.org/1999/xlink\" width=\"800\" height=\"600\" viewBox=\"0 0 3200 2400\">\n<defs>\n  <clipPath id=\"clip870\">\n    <rect x=\"0\" y=\"0\" width=\"3200\" height=\"2400\"/>\n  </clipPath>\n</defs>\n<path clip-path=\"url(#clip870)\" d=\"\nM0 2400 L3200 2400 L3200 0 L0 0  Z\n  \" fill=\"#ffffff\" fill-rule=\"evenodd\" fill-opacity=\"1\"/>\n<defs>\n  <clipPath id=\"clip871\">\n    <rect x=\"640\" y=\"0\" width=\"2241\" height=\"2241\"/>\n  </clipPath>\n</defs>\n<path clip-path=\"url(#clip870)\" d=\"\nM233.806 2204.92 L3152.76 2204.92 L3152.76 131.032 L233.806 131.032  Z\n  \" fill=\"#ffffff\" fill-rule=\"evenodd\" fill-opacity=\"1\"/>\n<defs>\n  <clipPath id=\"clip872\">\n    <rect x=\"233\" y=\"131\" width=\"2920\" height=\"2075\"/>\n  </clipPath>\n</defs>\n<polyline clip-path=\"url(#clip872)\" style=\"stroke:#000000; stroke-linecap:butt; stroke-linejoin:round; stroke-width:2; stroke-opacity:0.1; fill:none\" points=\"\n  622.388,2204.92 622.388,131.032 \n  \"/>\n<polyline clip-path=\"url(#clip872)\" style=\"stroke:#000000; stroke-linecap:butt; stroke-linejoin:round; stroke-width:2; stroke-opacity:0.1; fill:none\" points=\"\n  1234.33,2204.92 1234.33,131.032 \n  \"/>\n<polyline clip-path=\"url(#clip872)\" style=\"stroke:#000000; stroke-linecap:butt; stroke-linejoin:round; stroke-width:2; stroke-opacity:0.1; fill:none\" points=\"\n  1846.27,2204.92 1846.27,131.032 \n  \"/>\n<polyline clip-path=\"url(#clip872)\" style=\"stroke:#000000; stroke-linecap:butt; stroke-linejoin:round; stroke-width:2; stroke-opacity:0.1; fill:none\" points=\"\n  2458.2,2204.92 2458.2,131.032 \n  \"/>\n<polyline clip-path=\"url(#clip872)\" style=\"stroke:#000000; stroke-linecap:butt; stroke-linejoin:round; stroke-width:2; stroke-opacity:0.1; fill:none\" points=\"\n  3070.14,2204.92 3070.14,131.032 \n  \"/>\n<polyline clip-path=\"url(#clip870)\" style=\"stroke:#000000; stroke-linecap:butt; stroke-linejoin:round; stroke-width:4; stroke-opacity:1; fill:none\" points=\"\n  233.806,2204.92 3152.76,2204.92 \n  \"/>\n<polyline clip-path=\"url(#clip870)\" style=\"stroke:#000000; stroke-linecap:butt; stroke-linejoin:round; stroke-width:4; stroke-opacity:1; fill:none\" points=\"\n  622.388,2204.92 622.388,2186.02 \n  \"/>\n<polyline clip-path=\"url(#clip870)\" style=\"stroke:#000000; stroke-linecap:butt; stroke-linejoin:round; stroke-width:4; stroke-opacity:1; fill:none\" points=\"\n  1234.33,2204.92 1234.33,2186.02 \n  \"/>\n<polyline clip-path=\"url(#clip870)\" style=\"stroke:#000000; stroke-linecap:butt; stroke-linejoin:round; stroke-width:4; stroke-opacity:1; fill:none\" points=\"\n  1846.27,2204.92 1846.27,2186.02 \n  \"/>\n<polyline clip-path=\"url(#clip870)\" style=\"stroke:#000000; stroke-linecap:butt; stroke-linejoin:round; stroke-width:4; stroke-opacity:1; fill:none\" points=\"\n  2458.2,2204.92 2458.2,2186.02 \n  \"/>\n<polyline clip-path=\"url(#clip870)\" style=\"stroke:#000000; stroke-linecap:butt; stroke-linejoin:round; stroke-width:4; stroke-opacity:1; fill:none\" points=\"\n  3070.14,2204.92 3070.14,2186.02 \n  \"/>\n<path clip-path=\"url(#clip870)\" d=\"M617.04 2269.78 L633.36 2269.78 L633.36 2273.72 L611.415 2273.72 L611.415 2269.78 Q614.077 2267.03 618.661 2262.4 Q623.267 2257.75 624.448 2256.41 Q626.693 2253.88 627.573 2252.15 Q628.476 2250.39 628.476 2248.7 Q628.476 2245.94 626.531 2244.21 Q624.61 2242.47 621.508 2242.47 Q619.309 2242.47 616.855 2243.23 Q614.425 2244 611.647 2245.55 L611.647 2240.83 Q614.471 2239.69 616.925 2239.11 Q619.378 2238.53 621.415 2238.53 Q626.786 2238.53 629.98 2241.22 Q633.175 2243.91 633.175 2248.4 Q633.175 2250.53 632.364 2252.45 Q631.577 2254.34 629.471 2256.94 Q628.892 2257.61 625.79 2260.83 Q622.689 2264.02 617.04 2269.78 Z\" fill=\"#000000\" fill-rule=\"evenodd\" fill-opacity=\"1\" /><path clip-path=\"url(#clip870)\" d=\"M1237.34 2243.23 L1225.53 2261.68 L1237.34 2261.68 L1237.34 2243.23 M1236.11 2239.16 L1241.99 2239.16 L1241.99 2261.68 L1246.92 2261.68 L1246.92 2265.57 L1241.99 2265.57 L1241.99 2273.72 L1237.34 2273.72 L1237.34 2265.57 L1221.73 2265.57 L1221.73 2261.06 L1236.11 2239.16 Z\" fill=\"#000000\" fill-rule=\"evenodd\" fill-opacity=\"1\" /><path clip-path=\"url(#clip870)\" d=\"M1846.67 2254.58 Q1843.52 2254.58 1841.67 2256.73 Q1839.84 2258.88 1839.84 2262.63 Q1839.84 2266.36 1841.67 2268.53 Q1843.52 2270.69 1846.67 2270.69 Q1849.82 2270.69 1851.65 2268.53 Q1853.5 2266.36 1853.5 2262.63 Q1853.5 2258.88 1851.65 2256.73 Q1849.82 2254.58 1846.67 2254.58 M1855.95 2239.92 L1855.95 2244.18 Q1854.19 2243.35 1852.39 2242.91 Q1850.61 2242.47 1848.85 2242.47 Q1844.22 2242.47 1841.76 2245.59 Q1839.33 2248.72 1838.99 2255.04 Q1840.35 2253.03 1842.41 2251.96 Q1844.47 2250.87 1846.95 2250.87 Q1852.16 2250.87 1855.17 2254.04 Q1858.2 2257.19 1858.2 2262.63 Q1858.2 2267.96 1855.05 2271.17 Q1851.9 2274.39 1846.67 2274.39 Q1840.68 2274.39 1837.5 2269.81 Q1834.33 2265.2 1834.33 2256.47 Q1834.33 2248.28 1838.22 2243.42 Q1842.11 2238.53 1848.66 2238.53 Q1850.42 2238.53 1852.2 2238.88 Q1854.01 2239.23 1855.95 2239.92 Z\" fill=\"#000000\" fill-rule=\"evenodd\" fill-opacity=\"1\" /><path clip-path=\"url(#clip870)\" d=\"M2458.2 2257.31 Q2454.87 2257.31 2452.95 2259.09 Q2451.05 2260.87 2451.05 2264 Q2451.05 2267.12 2452.95 2268.91 Q2454.87 2270.69 2458.2 2270.69 Q2461.54 2270.69 2463.46 2268.91 Q2465.38 2267.1 2465.38 2264 Q2465.38 2260.87 2463.46 2259.09 Q2461.56 2257.31 2458.2 2257.31 M2453.53 2255.32 Q2450.52 2254.58 2448.83 2252.52 Q2447.16 2250.46 2447.16 2247.49 Q2447.16 2243.35 2450.1 2240.94 Q2453.07 2238.53 2458.2 2238.53 Q2463.37 2238.53 2466.31 2240.94 Q2469.25 2243.35 2469.25 2247.49 Q2469.25 2250.46 2467.56 2252.52 Q2465.89 2254.58 2462.9 2255.32 Q2466.28 2256.1 2468.16 2258.4 Q2470.06 2260.69 2470.06 2264 Q2470.06 2269.02 2466.98 2271.71 Q2463.92 2274.39 2458.2 2274.39 Q2452.49 2274.39 2449.41 2271.71 Q2446.35 2269.02 2446.35 2264 Q2446.35 2260.69 2448.25 2258.4 Q2450.15 2256.1 2453.53 2255.32 M2451.82 2247.93 Q2451.82 2250.62 2453.48 2252.12 Q2455.17 2253.63 2458.2 2253.63 Q2461.21 2253.63 2462.9 2252.12 Q2464.62 2250.62 2464.62 2247.93 Q2464.62 2245.25 2462.9 2243.74 Q2461.21 2242.24 2458.2 2242.24 Q2455.17 2242.24 2453.48 2243.74 Q2451.82 2245.25 2451.82 2247.93 Z\" fill=\"#000000\" fill-rule=\"evenodd\" fill-opacity=\"1\" /><path clip-path=\"url(#clip870)\" d=\"M3044.83 2269.78 L3052.47 2269.78 L3052.47 2243.42 L3044.16 2245.09 L3044.16 2240.83 L3052.42 2239.16 L3057.1 2239.16 L3057.1 2269.78 L3064.74 2269.78 L3064.74 2273.72 L3044.83 2273.72 L3044.83 2269.78 Z\" fill=\"#000000\" fill-rule=\"evenodd\" fill-opacity=\"1\" /><path clip-path=\"url(#clip870)\" d=\"M3084.18 2242.24 Q3080.57 2242.24 3078.74 2245.8 Q3076.94 2249.34 3076.94 2256.47 Q3076.94 2263.58 3078.74 2267.15 Q3080.57 2270.69 3084.18 2270.69 Q3087.82 2270.69 3089.62 2267.15 Q3091.45 2263.58 3091.45 2256.47 Q3091.45 2249.34 3089.62 2245.8 Q3087.82 2242.24 3084.18 2242.24 M3084.18 2238.53 Q3089.99 2238.53 3093.05 2243.14 Q3096.13 2247.72 3096.13 2256.47 Q3096.13 2265.2 3093.05 2269.81 Q3089.99 2274.39 3084.18 2274.39 Q3078.37 2274.39 3075.29 2269.81 Q3072.24 2265.2 3072.24 2256.47 Q3072.24 2247.72 3075.29 2243.14 Q3078.37 2238.53 3084.18 2238.53 Z\" fill=\"#000000\" fill-rule=\"evenodd\" fill-opacity=\"1\" /><path clip-path=\"url(#clip870)\" d=\"M1641.23 2314.26 L1647.65 2314.26 L1647.65 2356.37 L1670.79 2356.37 L1670.79 2361.78 L1641.23 2361.78 L1641.23 2314.26 Z\" fill=\"#000000\" fill-rule=\"evenodd\" fill-opacity=\"1\" /><path clip-path=\"url(#clip870)\" d=\"M1689.96 2330.24 Q1685.24 2330.24 1682.51 2333.93 Q1679.77 2337.59 1679.77 2343.99 Q1679.77 2350.39 1682.48 2354.08 Q1685.21 2357.74 1689.96 2357.74 Q1694.63 2357.74 1697.37 2354.05 Q1700.11 2350.36 1700.11 2343.99 Q1700.11 2337.66 1697.37 2333.97 Q1694.63 2330.24 1689.96 2330.24 M1689.96 2325.28 Q1697.59 2325.28 1701.95 2330.24 Q1706.31 2335.21 1706.31 2343.99 Q1706.31 2352.74 1701.95 2357.74 Q1697.59 2362.71 1689.96 2362.71 Q1682.28 2362.71 1677.92 2357.74 Q1673.6 2352.74 1673.6 2343.99 Q1673.6 2335.21 1677.92 2330.24 Q1682.28 2325.28 1689.96 2325.28 Z\" fill=\"#000000\" fill-rule=\"evenodd\" fill-opacity=\"1\" /><path clip-path=\"url(#clip870)\" d=\"M1739.48 2343.55 Q1739.48 2337.18 1736.84 2333.68 Q1734.23 2330.18 1729.49 2330.18 Q1724.78 2330.18 1722.13 2333.68 Q1719.52 2337.18 1719.52 2343.55 Q1719.52 2349.88 1722.13 2353.38 Q1724.78 2356.88 1729.49 2356.88 Q1734.23 2356.88 1736.84 2353.38 Q1739.48 2349.88 1739.48 2343.55 M1745.34 2357.36 Q1745.34 2366.46 1741.29 2370.89 Q1737.25 2375.34 1728.91 2375.34 Q1725.83 2375.34 1723.09 2374.87 Q1720.35 2374.42 1717.77 2373.46 L1717.77 2367.77 Q1720.35 2369.17 1722.87 2369.84 Q1725.38 2370.5 1727.99 2370.5 Q1733.75 2370.5 1736.62 2367.48 Q1739.48 2364.49 1739.48 2358.41 L1739.48 2355.51 Q1737.67 2358.66 1734.83 2360.22 Q1732 2361.78 1728.05 2361.78 Q1721.5 2361.78 1717.49 2356.79 Q1713.48 2351.79 1713.48 2343.55 Q1713.48 2335.27 1717.49 2330.27 Q1721.5 2325.28 1728.05 2325.28 Q1732 2325.28 1734.83 2326.84 Q1737.67 2328.4 1739.48 2331.55 L1739.48 2326.14 L1745.34 2326.14 L1745.34 2357.36 Z\" fill=\"#000000\" fill-rule=\"evenodd\" fill-opacity=\"1\" /><polyline clip-path=\"url(#clip872)\" style=\"stroke:#000000; stroke-linecap:butt; stroke-linejoin:round; stroke-width:2; stroke-opacity:0.1; fill:none\" points=\"\n  233.806,1851.31 3152.76,1851.31 \n  \"/>\n<polyline clip-path=\"url(#clip872)\" style=\"stroke:#000000; stroke-linecap:butt; stroke-linejoin:round; stroke-width:2; stroke-opacity:0.1; fill:none\" points=\"\n  233.806,1460.01 3152.76,1460.01 \n  \"/>\n<polyline clip-path=\"url(#clip872)\" style=\"stroke:#000000; stroke-linecap:butt; stroke-linejoin:round; stroke-width:2; stroke-opacity:0.1; fill:none\" points=\"\n  233.806,1068.71 3152.76,1068.71 \n  \"/>\n<polyline clip-path=\"url(#clip872)\" style=\"stroke:#000000; stroke-linecap:butt; stroke-linejoin:round; stroke-width:2; stroke-opacity:0.1; fill:none\" points=\"\n  233.806,677.409 3152.76,677.409 \n  \"/>\n<polyline clip-path=\"url(#clip872)\" style=\"stroke:#000000; stroke-linecap:butt; stroke-linejoin:round; stroke-width:2; stroke-opacity:0.1; fill:none\" points=\"\n  233.806,286.109 3152.76,286.109 \n  \"/>\n<polyline clip-path=\"url(#clip870)\" style=\"stroke:#000000; stroke-linecap:butt; stroke-linejoin:round; stroke-width:4; stroke-opacity:1; fill:none\" points=\"\n  233.806,2204.92 233.806,131.032 \n  \"/>\n<polyline clip-path=\"url(#clip870)\" style=\"stroke:#000000; stroke-linecap:butt; stroke-linejoin:round; stroke-width:4; stroke-opacity:1; fill:none\" points=\"\n  233.806,1851.31 252.704,1851.31 \n  \"/>\n<polyline clip-path=\"url(#clip870)\" style=\"stroke:#000000; stroke-linecap:butt; stroke-linejoin:round; stroke-width:4; stroke-opacity:1; fill:none\" points=\"\n  233.806,1460.01 252.704,1460.01 \n  \"/>\n<polyline clip-path=\"url(#clip870)\" style=\"stroke:#000000; stroke-linecap:butt; stroke-linejoin:round; stroke-width:4; stroke-opacity:1; fill:none\" points=\"\n  233.806,1068.71 252.704,1068.71 \n  \"/>\n<polyline clip-path=\"url(#clip870)\" style=\"stroke:#000000; stroke-linecap:butt; stroke-linejoin:round; stroke-width:4; stroke-opacity:1; fill:none\" points=\"\n  233.806,677.409 252.704,677.409 \n  \"/>\n<polyline clip-path=\"url(#clip870)\" style=\"stroke:#000000; stroke-linecap:butt; stroke-linejoin:round; stroke-width:4; stroke-opacity:1; fill:none\" points=\"\n  233.806,286.109 252.704,286.109 \n  \"/>\n<path clip-path=\"url(#clip870)\" d=\"M128.145 1837.11 Q124.533 1837.11 122.705 1840.67 Q120.899 1844.21 120.899 1851.34 Q120.899 1858.45 122.705 1862.01 Q124.533 1865.55 128.145 1865.55 Q131.779 1865.55 133.584 1862.01 Q135.413 1858.45 135.413 1851.34 Q135.413 1844.21 133.584 1840.67 Q131.779 1837.11 128.145 1837.11 M128.145 1833.4 Q133.955 1833.4 137.01 1838.01 Q140.089 1842.59 140.089 1851.34 Q140.089 1860.07 137.01 1864.68 Q133.955 1869.26 128.145 1869.26 Q122.334 1869.26 119.256 1864.68 Q116.2 1860.07 116.2 1851.34 Q116.2 1842.59 119.256 1838.01 Q122.334 1833.4 128.145 1833.4 Z\" fill=\"#000000\" fill-rule=\"evenodd\" fill-opacity=\"1\" /><path clip-path=\"url(#clip870)\" d=\"M148.306 1862.71 L153.191 1862.71 L153.191 1868.59 L148.306 1868.59 L148.306 1862.71 Z\" fill=\"#000000\" fill-rule=\"evenodd\" fill-opacity=\"1\" /><path clip-path=\"url(#clip870)\" d=\"M176.223 1838.1 L164.417 1856.55 L176.223 1856.55 L176.223 1838.1 M174.996 1834.03 L180.876 1834.03 L180.876 1856.55 L185.806 1856.55 L185.806 1860.44 L180.876 1860.44 L180.876 1868.59 L176.223 1868.59 L176.223 1860.44 L160.621 1860.44 L160.621 1855.93 L174.996 1834.03 Z\" fill=\"#000000\" fill-rule=\"evenodd\" fill-opacity=\"1\" /><path clip-path=\"url(#clip870)\" d=\"M128.469 1445.81 Q124.858 1445.81 123.029 1449.37 Q121.223 1452.91 121.223 1460.04 Q121.223 1467.15 123.029 1470.71 Q124.858 1474.26 128.469 1474.26 Q132.103 1474.26 133.908 1470.71 Q135.737 1467.15 135.737 1460.04 Q135.737 1452.91 133.908 1449.37 Q132.103 1445.81 128.469 1445.81 M128.469 1442.1 Q134.279 1442.1 137.334 1446.71 Q140.413 1451.29 140.413 1460.04 Q140.413 1468.77 137.334 1473.38 Q134.279 1477.96 128.469 1477.96 Q122.658 1477.96 119.58 1473.38 Q116.524 1468.77 116.524 1460.04 Q116.524 1451.29 119.58 1446.71 Q122.658 1442.1 128.469 1442.1 Z\" fill=\"#000000\" fill-rule=\"evenodd\" fill-opacity=\"1\" /><path clip-path=\"url(#clip870)\" d=\"M148.631 1471.41 L153.515 1471.41 L153.515 1477.29 L148.631 1477.29 L148.631 1471.41 Z\" fill=\"#000000\" fill-rule=\"evenodd\" fill-opacity=\"1\" /><path clip-path=\"url(#clip870)\" d=\"M174.279 1458.14 Q171.13 1458.14 169.279 1460.3 Q167.45 1462.45 167.45 1466.2 Q167.45 1469.93 169.279 1472.1 Q171.13 1474.26 174.279 1474.26 Q177.427 1474.26 179.255 1472.1 Q181.107 1469.93 181.107 1466.2 Q181.107 1462.45 179.255 1460.3 Q177.427 1458.14 174.279 1458.14 M183.561 1443.49 L183.561 1447.75 Q181.802 1446.92 179.996 1446.48 Q178.214 1446.04 176.454 1446.04 Q171.825 1446.04 169.371 1449.16 Q166.941 1452.29 166.593 1458.61 Q167.959 1456.59 170.019 1455.53 Q172.079 1454.44 174.556 1454.44 Q179.765 1454.44 182.774 1457.61 Q185.806 1460.76 185.806 1466.2 Q185.806 1471.52 182.658 1474.74 Q179.51 1477.96 174.279 1477.96 Q168.283 1477.96 165.112 1473.38 Q161.941 1468.77 161.941 1460.04 Q161.941 1451.85 165.83 1446.99 Q169.718 1442.1 176.269 1442.1 Q178.029 1442.1 179.811 1442.45 Q181.616 1442.8 183.561 1443.49 Z\" fill=\"#000000\" fill-rule=\"evenodd\" fill-opacity=\"1\" /><path clip-path=\"url(#clip870)\" d=\"M128.723 1054.51 Q125.112 1054.51 123.283 1058.07 Q121.478 1061.61 121.478 1068.74 Q121.478 1075.85 123.283 1079.41 Q125.112 1082.96 128.723 1082.96 Q132.357 1082.96 134.163 1079.41 Q135.992 1075.85 135.992 1068.74 Q135.992 1061.61 134.163 1058.07 Q132.357 1054.51 128.723 1054.51 M128.723 1050.8 Q134.533 1050.8 137.589 1055.41 Q140.668 1059.99 140.668 1068.74 Q140.668 1077.47 137.589 1082.08 Q134.533 1086.66 128.723 1086.66 Q122.913 1086.66 119.834 1082.08 Q116.779 1077.47 116.779 1068.74 Q116.779 1059.99 119.834 1055.41 Q122.913 1050.8 128.723 1050.8 Z\" fill=\"#000000\" fill-rule=\"evenodd\" fill-opacity=\"1\" /><path clip-path=\"url(#clip870)\" d=\"M148.885 1080.11 L153.769 1080.11 L153.769 1085.99 L148.885 1085.99 L148.885 1080.11 Z\" fill=\"#000000\" fill-rule=\"evenodd\" fill-opacity=\"1\" /><path clip-path=\"url(#clip870)\" d=\"M173.954 1069.58 Q170.621 1069.58 168.7 1071.36 Q166.802 1073.14 166.802 1076.27 Q166.802 1079.39 168.7 1081.17 Q170.621 1082.96 173.954 1082.96 Q177.288 1082.96 179.209 1081.17 Q181.13 1079.37 181.13 1076.27 Q181.13 1073.14 179.209 1071.36 Q177.311 1069.58 173.954 1069.58 M169.279 1067.59 Q166.269 1066.84 164.58 1064.78 Q162.913 1062.72 162.913 1059.76 Q162.913 1055.62 165.853 1053.21 Q168.816 1050.8 173.954 1050.8 Q179.116 1050.8 182.056 1053.21 Q184.996 1055.62 184.996 1059.76 Q184.996 1062.72 183.306 1064.78 Q181.64 1066.84 178.654 1067.59 Q182.033 1068.37 183.908 1070.66 Q185.806 1072.96 185.806 1076.27 Q185.806 1081.29 182.728 1083.97 Q179.672 1086.66 173.954 1086.66 Q168.237 1086.66 165.158 1083.97 Q162.103 1081.29 162.103 1076.27 Q162.103 1072.96 164.001 1070.66 Q165.899 1068.37 169.279 1067.59 M167.566 1060.2 Q167.566 1062.89 169.232 1064.39 Q170.922 1065.9 173.954 1065.9 Q176.964 1065.9 178.654 1064.39 Q180.366 1062.89 180.366 1060.2 Q180.366 1057.52 178.654 1056.01 Q176.964 1054.51 173.954 1054.51 Q170.922 1054.51 169.232 1056.01 Q167.566 1057.52 167.566 1060.2 Z\" fill=\"#000000\" fill-rule=\"evenodd\" fill-opacity=\"1\" /><path clip-path=\"url(#clip870)\" d=\"M119.441 690.754 L127.08 690.754 L127.08 664.388 L118.77 666.055 L118.77 661.795 L127.033 660.129 L131.709 660.129 L131.709 690.754 L139.348 690.754 L139.348 694.689 L119.441 694.689 L119.441 690.754 Z\" fill=\"#000000\" fill-rule=\"evenodd\" fill-opacity=\"1\" /><path clip-path=\"url(#clip870)\" d=\"M148.793 688.809 L153.677 688.809 L153.677 694.689 L148.793 694.689 L148.793 688.809 Z\" fill=\"#000000\" fill-rule=\"evenodd\" fill-opacity=\"1\" /><path clip-path=\"url(#clip870)\" d=\"M173.862 663.207 Q170.251 663.207 168.422 666.772 Q166.617 670.314 166.617 677.443 Q166.617 684.55 168.422 688.115 Q170.251 691.656 173.862 691.656 Q177.496 691.656 179.302 688.115 Q181.13 684.55 181.13 677.443 Q181.13 670.314 179.302 666.772 Q177.496 663.207 173.862 663.207 M173.862 659.504 Q179.672 659.504 182.728 664.11 Q185.806 668.693 185.806 677.443 Q185.806 686.17 182.728 690.777 Q179.672 695.36 173.862 695.36 Q168.052 695.36 164.973 690.777 Q161.918 686.17 161.918 677.443 Q161.918 668.693 164.973 664.11 Q168.052 659.504 173.862 659.504 Z\" fill=\"#000000\" fill-rule=\"evenodd\" fill-opacity=\"1\" /><path clip-path=\"url(#clip870)\" d=\"M121.038 299.454 L128.677 299.454 L128.677 273.088 L120.367 274.755 L120.367 270.496 L128.631 268.829 L133.307 268.829 L133.307 299.454 L140.945 299.454 L140.945 303.389 L121.038 303.389 L121.038 299.454 Z\" fill=\"#000000\" fill-rule=\"evenodd\" fill-opacity=\"1\" /><path clip-path=\"url(#clip870)\" d=\"M150.39 297.51 L155.274 297.51 L155.274 303.389 L150.39 303.389 L150.39 297.51 Z\" fill=\"#000000\" fill-rule=\"evenodd\" fill-opacity=\"1\" /><path clip-path=\"url(#clip870)\" d=\"M169.487 299.454 L185.806 299.454 L185.806 303.389 L163.862 303.389 L163.862 299.454 Q166.524 296.699 171.107 292.07 Q175.714 287.417 176.894 286.074 Q179.14 283.551 180.019 281.815 Q180.922 280.056 180.922 278.366 Q180.922 275.611 178.978 273.875 Q177.056 272.139 173.954 272.139 Q171.755 272.139 169.302 272.903 Q166.871 273.667 164.093 275.218 L164.093 270.496 Q166.917 269.362 169.371 268.783 Q171.825 268.204 173.862 268.204 Q179.232 268.204 182.427 270.889 Q185.621 273.574 185.621 278.065 Q185.621 280.195 184.811 282.116 Q184.024 284.014 181.917 286.607 Q181.339 287.278 178.237 290.496 Q175.135 293.69 169.487 299.454 Z\" fill=\"#000000\" fill-rule=\"evenodd\" fill-opacity=\"1\" /><path clip-path=\"url(#clip870)\" d=\"M12.758 1293.78 L36.4066 1302.5 L36.4066 1285.03 L12.758 1293.78 M6.42416 1297.41 L6.42416 1290.12 L53.9442 1272.01 L53.9442 1278.69 L41.7538 1283.02 L41.7538 1304.44 L53.9442 1308.77 L53.9442 1315.55 L6.42416 1297.41 Z\" fill=\"#000000\" fill-rule=\"evenodd\" fill-opacity=\"1\" /><path clip-path=\"url(#clip870)\" d=\"M19.6648 1240.82 L25.1393 1240.82 Q23.7707 1243.3 23.1023 1245.81 Q22.4021 1248.3 22.4021 1250.84 Q22.4021 1256.54 26.0305 1259.69 Q29.6272 1262.84 36.152 1262.84 Q42.6769 1262.84 46.3053 1259.69 Q49.9019 1256.54 49.9019 1250.84 Q49.9019 1248.3 49.2335 1245.81 Q48.5333 1243.3 47.1647 1240.82 L52.5755 1240.82 Q53.7214 1243.27 54.2943 1245.91 Q54.8672 1248.52 54.8672 1251.48 Q54.8672 1259.53 49.8064 1264.27 Q44.7457 1269.02 36.152 1269.02 Q27.431 1269.02 22.4339 1264.24 Q17.4368 1259.44 17.4368 1251.1 Q17.4368 1248.39 18.0097 1245.81 Q18.5508 1243.23 19.6648 1240.82 Z\" fill=\"#000000\" fill-rule=\"evenodd\" fill-opacity=\"1\" /><path clip-path=\"url(#clip870)\" d=\"M19.6648 1204.98 L25.1393 1204.98 Q23.7707 1207.46 23.1023 1209.97 Q22.4021 1212.46 22.4021 1215 Q22.4021 1220.7 26.0305 1223.85 Q29.6272 1227 36.152 1227 Q42.6769 1227 46.3053 1223.85 Q49.9019 1220.7 49.9019 1215 Q49.9019 1212.46 49.2335 1209.97 Q48.5333 1207.46 47.1647 1204.98 L52.5755 1204.98 Q53.7214 1207.43 54.2943 1210.07 Q54.8672 1212.68 54.8672 1215.64 Q54.8672 1223.69 49.8064 1228.43 Q44.7457 1233.18 36.152 1233.18 Q27.431 1233.18 22.4339 1228.4 Q17.4368 1223.6 17.4368 1215.26 Q17.4368 1212.55 18.0097 1209.97 Q18.5508 1207.4 19.6648 1204.98 Z\" fill=\"#000000\" fill-rule=\"evenodd\" fill-opacity=\"1\" /><path clip-path=\"url(#clip870)\" d=\"M39.8759 1195.4 L18.2962 1195.4 L18.2962 1189.54 L39.6531 1189.54 Q44.7139 1189.54 47.2602 1187.57 Q49.7746 1185.59 49.7746 1181.65 Q49.7746 1176.9 46.7509 1174.17 Q43.7272 1171.4 38.5073 1171.4 L18.2962 1171.4 L18.2962 1165.54 L53.9442 1165.54 L53.9442 1171.4 L48.4696 1171.4 Q51.7162 1173.53 53.3076 1176.36 Q54.8672 1179.16 54.8672 1182.89 Q54.8672 1189.03 51.0478 1192.21 Q47.2283 1195.4 39.8759 1195.4 M17.4368 1180.66 L17.4368 1180.66 Z\" fill=\"#000000\" fill-rule=\"evenodd\" fill-opacity=\"1\" /><path clip-path=\"url(#clip870)\" d=\"M23.7707 1132.82 Q23.1978 1133.81 22.9432 1134.99 Q22.6567 1136.13 22.6567 1137.53 Q22.6567 1142.5 25.9032 1145.17 Q29.1179 1147.81 35.1653 1147.81 L53.9442 1147.81 L53.9442 1153.7 L18.2962 1153.7 L18.2962 1147.81 L23.8344 1147.81 Q20.5879 1145.97 19.0283 1143.01 Q17.4368 1140.05 17.4368 1135.81 Q17.4368 1135.21 17.5323 1134.48 Q17.596 1133.74 17.7551 1132.85 L23.7707 1132.82 Z\" fill=\"#000000\" fill-rule=\"evenodd\" fill-opacity=\"1\" /><path clip-path=\"url(#clip870)\" d=\"M36.0247 1110.48 Q36.0247 1117.58 37.6479 1120.31 Q39.2712 1123.05 43.1861 1123.05 Q46.3053 1123.05 48.1514 1121.01 Q49.9656 1118.94 49.9656 1115.41 Q49.9656 1110.54 46.5281 1107.61 Q43.0588 1104.65 37.3297 1104.65 L36.0247 1104.65 L36.0247 1110.48 M33.6057 1098.8 L53.9442 1098.8 L53.9442 1104.65 L48.5333 1104.65 Q51.7798 1106.66 53.3394 1109.65 Q54.8672 1112.64 54.8672 1116.97 Q54.8672 1122.45 51.8116 1125.69 Q48.7243 1128.91 43.5681 1128.91 Q37.5525 1128.91 34.4969 1124.9 Q31.4414 1120.85 31.4414 1112.86 L31.4414 1104.65 L30.8685 1104.65 Q26.8262 1104.65 24.6301 1107.33 Q22.4021 1109.97 22.4021 1114.77 Q22.4021 1117.83 23.1341 1120.73 Q23.8662 1123.62 25.3303 1126.3 L19.9195 1126.3 Q18.6781 1123.08 18.0734 1120.06 Q17.4368 1117.03 17.4368 1114.17 Q17.4368 1106.44 21.4472 1102.62 Q25.4576 1098.8 33.6057 1098.8 Z\" fill=\"#000000\" fill-rule=\"evenodd\" fill-opacity=\"1\" /><path clip-path=\"url(#clip870)\" d=\"M19.6648 1061.08 L25.1393 1061.08 Q23.7707 1063.56 23.1023 1066.08 Q22.4021 1068.56 22.4021 1071.11 Q22.4021 1076.8 26.0305 1079.95 Q29.6272 1083.11 36.152 1083.11 Q42.6769 1083.11 46.3053 1079.95 Q49.9019 1076.8 49.9019 1071.11 Q49.9019 1068.56 49.2335 1066.08 Q48.5333 1063.56 47.1647 1061.08 L52.5755 1061.08 Q53.7214 1063.53 54.2943 1066.17 Q54.8672 1068.78 54.8672 1071.74 Q54.8672 1079.8 49.8064 1084.54 Q44.7457 1089.28 36.152 1089.28 Q27.431 1089.28 22.4339 1084.51 Q17.4368 1079.7 17.4368 1071.36 Q17.4368 1068.66 18.0097 1066.08 Q18.5508 1063.5 19.6648 1061.08 Z\" fill=\"#000000\" fill-rule=\"evenodd\" fill-opacity=\"1\" /><path clip-path=\"url(#clip870)\" d=\"M57.2543 1036.06 Q63.62 1038.55 65.5616 1040.9 Q67.5031 1043.26 67.5031 1047.2 L67.5031 1051.88 L62.6015 1051.88 L62.6015 1048.44 Q62.6015 1046.02 61.4557 1044.69 Q60.3099 1043.35 56.0448 1041.73 L53.3712 1040.68 L18.2962 1055.1 L18.2962 1048.89 L46.178 1037.75 L18.2962 1026.61 L18.2962 1020.4 L57.2543 1036.06 Z\" fill=\"#000000\" fill-rule=\"evenodd\" fill-opacity=\"1\" /><path clip-path=\"url(#clip870)\" d=\"M819.785 18.8205 L819.785 65.8515 L829.669 65.8515 Q842.186 65.8515 847.979 60.1802 Q853.812 54.509 853.812 42.2752 Q853.812 30.1225 847.979 24.4918 Q842.186 18.8205 829.669 18.8205 L819.785 18.8205 M811.602 12.096 L828.413 12.096 Q845.994 12.096 854.217 19.4281 Q862.441 26.7198 862.441 42.2752 Q862.441 57.9117 854.177 65.2439 Q845.913 72.576 828.413 72.576 L811.602 72.576 L811.602 12.096 Z\" fill=\"#000000\" fill-rule=\"evenodd\" fill-opacity=\"1\" /><path clip-path=\"url(#clip870)\" d=\"M913.968 48.0275 L913.968 51.6733 L879.697 51.6733 Q880.184 59.3701 884.316 63.421 Q888.488 67.4314 895.901 67.4314 Q900.195 67.4314 904.205 66.3781 Q908.256 65.3249 912.226 63.2184 L912.226 70.267 Q908.216 71.9684 904.003 72.8596 Q899.79 73.7508 895.455 73.7508 Q884.599 73.7508 878.239 67.4314 Q871.92 61.1119 871.92 50.3365 Q871.92 39.1965 877.915 32.6746 Q883.951 26.1121 894.159 26.1121 Q903.314 26.1121 908.621 32.0264 Q913.968 37.9003 913.968 48.0275 M906.514 45.84 Q906.433 39.7232 903.071 36.0774 Q899.749 32.4315 894.24 32.4315 Q888.002 32.4315 884.234 35.9558 Q880.508 39.4801 879.941 45.8805 L906.514 45.84 Z\" fill=\"#000000\" fill-rule=\"evenodd\" fill-opacity=\"1\" /><path clip-path=\"url(#clip870)\" d=\"M920.855 27.2059 L928.754 27.2059 L942.932 65.2844 L957.11 27.2059 L965.01 27.2059 L947.996 72.576 L937.868 72.576 L920.855 27.2059 Z\" fill=\"#000000\" fill-rule=\"evenodd\" fill-opacity=\"1\" /><path clip-path=\"url(#clip870)\" d=\"M1014.11 48.0275 L1014.11 51.6733 L979.836 51.6733 Q980.322 59.3701 984.454 63.421 Q988.626 67.4314 996.039 67.4314 Q1000.33 67.4314 1004.34 66.3781 Q1008.39 65.3249 1012.36 63.2184 L1012.36 70.267 Q1008.35 71.9684 1004.14 72.8596 Q999.928 73.7508 995.594 73.7508 Q984.737 73.7508 978.378 67.4314 Q972.058 61.1119 972.058 50.3365 Q972.058 39.1965 978.053 32.6746 Q984.089 26.1121 994.298 26.1121 Q1003.45 26.1121 1008.76 32.0264 Q1014.11 37.9003 1014.11 48.0275 M1006.65 45.84 Q1006.57 39.7232 1003.21 36.0774 Q999.888 32.4315 994.379 32.4315 Q988.14 32.4315 984.373 35.9558 Q980.646 39.4801 980.079 45.8805 L1006.65 45.84 Z\" fill=\"#000000\" fill-rule=\"evenodd\" fill-opacity=\"1\" /><path clip-path=\"url(#clip870)\" d=\"M1026.34 9.54393 L1033.79 9.54393 L1033.79 72.576 L1026.34 72.576 L1026.34 9.54393 Z\" fill=\"#000000\" fill-rule=\"evenodd\" fill-opacity=\"1\" /><path clip-path=\"url(#clip870)\" d=\"M1066.97 32.4315 Q1060.98 32.4315 1057.49 37.1306 Q1054.01 41.7891 1054.01 49.9314 Q1054.01 58.0738 1057.45 62.7728 Q1060.93 67.4314 1066.97 67.4314 Q1072.93 67.4314 1076.41 62.7323 Q1079.89 58.0333 1079.89 49.9314 Q1079.89 41.8701 1076.41 37.1711 Q1072.93 32.4315 1066.97 32.4315 M1066.97 26.1121 Q1076.69 26.1121 1082.24 32.4315 Q1087.79 38.7509 1087.79 49.9314 Q1087.79 61.0714 1082.24 67.4314 Q1076.69 73.7508 1066.97 73.7508 Q1057.21 73.7508 1051.66 67.4314 Q1046.15 61.0714 1046.15 49.9314 Q1046.15 38.7509 1051.66 32.4315 Q1057.21 26.1121 1066.97 26.1121 Z\" fill=\"#000000\" fill-rule=\"evenodd\" fill-opacity=\"1\" /><path clip-path=\"url(#clip870)\" d=\"M1107.36 65.7705 L1107.36 89.8329 L1099.86 89.8329 L1099.86 27.2059 L1107.36 27.2059 L1107.36 34.0924 Q1109.71 30.0415 1113.27 28.0971 Q1116.88 26.1121 1121.86 26.1121 Q1130.12 26.1121 1135.27 32.6746 Q1140.45 39.2371 1140.45 49.9314 Q1140.45 60.6258 1135.27 67.1883 Q1130.12 73.7508 1121.86 73.7508 Q1116.88 73.7508 1113.27 71.8063 Q1109.71 69.8214 1107.36 65.7705 M1132.72 49.9314 Q1132.72 41.7081 1129.31 37.0496 Q1125.95 32.3505 1120.04 32.3505 Q1114.12 32.3505 1110.72 37.0496 Q1107.36 41.7081 1107.36 49.9314 Q1107.36 58.1548 1110.72 62.8538 Q1114.12 67.5124 1120.04 67.5124 Q1125.95 67.5124 1129.31 62.8538 Q1132.72 58.1548 1132.72 49.9314 Z\" fill=\"#000000\" fill-rule=\"evenodd\" fill-opacity=\"1\" /><path clip-path=\"url(#clip870)\" d=\"M1188.13 35.9153 Q1190.93 30.8922 1194.82 28.5022 Q1198.71 26.1121 1203.97 26.1121 Q1211.06 26.1121 1214.91 31.0947 Q1218.76 36.0368 1218.76 45.1919 L1218.76 72.576 L1211.26 72.576 L1211.26 45.4349 Q1211.26 38.913 1208.95 35.7533 Q1206.65 32.5936 1201.91 32.5936 Q1196.11 32.5936 1192.75 36.4419 Q1189.39 40.2903 1189.39 46.9338 L1189.39 72.576 L1181.89 72.576 L1181.89 45.4349 Q1181.89 38.8725 1179.59 35.7533 Q1177.28 32.5936 1172.46 32.5936 Q1166.74 32.5936 1163.38 36.4824 Q1160.02 40.3308 1160.02 46.9338 L1160.02 72.576 L1152.53 72.576 L1152.53 27.2059 L1160.02 27.2059 L1160.02 34.2544 Q1162.57 30.082 1166.14 28.0971 Q1169.7 26.1121 1174.6 26.1121 Q1179.55 26.1121 1182.99 28.6237 Q1186.47 31.1352 1188.13 35.9153 Z\" fill=\"#000000\" fill-rule=\"evenodd\" fill-opacity=\"1\" /><path clip-path=\"url(#clip870)\" d=\"M1272.43 48.0275 L1272.43 51.6733 L1238.16 51.6733 Q1238.65 59.3701 1242.78 63.421 Q1246.95 67.4314 1254.37 67.4314 Q1258.66 67.4314 1262.67 66.3781 Q1266.72 65.3249 1270.69 63.2184 L1270.69 70.267 Q1266.68 71.9684 1262.47 72.8596 Q1258.25 73.7508 1253.92 73.7508 Q1243.06 73.7508 1236.7 67.4314 Q1230.38 61.1119 1230.38 50.3365 Q1230.38 39.1965 1236.38 32.6746 Q1242.42 26.1121 1252.62 26.1121 Q1261.78 26.1121 1267.09 32.0264 Q1272.43 37.9003 1272.43 48.0275 M1264.98 45.84 Q1264.9 39.7232 1261.54 36.0774 Q1258.21 32.4315 1252.7 32.4315 Q1246.47 32.4315 1242.7 35.9558 Q1238.97 39.4801 1238.41 45.8805 L1264.98 45.84 Z\" fill=\"#000000\" fill-rule=\"evenodd\" fill-opacity=\"1\" /><path clip-path=\"url(#clip870)\" d=\"M1322.38 45.1919 L1322.38 72.576 L1314.93 72.576 L1314.93 45.4349 Q1314.93 38.994 1312.42 35.7938 Q1309.9 32.5936 1304.88 32.5936 Q1298.84 32.5936 1295.36 36.4419 Q1291.88 40.2903 1291.88 46.9338 L1291.88 72.576 L1284.38 72.576 L1284.38 27.2059 L1291.88 27.2059 L1291.88 34.2544 Q1294.55 30.163 1298.16 28.1376 Q1301.8 26.1121 1306.54 26.1121 Q1314.36 26.1121 1318.37 30.9732 Q1322.38 35.7938 1322.38 45.1919 Z\" fill=\"#000000\" fill-rule=\"evenodd\" fill-opacity=\"1\" /><path clip-path=\"url(#clip870)\" d=\"M1344.62 14.324 L1344.62 27.2059 L1359.97 27.2059 L1359.97 32.9987 L1344.62 32.9987 L1344.62 57.6282 Q1344.62 63.1779 1346.12 64.7578 Q1347.66 66.3376 1352.32 66.3376 L1359.97 66.3376 L1359.97 72.576 L1352.32 72.576 Q1343.69 72.576 1340.41 69.3758 Q1337.13 66.1351 1337.13 57.6282 L1337.13 32.9987 L1331.66 32.9987 L1331.66 27.2059 L1337.13 27.2059 L1337.13 14.324 L1344.62 14.324 Z\" fill=\"#000000\" fill-rule=\"evenodd\" fill-opacity=\"1\" /><path clip-path=\"url(#clip870)\" d=\"M1413.73 32.4315 Q1407.73 32.4315 1404.25 37.1306 Q1400.77 41.7891 1400.77 49.9314 Q1400.77 58.0738 1404.21 62.7728 Q1407.69 67.4314 1413.73 67.4314 Q1419.68 67.4314 1423.17 62.7323 Q1426.65 58.0333 1426.65 49.9314 Q1426.65 41.8701 1423.17 37.1711 Q1419.68 32.4315 1413.73 32.4315 M1413.73 26.1121 Q1423.45 26.1121 1429 32.4315 Q1434.55 38.7509 1434.55 49.9314 Q1434.55 61.0714 1429 67.4314 Q1423.45 73.7508 1413.73 73.7508 Q1403.97 73.7508 1398.42 67.4314 Q1392.91 61.0714 1392.91 49.9314 Q1392.91 38.7509 1398.42 32.4315 Q1403.97 26.1121 1413.73 26.1121 Z\" fill=\"#000000\" fill-rule=\"evenodd\" fill-opacity=\"1\" /><path clip-path=\"url(#clip870)\" d=\"M1469.87 9.54393 L1469.87 15.7418 L1462.74 15.7418 Q1458.73 15.7418 1457.15 17.3622 Q1455.61 18.9825 1455.61 23.1955 L1455.61 27.2059 L1467.89 27.2059 L1467.89 32.9987 L1455.61 32.9987 L1455.61 72.576 L1448.12 72.576 L1448.12 32.9987 L1440.99 32.9987 L1440.99 27.2059 L1448.12 27.2059 L1448.12 24.0462 Q1448.12 16.471 1451.64 13.0277 Q1455.17 9.54393 1462.83 9.54393 L1469.87 9.54393 Z\" fill=\"#000000\" fill-rule=\"evenodd\" fill-opacity=\"1\" /><path clip-path=\"url(#clip870)\" d=\"M1523.1 49.7694 Q1514.07 49.7694 1510.59 51.8354 Q1507.1 53.9013 1507.1 58.8839 Q1507.1 62.8538 1509.69 65.2034 Q1512.33 67.5124 1516.82 67.5124 Q1523.02 67.5124 1526.75 63.1374 Q1530.52 58.7219 1530.52 51.4303 L1530.52 49.7694 L1523.1 49.7694 M1537.97 46.6907 L1537.97 72.576 L1530.52 72.576 L1530.52 65.6895 Q1527.96 69.8214 1524.16 71.8063 Q1520.35 73.7508 1514.84 73.7508 Q1507.87 73.7508 1503.74 69.8619 Q1499.65 65.9325 1499.65 59.3701 Q1499.65 51.7138 1504.75 47.825 Q1509.9 43.9361 1520.06 43.9361 L1530.52 43.9361 L1530.52 43.2069 Q1530.52 38.0623 1527.11 35.2672 Q1523.75 32.4315 1517.63 32.4315 Q1513.75 32.4315 1510.06 33.3632 Q1506.37 34.295 1502.97 36.1584 L1502.97 29.2718 Q1507.06 27.692 1510.91 26.9223 Q1514.76 26.1121 1518.4 26.1121 Q1528.25 26.1121 1533.11 31.2163 Q1537.97 36.3204 1537.97 46.6907 Z\" fill=\"#000000\" fill-rule=\"evenodd\" fill-opacity=\"1\" /><path clip-path=\"url(#clip870)\" d=\"M1585.97 28.9478 L1585.97 35.9153 Q1582.81 34.1734 1579.61 33.3227 Q1576.45 32.4315 1573.21 32.4315 Q1565.96 32.4315 1561.95 37.0496 Q1557.94 41.6271 1557.94 49.9314 Q1557.94 58.2358 1561.95 62.8538 Q1565.96 67.4314 1573.21 67.4314 Q1576.45 67.4314 1579.61 66.5807 Q1582.81 65.6895 1585.97 63.9476 L1585.97 70.8341 Q1582.85 72.2924 1579.49 73.0216 Q1576.17 73.7508 1572.4 73.7508 Q1562.15 73.7508 1556.12 67.3098 Q1550.08 60.8689 1550.08 49.9314 Q1550.08 38.832 1556.16 32.472 Q1562.27 26.1121 1572.89 26.1121 Q1576.33 26.1121 1579.61 26.8413 Q1582.89 27.5299 1585.97 28.9478 Z\" fill=\"#000000\" fill-rule=\"evenodd\" fill-opacity=\"1\" /><path clip-path=\"url(#clip870)\" d=\"M1631.59 28.9478 L1631.59 35.9153 Q1628.43 34.1734 1625.23 33.3227 Q1622.07 32.4315 1618.83 32.4315 Q1611.57 32.4315 1607.56 37.0496 Q1603.55 41.6271 1603.55 49.9314 Q1603.55 58.2358 1607.56 62.8538 Q1611.57 67.4314 1618.83 67.4314 Q1622.07 67.4314 1625.23 66.5807 Q1628.43 65.6895 1631.59 63.9476 L1631.59 70.8341 Q1628.47 72.2924 1625.1 73.0216 Q1621.78 73.7508 1618.02 73.7508 Q1607.77 73.7508 1601.73 67.3098 Q1595.69 60.8689 1595.69 49.9314 Q1595.69 38.832 1601.77 32.472 Q1607.89 26.1121 1618.5 26.1121 Q1621.94 26.1121 1625.23 26.8413 Q1628.51 27.5299 1631.59 28.9478 Z\" fill=\"#000000\" fill-rule=\"evenodd\" fill-opacity=\"1\" /><path clip-path=\"url(#clip870)\" d=\"M1643.78 54.671 L1643.78 27.2059 L1651.23 27.2059 L1651.23 54.3874 Q1651.23 60.8284 1653.74 64.0691 Q1656.26 67.2693 1661.28 67.2693 Q1667.31 67.2693 1670.8 63.421 Q1674.32 59.5726 1674.32 52.9291 L1674.32 27.2059 L1681.78 27.2059 L1681.78 72.576 L1674.32 72.576 L1674.32 65.6084 Q1671.61 69.7404 1668 71.7658 Q1664.44 73.7508 1659.7 73.7508 Q1651.88 73.7508 1647.83 68.8897 Q1643.78 64.0286 1643.78 54.671 M1662.53 26.1121 L1662.53 26.1121 Z\" fill=\"#000000\" fill-rule=\"evenodd\" fill-opacity=\"1\" /><path clip-path=\"url(#clip870)\" d=\"M1723.42 34.1734 Q1722.16 33.4443 1720.67 33.1202 Q1719.21 32.7556 1717.42 32.7556 Q1711.11 32.7556 1707.7 36.8875 Q1704.34 40.9789 1704.34 48.6757 L1704.34 72.576 L1696.85 72.576 L1696.85 27.2059 L1704.34 27.2059 L1704.34 34.2544 Q1706.69 30.1225 1710.46 28.1376 Q1714.22 26.1121 1719.61 26.1121 Q1720.38 26.1121 1721.31 26.2337 Q1722.25 26.3147 1723.38 26.5172 L1723.42 34.1734 Z\" fill=\"#000000\" fill-rule=\"evenodd\" fill-opacity=\"1\" /><path clip-path=\"url(#clip870)\" d=\"M1751.86 49.7694 Q1742.82 49.7694 1739.34 51.8354 Q1735.86 53.9013 1735.86 58.8839 Q1735.86 62.8538 1738.45 65.2034 Q1741.08 67.5124 1745.58 67.5124 Q1751.78 67.5124 1755.5 63.1374 Q1759.27 58.7219 1759.27 51.4303 L1759.27 49.7694 L1751.86 49.7694 M1766.72 46.6907 L1766.72 72.576 L1759.27 72.576 L1759.27 65.6895 Q1756.72 69.8214 1752.91 71.8063 Q1749.1 73.7508 1743.59 73.7508 Q1736.63 73.7508 1732.49 69.8619 Q1728.4 65.9325 1728.4 59.3701 Q1728.4 51.7138 1733.51 47.825 Q1738.65 43.9361 1748.82 43.9361 L1759.27 43.9361 L1759.27 43.2069 Q1759.27 38.0623 1755.87 35.2672 Q1752.51 32.4315 1746.39 32.4315 Q1742.5 32.4315 1738.81 33.3632 Q1735.13 34.295 1731.72 36.1584 L1731.72 29.2718 Q1735.82 27.692 1739.66 26.9223 Q1743.51 26.1121 1747.16 26.1121 Q1757 26.1121 1761.86 31.2163 Q1766.72 36.3204 1766.72 46.6907 Z\" fill=\"#000000\" fill-rule=\"evenodd\" fill-opacity=\"1\" /><path clip-path=\"url(#clip870)\" d=\"M1814.73 28.9478 L1814.73 35.9153 Q1811.57 34.1734 1808.37 33.3227 Q1805.21 32.4315 1801.97 32.4315 Q1794.72 32.4315 1790.71 37.0496 Q1786.69 41.6271 1786.69 49.9314 Q1786.69 58.2358 1790.71 62.8538 Q1794.72 67.4314 1801.97 67.4314 Q1805.21 67.4314 1808.37 66.5807 Q1811.57 65.6895 1814.73 63.9476 L1814.73 70.8341 Q1811.61 72.2924 1808.25 73.0216 Q1804.92 73.7508 1801.16 73.7508 Q1790.91 73.7508 1784.87 67.3098 Q1778.84 60.8689 1778.84 49.9314 Q1778.84 38.832 1784.91 32.472 Q1791.03 26.1121 1801.64 26.1121 Q1805.09 26.1121 1808.37 26.8413 Q1811.65 27.5299 1814.73 28.9478 Z\" fill=\"#000000\" fill-rule=\"evenodd\" fill-opacity=\"1\" /><path clip-path=\"url(#clip870)\" d=\"M1846.57 76.7889 Q1843.41 84.8907 1840.41 87.3618 Q1837.41 89.8329 1832.39 89.8329 L1826.43 89.8329 L1826.43 83.5945 L1830.81 83.5945 Q1833.89 83.5945 1835.59 82.1361 Q1837.29 80.6778 1839.36 75.2496 L1840.69 71.8468 L1822.34 27.2059 L1830.24 27.2059 L1844.42 62.6918 L1858.6 27.2059 L1866.5 27.2059 L1846.57 76.7889 Z\" fill=\"#000000\" fill-rule=\"evenodd\" fill-opacity=\"1\" /><path clip-path=\"url(#clip870)\" d=\"M1923.78 49.7694 Q1914.74 49.7694 1911.26 51.8354 Q1907.78 53.9013 1907.78 58.8839 Q1907.78 62.8538 1910.37 65.2034 Q1913 67.5124 1917.5 67.5124 Q1923.7 67.5124 1927.42 63.1374 Q1931.19 58.7219 1931.19 51.4303 L1931.19 49.7694 L1923.78 49.7694 M1938.64 46.6907 L1938.64 72.576 L1931.19 72.576 L1931.19 65.6895 Q1928.64 69.8214 1924.83 71.8063 Q1921.02 73.7508 1915.51 73.7508 Q1908.55 73.7508 1904.41 69.8619 Q1900.32 65.9325 1900.32 59.3701 Q1900.32 51.7138 1905.43 47.825 Q1910.57 43.9361 1920.74 43.9361 L1931.19 43.9361 L1931.19 43.2069 Q1931.19 38.0623 1927.79 35.2672 Q1924.43 32.4315 1918.31 32.4315 Q1914.42 32.4315 1910.73 33.3632 Q1907.05 34.295 1903.64 36.1584 L1903.64 29.2718 Q1907.74 27.692 1911.58 26.9223 Q1915.43 26.1121 1919.08 26.1121 Q1928.92 26.1121 1933.78 31.2163 Q1938.64 36.3204 1938.64 46.6907 Z\" fill=\"#000000\" fill-rule=\"evenodd\" fill-opacity=\"1\" /><path clip-path=\"url(#clip870)\" d=\"M1961.37 14.324 L1961.37 27.2059 L1976.72 27.2059 L1976.72 32.9987 L1961.37 32.9987 L1961.37 57.6282 Q1961.37 63.1779 1962.87 64.7578 Q1964.41 66.3376 1969.07 66.3376 L1976.72 66.3376 L1976.72 72.576 L1969.07 72.576 Q1960.44 72.576 1957.16 69.3758 Q1953.88 66.1351 1953.88 57.6282 L1953.88 32.9987 L1948.41 32.9987 L1948.41 27.2059 L1953.88 27.2059 L1953.88 14.324 L1961.37 14.324 Z\" fill=\"#000000\" fill-rule=\"evenodd\" fill-opacity=\"1\" /><path clip-path=\"url(#clip870)\" d=\"M2051.71 48.0275 L2051.71 51.6733 L2017.43 51.6733 Q2017.92 59.3701 2022.05 63.421 Q2026.22 67.4314 2033.64 67.4314 Q2037.93 67.4314 2041.94 66.3781 Q2045.99 65.3249 2049.96 63.2184 L2049.96 70.267 Q2045.95 71.9684 2041.74 72.8596 Q2037.53 73.7508 2033.19 73.7508 Q2022.34 73.7508 2015.98 67.4314 Q2009.66 61.1119 2009.66 50.3365 Q2009.66 39.1965 2015.65 32.6746 Q2021.69 26.1121 2031.9 26.1121 Q2041.05 26.1121 2046.36 32.0264 Q2051.71 37.9003 2051.71 48.0275 M2044.25 45.84 Q2044.17 39.7232 2040.81 36.0774 Q2037.49 32.4315 2031.98 32.4315 Q2025.74 32.4315 2021.97 35.9558 Q2018.24 39.4801 2017.68 45.8805 L2044.25 45.84 Z\" fill=\"#000000\" fill-rule=\"evenodd\" fill-opacity=\"1\" /><path clip-path=\"url(#clip870)\" d=\"M2084.56 49.7694 Q2075.52 49.7694 2072.04 51.8354 Q2068.56 53.9013 2068.56 58.8839 Q2068.56 62.8538 2071.15 65.2034 Q2073.78 67.5124 2078.28 67.5124 Q2084.48 67.5124 2088.2 63.1374 Q2091.97 58.7219 2091.97 51.4303 L2091.97 49.7694 L2084.56 49.7694 M2099.42 46.6907 L2099.42 72.576 L2091.97 72.576 L2091.97 65.6895 Q2089.42 69.8214 2085.61 71.8063 Q2081.8 73.7508 2076.29 73.7508 Q2069.33 73.7508 2065.19 69.8619 Q2061.1 65.9325 2061.1 59.3701 Q2061.1 51.7138 2066.21 47.825 Q2071.35 43.9361 2081.52 43.9361 L2091.97 43.9361 L2091.97 43.2069 Q2091.97 38.0623 2088.57 35.2672 Q2085.21 32.4315 2079.09 32.4315 Q2075.2 32.4315 2071.51 33.3632 Q2067.83 34.295 2064.42 36.1584 L2064.42 29.2718 Q2068.52 27.692 2072.36 26.9223 Q2076.21 26.1121 2079.86 26.1121 Q2089.7 26.1121 2094.56 31.2163 Q2099.42 36.3204 2099.42 46.6907 Z\" fill=\"#000000\" fill-rule=\"evenodd\" fill-opacity=\"1\" /><path clip-path=\"url(#clip870)\" d=\"M2147.43 28.9478 L2147.43 35.9153 Q2144.27 34.1734 2141.07 33.3227 Q2137.91 32.4315 2134.67 32.4315 Q2127.42 32.4315 2123.41 37.0496 Q2119.4 41.6271 2119.4 49.9314 Q2119.4 58.2358 2123.41 62.8538 Q2127.42 67.4314 2134.67 67.4314 Q2137.91 67.4314 2141.07 66.5807 Q2144.27 65.6895 2147.43 63.9476 L2147.43 70.8341 Q2144.31 72.2924 2140.95 73.0216 Q2137.62 73.7508 2133.86 73.7508 Q2123.61 73.7508 2117.57 67.3098 Q2111.54 60.8689 2111.54 49.9314 Q2111.54 38.832 2117.61 32.472 Q2123.73 26.1121 2134.34 26.1121 Q2137.79 26.1121 2141.07 26.8413 Q2144.35 27.5299 2147.43 28.9478 Z\" fill=\"#000000\" fill-rule=\"evenodd\" fill-opacity=\"1\" /><path clip-path=\"url(#clip870)\" d=\"M2198.1 45.1919 L2198.1 72.576 L2190.65 72.576 L2190.65 45.4349 Q2190.65 38.994 2188.14 35.7938 Q2185.63 32.5936 2180.6 32.5936 Q2174.57 32.5936 2171.09 36.4419 Q2167.6 40.2903 2167.6 46.9338 L2167.6 72.576 L2160.11 72.576 L2160.11 9.54393 L2167.6 9.54393 L2167.6 34.2544 Q2170.28 30.163 2173.88 28.1376 Q2177.53 26.1121 2182.27 26.1121 Q2190.08 26.1121 2194.09 30.9732 Q2198.1 35.7938 2198.1 45.1919 Z\" fill=\"#000000\" fill-rule=\"evenodd\" fill-opacity=\"1\" /><path clip-path=\"url(#clip870)\" d=\"M2239.34 27.2059 L2246.8 27.2059 L2246.8 72.576 L2239.34 72.576 L2239.34 27.2059 M2239.34 9.54393 L2246.8 9.54393 L2246.8 18.9825 L2239.34 18.9825 L2239.34 9.54393 Z\" fill=\"#000000\" fill-rule=\"evenodd\" fill-opacity=\"1\" /><path clip-path=\"url(#clip870)\" d=\"M2269.77 14.324 L2269.77 27.2059 L2285.12 27.2059 L2285.12 32.9987 L2269.77 32.9987 L2269.77 57.6282 Q2269.77 63.1779 2271.26 64.7578 Q2272.8 66.3376 2277.46 66.3376 L2285.12 66.3376 L2285.12 72.576 L2277.46 72.576 Q2268.83 72.576 2265.55 69.3758 Q2262.27 66.1351 2262.27 57.6282 L2262.27 32.9987 L2256.8 32.9987 L2256.8 27.2059 L2262.27 27.2059 L2262.27 14.324 L2269.77 14.324 Z\" fill=\"#000000\" fill-rule=\"evenodd\" fill-opacity=\"1\" /><path clip-path=\"url(#clip870)\" d=\"M2333.73 48.0275 L2333.73 51.6733 L2299.46 51.6733 Q2299.94 59.3701 2304.08 63.421 Q2308.25 67.4314 2315.66 67.4314 Q2319.96 67.4314 2323.97 66.3781 Q2328.02 65.3249 2331.99 63.2184 L2331.99 70.267 Q2327.98 71.9684 2323.76 72.8596 Q2319.55 73.7508 2315.22 73.7508 Q2304.36 73.7508 2298 67.4314 Q2291.68 61.1119 2291.68 50.3365 Q2291.68 39.1965 2297.68 32.6746 Q2303.71 26.1121 2313.92 26.1121 Q2323.08 26.1121 2328.38 32.0264 Q2333.73 37.9003 2333.73 48.0275 M2326.28 45.84 Q2326.19 39.7232 2322.83 36.0774 Q2319.51 32.4315 2314 32.4315 Q2307.76 32.4315 2304 35.9558 Q2300.27 39.4801 2299.7 45.8805 L2326.28 45.84 Z\" fill=\"#000000\" fill-rule=\"evenodd\" fill-opacity=\"1\" /><path clip-path=\"url(#clip870)\" d=\"M2372.25 34.1734 Q2371 33.4443 2369.5 33.1202 Q2368.04 32.7556 2366.26 32.7556 Q2359.94 32.7556 2356.54 36.8875 Q2353.17 40.9789 2353.17 48.6757 L2353.17 72.576 L2345.68 72.576 L2345.68 27.2059 L2353.17 27.2059 L2353.17 34.2544 Q2355.52 30.1225 2359.29 28.1376 Q2363.06 26.1121 2368.45 26.1121 Q2369.21 26.1121 2370.15 26.2337 Q2371.08 26.3147 2372.21 26.5172 L2372.25 34.1734 Z\" fill=\"#000000\" fill-rule=\"evenodd\" fill-opacity=\"1\" /><path clip-path=\"url(#clip870)\" d=\"M2400.69 49.7694 Q2391.66 49.7694 2388.17 51.8354 Q2384.69 53.9013 2384.69 58.8839 Q2384.69 62.8538 2387.28 65.2034 Q2389.92 67.5124 2394.41 67.5124 Q2400.61 67.5124 2404.34 63.1374 Q2408.1 58.7219 2408.1 51.4303 L2408.1 49.7694 L2400.69 49.7694 M2415.56 46.6907 L2415.56 72.576 L2408.1 72.576 L2408.1 65.6895 Q2405.55 69.8214 2401.74 71.8063 Q2397.94 73.7508 2392.43 73.7508 Q2385.46 73.7508 2381.33 69.8619 Q2377.24 65.9325 2377.24 59.3701 Q2377.24 51.7138 2382.34 47.825 Q2387.48 43.9361 2397.65 43.9361 L2408.1 43.9361 L2408.1 43.2069 Q2408.1 38.0623 2404.7 35.2672 Q2401.34 32.4315 2395.22 32.4315 Q2391.33 32.4315 2387.65 33.3632 Q2383.96 34.295 2380.56 36.1584 L2380.56 29.2718 Q2384.65 27.692 2388.5 26.9223 Q2392.35 26.1121 2395.99 26.1121 Q2405.84 26.1121 2410.7 31.2163 Q2415.56 36.3204 2415.56 46.6907 Z\" fill=\"#000000\" fill-rule=\"evenodd\" fill-opacity=\"1\" /><path clip-path=\"url(#clip870)\" d=\"M2438.28 14.324 L2438.28 27.2059 L2453.64 27.2059 L2453.64 32.9987 L2438.28 32.9987 L2438.28 57.6282 Q2438.28 63.1779 2439.78 64.7578 Q2441.32 66.3376 2445.98 66.3376 L2453.64 66.3376 L2453.64 72.576 L2445.98 72.576 Q2437.35 72.576 2434.07 69.3758 Q2430.79 66.1351 2430.79 57.6282 L2430.79 32.9987 L2425.32 32.9987 L2425.32 27.2059 L2430.79 27.2059 L2430.79 14.324 L2438.28 14.324 Z\" fill=\"#000000\" fill-rule=\"evenodd\" fill-opacity=\"1\" /><path clip-path=\"url(#clip870)\" d=\"M2463.44 27.2059 L2470.89 27.2059 L2470.89 72.576 L2463.44 72.576 L2463.44 27.2059 M2463.44 9.54393 L2470.89 9.54393 L2470.89 18.9825 L2463.44 18.9825 L2463.44 9.54393 Z\" fill=\"#000000\" fill-rule=\"evenodd\" fill-opacity=\"1\" /><path clip-path=\"url(#clip870)\" d=\"M2504.07 32.4315 Q2498.07 32.4315 2494.59 37.1306 Q2491.11 41.7891 2491.11 49.9314 Q2491.11 58.0738 2494.55 62.7728 Q2498.03 67.4314 2504.07 67.4314 Q2510.02 67.4314 2513.51 62.7323 Q2516.99 58.0333 2516.99 49.9314 Q2516.99 41.8701 2513.51 37.1711 Q2510.02 32.4315 2504.07 32.4315 M2504.07 26.1121 Q2513.79 26.1121 2519.34 32.4315 Q2524.89 38.7509 2524.89 49.9314 Q2524.89 61.0714 2519.34 67.4314 Q2513.79 73.7508 2504.07 73.7508 Q2494.31 73.7508 2488.76 67.4314 Q2483.25 61.0714 2483.25 49.9314 Q2483.25 38.7509 2488.76 32.4315 Q2494.31 26.1121 2504.07 26.1121 Z\" fill=\"#000000\" fill-rule=\"evenodd\" fill-opacity=\"1\" /><path clip-path=\"url(#clip870)\" d=\"M2574.96 45.1919 L2574.96 72.576 L2567.51 72.576 L2567.51 45.4349 Q2567.51 38.994 2565 35.7938 Q2562.48 32.5936 2557.46 32.5936 Q2551.42 32.5936 2547.94 36.4419 Q2544.46 40.2903 2544.46 46.9338 L2544.46 72.576 L2536.96 72.576 L2536.96 27.2059 L2544.46 27.2059 L2544.46 34.2544 Q2547.13 30.163 2550.74 28.1376 Q2554.38 26.1121 2559.12 26.1121 Q2566.94 26.1121 2570.95 30.9732 Q2574.96 35.7938 2574.96 45.1919 Z\" fill=\"#000000\" fill-rule=\"evenodd\" fill-opacity=\"1\" /><polyline clip-path=\"url(#clip872)\" style=\"stroke:#009af9; stroke-linecap:butt; stroke-linejoin:round; stroke-width:4; stroke-opacity:1; fill:none\" points=\"\n  316.418,2146.22 622.388,2146.22 928.357,2146.22 1234.33,2146.22 1540.3,2146.22 1846.27,2146.22 2152.24,2146.22 2458.2,2146.22 2764.17,2146.22 3070.14,2146.22 \n  \n  \"/>\n<path clip-path=\"url(#clip870)\" d=\"\nM2683.03 303.842 L3055.46 303.842 L3055.46 200.162 L2683.03 200.162  Z\n  \" fill=\"#ffffff\" fill-rule=\"evenodd\" fill-opacity=\"1\"/>\n<polyline clip-path=\"url(#clip870)\" style=\"stroke:#000000; stroke-linecap:butt; stroke-linejoin:round; stroke-width:4; stroke-opacity:1; fill:none\" points=\"\n  2683.03,303.842 3055.46,303.842 3055.46,200.162 2683.03,200.162 2683.03,303.842 \n  \"/>\n<polyline clip-path=\"url(#clip870)\" style=\"stroke:#009af9; stroke-linecap:butt; stroke-linejoin:round; stroke-width:4; stroke-opacity:1; fill:none\" points=\"\n  2715.03,252.002 2907.03,252.002 \n  \"/>\n<path clip-path=\"url(#clip870)\" d=\"M2952.87 271.689 Q2951.06 276.319 2949.35 277.731 Q2947.64 279.143 2944.77 279.143 L2941.37 279.143 L2941.37 275.578 L2943.87 275.578 Q2945.62 275.578 2946.6 274.745 Q2947.57 273.911 2948.75 270.809 L2949.51 268.865 L2939.03 243.356 L2943.54 243.356 L2951.64 263.634 L2959.74 243.356 L2964.26 243.356 L2952.87 271.689 Z\" fill=\"#000000\" fill-rule=\"evenodd\" fill-opacity=\"1\" /><path clip-path=\"url(#clip870)\" d=\"M2971.55 265.347 L2979.19 265.347 L2979.19 238.981 L2970.88 240.648 L2970.88 236.388 L2979.14 234.722 L2983.82 234.722 L2983.82 265.347 L2991.46 265.347 L2991.46 269.282 L2971.55 269.282 L2971.55 265.347 Z\" fill=\"#000000\" fill-rule=\"evenodd\" fill-opacity=\"1\" /></svg>\n"
     },
     "execution_count": 36,
     "metadata": {},
     "output_type": "execute_result"
    }
   ],
   "source": [
    "# https://docs.juliahub.com/MLJ/rAU56/0.13.0/generating_synthetic_data/\n",
    "X, y = make_blobs(10_000, 3; centers=2, as_table=false, rng=2020);\n",
    "X = Matrix(X');\n",
    "#reshape the size of y: https://www.geeksforgeeks.org/reshaping-array-dimensions-in-julia-array-reshape-method/; https://www.geeksforgeeks.org/manipulating-matrices-in-julia/\n",
    "# we need a size of y with 1 row and column same as the test/training data size\n",
    "y = reshape(y, (1, size(X, 2)));\n",
    "f(x) =  x == 2 ? 0 : x\n",
    "y2 = f.(y);\n",
    "\n",
    "# Input dimensions\n",
    "input_dim = size(X, 1);\n",
    "\n",
    "# Train the model\n",
    "# nn_results = train_network([input_dim, 5, 3, 1], X, y2; η=0.01, epochs=10, seed=1, verbose=true);\n",
    "\n",
    "nn_results = train_network([size(para_train_std, 1), 5, 3, 1], para_train_std, value_train; η=0.01, epochs=10, seed=1, verbose=true);\n",
    "\n",
    "# Plot accuracy per iteration\n",
    "p1 = plot(nn_results.accuracy,\n",
    "         xlabel=\"Log\",\n",
    "         ylabel=\"Accuracy\",\n",
    "         title=\"Development of accuracy at each iteration\");\n",
    "\n",
    "# Combine accuracy and cost plots\n",
    "plot(p1, layout = (2, 1), size = (800, 600))"
   ]
  },
  {
   "cell_type": "code",
   "execution_count": 35,
   "id": "e269de71",
   "metadata": {},
   "outputs": [
    {
     "name": "stdout",
     "output_type": "stream",
     "text": [
      "Matrix{Float64}\n",
      "Matrix{Float64}\n",
      "Int64\n",
      "(1, 644)\n",
      "(20, 644)\n",
      "(4,)\n",
      "Matrix{Float64}\n",
      "Matrix{Int64}\n",
      "(3, 10000)\n",
      "(1, 10000)\n"
     ]
    }
   ],
   "source": [
    "println(typeof(para_test))\n",
    "println(typeof(value_test))\n",
    "println(typeof(size(value_test,1)))\n",
    "\n",
    "println(size(value_test))\n",
    "println(size(para_test_std))\n",
    "println(size([size(para_train, 1), 5, 3, 1]))\n",
    "\n",
    "println(typeof(X))\n",
    "println(typeof(y))\n",
    "println(size(X))\n",
    "println(size(y))"
   ]
  }
 ],
 "metadata": {
  "kernelspec": {
   "display_name": "Julia 1.6.5",
   "language": "julia",
   "name": "julia-1.6"
  },
  "language_info": {
   "file_extension": ".jl",
   "mimetype": "application/julia",
   "name": "julia",
   "version": "1.6.5"
  }
 },
 "nbformat": 4,
 "nbformat_minor": 5
}
