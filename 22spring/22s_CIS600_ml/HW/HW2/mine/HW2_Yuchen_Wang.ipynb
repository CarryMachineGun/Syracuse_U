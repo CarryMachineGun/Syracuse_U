{
 "cells": [
  {
   "cell_type": "code",
   "execution_count": 2,
   "id": "controlled-jerusalem",
   "metadata": {},
   "outputs": [
    {
     "data": {
      "text/html": [
       "<div class=\"data-frame\"><p>2,000 rows × 21 columns (omitted printing of 13 columns)</p><table class=\"data-frame\"><thead><tr><th></th><th>battery_power</th><th>blue</th><th>clock_speed</th><th>dual_sim</th><th>fc</th><th>four_g</th><th>int_memory</th><th>m_dep</th></tr><tr><th></th><th title=\"Int64\">Int64</th><th title=\"Int64\">Int64</th><th title=\"Float64\">Float64</th><th title=\"Int64\">Int64</th><th title=\"Int64\">Int64</th><th title=\"Int64\">Int64</th><th title=\"Int64\">Int64</th><th title=\"Float64\">Float64</th></tr></thead><tbody><tr><th>1</th><td>842</td><td>0</td><td>2.2</td><td>0</td><td>1</td><td>0</td><td>7</td><td>0.6</td></tr><tr><th>2</th><td>1021</td><td>1</td><td>0.5</td><td>1</td><td>0</td><td>1</td><td>53</td><td>0.7</td></tr><tr><th>3</th><td>563</td><td>1</td><td>0.5</td><td>1</td><td>2</td><td>1</td><td>41</td><td>0.9</td></tr><tr><th>4</th><td>615</td><td>1</td><td>2.5</td><td>0</td><td>0</td><td>0</td><td>10</td><td>0.8</td></tr><tr><th>5</th><td>1821</td><td>1</td><td>1.2</td><td>0</td><td>13</td><td>1</td><td>44</td><td>0.6</td></tr><tr><th>6</th><td>1859</td><td>0</td><td>0.5</td><td>1</td><td>3</td><td>0</td><td>22</td><td>0.7</td></tr><tr><th>7</th><td>1821</td><td>0</td><td>1.7</td><td>0</td><td>4</td><td>1</td><td>10</td><td>0.8</td></tr><tr><th>8</th><td>1954</td><td>0</td><td>0.5</td><td>1</td><td>0</td><td>0</td><td>24</td><td>0.8</td></tr><tr><th>9</th><td>1445</td><td>1</td><td>0.5</td><td>0</td><td>0</td><td>0</td><td>53</td><td>0.7</td></tr><tr><th>10</th><td>509</td><td>1</td><td>0.6</td><td>1</td><td>2</td><td>1</td><td>9</td><td>0.1</td></tr><tr><th>11</th><td>769</td><td>1</td><td>2.9</td><td>1</td><td>0</td><td>0</td><td>9</td><td>0.1</td></tr><tr><th>12</th><td>1520</td><td>1</td><td>2.2</td><td>0</td><td>5</td><td>1</td><td>33</td><td>0.5</td></tr><tr><th>13</th><td>1815</td><td>0</td><td>2.8</td><td>0</td><td>2</td><td>0</td><td>33</td><td>0.6</td></tr><tr><th>14</th><td>803</td><td>1</td><td>2.1</td><td>0</td><td>7</td><td>0</td><td>17</td><td>1.0</td></tr><tr><th>15</th><td>1866</td><td>0</td><td>0.5</td><td>0</td><td>13</td><td>1</td><td>52</td><td>0.7</td></tr><tr><th>16</th><td>775</td><td>0</td><td>1.0</td><td>0</td><td>3</td><td>0</td><td>46</td><td>0.7</td></tr><tr><th>17</th><td>838</td><td>0</td><td>0.5</td><td>0</td><td>1</td><td>1</td><td>13</td><td>0.1</td></tr><tr><th>18</th><td>595</td><td>0</td><td>0.9</td><td>1</td><td>7</td><td>1</td><td>23</td><td>0.1</td></tr><tr><th>19</th><td>1131</td><td>1</td><td>0.5</td><td>1</td><td>11</td><td>0</td><td>49</td><td>0.6</td></tr><tr><th>20</th><td>682</td><td>1</td><td>0.5</td><td>0</td><td>4</td><td>0</td><td>19</td><td>1.0</td></tr><tr><th>21</th><td>772</td><td>0</td><td>1.1</td><td>1</td><td>12</td><td>0</td><td>39</td><td>0.8</td></tr><tr><th>22</th><td>1709</td><td>1</td><td>2.1</td><td>0</td><td>1</td><td>0</td><td>13</td><td>1.0</td></tr><tr><th>23</th><td>1949</td><td>0</td><td>2.6</td><td>1</td><td>4</td><td>0</td><td>47</td><td>0.3</td></tr><tr><th>24</th><td>1602</td><td>1</td><td>2.8</td><td>1</td><td>4</td><td>1</td><td>38</td><td>0.7</td></tr><tr><th>25</th><td>503</td><td>0</td><td>1.2</td><td>1</td><td>5</td><td>1</td><td>8</td><td>0.4</td></tr><tr><th>26</th><td>961</td><td>1</td><td>1.4</td><td>1</td><td>0</td><td>1</td><td>57</td><td>0.6</td></tr><tr><th>27</th><td>519</td><td>1</td><td>1.6</td><td>1</td><td>7</td><td>1</td><td>51</td><td>0.3</td></tr><tr><th>28</th><td>956</td><td>0</td><td>0.5</td><td>0</td><td>1</td><td>1</td><td>41</td><td>1.0</td></tr><tr><th>29</th><td>1453</td><td>0</td><td>1.6</td><td>1</td><td>12</td><td>1</td><td>52</td><td>0.3</td></tr><tr><th>30</th><td>851</td><td>0</td><td>0.5</td><td>0</td><td>3</td><td>0</td><td>21</td><td>0.4</td></tr><tr><th>&vellip;</th><td>&vellip;</td><td>&vellip;</td><td>&vellip;</td><td>&vellip;</td><td>&vellip;</td><td>&vellip;</td><td>&vellip;</td><td>&vellip;</td></tr></tbody></table></div>"
      ],
      "text/latex": [
       "\\begin{tabular}{r|ccccccccc}\n",
       "\t& battery\\_power & blue & clock\\_speed & dual\\_sim & fc & four\\_g & int\\_memory & m\\_dep & \\\\\n",
       "\t\\hline\n",
       "\t& Int64 & Int64 & Float64 & Int64 & Int64 & Int64 & Int64 & Float64 & \\\\\n",
       "\t\\hline\n",
       "\t1 & 842 & 0 & 2.2 & 0 & 1 & 0 & 7 & 0.6 & $\\dots$ \\\\\n",
       "\t2 & 1021 & 1 & 0.5 & 1 & 0 & 1 & 53 & 0.7 & $\\dots$ \\\\\n",
       "\t3 & 563 & 1 & 0.5 & 1 & 2 & 1 & 41 & 0.9 & $\\dots$ \\\\\n",
       "\t4 & 615 & 1 & 2.5 & 0 & 0 & 0 & 10 & 0.8 & $\\dots$ \\\\\n",
       "\t5 & 1821 & 1 & 1.2 & 0 & 13 & 1 & 44 & 0.6 & $\\dots$ \\\\\n",
       "\t6 & 1859 & 0 & 0.5 & 1 & 3 & 0 & 22 & 0.7 & $\\dots$ \\\\\n",
       "\t7 & 1821 & 0 & 1.7 & 0 & 4 & 1 & 10 & 0.8 & $\\dots$ \\\\\n",
       "\t8 & 1954 & 0 & 0.5 & 1 & 0 & 0 & 24 & 0.8 & $\\dots$ \\\\\n",
       "\t9 & 1445 & 1 & 0.5 & 0 & 0 & 0 & 53 & 0.7 & $\\dots$ \\\\\n",
       "\t10 & 509 & 1 & 0.6 & 1 & 2 & 1 & 9 & 0.1 & $\\dots$ \\\\\n",
       "\t11 & 769 & 1 & 2.9 & 1 & 0 & 0 & 9 & 0.1 & $\\dots$ \\\\\n",
       "\t12 & 1520 & 1 & 2.2 & 0 & 5 & 1 & 33 & 0.5 & $\\dots$ \\\\\n",
       "\t13 & 1815 & 0 & 2.8 & 0 & 2 & 0 & 33 & 0.6 & $\\dots$ \\\\\n",
       "\t14 & 803 & 1 & 2.1 & 0 & 7 & 0 & 17 & 1.0 & $\\dots$ \\\\\n",
       "\t15 & 1866 & 0 & 0.5 & 0 & 13 & 1 & 52 & 0.7 & $\\dots$ \\\\\n",
       "\t16 & 775 & 0 & 1.0 & 0 & 3 & 0 & 46 & 0.7 & $\\dots$ \\\\\n",
       "\t17 & 838 & 0 & 0.5 & 0 & 1 & 1 & 13 & 0.1 & $\\dots$ \\\\\n",
       "\t18 & 595 & 0 & 0.9 & 1 & 7 & 1 & 23 & 0.1 & $\\dots$ \\\\\n",
       "\t19 & 1131 & 1 & 0.5 & 1 & 11 & 0 & 49 & 0.6 & $\\dots$ \\\\\n",
       "\t20 & 682 & 1 & 0.5 & 0 & 4 & 0 & 19 & 1.0 & $\\dots$ \\\\\n",
       "\t21 & 772 & 0 & 1.1 & 1 & 12 & 0 & 39 & 0.8 & $\\dots$ \\\\\n",
       "\t22 & 1709 & 1 & 2.1 & 0 & 1 & 0 & 13 & 1.0 & $\\dots$ \\\\\n",
       "\t23 & 1949 & 0 & 2.6 & 1 & 4 & 0 & 47 & 0.3 & $\\dots$ \\\\\n",
       "\t24 & 1602 & 1 & 2.8 & 1 & 4 & 1 & 38 & 0.7 & $\\dots$ \\\\\n",
       "\t25 & 503 & 0 & 1.2 & 1 & 5 & 1 & 8 & 0.4 & $\\dots$ \\\\\n",
       "\t26 & 961 & 1 & 1.4 & 1 & 0 & 1 & 57 & 0.6 & $\\dots$ \\\\\n",
       "\t27 & 519 & 1 & 1.6 & 1 & 7 & 1 & 51 & 0.3 & $\\dots$ \\\\\n",
       "\t28 & 956 & 0 & 0.5 & 0 & 1 & 1 & 41 & 1.0 & $\\dots$ \\\\\n",
       "\t29 & 1453 & 0 & 1.6 & 1 & 12 & 1 & 52 & 0.3 & $\\dots$ \\\\\n",
       "\t30 & 851 & 0 & 0.5 & 0 & 3 & 0 & 21 & 0.4 & $\\dots$ \\\\\n",
       "\t$\\dots$ & $\\dots$ & $\\dots$ & $\\dots$ & $\\dots$ & $\\dots$ & $\\dots$ & $\\dots$ & $\\dots$ &  \\\\\n",
       "\\end{tabular}\n"
      ],
      "text/plain": [
       "\u001b[1m2000×21 DataFrame\u001b[0m\n",
       "\u001b[1m  Row \u001b[0m│\u001b[1m battery_power \u001b[0m\u001b[1m blue  \u001b[0m\u001b[1m clock_speed \u001b[0m\u001b[1m dual_sim \u001b[0m\u001b[1m fc    \u001b[0m\u001b[1m four_g \u001b[0m\u001b[1m int_memory\u001b[0m ⋯\n",
       "\u001b[1m      \u001b[0m│\u001b[90m Int64         \u001b[0m\u001b[90m Int64 \u001b[0m\u001b[90m Float64     \u001b[0m\u001b[90m Int64    \u001b[0m\u001b[90m Int64 \u001b[0m\u001b[90m Int64  \u001b[0m\u001b[90m Int64     \u001b[0m ⋯\n",
       "──────┼─────────────────────────────────────────────────────────────────────────\n",
       "    1 │           842      0          2.2         0      1       0           7 ⋯\n",
       "    2 │          1021      1          0.5         1      0       1          53\n",
       "    3 │           563      1          0.5         1      2       1          41\n",
       "    4 │           615      1          2.5         0      0       0          10\n",
       "    5 │          1821      1          1.2         0     13       1          44 ⋯\n",
       "    6 │          1859      0          0.5         1      3       0          22\n",
       "    7 │          1821      0          1.7         0      4       1          10\n",
       "    8 │          1954      0          0.5         1      0       0          24\n",
       "    9 │          1445      1          0.5         0      0       0          53 ⋯\n",
       "   10 │           509      1          0.6         1      2       1           9\n",
       "   11 │           769      1          2.9         1      0       0           9\n",
       "  ⋮   │       ⋮          ⋮         ⋮          ⋮        ⋮      ⋮         ⋮      ⋱\n",
       " 1991 │          1617      1          2.4         0      8       1          36\n",
       " 1992 │          1882      0          2.0         0     11       1          44 ⋯\n",
       " 1993 │           674      1          2.9         1      1       0          21\n",
       " 1994 │          1467      1          0.5         0      0       0          18\n",
       " 1995 │           858      0          2.2         0      1       0          50\n",
       " 1996 │           794      1          0.5         1      0       1           2 ⋯\n",
       " 1997 │          1965      1          2.6         1      0       0          39\n",
       " 1998 │          1911      0          0.9         1      1       1          36\n",
       " 1999 │          1512      0          0.9         0      4       1          46\n",
       " 2000 │           510      1          2.0         1      5       1          45 ⋯\n",
       "\u001b[36m                                                14 columns and 1979 rows omitted\u001b[0m"
      ]
     },
     "execution_count": 2,
     "metadata": {},
     "output_type": "execute_result"
    }
   ],
   "source": [
    "using ZipFile, Distributed, CSV, DataFrames, Random, StatsBase, Plots, Statistics, StableRNGs, MLJBase\n",
    "using Flux\n",
    "using Flux: logitbinarycrossentropy\n",
    "using BSON: @save\n",
    "using Distributions\n",
    "\n",
    "file = CSV.read(\"train.csv\", DataFrame)"
   ]
  },
  {
   "cell_type": "code",
   "execution_count": 3,
   "id": "postal-class",
   "metadata": {},
   "outputs": [
    {
     "data": {
      "text/plain": [
       "1000×21 Matrix{Float64}:\n",
       " 1021.0  1.0  0.5  1.0   0.0  1.0  53.0  …   3.0   7.0  1.0  1.0  0.0  2.0\n",
       "  563.0  1.0  0.5  1.0   2.0  1.0  41.0      2.0   9.0  1.0  1.0  0.0  2.0\n",
       "  615.0  1.0  2.5  0.0   0.0  0.0  10.0      8.0  11.0  1.0  0.0  0.0  2.0\n",
       " 1821.0  0.0  1.7  0.0   4.0  1.0  10.0      8.0  18.0  1.0  0.0  1.0  3.0\n",
       "  769.0  1.0  2.9  1.0   0.0  0.0   9.0      2.0   7.0  0.0  0.0  0.0  3.0\n",
       " 1520.0  1.0  2.2  0.0   5.0  1.0  33.0  …   9.0  13.0  1.0  1.0  1.0  3.0\n",
       "  803.0  1.0  2.1  0.0   7.0  0.0  17.0      1.0   4.0  1.0  0.0  1.0  2.0\n",
       "  838.0  0.0  0.5  0.0   1.0  1.0  13.0      9.0  19.0  1.0  0.0  1.0  3.0\n",
       "  595.0  0.0  0.9  1.0   7.0  1.0  23.0      2.0  18.0  1.0  1.0  0.0  3.0\n",
       "  772.0  0.0  1.1  1.0  12.0  0.0  39.0     15.0   3.0  1.0  1.0  0.0  3.0\n",
       " 1709.0  1.0  2.1  0.0   1.0  0.0  13.0  …   1.0  15.0  1.0  0.0  0.0  3.0\n",
       "  961.0  1.0  1.4  1.0   0.0  1.0  57.0      9.0   7.0  1.0  1.0  1.0  2.0\n",
       "  519.0  1.0  1.6  1.0   7.0  1.0  51.0      1.0   4.0  1.0  0.0  1.0  3.0\n",
       "    ⋮                         ⋮          ⋱   ⋮                         ⋮\n",
       "  816.0  0.0  3.0  1.0   2.0  0.0   9.0      3.0  14.0  1.0  0.0  1.0  3.0\n",
       " 1157.0  1.0  0.8  0.0   7.0  0.0  27.0      4.0   2.0  1.0  0.0  1.0  3.0\n",
       " 1379.0  0.0  1.1  1.0   1.0  1.0  18.0  …   5.0  15.0  1.0  1.0  0.0  2.0\n",
       " 1784.0  0.0  1.6  0.0   4.0  0.0  41.0      1.0  11.0  0.0  1.0  0.0  2.0\n",
       " 1262.0  0.0  1.8  1.0  12.0  0.0  34.0      3.0   4.0  0.0  1.0  1.0  2.0\n",
       " 1829.0  1.0  2.1  0.0   8.0  0.0  59.0      6.0   5.0  1.0  1.0  1.0  3.0\n",
       " 1882.0  0.0  2.0  0.0  11.0  1.0  44.0      8.0  20.0  1.0  1.0  0.0  3.0\n",
       " 1467.0  1.0  0.5  0.0   0.0  0.0  18.0  …  11.0   5.0  1.0  1.0  1.0  3.0\n",
       "  858.0  0.0  2.2  0.0   1.0  0.0  50.0     16.0   3.0  1.0  1.0  0.0  3.0\n",
       " 1965.0  1.0  2.6  1.0   0.0  0.0  39.0     10.0  16.0  1.0  1.0  1.0  2.0\n",
       " 1911.0  0.0  0.9  1.0   1.0  1.0  36.0      1.0   5.0  1.0  1.0  0.0  3.0\n",
       "  510.0  1.0  2.0  1.0   5.0  1.0  45.0      4.0   2.0  1.0  1.0  1.0  3.0"
      ]
     },
     "execution_count": 3,
     "metadata": {},
     "output_type": "execute_result"
    }
   ],
   "source": [
    "# Transfer DataFrame to matrix form\n",
    "df = file |> Tables.matrix\n",
    "\n",
    "# Transfer the dataset to 2-classifiers. df_0 represents the result is 0, df_1 represents the result is 1.\n",
    "# Due to my datasset is binary problems, and each result is 50 percents of the whole dataset. So i didn't add any other pre-actions for dataset. \n",
    "\n",
    "mat_0 = df[df[:,21] .<= 1, :]\n",
    "mat_1 = df[df[:,21] .>= 2, :]\n"
   ]
  },
  {
   "cell_type": "code",
   "execution_count": 4,
   "id": "weekly-presentation",
   "metadata": {},
   "outputs": [
    {
     "data": {
      "text/plain": [
       "584×21 Matrix{Float64}:\n",
       " 1859.0  0.0  0.5  1.0   3.0  0.0  22.0  …   1.0  10.0  1.0  0.0  0.0  1.0\n",
       " 1445.0  1.0  0.5  0.0   0.0  0.0  53.0      1.0  20.0  1.0  0.0  0.0  0.0\n",
       " 1866.0  0.0  0.5  0.0  13.0  1.0  52.0      9.0   3.0  1.0  0.0  1.0  0.0\n",
       " 1131.0  1.0  0.5  1.0  11.0  0.0  49.0     13.0  16.0  1.0  1.0  0.0  1.0\n",
       "  682.0  1.0  0.5  0.0   4.0  0.0  19.0      1.0  18.0  0.0  1.0  1.0  1.0\n",
       " 1514.0  0.0  2.9  0.0   0.0  0.0  27.0  …   3.0  20.0  0.0  1.0  1.0  1.0\n",
       " 1054.0  1.0  1.8  1.0   3.0  1.0  40.0     12.0  12.0  1.0  0.0  1.0  1.0\n",
       " 1484.0  0.0  3.0  0.0   3.0  0.0  12.0      4.0  20.0  1.0  1.0  0.0  1.0\n",
       "  799.0  1.0  2.3  0.0   1.0  1.0  63.0      6.0   6.0  1.0  1.0  1.0  0.0\n",
       " 1242.0  0.0  1.1  1.0   0.0  0.0  10.0      1.0   4.0  1.0  0.0  1.0  0.0\n",
       "  819.0  0.0  0.6  1.0   8.0  1.0  42.0  …   4.0  13.0  1.0  0.0  1.0  1.0\n",
       " 1322.0  0.0  1.7  1.0   6.0  0.0   7.0     17.0  12.0  0.0  1.0  0.0  1.0\n",
       "  657.0  0.0  2.5  0.0   0.0  0.0  37.0      3.0  18.0  0.0  1.0  0.0  0.0\n",
       "    ⋮                         ⋮          ⋱   ⋮                         ⋮\n",
       " 1090.0  1.0  2.3  0.0   1.0  1.0   8.0      3.0  11.0  1.0  0.0  1.0  3.0\n",
       "  721.0  1.0  2.7  1.0   1.0  1.0  15.0      0.0   5.0  1.0  1.0  1.0  3.0\n",
       "  730.0  0.0  1.5  0.0   9.0  0.0   9.0      8.0   7.0  1.0  0.0  1.0  2.0\n",
       "  689.0  0.0  1.4  0.0   2.0  0.0  45.0  …   1.0  10.0  1.0  0.0  0.0  3.0\n",
       " 1872.0  1.0  1.9  0.0   5.0  0.0  35.0      5.0  19.0  0.0  0.0  0.0  3.0\n",
       "  936.0  0.0  1.0  0.0   1.0  0.0  18.0      6.0   3.0  1.0  1.0  1.0  2.0\n",
       "  591.0  1.0  0.5  1.0   1.0  1.0  16.0      0.0   5.0  1.0  1.0  0.0  3.0\n",
       " 1056.0  1.0  2.1  1.0   8.0  1.0  37.0      5.0   3.0  1.0  1.0  1.0  2.0\n",
       " 1405.0  0.0  1.7  0.0   0.0  0.0   8.0  …   6.0  11.0  0.0  1.0  0.0  2.0\n",
       " 1035.0  1.0  2.7  0.0   1.0  0.0  40.0      4.0   5.0  0.0  1.0  1.0  3.0\n",
       " 1379.0  0.0  1.1  1.0   1.0  1.0  18.0      5.0  15.0  1.0  1.0  0.0  2.0\n",
       " 1965.0  1.0  2.6  1.0   0.0  0.0  39.0     10.0  16.0  1.0  1.0  1.0  2.0"
      ]
     },
     "execution_count": 4,
     "metadata": {},
     "output_type": "execute_result"
    }
   ],
   "source": [
    "# randomly select 70% data from data set as the train data\n",
    "\n",
    "train_data = randsubseq(1:1000, 0.7)\n",
    "train_df = vcat(mat_0[train_data, :], mat_1[train_data, :])\n",
    "\n",
    "# select the rest as the test data \n",
    "\n",
    "test_data = [i for i in 1:1000 if isempty(searchsorted(train_data, i))]\n",
    "test_df = vcat(mat_0[test_data, :], mat_1[test_data, :])"
   ]
  },
  {
   "cell_type": "code",
   "execution_count": 5,
   "id": "featured-residence",
   "metadata": {},
   "outputs": [
    {
     "data": {
      "text/plain": [
       "1×584 Matrix{Float64}:\n",
       " 1.0  0.0  0.0  1.0  1.0  1.0  1.0  1.0  …  2.0  3.0  2.0  2.0  3.0  2.0  2.0"
      ]
     },
     "execution_count": 5,
     "metadata": {},
     "output_type": "execute_result"
    }
   ],
   "source": [
    "# parameters of the training and testing data\n",
    "para_train = train_df[:, 1:20]\n",
    "para_test = test_df[:, 1:20]\n",
    "\n",
    "# value is never used?\n",
    "value_train = train_df[:, 21]\n",
    "value_test = test_df[:, 21]\n",
    "value_train_std = reshape(value_train, (1, :)) \n",
    "value_test_std = reshape(value_test, (1, :)) \n"
   ]
  },
  {
   "cell_type": "code",
   "execution_count": 6,
   "id": "prerequisite-commercial",
   "metadata": {},
   "outputs": [
    {
     "data": {
      "text/plain": [
       "20×584 transpose(::Matrix{Float64}) with eltype Float64:\n",
       "  1.4179     0.473363   1.43387   …  -0.462046   0.322785   1.65974\n",
       " -1.02394    0.975925  -1.02394       0.975925  -1.02394    0.975925\n",
       " -1.23153   -1.23153   -1.23153       1.46394   -0.496402   1.34142\n",
       "  0.978688  -1.02105   -1.02105      -1.02105    0.978688   0.978688\n",
       " -0.295822  -0.989721   2.01718      -0.758421  -0.758421  -0.989721\n",
       " -1.08211   -1.08211    0.923472  …  -1.08211    0.923472  -1.08211\n",
       " -0.552575   1.14613    1.09133       0.433771  -0.771763   0.378974\n",
       "  0.679609   0.679609   0.679609     -1.03638   -1.03638   -1.03638\n",
       "  0.678965   0.964251   1.27807       0.479265  -0.319537   1.33512\n",
       " -1.54579    1.08978   -1.54579       0.211255  -1.10653   -0.228006\n",
       " -0.481538   0.673314   1.16825   …   0.838293   1.00327   -1.14145\n",
       "  0.809941  -0.580245  -0.64773       0.254317   0.436526   0.609736\n",
       "  0.926878  -0.982771  -1.6201        1.52919   -0.868379   1.65292\n",
       " -0.956061  -0.92668   -1.59328       1.32193    0.229304  -0.0700213\n",
       "  1.12199    1.12199    0.408806      0.408806  -0.542108  -0.30438\n",
       " -1.09078   -1.09078    0.734921  …  -0.406141  -0.177928   0.963134\n",
       " -0.187346   1.64978   -1.47333      -1.10591    0.731218   0.914931\n",
       "  0.54778    0.54778    0.54778      -1.82426    0.54778    0.54778\n",
       " -1.00106   -1.00106   -1.00106       0.998236   0.998236   0.998236\n",
       " -1.00531   -1.00531    0.994015      0.994015  -1.00531    0.994015"
      ]
     },
     "execution_count": 6,
     "metadata": {},
     "output_type": "execute_result"
    }
   ],
   "source": [
    "dt = StatsBase.fit(ZScoreTransform, para_train, dims=1)\n",
    "\n",
    "# rotate the matrix for 90 degree\n",
    "para_train_std = StatsBase.transform(dt, para_train)\n",
    "para_test_std = StatsBase.transform(dt, para_test)\n",
    "\n",
    "para_train_std = transpose(para_train_std) \n",
    "para_test_std = transpose(para_test_std)"
   ]
  },
  {
   "cell_type": "code",
   "execution_count": 7,
   "id": "8afab176",
   "metadata": {},
   "outputs": [
    {
     "data": {
      "text/plain": [
       "2"
      ]
     },
     "execution_count": 7,
     "metadata": {},
     "output_type": "execute_result"
    }
   ],
   "source": [
    "# basic parameters\n",
    "batch_size = 20\n",
    "population_size = 300\n",
    "Mutation_rate = 0.5\n",
    "Crossover_rate = 0.4\n",
    "Retain_rate = 0.9\n",
    "iteration = 500\n",
    "layer = 2"
   ]
  },
  {
   "cell_type": "code",
   "execution_count": 8,
   "id": "1a755a5b",
   "metadata": {},
   "outputs": [
    {
     "data": {
      "text/plain": [
       "sigmoidModel (generic function with 1 method)"
      ]
     },
     "execution_count": 8,
     "metadata": {},
     "output_type": "execute_result"
    }
   ],
   "source": [
    "#build the models with sigmoid as Activation Function\n",
    "\n",
    "function sigmoidModel(batch_size)\n",
    "    model = Chain(Dense(batch_size, 12, relu), Dense(12, 1, relu))\n",
    "    return model\n",
    "end"
   ]
  },
  {
   "cell_type": "code",
   "execution_count": 9,
   "id": "3ef502cc",
   "metadata": {},
   "outputs": [
    {
     "data": {
      "text/plain": [
       "generateInitialPopulation (generic function with 1 method)"
      ]
     },
     "execution_count": 9,
     "metadata": {},
     "output_type": "execute_result"
    }
   ],
   "source": [
    "# We will define a function that can generate initial weight and bias for the neutral network.\n",
    "\n",
    "function generateInitialPopulation(initial_population_size)\n",
    "    chromosomes = []\n",
    "    for i in 1 : initial_population_size\n",
    "        chromosome = sigmoidModel(batch_size)\n",
    "        push!(chromosomes, chromosome)\n",
    "    end\n",
    "    return chromosomes\n",
    "end"
   ]
  },
  {
   "cell_type": "code",
   "execution_count": 10,
   "id": "dc31fd7b",
   "metadata": {},
   "outputs": [
    {
     "data": {
      "text/plain": [
       "trainNetwork (generic function with 1 method)"
      ]
     },
     "execution_count": 10,
     "metadata": {},
     "output_type": "execute_result"
    }
   ],
   "source": [
    "# Do we need to train the network?\n",
    "\n",
    "\n",
    "function trainNetwork(chromosomes)\n",
    "    model_mean_acc_list = []\n",
    "    i=1\n",
    "\n",
    "    for model in chromosomes\n",
    "        push!(model_mean_acc_list, mean(accuracy(para_train_std, value_train_std, i)))\n",
    "        i = i + 1\n",
    "    end\n",
    "    \n",
    "    index = reverse(sortperm(model_mean_acc_list))\n",
    "    model_mean_acc_list = model_mean_acc_list[index]\n",
    "    chromosome = chromosomes[index]\n",
    "    \n",
    "    return chromosome, model_mean_acc_list\n",
    "end"
   ]
  },
  {
   "cell_type": "code",
   "execution_count": 11,
   "id": "60fc5fee",
   "metadata": {},
   "outputs": [
    {
     "data": {
      "text/plain": [
       "testModel (generic function with 1 method)"
      ]
     },
     "execution_count": 11,
     "metadata": {},
     "output_type": "execute_result"
    }
   ],
   "source": [
    "# why there is no manipuation on test data?\n",
    "function testModel(model_index)\n",
    "    model_acc_list=[]\n",
    "    return mean(accuracy(para_test_std, value_test_std, model_index))\n",
    "end"
   ]
  },
  {
   "cell_type": "code",
   "execution_count": 12,
   "id": "e9b3e765",
   "metadata": {},
   "outputs": [
    {
     "data": {
      "text/plain": [
       "crossover (generic function with 1 method)"
      ]
     },
     "execution_count": 12,
     "metadata": {},
     "output_type": "execute_result"
    }
   ],
   "source": [
    "# create a new model using two parent models\n",
    "\n",
    "function crossover(parent_one_chromosome,parent_two_chromosome)\n",
    "    n_offspring = deepcopy(parent_one_chromosome)\n",
    "    for i in 1:layer\n",
    "        select_one_layer = shuffle(collect(1:layer))[1]\n",
    "        mother_bias=parent_two_chromosome[select_one_layer].bias\n",
    "        row_to_shuffle = shuffle(collect(1:size(mother_bias)[1]))[1]\n",
    "        if rand() < Crossover_rate\n",
    "            n_offspring[select_one_layer].bias[row_to_shuffle]=mother_bias[row_to_shuffle]\n",
    "        end\n",
    "    end\n",
    "    \n",
    "    for i in 1:layer\n",
    "        select_one_layer=shuffle(collect(1:layer))[1]\n",
    "        mother_weight=parent_two_chromosome[select_one_layer].weight\n",
    "        row_to_shuffle=shuffle(collect(1:size(mother_weight)[1]))[1]\n",
    "        col_to_shuffle=shuffle(collect(1:size(mother_weight)[2]))[1]\n",
    "        if rand() < Crossover_rate\n",
    "            n_offspring[select_one_layer].weight[row_to_shuffle,col_to_shuffle]=mother_weight[row_to_shuffle,col_to_shuffle]\n",
    "        end\n",
    "    end\n",
    "    return n_offspring\n",
    "end"
   ]
  },
  {
   "cell_type": "code",
   "execution_count": 13,
   "id": "b9adc0de",
   "metadata": {},
   "outputs": [
    {
     "data": {
      "text/plain": [
       "mutation (generic function with 1 method)"
      ]
     },
     "execution_count": 13,
     "metadata": {},
     "output_type": "execute_result"
    }
   ],
   "source": [
    "#Do mutation here\n",
    "function mutation(offspring)\n",
    "    n_offspring = deepcopy(offspring)\n",
    "    for i in 1:layer\n",
    "        select_one_layer = shuffle(collect(1:layer))[1]\n",
    "        bias = offspring[select_one_layer].bias\n",
    "        row_to_shuffle = shuffle(collect(1:size(bias)[1]))[1]\n",
    "        if rand() < Mutation_rate\n",
    "            n_offspring[select_one_layer].bias[row_to_shuffle] += rand(Uniform(-0.5,0.5),1)[1]\n",
    "        end\n",
    "    end\n",
    "    \n",
    "    for i in 1:layer\n",
    "        select_one_layer = shuffle(collect(1:layer))[1]\n",
    "        weight = n_offspring[select_one_layer].weight\n",
    "        row_to_shuffle = shuffle(collect(1:size(weight)[1]))[1]\n",
    "        col_to_shuffle = shuffle(collect(1:size(weight)[2]))[1]\n",
    "        if rand() < Mutation_rate\n",
    "            n_offspring[select_one_layer].weight[row_to_shuffle,col_to_shuffle] += rand(Uniform(-0.5,0.5),1)[1]\n",
    "        end\n",
    "    end\n",
    "    return n_offspring\n",
    "end"
   ]
  },
  {
   "cell_type": "code",
   "execution_count": 14,
   "id": "f78715fa",
   "metadata": {},
   "outputs": [
    {
     "data": {
      "text/plain": [
       "300-element Vector{Any}:\n",
       " Chain(Dense(20, 12, relu), Dense(12, 1, relu))  \u001b[90m# 265 parameters\u001b[39m\n",
       " Chain(Dense(20, 12, relu), Dense(12, 1, relu))  \u001b[90m# 265 parameters\u001b[39m\n",
       " Chain(Dense(20, 12, relu), Dense(12, 1, relu))  \u001b[90m# 265 parameters\u001b[39m\n",
       " Chain(Dense(20, 12, relu), Dense(12, 1, relu))  \u001b[90m# 265 parameters\u001b[39m\n",
       " Chain(Dense(20, 12, relu), Dense(12, 1, relu))  \u001b[90m# 265 parameters\u001b[39m\n",
       " Chain(Dense(20, 12, relu), Dense(12, 1, relu))  \u001b[90m# 265 parameters\u001b[39m\n",
       " Chain(Dense(20, 12, relu), Dense(12, 1, relu))  \u001b[90m# 265 parameters\u001b[39m\n",
       " Chain(Dense(20, 12, relu), Dense(12, 1, relu))  \u001b[90m# 265 parameters\u001b[39m\n",
       " Chain(Dense(20, 12, relu), Dense(12, 1, relu))  \u001b[90m# 265 parameters\u001b[39m\n",
       " Chain(Dense(20, 12, relu), Dense(12, 1, relu))  \u001b[90m# 265 parameters\u001b[39m\n",
       " Chain(Dense(20, 12, relu), Dense(12, 1, relu))  \u001b[90m# 265 parameters\u001b[39m\n",
       " Chain(Dense(20, 12, relu), Dense(12, 1, relu))  \u001b[90m# 265 parameters\u001b[39m\n",
       " Chain(Dense(20, 12, relu), Dense(12, 1, relu))  \u001b[90m# 265 parameters\u001b[39m\n",
       " ⋮\n",
       " Chain(Dense(20, 12, relu), Dense(12, 1, relu))  \u001b[90m# 265 parameters\u001b[39m\n",
       " Chain(Dense(20, 12, relu), Dense(12, 1, relu))  \u001b[90m# 265 parameters\u001b[39m\n",
       " Chain(Dense(20, 12, relu), Dense(12, 1, relu))  \u001b[90m# 265 parameters\u001b[39m\n",
       " Chain(Dense(20, 12, relu), Dense(12, 1, relu))  \u001b[90m# 265 parameters\u001b[39m\n",
       " Chain(Dense(20, 12, relu), Dense(12, 1, relu))  \u001b[90m# 265 parameters\u001b[39m\n",
       " Chain(Dense(20, 12, relu), Dense(12, 1, relu))  \u001b[90m# 265 parameters\u001b[39m\n",
       " Chain(Dense(20, 12, relu), Dense(12, 1, relu))  \u001b[90m# 265 parameters\u001b[39m\n",
       " Chain(Dense(20, 12, relu), Dense(12, 1, relu))  \u001b[90m# 265 parameters\u001b[39m\n",
       " Chain(Dense(20, 12, relu), Dense(12, 1, relu))  \u001b[90m# 265 parameters\u001b[39m\n",
       " Chain(Dense(20, 12, relu), Dense(12, 1, relu))  \u001b[90m# 265 parameters\u001b[39m\n",
       " Chain(Dense(20, 12, relu), Dense(12, 1, relu))  \u001b[90m# 265 parameters\u001b[39m\n",
       " Chain(Dense(20, 12, relu), Dense(12, 1, relu))  \u001b[90m# 265 parameters\u001b[39m"
      ]
     },
     "execution_count": 14,
     "metadata": {},
     "output_type": "execute_result"
    }
   ],
   "source": [
    "chromosomes = generateInitialPopulation(population_size)"
   ]
  },
  {
   "cell_type": "code",
   "execution_count": 15,
   "id": "00ed7b7c",
   "metadata": {},
   "outputs": [
    {
     "data": {
      "text/plain": [
       "Any[]"
      ]
     },
     "execution_count": 15,
     "metadata": {},
     "output_type": "execute_result"
    }
   ],
   "source": [
    "train_acc_list = []\n",
    "test_acc_list = []"
   ]
  },
  {
   "cell_type": "code",
   "execution_count": 16,
   "id": "17bc34f5",
   "metadata": {},
   "outputs": [
    {
     "name": "stdout",
     "output_type": "stream",
     "text": [
      "0.2522343515592582\n",
      "0.25051669379807845\n",
      "0.25083788183472183\n",
      "0.2517595518529158\n",
      "0.25967753519103703\n",
      "0.2582671007692553\n",
      "0.2565075489163395\n",
      "new\n",
      "0.2522343515592582\n",
      "0.25051669379807845\n",
      "0.25083788183472183\n",
      "0.2517595518529158\n",
      "0.25967753519103703\n",
      "0.2582671007692553\n",
      "0.2565075489163395\n"
     ]
    }
   ],
   "source": [
    "\n",
    "# println(\"\\nTrial\") \n",
    "accuracy(para, val, i) = mean(vec(chromosomes[i](para) .> 0.5) .== val)\n",
    "\n",
    "model,score = trainNetwork(chromosomes)\n",
    "# println(\"\\nTrial\") \n",
    "#erase models with low accuracy\n",
    "# println(typeof(size(chromosomes)[1] * Retain_rate)) \n",
    "# println(typeof())\n",
    "chromosomes = chromosomes[1 : floor(Int ,size(chromosomes)[1] * Retain_rate)]\n",
    "# println(\"\\nTrial\") \n",
    "test_acc=testModel(1)\n",
    "# println(\"\\nTrial\") \n",
    "append!(train_acc_list,mean(score))\n",
    "append!(test_acc_list,test_acc)\n",
    "\n",
    "# println(\"\\nTrial\") \n",
    "\n",
    "for i in 1 : 7\n",
    "    println(accuracy(para_train_std, value_train_std, i))\n",
    "end\n",
    "\n",
    "while size(chromosomes)[1] < population_size\n",
    "    # select a chromosome to do crossover\n",
    "    model_mean_acc_list = []\n",
    "    i=1\n",
    "    for chromosome in chromosomes\n",
    "        append!(model_mean_acc_list,mean(accuracy(para_train_std,value_train_std,i)))\n",
    "        i=i+1\n",
    "    end\n",
    "\n",
    "    idx=collect(1:size(chromosomes)[1])\n",
    "    idx=shuffle(idx)\n",
    "    parent_one_chromosome=chromosomes[idx[1]]\n",
    "    parent_two_chromosome=chromosomes[idx[2]]\n",
    "\n",
    "    offspring = crossover(parent_one_chromosome,parent_two_chromosome)\n",
    "    offspring = mutation(offspring)\n",
    "    append!(chromosomes,[offspring])\n",
    "end\n",
    "println(\"new\")\n",
    "for j in 1:7\n",
    "    println(accuracy(para_train_std, value_train_std,j))\n",
    "end "
   ]
  },
  {
   "cell_type": "code",
   "execution_count": 17,
   "id": "c0840c0c",
   "metadata": {},
   "outputs": [],
   "source": [
    "# to do the test\n",
    "test=[]\n",
    "\n",
    "for j in 1:30\n",
    "    push!(test,accuracy(para_train_std, value_train_std,j))\n",
    "end"
   ]
  },
  {
   "cell_type": "code",
   "execution_count": 18,
   "id": "a491ae4a",
   "metadata": {},
   "outputs": [
    {
     "data": {
      "image/svg+xml": "<?xml version=\"1.0\" encoding=\"utf-8\"?>\n<svg xmlns=\"http://www.w3.org/2000/svg\" xmlns:xlink=\"http://www.w3.org/1999/xlink\" width=\"600\" height=\"400\" viewBox=\"0 0 2400 1600\">\n<defs>\n  <clipPath id=\"clip870\">\n    <rect x=\"0\" y=\"0\" width=\"2400\" height=\"1600\"/>\n  </clipPath>\n</defs>\n<path clip-path=\"url(#clip870)\" d=\"\nM0 1600 L2400 1600 L2400 0 L0 0  Z\n  \" fill=\"#ffffff\" fill-rule=\"evenodd\" fill-opacity=\"1\"/>\n<defs>\n  <clipPath id=\"clip871\">\n    <rect x=\"480\" y=\"0\" width=\"1681\" height=\"1600\"/>\n  </clipPath>\n</defs>\n<path clip-path=\"url(#clip870)\" d=\"\nM216.343 1486.45 L2352.76 1486.45 L2352.76 47.2441 L216.343 47.2441  Z\n  \" fill=\"#ffffff\" fill-rule=\"evenodd\" fill-opacity=\"1\"/>\n<defs>\n  <clipPath id=\"clip872\">\n    <rect x=\"216\" y=\"47\" width=\"2137\" height=\"1440\"/>\n  </clipPath>\n</defs>\n<polyline clip-path=\"url(#clip872)\" style=\"stroke:#000000; stroke-linecap:butt; stroke-linejoin:round; stroke-width:2; stroke-opacity:0.1; fill:none\" points=\"\n  554.806,1486.45 554.806,47.2441 \n  \"/>\n<polyline clip-path=\"url(#clip872)\" style=\"stroke:#000000; stroke-linecap:butt; stroke-linejoin:round; stroke-width:2; stroke-opacity:0.1; fill:none\" points=\"\n  902.303,1486.45 902.303,47.2441 \n  \"/>\n<polyline clip-path=\"url(#clip872)\" style=\"stroke:#000000; stroke-linecap:butt; stroke-linejoin:round; stroke-width:2; stroke-opacity:0.1; fill:none\" points=\"\n  1249.8,1486.45 1249.8,47.2441 \n  \"/>\n<polyline clip-path=\"url(#clip872)\" style=\"stroke:#000000; stroke-linecap:butt; stroke-linejoin:round; stroke-width:2; stroke-opacity:0.1; fill:none\" points=\"\n  1597.3,1486.45 1597.3,47.2441 \n  \"/>\n<polyline clip-path=\"url(#clip872)\" style=\"stroke:#000000; stroke-linecap:butt; stroke-linejoin:round; stroke-width:2; stroke-opacity:0.1; fill:none\" points=\"\n  1944.79,1486.45 1944.79,47.2441 \n  \"/>\n<polyline clip-path=\"url(#clip872)\" style=\"stroke:#000000; stroke-linecap:butt; stroke-linejoin:round; stroke-width:2; stroke-opacity:0.1; fill:none\" points=\"\n  2292.29,1486.45 2292.29,47.2441 \n  \"/>\n<polyline clip-path=\"url(#clip870)\" style=\"stroke:#000000; stroke-linecap:butt; stroke-linejoin:round; stroke-width:4; stroke-opacity:1; fill:none\" points=\"\n  216.343,1486.45 2352.76,1486.45 \n  \"/>\n<polyline clip-path=\"url(#clip870)\" style=\"stroke:#000000; stroke-linecap:butt; stroke-linejoin:round; stroke-width:4; stroke-opacity:1; fill:none\" points=\"\n  554.806,1486.45 554.806,1467.55 \n  \"/>\n<polyline clip-path=\"url(#clip870)\" style=\"stroke:#000000; stroke-linecap:butt; stroke-linejoin:round; stroke-width:4; stroke-opacity:1; fill:none\" points=\"\n  902.303,1486.45 902.303,1467.55 \n  \"/>\n<polyline clip-path=\"url(#clip870)\" style=\"stroke:#000000; stroke-linecap:butt; stroke-linejoin:round; stroke-width:4; stroke-opacity:1; fill:none\" points=\"\n  1249.8,1486.45 1249.8,1467.55 \n  \"/>\n<polyline clip-path=\"url(#clip870)\" style=\"stroke:#000000; stroke-linecap:butt; stroke-linejoin:round; stroke-width:4; stroke-opacity:1; fill:none\" points=\"\n  1597.3,1486.45 1597.3,1467.55 \n  \"/>\n<polyline clip-path=\"url(#clip870)\" style=\"stroke:#000000; stroke-linecap:butt; stroke-linejoin:round; stroke-width:4; stroke-opacity:1; fill:none\" points=\"\n  1944.79,1486.45 1944.79,1467.55 \n  \"/>\n<polyline clip-path=\"url(#clip870)\" style=\"stroke:#000000; stroke-linecap:butt; stroke-linejoin:round; stroke-width:4; stroke-opacity:1; fill:none\" points=\"\n  2292.29,1486.45 2292.29,1467.55 \n  \"/>\n<path clip-path=\"url(#clip870)\" d=\"M545.083 1514.29 L563.44 1514.29 L563.44 1518.22 L549.366 1518.22 L549.366 1526.7 Q550.384 1526.35 551.403 1526.19 Q552.421 1526 553.44 1526 Q559.227 1526 562.606 1529.17 Q565.986 1532.34 565.986 1537.76 Q565.986 1543.34 562.514 1546.44 Q559.042 1549.52 552.722 1549.52 Q550.546 1549.52 548.278 1549.15 Q546.032 1548.78 543.625 1548.04 L543.625 1543.34 Q545.708 1544.47 547.931 1545.03 Q550.153 1545.58 552.63 1545.58 Q556.634 1545.58 558.972 1543.48 Q561.31 1541.37 561.31 1537.76 Q561.31 1534.15 558.972 1532.04 Q556.634 1529.94 552.63 1529.94 Q550.755 1529.94 548.88 1530.35 Q547.028 1530.77 545.083 1531.65 L545.083 1514.29 Z\" fill=\"#000000\" fill-rule=\"evenodd\" fill-opacity=\"1\" /><path clip-path=\"url(#clip870)\" d=\"M876.99 1544.91 L884.629 1544.91 L884.629 1518.55 L876.319 1520.21 L876.319 1515.95 L884.583 1514.29 L889.259 1514.29 L889.259 1544.91 L896.898 1544.91 L896.898 1548.85 L876.99 1548.85 L876.99 1544.91 Z\" fill=\"#000000\" fill-rule=\"evenodd\" fill-opacity=\"1\" /><path clip-path=\"url(#clip870)\" d=\"M916.342 1517.37 Q912.731 1517.37 910.902 1520.93 Q909.097 1524.47 909.097 1531.6 Q909.097 1538.71 910.902 1542.27 Q912.731 1545.82 916.342 1545.82 Q919.976 1545.82 921.782 1542.27 Q923.61 1538.71 923.61 1531.6 Q923.61 1524.47 921.782 1520.93 Q919.976 1517.37 916.342 1517.37 M916.342 1513.66 Q922.152 1513.66 925.208 1518.27 Q928.286 1522.85 928.286 1531.6 Q928.286 1540.33 925.208 1544.94 Q922.152 1549.52 916.342 1549.52 Q910.532 1549.52 907.453 1544.94 Q904.398 1540.33 904.398 1531.6 Q904.398 1522.85 907.453 1518.27 Q910.532 1513.66 916.342 1513.66 Z\" fill=\"#000000\" fill-rule=\"evenodd\" fill-opacity=\"1\" /><path clip-path=\"url(#clip870)\" d=\"M1224.99 1544.91 L1232.62 1544.91 L1232.62 1518.55 L1224.31 1520.21 L1224.31 1515.95 L1232.58 1514.29 L1237.25 1514.29 L1237.25 1544.91 L1244.89 1544.91 L1244.89 1548.85 L1224.99 1548.85 L1224.99 1544.91 Z\" fill=\"#000000\" fill-rule=\"evenodd\" fill-opacity=\"1\" /><path clip-path=\"url(#clip870)\" d=\"M1254.38 1514.29 L1272.74 1514.29 L1272.74 1518.22 L1258.67 1518.22 L1258.67 1526.7 Q1259.68 1526.35 1260.7 1526.19 Q1261.72 1526 1262.74 1526 Q1268.53 1526 1271.91 1529.17 Q1275.29 1532.34 1275.29 1537.76 Q1275.29 1543.34 1271.81 1546.44 Q1268.34 1549.52 1262.02 1549.52 Q1259.85 1549.52 1257.58 1549.15 Q1255.33 1548.78 1252.92 1548.04 L1252.92 1543.34 Q1255.01 1544.47 1257.23 1545.03 Q1259.45 1545.58 1261.93 1545.58 Q1265.93 1545.58 1268.27 1543.48 Q1270.61 1541.37 1270.61 1537.76 Q1270.61 1534.15 1268.27 1532.04 Q1265.93 1529.94 1261.93 1529.94 Q1260.05 1529.94 1258.18 1530.35 Q1256.33 1530.77 1254.38 1531.65 L1254.38 1514.29 Z\" fill=\"#000000\" fill-rule=\"evenodd\" fill-opacity=\"1\" /><path clip-path=\"url(#clip870)\" d=\"M1576.07 1544.91 L1592.39 1544.91 L1592.39 1548.85 L1570.45 1548.85 L1570.45 1544.91 Q1573.11 1542.16 1577.69 1537.53 Q1582.3 1532.88 1583.48 1531.53 Q1585.72 1529.01 1586.6 1527.27 Q1587.51 1525.51 1587.51 1523.82 Q1587.51 1521.07 1585.56 1519.33 Q1583.64 1517.6 1580.54 1517.6 Q1578.34 1517.6 1575.89 1518.36 Q1573.45 1519.13 1570.68 1520.68 L1570.68 1515.95 Q1573.5 1514.82 1575.95 1514.24 Q1578.41 1513.66 1580.45 1513.66 Q1585.82 1513.66 1589.01 1516.35 Q1592.2 1519.03 1592.2 1523.52 Q1592.2 1525.65 1591.39 1527.57 Q1590.61 1529.47 1588.5 1532.07 Q1587.92 1532.74 1584.82 1535.95 Q1581.72 1539.15 1576.07 1544.91 Z\" fill=\"#000000\" fill-rule=\"evenodd\" fill-opacity=\"1\" /><path clip-path=\"url(#clip870)\" d=\"M1612.2 1517.37 Q1608.59 1517.37 1606.76 1520.93 Q1604.96 1524.47 1604.96 1531.6 Q1604.96 1538.71 1606.76 1542.27 Q1608.59 1545.82 1612.2 1545.82 Q1615.84 1545.82 1617.64 1542.27 Q1619.47 1538.71 1619.47 1531.6 Q1619.47 1524.47 1617.64 1520.93 Q1615.84 1517.37 1612.2 1517.37 M1612.2 1513.66 Q1618.01 1513.66 1621.07 1518.27 Q1624.15 1522.85 1624.15 1531.6 Q1624.15 1540.33 1621.07 1544.94 Q1618.01 1549.52 1612.2 1549.52 Q1606.39 1549.52 1603.32 1544.94 Q1600.26 1540.33 1600.26 1531.6 Q1600.26 1522.85 1603.32 1518.27 Q1606.39 1513.66 1612.2 1513.66 Z\" fill=\"#000000\" fill-rule=\"evenodd\" fill-opacity=\"1\" /><path clip-path=\"url(#clip870)\" d=\"M1924.07 1544.91 L1940.38 1544.91 L1940.38 1548.85 L1918.44 1548.85 L1918.44 1544.91 Q1921.1 1542.16 1925.69 1537.53 Q1930.29 1532.88 1931.47 1531.53 Q1933.72 1529.01 1934.6 1527.27 Q1935.5 1525.51 1935.5 1523.82 Q1935.5 1521.07 1933.56 1519.33 Q1931.63 1517.6 1928.53 1517.6 Q1926.33 1517.6 1923.88 1518.36 Q1921.45 1519.13 1918.67 1520.68 L1918.67 1515.95 Q1921.5 1514.82 1923.95 1514.24 Q1926.4 1513.66 1928.44 1513.66 Q1933.81 1513.66 1937 1516.35 Q1940.2 1519.03 1940.2 1523.52 Q1940.2 1525.65 1939.39 1527.57 Q1938.6 1529.47 1936.5 1532.07 Q1935.92 1532.74 1932.82 1535.95 Q1929.71 1539.15 1924.07 1544.91 Z\" fill=\"#000000\" fill-rule=\"evenodd\" fill-opacity=\"1\" /><path clip-path=\"url(#clip870)\" d=\"M1950.25 1514.29 L1968.6 1514.29 L1968.6 1518.22 L1954.53 1518.22 L1954.53 1526.7 Q1955.55 1526.35 1956.56 1526.19 Q1957.58 1526 1958.6 1526 Q1964.39 1526 1967.77 1529.17 Q1971.15 1532.34 1971.15 1537.76 Q1971.15 1543.34 1967.68 1546.44 Q1964.2 1549.52 1957.88 1549.52 Q1955.71 1549.52 1953.44 1549.15 Q1951.19 1548.78 1948.79 1548.04 L1948.79 1543.34 Q1950.87 1544.47 1953.09 1545.03 Q1955.32 1545.58 1957.79 1545.58 Q1961.8 1545.58 1964.13 1543.48 Q1966.47 1541.37 1966.47 1537.76 Q1966.47 1534.15 1964.13 1532.04 Q1961.8 1529.94 1957.79 1529.94 Q1955.92 1529.94 1954.04 1530.35 Q1952.19 1530.77 1950.25 1531.65 L1950.25 1514.29 Z\" fill=\"#000000\" fill-rule=\"evenodd\" fill-opacity=\"1\" /><path clip-path=\"url(#clip870)\" d=\"M2281.13 1530.21 Q2284.49 1530.93 2286.37 1533.2 Q2288.26 1535.47 2288.26 1538.8 Q2288.26 1543.92 2284.75 1546.72 Q2281.23 1549.52 2274.75 1549.52 Q2272.57 1549.52 2270.25 1549.08 Q2267.96 1548.66 2265.51 1547.81 L2265.51 1543.29 Q2267.45 1544.43 2269.77 1545.01 Q2272.08 1545.58 2274.61 1545.58 Q2279 1545.58 2281.3 1543.85 Q2283.61 1542.11 2283.61 1538.8 Q2283.61 1535.75 2281.46 1534.03 Q2279.33 1532.3 2275.51 1532.3 L2271.48 1532.3 L2271.48 1528.45 L2275.69 1528.45 Q2279.14 1528.45 2280.97 1527.09 Q2282.8 1525.7 2282.8 1523.11 Q2282.8 1520.45 2280.9 1519.03 Q2279.03 1517.6 2275.51 1517.6 Q2273.59 1517.6 2271.39 1518.01 Q2269.19 1518.43 2266.55 1519.31 L2266.55 1515.14 Q2269.21 1514.4 2271.53 1514.03 Q2273.87 1513.66 2275.93 1513.66 Q2281.25 1513.66 2284.35 1516.09 Q2287.45 1518.5 2287.45 1522.62 Q2287.45 1525.49 2285.81 1527.48 Q2284.17 1529.45 2281.13 1530.21 Z\" fill=\"#000000\" fill-rule=\"evenodd\" fill-opacity=\"1\" /><path clip-path=\"url(#clip870)\" d=\"M2307.13 1517.37 Q2303.52 1517.37 2301.69 1520.93 Q2299.88 1524.47 2299.88 1531.6 Q2299.88 1538.71 2301.69 1542.27 Q2303.52 1545.82 2307.13 1545.82 Q2310.76 1545.82 2312.57 1542.27 Q2314.4 1538.71 2314.4 1531.6 Q2314.4 1524.47 2312.57 1520.93 Q2310.76 1517.37 2307.13 1517.37 M2307.13 1513.66 Q2312.94 1513.66 2315.99 1518.27 Q2319.07 1522.85 2319.07 1531.6 Q2319.07 1540.33 2315.99 1544.94 Q2312.94 1549.52 2307.13 1549.52 Q2301.32 1549.52 2298.24 1544.94 Q2295.18 1540.33 2295.18 1531.6 Q2295.18 1522.85 2298.24 1518.27 Q2301.32 1513.66 2307.13 1513.66 Z\" fill=\"#000000\" fill-rule=\"evenodd\" fill-opacity=\"1\" /><polyline clip-path=\"url(#clip872)\" style=\"stroke:#000000; stroke-linecap:butt; stroke-linejoin:round; stroke-width:2; stroke-opacity:0.1; fill:none\" points=\"\n  216.343,1198.43 2352.76,1198.43 \n  \"/>\n<polyline clip-path=\"url(#clip872)\" style=\"stroke:#000000; stroke-linecap:butt; stroke-linejoin:round; stroke-width:2; stroke-opacity:0.1; fill:none\" points=\"\n  216.343,892.04 2352.76,892.04 \n  \"/>\n<polyline clip-path=\"url(#clip872)\" style=\"stroke:#000000; stroke-linecap:butt; stroke-linejoin:round; stroke-width:2; stroke-opacity:0.1; fill:none\" points=\"\n  216.343,585.654 2352.76,585.654 \n  \"/>\n<polyline clip-path=\"url(#clip872)\" style=\"stroke:#000000; stroke-linecap:butt; stroke-linejoin:round; stroke-width:2; stroke-opacity:0.1; fill:none\" points=\"\n  216.343,279.268 2352.76,279.268 \n  \"/>\n<polyline clip-path=\"url(#clip870)\" style=\"stroke:#000000; stroke-linecap:butt; stroke-linejoin:round; stroke-width:4; stroke-opacity:1; fill:none\" points=\"\n  216.343,1486.45 216.343,47.2441 \n  \"/>\n<polyline clip-path=\"url(#clip870)\" style=\"stroke:#000000; stroke-linecap:butt; stroke-linejoin:round; stroke-width:4; stroke-opacity:1; fill:none\" points=\"\n  216.343,1198.43 235.241,1198.43 \n  \"/>\n<polyline clip-path=\"url(#clip870)\" style=\"stroke:#000000; stroke-linecap:butt; stroke-linejoin:round; stroke-width:4; stroke-opacity:1; fill:none\" points=\"\n  216.343,892.04 235.241,892.04 \n  \"/>\n<polyline clip-path=\"url(#clip870)\" style=\"stroke:#000000; stroke-linecap:butt; stroke-linejoin:round; stroke-width:4; stroke-opacity:1; fill:none\" points=\"\n  216.343,585.654 235.241,585.654 \n  \"/>\n<polyline clip-path=\"url(#clip870)\" style=\"stroke:#000000; stroke-linecap:butt; stroke-linejoin:round; stroke-width:4; stroke-opacity:1; fill:none\" points=\"\n  216.343,279.268 235.241,279.268 \n  \"/>\n<path clip-path=\"url(#clip870)\" d=\"M63.0291 1184.22 Q59.418 1184.22 57.5893 1187.79 Q55.7838 1191.33 55.7838 1198.46 Q55.7838 1205.57 57.5893 1209.13 Q59.418 1212.67 63.0291 1212.67 Q66.6633 1212.67 68.4689 1209.13 Q70.2976 1205.57 70.2976 1198.46 Q70.2976 1191.33 68.4689 1187.79 Q66.6633 1184.22 63.0291 1184.22 M63.0291 1180.52 Q68.8393 1180.52 71.8948 1185.13 Q74.9735 1189.71 74.9735 1198.46 Q74.9735 1207.19 71.8948 1211.79 Q68.8393 1216.38 63.0291 1216.38 Q57.2189 1216.38 54.1403 1211.79 Q51.0847 1207.19 51.0847 1198.46 Q51.0847 1189.71 54.1403 1185.13 Q57.2189 1180.52 63.0291 1180.52 Z\" fill=\"#000000\" fill-rule=\"evenodd\" fill-opacity=\"1\" /><path clip-path=\"url(#clip870)\" d=\"M83.191 1209.83 L88.0753 1209.83 L88.0753 1215.71 L83.191 1215.71 L83.191 1209.83 Z\" fill=\"#000000\" fill-rule=\"evenodd\" fill-opacity=\"1\" /><path clip-path=\"url(#clip870)\" d=\"M102.288 1211.77 L118.608 1211.77 L118.608 1215.71 L96.6632 1215.71 L96.6632 1211.77 Q99.3252 1209.02 103.909 1204.39 Q108.515 1199.73 109.696 1198.39 Q111.941 1195.87 112.82 1194.13 Q113.723 1192.37 113.723 1190.68 Q113.723 1187.93 111.779 1186.19 Q109.858 1184.46 106.756 1184.46 Q104.557 1184.46 102.103 1185.22 Q99.6724 1185.98 96.8947 1187.54 L96.8947 1182.81 Q99.7187 1181.68 102.172 1181.1 Q104.626 1180.52 106.663 1180.52 Q112.033 1180.52 115.228 1183.21 Q118.422 1185.89 118.422 1190.38 Q118.422 1192.51 117.612 1194.43 Q116.825 1196.33 114.719 1198.92 Q114.14 1199.6 111.038 1202.81 Q107.936 1206.01 102.288 1211.77 Z\" fill=\"#000000\" fill-rule=\"evenodd\" fill-opacity=\"1\" /><path clip-path=\"url(#clip870)\" d=\"M141.269 1185.22 L129.464 1203.67 L141.269 1203.67 L141.269 1185.22 M140.043 1181.15 L145.922 1181.15 L145.922 1203.67 L150.853 1203.67 L150.853 1207.56 L145.922 1207.56 L145.922 1215.71 L141.269 1215.71 L141.269 1207.56 L125.668 1207.56 L125.668 1203.04 L140.043 1181.15 Z\" fill=\"#000000\" fill-rule=\"evenodd\" fill-opacity=\"1\" /><path clip-path=\"url(#clip870)\" d=\"M158.723 1214.99 L158.723 1210.73 Q160.482 1211.56 162.288 1212 Q164.093 1212.44 165.829 1212.44 Q170.459 1212.44 172.89 1209.34 Q175.343 1206.22 175.691 1199.87 Q174.348 1201.86 172.288 1202.93 Q170.228 1203.99 167.728 1203.99 Q162.542 1203.99 159.51 1200.87 Q156.501 1197.72 156.501 1192.28 Q156.501 1186.96 159.649 1183.74 Q162.797 1180.52 168.029 1180.52 Q174.024 1180.52 177.172 1185.13 Q180.343 1189.71 180.343 1198.46 Q180.343 1206.63 176.454 1211.52 Q172.589 1216.38 166.038 1216.38 Q164.279 1216.38 162.473 1216.03 Q160.667 1215.68 158.723 1214.99 M168.029 1200.34 Q171.177 1200.34 173.005 1198.18 Q174.857 1196.03 174.857 1192.28 Q174.857 1188.55 173.005 1186.4 Q171.177 1184.22 168.029 1184.22 Q164.88 1184.22 163.029 1186.4 Q161.2 1188.55 161.2 1192.28 Q161.2 1196.03 163.029 1198.18 Q164.88 1200.34 168.029 1200.34 Z\" fill=\"#000000\" fill-rule=\"evenodd\" fill-opacity=\"1\" /><path clip-path=\"url(#clip870)\" d=\"M64.4411 877.839 Q60.83 877.839 59.0013 881.403 Q57.1958 884.945 57.1958 892.075 Q57.1958 899.181 59.0013 902.746 Q60.83 906.288 64.4411 906.288 Q68.0754 906.288 69.8809 902.746 Q71.7096 899.181 71.7096 892.075 Q71.7096 884.945 69.8809 881.403 Q68.0754 877.839 64.4411 877.839 M64.4411 874.135 Q70.2513 874.135 73.3068 878.741 Q76.3855 883.325 76.3855 892.075 Q76.3855 900.802 73.3068 905.408 Q70.2513 909.991 64.4411 909.991 Q58.631 909.991 55.5523 905.408 Q52.4967 900.802 52.4967 892.075 Q52.4967 883.325 55.5523 878.741 Q58.631 874.135 64.4411 874.135 Z\" fill=\"#000000\" fill-rule=\"evenodd\" fill-opacity=\"1\" /><path clip-path=\"url(#clip870)\" d=\"M84.6031 903.44 L89.4873 903.44 L89.4873 909.32 L84.6031 909.32 L84.6031 903.44 Z\" fill=\"#000000\" fill-rule=\"evenodd\" fill-opacity=\"1\" /><path clip-path=\"url(#clip870)\" d=\"M103.7 905.385 L120.02 905.385 L120.02 909.32 L98.0752 909.32 L98.0752 905.385 Q100.737 902.63 105.321 898.001 Q109.927 893.348 111.108 892.005 Q113.353 889.482 114.233 887.746 Q115.135 885.987 115.135 884.297 Q115.135 881.542 113.191 879.806 Q111.27 878.07 108.168 878.07 Q105.969 878.07 103.515 878.834 Q101.084 879.598 98.3067 881.149 L98.3067 876.427 Q101.131 875.292 103.584 874.714 Q106.038 874.135 108.075 874.135 Q113.445 874.135 116.64 876.82 Q119.834 879.505 119.834 883.996 Q119.834 886.126 119.024 888.047 Q118.237 889.945 116.131 892.538 Q115.552 893.209 112.45 896.427 Q109.348 899.621 103.7 905.385 Z\" fill=\"#000000\" fill-rule=\"evenodd\" fill-opacity=\"1\" /><path clip-path=\"url(#clip870)\" d=\"M129.881 874.76 L148.237 874.76 L148.237 878.695 L134.163 878.695 L134.163 887.167 Q135.181 886.82 136.2 886.658 Q137.219 886.473 138.237 886.473 Q144.024 886.473 147.404 889.644 Q150.783 892.815 150.783 898.232 Q150.783 903.811 147.311 906.913 Q143.839 909.991 137.519 909.991 Q135.344 909.991 133.075 909.621 Q130.83 909.251 128.422 908.51 L128.422 903.811 Q130.506 904.945 132.728 905.501 Q134.95 906.056 137.427 906.056 Q141.431 906.056 143.769 903.95 Q146.107 901.843 146.107 898.232 Q146.107 894.621 143.769 892.515 Q141.431 890.408 137.427 890.408 Q135.552 890.408 133.677 890.825 Q131.825 891.241 129.881 892.121 L129.881 874.76 Z\" fill=\"#000000\" fill-rule=\"evenodd\" fill-opacity=\"1\" /><path clip-path=\"url(#clip870)\" d=\"M164.024 905.385 L180.343 905.385 L180.343 909.32 L158.399 909.32 L158.399 905.385 Q161.061 902.63 165.644 898.001 Q170.251 893.348 171.431 892.005 Q173.677 889.482 174.556 887.746 Q175.459 885.987 175.459 884.297 Q175.459 881.542 173.515 879.806 Q171.593 878.07 168.491 878.07 Q166.292 878.07 163.839 878.834 Q161.408 879.598 158.63 881.149 L158.63 876.427 Q161.454 875.292 163.908 874.714 Q166.362 874.135 168.399 874.135 Q173.769 874.135 176.964 876.82 Q180.158 879.505 180.158 883.996 Q180.158 886.126 179.348 888.047 Q178.561 889.945 176.454 892.538 Q175.876 893.209 172.774 896.427 Q169.672 899.621 164.024 905.385 Z\" fill=\"#000000\" fill-rule=\"evenodd\" fill-opacity=\"1\" /><path clip-path=\"url(#clip870)\" d=\"M63.8393 571.452 Q60.2282 571.452 58.3995 575.017 Q56.5939 578.559 56.5939 585.689 Q56.5939 592.795 58.3995 596.36 Q60.2282 599.901 63.8393 599.901 Q67.4735 599.901 69.2791 596.36 Q71.1078 592.795 71.1078 585.689 Q71.1078 578.559 69.2791 575.017 Q67.4735 571.452 63.8393 571.452 M63.8393 567.749 Q69.6494 567.749 72.705 572.355 Q75.7837 576.939 75.7837 585.689 Q75.7837 594.415 72.705 599.022 Q69.6494 603.605 63.8393 603.605 Q58.0291 603.605 54.9504 599.022 Q51.8949 594.415 51.8949 585.689 Q51.8949 576.939 54.9504 572.355 Q58.0291 567.749 63.8393 567.749 Z\" fill=\"#000000\" fill-rule=\"evenodd\" fill-opacity=\"1\" /><path clip-path=\"url(#clip870)\" d=\"M84.0012 597.054 L88.8854 597.054 L88.8854 602.934 L84.0012 602.934 L84.0012 597.054 Z\" fill=\"#000000\" fill-rule=\"evenodd\" fill-opacity=\"1\" /><path clip-path=\"url(#clip870)\" d=\"M103.098 598.999 L119.418 598.999 L119.418 602.934 L97.4734 602.934 L97.4734 598.999 Q100.135 596.244 104.719 591.614 Q109.325 586.962 110.506 585.619 Q112.751 583.096 113.631 581.36 Q114.533 579.601 114.533 577.911 Q114.533 575.156 112.589 573.42 Q110.668 571.684 107.566 571.684 Q105.367 571.684 102.913 572.448 Q100.483 573.212 97.7048 574.763 L97.7048 570.04 Q100.529 568.906 102.983 568.327 Q105.436 567.749 107.473 567.749 Q112.844 567.749 116.038 570.434 Q119.233 573.119 119.233 577.61 Q119.233 579.739 118.422 581.661 Q117.635 583.559 115.529 586.151 Q114.95 586.823 111.848 590.04 Q108.746 593.235 103.098 598.999 Z\" fill=\"#000000\" fill-rule=\"evenodd\" fill-opacity=\"1\" /><path clip-path=\"url(#clip870)\" d=\"M129.279 568.374 L147.635 568.374 L147.635 572.309 L133.561 572.309 L133.561 580.781 Q134.58 580.434 135.598 580.272 Q136.617 580.087 137.635 580.087 Q143.422 580.087 146.802 583.258 Q150.181 586.429 150.181 591.846 Q150.181 597.425 146.709 600.526 Q143.237 603.605 136.918 603.605 Q134.742 603.605 132.473 603.235 Q130.228 602.864 127.82 602.124 L127.82 597.425 Q129.904 598.559 132.126 599.114 Q134.348 599.67 136.825 599.67 Q140.83 599.67 143.168 597.563 Q145.506 595.457 145.506 591.846 Q145.506 588.235 143.168 586.128 Q140.83 584.022 136.825 584.022 Q134.95 584.022 133.075 584.439 Q131.223 584.855 129.279 585.735 L129.279 568.374 Z\" fill=\"#000000\" fill-rule=\"evenodd\" fill-opacity=\"1\" /><path clip-path=\"url(#clip870)\" d=\"M159.441 568.374 L177.797 568.374 L177.797 572.309 L163.723 572.309 L163.723 580.781 Q164.742 580.434 165.76 580.272 Q166.779 580.087 167.797 580.087 Q173.584 580.087 176.964 583.258 Q180.343 586.429 180.343 591.846 Q180.343 597.425 176.871 600.526 Q173.399 603.605 167.079 603.605 Q164.904 603.605 162.635 603.235 Q160.39 602.864 157.982 602.124 L157.982 597.425 Q160.066 598.559 162.288 599.114 Q164.51 599.67 166.987 599.67 Q170.991 599.67 173.329 597.563 Q175.667 595.457 175.667 591.846 Q175.667 588.235 173.329 586.128 Q170.991 584.022 166.987 584.022 Q165.112 584.022 163.237 584.439 Q161.385 584.855 159.441 585.735 L159.441 568.374 Z\" fill=\"#000000\" fill-rule=\"evenodd\" fill-opacity=\"1\" /><path clip-path=\"url(#clip870)\" d=\"M62.9365 265.066 Q59.3254 265.066 57.4967 268.631 Q55.6912 272.173 55.6912 279.302 Q55.6912 286.409 57.4967 289.974 Q59.3254 293.515 62.9365 293.515 Q66.5707 293.515 68.3763 289.974 Q70.205 286.409 70.205 279.302 Q70.205 272.173 68.3763 268.631 Q66.5707 265.066 62.9365 265.066 M62.9365 261.363 Q68.7467 261.363 71.8022 265.969 Q74.8809 270.552 74.8809 279.302 Q74.8809 288.029 71.8022 292.636 Q68.7467 297.219 62.9365 297.219 Q57.1264 297.219 54.0477 292.636 Q50.9921 288.029 50.9921 279.302 Q50.9921 270.552 54.0477 265.969 Q57.1264 261.363 62.9365 261.363 Z\" fill=\"#000000\" fill-rule=\"evenodd\" fill-opacity=\"1\" /><path clip-path=\"url(#clip870)\" d=\"M83.0984 290.668 L87.9827 290.668 L87.9827 296.548 L83.0984 296.548 L83.0984 290.668 Z\" fill=\"#000000\" fill-rule=\"evenodd\" fill-opacity=\"1\" /><path clip-path=\"url(#clip870)\" d=\"M102.196 292.612 L118.515 292.612 L118.515 296.548 L96.5706 296.548 L96.5706 292.612 Q99.2326 289.858 103.816 285.228 Q108.422 280.575 109.603 279.233 Q111.848 276.71 112.728 274.974 Q113.631 273.214 113.631 271.525 Q113.631 268.77 111.686 267.034 Q109.765 265.298 106.663 265.298 Q104.464 265.298 102.01 266.062 Q99.5798 266.826 96.8021 268.376 L96.8021 263.654 Q99.6261 262.52 102.08 261.941 Q104.534 261.363 106.571 261.363 Q111.941 261.363 115.135 264.048 Q118.33 266.733 118.33 271.224 Q118.33 273.353 117.52 275.275 Q116.733 277.173 114.626 279.765 Q114.047 280.437 110.946 283.654 Q107.844 286.849 102.196 292.612 Z\" fill=\"#000000\" fill-rule=\"evenodd\" fill-opacity=\"1\" /><path clip-path=\"url(#clip870)\" d=\"M128.376 261.988 L146.732 261.988 L146.732 265.923 L132.658 265.923 L132.658 274.395 Q133.677 274.048 134.695 273.886 Q135.714 273.7 136.732 273.7 Q142.519 273.7 145.899 276.872 Q149.279 280.043 149.279 285.46 Q149.279 291.038 145.806 294.14 Q142.334 297.219 136.015 297.219 Q133.839 297.219 131.57 296.849 Q129.325 296.478 126.918 295.737 L126.918 291.038 Q129.001 292.173 131.223 292.728 Q133.445 293.284 135.922 293.284 Q139.927 293.284 142.265 291.177 Q144.603 289.071 144.603 285.46 Q144.603 281.849 142.265 279.742 Q139.927 277.636 135.922 277.636 Q134.047 277.636 132.172 278.052 Q130.32 278.469 128.376 279.349 L128.376 261.988 Z\" fill=\"#000000\" fill-rule=\"evenodd\" fill-opacity=\"1\" /><path clip-path=\"url(#clip870)\" d=\"M168.491 280.136 Q165.158 280.136 163.237 281.918 Q161.339 283.7 161.339 286.825 Q161.339 289.95 163.237 291.733 Q165.158 293.515 168.491 293.515 Q171.825 293.515 173.746 291.733 Q175.667 289.927 175.667 286.825 Q175.667 283.7 173.746 281.918 Q171.848 280.136 168.491 280.136 M163.816 278.145 Q160.806 277.404 159.117 275.344 Q157.45 273.284 157.45 270.321 Q157.45 266.177 160.39 263.77 Q163.353 261.363 168.491 261.363 Q173.654 261.363 176.593 263.77 Q179.533 266.177 179.533 270.321 Q179.533 273.284 177.843 275.344 Q176.177 277.404 173.191 278.145 Q176.57 278.932 178.445 281.224 Q180.343 283.515 180.343 286.825 Q180.343 291.849 177.265 294.534 Q174.209 297.219 168.491 297.219 Q162.774 297.219 159.695 294.534 Q156.64 291.849 156.64 286.825 Q156.64 283.515 158.538 281.224 Q160.436 278.932 163.816 278.145 M162.103 270.761 Q162.103 273.446 163.769 274.95 Q165.459 276.455 168.491 276.455 Q171.501 276.455 173.191 274.95 Q174.903 273.446 174.903 270.761 Q174.903 268.076 173.191 266.571 Q171.501 265.066 168.491 265.066 Q165.459 265.066 163.769 266.571 Q162.103 268.076 162.103 270.761 Z\" fill=\"#000000\" fill-rule=\"evenodd\" fill-opacity=\"1\" /><polyline clip-path=\"url(#clip872)\" style=\"stroke:#e26f46; stroke-linecap:butt; stroke-linejoin:round; stroke-width:4; stroke-opacity:1; fill:none\" points=\"\n  276.808,868.106 346.307,1043.53 415.807,1010.73 485.306,916.597 554.806,107.943 624.305,251.989 693.804,431.69 763.304,1331.62 832.803,518.688 902.303,122.205 \n  971.802,838.156 1041.3,534.376 1110.8,87.9763 1180.3,762.567 1249.8,182.105 1319.3,548.638 1388.8,340.413 1458.3,443.099 1527.8,463.066 1597.3,243.432 \n  1666.8,140.746 1736.3,833.877 1805.8,531.524 1875.29,1003.59 1944.79,336.135 2014.29,752.584 2083.79,232.022 2153.29,746.879 2222.79,1445.72 2292.29,1283.13 \n  \n  \"/>\n<path clip-path=\"url(#clip870)\" d=\"\nM1620.48 250.738 L2281.54 250.738 L2281.54 95.2176 L1620.48 95.2176  Z\n  \" fill=\"#ffffff\" fill-rule=\"evenodd\" fill-opacity=\"1\"/>\n<polyline clip-path=\"url(#clip870)\" style=\"stroke:#000000; stroke-linecap:butt; stroke-linejoin:round; stroke-width:4; stroke-opacity:1; fill:none\" points=\"\n  1620.48,250.738 2281.54,250.738 2281.54,95.2176 1620.48,95.2176 1620.48,250.738 \n  \"/>\n<polyline clip-path=\"url(#clip870)\" style=\"stroke:#009af9; stroke-linecap:butt; stroke-linejoin:round; stroke-width:4; stroke-opacity:1; fill:none\" points=\"\n  1644.48,147.058 1788.48,147.058 \n  \"/>\n<path clip-path=\"url(#clip870)\" d=\"M1812.48 128.319 L1822.29 128.319 L1822.29 131.629 L1816.74 131.629 L1816.74 167.277 L1822.29 167.277 L1822.29 170.588 L1812.48 170.588 L1812.48 128.319 Z\" fill=\"#000000\" fill-rule=\"evenodd\" fill-opacity=\"1\" /><path clip-path=\"url(#clip870)\" d=\"M1835.4 129.778 L1835.4 142.625 L1831.46 142.625 L1831.46 129.778 L1835.4 129.778 M1844.15 129.778 L1844.15 142.625 L1840.21 142.625 L1840.21 129.778 L1844.15 129.778 Z\" fill=\"#000000\" fill-rule=\"evenodd\" fill-opacity=\"1\" /><path clip-path=\"url(#clip870)\" d=\"M1848.57 129.778 L1877.8 129.778 L1877.8 133.713 L1865.53 133.713 L1865.53 164.338 L1860.84 164.338 L1860.84 133.713 L1848.57 133.713 L1848.57 129.778 Z\" fill=\"#000000\" fill-rule=\"evenodd\" fill-opacity=\"1\" /><path clip-path=\"url(#clip870)\" d=\"M1890.19 142.393 Q1889.47 141.977 1888.61 141.791 Q1887.78 141.583 1886.76 141.583 Q1883.15 141.583 1881.21 143.944 Q1879.28 146.282 1879.28 150.68 L1879.28 164.338 L1875 164.338 L1875 138.412 L1879.28 138.412 L1879.28 142.44 Q1880.63 140.078 1882.78 138.944 Q1884.93 137.787 1888.01 137.787 Q1888.45 137.787 1888.98 137.856 Q1889.52 137.903 1890.16 138.018 L1890.19 142.393 Z\" fill=\"#000000\" fill-rule=\"evenodd\" fill-opacity=\"1\" /><path clip-path=\"url(#clip870)\" d=\"M1906.44 151.305 Q1901.28 151.305 1899.28 152.486 Q1897.29 153.666 1897.29 156.514 Q1897.29 158.782 1898.78 160.125 Q1900.28 161.444 1902.85 161.444 Q1906.39 161.444 1908.52 158.944 Q1910.67 156.421 1910.67 152.254 L1910.67 151.305 L1906.44 151.305 M1914.93 149.546 L1914.93 164.338 L1910.67 164.338 L1910.67 160.402 Q1909.22 162.763 1907.04 163.898 Q1904.86 165.009 1901.72 165.009 Q1897.73 165.009 1895.37 162.787 Q1893.03 160.541 1893.03 156.791 Q1893.03 152.416 1895.95 150.194 Q1898.89 147.972 1904.7 147.972 L1910.67 147.972 L1910.67 147.555 Q1910.67 144.615 1908.73 143.018 Q1906.81 141.398 1903.31 141.398 Q1901.09 141.398 1898.98 141.93 Q1896.88 142.463 1894.93 143.527 L1894.93 139.592 Q1897.27 138.69 1899.47 138.25 Q1901.67 137.787 1903.75 137.787 Q1909.38 137.787 1912.15 140.703 Q1914.93 143.62 1914.93 149.546 Z\" fill=\"#000000\" fill-rule=\"evenodd\" fill-opacity=\"1\" /><path clip-path=\"url(#clip870)\" d=\"M1923.71 138.412 L1927.97 138.412 L1927.97 164.338 L1923.71 164.338 L1923.71 138.412 M1923.71 128.319 L1927.97 128.319 L1927.97 133.713 L1923.71 133.713 L1923.71 128.319 Z\" fill=\"#000000\" fill-rule=\"evenodd\" fill-opacity=\"1\" /><path clip-path=\"url(#clip870)\" d=\"M1958.43 148.689 L1958.43 164.338 L1954.17 164.338 L1954.17 148.828 Q1954.17 145.148 1952.73 143.319 Q1951.3 141.49 1948.43 141.49 Q1944.98 141.49 1942.99 143.69 Q1941 145.889 1941 149.685 L1941 164.338 L1936.72 164.338 L1936.72 138.412 L1941 138.412 L1941 142.44 Q1942.53 140.102 1944.59 138.944 Q1946.67 137.787 1949.38 137.787 Q1953.84 137.787 1956.14 140.565 Q1958.43 143.319 1958.43 148.689 Z\" fill=\"#000000\" fill-rule=\"evenodd\" fill-opacity=\"1\" /><path clip-path=\"url(#clip870)\" d=\"M1966.92 138.412 L1971.18 138.412 L1971.18 164.338 L1966.92 164.338 L1966.92 138.412 M1966.92 128.319 L1971.18 128.319 L1971.18 133.713 L1966.92 133.713 L1966.92 128.319 Z\" fill=\"#000000\" fill-rule=\"evenodd\" fill-opacity=\"1\" /><path clip-path=\"url(#clip870)\" d=\"M2001.65 148.689 L2001.65 164.338 L1997.39 164.338 L1997.39 148.828 Q1997.39 145.148 1995.95 143.319 Q1994.52 141.49 1991.65 141.49 Q1988.2 141.49 1986.21 143.69 Q1984.21 145.889 1984.21 149.685 L1984.21 164.338 L1979.93 164.338 L1979.93 138.412 L1984.21 138.412 L1984.21 142.44 Q1985.74 140.102 1987.8 138.944 Q1989.89 137.787 1992.59 137.787 Q1997.06 137.787 1999.35 140.565 Q2001.65 143.319 2001.65 148.689 Z\" fill=\"#000000\" fill-rule=\"evenodd\" fill-opacity=\"1\" /><path clip-path=\"url(#clip870)\" d=\"M2027.2 151.074 Q2027.2 146.444 2025.28 143.898 Q2023.38 141.352 2019.93 141.352 Q2016.51 141.352 2014.58 143.898 Q2012.69 146.444 2012.69 151.074 Q2012.69 155.68 2014.58 158.226 Q2016.51 160.773 2019.93 160.773 Q2023.38 160.773 2025.28 158.226 Q2027.2 155.68 2027.2 151.074 M2031.46 161.12 Q2031.46 167.74 2028.52 170.958 Q2025.58 174.199 2019.52 174.199 Q2017.27 174.199 2015.28 173.851 Q2013.29 173.527 2011.41 172.833 L2011.41 168.689 Q2013.29 169.708 2015.12 170.194 Q2016.95 170.68 2018.84 170.68 Q2023.03 170.68 2025.12 168.481 Q2027.2 166.305 2027.2 161.884 L2027.2 159.777 Q2025.88 162.069 2023.82 163.203 Q2021.76 164.338 2018.89 164.338 Q2014.12 164.338 2011.21 160.703 Q2008.29 157.069 2008.29 151.074 Q2008.29 145.055 2011.21 141.421 Q2014.12 137.787 2018.89 137.787 Q2021.76 137.787 2023.82 138.921 Q2025.88 140.055 2027.2 142.347 L2027.2 138.412 L2031.46 138.412 L2031.46 161.12 Z\" fill=\"#000000\" fill-rule=\"evenodd\" fill-opacity=\"1\" /><path clip-path=\"url(#clip870)\" d=\"M2071.88 148.134 Q2073.38 148.643 2074.79 150.31 Q2076.23 151.977 2077.66 154.893 L2082.41 164.338 L2077.39 164.338 L2072.96 155.472 Q2071.25 152 2069.63 150.865 Q2068.03 149.731 2065.26 149.731 L2060.16 149.731 L2060.16 164.338 L2055.49 164.338 L2055.49 129.778 L2066.04 129.778 Q2071.97 129.778 2074.89 132.254 Q2077.8 134.731 2077.8 139.731 Q2077.8 142.995 2076.27 145.148 Q2074.77 147.301 2071.88 148.134 M2060.16 133.62 L2060.16 145.889 L2066.04 145.889 Q2069.42 145.889 2071.14 144.338 Q2072.87 142.764 2072.87 139.731 Q2072.87 136.699 2071.14 135.171 Q2069.42 133.62 2066.04 133.62 L2060.16 133.62 Z\" fill=\"#000000\" fill-rule=\"evenodd\" fill-opacity=\"1\" /><path clip-path=\"url(#clip870)\" d=\"M2108.29 150.31 L2108.29 152.393 L2088.7 152.393 Q2088.98 156.791 2091.34 159.106 Q2093.73 161.398 2097.96 161.398 Q2100.42 161.398 2102.71 160.796 Q2105.02 160.194 2107.29 158.99 L2107.29 163.018 Q2105 163.99 2102.59 164.5 Q2100.19 165.009 2097.71 165.009 Q2091.51 165.009 2087.87 161.398 Q2084.26 157.787 2084.26 151.629 Q2084.26 145.264 2087.69 141.537 Q2091.14 137.787 2096.97 137.787 Q2102.2 137.787 2105.23 141.166 Q2108.29 144.523 2108.29 150.31 M2104.03 149.06 Q2103.98 145.565 2102.06 143.481 Q2100.16 141.398 2097.02 141.398 Q2093.45 141.398 2091.3 143.412 Q2089.17 145.426 2088.84 149.083 L2104.03 149.06 Z\" fill=\"#000000\" fill-rule=\"evenodd\" fill-opacity=\"1\" /><path clip-path=\"url(#clip870)\" d=\"M2131.81 139.176 L2131.81 143.203 Q2130 142.277 2128.06 141.815 Q2126.11 141.352 2124.03 141.352 Q2120.86 141.352 2119.26 142.324 Q2117.69 143.296 2117.69 145.24 Q2117.69 146.722 2118.82 147.578 Q2119.95 148.412 2123.38 149.176 L2124.84 149.5 Q2129.38 150.472 2131.27 152.254 Q2133.2 154.014 2133.2 157.185 Q2133.2 160.796 2130.33 162.902 Q2127.48 165.009 2122.48 165.009 Q2120.39 165.009 2118.13 164.592 Q2115.88 164.199 2113.38 163.388 L2113.38 158.99 Q2115.74 160.217 2118.03 160.842 Q2120.33 161.444 2122.57 161.444 Q2125.58 161.444 2127.2 160.426 Q2128.82 159.384 2128.82 157.509 Q2128.82 155.773 2127.64 154.847 Q2126.48 153.921 2122.52 153.064 L2121.04 152.717 Q2117.08 151.884 2115.33 150.171 Q2113.57 148.435 2113.57 145.426 Q2113.57 141.768 2116.16 139.778 Q2118.75 137.787 2123.52 137.787 Q2125.88 137.787 2127.96 138.134 Q2130.05 138.481 2131.81 139.176 Z\" fill=\"#000000\" fill-rule=\"evenodd\" fill-opacity=\"1\" /><path clip-path=\"url(#clip870)\" d=\"M2139.54 154.106 L2139.54 138.412 L2143.8 138.412 L2143.8 153.944 Q2143.8 157.625 2145.23 159.476 Q2146.67 161.305 2149.54 161.305 Q2152.99 161.305 2154.98 159.106 Q2156.99 156.907 2156.99 153.111 L2156.99 138.412 L2161.25 138.412 L2161.25 164.338 L2156.99 164.338 L2156.99 160.356 Q2155.44 162.717 2153.38 163.875 Q2151.34 165.009 2148.64 165.009 Q2144.17 165.009 2141.85 162.231 Q2139.54 159.453 2139.54 154.106 M2150.26 137.787 L2150.26 137.787 Z\" fill=\"#000000\" fill-rule=\"evenodd\" fill-opacity=\"1\" /><path clip-path=\"url(#clip870)\" d=\"M2170.02 128.319 L2174.28 128.319 L2174.28 164.338 L2170.02 164.338 L2170.02 128.319 Z\" fill=\"#000000\" fill-rule=\"evenodd\" fill-opacity=\"1\" /><path clip-path=\"url(#clip870)\" d=\"M2187.41 131.051 L2187.41 138.412 L2196.18 138.412 L2196.18 141.722 L2187.41 141.722 L2187.41 155.796 Q2187.41 158.967 2188.26 159.87 Q2189.14 160.773 2191.81 160.773 L2196.18 160.773 L2196.18 164.338 L2191.81 164.338 Q2186.88 164.338 2185 162.509 Q2183.13 160.657 2183.13 155.796 L2183.13 141.722 L2180 141.722 L2180 138.412 L2183.13 138.412 L2183.13 131.051 L2187.41 131.051 Z\" fill=\"#000000\" fill-rule=\"evenodd\" fill-opacity=\"1\" /><path clip-path=\"url(#clip870)\" d=\"M2205.81 129.778 L2205.81 142.625 L2201.88 142.625 L2201.88 129.778 L2205.81 129.778 M2214.56 129.778 L2214.56 142.625 L2210.63 142.625 L2210.63 129.778 L2214.56 129.778 Z\" fill=\"#000000\" fill-rule=\"evenodd\" fill-opacity=\"1\" /><path clip-path=\"url(#clip870)\" d=\"M2233.54 128.319 L2233.54 170.588 L2223.73 170.588 L2223.73 167.277 L2229.26 167.277 L2229.26 131.629 L2223.73 131.629 L2223.73 128.319 L2233.54 128.319 Z\" fill=\"#000000\" fill-rule=\"evenodd\" fill-opacity=\"1\" /><polyline clip-path=\"url(#clip870)\" style=\"stroke:#e26f46; stroke-linecap:butt; stroke-linejoin:round; stroke-width:4; stroke-opacity:1; fill:none\" points=\"\n  1644.48,198.898 1788.48,198.898 \n  \"/>\n<path clip-path=\"url(#clip870)\" d=\"M1812.48 180.159 L1822.29 180.159 L1822.29 183.469 L1816.74 183.469 L1816.74 219.117 L1822.29 219.117 L1822.29 222.428 L1812.48 222.428 L1812.48 180.159 Z\" fill=\"#000000\" fill-rule=\"evenodd\" fill-opacity=\"1\" /><path clip-path=\"url(#clip870)\" d=\"M1835.4 181.618 L1835.4 194.465 L1831.46 194.465 L1831.46 181.618 L1835.4 181.618 M1844.15 181.618 L1844.15 194.465 L1840.21 194.465 L1840.21 181.618 L1844.15 181.618 Z\" fill=\"#000000\" fill-rule=\"evenodd\" fill-opacity=\"1\" /><path clip-path=\"url(#clip870)\" d=\"M1848.57 181.618 L1877.8 181.618 L1877.8 185.553 L1865.53 185.553 L1865.53 216.178 L1860.84 216.178 L1860.84 185.553 L1848.57 185.553 L1848.57 181.618 Z\" fill=\"#000000\" fill-rule=\"evenodd\" fill-opacity=\"1\" /><path clip-path=\"url(#clip870)\" d=\"M1896.25 202.15 L1896.25 204.233 L1876.67 204.233 Q1876.95 208.631 1879.31 210.946 Q1881.69 213.238 1885.93 213.238 Q1888.38 213.238 1890.67 212.636 Q1892.99 212.034 1895.26 210.83 L1895.26 214.858 Q1892.97 215.83 1890.56 216.34 Q1888.15 216.849 1885.67 216.849 Q1879.47 216.849 1875.84 213.238 Q1872.22 209.627 1872.22 203.469 Q1872.22 197.104 1875.65 193.377 Q1879.1 189.627 1884.93 189.627 Q1890.16 189.627 1893.2 193.006 Q1896.25 196.363 1896.25 202.15 M1891.99 200.9 Q1891.95 197.405 1890.03 195.321 Q1888.13 193.238 1884.98 193.238 Q1881.41 193.238 1879.26 195.252 Q1877.13 197.266 1876.81 200.923 L1891.99 200.9 Z\" fill=\"#000000\" fill-rule=\"evenodd\" fill-opacity=\"1\" /><path clip-path=\"url(#clip870)\" d=\"M1919.77 191.016 L1919.77 195.043 Q1917.97 194.117 1916.02 193.655 Q1914.08 193.192 1911.99 193.192 Q1908.82 193.192 1907.22 194.164 Q1905.65 195.136 1905.65 197.08 Q1905.65 198.562 1906.78 199.418 Q1907.92 200.252 1911.34 201.016 L1912.8 201.34 Q1917.34 202.312 1919.24 204.094 Q1921.16 205.854 1921.16 209.025 Q1921.16 212.636 1918.29 214.742 Q1915.44 216.849 1910.44 216.849 Q1908.36 216.849 1906.09 216.432 Q1903.84 216.039 1901.34 215.228 L1901.34 210.83 Q1903.71 212.057 1906 212.682 Q1908.29 213.284 1910.53 213.284 Q1913.54 213.284 1915.16 212.266 Q1916.78 211.224 1916.78 209.349 Q1916.78 207.613 1915.6 206.687 Q1914.45 205.761 1910.49 204.904 L1909.01 204.557 Q1905.05 203.724 1903.29 202.011 Q1901.53 200.275 1901.53 197.266 Q1901.53 193.608 1904.12 191.618 Q1906.72 189.627 1911.48 189.627 Q1913.84 189.627 1915.93 189.974 Q1918.01 190.321 1919.77 191.016 Z\" fill=\"#000000\" fill-rule=\"evenodd\" fill-opacity=\"1\" /><path clip-path=\"url(#clip870)\" d=\"M1932.15 182.891 L1932.15 190.252 L1940.93 190.252 L1940.93 193.562 L1932.15 193.562 L1932.15 207.636 Q1932.15 210.807 1933.01 211.71 Q1933.89 212.613 1936.55 212.613 L1940.93 212.613 L1940.93 216.178 L1936.55 216.178 Q1931.62 216.178 1929.75 214.349 Q1927.87 212.497 1927.87 207.636 L1927.87 193.562 L1924.75 193.562 L1924.75 190.252 L1927.87 190.252 L1927.87 182.891 L1932.15 182.891 Z\" fill=\"#000000\" fill-rule=\"evenodd\" fill-opacity=\"1\" /><path clip-path=\"url(#clip870)\" d=\"M1946.53 190.252 L1950.79 190.252 L1950.79 216.178 L1946.53 216.178 L1946.53 190.252 M1946.53 180.159 L1950.79 180.159 L1950.79 185.553 L1946.53 185.553 L1946.53 180.159 Z\" fill=\"#000000\" fill-rule=\"evenodd\" fill-opacity=\"1\" /><path clip-path=\"url(#clip870)\" d=\"M1981.25 200.529 L1981.25 216.178 L1976.99 216.178 L1976.99 200.668 Q1976.99 196.988 1975.56 195.159 Q1974.12 193.33 1971.25 193.33 Q1967.8 193.33 1965.81 195.53 Q1963.82 197.729 1963.82 201.525 L1963.82 216.178 L1959.54 216.178 L1959.54 190.252 L1963.82 190.252 L1963.82 194.28 Q1965.35 191.942 1967.41 190.784 Q1969.49 189.627 1972.2 189.627 Q1976.67 189.627 1978.96 192.405 Q1981.25 195.159 1981.25 200.529 Z\" fill=\"#000000\" fill-rule=\"evenodd\" fill-opacity=\"1\" /><path clip-path=\"url(#clip870)\" d=\"M2006.81 202.914 Q2006.81 198.284 2004.89 195.738 Q2002.99 193.192 1999.54 193.192 Q1996.11 193.192 1994.19 195.738 Q1992.29 198.284 1992.29 202.914 Q1992.29 207.52 1994.19 210.066 Q1996.11 212.613 1999.54 212.613 Q2002.99 212.613 2004.89 210.066 Q2006.81 207.52 2006.81 202.914 M2011.07 212.96 Q2011.07 219.58 2008.13 222.798 Q2005.19 226.039 1999.12 226.039 Q1996.88 226.039 1994.89 225.691 Q1992.9 225.367 1991.02 224.673 L1991.02 220.529 Q1992.9 221.548 1994.72 222.034 Q1996.55 222.52 1998.45 222.52 Q2002.64 222.52 2004.72 220.321 Q2006.81 218.145 2006.81 213.724 L2006.81 211.617 Q2005.49 213.909 2003.43 215.043 Q2001.37 216.178 1998.5 216.178 Q1993.73 216.178 1990.81 212.543 Q1987.9 208.909 1987.9 202.914 Q1987.9 196.895 1990.81 193.261 Q1993.73 189.627 1998.5 189.627 Q2001.37 189.627 2003.43 190.761 Q2005.49 191.895 2006.81 194.187 L2006.81 190.252 L2011.07 190.252 L2011.07 212.96 Z\" fill=\"#000000\" fill-rule=\"evenodd\" fill-opacity=\"1\" /><path clip-path=\"url(#clip870)\" d=\"M2051.48 199.974 Q2052.99 200.483 2054.4 202.15 Q2055.83 203.817 2057.27 206.733 L2062.02 216.178 L2056.99 216.178 L2052.57 207.312 Q2050.86 203.84 2049.24 202.705 Q2047.64 201.571 2044.86 201.571 L2039.77 201.571 L2039.77 216.178 L2035.09 216.178 L2035.09 181.618 L2045.65 181.618 Q2051.58 181.618 2054.49 184.094 Q2057.41 186.571 2057.41 191.571 Q2057.41 194.835 2055.88 196.988 Q2054.38 199.141 2051.48 199.974 M2039.77 185.46 L2039.77 197.729 L2045.65 197.729 Q2049.03 197.729 2050.74 196.178 Q2052.48 194.604 2052.48 191.571 Q2052.48 188.539 2050.74 187.011 Q2049.03 185.46 2045.65 185.46 L2039.77 185.46 Z\" fill=\"#000000\" fill-rule=\"evenodd\" fill-opacity=\"1\" /><path clip-path=\"url(#clip870)\" d=\"M2087.89 202.15 L2087.89 204.233 L2068.31 204.233 Q2068.59 208.631 2070.95 210.946 Q2073.33 213.238 2077.57 213.238 Q2080.02 213.238 2082.32 212.636 Q2084.63 212.034 2086.9 210.83 L2086.9 214.858 Q2084.61 215.83 2082.2 216.34 Q2079.79 216.849 2077.32 216.849 Q2071.11 216.849 2067.48 213.238 Q2063.87 209.627 2063.87 203.469 Q2063.87 197.104 2067.29 193.377 Q2070.74 189.627 2076.58 189.627 Q2081.81 189.627 2084.84 193.006 Q2087.89 196.363 2087.89 202.15 M2083.64 200.9 Q2083.59 197.405 2081.67 195.321 Q2079.77 193.238 2076.62 193.238 Q2073.06 193.238 2070.9 195.252 Q2068.77 197.266 2068.45 200.923 L2083.64 200.9 Z\" fill=\"#000000\" fill-rule=\"evenodd\" fill-opacity=\"1\" /><path clip-path=\"url(#clip870)\" d=\"M2111.41 191.016 L2111.41 195.043 Q2109.61 194.117 2107.66 193.655 Q2105.72 193.192 2103.64 193.192 Q2100.46 193.192 2098.87 194.164 Q2097.29 195.136 2097.29 197.08 Q2097.29 198.562 2098.43 199.418 Q2099.56 200.252 2102.99 201.016 L2104.45 201.34 Q2108.98 202.312 2110.88 204.094 Q2112.8 205.854 2112.8 209.025 Q2112.8 212.636 2109.93 214.742 Q2107.08 216.849 2102.08 216.849 Q2100 216.849 2097.73 216.432 Q2095.49 216.039 2092.99 215.228 L2092.99 210.83 Q2095.35 212.057 2097.64 212.682 Q2099.93 213.284 2102.18 213.284 Q2105.19 213.284 2106.81 212.266 Q2108.43 211.224 2108.43 209.349 Q2108.43 207.613 2107.25 206.687 Q2106.09 205.761 2102.13 204.904 L2100.65 204.557 Q2096.69 203.724 2094.93 202.011 Q2093.17 200.275 2093.17 197.266 Q2093.17 193.608 2095.77 191.618 Q2098.36 189.627 2103.13 189.627 Q2105.49 189.627 2107.57 189.974 Q2109.65 190.321 2111.41 191.016 Z\" fill=\"#000000\" fill-rule=\"evenodd\" fill-opacity=\"1\" /><path clip-path=\"url(#clip870)\" d=\"M2119.14 205.946 L2119.14 190.252 L2123.4 190.252 L2123.4 205.784 Q2123.4 209.465 2124.84 211.316 Q2126.27 213.145 2129.14 213.145 Q2132.59 213.145 2134.58 210.946 Q2136.6 208.747 2136.6 204.951 L2136.6 190.252 L2140.86 190.252 L2140.86 216.178 L2136.6 216.178 L2136.6 212.196 Q2135.05 214.557 2132.99 215.715 Q2130.95 216.849 2128.24 216.849 Q2123.77 216.849 2121.46 214.071 Q2119.14 211.293 2119.14 205.946 M2129.86 189.627 L2129.86 189.627 Z\" fill=\"#000000\" fill-rule=\"evenodd\" fill-opacity=\"1\" /><path clip-path=\"url(#clip870)\" d=\"M2149.63 180.159 L2153.89 180.159 L2153.89 216.178 L2149.63 216.178 L2149.63 180.159 Z\" fill=\"#000000\" fill-rule=\"evenodd\" fill-opacity=\"1\" /><path clip-path=\"url(#clip870)\" d=\"M2167.01 182.891 L2167.01 190.252 L2175.79 190.252 L2175.79 193.562 L2167.01 193.562 L2167.01 207.636 Q2167.01 210.807 2167.87 211.71 Q2168.75 212.613 2171.41 212.613 L2175.79 212.613 L2175.79 216.178 L2171.41 216.178 Q2166.48 216.178 2164.61 214.349 Q2162.73 212.497 2162.73 207.636 L2162.73 193.562 L2159.61 193.562 L2159.61 190.252 L2162.73 190.252 L2162.73 182.891 L2167.01 182.891 Z\" fill=\"#000000\" fill-rule=\"evenodd\" fill-opacity=\"1\" /><path clip-path=\"url(#clip870)\" d=\"M2185.42 181.618 L2185.42 194.465 L2181.48 194.465 L2181.48 181.618 L2185.42 181.618 M2194.17 181.618 L2194.17 194.465 L2190.23 194.465 L2190.23 181.618 L2194.17 181.618 Z\" fill=\"#000000\" fill-rule=\"evenodd\" fill-opacity=\"1\" /><path clip-path=\"url(#clip870)\" d=\"M2213.15 180.159 L2213.15 222.428 L2203.33 222.428 L2203.33 219.117 L2208.87 219.117 L2208.87 183.469 L2203.33 183.469 L2203.33 180.159 L2213.15 180.159 Z\" fill=\"#000000\" fill-rule=\"evenodd\" fill-opacity=\"1\" /></svg>\n"
     },
     "execution_count": 18,
     "metadata": {},
     "output_type": "execute_result"
    }
   ],
   "source": [
    "Plots.plot(train_acc_list,label=[\"Training Result\"])\n",
    "Plots.plot!(test,label=[\"Testing Result\"])"
   ]
  },
  {
   "cell_type": "code",
   "execution_count": 19,
   "id": "5bf17642",
   "metadata": {},
   "outputs": [
    {
     "name": "stdout",
     "output_type": "stream",
     "text": [
      "confusion matrix:\n",
      "True True Result: 218,  True False Result: 366\n",
      "False False Result: 218,   False True Result: FT\n"
     ]
    }
   ],
   "source": [
    "\"\"\"\n",
    "    In order to compute for confusion matrix\n",
    "\"\"\"\n",
    "#TT\n",
    "TT = sum(vec(chromosomes[1](para_test_std) .> 0.5) .== 1)\n",
    "#TF\n",
    "TF = sum(vec(chromosomes[1](para_test_std) .> 0.5) .== 0)\n",
    "#FT\n",
    "FT = sum(vec(chromosomes[1](para_test_std) .< 0.5) .== 1)\n",
    "#FF\n",
    "FF = sum(vec(chromosomes[1](para_test_std) .< 0.5) .== 0)\n",
    "println(\"confusion matrix:\")\n",
    "println(\"True True Result: $TT,  True False Result: $TF\")\n",
    "println(\"False False Result: $FF,   False True Result: FT\")"
   ]
  }
 ],
 "metadata": {
  "kernelspec": {
   "display_name": "Julia 1.6.5",
   "language": "julia",
   "name": "julia-1.6"
  },
  "language_info": {
   "file_extension": ".jl",
   "mimetype": "application/julia",
   "name": "julia",
   "version": "1.6.5"
  }
 },
 "nbformat": 4,
 "nbformat_minor": 5
}
