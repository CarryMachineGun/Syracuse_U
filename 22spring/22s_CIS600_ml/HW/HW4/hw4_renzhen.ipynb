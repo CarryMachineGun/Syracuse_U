{
 "cells": [
  {
   "cell_type": "code",
   "execution_count": 2,
   "id": "instructional-suite",
   "metadata": {},
   "outputs": [
    {
     "data": {
      "text/plain": [
       "Particle"
      ]
     },
     "execution_count": 2,
     "metadata": {},
     "output_type": "execute_result"
    }
   ],
   "source": [
    "const Float = Float64\n",
    "\"\"\"\n",
    "    Particle type\n",
    "\n",
    "`nDim::Int`: dimension of the parameter space to be explored\n",
    "\n",
    "`position::Array{Float, 1}`: current position of the particle\n",
    "\n",
    "`velocity::Array{Float, 1}`: current velocity of the particle\n",
    "\n",
    "`pBest::Array{Float, 1}`: the position at which the particle has \n",
    "the best-fit value through particle's history\n",
    "\n",
    "`lBest::Array{Float, 1}`: the position at which the local group has \n",
    "the best-fit value through local group's history\n",
    "\n",
    "`fitValue::Float`: the fit-value at current position\n",
    "\n",
    "`fitpBest::Float`: the fit-value at `pBest`\n",
    "\n",
    "`fitlBest::Float`: the fit-value at `lBest`\n",
    "\n",
    "`nFitEval::Int`: number of the evaluation of the fitness function \n",
    "(which does not take the steps outside the parameter space into account)\n",
    "\"\"\"\n",
    "mutable struct Particle\n",
    "    nDim::Int\n",
    "    \n",
    "    position::Array{Float, 1}\n",
    "    velocity::Array{Float, 1}\n",
    "    pBest::Array{Float, 1}\n",
    "    lBest::Array{Float, 1}\n",
    "    \n",
    "    fitValue::Float\n",
    "    fitpBest::Float\n",
    "    fitlBest::Float\n",
    "    \n",
    "    nFitEval::Int\n",
    "    \n",
    "    # initialize the particle\n",
    "    # with the lBest = pBest = position = random numbers\n",
    "    # and fitlBest = fitpBest = fitValue = Inf\n",
    "    # These setups will be updated by the initiation of the swarm\n",
    "    function Particle(nDim::Int)\n",
    "        position = rand(nDim)\n",
    "        velocity = rand(nDim) - position\n",
    "        pBest = position\n",
    "        lBest = position\n",
    "        \n",
    "        fitValue = Inf\n",
    "        fitpBest = fitValue\n",
    "        fitlBest = fitValue\n",
    "        \n",
    "        nFitEval = 0\n",
    "        \n",
    "        new(nDim, position, velocity, pBest, lBest, \n",
    "            fitValue, fitpBest, fitlBest, nFitEval)\n",
    "    end       \n",
    "end\n",
    "\n",
    "# test\n",
    "# base_model after destructing have 185 features so nDim=185\n",
    "# p1 = Particle(185)\n",
    "# p1.fitValue"
   ]
  },
  {
   "cell_type": "code",
   "execution_count": 3,
   "id": "residential-finder",
   "metadata": {},
   "outputs": [
    {
     "data": {
      "text/plain": [
       "initFitValue!"
      ]
     },
     "execution_count": 3,
     "metadata": {},
     "output_type": "execute_result"
    }
   ],
   "source": [
    "\"\"\"\n",
    "    initFitValue!(fitFunc::Function, p::Particle)\n",
    "\n",
    "Initiate the `fitValue` for the `p` particle using the fitness \n",
    "function `fitFunc`.\n",
    "\"\"\"\n",
    "function initFitValue!(fitFunc::Function, p::Particle)\n",
    "#     p.fitValue = fitFunc(p.position)\n",
    "#     p.fitValue = fitFunc(p.position)[1]\n",
    "    θ1, re1 = Flux.destructure(base_model)\n",
    "    p.position=θ1\n",
    "    p.fitValue = fitFunc(p.position,re1)\n",
    "    \n",
    "    # update nFitEval\n",
    "    p.nFitEval += 1\n",
    "    nothing\n",
    "end\n",
    "\n",
    "# test\n",
    "# x=rand(185)\n",
    "# fitFunc(x) = (base_model(x))[1]\n",
    "# fitFunc(θ,re)=mean(vec(re(θ)(X_train_std).>0.5).==y_train)\n",
    "# p2=Particle(185)\n",
    "# print(p2)\n",
    "# initFitValue!(fitFunc,p2)"
   ]
  },
  {
   "cell_type": "code",
   "execution_count": 4,
   "id": "paperback-comment",
   "metadata": {},
   "outputs": [
    {
     "data": {
      "text/plain": [
       "updatePositionAndFitValue!"
      ]
     },
     "execution_count": 4,
     "metadata": {},
     "output_type": "execute_result"
    }
   ],
   "source": [
    "\"\"\"\n",
    "    updatePositionAndFitValue!(fitFunc::Function, nDim::Int, p::Particle)\n",
    "\n",
    "Update the `position` and `fitValue` for the `p` particle using \n",
    "the fitness function `fitFunc` with `nDim` parameters.\n",
    "\"\"\"\n",
    "function updatePositionAndFitValue!(fitFunc::Function, p::Particle)\n",
    "    p.position += p.velocity\n",
    "    \n",
    "    # if position is outside the paramter space, we set fitValue = Inf\n",
    "    for x in p.position\n",
    "        if (x < 0 || x > 1)\n",
    "            p.fitValue = Inf\n",
    "            return\n",
    "        end\n",
    "    end\n",
    "    # update nFitEval\n",
    "    p.nFitEval += 1\n",
    "#     p.fitValue = fitFunc(p.position)\n",
    "#     p.fitValue = fitFunc(p.position)[1]\n",
    "    θ1, re1 = Flux.destructure(base_model)\n",
    "    p.fitValue = fitFunc(p.position,re1)\n",
    "\n",
    "    \n",
    "    nothing\n",
    "end\n",
    "\n",
    "# test\n",
    "# fitFunc(x) = x[1]^2 + x[2]^2\n",
    "# p2 = Particle(185)\n",
    "# println(p2)\n",
    "# fitFunc(θ,re)=mean(vec(re(θ)(X_train_std).>0.5).==y_train)\n",
    "# initFitValue!(fitFunc, p2)\n",
    "# println(p2)\n",
    "# updatePositionAndFitValue!(fitFunc, p2)\n",
    "# println(p2)"
   ]
  },
  {
   "cell_type": "code",
   "execution_count": 34,
   "id": "nominated-elements",
   "metadata": {},
   "outputs": [
    {
     "data": {
      "text/plain": [
       "updatepBestAndFitpBest!"
      ]
     },
     "execution_count": 34,
     "metadata": {},
     "output_type": "execute_result"
    }
   ],
   "source": [
    "\n",
    "\"\"\"\n",
    "    updatepBestAndFitpBest!(p::Particle)\n",
    "\n",
    "Update the `pBest` and `fitpBest` for `p` particle.\n",
    "\"\"\"\n",
    "function updatepBestAndFitpBest!(p::Particle)\n",
    "    if p.fitValue < p.fitpBest \n",
    "        p.fitpBest  = p.fitValue\n",
    "        p.pBest = p.position\n",
    "        θ1, re1 = Flux.destructure(base_model)\n",
    "        base_model=re1(p.pBest)\n",
    "    end\n",
    "    nothing\n",
    "end\n",
    "\n",
    "\n"
   ]
  },
  {
   "cell_type": "code",
   "execution_count": 6,
   "id": "coupled-lexington",
   "metadata": {},
   "outputs": [
    {
     "data": {
      "text/plain": [
       "updateVelocity!"
      ]
     },
     "execution_count": 6,
     "metadata": {},
     "output_type": "execute_result"
    }
   ],
   "source": [
    "\n",
    "\"\"\"\n",
    "    updateVelocity!(p::Particle, w::Float, c1::Float=c1, c2::Float=c2)\n",
    "\n",
    "Update the `velocity` of the particle.\n",
    "\"\"\"\n",
    "function updateVelocity!(p::Particle, w::Float, c1::Float, c2::Float)\n",
    "    p.velocity = w * p.velocity + \n",
    "    c1 * rand() * (p.pBest - p.position) + \n",
    "    c2 * rand() * (p.lBest - p.position)\n",
    "    \n",
    "    nothing\n",
    "end\n",
    "\n"
   ]
  },
  {
   "cell_type": "code",
   "execution_count": 7,
   "id": "gross-input",
   "metadata": {},
   "outputs": [
    {
     "data": {
      "text/plain": [
       "neiborIndices"
      ]
     },
     "execution_count": 7,
     "metadata": {},
     "output_type": "execute_result"
    }
   ],
   "source": [
    "\n",
    "\"\"\"\n",
    "    neiborIndices(i::Int, nNeighbor::Int, nParticle::Int)\n",
    "\n",
    "Return the indices for the `nNeighbor` neiborhoods of the `i`th particle\n",
    "in a swarm with `nParticle` particles.\n",
    "\"\"\"\n",
    "function neiborIndices(i::Int, nNeibor::Int, nParticle::Int)\n",
    "    \n",
    "    # number of neighbors should be larger than 3\n",
    "    nNeibor = max(3, nNeibor)\n",
    "    \n",
    "    # number of neighbors on the left side of i-th particle\n",
    "    nLeft = (nNeibor - 1) ÷ 2\n",
    "    \n",
    "    # the index of the starting particle in the local group\n",
    "    startIndex = (i - nLeft)\n",
    "    \n",
    "    # the index of the ending particle in the local group\n",
    "    endIndex = startIndex + nNeibor -1\n",
    "    \n",
    "    # indices for the local group\n",
    "    indices = collect(startIndex:endIndex)\n",
    "    \n",
    "    # ajust the indices to be in the range(1:nParticle)\n",
    "    for i in 1:nNeibor\n",
    "        if indices[i] < 1\n",
    "            indices[i] += nParticle\n",
    "        elseif indices[i] > nParticle\n",
    "            indices[i] -= nParticle\n",
    "        end\n",
    "    end\n",
    "    \n",
    "    indices\n",
    "end\n"
   ]
  },
  {
   "cell_type": "code",
   "execution_count": 8,
   "id": "bound-irish",
   "metadata": {},
   "outputs": [
    {
     "data": {
      "text/plain": [
       "Swarm"
      ]
     },
     "execution_count": 8,
     "metadata": {},
     "output_type": "execute_result"
    }
   ],
   "source": [
    "\n",
    "\n",
    "\"\"\"\n",
    "    Swarm type\n",
    "\n",
    "`fitFunc::Function`: fitness function to be evaluated\n",
    "\n",
    "`nDim::Int`: dimension of the parameter space to be explored\n",
    "\n",
    "`nParticle::Int`: number of particles in a swarm\n",
    "    \n",
    "`nNeibor::Int`: number of neighborhoods (particles) in a local group\n",
    "    \n",
    "`nInter::Int`: number of iterations for each particles to move forward\n",
    "\n",
    "`c1::Float`: cognative constant\n",
    "\n",
    "`c2::Float`: social constant\n",
    "\n",
    "`wMax::Float`: the maximum value of inertia weight\n",
    "\n",
    "`wMin::Float`: the minimum value of inertia weight\n",
    "\n",
    "`w::Float`: the current value of inertia weight\n",
    "    \n",
    "`gBest::Array{Float, 1}`: the position at which the swarm has \n",
    "the best-fit value through the history\n",
    "    \n",
    "`fitgBest::Float`: the fit-value at `gBest`\n",
    "    \n",
    "`particles::Array{Particle, 1}`: the particles in a swarm\n",
    "\n",
    "`nFitEvals::Int`: number of the evaluation of the fitness function \n",
    "(which does not take the steps outside the parameter space into account)\n",
    "\"\"\"\n",
    "mutable struct Swarm\n",
    "    fitFunc::Function\n",
    "    nDim::Int\n",
    "    \n",
    "    nParticle::Int\n",
    "    nNeibor::Int\n",
    "    nInter::Int\n",
    "    \n",
    "    c1::Float\n",
    "    c2::Float\n",
    "    \n",
    "    wMax::Float\n",
    "    wMin::Float\n",
    "    w::Float\n",
    "    \n",
    "    gBest::Array{Float, 1}    \n",
    "    fitgBest::Float\n",
    "    \n",
    "    particles::Array{Particle, 1}\n",
    "    \n",
    "    nFitEvals::Int\n",
    "    \n",
    "    # initialize the swarm\n",
    "    function Swarm(fitFunc::Function, nDim::Int; \n",
    "            nParticle::Int=40, \n",
    "            nNeibor::Int=3, nInter::Int=2000,\n",
    "            c1::Float=2.0, c2::Float=2.0,\n",
    "            wMax::Float=0.9, wMin::Float=0.4)\n",
    "        \n",
    "        if nNeibor > nParticle\n",
    "            error(\"Number of particles in a local group should not exceed \n",
    "                the totoal number of particles in the swarm!\")\n",
    "        end    \n",
    "        \n",
    "        w = wMax\n",
    "        \n",
    "        gBest = rand(nDim)\n",
    "        fitgBest = Inf\n",
    "        \n",
    "        # initialize the swarm with nParticle\n",
    "        particles = [Particle(nDim) for i in 1:nParticle]\n",
    "        \n",
    "        \n",
    "        nFitEvals = 0\n",
    "                \n",
    "        new(fitFunc, nDim, nParticle, nNeibor, nInter, \n",
    "            c1, c2, wMax, wMin, w, gBest, \n",
    "            fitgBest, particles, nFitEvals)        \n",
    "    end       \n",
    "end\n",
    "\n"
   ]
  },
  {
   "cell_type": "code",
   "execution_count": 9,
   "id": "center-spotlight",
   "metadata": {},
   "outputs": [
    {
     "data": {
      "text/plain": [
       "updatelBestAndFitlBest!"
      ]
     },
     "execution_count": 9,
     "metadata": {},
     "output_type": "execute_result"
    }
   ],
   "source": [
    "\n",
    "\n",
    "\"\"\"\n",
    "    updatelBestAndFitlBest!(s::Swarm)\n",
    "\n",
    "Update lBest and fitlBest for each particle in the swarm `s`.\n",
    "\"\"\"        \n",
    "function updatelBestAndFitlBest!(s::Swarm)\n",
    "    for i in 1:s.nParticle\n",
    "        neiborIds = neiborIndices(i, s.nNeibor, s.nParticle)\n",
    "        neiborFits = [s.particles[Id].fitValue for Id in neiborIds]\n",
    "        fitlBest, index = findmin(neiborFits)\n",
    "        \n",
    "        if fitlBest < s.particles[i].fitlBest\n",
    "            # neibor == local group\n",
    "            lBest = s.particles[neiborIds[index]].position\n",
    "            s.particles[i].lBest = lBest\n",
    "            s.particles[i].fitlBest = fitlBest\n",
    "        end\n",
    "    end\n",
    "    nothing\n",
    "end\n",
    "\n",
    "# test"
   ]
  },
  {
   "cell_type": "code",
   "execution_count": 10,
   "id": "induced-response",
   "metadata": {},
   "outputs": [
    {
     "data": {
      "text/plain": [
       "updategBestAndFitgBest!"
      ]
     },
     "execution_count": 10,
     "metadata": {},
     "output_type": "execute_result"
    }
   ],
   "source": [
    "\n",
    "\"\"\"\n",
    "    updategBestAndFitgBest!(s::Swarm)\n",
    "\n",
    "Update gBest and fitgBest for the swarm `s`.\n",
    "\"\"\"        \n",
    "function updategBestAndFitgBest!(s::Swarm)\n",
    "    \n",
    "    gFits = [particle.fitValue for particle in s.particles]\n",
    "    fitgBest, index = findmin(gFits)\n",
    "    if fitgBest < s.fitgBest\n",
    "        s.gBest = s.particles[index].position   \n",
    "        s.fitgBest = fitgBest\n",
    "    end\n",
    "    nothing\n",
    "end\n"
   ]
  },
  {
   "cell_type": "code",
   "execution_count": 11,
   "id": "spectacular-logging",
   "metadata": {},
   "outputs": [
    {
     "data": {
      "text/plain": [
       "initSwarm"
      ]
     },
     "execution_count": 11,
     "metadata": {},
     "output_type": "execute_result"
    }
   ],
   "source": [
    "\"\"\"\n",
    "    initSwarm(s::Swarm)\n",
    "\n",
    "Initiation (0st iteration) the swarm `s`.\n",
    "\"\"\"\n",
    "function initSwarm(s::Swarm)\n",
    "    \n",
    "    # initiate the fitValue for each particle\n",
    "    for particle in s.particles\n",
    "        initFitValue!(s.fitFunc, particle)\n",
    "        updatepBestAndFitpBest!(particle)\n",
    "    end\n",
    "    \n",
    "    # update lBest and fitlBest for the swarm\n",
    "    updatelBestAndFitlBest!(s)\n",
    "    \n",
    "    # update gBest and fitgBest for the swarm\n",
    "    updategBestAndFitgBest!(s)\n",
    "    \n",
    "    nothing\n",
    "end\n"
   ]
  },
  {
   "cell_type": "code",
   "execution_count": 12,
   "id": "later-fisher",
   "metadata": {},
   "outputs": [
    {
     "data": {
      "text/plain": [
       "updateInertia!"
      ]
     },
     "execution_count": 12,
     "metadata": {},
     "output_type": "execute_result"
    }
   ],
   "source": [
    "\"\"\"\n",
    "    updateInertia!(s::Swarm)\n",
    "\n",
    "Update the inertia weight after each iteration.\n",
    "\"\"\"\n",
    "function updateInertia!(s::Swarm)\n",
    "    dw = (s.wMax - s.wMin)/s.nInter\n",
    "    s.w -= dw\n",
    "    \n",
    "    nothing\n",
    "end\n"
   ]
  },
  {
   "cell_type": "code",
   "execution_count": 13,
   "id": "pleased-albania",
   "metadata": {},
   "outputs": [
    {
     "data": {
      "text/plain": [
       "updateVelocity!"
      ]
     },
     "execution_count": 13,
     "metadata": {},
     "output_type": "execute_result"
    }
   ],
   "source": [
    "\"\"\"\n",
    "    updateVelocity!(s::Swarm)\n",
    "\n",
    "Update the `velocity` for each particle in the swarm `s`.\n",
    "\"\"\"\n",
    "function updateVelocity!(s::Swarm)\n",
    "    for particle in s.particles\n",
    "        updateVelocity!(particle, s.w, s.c1, s.c2)\n",
    "    end        \n",
    "    nothing\n",
    "end\n"
   ]
  },
  {
   "cell_type": "code",
   "execution_count": 14,
   "id": "adult-deputy",
   "metadata": {},
   "outputs": [
    {
     "data": {
      "text/plain": [
       "updatePositionAndFitValue!"
      ]
     },
     "execution_count": 14,
     "metadata": {},
     "output_type": "execute_result"
    }
   ],
   "source": [
    "\n",
    "\"\"\"\n",
    "    updatePositionAndFitValue!(s::Swarm)\n",
    "\n",
    "Update the `position` and `fitValue` for each particle in the swarm `s`.\n",
    "\"\"\"\n",
    "function updatePositionAndFitValue!(s::Swarm)\n",
    "    for particle in s.particles\n",
    "        updatePositionAndFitValue!(s.fitFunc, particle)\n",
    "    end        \n",
    "    nothing\n",
    "end\n"
   ]
  },
  {
   "cell_type": "code",
   "execution_count": 15,
   "id": "objective-intro",
   "metadata": {},
   "outputs": [
    {
     "data": {
      "text/plain": [
       "updateSwarm"
      ]
     },
     "execution_count": 15,
     "metadata": {},
     "output_type": "execute_result"
    }
   ],
   "source": [
    "\n",
    "\n",
    "\"\"\"\n",
    "    updateSwarm(s::Swarm)\n",
    "\n",
    "One iteration for the swarm `s`.\n",
    "\"\"\"\n",
    "function updateSwarm(s::Swarm)\n",
    "    # update the velocity for each particle in the swarm\n",
    "    updateVelocity!(s::Swarm)\n",
    "    \n",
    "    # update the position and fitValue for each particle in the swarm\n",
    "    updatePositionAndFitValue!(s::Swarm)\n",
    "    \n",
    "    # update the lBest and fitlBest for each particle in the swarm\n",
    "    updatelBestAndFitlBest!(s::Swarm)\n",
    "    \n",
    "    # update the gBest and fitgBest for the swarm\n",
    "    updategBestAndFitgBest!(s::Swarm) \n",
    "    \n",
    "    # update the inertia weigh w for each particle in the swarm\n",
    "    updateInertia!(s::Swarm)\n",
    "    \n",
    "    nothing \n",
    "end\n"
   ]
  },
  {
   "cell_type": "code",
   "execution_count": 16,
   "id": "further-developer",
   "metadata": {},
   "outputs": [],
   "source": [
    "using Plots\n",
    "using LaTeXStrings"
   ]
  },
  {
   "cell_type": "code",
   "execution_count": 70,
   "id": "ahead-spectacular",
   "metadata": {},
   "outputs": [],
   "source": [
    "function onePsoRun(fitFunc::Function, nDim::Int; nParticle=100, nInter::Int=4000)\n",
    "    s = Swarm(fitFunc, nDim, nParticle=nParticle, nInter=nInter)\n",
    "    initSwarm(s)\n",
    "    \n",
    "    for i in s.nInter\n",
    "        updateSwarm(s)\n",
    "    end\n",
    "    s.gBest\n",
    "end\n",
    "# fitFunc(x) = (base_model(x))\n",
    "# accuracy(x, y) = mean(vec(base_model(x) .> 0.5) .== y)\n",
    "fitFunc(θ,re)=mean(vec(re(θ)(X_train_std).>0.5).==y_train)\n",
    "nDim = 185\n",
    "\n",
    "nParticle = 100\n",
    "nInter = 20\n",
    "nRun = 10\n",
    "xs = []\n",
    "ys = zeros(nRun)\n",
    "\n",
    "θ, re = Flux.destructure(base_model)\n",
    "\n",
    "for i in 1:nRun\n",
    "#     xs[i], ys[i] = onePsoRun(fitFunc, nDim=21, nParticle=nParticle, nInter=nInter)\n",
    "    xs =  onePsoRun(fitFunc, 185, nParticle=nParticle, nInter=nInter)\n",
    "    ys[i] =  mean(re(xs)(X_train_std))\n",
    "\n",
    "end"
   ]
  },
  {
   "cell_type": "code",
   "execution_count": 77,
   "id": "local-jones",
   "metadata": {},
   "outputs": [
    {
     "data": {
      "text/plain": [
       "10-element Vector{Float64}:\n",
       " 0.6797492052072394\n",
       " 0.6004509116356114\n",
       " 0.5727904704388198\n",
       " 0.6834818873833022\n",
       " 0.6882469836732197\n",
       " 0.6090509095036966\n",
       " 0.8128145632163694\n",
       " 0.5166529030419913\n",
       " 0.7076845130891805\n",
       " 0.7581591906736167"
      ]
     },
     "execution_count": 77,
     "metadata": {},
     "output_type": "execute_result"
    }
   ],
   "source": [
    "ys"
   ]
  },
  {
   "cell_type": "code",
   "execution_count": 78,
   "id": "tracked-arabic",
   "metadata": {},
   "outputs": [
    {
     "data": {
      "text/plain": [
       "0.6629081537863046"
      ]
     },
     "execution_count": 78,
     "metadata": {},
     "output_type": "execute_result"
    }
   ],
   "source": [
    "mean(ys)"
   ]
  },
  {
   "cell_type": "code",
   "execution_count": 20,
   "id": "adequate-clark",
   "metadata": {},
   "outputs": [],
   "source": [
    "using Evolutionary\n",
    "using Flux\n",
    "using Flux: onehot, onecold, logitcrossentropy #, throttle, @epochs\n",
    "using MLDatasets\n",
    "using Random\n",
    "using StableRNGs"
   ]
  },
  {
   "cell_type": "code",
   "execution_count": 21,
   "id": "unauthorized-central",
   "metadata": {},
   "outputs": [
    {
     "data": {
      "text/html": [
       "<div class=\"data-frame\"><p>70,692 rows × 22 columns (omitted printing of 14 columns)</p><table class=\"data-frame\"><thead><tr><th></th><th>Diabetes_binary</th><th>HighBP</th><th>HighChol</th><th>CholCheck</th><th>BMI</th><th>Smoker</th><th>Stroke</th><th>HeartDiseaseorAttack</th></tr><tr><th></th><th title=\"Float64\">Float64</th><th title=\"Float64\">Float64</th><th title=\"Float64\">Float64</th><th title=\"Float64\">Float64</th><th title=\"Float64\">Float64</th><th title=\"Float64\">Float64</th><th title=\"Float64\">Float64</th><th title=\"Float64\">Float64</th></tr></thead><tbody><tr><th>1</th><td>0.0</td><td>0.0</td><td>1.0</td><td>1.0</td><td>25.0</td><td>1.0</td><td>0.0</td><td>0.0</td></tr><tr><th>2</th><td>0.0</td><td>0.0</td><td>0.0</td><td>0.0</td><td>25.0</td><td>1.0</td><td>0.0</td><td>0.0</td></tr><tr><th>3</th><td>0.0</td><td>1.0</td><td>1.0</td><td>1.0</td><td>29.0</td><td>1.0</td><td>0.0</td><td>0.0</td></tr><tr><th>4</th><td>0.0</td><td>0.0</td><td>0.0</td><td>1.0</td><td>26.0</td><td>1.0</td><td>0.0</td><td>0.0</td></tr><tr><th>5</th><td>0.0</td><td>0.0</td><td>0.0</td><td>1.0</td><td>29.0</td><td>1.0</td><td>0.0</td><td>0.0</td></tr><tr><th>6</th><td>0.0</td><td>0.0</td><td>0.0</td><td>0.0</td><td>24.0</td><td>0.0</td><td>0.0</td><td>0.0</td></tr><tr><th>7</th><td>0.0</td><td>1.0</td><td>1.0</td><td>1.0</td><td>36.0</td><td>0.0</td><td>0.0</td><td>0.0</td></tr><tr><th>8</th><td>0.0</td><td>0.0</td><td>0.0</td><td>1.0</td><td>26.0</td><td>1.0</td><td>0.0</td><td>0.0</td></tr><tr><th>9</th><td>0.0</td><td>0.0</td><td>0.0</td><td>1.0</td><td>21.0</td><td>0.0</td><td>0.0</td><td>0.0</td></tr><tr><th>10</th><td>0.0</td><td>1.0</td><td>1.0</td><td>1.0</td><td>23.0</td><td>1.0</td><td>0.0</td><td>1.0</td></tr><tr><th>11</th><td>0.0</td><td>1.0</td><td>1.0</td><td>1.0</td><td>27.0</td><td>0.0</td><td>0.0</td><td>0.0</td></tr><tr><th>12</th><td>0.0</td><td>0.0</td><td>0.0</td><td>0.0</td><td>24.0</td><td>0.0</td><td>0.0</td><td>0.0</td></tr><tr><th>13</th><td>0.0</td><td>1.0</td><td>1.0</td><td>1.0</td><td>25.0</td><td>1.0</td><td>0.0</td><td>0.0</td></tr><tr><th>14</th><td>0.0</td><td>1.0</td><td>1.0</td><td>1.0</td><td>30.0</td><td>0.0</td><td>0.0</td><td>0.0</td></tr><tr><th>15</th><td>0.0</td><td>1.0</td><td>1.0</td><td>1.0</td><td>31.0</td><td>1.0</td><td>0.0</td><td>0.0</td></tr><tr><th>16</th><td>0.0</td><td>0.0</td><td>0.0</td><td>1.0</td><td>24.0</td><td>0.0</td><td>0.0</td><td>0.0</td></tr><tr><th>17</th><td>0.0</td><td>0.0</td><td>0.0</td><td>1.0</td><td>26.0</td><td>0.0</td><td>0.0</td><td>0.0</td></tr><tr><th>18</th><td>0.0</td><td>1.0</td><td>1.0</td><td>1.0</td><td>26.0</td><td>1.0</td><td>0.0</td><td>1.0</td></tr><tr><th>19</th><td>0.0</td><td>0.0</td><td>0.0</td><td>1.0</td><td>35.0</td><td>0.0</td><td>0.0</td><td>0.0</td></tr><tr><th>20</th><td>0.0</td><td>1.0</td><td>0.0</td><td>1.0</td><td>35.0</td><td>1.0</td><td>0.0</td><td>0.0</td></tr><tr><th>21</th><td>0.0</td><td>0.0</td><td>0.0</td><td>1.0</td><td>31.0</td><td>0.0</td><td>0.0</td><td>0.0</td></tr><tr><th>22</th><td>0.0</td><td>1.0</td><td>1.0</td><td>1.0</td><td>33.0</td><td>1.0</td><td>0.0</td><td>0.0</td></tr><tr><th>23</th><td>0.0</td><td>0.0</td><td>0.0</td><td>1.0</td><td>25.0</td><td>0.0</td><td>0.0</td><td>0.0</td></tr><tr><th>24</th><td>0.0</td><td>0.0</td><td>0.0</td><td>1.0</td><td>21.0</td><td>0.0</td><td>0.0</td><td>0.0</td></tr><tr><th>25</th><td>0.0</td><td>0.0</td><td>0.0</td><td>1.0</td><td>37.0</td><td>1.0</td><td>0.0</td><td>0.0</td></tr><tr><th>26</th><td>0.0</td><td>0.0</td><td>0.0</td><td>1.0</td><td>23.0</td><td>0.0</td><td>0.0</td><td>0.0</td></tr><tr><th>27</th><td>0.0</td><td>0.0</td><td>0.0</td><td>1.0</td><td>22.0</td><td>0.0</td><td>0.0</td><td>0.0</td></tr><tr><th>28</th><td>0.0</td><td>0.0</td><td>1.0</td><td>1.0</td><td>29.0</td><td>0.0</td><td>0.0</td><td>0.0</td></tr><tr><th>29</th><td>0.0</td><td>0.0</td><td>0.0</td><td>1.0</td><td>26.0</td><td>0.0</td><td>0.0</td><td>0.0</td></tr><tr><th>30</th><td>0.0</td><td>1.0</td><td>1.0</td><td>1.0</td><td>32.0</td><td>0.0</td><td>0.0</td><td>0.0</td></tr><tr><th>&vellip;</th><td>&vellip;</td><td>&vellip;</td><td>&vellip;</td><td>&vellip;</td><td>&vellip;</td><td>&vellip;</td><td>&vellip;</td><td>&vellip;</td></tr></tbody></table></div>"
      ],
      "text/latex": [
       "\\begin{tabular}{r|ccccccccc}\n",
       "\t& Diabetes\\_binary & HighBP & HighChol & CholCheck & BMI & Smoker & Stroke & HeartDiseaseorAttack & \\\\\n",
       "\t\\hline\n",
       "\t& Float64 & Float64 & Float64 & Float64 & Float64 & Float64 & Float64 & Float64 & \\\\\n",
       "\t\\hline\n",
       "\t1 & 0.0 & 0.0 & 1.0 & 1.0 & 25.0 & 1.0 & 0.0 & 0.0 & $\\dots$ \\\\\n",
       "\t2 & 0.0 & 0.0 & 0.0 & 0.0 & 25.0 & 1.0 & 0.0 & 0.0 & $\\dots$ \\\\\n",
       "\t3 & 0.0 & 1.0 & 1.0 & 1.0 & 29.0 & 1.0 & 0.0 & 0.0 & $\\dots$ \\\\\n",
       "\t4 & 0.0 & 0.0 & 0.0 & 1.0 & 26.0 & 1.0 & 0.0 & 0.0 & $\\dots$ \\\\\n",
       "\t5 & 0.0 & 0.0 & 0.0 & 1.0 & 29.0 & 1.0 & 0.0 & 0.0 & $\\dots$ \\\\\n",
       "\t6 & 0.0 & 0.0 & 0.0 & 0.0 & 24.0 & 0.0 & 0.0 & 0.0 & $\\dots$ \\\\\n",
       "\t7 & 0.0 & 1.0 & 1.0 & 1.0 & 36.0 & 0.0 & 0.0 & 0.0 & $\\dots$ \\\\\n",
       "\t8 & 0.0 & 0.0 & 0.0 & 1.0 & 26.0 & 1.0 & 0.0 & 0.0 & $\\dots$ \\\\\n",
       "\t9 & 0.0 & 0.0 & 0.0 & 1.0 & 21.0 & 0.0 & 0.0 & 0.0 & $\\dots$ \\\\\n",
       "\t10 & 0.0 & 1.0 & 1.0 & 1.0 & 23.0 & 1.0 & 0.0 & 1.0 & $\\dots$ \\\\\n",
       "\t11 & 0.0 & 1.0 & 1.0 & 1.0 & 27.0 & 0.0 & 0.0 & 0.0 & $\\dots$ \\\\\n",
       "\t12 & 0.0 & 0.0 & 0.0 & 0.0 & 24.0 & 0.0 & 0.0 & 0.0 & $\\dots$ \\\\\n",
       "\t13 & 0.0 & 1.0 & 1.0 & 1.0 & 25.0 & 1.0 & 0.0 & 0.0 & $\\dots$ \\\\\n",
       "\t14 & 0.0 & 1.0 & 1.0 & 1.0 & 30.0 & 0.0 & 0.0 & 0.0 & $\\dots$ \\\\\n",
       "\t15 & 0.0 & 1.0 & 1.0 & 1.0 & 31.0 & 1.0 & 0.0 & 0.0 & $\\dots$ \\\\\n",
       "\t16 & 0.0 & 0.0 & 0.0 & 1.0 & 24.0 & 0.0 & 0.0 & 0.0 & $\\dots$ \\\\\n",
       "\t17 & 0.0 & 0.0 & 0.0 & 1.0 & 26.0 & 0.0 & 0.0 & 0.0 & $\\dots$ \\\\\n",
       "\t18 & 0.0 & 1.0 & 1.0 & 1.0 & 26.0 & 1.0 & 0.0 & 1.0 & $\\dots$ \\\\\n",
       "\t19 & 0.0 & 0.0 & 0.0 & 1.0 & 35.0 & 0.0 & 0.0 & 0.0 & $\\dots$ \\\\\n",
       "\t20 & 0.0 & 1.0 & 0.0 & 1.0 & 35.0 & 1.0 & 0.0 & 0.0 & $\\dots$ \\\\\n",
       "\t21 & 0.0 & 0.0 & 0.0 & 1.0 & 31.0 & 0.0 & 0.0 & 0.0 & $\\dots$ \\\\\n",
       "\t22 & 0.0 & 1.0 & 1.0 & 1.0 & 33.0 & 1.0 & 0.0 & 0.0 & $\\dots$ \\\\\n",
       "\t23 & 0.0 & 0.0 & 0.0 & 1.0 & 25.0 & 0.0 & 0.0 & 0.0 & $\\dots$ \\\\\n",
       "\t24 & 0.0 & 0.0 & 0.0 & 1.0 & 21.0 & 0.0 & 0.0 & 0.0 & $\\dots$ \\\\\n",
       "\t25 & 0.0 & 0.0 & 0.0 & 1.0 & 37.0 & 1.0 & 0.0 & 0.0 & $\\dots$ \\\\\n",
       "\t26 & 0.0 & 0.0 & 0.0 & 1.0 & 23.0 & 0.0 & 0.0 & 0.0 & $\\dots$ \\\\\n",
       "\t27 & 0.0 & 0.0 & 0.0 & 1.0 & 22.0 & 0.0 & 0.0 & 0.0 & $\\dots$ \\\\\n",
       "\t28 & 0.0 & 0.0 & 1.0 & 1.0 & 29.0 & 0.0 & 0.0 & 0.0 & $\\dots$ \\\\\n",
       "\t29 & 0.0 & 0.0 & 0.0 & 1.0 & 26.0 & 0.0 & 0.0 & 0.0 & $\\dots$ \\\\\n",
       "\t30 & 0.0 & 1.0 & 1.0 & 1.0 & 32.0 & 0.0 & 0.0 & 0.0 & $\\dots$ \\\\\n",
       "\t$\\dots$ & $\\dots$ & $\\dots$ & $\\dots$ & $\\dots$ & $\\dots$ & $\\dots$ & $\\dots$ & $\\dots$ &  \\\\\n",
       "\\end{tabular}\n"
      ],
      "text/plain": [
       "\u001b[1m70692×22 DataFrame\u001b[0m\n",
       "\u001b[1m   Row \u001b[0m│\u001b[1m Diabetes_binary \u001b[0m\u001b[1m HighBP  \u001b[0m\u001b[1m HighChol \u001b[0m\u001b[1m CholCheck \u001b[0m\u001b[1m BMI     \u001b[0m\u001b[1m Smoker  \u001b[0m\u001b[1m Stro\u001b[0m ⋯\n",
       "\u001b[1m       \u001b[0m│\u001b[90m Float64         \u001b[0m\u001b[90m Float64 \u001b[0m\u001b[90m Float64  \u001b[0m\u001b[90m Float64   \u001b[0m\u001b[90m Float64 \u001b[0m\u001b[90m Float64 \u001b[0m\u001b[90m Floa\u001b[0m ⋯\n",
       "───────┼────────────────────────────────────────────────────────────────────────\n",
       "     1 │             0.0      0.0       1.0        1.0     25.0      1.0       ⋯\n",
       "     2 │             0.0      0.0       0.0        0.0     25.0      1.0\n",
       "     3 │             0.0      1.0       1.0        1.0     29.0      1.0\n",
       "     4 │             0.0      0.0       0.0        1.0     26.0      1.0\n",
       "     5 │             0.0      0.0       0.0        1.0     29.0      1.0       ⋯\n",
       "     6 │             0.0      0.0       0.0        0.0     24.0      0.0\n",
       "     7 │             0.0      1.0       1.0        1.0     36.0      0.0\n",
       "     8 │             0.0      0.0       0.0        1.0     26.0      1.0\n",
       "     9 │             0.0      0.0       0.0        1.0     21.0      0.0       ⋯\n",
       "    10 │             0.0      1.0       1.0        1.0     23.0      1.0\n",
       "    11 │             0.0      1.0       1.0        1.0     27.0      0.0\n",
       "   ⋮   │        ⋮            ⋮        ⋮          ⋮         ⋮        ⋮        ⋮ ⋱\n",
       " 70683 │             1.0      1.0       0.0        1.0     37.0      0.0\n",
       " 70684 │             1.0      1.0       0.0        1.0     28.0      0.0       ⋯\n",
       " 70685 │             1.0      1.0       1.0        1.0     27.0      0.0\n",
       " 70686 │             1.0      1.0       0.0        1.0     38.0      0.0\n",
       " 70687 │             1.0      0.0       1.0        1.0     27.0      0.0\n",
       " 70688 │             1.0      0.0       1.0        1.0     37.0      0.0       ⋯\n",
       " 70689 │             1.0      0.0       1.0        1.0     29.0      1.0\n",
       " 70690 │             1.0      1.0       1.0        1.0     25.0      0.0\n",
       " 70691 │             1.0      1.0       1.0        1.0     18.0      0.0\n",
       " 70692 │             1.0      1.0       1.0        1.0     25.0      0.0       ⋯\n",
       "\u001b[36m                                               16 columns and 70671 rows omitted\u001b[0m"
      ]
     },
     "execution_count": 21,
     "metadata": {},
     "output_type": "execute_result"
    }
   ],
   "source": [
    "using ZipFile, CSV, DataFrames, Random, StatsBase , Plots, Statistics\n",
    "\n",
    "# read file from zip archive\n",
    "\n",
    "z = ZipFile.Reader(\"results.zip\")\n",
    "\n",
    "# identify the right file in zip\n",
    "\n",
    "# The diabetes dataset I found through kaggle have done split into 2 classifiers and select 50 percents of result from each \n",
    "# label. So i think there is more work in my dataset\n",
    "\n",
    "a_file_in_zip = filter(x->x.name == \"diabetes_binary_5050split_health_indicators_BRFSS2015.csv\", z.files)[1]\n",
    "\n",
    "#avoid changing the original files in the zip file. However, the dataset will not change but whatever.\n",
    "\n",
    "a_copy = CSV.File(a_file_in_zip) |> DataFrame\n",
    "\n",
    "close(z)\n",
    "\n",
    "#show the dataset\n",
    "\n",
    "a_copy"
   ]
  },
  {
   "cell_type": "code",
   "execution_count": 22,
   "id": "cardiac-world",
   "metadata": {},
   "outputs": [
    {
     "data": {
      "text/plain": [
       "35346×22 Matrix{Float64}:\n",
       " 1.0  1.0  1.0  1.0  30.0  1.0  0.0  1.0  …  30.0  1.0  0.0   9.0  5.0  1.0\n",
       " 1.0  0.0  0.0  1.0  25.0  1.0  0.0  0.0      0.0  0.0  1.0  13.0  6.0  8.0\n",
       " 1.0  1.0  1.0  1.0  28.0  0.0  0.0  0.0      0.0  1.0  0.0  11.0  4.0  6.0\n",
       " 1.0  0.0  0.0  1.0  23.0  1.0  0.0  0.0      0.0  0.0  1.0   7.0  5.0  6.0\n",
       " 1.0  1.0  0.0  1.0  27.0  0.0  0.0  0.0      0.0  0.0  0.0  13.0  5.0  4.0\n",
       " 1.0  1.0  1.0  1.0  37.0  1.0  1.0  1.0  …   0.0  1.0  1.0  10.0  6.0  5.0\n",
       " 1.0  1.0  1.0  1.0  28.0  1.0  0.0  1.0      0.0  0.0  1.0  12.0  2.0  4.0\n",
       " 1.0  1.0  1.0  1.0  27.0  1.0  0.0  0.0     20.0  1.0  0.0   8.0  4.0  7.0\n",
       " 1.0  1.0  1.0  1.0  34.0  1.0  1.0  0.0      7.0  1.0  0.0   9.0  5.0  4.0\n",
       " 1.0  1.0  1.0  1.0  24.0  1.0  0.0  0.0      0.0  0.0  0.0  12.0  3.0  3.0\n",
       " 1.0  1.0  0.0  1.0  31.0  0.0  0.0  0.0  …   5.0  0.0  0.0  13.0  4.0  4.0\n",
       " 1.0  1.0  1.0  1.0  33.0  1.0  0.0  0.0     30.0  1.0  0.0  11.0  4.0  2.0\n",
       " 1.0  1.0  1.0  1.0  27.0  1.0  0.0  0.0     30.0  1.0  0.0  10.0  4.0  5.0\n",
       " ⋮                         ⋮              ⋱                        ⋮    \n",
       " 1.0  1.0  1.0  1.0  30.0  0.0  0.0  0.0     30.0  1.0  0.0  11.0  2.0  2.0\n",
       " 1.0  0.0  1.0  1.0  19.0  0.0  0.0  0.0  …   2.0  0.0  0.0   7.0  6.0  6.0\n",
       " 1.0  1.0  0.0  1.0  37.0  0.0  0.0  0.0     30.0  1.0  0.0   9.0  2.0  1.0\n",
       " 1.0  1.0  0.0  1.0  28.0  0.0  0.0  0.0      0.0  0.0  0.0  10.0  4.0  3.0\n",
       " 1.0  1.0  1.0  1.0  27.0  0.0  0.0  1.0      5.0  0.0  1.0   9.0  4.0  5.0\n",
       " 1.0  1.0  0.0  1.0  38.0  0.0  0.0  0.0      0.0  0.0  0.0   7.0  6.0  2.0\n",
       " 1.0  0.0  1.0  1.0  27.0  0.0  0.0  0.0  …  30.0  0.0  1.0  11.0  2.0  3.0\n",
       " 1.0  0.0  1.0  1.0  37.0  0.0  0.0  0.0      0.0  0.0  0.0   6.0  4.0  1.0\n",
       " 1.0  0.0  1.0  1.0  29.0  1.0  0.0  1.0      0.0  1.0  1.0  10.0  3.0  6.0\n",
       " 1.0  1.0  1.0  1.0  25.0  0.0  0.0  1.0      0.0  1.0  0.0  13.0  6.0  4.0\n",
       " 1.0  1.0  1.0  1.0  18.0  0.0  0.0  0.0      0.0  1.0  0.0  11.0  2.0  4.0\n",
       " 1.0  1.0  1.0  1.0  25.0  0.0  0.0  1.0  …   0.0  0.0  0.0   9.0  6.0  2.0"
      ]
     },
     "execution_count": 22,
     "metadata": {},
     "output_type": "execute_result"
    }
   ],
   "source": [
    "# Transfer DataFrame to matrix form\n",
    "\n",
    "df=a_copy|>Tables.matrix\n",
    "\n",
    "# Transfer the dataset to 2-classifiers. df_0 represents the result is 0, df_1 represents the result is 1.\n",
    "# Due to my datasset is binary problems, and each result is 50 percents of the whole dataset. So i didn't add any other pre-actions for dataset. \n",
    "\n",
    "df_0 = df[df[:,1] .== 0, :]\n",
    "df_1 = df[df[:,1] .== 1, :]"
   ]
  },
  {
   "cell_type": "code",
   "execution_count": 23,
   "id": "restricted-campaign",
   "metadata": {},
   "outputs": [
    {
     "data": {
      "text/plain": [
       "21136×22 Matrix{Float64}:\n",
       " 0.0  0.0  1.0  1.0  25.0  1.0  0.0  0.0  …   2.0  0.0  0.0  11.0  5.0  7.0\n",
       " 0.0  1.0  1.0  1.0  29.0  1.0  0.0  0.0      1.0  0.0  1.0  13.0  5.0  8.0\n",
       " 0.0  0.0  0.0  1.0  29.0  1.0  0.0  0.0      0.0  0.0  1.0   4.0  4.0  4.0\n",
       " 0.0  0.0  0.0  1.0  26.0  0.0  0.0  0.0      0.0  0.0  1.0   2.0  5.0  5.0\n",
       " 0.0  0.0  0.0  1.0  31.0  0.0  0.0  0.0      2.0  0.0  0.0   3.0  6.0  8.0\n",
       " 0.0  0.0  0.0  1.0  23.0  0.0  0.0  0.0  …   3.0  0.0  0.0   2.0  5.0  8.0\n",
       " 0.0  1.0  1.0  1.0  29.0  0.0  0.0  0.0      0.0  0.0  0.0  12.0  3.0  2.0\n",
       " 0.0  0.0  0.0  1.0  25.0  0.0  0.0  0.0      3.0  0.0  1.0   4.0  6.0  8.0\n",
       " 0.0  0.0  1.0  1.0  30.0  1.0  0.0  0.0      1.0  1.0  0.0   8.0  5.0  8.0\n",
       " 0.0  0.0  0.0  1.0  27.0  0.0  0.0  0.0      1.0  0.0  0.0   6.0  6.0  7.0\n",
       " 0.0  0.0  0.0  1.0  26.0  1.0  0.0  0.0  …   0.0  0.0  0.0   5.0  6.0  8.0\n",
       " 0.0  1.0  1.0  1.0  25.0  0.0  1.0  1.0     14.0  0.0  1.0   8.0  5.0  2.0\n",
       " 0.0  1.0  0.0  1.0  22.0  1.0  0.0  0.0      0.0  0.0  0.0  11.0  5.0  7.0\n",
       " ⋮                         ⋮              ⋱                        ⋮    \n",
       " 1.0  1.0  0.0  1.0  29.0  0.0  0.0  1.0     30.0  1.0  1.0  11.0  2.0  2.0\n",
       " 1.0  1.0  0.0  1.0  27.0  1.0  0.0  0.0  …   0.0  0.0  1.0   8.0  4.0  6.0\n",
       " 1.0  0.0  0.0  1.0  21.0  0.0  0.0  0.0      0.0  0.0  0.0   4.0  5.0  6.0\n",
       " 1.0  1.0  1.0  1.0  29.0  1.0  0.0  0.0      0.0  1.0  0.0  13.0  2.0  1.0\n",
       " 1.0  1.0  1.0  1.0  24.0  0.0  0.0  1.0      0.0  0.0  1.0  11.0  6.0  8.0\n",
       " 1.0  1.0  1.0  1.0  32.0  1.0  0.0  1.0     30.0  1.0  1.0  10.0  3.0  2.0\n",
       " 1.0  1.0  1.0  1.0  24.0  0.0  0.0  1.0  …   3.0  1.0  1.0   9.0  3.0  1.0\n",
       " 1.0  1.0  0.0  1.0  32.0  0.0  1.0  0.0      0.0  0.0  1.0   9.0  6.0  8.0\n",
       " 1.0  1.0  0.0  1.0  38.0  0.0  0.0  0.0      0.0  0.0  1.0   8.0  4.0  4.0\n",
       " 1.0  1.0  1.0  1.0  48.0  0.0  0.0  0.0     15.0  1.0  0.0   8.0  5.0  4.0\n",
       " 1.0  1.0  0.0  1.0  30.0  0.0  0.0  0.0      1.0  0.0  0.0   8.0  6.0  2.0\n",
       " 1.0  1.0  0.0  1.0  24.0  0.0  0.0  0.0  …   0.0  0.0  1.0  12.0  3.0  4.0"
      ]
     },
     "execution_count": 23,
     "metadata": {},
     "output_type": "execute_result"
    }
   ],
   "source": [
    "# The columns of matrix is 35346(here just using 35000 is the same), using random sub-sequence to select 70 percents of \n",
    "# columns as the train data.\n",
    "\n",
    "sample = randsubseq(1:35000, 0.7)\n",
    "train_df = vcat(df_0[sample, :], df_1[sample, :])\n",
    "\n",
    "# Then from the not selected columns (which is 30 percents) to select the test data.\n",
    "\n",
    "notsample = [i for i in 1:35000 if isempty(searchsorted(sample, i))]\n",
    "test_df = vcat(df_0[notsample, :], df_1[notsample, :])"
   ]
  },
  {
   "cell_type": "code",
   "execution_count": 24,
   "id": "proud-queensland",
   "metadata": {},
   "outputs": [
    {
     "data": {
      "text/plain": [
       "21136-element Vector{Float64}:\n",
       " 0.0\n",
       " 0.0\n",
       " 0.0\n",
       " 0.0\n",
       " 0.0\n",
       " 0.0\n",
       " 0.0\n",
       " 0.0\n",
       " 0.0\n",
       " 0.0\n",
       " 0.0\n",
       " 0.0\n",
       " 0.0\n",
       " ⋮\n",
       " 1.0\n",
       " 1.0\n",
       " 1.0\n",
       " 1.0\n",
       " 1.0\n",
       " 1.0\n",
       " 1.0\n",
       " 1.0\n",
       " 1.0\n",
       " 1.0\n",
       " 1.0\n",
       " 1.0"
      ]
     },
     "execution_count": 24,
     "metadata": {},
     "output_type": "execute_result"
    }
   ],
   "source": [
    "# Divide the columns into features and result. From my dataset, From 2 to 22 columns are the attributes of whether diabetes or not.\n",
    "\n",
    "X_train = train_df[:, 2:22]\n",
    "X_test = test_df[:, 2:22]\n",
    "\n",
    "y_train = train_df[:, 1]\n",
    "y_test = test_df[:, 1]"
   ]
  },
  {
   "cell_type": "code",
   "execution_count": 25,
   "id": "latter-rendering",
   "metadata": {},
   "outputs": [
    {
     "data": {
      "text/plain": [
       "([-1.1410765551724502 -1.1410765551724502 … 0.876347454956597 0.876347454956597; -1.050114350078777 -1.050114350078777 … 0.9522577564633818 -1.050114350078777; … ; 1.0478129065438462 1.0478129065438462 … -0.8998563670927371 -0.8998563670927371; 1.0581893275975054 1.0581893275975054 … -2.1702923971605177 -0.786657372264222], [-1.1410765551724502 0.876347454956597 … 0.876347454956597 0.876347454956597; 0.9522577564633818 0.9522577564633818 … -1.050114350078777 -1.050114350078777; … ; 0.07397826972555453 0.07397826972555453 … 1.0478129065438462 -1.8736910039110288; 0.5969776526320735 1.0581893275975054 … -1.7090807221950857 -0.786657372264222])"
      ]
     },
     "execution_count": 25,
     "metadata": {},
     "output_type": "execute_result"
    }
   ],
   "source": [
    "using Distributions\n",
    "\n",
    "# Transfer the X_train to 1 diminension.\n",
    "\n",
    "dt = fit(ZScoreTransform, X_train, dims=1)\n",
    "\n",
    "# Using StateBase package to transfer X_train and X_test(make them standard) to the same formate as dt.\n",
    "\n",
    "X_train_std = StatsBase.transform(dt, X_train)\n",
    "X_test_std = StatsBase.transform(dt, X_test)\n",
    "\n",
    "# Transpose the X_train_std and X_test_std.\n",
    "    \n",
    "X_train_std, X_test_std= transpose(X_train_std), transpose(X_test_std)"
   ]
  },
  {
   "cell_type": "code",
   "execution_count": 32,
   "id": "drawn-textbook",
   "metadata": {},
   "outputs": [
    {
     "data": {
      "text/plain": [
       "Chain(\n",
       "  Dense(21, 8, σ),                      \u001b[90m# 176 parameters\u001b[39m\n",
       "  Dense(8, 1, σ),                       \u001b[90m# 9 parameters\u001b[39m\n",
       ")\u001b[90m                   # Total: 4 arrays, \u001b[39m185 parameters, 996 bytes."
      ]
     },
     "execution_count": 32,
     "metadata": {},
     "output_type": "execute_result"
    }
   ],
   "source": [
    "base_model=Chain(Dense(21, 8, sigmoid), Dense(8, 1, sigmoid))"
   ]
  },
  {
   "cell_type": "code",
   "execution_count": 27,
   "id": "graduate-shadow",
   "metadata": {},
   "outputs": [
    {
     "name": "stdout",
     "output_type": "stream",
     "text": [
      "loss(X_test_std, y_test) = 0.7577324821272544\n",
      "loss(X_test_std, y_test) = 0.7563078757316315\n",
      "loss(X_test_std, y_test) = 0.7548730795304073\n",
      "loss(X_test_std, y_test) = 0.7534286971497473\n",
      "loss(X_test_std, y_test) = 0.751975449105833\n",
      "loss(X_test_std, y_test) = 0.7505141822402857\n",
      "loss(X_test_std, y_test) = 0.7490458710867265\n",
      "loss(X_test_std, y_test) = 0.7475716190970703\n",
      "loss(X_test_std, y_test) = 0.746092647873391\n",
      "loss(X_test_std, y_test) = 0.7446102859003362\n",
      "loss(X_test_std, y_test) = 0.7431259623459242\n",
      "loss(X_test_std, y_test) = 0.7416411899685292\n",
      "loss(X_test_std, y_test) = 0.7401575478794662\n",
      "loss(X_test_std, y_test) = 0.7386766555273439\n",
      "loss(X_test_std, y_test) = 0.7372001697275763\n",
      "loss(X_test_std, y_test) = 0.7357297509451778\n",
      "loss(X_test_std, y_test) = 0.7342670677144811\n",
      "loss(X_test_std, y_test) = 0.7328137615960615\n",
      "loss(X_test_std, y_test) = 0.7313714416861861\n",
      "loss(X_test_std, y_test) = 0.7299416636030704\n",
      "loss(X_test_std, y_test) = 0.7285259218852341\n",
      "loss(X_test_std, y_test) = 0.7271256404034272\n",
      "loss(X_test_std, y_test) = 0.7257421538893661\n",
      "loss(X_test_std, y_test) = 0.7243766978786668\n",
      "loss(X_test_std, y_test) = 0.7230304121379205\n",
      "loss(X_test_std, y_test) = 0.7217043288532857\n",
      "loss(X_test_std, y_test) = 0.7203993632278639\n",
      "loss(X_test_std, y_test) = 0.7191163224935958\n",
      "loss(X_test_std, y_test) = 0.717855897348359\n",
      "loss(X_test_std, y_test) = 0.7166186607087683\n",
      "loss(X_test_std, y_test) = 0.7154050767889261\n",
      "loss(X_test_std, y_test) = 0.714215504057374\n",
      "loss(X_test_std, y_test) = 0.713050188027367\n",
      "loss(X_test_std, y_test) = 0.711909284310476\n",
      "loss(X_test_std, y_test) = 0.7107928491775909\n",
      "loss(X_test_std, y_test) = 0.7097008549741148\n",
      "loss(X_test_std, y_test) = 0.7086331931501502\n",
      "loss(X_test_std, y_test) = 0.7075896813759084\n",
      "loss(X_test_std, y_test) = 0.7065700762484105\n",
      "loss(X_test_std, y_test) = 0.7055740713097923\n",
      "loss(X_test_std, y_test) = 0.7046013089237472\n",
      "loss(X_test_std, y_test) = 0.7036513920614363\n",
      "loss(X_test_std, y_test) = 0.7027238819872125\n",
      "loss(X_test_std, y_test) = 0.7018183036020583\n",
      "loss(X_test_std, y_test) = 0.7009341657895756\n",
      "loss(X_test_std, y_test) = 0.7000709486788226\n",
      "loss(X_test_std, y_test) = 0.6992281195681119\n",
      "loss(X_test_std, y_test) = 0.698405136882656\n",
      "loss(X_test_std, y_test) = 0.6976014514287866\n",
      "loss(X_test_std, y_test) = 0.6968165068797681\n",
      "loss(X_test_std, y_test) = 0.6960497538500532\n",
      "loss(X_test_std, y_test) = 0.695300641182568\n",
      "loss(X_test_std, y_test) = 0.6945686279341629\n",
      "loss(X_test_std, y_test) = 0.6938531790249041\n",
      "loss(X_test_std, y_test) = 0.6931537713771622\n",
      "loss(X_test_std, y_test) = 0.6924698901416124\n",
      "loss(X_test_std, y_test) = 0.6918010372180842\n",
      "loss(X_test_std, y_test) = 0.6911467253286648\n",
      "loss(X_test_std, y_test) = 0.6905064880398529\n",
      "loss(X_test_std, y_test) = 0.6898798698201842\n",
      "loss(X_test_std, y_test) = 0.689266437155816\n",
      "loss(X_test_std, y_test) = 0.68866576970105\n",
      "loss(X_test_std, y_test) = 0.6880774651457782\n",
      "loss(X_test_std, y_test) = 0.687501137057185\n",
      "loss(X_test_std, y_test) = 0.686936415767421\n",
      "loss(X_test_std, y_test) = 0.686382952534502\n",
      "loss(X_test_std, y_test) = 0.6858404117948501\n",
      "loss(X_test_std, y_test) = 0.6853084723001905\n",
      "loss(X_test_std, y_test) = 0.6847868273438782\n",
      "loss(X_test_std, y_test) = 0.6842751861341502\n",
      "loss(X_test_std, y_test) = 0.6837732742245514\n",
      "loss(X_test_std, y_test) = 0.6832808245117981\n",
      "loss(X_test_std, y_test) = 0.6827975839135008\n",
      "loss(X_test_std, y_test) = 0.6823233092864323\n",
      "loss(X_test_std, y_test) = 0.6818577684351124\n",
      "loss(X_test_std, y_test) = 0.6814007354778313\n",
      "loss(X_test_std, y_test) = 0.680951995510923\n",
      "loss(X_test_std, y_test) = 0.6805113361451615\n",
      "loss(X_test_std, y_test) = 0.6800785552933545\n",
      "loss(X_test_std, y_test) = 0.6796534578244023\n",
      "loss(X_test_std, y_test) = 0.6792358492492149\n",
      "loss(X_test_std, y_test) = 0.6788255417667427\n",
      "loss(X_test_std, y_test) = 0.6784223544949535\n",
      "loss(X_test_std, y_test) = 0.6780261027135046\n",
      "loss(X_test_std, y_test) = 0.6776366184916047\n",
      "loss(X_test_std, y_test) = 0.6772537258586875\n",
      "loss(X_test_std, y_test) = 0.6768772602475729\n",
      "loss(X_test_std, y_test) = 0.6765070562274994\n",
      "loss(X_test_std, y_test) = 0.6761429562661002\n",
      "loss(X_test_std, y_test) = 0.6757848045962715\n",
      "loss(X_test_std, y_test) = 0.6754324482031727\n",
      "loss(X_test_std, y_test) = 0.6750857430254039\n",
      "loss(X_test_std, y_test) = 0.6747445422436992\n",
      "loss(X_test_std, y_test) = 0.6744087045092122\n",
      "loss(X_test_std, y_test) = 0.6740780961116795\n",
      "loss(X_test_std, y_test) = 0.6737525787826499\n",
      "loss(X_test_std, y_test) = 0.6734320262247033\n",
      "loss(X_test_std, y_test) = 0.6731163086560193\n",
      "loss(X_test_std, y_test) = 0.6728053011204548\n",
      "loss(X_test_std, y_test) = 0.6724988814626921\n",
      "loss(X_test_std, y_test) = 0.6721969311414815\n",
      "loss(X_test_std, y_test) = 0.6718993337099122\n",
      "loss(X_test_std, y_test) = 0.6716059738568467\n",
      "loss(X_test_std, y_test) = 0.6713167400103104\n",
      "loss(X_test_std, y_test) = 0.6710315224369408\n",
      "loss(X_test_std, y_test) = 0.6707502124797127\n",
      "loss(X_test_std, y_test) = 0.6704727072716504\n",
      "loss(X_test_std, y_test) = 0.6701989035177717\n",
      "loss(X_test_std, y_test) = 0.6699287023129025\n",
      "loss(X_test_std, y_test) = 0.6696620029679683\n",
      "loss(X_test_std, y_test) = 0.6693987127916957\n",
      "loss(X_test_std, y_test) = 0.6691387377027832\n",
      "loss(X_test_std, y_test) = 0.6688819836221577\n",
      "loss(X_test_std, y_test) = 0.668628367178866\n",
      "loss(X_test_std, y_test) = 0.6683777996379009\n",
      "loss(X_test_std, y_test) = 0.6681301978865124\n",
      "loss(X_test_std, y_test) = 0.6678854792243724\n",
      "loss(X_test_std, y_test) = 0.6676435648020796\n",
      "loss(X_test_std, y_test) = 0.6674043778745777\n",
      "loss(X_test_std, y_test) = 0.6671678424913284\n",
      "loss(X_test_std, y_test) = 0.6669338860792224\n",
      "loss(X_test_std, y_test) = 0.6667024390265343\n",
      "loss(X_test_std, y_test) = 0.6664734360581503\n",
      "loss(X_test_std, y_test) = 0.6662468082134275\n",
      "loss(X_test_std, y_test) = 0.6660224918696329\n",
      "loss(X_test_std, y_test) = 0.6658004241978229\n",
      "loss(X_test_std, y_test) = 0.6655805476997856\n",
      "loss(X_test_std, y_test) = 0.6653628022560126\n",
      "loss(X_test_std, y_test) = 0.6651471324390458\n",
      "loss(X_test_std, y_test) = 0.6649334820071013\n",
      "loss(X_test_std, y_test) = 0.6647218019859864\n",
      "loss(X_test_std, y_test) = 0.6645120387204584\n",
      "loss(X_test_std, y_test) = 0.6643041463360426\n",
      "loss(X_test_std, y_test) = 0.6640980754691909\n",
      "loss(X_test_std, y_test) = 0.663893782495623\n",
      "loss(X_test_std, y_test) = 0.6636912236667252\n",
      "loss(X_test_std, y_test) = 0.6634903560651371\n",
      "loss(X_test_std, y_test) = 0.6632911359630724\n",
      "loss(X_test_std, y_test) = 0.6630935279863037\n",
      "loss(X_test_std, y_test) = 0.6628974930560648\n",
      "loss(X_test_std, y_test) = 0.6627029947037325\n",
      "loss(X_test_std, y_test) = 0.6625099955184406\n",
      "loss(X_test_std, y_test) = 0.6623184647418222\n",
      "loss(X_test_std, y_test) = 0.662128366987985\n",
      "loss(X_test_std, y_test) = 0.6619396737556312\n",
      "loss(X_test_std, y_test) = 0.6617523522185635\n",
      "loss(X_test_std, y_test) = 0.6615663745660421\n",
      "loss(X_test_std, y_test) = 0.6613817132320731\n",
      "loss(X_test_std, y_test) = 0.6611983401229145\n",
      "loss(X_test_std, y_test) = 0.6610162282039664\n",
      "loss(X_test_std, y_test) = 0.6608353533316775\n",
      "loss(X_test_std, y_test) = 0.6606556924829088\n",
      "loss(X_test_std, y_test) = 0.6604772208080495\n",
      "loss(X_test_std, y_test) = 0.6602999160053957\n",
      "loss(X_test_std, y_test) = 0.6601237581000966\n",
      "loss(X_test_std, y_test) = 0.6599487241989677\n",
      "loss(X_test_std, y_test) = 0.6597747947117288\n",
      "loss(X_test_std, y_test) = 0.6596019521974776\n",
      "loss(X_test_std, y_test) = 0.6594301753592171\n",
      "loss(X_test_std, y_test) = 0.6592594485749738\n",
      "loss(X_test_std, y_test) = 0.6590897527565638\n",
      "loss(X_test_std, y_test) = 0.6589210721418396\n",
      "loss(X_test_std, y_test) = 0.6587533917362896\n",
      "loss(X_test_std, y_test) = 0.6585866964247435\n",
      "loss(X_test_std, y_test) = 0.6584209689172645\n",
      "loss(X_test_std, y_test) = 0.6582561964571612\n",
      "loss(X_test_std, y_test) = 0.6580923650475705\n"
     ]
    }
   ],
   "source": [
    "using Flux: logitbinarycrossentropy\n",
    "opt = ADAM()\n",
    "loss(x, y) = logitbinarycrossentropy(vec(base_model(x)), y)\n",
    "accuracy(x, y) = mean(vec(base_model(x) .> 0.5) .== y)\n",
    "evalcb1() = @show(loss(X_test_std, y_test))\n",
    "throttled_cb = Flux.throttle(evalcb1, 0.01)\n",
    "for i in 1:500\n",
    "    Flux.train!(loss, Flux.params(base_model), [(X_train_std, y_train)], opt, cb = throttled_cb)\n",
    "end"
   ]
  },
  {
   "cell_type": "code",
   "execution_count": 28,
   "id": "suitable-forum",
   "metadata": {},
   "outputs": [
    {
     "name": "stderr",
     "output_type": "stream",
     "text": [
      "┌ Info: MLP\n",
      "│   loss = 0.657639259564815\n",
      "│   accuracy = 0.668897347740668\n",
      "└ @ Main In[28]:1\n"
     ]
    }
   ],
   "source": [
    "@info \"MLP\" loss=loss(X_train_std,y_train) accuracy = accuracy(X_train_std,y_train)"
   ]
  },
  {
   "cell_type": "code",
   "execution_count": 88,
   "id": "hearing-effectiveness",
   "metadata": {},
   "outputs": [],
   "source": [
    "# Plots.plot(ys,label=[\"train_acc\"])\n",
    "# "
   ]
  },
  {
   "cell_type": "code",
   "execution_count": 86,
   "id": "latter-apartment",
   "metadata": {},
   "outputs": [
    {
     "name": "stdout",
     "output_type": "stream",
     "text": [
      "confusion matrix of test data in best model:\n",
      "true_true_result->12839,  true_false_result->7306\n",
      "false_false_result->11728,   false_true_result->6174\n"
     ]
    }
   ],
   "source": [
    "\"\"\"\n",
    "    In order to compute for confusion matrix\n",
    "    Just from hw1\n",
    "\"\"\"\n",
    "#TT\n",
    "TT=sum(vec(base_model(X_test_std) .> 0.5) .== 1)\n",
    "#TF\n",
    "TF=sum(vec(base_model(X_test_std) .> 0.5) .== 0)\n",
    "#FT\n",
    "FT=sum(vec(base_model(X_test_std) .< 0.5) .== 1)\n",
    "#FF\n",
    "FF=sum(vec(base_model(X_test_std) .< 0.5) .== 0)\n",
    "println(\"confusion matrix of test data in best model:\")\n",
    "println(\"true_true_result->$TT,  true_false_result->$TF\")\n",
    "println(\"false_false_result->$FF,   false_true_result->$FT\")"
   ]
  }
 ],
 "metadata": {
  "kernelspec": {
   "display_name": "Julia 1.7.1",
   "language": "julia",
   "name": "julia-1.7"
  },
  "language_info": {
   "file_extension": ".jl",
   "mimetype": "application/julia",
   "name": "julia",
   "version": "1.7.1"
  }
 },
 "nbformat": 4,
 "nbformat_minor": 5
}
