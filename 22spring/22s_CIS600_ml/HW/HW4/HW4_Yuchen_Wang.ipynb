{
 "cells": [
  {
   "cell_type": "code",
   "execution_count": 1,
   "id": "controlled-jerusalem",
   "metadata": {},
   "outputs": [
    {
     "data": {
      "text/html": [
       "<div class=\"data-frame\"><p>2,000 rows × 21 columns (omitted printing of 13 columns)</p><table class=\"data-frame\"><thead><tr><th></th><th>battery_power</th><th>blue</th><th>clock_speed</th><th>dual_sim</th><th>fc</th><th>four_g</th><th>int_memory</th><th>m_dep</th></tr><tr><th></th><th title=\"Int64\">Int64</th><th title=\"Int64\">Int64</th><th title=\"Float64\">Float64</th><th title=\"Int64\">Int64</th><th title=\"Int64\">Int64</th><th title=\"Int64\">Int64</th><th title=\"Int64\">Int64</th><th title=\"Float64\">Float64</th></tr></thead><tbody><tr><th>1</th><td>842</td><td>0</td><td>2.2</td><td>0</td><td>1</td><td>0</td><td>7</td><td>0.6</td></tr><tr><th>2</th><td>1021</td><td>1</td><td>0.5</td><td>1</td><td>0</td><td>1</td><td>53</td><td>0.7</td></tr><tr><th>3</th><td>563</td><td>1</td><td>0.5</td><td>1</td><td>2</td><td>1</td><td>41</td><td>0.9</td></tr><tr><th>4</th><td>615</td><td>1</td><td>2.5</td><td>0</td><td>0</td><td>0</td><td>10</td><td>0.8</td></tr><tr><th>5</th><td>1821</td><td>1</td><td>1.2</td><td>0</td><td>13</td><td>1</td><td>44</td><td>0.6</td></tr><tr><th>6</th><td>1859</td><td>0</td><td>0.5</td><td>1</td><td>3</td><td>0</td><td>22</td><td>0.7</td></tr><tr><th>7</th><td>1821</td><td>0</td><td>1.7</td><td>0</td><td>4</td><td>1</td><td>10</td><td>0.8</td></tr><tr><th>8</th><td>1954</td><td>0</td><td>0.5</td><td>1</td><td>0</td><td>0</td><td>24</td><td>0.8</td></tr><tr><th>9</th><td>1445</td><td>1</td><td>0.5</td><td>0</td><td>0</td><td>0</td><td>53</td><td>0.7</td></tr><tr><th>10</th><td>509</td><td>1</td><td>0.6</td><td>1</td><td>2</td><td>1</td><td>9</td><td>0.1</td></tr><tr><th>11</th><td>769</td><td>1</td><td>2.9</td><td>1</td><td>0</td><td>0</td><td>9</td><td>0.1</td></tr><tr><th>12</th><td>1520</td><td>1</td><td>2.2</td><td>0</td><td>5</td><td>1</td><td>33</td><td>0.5</td></tr><tr><th>13</th><td>1815</td><td>0</td><td>2.8</td><td>0</td><td>2</td><td>0</td><td>33</td><td>0.6</td></tr><tr><th>14</th><td>803</td><td>1</td><td>2.1</td><td>0</td><td>7</td><td>0</td><td>17</td><td>1.0</td></tr><tr><th>15</th><td>1866</td><td>0</td><td>0.5</td><td>0</td><td>13</td><td>1</td><td>52</td><td>0.7</td></tr><tr><th>16</th><td>775</td><td>0</td><td>1.0</td><td>0</td><td>3</td><td>0</td><td>46</td><td>0.7</td></tr><tr><th>17</th><td>838</td><td>0</td><td>0.5</td><td>0</td><td>1</td><td>1</td><td>13</td><td>0.1</td></tr><tr><th>18</th><td>595</td><td>0</td><td>0.9</td><td>1</td><td>7</td><td>1</td><td>23</td><td>0.1</td></tr><tr><th>19</th><td>1131</td><td>1</td><td>0.5</td><td>1</td><td>11</td><td>0</td><td>49</td><td>0.6</td></tr><tr><th>20</th><td>682</td><td>1</td><td>0.5</td><td>0</td><td>4</td><td>0</td><td>19</td><td>1.0</td></tr><tr><th>21</th><td>772</td><td>0</td><td>1.1</td><td>1</td><td>12</td><td>0</td><td>39</td><td>0.8</td></tr><tr><th>22</th><td>1709</td><td>1</td><td>2.1</td><td>0</td><td>1</td><td>0</td><td>13</td><td>1.0</td></tr><tr><th>23</th><td>1949</td><td>0</td><td>2.6</td><td>1</td><td>4</td><td>0</td><td>47</td><td>0.3</td></tr><tr><th>24</th><td>1602</td><td>1</td><td>2.8</td><td>1</td><td>4</td><td>1</td><td>38</td><td>0.7</td></tr><tr><th>25</th><td>503</td><td>0</td><td>1.2</td><td>1</td><td>5</td><td>1</td><td>8</td><td>0.4</td></tr><tr><th>26</th><td>961</td><td>1</td><td>1.4</td><td>1</td><td>0</td><td>1</td><td>57</td><td>0.6</td></tr><tr><th>27</th><td>519</td><td>1</td><td>1.6</td><td>1</td><td>7</td><td>1</td><td>51</td><td>0.3</td></tr><tr><th>28</th><td>956</td><td>0</td><td>0.5</td><td>0</td><td>1</td><td>1</td><td>41</td><td>1.0</td></tr><tr><th>29</th><td>1453</td><td>0</td><td>1.6</td><td>1</td><td>12</td><td>1</td><td>52</td><td>0.3</td></tr><tr><th>30</th><td>851</td><td>0</td><td>0.5</td><td>0</td><td>3</td><td>0</td><td>21</td><td>0.4</td></tr><tr><th>&vellip;</th><td>&vellip;</td><td>&vellip;</td><td>&vellip;</td><td>&vellip;</td><td>&vellip;</td><td>&vellip;</td><td>&vellip;</td><td>&vellip;</td></tr></tbody></table></div>"
      ],
      "text/latex": [
       "\\begin{tabular}{r|ccccccccc}\n",
       "\t& battery\\_power & blue & clock\\_speed & dual\\_sim & fc & four\\_g & int\\_memory & m\\_dep & \\\\\n",
       "\t\\hline\n",
       "\t& Int64 & Int64 & Float64 & Int64 & Int64 & Int64 & Int64 & Float64 & \\\\\n",
       "\t\\hline\n",
       "\t1 & 842 & 0 & 2.2 & 0 & 1 & 0 & 7 & 0.6 & $\\dots$ \\\\\n",
       "\t2 & 1021 & 1 & 0.5 & 1 & 0 & 1 & 53 & 0.7 & $\\dots$ \\\\\n",
       "\t3 & 563 & 1 & 0.5 & 1 & 2 & 1 & 41 & 0.9 & $\\dots$ \\\\\n",
       "\t4 & 615 & 1 & 2.5 & 0 & 0 & 0 & 10 & 0.8 & $\\dots$ \\\\\n",
       "\t5 & 1821 & 1 & 1.2 & 0 & 13 & 1 & 44 & 0.6 & $\\dots$ \\\\\n",
       "\t6 & 1859 & 0 & 0.5 & 1 & 3 & 0 & 22 & 0.7 & $\\dots$ \\\\\n",
       "\t7 & 1821 & 0 & 1.7 & 0 & 4 & 1 & 10 & 0.8 & $\\dots$ \\\\\n",
       "\t8 & 1954 & 0 & 0.5 & 1 & 0 & 0 & 24 & 0.8 & $\\dots$ \\\\\n",
       "\t9 & 1445 & 1 & 0.5 & 0 & 0 & 0 & 53 & 0.7 & $\\dots$ \\\\\n",
       "\t10 & 509 & 1 & 0.6 & 1 & 2 & 1 & 9 & 0.1 & $\\dots$ \\\\\n",
       "\t11 & 769 & 1 & 2.9 & 1 & 0 & 0 & 9 & 0.1 & $\\dots$ \\\\\n",
       "\t12 & 1520 & 1 & 2.2 & 0 & 5 & 1 & 33 & 0.5 & $\\dots$ \\\\\n",
       "\t13 & 1815 & 0 & 2.8 & 0 & 2 & 0 & 33 & 0.6 & $\\dots$ \\\\\n",
       "\t14 & 803 & 1 & 2.1 & 0 & 7 & 0 & 17 & 1.0 & $\\dots$ \\\\\n",
       "\t15 & 1866 & 0 & 0.5 & 0 & 13 & 1 & 52 & 0.7 & $\\dots$ \\\\\n",
       "\t16 & 775 & 0 & 1.0 & 0 & 3 & 0 & 46 & 0.7 & $\\dots$ \\\\\n",
       "\t17 & 838 & 0 & 0.5 & 0 & 1 & 1 & 13 & 0.1 & $\\dots$ \\\\\n",
       "\t18 & 595 & 0 & 0.9 & 1 & 7 & 1 & 23 & 0.1 & $\\dots$ \\\\\n",
       "\t19 & 1131 & 1 & 0.5 & 1 & 11 & 0 & 49 & 0.6 & $\\dots$ \\\\\n",
       "\t20 & 682 & 1 & 0.5 & 0 & 4 & 0 & 19 & 1.0 & $\\dots$ \\\\\n",
       "\t21 & 772 & 0 & 1.1 & 1 & 12 & 0 & 39 & 0.8 & $\\dots$ \\\\\n",
       "\t22 & 1709 & 1 & 2.1 & 0 & 1 & 0 & 13 & 1.0 & $\\dots$ \\\\\n",
       "\t23 & 1949 & 0 & 2.6 & 1 & 4 & 0 & 47 & 0.3 & $\\dots$ \\\\\n",
       "\t24 & 1602 & 1 & 2.8 & 1 & 4 & 1 & 38 & 0.7 & $\\dots$ \\\\\n",
       "\t25 & 503 & 0 & 1.2 & 1 & 5 & 1 & 8 & 0.4 & $\\dots$ \\\\\n",
       "\t26 & 961 & 1 & 1.4 & 1 & 0 & 1 & 57 & 0.6 & $\\dots$ \\\\\n",
       "\t27 & 519 & 1 & 1.6 & 1 & 7 & 1 & 51 & 0.3 & $\\dots$ \\\\\n",
       "\t28 & 956 & 0 & 0.5 & 0 & 1 & 1 & 41 & 1.0 & $\\dots$ \\\\\n",
       "\t29 & 1453 & 0 & 1.6 & 1 & 12 & 1 & 52 & 0.3 & $\\dots$ \\\\\n",
       "\t30 & 851 & 0 & 0.5 & 0 & 3 & 0 & 21 & 0.4 & $\\dots$ \\\\\n",
       "\t$\\dots$ & $\\dots$ & $\\dots$ & $\\dots$ & $\\dots$ & $\\dots$ & $\\dots$ & $\\dots$ & $\\dots$ &  \\\\\n",
       "\\end{tabular}\n"
      ],
      "text/plain": [
       "\u001b[1m2000×21 DataFrame\u001b[0m\n",
       "\u001b[1m  Row \u001b[0m│\u001b[1m battery_power \u001b[0m\u001b[1m blue  \u001b[0m\u001b[1m clock_speed \u001b[0m\u001b[1m dual_sim \u001b[0m\u001b[1m fc    \u001b[0m\u001b[1m four_g \u001b[0m\u001b[1m int_memory\u001b[0m ⋯\n",
       "\u001b[1m      \u001b[0m│\u001b[90m Int64         \u001b[0m\u001b[90m Int64 \u001b[0m\u001b[90m Float64     \u001b[0m\u001b[90m Int64    \u001b[0m\u001b[90m Int64 \u001b[0m\u001b[90m Int64  \u001b[0m\u001b[90m Int64     \u001b[0m ⋯\n",
       "──────┼─────────────────────────────────────────────────────────────────────────\n",
       "    1 │           842      0          2.2         0      1       0           7 ⋯\n",
       "    2 │          1021      1          0.5         1      0       1          53\n",
       "    3 │           563      1          0.5         1      2       1          41\n",
       "    4 │           615      1          2.5         0      0       0          10\n",
       "    5 │          1821      1          1.2         0     13       1          44 ⋯\n",
       "    6 │          1859      0          0.5         1      3       0          22\n",
       "    7 │          1821      0          1.7         0      4       1          10\n",
       "    8 │          1954      0          0.5         1      0       0          24\n",
       "    9 │          1445      1          0.5         0      0       0          53 ⋯\n",
       "   10 │           509      1          0.6         1      2       1           9\n",
       "   11 │           769      1          2.9         1      0       0           9\n",
       "  ⋮   │       ⋮          ⋮         ⋮          ⋮        ⋮      ⋮         ⋮      ⋱\n",
       " 1991 │          1617      1          2.4         0      8       1          36\n",
       " 1992 │          1882      0          2.0         0     11       1          44 ⋯\n",
       " 1993 │           674      1          2.9         1      1       0          21\n",
       " 1994 │          1467      1          0.5         0      0       0          18\n",
       " 1995 │           858      0          2.2         0      1       0          50\n",
       " 1996 │           794      1          0.5         1      0       1           2 ⋯\n",
       " 1997 │          1965      1          2.6         1      0       0          39\n",
       " 1998 │          1911      0          0.9         1      1       1          36\n",
       " 1999 │          1512      0          0.9         0      4       1          46\n",
       " 2000 │           510      1          2.0         1      5       1          45 ⋯\n",
       "\u001b[36m                                                14 columns and 1979 rows omitted\u001b[0m"
      ]
     },
     "execution_count": 1,
     "metadata": {},
     "output_type": "execute_result"
    }
   ],
   "source": [
    "using ZipFile, Distributed, CSV, DataFrames, Random, StatsBase, Plots, Statistics, StableRNGs, MLJBase\n",
    "using Flux\n",
    "using Flux: logitbinarycrossentropy\n",
    "using Flux: onehot, onecold, logitcrossentropy #, throttle, @epochs\n",
    "using BSON: @save\n",
    "using Distributions\n",
    "using Plots\n",
    "using LaTeXStrings\n",
    "using Evolutionary\n",
    "using MLDatasets\n",
    "\n",
    "file = CSV.read(\"train.csv\", DataFrame)"
   ]
  },
  {
   "cell_type": "code",
   "execution_count": 2,
   "id": "postal-class",
   "metadata": {},
   "outputs": [
    {
     "data": {
      "text/plain": [
       "1000×21 Matrix{Float64}:\n",
       " 1021.0  1.0  0.5  1.0   0.0  1.0  53.0  …   3.0   7.0  1.0  1.0  0.0  2.0\n",
       "  563.0  1.0  0.5  1.0   2.0  1.0  41.0      2.0   9.0  1.0  1.0  0.0  2.0\n",
       "  615.0  1.0  2.5  0.0   0.0  0.0  10.0      8.0  11.0  1.0  0.0  0.0  2.0\n",
       " 1821.0  0.0  1.7  0.0   4.0  1.0  10.0      8.0  18.0  1.0  0.0  1.0  3.0\n",
       "  769.0  1.0  2.9  1.0   0.0  0.0   9.0      2.0   7.0  0.0  0.0  0.0  3.0\n",
       " 1520.0  1.0  2.2  0.0   5.0  1.0  33.0  …   9.0  13.0  1.0  1.0  1.0  3.0\n",
       "  803.0  1.0  2.1  0.0   7.0  0.0  17.0      1.0   4.0  1.0  0.0  1.0  2.0\n",
       "  838.0  0.0  0.5  0.0   1.0  1.0  13.0      9.0  19.0  1.0  0.0  1.0  3.0\n",
       "  595.0  0.0  0.9  1.0   7.0  1.0  23.0      2.0  18.0  1.0  1.0  0.0  3.0\n",
       "  772.0  0.0  1.1  1.0  12.0  0.0  39.0     15.0   3.0  1.0  1.0  0.0  3.0\n",
       " 1709.0  1.0  2.1  0.0   1.0  0.0  13.0  …   1.0  15.0  1.0  0.0  0.0  3.0\n",
       "  961.0  1.0  1.4  1.0   0.0  1.0  57.0      9.0   7.0  1.0  1.0  1.0  2.0\n",
       "  519.0  1.0  1.6  1.0   7.0  1.0  51.0      1.0   4.0  1.0  0.0  1.0  3.0\n",
       "    ⋮                         ⋮          ⋱   ⋮                         ⋮\n",
       "  816.0  0.0  3.0  1.0   2.0  0.0   9.0      3.0  14.0  1.0  0.0  1.0  3.0\n",
       " 1157.0  1.0  0.8  0.0   7.0  0.0  27.0      4.0   2.0  1.0  0.0  1.0  3.0\n",
       " 1379.0  0.0  1.1  1.0   1.0  1.0  18.0  …   5.0  15.0  1.0  1.0  0.0  2.0\n",
       " 1784.0  0.0  1.6  0.0   4.0  0.0  41.0      1.0  11.0  0.0  1.0  0.0  2.0\n",
       " 1262.0  0.0  1.8  1.0  12.0  0.0  34.0      3.0   4.0  0.0  1.0  1.0  2.0\n",
       " 1829.0  1.0  2.1  0.0   8.0  0.0  59.0      6.0   5.0  1.0  1.0  1.0  3.0\n",
       " 1882.0  0.0  2.0  0.0  11.0  1.0  44.0      8.0  20.0  1.0  1.0  0.0  3.0\n",
       " 1467.0  1.0  0.5  0.0   0.0  0.0  18.0  …  11.0   5.0  1.0  1.0  1.0  3.0\n",
       "  858.0  0.0  2.2  0.0   1.0  0.0  50.0     16.0   3.0  1.0  1.0  0.0  3.0\n",
       " 1965.0  1.0  2.6  1.0   0.0  0.0  39.0     10.0  16.0  1.0  1.0  1.0  2.0\n",
       " 1911.0  0.0  0.9  1.0   1.0  1.0  36.0      1.0   5.0  1.0  1.0  0.0  3.0\n",
       "  510.0  1.0  2.0  1.0   5.0  1.0  45.0      4.0   2.0  1.0  1.0  1.0  3.0"
      ]
     },
     "execution_count": 2,
     "metadata": {},
     "output_type": "execute_result"
    }
   ],
   "source": [
    "# Transfer DataFrame to matrix form\n",
    "df = file |> Tables.matrix\n",
    "\n",
    "# Transfer the dataset to 2-classifiers. df_0 represents the result is 0, df_1 represents the result is 1.\n",
    "# Due to my datasset is binary problems, and each result is 50 percents of the whole dataset. So i didn't add any other pre-actions for dataset. \n",
    "\n",
    "mat_0 = df[df[:,21] .<= 1, :]\n",
    "mat_1 = df[df[:,21] .>= 2, :]\n"
   ]
  },
  {
   "cell_type": "code",
   "execution_count": 3,
   "id": "weekly-presentation",
   "metadata": {},
   "outputs": [
    {
     "data": {
      "text/plain": [
       "574×21 Matrix{Float64}:\n",
       " 1821.0  1.0  1.2  0.0  13.0  1.0  44.0  …   2.0  15.0  1.0  1.0  0.0  1.0\n",
       " 1954.0  0.0  0.5  1.0   0.0  0.0  24.0      3.0   5.0  1.0  1.0  1.0  0.0\n",
       " 1445.0  1.0  0.5  0.0   0.0  0.0  53.0      1.0  20.0  1.0  0.0  0.0  0.0\n",
       "  509.0  1.0  0.6  1.0   2.0  1.0   9.0     10.0  12.0  1.0  0.0  0.0  0.0\n",
       " 1815.0  0.0  2.8  0.0   2.0  0.0  33.0      0.0   2.0  1.0  0.0  0.0  1.0\n",
       "  775.0  0.0  1.0  0.0   3.0  0.0  46.0  …  15.0  11.0  1.0  1.0  1.0  0.0\n",
       " 1131.0  1.0  0.5  1.0  11.0  0.0  49.0     13.0  16.0  1.0  1.0  0.0  1.0\n",
       "  644.0  1.0  2.7  0.0   0.0  0.0  22.0      1.0  15.0  1.0  0.0  0.0  0.0\n",
       " 1253.0  1.0  0.5  1.0   5.0  1.0   5.0      0.0   4.0  1.0  1.0  0.0  1.0\n",
       " 1054.0  1.0  1.8  1.0   3.0  1.0  40.0     12.0  12.0  1.0  0.0  1.0  1.0\n",
       "  578.0  1.0  2.6  1.0   2.0  1.0  57.0  …   3.0   5.0  1.0  0.0  1.0  0.0\n",
       " 1457.0  0.0  1.9  1.0   1.0  1.0  16.0      8.0  12.0  1.0  0.0  1.0  1.0\n",
       "  823.0  1.0  2.7  1.0  13.0  0.0  60.0     11.0  17.0  1.0  1.0  1.0  0.0\n",
       "    ⋮                         ⋮          ⋱   ⋮                         ⋮\n",
       " 1522.0  0.0  2.2  0.0   4.0  0.0  21.0      9.0  16.0  0.0  0.0  1.0  3.0\n",
       " 1788.0  0.0  0.5  0.0   0.0  1.0   6.0      5.0  20.0  1.0  1.0  0.0  2.0\n",
       " 1515.0  1.0  2.1  1.0   4.0  1.0  24.0      5.0  20.0  1.0  0.0  0.0  3.0\n",
       " 1063.0  0.0  2.0  0.0   0.0  0.0  27.0  …   5.0  19.0  0.0  0.0  0.0  2.0\n",
       " 1583.0  0.0  1.2  1.0   0.0  0.0  14.0      6.0   8.0  0.0  0.0  1.0  2.0\n",
       "  640.0  0.0  1.3  1.0   5.0  1.0   6.0      7.0   8.0  1.0  1.0  0.0  2.0\n",
       " 1913.0  1.0  1.8  0.0   0.0  0.0  29.0     13.0   8.0  1.0  1.0  0.0  2.0\n",
       " 1784.0  0.0  1.6  0.0   4.0  0.0  41.0      1.0  11.0  0.0  1.0  0.0  2.0\n",
       " 1829.0  1.0  2.1  0.0   8.0  0.0  59.0  …   6.0   5.0  1.0  1.0  1.0  3.0\n",
       "  858.0  0.0  2.2  0.0   1.0  0.0  50.0     16.0   3.0  1.0  1.0  0.0  3.0\n",
       " 1911.0  0.0  0.9  1.0   1.0  1.0  36.0      1.0   5.0  1.0  1.0  0.0  3.0\n",
       "  510.0  1.0  2.0  1.0   5.0  1.0  45.0      4.0   2.0  1.0  1.0  1.0  3.0"
      ]
     },
     "execution_count": 3,
     "metadata": {},
     "output_type": "execute_result"
    }
   ],
   "source": [
    "# randomly select 70% data from data set as the train data\n",
    "\n",
    "train_data = randsubseq(1:1000, 0.7)\n",
    "train_df = vcat(mat_0[train_data, :], mat_1[train_data, :])\n",
    "\n",
    "# select the rest as the test data \n",
    "\n",
    "test_data = [i for i in 1:1000 if isempty(searchsorted(train_data, i))]\n",
    "test_df = vcat(mat_0[test_data, :], mat_1[test_data, :])"
   ]
  },
  {
   "cell_type": "code",
   "execution_count": 4,
   "id": "featured-residence",
   "metadata": {},
   "outputs": [
    {
     "data": {
      "text/plain": [
       "1×574 Matrix{Float64}:\n",
       " 1.0  0.0  0.0  0.0  1.0  0.0  1.0  0.0  …  2.0  2.0  2.0  3.0  3.0  3.0  3.0"
      ]
     },
     "execution_count": 4,
     "metadata": {},
     "output_type": "execute_result"
    }
   ],
   "source": [
    "# parameters of the training and testing data\n",
    "para_train = train_df[:, 1:20]\n",
    "para_test = test_df[:, 1:20]\n",
    "\n",
    "# value is never used?\n",
    "value_train = train_df[:, 21]\n",
    "value_test = test_df[:, 21]\n",
    "value_train_std = reshape(value_train, (1, :)) \n",
    "value_test_std = reshape(value_test, (1, :)) \n"
   ]
  },
  {
   "cell_type": "code",
   "execution_count": 5,
   "id": "prerequisite-commercial",
   "metadata": {},
   "outputs": [
    {
     "data": {
      "text/plain": [
       "20×574 transpose(::Matrix{Float64}) with eltype Float64:\n",
       "  1.33419     1.63546    0.482486  …  -0.847172   1.53806   -1.63545\n",
       "  1.01804    -0.981586   1.01804      -0.981586  -0.981586   1.01804\n",
       " -0.391419   -1.24098   -1.24098       0.822244  -0.755518   0.579511\n",
       " -1.01947     0.98021   -1.01947      -1.01947    0.98021    0.98021\n",
       "  1.98008    -1.01663   -1.01663      -0.786117  -0.786117   0.13595\n",
       "  0.954405   -1.04704   -1.04704   …  -1.04704    0.954405   0.954405\n",
       "  0.6546     -0.447803   1.15068       0.985321   0.213639   0.70972\n",
       "  0.344832    1.04381    0.69432      -1.40261    0.69432    1.3933\n",
       "  0.0182138   1.32395    0.954939     -1.59977   -0.918511   0.784625\n",
       " -1.08127    -0.205942   1.10705      -1.51894    1.54472    0.669389\n",
       "  0.678773   -1.65198    0.678773  …  -1.31902   -1.15254    1.01174\n",
       "  1.26957    -0.29681   -0.580379     -0.260802   0.504385  -0.362076\n",
       " -0.11402    -0.259651  -0.983186      0.357549   0.856858  -1.17274\n",
       " -0.675366   -1.33374   -0.964272      1.70163    0.848798   1.64699\n",
       " -1.03522     0.868971   1.10699       1.10699   -0.797196   1.58304\n",
       " -0.851924   -0.623527  -1.08032   …   2.34563   -1.08032   -0.39513\n",
       "  0.734447   -1.09685    1.6501       -1.46311   -1.09685   -1.64624\n",
       "  0.564735    0.564735   0.564735      0.564735   0.564735   0.564735\n",
       "  1.00246     1.00246   -0.996849      1.00246    1.00246    1.00246\n",
       " -1.0081      0.991272  -1.0081       -1.0081    -1.0081     0.991272"
      ]
     },
     "execution_count": 5,
     "metadata": {},
     "output_type": "execute_result"
    }
   ],
   "source": [
    "dt = StatsBase.fit(ZScoreTransform, para_train, dims=1)\n",
    "\n",
    "# rotate the matrix for 90 degree\n",
    "para_train_std = StatsBase.transform(dt, para_train)\n",
    "para_test_std = StatsBase.transform(dt, para_test)\n",
    "\n",
    "para_train_std = transpose(para_train_std) \n",
    "para_test_std = transpose(para_test_std)"
   ]
  },
  {
   "cell_type": "code",
   "execution_count": 6,
   "id": "7a431653",
   "metadata": {},
   "outputs": [
    {
     "data": {
      "text/plain": [
       "Particle"
      ]
     },
     "execution_count": 6,
     "metadata": {},
     "output_type": "execute_result"
    }
   ],
   "source": [
    "const Float = Float64\n",
    "\n",
    "\n",
    "\"\"\"\n",
    "    Particle type\n",
    "`nDim::Int`: dimension of the parameter space to be explored\n",
    "`position::Array{Float, 1}`: current position of the particle\n",
    "`velocity::Array{Float, 1}`: current velocity of the particle\n",
    "`pBest::Array{Float, 1}`: the position at which the particle has \n",
    "the best-fit value through particle's history\n",
    "`lBest::Array{Float, 1}`: the position at which the local group has \n",
    "the best-fit value through local group's history\n",
    "`fitValue::Float`: the fit-value at current position\n",
    "`fitpBest::Float`: the fit-value at `pBest`\n",
    "`fitlBest::Float`: the fit-value at `lBest`\n",
    "`nFitEval::Int`: number of the evaluation of the fitness function \n",
    "(which does not take the steps outside the parameter space into account)\n",
    "\"\"\"\n",
    "mutable struct Particle\n",
    "    nDim::Int\n",
    "    \n",
    "    position::Array{Float, 1}\n",
    "    velocity::Array{Float, 1}\n",
    "    pBest::Array{Float, 1}\n",
    "    lBest::Array{Float, 1}\n",
    "    \n",
    "    fitValue::Float\n",
    "    fitpBest::Float\n",
    "    fitlBest::Float\n",
    "    \n",
    "    nFitEval::Int\n",
    "    \n",
    "    # initialize the particle\n",
    "    # with the lBest = pBest = position = random numbers\n",
    "    # and fitlBest = fitpBest = fitValue = Inf\n",
    "    # These setups will be updated by the initiation of the swarm\n",
    "    function Particle(nDim::Int)\n",
    "        position = rand(nDim)\n",
    "        velocity = rand(nDim) - position\n",
    "        pBest = position\n",
    "        lBest = position\n",
    "        \n",
    "        fitValue = Inf\n",
    "        fitpBest = fitValue\n",
    "        fitlBest = fitValue\n",
    "        \n",
    "        nFitEval = 0\n",
    "        \n",
    "        new(nDim, position, velocity, pBest, lBest, \n",
    "            fitValue, fitpBest, fitlBest, nFitEval)\n",
    "    end       \n",
    "end\n",
    "\n",
    "# test\n",
    "# p1 = Particle(4)"
   ]
  },
  {
   "cell_type": "code",
   "execution_count": 7,
   "id": "689c0232",
   "metadata": {},
   "outputs": [
    {
     "data": {
      "text/plain": [
       "initFitValue!"
      ]
     },
     "execution_count": 7,
     "metadata": {},
     "output_type": "execute_result"
    }
   ],
   "source": [
    "\"\"\"\n",
    "    initFitValue!(fitFunc::Function, p::Particle)\n",
    "Initiate the `fitValue` for the `p` particle using the fitness \n",
    "function `fitFunc`.\n",
    "\"\"\"\n",
    "function initFitValue!(fitFunc::Function, p::Particle)\n",
    "    # p.fitValue = fitFunc(p.position)\n",
    "    θ, re = Flux.destructure(base_model)\n",
    "    p.position = θ\n",
    "    p.fitValue = fitFunc(p.position,re)\n",
    "    \n",
    "    # update nFitEval\n",
    "    p.nFitEval += 1\n",
    "    nothing\n",
    "end\n"
   ]
  },
  {
   "cell_type": "code",
   "execution_count": 8,
   "id": "675e4116",
   "metadata": {},
   "outputs": [
    {
     "data": {
      "text/plain": [
       "updatePositionAndFitValue!"
      ]
     },
     "execution_count": 8,
     "metadata": {},
     "output_type": "execute_result"
    }
   ],
   "source": [
    "\"\"\"\n",
    "    updatePositionAndFitValue!(fitFunc::Function, nDim::Int, p::Particle)\n",
    "Update the `position` and `fitValue` for the `p` particle using \n",
    "the fitness function `fitFunc` with `nDim` parameters.\n",
    "\"\"\"\n",
    "function updatePositionAndFitValue!(fitFunc::Function, p::Particle)\n",
    "    p.position += p.velocity\n",
    "    \n",
    "    # if position is outside the paramter space, we set fitValue = Inf\n",
    "    for x in p.position\n",
    "        if (x < 0 || x > 1)\n",
    "            p.fitValue = Inf\n",
    "            return\n",
    "        end\n",
    "    end\n",
    "    # update nFitEval\n",
    "    θ, re = Flux.destructure(base_model)\n",
    "    p.fitValue = fitFunc(p.position,re)\n",
    "\n",
    "    \n",
    "    nothing\n",
    "end\n"
   ]
  },
  {
   "cell_type": "code",
   "execution_count": 32,
   "id": "71c9a2df",
   "metadata": {},
   "outputs": [
    {
     "data": {
      "text/plain": [
       "updatepBestAndFitpBest!"
      ]
     },
     "execution_count": 32,
     "metadata": {},
     "output_type": "execute_result"
    }
   ],
   "source": [
    "\"\"\"\n",
    "    updatepBestAndFitpBest!(p::Particle)\n",
    "Update the `pBest` and `fitpBest` for `p` particle.\n",
    "\"\"\"\n",
    "function updatepBestAndFitpBest!(p::Particle)\n",
    "    if p.fitValue < p.fitpBest \n",
    "        # θ, re = Flux.destructure(base_model)\n",
    "        # base_model=re(p.pBest)\n",
    "        p.fitpBest  = p.fitValue\n",
    "        p.pBest = p.position\n",
    "    end\n",
    "    nothing\n",
    "end\n"
   ]
  },
  {
   "cell_type": "code",
   "execution_count": 33,
   "id": "d155b8a1",
   "metadata": {},
   "outputs": [
    {
     "data": {
      "text/plain": [
       "updateVelocity!"
      ]
     },
     "execution_count": 33,
     "metadata": {},
     "output_type": "execute_result"
    }
   ],
   "source": [
    "\"\"\"\n",
    "    updateVelocity!(p::Particle, w::Float, c1::Float=c1, c2::Float=c2)\n",
    "Update the `velocity` of the particle.\n",
    "\"\"\"\n",
    "function updateVelocity!(p::Particle, w::Float, c1::Float, c2::Float)\n",
    "    p.velocity = w * p.velocity + \n",
    "    c1 * rand() * (p.pBest - p.position) + \n",
    "    c2 * rand() * (p.lBest - p.position)\n",
    "    \n",
    "    nothing\n",
    "end"
   ]
  },
  {
   "cell_type": "code",
   "execution_count": 11,
   "id": "6d7d3ddf",
   "metadata": {},
   "outputs": [
    {
     "data": {
      "text/plain": [
       "neiborIndices"
      ]
     },
     "execution_count": 11,
     "metadata": {},
     "output_type": "execute_result"
    }
   ],
   "source": [
    "\"\"\"\n",
    "    neiborIndices(i::Int, nNeighbor::Int, nParticle::Int)\n",
    "Return the indices for the `nNeighbor` neiborhoods of the `i`th particle\n",
    "in a swarm with `nParticle` particles.\n",
    "\"\"\"\n",
    "function neiborIndices(i::Int, nNeibor::Int, nParticle::Int)\n",
    "    \n",
    "    # number of neighbors should be larger than 3\n",
    "    nNeibor = max(3, nNeibor)\n",
    "    \n",
    "    # number of neighbors on the left side of i-th particle\n",
    "    nLeft = (nNeibor - 1) ÷ 2\n",
    "    \n",
    "    # the index of the starting particle in the local group\n",
    "    startIndex = (i - nLeft)\n",
    "    \n",
    "    # the index of the ending particle in the local group\n",
    "    endIndex = startIndex + nNeibor -1\n",
    "    \n",
    "    # indices for the local group\n",
    "    indices = collect(startIndex:endIndex)\n",
    "    \n",
    "    # ajust the indices to be in the range(1:nParticle)\n",
    "    for i in 1:nNeibor\n",
    "        if indices[i] < 1\n",
    "            indices[i] += nParticle\n",
    "        elseif indices[i] > nParticle\n",
    "            indices[i] -= nParticle\n",
    "        end\n",
    "    end\n",
    "    \n",
    "    indices\n",
    "end"
   ]
  },
  {
   "cell_type": "code",
   "execution_count": 12,
   "id": "5b2e5cd9",
   "metadata": {},
   "outputs": [],
   "source": [
    "mutable struct Swarm\n",
    "    fitFunc::Function\n",
    "    nDim::Int\n",
    "    \n",
    "    nParticle::Int\n",
    "    nNeibor::Int\n",
    "    nInter::Int\n",
    "    \n",
    "    c1::Float\n",
    "    c2::Float\n",
    "    \n",
    "    wMax::Float\n",
    "    wMin::Float\n",
    "    w::Float\n",
    "    \n",
    "    gBest::Array{Float, 1}    \n",
    "    fitgBest::Float\n",
    "    \n",
    "    particles::Array{Particle, 1}\n",
    "    \n",
    "    nFitEvals::Int\n",
    "    \n",
    "    # initialize the swarm\n",
    "    function Swarm(fitFunc::Function, nDim::Int; \n",
    "            nParticle::Int=40, \n",
    "            nNeibor::Int=3, nInter::Int=2000,\n",
    "            c1::Float=2.0, c2::Float=2.0,\n",
    "            wMax::Float=0.9, wMin::Float=0.4)\n",
    "        \n",
    "        if nNeibor > nParticle\n",
    "            error(\"Number of particles in a local group should not exceed \n",
    "                the totoal number of particles in the swarm!\")\n",
    "        end    \n",
    "        \n",
    "        w = wMax\n",
    "        \n",
    "        gBest = rand(nDim)\n",
    "        fitgBest = Inf\n",
    "        \n",
    "        # initialize the swarm with nParticle\n",
    "        particles = [Particle(nDim) for i in 1:nParticle]\n",
    "        \n",
    "        \n",
    "        nFitEvals = 0\n",
    "                \n",
    "        new(fitFunc, nDim, nParticle, nNeibor, nInter, \n",
    "            c1, c2, wMax, wMin, w, gBest, \n",
    "            fitgBest, particles, nFitEvals)        \n",
    "    end       \n",
    "end\n"
   ]
  },
  {
   "cell_type": "code",
   "execution_count": 13,
   "id": "e75f7ad5",
   "metadata": {},
   "outputs": [
    {
     "data": {
      "text/plain": [
       "updatelBestAndFitlBest! (generic function with 1 method)"
      ]
     },
     "execution_count": 13,
     "metadata": {},
     "output_type": "execute_result"
    }
   ],
   "source": [
    "function updatelBestAndFitlBest!(s::Swarm)\n",
    "    for i in 1:s.nParticle\n",
    "        neiborIds = neiborIndices(i, s.nNeibor, s.nParticle)\n",
    "        neiborFits = [s.particles[Id].fitValue for Id in neiborIds]\n",
    "        fitlBest, index = findmin(neiborFits)\n",
    "        \n",
    "        if fitlBest < s.particles[i].fitlBest\n",
    "            # neibor == local group\n",
    "            lBest = s.particles[neiborIds[index]].position\n",
    "            s.particles[i].lBest = lBest\n",
    "            s.particles[i].fitlBest = fitlBest\n",
    "        end\n",
    "    end\n",
    "    nothing\n",
    "end\n"
   ]
  },
  {
   "cell_type": "code",
   "execution_count": 14,
   "id": "f21e9400",
   "metadata": {},
   "outputs": [
    {
     "data": {
      "text/plain": [
       "updategBestAndFitgBest! (generic function with 1 method)"
      ]
     },
     "execution_count": 14,
     "metadata": {},
     "output_type": "execute_result"
    }
   ],
   "source": [
    "function updategBestAndFitgBest!(s::Swarm)\n",
    "    \n",
    "    gFits = [particle.fitValue for particle in s.particles]\n",
    "    fitgBest, index = findmin(gFits)\n",
    "    if fitgBest < s.fitgBest\n",
    "        s.gBest = s.particles[index].position   \n",
    "        s.fitgBest = fitgBest\n",
    "    end\n",
    "    nothing\n",
    "end"
   ]
  },
  {
   "cell_type": "code",
   "execution_count": 15,
   "id": "5f83a94a",
   "metadata": {},
   "outputs": [
    {
     "data": {
      "text/plain": [
       "initSwarm"
      ]
     },
     "execution_count": 15,
     "metadata": {},
     "output_type": "execute_result"
    }
   ],
   "source": [
    "\"\"\"\n",
    "    initSwarm(s::Swarm)\n",
    "Initiation (0st iteration) the swarm `s`.\n",
    "\"\"\"\n",
    "function initSwarm(s::Swarm)\n",
    "    \n",
    "    # initiate the fitValue for each particle\n",
    "    for particle in s.particles\n",
    "        initFitValue!(s.fitFunc, particle)\n",
    "        updatepBestAndFitpBest!(particle)\n",
    "    end\n",
    "    \n",
    "    # update lBest and fitlBest for the swarm\n",
    "    updatelBestAndFitlBest!(s)\n",
    "    \n",
    "    # update gBest and fitgBest for the swarm\n",
    "    updategBestAndFitgBest!(s)\n",
    "    \n",
    "    nothing\n",
    "end"
   ]
  },
  {
   "cell_type": "code",
   "execution_count": 16,
   "id": "285b70d4",
   "metadata": {},
   "outputs": [
    {
     "data": {
      "text/plain": [
       "updateInertia!"
      ]
     },
     "execution_count": 16,
     "metadata": {},
     "output_type": "execute_result"
    }
   ],
   "source": [
    "\"\"\"\n",
    "    updateInertia!(s::Swarm)\n",
    "Update the inertia weight after each iteration.\n",
    "\"\"\"\n",
    "function updateInertia!(s::Swarm)\n",
    "    dw = (s.wMax - s.wMin)/s.nInter\n",
    "    s.w -= dw\n",
    "    \n",
    "    nothing\n",
    "end"
   ]
  },
  {
   "cell_type": "code",
   "execution_count": 17,
   "id": "6dbd2241",
   "metadata": {},
   "outputs": [
    {
     "data": {
      "text/plain": [
       "updateVelocity!"
      ]
     },
     "execution_count": 17,
     "metadata": {},
     "output_type": "execute_result"
    }
   ],
   "source": [
    "\"\"\"\n",
    "    updateVelocity!(s::Swarm)\n",
    "Update the `velocity` for each particle in the swarm `s`.\n",
    "\"\"\"\n",
    "function updateVelocity!(s::Swarm)\n",
    "    for particle in s.particles\n",
    "        updateVelocity!(particle, s.w, s.c1, s.c2)\n",
    "    end        \n",
    "    nothing\n",
    "end\n"
   ]
  },
  {
   "cell_type": "code",
   "execution_count": 18,
   "id": "50d99b58",
   "metadata": {},
   "outputs": [
    {
     "data": {
      "text/plain": [
       "updatePositionAndFitValue!"
      ]
     },
     "execution_count": 18,
     "metadata": {},
     "output_type": "execute_result"
    }
   ],
   "source": [
    "\"\"\"\n",
    "    updatePositionAndFitValue!(s::Swarm)\n",
    "Update the `position` and `fitValue` for each particle in the swarm `s`.\n",
    "\"\"\"\n",
    "function updatePositionAndFitValue!(s::Swarm)\n",
    "    for particle in s.particles\n",
    "        updatePositionAndFitValue!(s.fitFunc, particle)\n",
    "    end        \n",
    "    nothing\n",
    "end"
   ]
  },
  {
   "cell_type": "code",
   "execution_count": 19,
   "id": "1cc6a426",
   "metadata": {},
   "outputs": [
    {
     "data": {
      "text/plain": [
       "updateSwarm"
      ]
     },
     "execution_count": 19,
     "metadata": {},
     "output_type": "execute_result"
    }
   ],
   "source": [
    "\"\"\"\n",
    "    updateSwarm(s::Swarm)\n",
    "One iteration for the swarm `s`.\n",
    "\"\"\"\n",
    "function updateSwarm(s::Swarm)\n",
    "    # update the velocity for each particle in the swarm\n",
    "    updateVelocity!(s::Swarm)\n",
    "    \n",
    "    # update the position and fitValue for each particle in the swarm\n",
    "    updatePositionAndFitValue!(s::Swarm)\n",
    "    \n",
    "    # update the lBest and fitlBest for each particle in the swarm\n",
    "    updatelBestAndFitlBest!(s::Swarm)\n",
    "    \n",
    "    # update the gBest and fitgBest for the swarm\n",
    "    updategBestAndFitgBest!(s::Swarm) \n",
    "    \n",
    "    # update the inertia weigh w for each particle in the swarm\n",
    "    updateInertia!(s::Swarm)\n",
    "    \n",
    "    nothing \n",
    "end"
   ]
  },
  {
   "cell_type": "code",
   "execution_count": 22,
   "id": "29e8b0e8",
   "metadata": {},
   "outputs": [
    {
     "data": {
      "text/plain": [
       "2"
      ]
     },
     "execution_count": 22,
     "metadata": {},
     "output_type": "execute_result"
    }
   ],
   "source": [
    "# basic parameters\n",
    "batch_size = 20\n",
    "# population_size = 300\n",
    "population_size = 30\n",
    "Mutation_rate = 0.5\n",
    "recombination_rate = 0.4\n",
    "Retain_rate = 0.9\n",
    "iteration = 500\n",
    "layer = 2"
   ]
  },
  {
   "cell_type": "code",
   "execution_count": 23,
   "id": "7a067a65",
   "metadata": {},
   "outputs": [
    {
     "data": {
      "text/plain": [
       "Chain(\n",
       "  Dense(20, 12, relu),                  \u001b[90m# 252 parameters\u001b[39m\n",
       "  Dense(12, 1, relu),                   \u001b[90m# 13 parameters\u001b[39m\n",
       ")\u001b[90m                   # Total: 4 arrays, \u001b[39m265 parameters, 1.285 KiB."
      ]
     },
     "execution_count": 23,
     "metadata": {},
     "output_type": "execute_result"
    }
   ],
   "source": [
    "base_model = Chain(Dense(batch_size, 12, relu), Dense(12, 1, relu))"
   ]
  },
  {
   "cell_type": "code",
   "execution_count": 29,
   "id": "f185bc5d",
   "metadata": {},
   "outputs": [
    {
     "data": {
      "text/plain": [
       "(Float32[0.19442172, -0.25658572, 0.40864733, 0.35167807, -0.36398262, -0.4163681, 0.18964973, -0.3573194, 0.18644026, 0.38582742  …  -0.12688942, 0.017137771, 0.37018353, -0.51629823, -0.2204045, -0.44497353, 0.2534936, 0.18262596, -0.13837075, 0.0], Flux.var\"#62#64\"{Chain{Tuple{Dense{typeof(relu), Matrix{Float32}, Vector{Float32}}, Dense{typeof(relu), Matrix{Float32}, Vector{Float32}}}}}(Chain(Dense(20, 12, relu), Dense(12, 1, relu))))"
      ]
     },
     "execution_count": 29,
     "metadata": {},
     "output_type": "execute_result"
    }
   ],
   "source": [
    "θ, re = Flux.destructure(base_model)\n",
    "\n",
    "# θ\n",
    "\n",
    "\n",
    "# return 1, 2\n",
    "\n",
    "# one, two = myfun()"
   ]
  },
  {
   "cell_type": "code",
   "execution_count": 34,
   "id": "87175927",
   "metadata": {},
   "outputs": [],
   "source": [
    "function onePsoRun(fitFunc::Function, nDim::Int; nParticle=100, nInter::Int=4000)\n",
    "    s = Swarm(fitFunc, nDim, nParticle=nParticle, nInter=nInter)\n",
    "    initSwarm(s)\n",
    "    \n",
    "    for i in s.nInter\n",
    "        updateSwarm(s)\n",
    "    end\n",
    "    s.gBest\n",
    "end\n",
    "\n",
    "fitFunc(θ,re) = mean(vec(re(θ)(para_train_std).>0.5).==value_train_std)\n",
    "nDim = 265 \n",
    "\n",
    "nParticle = 100\n",
    "nInter = 40\n",
    "nRun = 20\n",
    "# xs = Array{Float}(undef, nRun)\n",
    "xs = []\n",
    "ys = zeros(nRun)\n",
    "\n",
    "θ, re = Flux.destructure(base_model)\n",
    "\n",
    "for i in 1:nRun\n",
    "    # onePsoRun has no return?\n",
    "    xs = onePsoRun(fitFunc, nDim, nParticle=nParticle, nInter=nInter)\n",
    "    # what does xs means here?\n",
    "    ys[i] = mean(re(xs)(para_train_std))\n",
    "end"
   ]
  },
  {
   "cell_type": "code",
   "execution_count": 35,
   "id": "f78715fa",
   "metadata": {},
   "outputs": [
    {
     "data": {
      "text/plain": [
       "20-element Vector{Float64}:\n",
       " 0.19319337227976754\n",
       " 0.19319337227976754\n",
       " 0.19319337227976754\n",
       " 0.19319337227976754\n",
       " 0.19319337227976754\n",
       " 0.19319337227976754\n",
       " 0.19319337227976754\n",
       " 0.19319337227976754\n",
       " 0.19319337227976754\n",
       " 0.19319337227976754\n",
       " 0.19319337227976754\n",
       " 0.19319337227976754\n",
       " 0.19319337227976754\n",
       " 0.19319337227976754\n",
       " 0.19319337227976754\n",
       " 0.19319337227976754\n",
       " 0.19319337227976754\n",
       " 0.19319337227976754\n",
       " 0.19319337227976754\n",
       " 0.19319337227976754"
      ]
     },
     "execution_count": 35,
     "metadata": {},
     "output_type": "execute_result"
    }
   ],
   "source": [
    "ys"
   ]
  },
  {
   "cell_type": "code",
   "execution_count": 42,
   "id": "a491ae4a",
   "metadata": {},
   "outputs": [
    {
     "data": {
      "image/svg+xml": "<?xml version=\"1.0\" encoding=\"utf-8\"?>\n<svg xmlns=\"http://www.w3.org/2000/svg\" xmlns:xlink=\"http://www.w3.org/1999/xlink\" width=\"600\" height=\"400\" viewBox=\"0 0 2400 1600\">\n<defs>\n  <clipPath id=\"clip250\">\n    <rect x=\"0\" y=\"0\" width=\"2400\" height=\"1600\"/>\n  </clipPath>\n</defs>\n<path clip-path=\"url(#clip250)\" d=\"\nM0 1600 L2400 1600 L2400 0 L0 0  Z\n  \" fill=\"#ffffff\" fill-rule=\"evenodd\" fill-opacity=\"1\"/>\n<defs>\n  <clipPath id=\"clip251\">\n    <rect x=\"480\" y=\"0\" width=\"1681\" height=\"1600\"/>\n  </clipPath>\n</defs>\n<path clip-path=\"url(#clip250)\" d=\"\nM186.274 1486.45 L2352.76 1486.45 L2352.76 47.2441 L186.274 47.2441  Z\n  \" fill=\"#ffffff\" fill-rule=\"evenodd\" fill-opacity=\"1\"/>\n<defs>\n  <clipPath id=\"clip252\">\n    <rect x=\"186\" y=\"47\" width=\"2167\" height=\"1440\"/>\n  </clipPath>\n</defs>\n<polyline clip-path=\"url(#clip252)\" style=\"stroke:#000000; stroke-linecap:butt; stroke-linejoin:round; stroke-width:2; stroke-opacity:0.1; fill:none\" points=\"\n  677.874,1486.45 677.874,47.2441 \n  \"/>\n<polyline clip-path=\"url(#clip252)\" style=\"stroke:#000000; stroke-linecap:butt; stroke-linejoin:round; stroke-width:2; stroke-opacity:0.1; fill:none\" points=\"\n  1215.73,1486.45 1215.73,47.2441 \n  \"/>\n<polyline clip-path=\"url(#clip252)\" style=\"stroke:#000000; stroke-linecap:butt; stroke-linejoin:round; stroke-width:2; stroke-opacity:0.1; fill:none\" points=\"\n  1753.58,1486.45 1753.58,47.2441 \n  \"/>\n<polyline clip-path=\"url(#clip252)\" style=\"stroke:#000000; stroke-linecap:butt; stroke-linejoin:round; stroke-width:2; stroke-opacity:0.1; fill:none\" points=\"\n  2291.44,1486.45 2291.44,47.2441 \n  \"/>\n<polyline clip-path=\"url(#clip250)\" style=\"stroke:#000000; stroke-linecap:butt; stroke-linejoin:round; stroke-width:4; stroke-opacity:1; fill:none\" points=\"\n  186.274,1486.45 2352.76,1486.45 \n  \"/>\n<polyline clip-path=\"url(#clip250)\" style=\"stroke:#000000; stroke-linecap:butt; stroke-linejoin:round; stroke-width:4; stroke-opacity:1; fill:none\" points=\"\n  677.874,1486.45 677.874,1467.55 \n  \"/>\n<polyline clip-path=\"url(#clip250)\" style=\"stroke:#000000; stroke-linecap:butt; stroke-linejoin:round; stroke-width:4; stroke-opacity:1; fill:none\" points=\"\n  1215.73,1486.45 1215.73,1467.55 \n  \"/>\n<polyline clip-path=\"url(#clip250)\" style=\"stroke:#000000; stroke-linecap:butt; stroke-linejoin:round; stroke-width:4; stroke-opacity:1; fill:none\" points=\"\n  1753.58,1486.45 1753.58,1467.55 \n  \"/>\n<polyline clip-path=\"url(#clip250)\" style=\"stroke:#000000; stroke-linecap:butt; stroke-linejoin:round; stroke-width:4; stroke-opacity:1; fill:none\" points=\"\n  2291.44,1486.45 2291.44,1467.55 \n  \"/>\n<path clip-path=\"url(#clip250)\" d=\"M668.152 1514.29 L686.508 1514.29 L686.508 1518.22 L672.434 1518.22 L672.434 1526.7 Q673.453 1526.35 674.471 1526.19 Q675.49 1526 676.508 1526 Q682.295 1526 685.675 1529.17 Q689.054 1532.34 689.054 1537.76 Q689.054 1543.34 685.582 1546.44 Q682.11 1549.52 675.791 1549.52 Q673.615 1549.52 671.346 1549.15 Q669.101 1548.78 666.693 1548.04 L666.693 1543.34 Q668.777 1544.47 670.999 1545.03 Q673.221 1545.58 675.698 1545.58 Q679.703 1545.58 682.041 1543.48 Q684.379 1541.37 684.379 1537.76 Q684.379 1534.15 682.041 1532.04 Q679.703 1529.94 675.698 1529.94 Q673.823 1529.94 671.948 1530.35 Q670.096 1530.77 668.152 1531.65 L668.152 1514.29 Z\" fill=\"#000000\" fill-rule=\"evenodd\" fill-opacity=\"1\" /><path clip-path=\"url(#clip250)\" d=\"M1190.42 1544.91 L1198.06 1544.91 L1198.06 1518.55 L1189.75 1520.21 L1189.75 1515.95 L1198.01 1514.29 L1202.69 1514.29 L1202.69 1544.91 L1210.32 1544.91 L1210.32 1548.85 L1190.42 1548.85 L1190.42 1544.91 Z\" fill=\"#000000\" fill-rule=\"evenodd\" fill-opacity=\"1\" /><path clip-path=\"url(#clip250)\" d=\"M1229.77 1517.37 Q1226.16 1517.37 1224.33 1520.93 Q1222.52 1524.47 1222.52 1531.6 Q1222.52 1538.71 1224.33 1542.27 Q1226.16 1545.82 1229.77 1545.82 Q1233.4 1545.82 1235.21 1542.27 Q1237.04 1538.71 1237.04 1531.6 Q1237.04 1524.47 1235.21 1520.93 Q1233.4 1517.37 1229.77 1517.37 M1229.77 1513.66 Q1235.58 1513.66 1238.63 1518.27 Q1241.71 1522.85 1241.71 1531.6 Q1241.71 1540.33 1238.63 1544.94 Q1235.58 1549.52 1229.77 1549.52 Q1223.96 1549.52 1220.88 1544.94 Q1217.82 1540.33 1217.82 1531.6 Q1217.82 1522.85 1220.88 1518.27 Q1223.96 1513.66 1229.77 1513.66 Z\" fill=\"#000000\" fill-rule=\"evenodd\" fill-opacity=\"1\" /><path clip-path=\"url(#clip250)\" d=\"M1728.77 1544.91 L1736.41 1544.91 L1736.41 1518.55 L1728.1 1520.21 L1728.1 1515.95 L1736.36 1514.29 L1741.04 1514.29 L1741.04 1544.91 L1748.68 1544.91 L1748.68 1548.85 L1728.77 1548.85 L1728.77 1544.91 Z\" fill=\"#000000\" fill-rule=\"evenodd\" fill-opacity=\"1\" /><path clip-path=\"url(#clip250)\" d=\"M1758.17 1514.29 L1776.52 1514.29 L1776.52 1518.22 L1762.45 1518.22 L1762.45 1526.7 Q1763.47 1526.35 1764.49 1526.19 Q1765.51 1526 1766.52 1526 Q1772.31 1526 1775.69 1529.17 Q1779.07 1532.34 1779.07 1537.76 Q1779.07 1543.34 1775.6 1546.44 Q1772.13 1549.52 1765.81 1549.52 Q1763.63 1549.52 1761.36 1549.15 Q1759.12 1548.78 1756.71 1548.04 L1756.71 1543.34 Q1758.79 1544.47 1761.02 1545.03 Q1763.24 1545.58 1765.71 1545.58 Q1769.72 1545.58 1772.06 1543.48 Q1774.39 1541.37 1774.39 1537.76 Q1774.39 1534.15 1772.06 1532.04 Q1769.72 1529.94 1765.71 1529.94 Q1763.84 1529.94 1761.96 1530.35 Q1760.11 1530.77 1758.17 1531.65 L1758.17 1514.29 Z\" fill=\"#000000\" fill-rule=\"evenodd\" fill-opacity=\"1\" /><path clip-path=\"url(#clip250)\" d=\"M2270.21 1544.91 L2286.53 1544.91 L2286.53 1548.85 L2264.59 1548.85 L2264.59 1544.91 Q2267.25 1542.16 2271.83 1537.53 Q2276.44 1532.88 2277.62 1531.53 Q2279.87 1529.01 2280.75 1527.27 Q2281.65 1525.51 2281.65 1523.82 Q2281.65 1521.07 2279.7 1519.33 Q2277.78 1517.6 2274.68 1517.6 Q2272.48 1517.6 2270.03 1518.36 Q2267.6 1519.13 2264.82 1520.68 L2264.82 1515.95 Q2267.64 1514.82 2270.1 1514.24 Q2272.55 1513.66 2274.59 1513.66 Q2279.96 1513.66 2283.15 1516.35 Q2286.35 1519.03 2286.35 1523.52 Q2286.35 1525.65 2285.54 1527.57 Q2284.75 1529.47 2282.64 1532.07 Q2282.07 1532.74 2278.96 1535.95 Q2275.86 1539.15 2270.21 1544.91 Z\" fill=\"#000000\" fill-rule=\"evenodd\" fill-opacity=\"1\" /><path clip-path=\"url(#clip250)\" d=\"M2306.35 1517.37 Q2302.74 1517.37 2300.91 1520.93 Q2299.1 1524.47 2299.1 1531.6 Q2299.1 1538.71 2300.91 1542.27 Q2302.74 1545.82 2306.35 1545.82 Q2309.98 1545.82 2311.79 1542.27 Q2313.62 1538.71 2313.62 1531.6 Q2313.62 1524.47 2311.79 1520.93 Q2309.98 1517.37 2306.35 1517.37 M2306.35 1513.66 Q2312.16 1513.66 2315.21 1518.27 Q2318.29 1522.85 2318.29 1531.6 Q2318.29 1540.33 2315.21 1544.94 Q2312.16 1549.52 2306.35 1549.52 Q2300.54 1549.52 2297.46 1544.94 Q2294.4 1540.33 2294.4 1531.6 Q2294.4 1522.85 2297.46 1518.27 Q2300.54 1513.66 2306.35 1513.66 Z\" fill=\"#000000\" fill-rule=\"evenodd\" fill-opacity=\"1\" /><polyline clip-path=\"url(#clip252)\" style=\"stroke:#000000; stroke-linecap:butt; stroke-linejoin:round; stroke-width:2; stroke-opacity:0.1; fill:none\" points=\"\n  186.274,1368.59 2352.76,1368.59 \n  \"/>\n<polyline clip-path=\"url(#clip252)\" style=\"stroke:#000000; stroke-linecap:butt; stroke-linejoin:round; stroke-width:2; stroke-opacity:0.1; fill:none\" points=\"\n  186.274,1029.15 2352.76,1029.15 \n  \"/>\n<polyline clip-path=\"url(#clip252)\" style=\"stroke:#000000; stroke-linecap:butt; stroke-linejoin:round; stroke-width:2; stroke-opacity:0.1; fill:none\" points=\"\n  186.274,689.717 2352.76,689.717 \n  \"/>\n<polyline clip-path=\"url(#clip252)\" style=\"stroke:#000000; stroke-linecap:butt; stroke-linejoin:round; stroke-width:2; stroke-opacity:0.1; fill:none\" points=\"\n  186.274,350.283 2352.76,350.283 \n  \"/>\n<polyline clip-path=\"url(#clip250)\" style=\"stroke:#000000; stroke-linecap:butt; stroke-linejoin:round; stroke-width:4; stroke-opacity:1; fill:none\" points=\"\n  186.274,1486.45 186.274,47.2441 \n  \"/>\n<polyline clip-path=\"url(#clip250)\" style=\"stroke:#000000; stroke-linecap:butt; stroke-linejoin:round; stroke-width:4; stroke-opacity:1; fill:none\" points=\"\n  186.274,1368.59 205.172,1368.59 \n  \"/>\n<polyline clip-path=\"url(#clip250)\" style=\"stroke:#000000; stroke-linecap:butt; stroke-linejoin:round; stroke-width:4; stroke-opacity:1; fill:none\" points=\"\n  186.274,1029.15 205.172,1029.15 \n  \"/>\n<polyline clip-path=\"url(#clip250)\" style=\"stroke:#000000; stroke-linecap:butt; stroke-linejoin:round; stroke-width:4; stroke-opacity:1; fill:none\" points=\"\n  186.274,689.717 205.172,689.717 \n  \"/>\n<polyline clip-path=\"url(#clip250)\" style=\"stroke:#000000; stroke-linecap:butt; stroke-linejoin:round; stroke-width:4; stroke-opacity:1; fill:none\" points=\"\n  186.274,350.283 205.172,350.283 \n  \"/>\n<path clip-path=\"url(#clip250)\" d=\"M63.9319 1354.39 Q60.3208 1354.39 58.4921 1357.95 Q56.6865 1361.49 56.6865 1368.62 Q56.6865 1375.73 58.4921 1379.29 Q60.3208 1382.83 63.9319 1382.83 Q67.5661 1382.83 69.3717 1379.29 Q71.2004 1375.73 71.2004 1368.62 Q71.2004 1361.49 69.3717 1357.95 Q67.5661 1354.39 63.9319 1354.39 M63.9319 1350.68 Q69.742 1350.68 72.7976 1355.29 Q75.8763 1359.87 75.8763 1368.62 Q75.8763 1377.35 72.7976 1381.96 Q69.742 1386.54 63.9319 1386.54 Q58.1217 1386.54 55.043 1381.96 Q51.9875 1377.35 51.9875 1368.62 Q51.9875 1359.87 55.043 1355.29 Q58.1217 1350.68 63.9319 1350.68 Z\" fill=\"#000000\" fill-rule=\"evenodd\" fill-opacity=\"1\" /><path clip-path=\"url(#clip250)\" d=\"M84.0938 1379.99 L88.978 1379.99 L88.978 1385.87 L84.0938 1385.87 L84.0938 1379.99 Z\" fill=\"#000000\" fill-rule=\"evenodd\" fill-opacity=\"1\" /><path clip-path=\"url(#clip250)\" d=\"M103.191 1381.93 L119.51 1381.93 L119.51 1385.87 L97.566 1385.87 L97.566 1381.93 Q100.228 1379.18 104.811 1374.55 Q109.418 1369.89 110.598 1368.55 Q112.844 1366.03 113.723 1364.29 Q114.626 1362.53 114.626 1360.84 Q114.626 1358.09 112.682 1356.35 Q110.76 1354.62 107.658 1354.62 Q105.459 1354.62 103.006 1355.38 Q100.575 1356.15 97.7974 1357.7 L97.7974 1352.97 Q100.621 1351.84 103.075 1351.26 Q105.529 1350.68 107.566 1350.68 Q112.936 1350.68 116.131 1353.37 Q119.325 1356.05 119.325 1360.54 Q119.325 1362.67 118.515 1364.59 Q117.728 1366.49 115.621 1369.08 Q115.043 1369.76 111.941 1372.97 Q108.839 1376.17 103.191 1381.93 Z\" fill=\"#000000\" fill-rule=\"evenodd\" fill-opacity=\"1\" /><path clip-path=\"url(#clip250)\" d=\"M129.371 1351.31 L147.728 1351.31 L147.728 1355.24 L133.654 1355.24 L133.654 1363.71 Q134.672 1363.37 135.691 1363.21 Q136.709 1363.02 137.728 1363.02 Q143.515 1363.02 146.894 1366.19 Q150.274 1369.36 150.274 1374.78 Q150.274 1380.36 146.802 1383.46 Q143.33 1386.54 137.01 1386.54 Q134.834 1386.54 132.566 1386.17 Q130.32 1385.8 127.913 1385.06 L127.913 1380.36 Q129.996 1381.49 132.219 1382.05 Q134.441 1382.6 136.918 1382.6 Q140.922 1382.6 143.26 1380.5 Q145.598 1378.39 145.598 1374.78 Q145.598 1371.17 143.26 1369.06 Q140.922 1366.96 136.918 1366.96 Q135.043 1366.96 133.168 1367.37 Q131.316 1367.79 129.371 1368.67 L129.371 1351.31 Z\" fill=\"#000000\" fill-rule=\"evenodd\" fill-opacity=\"1\" /><path clip-path=\"url(#clip250)\" d=\"M62.9365 1014.95 Q59.3254 1014.95 57.4967 1018.52 Q55.6912 1022.06 55.6912 1029.19 Q55.6912 1036.29 57.4967 1039.86 Q59.3254 1043.4 62.9365 1043.4 Q66.5707 1043.4 68.3763 1039.86 Q70.205 1036.29 70.205 1029.19 Q70.205 1022.06 68.3763 1018.52 Q66.5707 1014.95 62.9365 1014.95 M62.9365 1011.25 Q68.7467 1011.25 71.8022 1015.85 Q74.8809 1020.44 74.8809 1029.19 Q74.8809 1037.91 71.8022 1042.52 Q68.7467 1047.1 62.9365 1047.1 Q57.1264 1047.1 54.0477 1042.52 Q50.9921 1037.91 50.9921 1029.19 Q50.9921 1020.44 54.0477 1015.85 Q57.1264 1011.25 62.9365 1011.25 Z\" fill=\"#000000\" fill-rule=\"evenodd\" fill-opacity=\"1\" /><path clip-path=\"url(#clip250)\" d=\"M83.0984 1040.55 L87.9827 1040.55 L87.9827 1046.43 L83.0984 1046.43 L83.0984 1040.55 Z\" fill=\"#000000\" fill-rule=\"evenodd\" fill-opacity=\"1\" /><path clip-path=\"url(#clip250)\" d=\"M98.2141 1011.87 L116.57 1011.87 L116.57 1015.81 L102.496 1015.81 L102.496 1024.28 Q103.515 1023.93 104.534 1023.77 Q105.552 1023.59 106.571 1023.59 Q112.358 1023.59 115.737 1026.76 Q119.117 1029.93 119.117 1035.34 Q119.117 1040.92 115.645 1044.02 Q112.172 1047.1 105.853 1047.1 Q103.677 1047.1 101.409 1046.73 Q99.1632 1046.36 96.7558 1045.62 L96.7558 1040.92 Q98.8391 1042.06 101.061 1042.61 Q103.284 1043.17 105.76 1043.17 Q109.765 1043.17 112.103 1041.06 Q114.441 1038.96 114.441 1035.34 Q114.441 1031.73 112.103 1029.63 Q109.765 1027.52 105.76 1027.52 Q103.885 1027.52 102.01 1027.94 Q100.159 1028.35 98.2141 1029.23 L98.2141 1011.87 Z\" fill=\"#000000\" fill-rule=\"evenodd\" fill-opacity=\"1\" /><path clip-path=\"url(#clip250)\" d=\"M138.33 1014.95 Q134.719 1014.95 132.89 1018.52 Q131.084 1022.06 131.084 1029.19 Q131.084 1036.29 132.89 1039.86 Q134.719 1043.4 138.33 1043.4 Q141.964 1043.4 143.769 1039.86 Q145.598 1036.29 145.598 1029.19 Q145.598 1022.06 143.769 1018.52 Q141.964 1014.95 138.33 1014.95 M138.33 1011.25 Q144.14 1011.25 147.195 1015.85 Q150.274 1020.44 150.274 1029.19 Q150.274 1037.91 147.195 1042.52 Q144.14 1047.1 138.33 1047.1 Q132.519 1047.1 129.441 1042.52 Q126.385 1037.91 126.385 1029.19 Q126.385 1020.44 129.441 1015.85 Q132.519 1011.25 138.33 1011.25 Z\" fill=\"#000000\" fill-rule=\"evenodd\" fill-opacity=\"1\" /><path clip-path=\"url(#clip250)\" d=\"M63.9319 675.516 Q60.3208 675.516 58.4921 679.081 Q56.6865 682.623 56.6865 689.752 Q56.6865 696.859 58.4921 700.423 Q60.3208 703.965 63.9319 703.965 Q67.5661 703.965 69.3717 700.423 Q71.2004 696.859 71.2004 689.752 Q71.2004 682.623 69.3717 679.081 Q67.5661 675.516 63.9319 675.516 M63.9319 671.812 Q69.742 671.812 72.7976 676.419 Q75.8763 681.002 75.8763 689.752 Q75.8763 698.479 72.7976 703.085 Q69.742 707.669 63.9319 707.669 Q58.1217 707.669 55.043 703.085 Q51.9875 698.479 51.9875 689.752 Q51.9875 681.002 55.043 676.419 Q58.1217 671.812 63.9319 671.812 Z\" fill=\"#000000\" fill-rule=\"evenodd\" fill-opacity=\"1\" /><path clip-path=\"url(#clip250)\" d=\"M84.0938 701.118 L88.978 701.118 L88.978 706.997 L84.0938 706.997 L84.0938 701.118 Z\" fill=\"#000000\" fill-rule=\"evenodd\" fill-opacity=\"1\" /><path clip-path=\"url(#clip250)\" d=\"M97.9826 672.437 L120.205 672.437 L120.205 674.428 L107.658 706.997 L102.774 706.997 L114.58 676.373 L97.9826 676.373 L97.9826 672.437 Z\" fill=\"#000000\" fill-rule=\"evenodd\" fill-opacity=\"1\" /><path clip-path=\"url(#clip250)\" d=\"M129.371 672.437 L147.728 672.437 L147.728 676.373 L133.654 676.373 L133.654 684.845 Q134.672 684.498 135.691 684.335 Q136.709 684.15 137.728 684.15 Q143.515 684.15 146.894 687.322 Q150.274 690.493 150.274 695.909 Q150.274 701.488 146.802 704.59 Q143.33 707.669 137.01 707.669 Q134.834 707.669 132.566 707.298 Q130.32 706.928 127.913 706.187 L127.913 701.488 Q129.996 702.622 132.219 703.178 Q134.441 703.734 136.918 703.734 Q140.922 703.734 143.26 701.627 Q145.598 699.521 145.598 695.909 Q145.598 692.298 143.26 690.192 Q140.922 688.085 136.918 688.085 Q135.043 688.085 133.168 688.502 Q131.316 688.919 129.371 689.798 L129.371 672.437 Z\" fill=\"#000000\" fill-rule=\"evenodd\" fill-opacity=\"1\" /><path clip-path=\"url(#clip250)\" d=\"M53.7467 363.627 L61.3856 363.627 L61.3856 337.262 L53.0754 338.928 L53.0754 334.669 L61.3393 333.003 L66.0152 333.003 L66.0152 363.627 L73.654 363.627 L73.654 367.563 L53.7467 367.563 L53.7467 363.627 Z\" fill=\"#000000\" fill-rule=\"evenodd\" fill-opacity=\"1\" /><path clip-path=\"url(#clip250)\" d=\"M83.0984 361.683 L87.9827 361.683 L87.9827 367.563 L83.0984 367.563 L83.0984 361.683 Z\" fill=\"#000000\" fill-rule=\"evenodd\" fill-opacity=\"1\" /><path clip-path=\"url(#clip250)\" d=\"M108.168 336.081 Q104.557 336.081 102.728 339.646 Q100.922 343.188 100.922 350.317 Q100.922 357.424 102.728 360.988 Q104.557 364.53 108.168 364.53 Q111.802 364.53 113.608 360.988 Q115.436 357.424 115.436 350.317 Q115.436 343.188 113.608 339.646 Q111.802 336.081 108.168 336.081 M108.168 332.378 Q113.978 332.378 117.033 336.984 Q120.112 341.567 120.112 350.317 Q120.112 359.044 117.033 363.651 Q113.978 368.234 108.168 368.234 Q102.358 368.234 99.2789 363.651 Q96.2234 359.044 96.2234 350.317 Q96.2234 341.567 99.2789 336.984 Q102.358 332.378 108.168 332.378 Z\" fill=\"#000000\" fill-rule=\"evenodd\" fill-opacity=\"1\" /><path clip-path=\"url(#clip250)\" d=\"M138.33 336.081 Q134.719 336.081 132.89 339.646 Q131.084 343.188 131.084 350.317 Q131.084 357.424 132.89 360.988 Q134.719 364.53 138.33 364.53 Q141.964 364.53 143.769 360.988 Q145.598 357.424 145.598 350.317 Q145.598 343.188 143.769 339.646 Q141.964 336.081 138.33 336.081 M138.33 332.378 Q144.14 332.378 147.195 336.984 Q150.274 341.567 150.274 350.317 Q150.274 359.044 147.195 363.651 Q144.14 368.234 138.33 368.234 Q132.519 368.234 129.441 363.651 Q126.385 359.044 126.385 350.317 Q126.385 341.567 129.441 336.984 Q132.519 332.378 138.33 332.378 Z\" fill=\"#000000\" fill-rule=\"evenodd\" fill-opacity=\"1\" /><polyline clip-path=\"url(#clip252)\" style=\"stroke:#009af9; stroke-linecap:butt; stroke-linejoin:round; stroke-width:4; stroke-opacity:1; fill:none\" points=\"\n  247.59,1445.72 355.161,1445.72 462.732,1445.72 570.303,1445.72 677.874,1445.72 785.445,1445.72 893.016,1445.72 1000.59,1445.72 1108.16,1445.72 1215.73,1445.72 \n  1323.3,1445.72 1430.87,1445.72 1538.44,1445.72 1646.01,1445.72 1753.58,1445.72 1861.16,1445.72 1968.73,1445.72 2076.3,1445.72 2183.87,1445.72 2291.44,1445.72 \n  \n  \"/>\n<path clip-path=\"url(#clip250)\" d=\"\nM1639.87 198.898 L2280.54 198.898 L2280.54 95.2176 L1639.87 95.2176  Z\n  \" fill=\"#ffffff\" fill-rule=\"evenodd\" fill-opacity=\"1\"/>\n<polyline clip-path=\"url(#clip250)\" style=\"stroke:#000000; stroke-linecap:butt; stroke-linejoin:round; stroke-width:4; stroke-opacity:1; fill:none\" points=\"\n  1639.87,198.898 2280.54,198.898 2280.54,95.2176 1639.87,95.2176 1639.87,198.898 \n  \"/>\n<polyline clip-path=\"url(#clip250)\" style=\"stroke:#009af9; stroke-linecap:butt; stroke-linejoin:round; stroke-width:4; stroke-opacity:1; fill:none\" points=\"\n  1663.87,147.058 1807.87,147.058 \n  \"/>\n<path clip-path=\"url(#clip250)\" d=\"M1831.87 128.319 L1841.69 128.319 L1841.69 131.629 L1836.13 131.629 L1836.13 167.277 L1841.69 167.277 L1841.69 170.588 L1831.87 170.588 L1831.87 128.319 Z\" fill=\"#000000\" fill-rule=\"evenodd\" fill-opacity=\"1\" /><path clip-path=\"url(#clip250)\" d=\"M1854.79 129.778 L1854.79 142.625 L1850.85 142.625 L1850.85 129.778 L1854.79 129.778 M1863.54 129.778 L1863.54 142.625 L1859.6 142.625 L1859.6 129.778 L1863.54 129.778 Z\" fill=\"#000000\" fill-rule=\"evenodd\" fill-opacity=\"1\" /><path clip-path=\"url(#clip250)\" d=\"M1867.96 129.778 L1897.19 129.778 L1897.19 133.713 L1884.93 133.713 L1884.93 164.338 L1880.23 164.338 L1880.23 133.713 L1867.96 133.713 L1867.96 129.778 Z\" fill=\"#000000\" fill-rule=\"evenodd\" fill-opacity=\"1\" /><path clip-path=\"url(#clip250)\" d=\"M1915.64 150.31 L1915.64 152.393 L1896.06 152.393 Q1896.34 156.791 1898.7 159.106 Q1901.08 161.398 1905.32 161.398 Q1907.77 161.398 1910.06 160.796 Q1912.38 160.194 1914.65 158.99 L1914.65 163.018 Q1912.36 163.99 1909.95 164.5 Q1907.54 165.009 1905.06 165.009 Q1898.86 165.009 1895.23 161.398 Q1891.62 157.787 1891.62 151.629 Q1891.62 145.264 1895.04 141.537 Q1898.49 137.787 1904.32 137.787 Q1909.56 137.787 1912.59 141.166 Q1915.64 144.523 1915.64 150.31 M1911.38 149.06 Q1911.34 145.565 1909.42 143.481 Q1907.52 141.398 1904.37 141.398 Q1900.81 141.398 1898.65 143.412 Q1896.52 145.426 1896.2 149.083 L1911.38 149.06 Z\" fill=\"#000000\" fill-rule=\"evenodd\" fill-opacity=\"1\" /><path clip-path=\"url(#clip250)\" d=\"M1939.16 139.176 L1939.16 143.203 Q1937.36 142.277 1935.41 141.815 Q1933.47 141.352 1931.38 141.352 Q1928.21 141.352 1926.62 142.324 Q1925.04 143.296 1925.04 145.24 Q1925.04 146.722 1926.18 147.578 Q1927.31 148.412 1930.74 149.176 L1932.19 149.5 Q1936.73 150.472 1938.63 152.254 Q1940.55 154.014 1940.55 157.185 Q1940.55 160.796 1937.68 162.902 Q1934.83 165.009 1929.83 165.009 Q1927.75 165.009 1925.48 164.592 Q1923.24 164.199 1920.74 163.388 L1920.74 158.99 Q1923.1 160.217 1925.39 160.842 Q1927.68 161.444 1929.93 161.444 Q1932.93 161.444 1934.56 160.426 Q1936.18 159.384 1936.18 157.509 Q1936.18 155.773 1935 154.847 Q1933.84 153.921 1929.88 153.064 L1928.4 152.717 Q1924.44 151.884 1922.68 150.171 Q1920.92 148.435 1920.92 145.426 Q1920.92 141.768 1923.51 139.778 Q1926.11 137.787 1930.87 137.787 Q1933.24 137.787 1935.32 138.134 Q1937.4 138.481 1939.16 139.176 Z\" fill=\"#000000\" fill-rule=\"evenodd\" fill-opacity=\"1\" /><path clip-path=\"url(#clip250)\" d=\"M1951.55 131.051 L1951.55 138.412 L1960.32 138.412 L1960.32 141.722 L1951.55 141.722 L1951.55 155.796 Q1951.55 158.967 1952.4 159.87 Q1953.28 160.773 1955.94 160.773 L1960.32 160.773 L1960.32 164.338 L1955.94 164.338 Q1951.01 164.338 1949.14 162.509 Q1947.26 160.657 1947.26 155.796 L1947.26 141.722 L1944.14 141.722 L1944.14 138.412 L1947.26 138.412 L1947.26 131.051 L1951.55 131.051 Z\" fill=\"#000000\" fill-rule=\"evenodd\" fill-opacity=\"1\" /><path clip-path=\"url(#clip250)\" d=\"M1965.92 138.412 L1970.18 138.412 L1970.18 164.338 L1965.92 164.338 L1965.92 138.412 M1965.92 128.319 L1970.18 128.319 L1970.18 133.713 L1965.92 133.713 L1965.92 128.319 Z\" fill=\"#000000\" fill-rule=\"evenodd\" fill-opacity=\"1\" /><path clip-path=\"url(#clip250)\" d=\"M2000.64 148.689 L2000.64 164.338 L1996.38 164.338 L1996.38 148.828 Q1996.38 145.148 1994.95 143.319 Q1993.51 141.49 1990.64 141.49 Q1987.19 141.49 1985.2 143.69 Q1983.21 145.889 1983.21 149.685 L1983.21 164.338 L1978.93 164.338 L1978.93 138.412 L1983.21 138.412 L1983.21 142.44 Q1984.74 140.102 1986.8 138.944 Q1988.88 137.787 1991.59 137.787 Q1996.06 137.787 1998.35 140.565 Q2000.64 143.319 2000.64 148.689 Z\" fill=\"#000000\" fill-rule=\"evenodd\" fill-opacity=\"1\" /><path clip-path=\"url(#clip250)\" d=\"M2026.2 151.074 Q2026.2 146.444 2024.28 143.898 Q2022.38 141.352 2018.93 141.352 Q2015.5 141.352 2013.58 143.898 Q2011.68 146.444 2011.68 151.074 Q2011.68 155.68 2013.58 158.226 Q2015.5 160.773 2018.93 160.773 Q2022.38 160.773 2024.28 158.226 Q2026.2 155.68 2026.2 151.074 M2030.46 161.12 Q2030.46 167.74 2027.52 170.958 Q2024.58 174.199 2018.51 174.199 Q2016.27 174.199 2014.28 173.851 Q2012.29 173.527 2010.41 172.833 L2010.41 168.689 Q2012.29 169.708 2014.12 170.194 Q2015.94 170.68 2017.84 170.68 Q2022.03 170.68 2024.12 168.481 Q2026.2 166.305 2026.2 161.884 L2026.2 159.777 Q2024.88 162.069 2022.82 163.203 Q2020.76 164.338 2017.89 164.338 Q2013.12 164.338 2010.2 160.703 Q2007.29 157.069 2007.29 151.074 Q2007.29 145.055 2010.2 141.421 Q2013.12 137.787 2017.89 137.787 Q2020.76 137.787 2022.82 138.921 Q2024.88 140.055 2026.2 142.347 L2026.2 138.412 L2030.46 138.412 L2030.46 161.12 Z\" fill=\"#000000\" fill-rule=\"evenodd\" fill-opacity=\"1\" /><path clip-path=\"url(#clip250)\" d=\"M2070.87 148.134 Q2072.38 148.643 2073.79 150.31 Q2075.23 151.977 2076.66 154.893 L2081.41 164.338 L2076.38 164.338 L2071.96 155.472 Q2070.25 152 2068.63 150.865 Q2067.03 149.731 2064.25 149.731 L2059.16 149.731 L2059.16 164.338 L2054.49 164.338 L2054.49 129.778 L2065.04 129.778 Q2070.97 129.778 2073.88 132.254 Q2076.8 134.731 2076.8 139.731 Q2076.8 142.995 2075.27 145.148 Q2073.77 147.301 2070.87 148.134 M2059.16 133.62 L2059.16 145.889 L2065.04 145.889 Q2068.42 145.889 2070.13 144.338 Q2071.87 142.764 2071.87 139.731 Q2071.87 136.699 2070.13 135.171 Q2068.42 133.62 2065.04 133.62 L2059.16 133.62 Z\" fill=\"#000000\" fill-rule=\"evenodd\" fill-opacity=\"1\" /><path clip-path=\"url(#clip250)\" d=\"M2107.29 150.31 L2107.29 152.393 L2087.7 152.393 Q2087.98 156.791 2090.34 159.106 Q2092.73 161.398 2096.96 161.398 Q2099.42 161.398 2101.71 160.796 Q2104.02 160.194 2106.29 158.99 L2106.29 163.018 Q2104 163.99 2101.59 164.5 Q2099.18 165.009 2096.71 165.009 Q2090.5 165.009 2086.87 161.398 Q2083.26 157.787 2083.26 151.629 Q2083.26 145.264 2086.68 141.537 Q2090.13 137.787 2095.97 137.787 Q2101.2 137.787 2104.23 141.166 Q2107.29 144.523 2107.29 150.31 M2103.03 149.06 Q2102.98 145.565 2101.06 143.481 Q2099.16 141.398 2096.01 141.398 Q2092.45 141.398 2090.3 143.412 Q2088.17 145.426 2087.84 149.083 L2103.03 149.06 Z\" fill=\"#000000\" fill-rule=\"evenodd\" fill-opacity=\"1\" /><path clip-path=\"url(#clip250)\" d=\"M2130.8 139.176 L2130.8 143.203 Q2129 142.277 2127.05 141.815 Q2125.11 141.352 2123.03 141.352 Q2119.86 141.352 2118.26 142.324 Q2116.68 143.296 2116.68 145.24 Q2116.68 146.722 2117.82 147.578 Q2118.95 148.412 2122.38 149.176 L2123.84 149.5 Q2128.37 150.472 2130.27 152.254 Q2132.19 154.014 2132.19 157.185 Q2132.19 160.796 2129.32 162.902 Q2126.48 165.009 2121.48 165.009 Q2119.39 165.009 2117.12 164.592 Q2114.88 164.199 2112.38 163.388 L2112.38 158.99 Q2114.74 160.217 2117.03 160.842 Q2119.32 161.444 2121.57 161.444 Q2124.58 161.444 2126.2 160.426 Q2127.82 159.384 2127.82 157.509 Q2127.82 155.773 2126.64 154.847 Q2125.48 153.921 2121.52 153.064 L2120.04 152.717 Q2116.08 151.884 2114.32 150.171 Q2112.56 148.435 2112.56 145.426 Q2112.56 141.768 2115.16 139.778 Q2117.75 137.787 2122.52 137.787 Q2124.88 137.787 2126.96 138.134 Q2129.05 138.481 2130.8 139.176 Z\" fill=\"#000000\" fill-rule=\"evenodd\" fill-opacity=\"1\" /><path clip-path=\"url(#clip250)\" d=\"M2138.54 154.106 L2138.54 138.412 L2142.79 138.412 L2142.79 153.944 Q2142.79 157.625 2144.23 159.476 Q2145.67 161.305 2148.54 161.305 Q2151.98 161.305 2153.98 159.106 Q2155.99 156.907 2155.99 153.111 L2155.99 138.412 L2160.25 138.412 L2160.25 164.338 L2155.99 164.338 L2155.99 160.356 Q2154.44 162.717 2152.38 163.875 Q2150.34 165.009 2147.63 165.009 Q2143.17 165.009 2140.85 162.231 Q2138.54 159.453 2138.54 154.106 M2149.25 137.787 L2149.25 137.787 Z\" fill=\"#000000\" fill-rule=\"evenodd\" fill-opacity=\"1\" /><path clip-path=\"url(#clip250)\" d=\"M2169.02 128.319 L2173.28 128.319 L2173.28 164.338 L2169.02 164.338 L2169.02 128.319 Z\" fill=\"#000000\" fill-rule=\"evenodd\" fill-opacity=\"1\" /><path clip-path=\"url(#clip250)\" d=\"M2186.41 131.051 L2186.41 138.412 L2195.18 138.412 L2195.18 141.722 L2186.41 141.722 L2186.41 155.796 Q2186.41 158.967 2187.26 159.87 Q2188.14 160.773 2190.8 160.773 L2195.18 160.773 L2195.18 164.338 L2190.8 164.338 Q2185.87 164.338 2184 162.509 Q2182.12 160.657 2182.12 155.796 L2182.12 141.722 L2179 141.722 L2179 138.412 L2182.12 138.412 L2182.12 131.051 L2186.41 131.051 Z\" fill=\"#000000\" fill-rule=\"evenodd\" fill-opacity=\"1\" /><path clip-path=\"url(#clip250)\" d=\"M2204.81 129.778 L2204.81 142.625 L2200.87 142.625 L2200.87 129.778 L2204.81 129.778 M2213.56 129.778 L2213.56 142.625 L2209.62 142.625 L2209.62 129.778 L2213.56 129.778 Z\" fill=\"#000000\" fill-rule=\"evenodd\" fill-opacity=\"1\" /><path clip-path=\"url(#clip250)\" d=\"M2232.54 128.319 L2232.54 170.588 L2222.73 170.588 L2222.73 167.277 L2228.26 167.277 L2228.26 131.629 L2222.73 131.629 L2222.73 128.319 L2232.54 128.319 Z\" fill=\"#000000\" fill-rule=\"evenodd\" fill-opacity=\"1\" /></svg>\n"
     },
     "execution_count": 42,
     "metadata": {},
     "output_type": "execute_result"
    }
   ],
   "source": [
    "# Plots.plot(train_acc_list,label=[\"Training Result\"])\n",
    "Plots.plot!(ys,label=[\"Testing Result\"])"
   ]
  },
  {
   "cell_type": "code",
   "execution_count": 45,
   "id": "5bf17642",
   "metadata": {},
   "outputs": [
    {
     "name": "stdout",
     "output_type": "stream",
     "text": [
      "confusion matrix:\n",
      "True True Result: 103,  True False Result: 471\n",
      "False False Result: 103,   False True Result: FT\n"
     ]
    }
   ],
   "source": [
    "\"\"\"\n",
    "    In order to compute for confusion matrix\n",
    "\"\"\"\n",
    "#TT\n",
    "TT=sum(vec(base_model(para_test_std) .> 0.5) .== 1)\n",
    "#TF\n",
    "TF=sum(vec(base_model(para_test_std) .> 0.5) .== 0)\n",
    "#FT\n",
    "FT=sum(vec(base_model(para_test_std) .< 0.5) .== 1)\n",
    "#FF\n",
    "FF=sum(vec(base_model(para_test_std) .< 0.5) .== 0)\n",
    "println(\"confusion matrix:\")\n",
    "println(\"True True Result: $TT,  True False Result: $TF\")\n",
    "println(\"False False Result: $FF,   False True Result: FT\")"
   ]
  }
 ],
 "metadata": {
  "kernelspec": {
   "display_name": "Julia 1.6.5",
   "language": "julia",
   "name": "julia-1.6"
  },
  "language_info": {
   "file_extension": ".jl",
   "mimetype": "application/julia",
   "name": "julia",
   "version": "1.6.5"
  }
 },
 "nbformat": 4,
 "nbformat_minor": 5
}
