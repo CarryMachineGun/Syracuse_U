{
 "cells": [
  {
   "cell_type": "code",
   "execution_count": 55,
   "id": "controlled-jerusalem",
   "metadata": {},
   "outputs": [
    {
     "data": {
      "text/html": [
       "<div class=\"data-frame\"><p>2,000 rows × 21 columns (omitted printing of 13 columns)</p><table class=\"data-frame\"><thead><tr><th></th><th>battery_power</th><th>blue</th><th>clock_speed</th><th>dual_sim</th><th>fc</th><th>four_g</th><th>int_memory</th><th>m_dep</th></tr><tr><th></th><th title=\"Int64\">Int64</th><th title=\"Int64\">Int64</th><th title=\"Float64\">Float64</th><th title=\"Int64\">Int64</th><th title=\"Int64\">Int64</th><th title=\"Int64\">Int64</th><th title=\"Int64\">Int64</th><th title=\"Float64\">Float64</th></tr></thead><tbody><tr><th>1</th><td>842</td><td>0</td><td>2.2</td><td>0</td><td>1</td><td>0</td><td>7</td><td>0.6</td></tr><tr><th>2</th><td>1021</td><td>1</td><td>0.5</td><td>1</td><td>0</td><td>1</td><td>53</td><td>0.7</td></tr><tr><th>3</th><td>563</td><td>1</td><td>0.5</td><td>1</td><td>2</td><td>1</td><td>41</td><td>0.9</td></tr><tr><th>4</th><td>615</td><td>1</td><td>2.5</td><td>0</td><td>0</td><td>0</td><td>10</td><td>0.8</td></tr><tr><th>5</th><td>1821</td><td>1</td><td>1.2</td><td>0</td><td>13</td><td>1</td><td>44</td><td>0.6</td></tr><tr><th>6</th><td>1859</td><td>0</td><td>0.5</td><td>1</td><td>3</td><td>0</td><td>22</td><td>0.7</td></tr><tr><th>7</th><td>1821</td><td>0</td><td>1.7</td><td>0</td><td>4</td><td>1</td><td>10</td><td>0.8</td></tr><tr><th>8</th><td>1954</td><td>0</td><td>0.5</td><td>1</td><td>0</td><td>0</td><td>24</td><td>0.8</td></tr><tr><th>9</th><td>1445</td><td>1</td><td>0.5</td><td>0</td><td>0</td><td>0</td><td>53</td><td>0.7</td></tr><tr><th>10</th><td>509</td><td>1</td><td>0.6</td><td>1</td><td>2</td><td>1</td><td>9</td><td>0.1</td></tr><tr><th>11</th><td>769</td><td>1</td><td>2.9</td><td>1</td><td>0</td><td>0</td><td>9</td><td>0.1</td></tr><tr><th>12</th><td>1520</td><td>1</td><td>2.2</td><td>0</td><td>5</td><td>1</td><td>33</td><td>0.5</td></tr><tr><th>13</th><td>1815</td><td>0</td><td>2.8</td><td>0</td><td>2</td><td>0</td><td>33</td><td>0.6</td></tr><tr><th>14</th><td>803</td><td>1</td><td>2.1</td><td>0</td><td>7</td><td>0</td><td>17</td><td>1.0</td></tr><tr><th>15</th><td>1866</td><td>0</td><td>0.5</td><td>0</td><td>13</td><td>1</td><td>52</td><td>0.7</td></tr><tr><th>16</th><td>775</td><td>0</td><td>1.0</td><td>0</td><td>3</td><td>0</td><td>46</td><td>0.7</td></tr><tr><th>17</th><td>838</td><td>0</td><td>0.5</td><td>0</td><td>1</td><td>1</td><td>13</td><td>0.1</td></tr><tr><th>18</th><td>595</td><td>0</td><td>0.9</td><td>1</td><td>7</td><td>1</td><td>23</td><td>0.1</td></tr><tr><th>19</th><td>1131</td><td>1</td><td>0.5</td><td>1</td><td>11</td><td>0</td><td>49</td><td>0.6</td></tr><tr><th>20</th><td>682</td><td>1</td><td>0.5</td><td>0</td><td>4</td><td>0</td><td>19</td><td>1.0</td></tr><tr><th>21</th><td>772</td><td>0</td><td>1.1</td><td>1</td><td>12</td><td>0</td><td>39</td><td>0.8</td></tr><tr><th>22</th><td>1709</td><td>1</td><td>2.1</td><td>0</td><td>1</td><td>0</td><td>13</td><td>1.0</td></tr><tr><th>23</th><td>1949</td><td>0</td><td>2.6</td><td>1</td><td>4</td><td>0</td><td>47</td><td>0.3</td></tr><tr><th>24</th><td>1602</td><td>1</td><td>2.8</td><td>1</td><td>4</td><td>1</td><td>38</td><td>0.7</td></tr><tr><th>&vellip;</th><td>&vellip;</td><td>&vellip;</td><td>&vellip;</td><td>&vellip;</td><td>&vellip;</td><td>&vellip;</td><td>&vellip;</td><td>&vellip;</td></tr></tbody></table></div>"
      ],
      "text/latex": [
       "\\begin{tabular}{r|ccccccccc}\n",
       "\t& battery\\_power & blue & clock\\_speed & dual\\_sim & fc & four\\_g & int\\_memory & m\\_dep & \\\\\n",
       "\t\\hline\n",
       "\t& Int64 & Int64 & Float64 & Int64 & Int64 & Int64 & Int64 & Float64 & \\\\\n",
       "\t\\hline\n",
       "\t1 & 842 & 0 & 2.2 & 0 & 1 & 0 & 7 & 0.6 & $\\dots$ \\\\\n",
       "\t2 & 1021 & 1 & 0.5 & 1 & 0 & 1 & 53 & 0.7 & $\\dots$ \\\\\n",
       "\t3 & 563 & 1 & 0.5 & 1 & 2 & 1 & 41 & 0.9 & $\\dots$ \\\\\n",
       "\t4 & 615 & 1 & 2.5 & 0 & 0 & 0 & 10 & 0.8 & $\\dots$ \\\\\n",
       "\t5 & 1821 & 1 & 1.2 & 0 & 13 & 1 & 44 & 0.6 & $\\dots$ \\\\\n",
       "\t6 & 1859 & 0 & 0.5 & 1 & 3 & 0 & 22 & 0.7 & $\\dots$ \\\\\n",
       "\t7 & 1821 & 0 & 1.7 & 0 & 4 & 1 & 10 & 0.8 & $\\dots$ \\\\\n",
       "\t8 & 1954 & 0 & 0.5 & 1 & 0 & 0 & 24 & 0.8 & $\\dots$ \\\\\n",
       "\t9 & 1445 & 1 & 0.5 & 0 & 0 & 0 & 53 & 0.7 & $\\dots$ \\\\\n",
       "\t10 & 509 & 1 & 0.6 & 1 & 2 & 1 & 9 & 0.1 & $\\dots$ \\\\\n",
       "\t11 & 769 & 1 & 2.9 & 1 & 0 & 0 & 9 & 0.1 & $\\dots$ \\\\\n",
       "\t12 & 1520 & 1 & 2.2 & 0 & 5 & 1 & 33 & 0.5 & $\\dots$ \\\\\n",
       "\t13 & 1815 & 0 & 2.8 & 0 & 2 & 0 & 33 & 0.6 & $\\dots$ \\\\\n",
       "\t14 & 803 & 1 & 2.1 & 0 & 7 & 0 & 17 & 1.0 & $\\dots$ \\\\\n",
       "\t15 & 1866 & 0 & 0.5 & 0 & 13 & 1 & 52 & 0.7 & $\\dots$ \\\\\n",
       "\t16 & 775 & 0 & 1.0 & 0 & 3 & 0 & 46 & 0.7 & $\\dots$ \\\\\n",
       "\t17 & 838 & 0 & 0.5 & 0 & 1 & 1 & 13 & 0.1 & $\\dots$ \\\\\n",
       "\t18 & 595 & 0 & 0.9 & 1 & 7 & 1 & 23 & 0.1 & $\\dots$ \\\\\n",
       "\t19 & 1131 & 1 & 0.5 & 1 & 11 & 0 & 49 & 0.6 & $\\dots$ \\\\\n",
       "\t20 & 682 & 1 & 0.5 & 0 & 4 & 0 & 19 & 1.0 & $\\dots$ \\\\\n",
       "\t21 & 772 & 0 & 1.1 & 1 & 12 & 0 & 39 & 0.8 & $\\dots$ \\\\\n",
       "\t22 & 1709 & 1 & 2.1 & 0 & 1 & 0 & 13 & 1.0 & $\\dots$ \\\\\n",
       "\t23 & 1949 & 0 & 2.6 & 1 & 4 & 0 & 47 & 0.3 & $\\dots$ \\\\\n",
       "\t24 & 1602 & 1 & 2.8 & 1 & 4 & 1 & 38 & 0.7 & $\\dots$ \\\\\n",
       "\t$\\dots$ & $\\dots$ & $\\dots$ & $\\dots$ & $\\dots$ & $\\dots$ & $\\dots$ & $\\dots$ & $\\dots$ &  \\\\\n",
       "\\end{tabular}\n"
      ],
      "text/plain": [
       "\u001b[1m2000×21 DataFrame\u001b[0m\n",
       "\u001b[1m  Row \u001b[0m│\u001b[1m battery_power \u001b[0m\u001b[1m blue  \u001b[0m\u001b[1m clock_speed \u001b[0m\u001b[1m dual_sim \u001b[0m\u001b[1m fc    \u001b[0m\u001b[1m four_g \u001b[0m\u001b[1m int_memory\u001b[0m ⋯\n",
       "\u001b[1m      \u001b[0m│\u001b[90m Int64         \u001b[0m\u001b[90m Int64 \u001b[0m\u001b[90m Float64     \u001b[0m\u001b[90m Int64    \u001b[0m\u001b[90m Int64 \u001b[0m\u001b[90m Int64  \u001b[0m\u001b[90m Int64     \u001b[0m ⋯\n",
       "──────┼─────────────────────────────────────────────────────────────────────────\n",
       "    1 │           842      0          2.2         0      1       0           7 ⋯\n",
       "    2 │          1021      1          0.5         1      0       1          53\n",
       "    3 │           563      1          0.5         1      2       1          41\n",
       "    4 │           615      1          2.5         0      0       0          10\n",
       "    5 │          1821      1          1.2         0     13       1          44 ⋯\n",
       "    6 │          1859      0          0.5         1      3       0          22\n",
       "    7 │          1821      0          1.7         0      4       1          10\n",
       "    8 │          1954      0          0.5         1      0       0          24\n",
       "  ⋮   │       ⋮          ⋮         ⋮          ⋮        ⋮      ⋮         ⋮      ⋱\n",
       " 1994 │          1467      1          0.5         0      0       0          18 ⋯\n",
       " 1995 │           858      0          2.2         0      1       0          50\n",
       " 1996 │           794      1          0.5         1      0       1           2\n",
       " 1997 │          1965      1          2.6         1      0       0          39\n",
       " 1998 │          1911      0          0.9         1      1       1          36 ⋯\n",
       " 1999 │          1512      0          0.9         0      4       1          46\n",
       " 2000 │           510      1          2.0         1      5       1          45\n",
       "\u001b[36m                                                14 columns and 1985 rows omitted\u001b[0m"
      ]
     },
     "metadata": {},
     "output_type": "display_data"
    }
   ],
   "source": [
    "using ZipFile, Distributed, CSV, DataFrames, Random, StatsBase, Plots, Statistics, StableRNGs, MLJBase\n",
    "using Flux\n",
    "using Flux: logitbinarycrossentropy\n",
    "using BSON: @save\n",
    "using Distributions\n",
    "\n",
    "file = CSV.read(\"train.csv\", DataFrame)"
   ]
  },
  {
   "cell_type": "code",
   "execution_count": 56,
   "id": "postal-class",
   "metadata": {},
   "outputs": [
    {
     "data": {
      "text/plain": [
       "1000×21 Matrix{Float64}:\n",
       " 1021.0  1.0  0.5  1.0   0.0  1.0  53.0  …   3.0   7.0  1.0  1.0  0.0  2.0\n",
       "  563.0  1.0  0.5  1.0   2.0  1.0  41.0      2.0   9.0  1.0  1.0  0.0  2.0\n",
       "  615.0  1.0  2.5  0.0   0.0  0.0  10.0      8.0  11.0  1.0  0.0  0.0  2.0\n",
       " 1821.0  0.0  1.7  0.0   4.0  1.0  10.0      8.0  18.0  1.0  0.0  1.0  3.0\n",
       "  769.0  1.0  2.9  1.0   0.0  0.0   9.0      2.0   7.0  0.0  0.0  0.0  3.0\n",
       " 1520.0  1.0  2.2  0.0   5.0  1.0  33.0  …   9.0  13.0  1.0  1.0  1.0  3.0\n",
       "  803.0  1.0  2.1  0.0   7.0  0.0  17.0      1.0   4.0  1.0  0.0  1.0  2.0\n",
       "  838.0  0.0  0.5  0.0   1.0  1.0  13.0      9.0  19.0  1.0  0.0  1.0  3.0\n",
       "  595.0  0.0  0.9  1.0   7.0  1.0  23.0      2.0  18.0  1.0  1.0  0.0  3.0\n",
       "  772.0  0.0  1.1  1.0  12.0  0.0  39.0     15.0   3.0  1.0  1.0  0.0  3.0\n",
       "    ⋮                         ⋮          ⋱   ⋮                         ⋮\n",
       " 1784.0  0.0  1.6  0.0   4.0  0.0  41.0      1.0  11.0  0.0  1.0  0.0  2.0\n",
       " 1262.0  0.0  1.8  1.0  12.0  0.0  34.0      3.0   4.0  0.0  1.0  1.0  2.0\n",
       " 1829.0  1.0  2.1  0.0   8.0  0.0  59.0      6.0   5.0  1.0  1.0  1.0  3.0\n",
       " 1882.0  0.0  2.0  0.0  11.0  1.0  44.0      8.0  20.0  1.0  1.0  0.0  3.0\n",
       " 1467.0  1.0  0.5  0.0   0.0  0.0  18.0  …  11.0   5.0  1.0  1.0  1.0  3.0\n",
       "  858.0  0.0  2.2  0.0   1.0  0.0  50.0     16.0   3.0  1.0  1.0  0.0  3.0\n",
       " 1965.0  1.0  2.6  1.0   0.0  0.0  39.0     10.0  16.0  1.0  1.0  1.0  2.0\n",
       " 1911.0  0.0  0.9  1.0   1.0  1.0  36.0      1.0   5.0  1.0  1.0  0.0  3.0\n",
       "  510.0  1.0  2.0  1.0   5.0  1.0  45.0      4.0   2.0  1.0  1.0  1.0  3.0"
      ]
     },
     "metadata": {},
     "output_type": "display_data"
    }
   ],
   "source": [
    "# Transfer DataFrame to matrix form\n",
    "df = file |> Tables.matrix\n",
    "\n",
    "# Transfer the dataset to 2-classifiers. df_0 represents the result is 0, df_1 represents the result is 1.\n",
    "# Due to my datasset is binary problems, and each result is 50 percents of the whole dataset. So i didn't add any other pre-actions for dataset. \n",
    "\n",
    "mat_0 = df[df[:,21] .<= 1, :]\n",
    "mat_1 = df[df[:,21] .>= 2, :]\n"
   ]
  },
  {
   "cell_type": "code",
   "execution_count": 57,
   "id": "weekly-presentation",
   "metadata": {},
   "outputs": [
    {
     "data": {
      "text/plain": [
       "554×21 Matrix{Float64}:\n",
       "  842.0  0.0  2.2  0.0  1.0  0.0   7.0  …   7.0  19.0  0.0  0.0  1.0  1.0\n",
       " 1815.0  0.0  2.8  0.0  2.0  0.0  33.0      0.0   2.0  1.0  0.0  0.0  1.0\n",
       "  682.0  1.0  0.5  0.0  4.0  0.0  19.0      1.0  18.0  0.0  1.0  1.0  1.0\n",
       " 1949.0  0.0  2.6  1.0  4.0  0.0  47.0      5.0  20.0  0.0  0.0  1.0  1.0\n",
       "  851.0  0.0  0.5  0.0  3.0  0.0  21.0      7.0  10.0  1.0  0.0  1.0  0.0\n",
       " 1319.0  1.0  0.9  0.0  3.0  1.0  41.0  …   5.0   3.0  1.0  1.0  1.0  1.0\n",
       " 1757.0  0.0  0.5  0.0  8.0  0.0  49.0      5.0   4.0  0.0  0.0  0.0  1.0\n",
       " 1156.0  1.0  1.2  1.0  0.0  1.0  50.0      0.0  15.0  1.0  1.0  0.0  0.0\n",
       "  797.0  1.0  2.9  1.0  4.0  0.0  38.0      2.0   6.0  0.0  1.0  0.0  0.0\n",
       "  543.0  0.0  0.5  0.0  0.0  0.0  57.0     14.0  15.0  1.0  0.0  0.0  1.0\n",
       "    ⋮                        ⋮          ⋱   ⋮                         ⋮\n",
       "  689.0  0.0  1.4  0.0  2.0  0.0  45.0  …   1.0  10.0  1.0  0.0  0.0  3.0\n",
       "  591.0  1.0  0.5  1.0  1.0  1.0  16.0      0.0   5.0  1.0  1.0  0.0  3.0\n",
       " 1602.0  0.0  1.6  1.0  0.0  1.0  35.0     17.0  13.0  1.0  0.0  0.0  2.0\n",
       " 1035.0  1.0  2.7  0.0  1.0  0.0  40.0      4.0   5.0  0.0  1.0  1.0  3.0\n",
       "  727.0  1.0  2.5  1.0  0.0  1.0  64.0      1.0  16.0  1.0  1.0  0.0  3.0\n",
       " 1976.0  1.0  2.6  1.0  6.0  0.0  45.0  …   1.0   3.0  0.0  0.0  0.0  3.0\n",
       "  816.0  0.0  3.0  1.0  2.0  0.0   9.0      3.0  14.0  1.0  0.0  1.0  3.0\n",
       " 1965.0  1.0  2.6  1.0  0.0  0.0  39.0     10.0  16.0  1.0  1.0  1.0  2.0\n",
       " 1911.0  0.0  0.9  1.0  1.0  1.0  36.0      1.0   5.0  1.0  1.0  0.0  3.0"
      ]
     },
     "metadata": {},
     "output_type": "display_data"
    }
   ],
   "source": [
    "# randomly select 70% data from data set as the train data\n",
    "\n",
    "train_data = randsubseq(1:1000, 0.7)\n",
    "train_df = vcat(mat_0[train_data, :], mat_1[train_data, :])\n",
    "\n",
    "# select the rest as the test data \n",
    "\n",
    "test_data = [i for i in 1:1000 if isempty(searchsorted(train_data, i))]\n",
    "test_df = vcat(mat_0[test_data, :], mat_1[test_data, :])"
   ]
  },
  {
   "cell_type": "code",
   "execution_count": 58,
   "id": "featured-residence",
   "metadata": {},
   "outputs": [
    {
     "data": {
      "text/plain": [
       "1×554 Matrix{Float64}:\n",
       " 1.0  1.0  1.0  1.0  0.0  1.0  1.0  0.0  …  2.0  3.0  3.0  3.0  3.0  2.0  3.0"
      ]
     },
     "metadata": {},
     "output_type": "display_data"
    }
   ],
   "source": [
    "# parameters of the training and testing data\n",
    "para_train = train_df[:, 1:20]\n",
    "para_test = test_df[:, 1:20]\n",
    "\n",
    "# value is never used?\n",
    "value_train = train_df[:, 21]\n",
    "value_test = test_df[:, 21]\n",
    "value_train_std = reshape(value_train, (1, :)) \n",
    "value_test_std = reshape(value_test, (1, :)) \n"
   ]
  },
  {
   "cell_type": "code",
   "execution_count": 59,
   "id": "prerequisite-commercial",
   "metadata": {},
   "outputs": [
    {
     "data": {
      "text/plain": [
       "20×554 transpose(::Matrix{Float64}) with eltype Float64:\n",
       " -0.892347   1.32205    -1.25648    …  -0.951519   1.66343     1.54054\n",
       " -0.984559  -0.984559    1.01498       -0.984559   1.01498    -0.984559\n",
       "  0.83099    1.56622    -1.25216        1.8113     1.32114    -0.762009\n",
       " -1.01498   -1.01498    -1.01498        0.984559   0.984559    0.984559\n",
       " -0.768758  -0.539746   -0.0817222     -0.539746  -0.997771   -0.768758\n",
       " -1.0669    -1.0669     -1.0669     …  -1.0669    -1.0669      0.936651\n",
       " -1.39053    0.0355419  -0.732346      -1.28084    0.364637    0.200089\n",
       "  0.342352   0.342352    1.72902       -1.39099   -1.04432     0.68902\n",
       "  1.35629    0.531265   -0.549798      -0.663594   1.32784    -0.919635\n",
       " -1.08842   -0.212596   -0.212596      -1.52633   -0.212596    1.53905\n",
       " -1.34531    1.17388     0.166203   …  -1.17736   -1.17736    -1.17736\n",
       " -1.40889   -0.0871988   0.577022       1.23899    0.606293    0.500468\n",
       " -1.15563   -1.17407    -0.4456         0.907606   1.63147     0.863805\n",
       "  0.387503  -0.602476    0.190806       1.59552   -0.0921778   0.858833\n",
       " -0.778208   1.35662    -0.303803      -0.541006  -0.303803   -0.778208\n",
       "  0.264245  -1.32783    -1.10039    …  -0.645514   0.946565   -1.10039\n",
       "  1.48683   -1.66044     1.3017         0.561163   0.93143    -1.10504\n",
       " -1.77231    0.563844   -1.77231        0.563844   0.563844    0.563844\n",
       " -0.985922  -0.985922    1.01358       -0.985922   1.01358     1.01358\n",
       "  0.976419  -1.02344     0.976419       0.976419   0.976419   -1.02344"
      ]
     },
     "metadata": {},
     "output_type": "display_data"
    }
   ],
   "source": [
    "dt = StatsBase.fit(ZScoreTransform, para_train, dims=1)\n",
    "\n",
    "# rotate the matrix for 90 degree\n",
    "para_train_std = StatsBase.transform(dt, para_train)\n",
    "para_test_std = StatsBase.transform(dt, para_test)\n",
    "\n",
    "para_train_std = transpose(para_train_std) \n",
    "para_test_std = transpose(para_test_std)"
   ]
  },
  {
   "cell_type": "code",
   "execution_count": 60,
   "id": "8afab176",
   "metadata": {},
   "outputs": [
    {
     "data": {
      "text/plain": [
       "2"
      ]
     },
     "metadata": {},
     "output_type": "display_data"
    }
   ],
   "source": [
    "# basic parameters\n",
    "batch_size = 20\n",
    "population_size = 300\n",
    "Mutation_rate = 0.5\n",
    "Crossover_rate = 0.4\n",
    "Retain_rate = 0.9\n",
    "iteration = 500\n",
    "layer = 2"
   ]
  },
  {
   "cell_type": "code",
   "execution_count": 61,
   "id": "1a755a5b",
   "metadata": {},
   "outputs": [
    {
     "data": {
      "text/plain": [
       "sigmoidModel (generic function with 1 method)"
      ]
     },
     "metadata": {},
     "output_type": "display_data"
    }
   ],
   "source": [
    "#build the models with sigmoid as Activation Function\n",
    "\n",
    "function sigmoidModel(batch_size)\n",
    "    # model = Chain(Dense(batch_size, 12, relu), Dense(12, 1, relu))\n",
    "    # now we have 5 layers(3-hidden layers) instead of 2 in original\n",
    "   model=Chain(Dense(batch_size, 18, relu),Dense(18, 16, relu),Dense(16, 12, relu),Dense(12, 8, relu), Dense(8, 1, relu))\n",
    "    return model\n",
    "end"
   ]
  },
  {
   "cell_type": "code",
   "execution_count": 62,
   "id": "3ef502cc",
   "metadata": {},
   "outputs": [
    {
     "data": {
      "text/plain": [
       "generateInitialPopulation (generic function with 1 method)"
      ]
     },
     "metadata": {},
     "output_type": "display_data"
    }
   ],
   "source": [
    "# We will define a function that can generate initial weight and bias for the neutral network.\n",
    "\n",
    "function generateInitialPopulation(initial_population_size)\n",
    "    chromosomes = []\n",
    "    for i in 1 : initial_population_size\n",
    "        chromosome = sigmoidModel(batch_size)\n",
    "        push!(chromosomes, chromosome)\n",
    "    end\n",
    "    return chromosomes\n",
    "end"
   ]
  },
  {
   "cell_type": "code",
   "execution_count": 63,
   "id": "dc31fd7b",
   "metadata": {},
   "outputs": [
    {
     "data": {
      "text/plain": [
       "trainNetwork (generic function with 1 method)"
      ]
     },
     "metadata": {},
     "output_type": "display_data"
    }
   ],
   "source": [
    "# Do we need to train the network?\n",
    "\n",
    "\n",
    "function trainNetwork(chromosomes)\n",
    "    model_mean_acc_list = []\n",
    "    i=1\n",
    "\n",
    "    for model in chromosomes\n",
    "        push!(model_mean_acc_list, mean(accuracy(para_train_std, value_train_std, i)))\n",
    "        i = i + 1\n",
    "    end\n",
    "    \n",
    "    index = reverse(sortperm(model_mean_acc_list))\n",
    "    model_mean_acc_list = model_mean_acc_list[index]\n",
    "    chromosome = chromosomes[index]\n",
    "    \n",
    "    return chromosome, model_mean_acc_list\n",
    "end"
   ]
  },
  {
   "cell_type": "code",
   "execution_count": 64,
   "id": "60fc5fee",
   "metadata": {},
   "outputs": [
    {
     "data": {
      "text/plain": [
       "testModel (generic function with 1 method)"
      ]
     },
     "metadata": {},
     "output_type": "display_data"
    }
   ],
   "source": [
    "# why there is no manipuation on test data?\n",
    "function testModel(model_index)\n",
    "    model_acc_list=[]\n",
    "    return mean(accuracy(para_test_std, value_test_std, model_index))\n",
    "end"
   ]
  },
  {
   "cell_type": "code",
   "execution_count": 65,
   "id": "e9b3e765",
   "metadata": {},
   "outputs": [
    {
     "data": {
      "text/plain": [
       "crossover (generic function with 1 method)"
      ]
     },
     "metadata": {},
     "output_type": "display_data"
    }
   ],
   "source": [
    "# create a new model using two parent models\n",
    "\n",
    "function crossover(parent_one_chromosome,parent_two_chromosome)\n",
    "    n_offspring = deepcopy(parent_one_chromosome)\n",
    "    for i in 1:layer\n",
    "        select_one_layer = shuffle(collect(1:layer))[1]\n",
    "        mother_bias=parent_two_chromosome[select_one_layer].bias\n",
    "        row_to_shuffle = shuffle(collect(1:size(mother_bias)[1]))[1]\n",
    "        if rand() < Crossover_rate\n",
    "            n_offspring[select_one_layer].bias[row_to_shuffle]=mother_bias[row_to_shuffle]\n",
    "        end\n",
    "    end\n",
    "    \n",
    "    for i in 1:layer\n",
    "        select_one_layer=shuffle(collect(1:layer))[1]\n",
    "        mother_weight=parent_two_chromosome[select_one_layer].weight\n",
    "        row_to_shuffle=shuffle(collect(1:size(mother_weight)[1]))[1]\n",
    "        col_to_shuffle=shuffle(collect(1:size(mother_weight)[2]))[1]\n",
    "        if rand() < Crossover_rate\n",
    "            n_offspring[select_one_layer].weight[row_to_shuffle,col_to_shuffle]=mother_weight[row_to_shuffle,col_to_shuffle]\n",
    "        end\n",
    "    end\n",
    "    return n_offspring\n",
    "end"
   ]
  },
  {
   "cell_type": "code",
   "execution_count": 66,
   "id": "b9adc0de",
   "metadata": {},
   "outputs": [
    {
     "data": {
      "text/plain": [
       "mutation (generic function with 1 method)"
      ]
     },
     "metadata": {},
     "output_type": "display_data"
    }
   ],
   "source": [
    "#Do mutation here\n",
    "function mutation(offspring)\n",
    "    n_offspring = deepcopy(offspring)\n",
    "    for i in 1:layer\n",
    "        select_one_layer = shuffle(collect(1:layer))[1]\n",
    "        bias = offspring[select_one_layer].bias\n",
    "        row_to_shuffle = shuffle(collect(1:size(bias)[1]))[1]\n",
    "        if rand() < Mutation_rate\n",
    "            n_offspring[select_one_layer].bias[row_to_shuffle] += rand(Uniform(-0.5,0.5),1)[1]\n",
    "        end\n",
    "    end\n",
    "    \n",
    "    for i in 1:layer\n",
    "        select_one_layer = shuffle(collect(1:layer))[1]\n",
    "        weight = n_offspring[select_one_layer].weight\n",
    "        row_to_shuffle = shuffle(collect(1:size(weight)[1]))[1]\n",
    "        col_to_shuffle = shuffle(collect(1:size(weight)[2]))[1]\n",
    "        if rand() < Mutation_rate\n",
    "            n_offspring[select_one_layer].weight[row_to_shuffle,col_to_shuffle] += rand(Uniform(-0.5,0.5),1)[1]\n",
    "        end\n",
    "    end\n",
    "    return n_offspring\n",
    "end"
   ]
  },
  {
   "cell_type": "code",
   "execution_count": 67,
   "id": "f78715fa",
   "metadata": {},
   "outputs": [
    {
     "data": {
      "text/plain": [
       "300-element Vector{Any}:\n",
       " Chain(Dense(20, 18, relu), Dense(18, 16, relu), Dense(16, 12, relu), Dense(12, 8, relu), Dense(8, 1, relu))  \u001b[90m# 999 parameters\u001b[39m\n",
       " Chain(Dense(20, 18, relu), Dense(18, 16, relu), Dense(16, 12, relu), Dense(12, 8, relu), Dense(8, 1, relu))  \u001b[90m# 999 parameters\u001b[39m\n",
       " Chain(Dense(20, 18, relu), Dense(18, 16, relu), Dense(16, 12, relu), Dense(12, 8, relu), Dense(8, 1, relu))  \u001b[90m# 999 parameters\u001b[39m\n",
       " Chain(Dense(20, 18, relu), Dense(18, 16, relu), Dense(16, 12, relu), Dense(12, 8, relu), Dense(8, 1, relu))  \u001b[90m# 999 parameters\u001b[39m\n",
       " Chain(Dense(20, 18, relu), Dense(18, 16, relu), Dense(16, 12, relu), Dense(12, 8, relu), Dense(8, 1, relu))  \u001b[90m# 999 parameters\u001b[39m\n",
       " Chain(Dense(20, 18, relu), Dense(18, 16, relu), Dense(16, 12, relu), Dense(12, 8, relu), Dense(8, 1, relu))  \u001b[90m# 999 parameters\u001b[39m\n",
       " Chain(Dense(20, 18, relu), Dense(18, 16, relu), Dense(16, 12, relu), Dense(12, 8, relu), Dense(8, 1, relu))  \u001b[90m# 999 parameters\u001b[39m\n",
       " Chain(Dense(20, 18, relu), Dense(18, 16, relu), Dense(16, 12, relu), Dense(12, 8, relu), Dense(8, 1, relu))  \u001b[90m# 999 parameters\u001b[39m\n",
       " Chain(Dense(20, 18, relu), Dense(18, 16, relu), Dense(16, 12, relu), Dense(12, 8, relu), Dense(8, 1, relu))  \u001b[90m# 999 parameters\u001b[39m\n",
       " Chain(Dense(20, 18, relu), Dense(18, 16, relu), Dense(16, 12, relu), Dense(12, 8, relu), Dense(8, 1, relu))  \u001b[90m# 999 parameters\u001b[39m\n",
       " ⋮\n",
       " Chain(Dense(20, 18, relu), Dense(18, 16, relu), Dense(16, 12, relu), Dense(12, 8, relu), Dense(8, 1, relu))  \u001b[90m# 999 parameters\u001b[39m\n",
       " Chain(Dense(20, 18, relu), Dense(18, 16, relu), Dense(16, 12, relu), Dense(12, 8, relu), Dense(8, 1, relu))  \u001b[90m# 999 parameters\u001b[39m\n",
       " Chain(Dense(20, 18, relu), Dense(18, 16, relu), Dense(16, 12, relu), Dense(12, 8, relu), Dense(8, 1, relu))  \u001b[90m# 999 parameters\u001b[39m\n",
       " Chain(Dense(20, 18, relu), Dense(18, 16, relu), Dense(16, 12, relu), Dense(12, 8, relu), Dense(8, 1, relu))  \u001b[90m# 999 parameters\u001b[39m\n",
       " Chain(Dense(20, 18, relu), Dense(18, 16, relu), Dense(16, 12, relu), Dense(12, 8, relu), Dense(8, 1, relu))  \u001b[90m# 999 parameters\u001b[39m\n",
       " Chain(Dense(20, 18, relu), Dense(18, 16, relu), Dense(16, 12, relu), Dense(12, 8, relu), Dense(8, 1, relu))  \u001b[90m# 999 parameters\u001b[39m\n",
       " Chain(Dense(20, 18, relu), Dense(18, 16, relu), Dense(16, 12, relu), Dense(12, 8, relu), Dense(8, 1, relu))  \u001b[90m# 999 parameters\u001b[39m\n",
       " Chain(Dense(20, 18, relu), Dense(18, 16, relu), Dense(16, 12, relu), Dense(12, 8, relu), Dense(8, 1, relu))  \u001b[90m# 999 parameters\u001b[39m\n",
       " Chain(Dense(20, 18, relu), Dense(18, 16, relu), Dense(16, 12, relu), Dense(12, 8, relu), Dense(8, 1, relu))  \u001b[90m# 999 parameters\u001b[39m"
      ]
     },
     "metadata": {},
     "output_type": "display_data"
    }
   ],
   "source": [
    "chromosomes = generateInitialPopulation(population_size)"
   ]
  },
  {
   "cell_type": "code",
   "execution_count": 68,
   "id": "00ed7b7c",
   "metadata": {},
   "outputs": [
    {
     "data": {
      "text/plain": [
       "Any[]"
      ]
     },
     "metadata": {},
     "output_type": "display_data"
    }
   ],
   "source": [
    "train_acc_list = []\n",
    "test_acc_list = []"
   ]
  },
  {
   "cell_type": "code",
   "execution_count": 69,
   "id": "17bc34f5",
   "metadata": {},
   "outputs": [
    {
     "name": "stdout",
     "output_type": "stream",
     "text": [
      "0.24709074874361284\n",
      "0.2469697491434376\n",
      "0.2462069255771155\n",
      "0.2470960095957944\n",
      "0.24619640387275243\n",
      "0.24619640387275243\n",
      "0.2503787813570703\n"
     ]
    },
    {
     "name": "stdout",
     "output_type": "stream",
     "text": [
      "new\n",
      "0.24709074874361284\n",
      "0.2469697491434376\n",
      "0.2462069255771155\n",
      "0.2470960095957944\n",
      "0.24619640387275243\n",
      "0.24619640387275243\n",
      "0.2503787813570703\n"
     ]
    }
   ],
   "source": [
    "\n",
    "# println(\"\\nTrial\") \n",
    "accuracy(para, val, i) = mean(vec(chromosomes[i](para) .> 0.5) .== val)\n",
    "\n",
    "model,score = trainNetwork(chromosomes)\n",
    "# println(\"\\nTrial\") \n",
    "#erase models with low accuracy\n",
    "# println(typeof(size(chromosomes)[1] * Retain_rate)) \n",
    "# println(typeof())\n",
    "chromosomes = chromosomes[1 : floor(Int ,size(chromosomes)[1] * Retain_rate)]\n",
    "# println(\"\\nTrial\") \n",
    "test_acc=testModel(1)\n",
    "# println(\"\\nTrial\") \n",
    "append!(train_acc_list,mean(score))\n",
    "append!(test_acc_list,test_acc)\n",
    "\n",
    "# println(\"\\nTrial\") \n",
    "\n",
    "for i in 1 : 7\n",
    "    println(accuracy(para_train_std, value_train_std, i))\n",
    "end\n",
    "\n",
    "while size(chromosomes)[1] < population_size\n",
    "    # select a chromosome to do crossover\n",
    "    model_mean_acc_list = []\n",
    "    i=1\n",
    "    for chromosome in chromosomes\n",
    "        append!(model_mean_acc_list,mean(accuracy(para_train_std,value_train_std,i)))\n",
    "        i=i+1\n",
    "    end\n",
    "\n",
    "    idx=collect(1:size(chromosomes)[1])\n",
    "    idx=shuffle(idx)\n",
    "    parent_one_chromosome=chromosomes[idx[1]]\n",
    "    parent_two_chromosome=chromosomes[idx[2]]\n",
    "\n",
    "    offspring = crossover(parent_one_chromosome,parent_two_chromosome)\n",
    "    offspring = mutation(offspring)\n",
    "    append!(chromosomes,[offspring])\n",
    "end\n",
    "println(\"new\")\n",
    "for j in 1:7\n",
    "    println(accuracy(para_train_std, value_train_std,j))\n",
    "end "
   ]
  },
  {
   "cell_type": "code",
   "execution_count": 70,
   "id": "c0840c0c",
   "metadata": {},
   "outputs": [],
   "source": [
    "# to do the test\n",
    "test=[]\n",
    "\n",
    "for j in 1:30\n",
    "    push!(test,accuracy(para_train_std, value_train_std,j))\n",
    "end"
   ]
  },
  {
   "cell_type": "code",
   "execution_count": 71,
   "id": "a491ae4a",
   "metadata": {},
   "outputs": [
    {
     "data": {
      "image/png": "[encoded data removed]",
      "image/svg+xml": "<?xml version=\"1.0\" encoding=\"utf-8\"?>\n<svg xmlns=\"http://www.w3.org/2000/svg\" xmlns:xlink=\"http://www.w3.org/1999/xlink\" width=\"600\" height=\"400\" viewBox=\"0 0 2400 1600\">\n<defs>\n  <clipPath id=\"clip930\">\n    <rect x=\"0\" y=\"0\" width=\"2400\" height=\"1600\"/>\n  </clipPath>\n</defs>\n<path clip-path=\"url(#clip930)\" d=\"\nM0 1600 L2400 1600 L2400 0 L0 0  Z\n  \" fill=\"#ffffff\" fill-rule=\"evenodd\" fill-opacity=\"1\"/>\n<defs>\n  <clipPath id=\"clip931\">\n    <rect x=\"480\" y=\"0\" width=\"1681\" height=\"1600\"/>\n  </clipPath>\n</defs>\n<path clip-path=\"url(#clip930)\" d=\"\nM216.598 1486.45 L2352.76 1486.45 L2352.76 47.2441 L216.598 47.2441  Z\n  \" fill=\"#ffffff\" fill-rule=\"evenodd\" fill-opacity=\"1\"/>\n<defs>\n  <clipPath id=\"clip932\">\n    <rect x=\"216\" y=\"47\" width=\"2137\" height=\"1440\"/>\n  </clipPath>\n</defs>\n<polyline clip-path=\"url(#clip932)\" style=\"stroke:#000000; stroke-linecap:butt; stroke-linejoin:round; stroke-width:2; stroke-opacity:0.1; fill:none\" points=\"\n  555.02,1486.45 555.02,47.2441 \n  \"/>\n<polyline clip-path=\"url(#clip932)\" style=\"stroke:#000000; stroke-linecap:butt; stroke-linejoin:round; stroke-width:2; stroke-opacity:0.1; fill:none\" points=\"\n  902.476,1486.45 902.476,47.2441 \n  \"/>\n<polyline clip-path=\"url(#clip932)\" style=\"stroke:#000000; stroke-linecap:butt; stroke-linejoin:round; stroke-width:2; stroke-opacity:0.1; fill:none\" points=\"\n  1249.93,1486.45 1249.93,47.2441 \n  \"/>\n<polyline clip-path=\"url(#clip932)\" style=\"stroke:#000000; stroke-linecap:butt; stroke-linejoin:round; stroke-width:2; stroke-opacity:0.1; fill:none\" points=\"\n  1597.39,1486.45 1597.39,47.2441 \n  \"/>\n<polyline clip-path=\"url(#clip932)\" style=\"stroke:#000000; stroke-linecap:butt; stroke-linejoin:round; stroke-width:2; stroke-opacity:0.1; fill:none\" points=\"\n  1944.84,1486.45 1944.84,47.2441 \n  \"/>\n<polyline clip-path=\"url(#clip932)\" style=\"stroke:#000000; stroke-linecap:butt; stroke-linejoin:round; stroke-width:2; stroke-opacity:0.1; fill:none\" points=\"\n  2292.3,1486.45 2292.3,47.2441 \n  \"/>\n<polyline clip-path=\"url(#clip930)\" style=\"stroke:#000000; stroke-linecap:butt; stroke-linejoin:round; stroke-width:4; stroke-opacity:1; fill:none\" points=\"\n  216.598,1486.45 2352.76,1486.45 \n  \"/>\n<polyline clip-path=\"url(#clip930)\" style=\"stroke:#000000; stroke-linecap:butt; stroke-linejoin:round; stroke-width:4; stroke-opacity:1; fill:none\" points=\"\n  555.02,1486.45 555.02,1467.55 \n  \"/>\n<polyline clip-path=\"url(#clip930)\" style=\"stroke:#000000; stroke-linecap:butt; stroke-linejoin:round; stroke-width:4; stroke-opacity:1; fill:none\" points=\"\n  902.476,1486.45 902.476,1467.55 \n  \"/>\n<polyline clip-path=\"url(#clip930)\" style=\"stroke:#000000; stroke-linecap:butt; stroke-linejoin:round; stroke-width:4; stroke-opacity:1; fill:none\" points=\"\n  1249.93,1486.45 1249.93,1467.55 \n  \"/>\n<polyline clip-path=\"url(#clip930)\" style=\"stroke:#000000; stroke-linecap:butt; stroke-linejoin:round; stroke-width:4; stroke-opacity:1; fill:none\" points=\"\n  1597.39,1486.45 1597.39,1467.55 \n  \"/>\n<polyline clip-path=\"url(#clip930)\" style=\"stroke:#000000; stroke-linecap:butt; stroke-linejoin:round; stroke-width:4; stroke-opacity:1; fill:none\" points=\"\n  1944.84,1486.45 1944.84,1467.55 \n  \"/>\n<polyline clip-path=\"url(#clip930)\" style=\"stroke:#000000; stroke-linecap:butt; stroke-linejoin:round; stroke-width:4; stroke-opacity:1; fill:none\" points=\"\n  2292.3,1486.45 2292.3,1467.55 \n  \"/>\n<path clip-path=\"url(#clip930)\" d=\"M545.298 1514.29 L563.654 1514.29 L563.654 1518.22 L549.58 1518.22 L549.58 1526.7 Q550.599 1526.35 551.617 1526.19 Q552.636 1526 553.654 1526 Q559.441 1526 562.821 1529.17 Q566.2 1532.34 566.2 1537.76 Q566.2 1543.34 562.728 1546.44 Q559.256 1549.52 552.936 1549.52 Q550.761 1549.52 548.492 1549.15 Q546.247 1548.78 543.839 1548.04 L543.839 1543.34 Q545.923 1544.47 548.145 1545.03 Q550.367 1545.58 552.844 1545.58 Q556.849 1545.58 559.186 1543.48 Q561.524 1541.37 561.524 1537.76 Q561.524 1534.15 559.186 1532.04 Q556.849 1529.94 552.844 1529.94 Q550.969 1529.94 549.094 1530.35 Q547.242 1530.77 545.298 1531.65 L545.298 1514.29 Z\" fill=\"#000000\" fill-rule=\"evenodd\" fill-opacity=\"1\" /><path clip-path=\"url(#clip930)\" d=\"M877.163 1544.91 L884.802 1544.91 L884.802 1518.55 L876.492 1520.21 L876.492 1515.95 L884.756 1514.29 L889.432 1514.29 L889.432 1544.91 L897.071 1544.91 L897.071 1548.85 L877.163 1548.85 L877.163 1544.91 Z\" fill=\"#000000\" fill-rule=\"evenodd\" fill-opacity=\"1\" /><path clip-path=\"url(#clip930)\" d=\"M916.515 1517.37 Q912.904 1517.37 911.075 1520.93 Q909.27 1524.47 909.27 1531.6 Q909.27 1538.71 911.075 1542.27 Q912.904 1545.82 916.515 1545.82 Q920.149 1545.82 921.955 1542.27 Q923.783 1538.71 923.783 1531.6 Q923.783 1524.47 921.955 1520.93 Q920.149 1517.37 916.515 1517.37 M916.515 1513.66 Q922.325 1513.66 925.381 1518.27 Q928.459 1522.85 928.459 1531.6 Q928.459 1540.33 925.381 1544.94 Q922.325 1549.52 916.515 1549.52 Q910.705 1549.52 907.626 1544.94 Q904.57 1540.33 904.57 1531.6 Q904.57 1522.85 907.626 1518.27 Q910.705 1513.66 916.515 1513.66 Z\" fill=\"#000000\" fill-rule=\"evenodd\" fill-opacity=\"1\" /><path clip-path=\"url(#clip930)\" d=\"M1225.12 1544.91 L1232.76 1544.91 L1232.76 1518.55 L1224.45 1520.21 L1224.45 1515.95 L1232.71 1514.29 L1237.39 1514.29 L1237.39 1544.91 L1245.02 1544.91 L1245.02 1548.85 L1225.12 1548.85 L1225.12 1544.91 Z\" fill=\"#000000\" fill-rule=\"evenodd\" fill-opacity=\"1\" /><path clip-path=\"url(#clip930)\" d=\"M1254.51 1514.29 L1272.87 1514.29 L1272.87 1518.22 L1258.8 1518.22 L1258.8 1526.7 Q1259.82 1526.35 1260.83 1526.19 Q1261.85 1526 1262.87 1526 Q1268.66 1526 1272.04 1529.17 Q1275.42 1532.34 1275.42 1537.76 Q1275.42 1543.34 1271.95 1546.44 Q1268.47 1549.52 1262.15 1549.52 Q1259.98 1549.52 1257.71 1549.15 Q1255.46 1548.78 1253.06 1548.04 L1253.06 1543.34 Q1255.14 1544.47 1257.36 1545.03 Q1259.58 1545.58 1262.06 1545.58 Q1266.07 1545.58 1268.4 1543.48 Q1270.74 1541.37 1270.74 1537.76 Q1270.74 1534.15 1268.4 1532.04 Q1266.07 1529.94 1262.06 1529.94 Q1260.19 1529.94 1258.31 1530.35 Q1256.46 1530.77 1254.51 1531.65 L1254.51 1514.29 Z\" fill=\"#000000\" fill-rule=\"evenodd\" fill-opacity=\"1\" /><path clip-path=\"url(#clip930)\" d=\"M1576.16 1544.91 L1592.48 1544.91 L1592.48 1548.85 L1570.54 1548.85 L1570.54 1544.91 Q1573.2 1542.16 1577.78 1537.53 Q1582.39 1532.88 1583.57 1531.53 Q1585.81 1529.01 1586.69 1527.27 Q1587.6 1525.51 1587.6 1523.82 Q1587.6 1521.07 1585.65 1519.33 Q1583.73 1517.6 1580.63 1517.6 Q1578.43 1517.6 1575.98 1518.36 Q1573.54 1519.13 1570.77 1520.68 L1570.77 1515.95 Q1573.59 1514.82 1576.04 1514.24 Q1578.5 1513.66 1580.54 1513.66 Q1585.91 1513.66 1589.1 1516.35 Q1592.29 1519.03 1592.29 1523.52 Q1592.29 1525.65 1591.48 1527.57 Q1590.7 1529.47 1588.59 1532.07 Q1588.01 1532.74 1584.91 1535.95 Q1581.81 1539.15 1576.16 1544.91 Z\" fill=\"#000000\" fill-rule=\"evenodd\" fill-opacity=\"1\" /><path clip-path=\"url(#clip930)\" d=\"M1612.29 1517.37 Q1608.68 1517.37 1606.85 1520.93 Q1605.05 1524.47 1605.05 1531.6 Q1605.05 1538.71 1606.85 1542.27 Q1608.68 1545.82 1612.29 1545.82 Q1615.93 1545.82 1617.73 1542.27 Q1619.56 1538.71 1619.56 1531.6 Q1619.56 1524.47 1617.73 1520.93 Q1615.93 1517.37 1612.29 1517.37 M1612.29 1513.66 Q1618.1 1513.66 1621.16 1518.27 Q1624.24 1522.85 1624.24 1531.6 Q1624.24 1540.33 1621.16 1544.94 Q1618.1 1549.52 1612.29 1549.52 Q1606.48 1549.52 1603.41 1544.94 Q1600.35 1540.33 1600.35 1531.6 Q1600.35 1522.85 1603.41 1518.27 Q1606.48 1513.66 1612.29 1513.66 Z\" fill=\"#000000\" fill-rule=\"evenodd\" fill-opacity=\"1\" /><path clip-path=\"url(#clip930)\" d=\"M1924.11 1544.91 L1940.43 1544.91 L1940.43 1548.85 L1918.49 1548.85 L1918.49 1544.91 Q1921.15 1542.16 1925.73 1537.53 Q1930.34 1532.88 1931.52 1531.53 Q1933.77 1529.01 1934.65 1527.27 Q1935.55 1525.51 1935.55 1523.82 Q1935.55 1521.07 1933.6 1519.33 Q1931.68 1517.6 1928.58 1517.6 Q1926.38 1517.6 1923.93 1518.36 Q1921.5 1519.13 1918.72 1520.68 L1918.72 1515.95 Q1921.54 1514.82 1924 1514.24 Q1926.45 1513.66 1928.49 1513.66 Q1933.86 1513.66 1937.05 1516.35 Q1940.25 1519.03 1940.25 1523.52 Q1940.25 1525.65 1939.44 1527.57 Q1938.65 1529.47 1936.54 1532.07 Q1935.97 1532.74 1932.86 1535.95 Q1929.76 1539.15 1924.11 1544.91 Z\" fill=\"#000000\" fill-rule=\"evenodd\" fill-opacity=\"1\" /><path clip-path=\"url(#clip930)\" d=\"M1950.29 1514.29 L1968.65 1514.29 L1968.65 1518.22 L1954.58 1518.22 L1954.58 1526.7 Q1955.6 1526.35 1956.61 1526.19 Q1957.63 1526 1958.65 1526 Q1964.44 1526 1967.82 1529.17 Q1971.2 1532.34 1971.2 1537.76 Q1971.2 1543.34 1967.72 1546.44 Q1964.25 1549.52 1957.93 1549.52 Q1955.76 1549.52 1953.49 1549.15 Q1951.24 1548.78 1948.84 1548.04 L1948.84 1543.34 Q1950.92 1544.47 1953.14 1545.03 Q1955.36 1545.58 1957.84 1545.58 Q1961.85 1545.58 1964.18 1543.48 Q1966.52 1541.37 1966.52 1537.76 Q1966.52 1534.15 1964.18 1532.04 Q1961.85 1529.94 1957.84 1529.94 Q1955.97 1529.94 1954.09 1530.35 Q1952.24 1530.77 1950.29 1531.65 L1950.29 1514.29 Z\" fill=\"#000000\" fill-rule=\"evenodd\" fill-opacity=\"1\" /><path clip-path=\"url(#clip930)\" d=\"M2281.14 1530.21 Q2284.5 1530.93 2286.37 1533.2 Q2288.27 1535.47 2288.27 1538.8 Q2288.27 1543.92 2284.75 1546.72 Q2281.23 1549.52 2274.75 1549.52 Q2272.58 1549.52 2270.26 1549.08 Q2267.97 1548.66 2265.52 1547.81 L2265.52 1543.29 Q2267.46 1544.43 2269.78 1545.01 Q2272.09 1545.58 2274.61 1545.58 Q2279.01 1545.58 2281.3 1543.85 Q2283.62 1542.11 2283.62 1538.8 Q2283.62 1535.75 2281.47 1534.03 Q2279.34 1532.3 2275.52 1532.3 L2271.49 1532.3 L2271.49 1528.45 L2275.7 1528.45 Q2279.15 1528.45 2280.98 1527.09 Q2282.81 1525.7 2282.81 1523.11 Q2282.81 1520.45 2280.91 1519.03 Q2279.03 1517.6 2275.52 1517.6 Q2273.6 1517.6 2271.4 1518.01 Q2269.2 1518.43 2266.56 1519.31 L2266.56 1515.14 Q2269.22 1514.4 2271.53 1514.03 Q2273.87 1513.66 2275.93 1513.66 Q2281.26 1513.66 2284.36 1516.09 Q2287.46 1518.5 2287.46 1522.62 Q2287.46 1525.49 2285.82 1527.48 Q2284.17 1529.45 2281.14 1530.21 Z\" fill=\"#000000\" fill-rule=\"evenodd\" fill-opacity=\"1\" /><path clip-path=\"url(#clip930)\" d=\"M2307.14 1517.37 Q2303.53 1517.37 2301.7 1520.93 Q2299.89 1524.47 2299.89 1531.6 Q2299.89 1538.71 2301.7 1542.27 Q2303.53 1545.82 2307.14 1545.82 Q2310.77 1545.82 2312.58 1542.27 Q2314.4 1538.71 2314.4 1531.6 Q2314.4 1524.47 2312.58 1520.93 Q2310.77 1517.37 2307.14 1517.37 M2307.14 1513.66 Q2312.95 1513.66 2316 1518.27 Q2319.08 1522.85 2319.08 1531.6 Q2319.08 1540.33 2316 1544.94 Q2312.95 1549.52 2307.14 1549.52 Q2301.33 1549.52 2298.25 1544.94 Q2295.19 1540.33 2295.19 1531.6 Q2295.19 1522.85 2298.25 1518.27 Q2301.33 1513.66 2307.14 1513.66 Z\" fill=\"#000000\" fill-rule=\"evenodd\" fill-opacity=\"1\" /><polyline clip-path=\"url(#clip932)\" style=\"stroke:#000000; stroke-linecap:butt; stroke-linejoin:round; stroke-width:2; stroke-opacity:0.1; fill:none\" points=\"\n  216.598,1484.2 2352.76,1484.2 \n  \"/>\n<polyline clip-path=\"url(#clip932)\" style=\"stroke:#000000; stroke-linecap:butt; stroke-linejoin:round; stroke-width:2; stroke-opacity:0.1; fill:none\" points=\"\n  216.598,1092.28 2352.76,1092.28 \n  \"/>\n<polyline clip-path=\"url(#clip932)\" style=\"stroke:#000000; stroke-linecap:butt; stroke-linejoin:round; stroke-width:2; stroke-opacity:0.1; fill:none\" points=\"\n  216.598,700.351 2352.76,700.351 \n  \"/>\n<polyline clip-path=\"url(#clip932)\" style=\"stroke:#000000; stroke-linecap:butt; stroke-linejoin:round; stroke-width:2; stroke-opacity:0.1; fill:none\" points=\"\n  216.598,308.424 2352.76,308.424 \n  \"/>\n<polyline clip-path=\"url(#clip930)\" style=\"stroke:#000000; stroke-linecap:butt; stroke-linejoin:round; stroke-width:4; stroke-opacity:1; fill:none\" points=\"\n  216.598,1486.45 216.598,47.2441 \n  \"/>\n<polyline clip-path=\"url(#clip930)\" style=\"stroke:#000000; stroke-linecap:butt; stroke-linejoin:round; stroke-width:4; stroke-opacity:1; fill:none\" points=\"\n  216.598,1484.2 235.496,1484.2 \n  \"/>\n<polyline clip-path=\"url(#clip930)\" style=\"stroke:#000000; stroke-linecap:butt; stroke-linejoin:round; stroke-width:4; stroke-opacity:1; fill:none\" points=\"\n  216.598,1092.28 235.496,1092.28 \n  \"/>\n<polyline clip-path=\"url(#clip930)\" style=\"stroke:#000000; stroke-linecap:butt; stroke-linejoin:round; stroke-width:4; stroke-opacity:1; fill:none\" points=\"\n  216.598,700.351 235.496,700.351 \n  \"/>\n<polyline clip-path=\"url(#clip930)\" style=\"stroke:#000000; stroke-linecap:butt; stroke-linejoin:round; stroke-width:4; stroke-opacity:1; fill:none\" points=\"\n  216.598,308.424 235.496,308.424 \n  \"/>\n<path clip-path=\"url(#clip930)\" d=\"M62.9365 1470 Q59.3254 1470 57.4967 1473.57 Q55.6912 1477.11 55.6912 1484.24 Q55.6912 1491.34 57.4967 1494.91 Q59.3254 1498.45 62.9365 1498.45 Q66.5707 1498.45 68.3763 1494.91 Q70.205 1491.34 70.205 1484.24 Q70.205 1477.11 68.3763 1473.57 Q66.5707 1470 62.9365 1470 M62.9365 1466.3 Q68.7467 1466.3 71.8022 1470.91 Q74.8809 1475.49 74.8809 1484.24 Q74.8809 1492.97 71.8022 1497.57 Q68.7467 1502.15 62.9365 1502.15 Q57.1264 1502.15 54.0477 1497.57 Q50.9921 1492.97 50.9921 1484.24 Q50.9921 1475.49 54.0477 1470.91 Q57.1264 1466.3 62.9365 1466.3 Z\" fill=\"#000000\" fill-rule=\"evenodd\" fill-opacity=\"1\" /><path clip-path=\"url(#clip930)\" d=\"M83.0984 1495.6 L87.9827 1495.6 L87.9827 1501.48 L83.0984 1501.48 L83.0984 1495.6 Z\" fill=\"#000000\" fill-rule=\"evenodd\" fill-opacity=\"1\" /><path clip-path=\"url(#clip930)\" d=\"M102.196 1497.55 L118.515 1497.55 L118.515 1501.48 L96.5706 1501.48 L96.5706 1497.55 Q99.2326 1494.79 103.816 1490.16 Q108.422 1485.51 109.603 1484.17 Q111.848 1481.65 112.728 1479.91 Q113.631 1478.15 113.631 1476.46 Q113.631 1473.71 111.686 1471.97 Q109.765 1470.23 106.663 1470.23 Q104.464 1470.23 102.01 1471 Q99.5798 1471.76 96.8021 1473.31 L96.8021 1468.59 Q99.6261 1467.46 102.08 1466.88 Q104.534 1466.3 106.571 1466.3 Q111.941 1466.3 115.135 1468.98 Q118.33 1471.67 118.33 1476.16 Q118.33 1478.29 117.52 1480.21 Q116.733 1482.11 114.626 1484.7 Q114.047 1485.37 110.946 1488.59 Q107.844 1491.78 102.196 1497.55 Z\" fill=\"#000000\" fill-rule=\"evenodd\" fill-opacity=\"1\" /><path clip-path=\"url(#clip930)\" d=\"M141.177 1471 L129.371 1489.45 L141.177 1489.45 L141.177 1471 M139.95 1466.92 L145.83 1466.92 L145.83 1489.45 L150.76 1489.45 L150.76 1493.34 L145.83 1493.34 L145.83 1501.48 L141.177 1501.48 L141.177 1493.34 L125.575 1493.34 L125.575 1488.82 L139.95 1466.92 Z\" fill=\"#000000\" fill-rule=\"evenodd\" fill-opacity=\"1\" /><path clip-path=\"url(#clip930)\" d=\"M169.07 1482.34 Q165.922 1482.34 164.07 1484.49 Q162.242 1486.65 162.242 1490.4 Q162.242 1494.12 164.07 1496.3 Q165.922 1498.45 169.07 1498.45 Q172.218 1498.45 174.047 1496.3 Q175.899 1494.12 175.899 1490.4 Q175.899 1486.65 174.047 1484.49 Q172.218 1482.34 169.07 1482.34 M178.353 1467.69 L178.353 1471.95 Q176.593 1471.11 174.788 1470.67 Q173.005 1470.23 171.246 1470.23 Q166.617 1470.23 164.163 1473.36 Q161.732 1476.48 161.385 1482.8 Q162.751 1480.79 164.811 1479.72 Q166.871 1478.64 169.348 1478.64 Q174.556 1478.64 177.566 1481.81 Q180.598 1484.96 180.598 1490.4 Q180.598 1495.72 177.45 1498.94 Q174.302 1502.15 169.07 1502.15 Q163.075 1502.15 159.904 1497.57 Q156.732 1492.97 156.732 1484.24 Q156.732 1476.04 160.621 1471.18 Q164.51 1466.3 171.061 1466.3 Q172.82 1466.3 174.603 1466.65 Q176.408 1466.99 178.353 1467.69 Z\" fill=\"#000000\" fill-rule=\"evenodd\" fill-opacity=\"1\" /><path clip-path=\"url(#clip930)\" d=\"M63.1911 1078.08 Q59.58 1078.08 57.7513 1081.64 Q55.9458 1085.18 55.9458 1092.31 Q55.9458 1099.42 57.7513 1102.98 Q59.58 1106.52 63.1911 1106.52 Q66.8254 1106.52 68.6309 1102.98 Q70.4596 1099.42 70.4596 1092.31 Q70.4596 1085.18 68.6309 1081.64 Q66.8254 1078.08 63.1911 1078.08 M63.1911 1074.37 Q69.0013 1074.37 72.0568 1078.98 Q75.1355 1083.56 75.1355 1092.31 Q75.1355 1101.04 72.0568 1105.65 Q69.0013 1110.23 63.1911 1110.23 Q57.381 1110.23 54.3023 1105.65 Q51.2468 1101.04 51.2468 1092.31 Q51.2468 1083.56 54.3023 1078.98 Q57.381 1074.37 63.1911 1074.37 Z\" fill=\"#000000\" fill-rule=\"evenodd\" fill-opacity=\"1\" /><path clip-path=\"url(#clip930)\" d=\"M83.3531 1103.68 L88.2373 1103.68 L88.2373 1109.56 L83.3531 1109.56 L83.3531 1103.68 Z\" fill=\"#000000\" fill-rule=\"evenodd\" fill-opacity=\"1\" /><path clip-path=\"url(#clip930)\" d=\"M102.45 1105.62 L118.77 1105.62 L118.77 1109.56 L96.8252 1109.56 L96.8252 1105.62 Q99.4872 1102.87 104.071 1098.24 Q108.677 1093.59 109.858 1092.24 Q112.103 1089.72 112.983 1087.98 Q113.885 1086.22 113.885 1084.53 Q113.885 1081.78 111.941 1080.04 Q110.02 1078.31 106.918 1078.31 Q104.719 1078.31 102.265 1079.07 Q99.8345 1079.84 97.0567 1081.39 L97.0567 1076.66 Q99.8808 1075.53 102.334 1074.95 Q104.788 1074.37 106.825 1074.37 Q112.196 1074.37 115.39 1077.06 Q118.584 1079.74 118.584 1084.23 Q118.584 1086.36 117.774 1088.28 Q116.987 1090.18 114.881 1092.77 Q114.302 1093.45 111.2 1096.66 Q108.098 1099.86 102.45 1105.62 Z\" fill=\"#000000\" fill-rule=\"evenodd\" fill-opacity=\"1\" /><path clip-path=\"url(#clip930)\" d=\"M141.431 1079.07 L129.626 1097.52 L141.431 1097.52 L141.431 1079.07 M140.205 1075 L146.084 1075 L146.084 1097.52 L151.015 1097.52 L151.015 1101.41 L146.084 1101.41 L146.084 1109.56 L141.431 1109.56 L141.431 1101.41 L125.83 1101.41 L125.83 1096.9 L140.205 1075 Z\" fill=\"#000000\" fill-rule=\"evenodd\" fill-opacity=\"1\" /><path clip-path=\"url(#clip930)\" d=\"M168.746 1093.15 Q165.413 1093.15 163.492 1094.93 Q161.593 1096.71 161.593 1099.84 Q161.593 1102.96 163.492 1104.74 Q165.413 1106.52 168.746 1106.52 Q172.079 1106.52 174.001 1104.74 Q175.922 1102.94 175.922 1099.84 Q175.922 1096.71 174.001 1094.93 Q172.103 1093.15 168.746 1093.15 M164.07 1091.15 Q161.061 1090.41 159.371 1088.35 Q157.705 1086.29 157.705 1083.33 Q157.705 1079.19 160.644 1076.78 Q163.607 1074.37 168.746 1074.37 Q173.908 1074.37 176.848 1076.78 Q179.788 1079.19 179.788 1083.33 Q179.788 1086.29 178.098 1088.35 Q176.431 1090.41 173.445 1091.15 Q176.825 1091.94 178.7 1094.23 Q180.598 1096.52 180.598 1099.84 Q180.598 1104.86 177.519 1107.54 Q174.464 1110.23 168.746 1110.23 Q163.029 1110.23 159.95 1107.54 Q156.894 1104.86 156.894 1099.84 Q156.894 1096.52 158.792 1094.23 Q160.691 1091.94 164.07 1091.15 M162.357 1083.77 Q162.357 1086.46 164.024 1087.96 Q165.714 1089.46 168.746 1089.46 Q171.755 1089.46 173.445 1087.96 Q175.158 1086.46 175.158 1083.77 Q175.158 1081.09 173.445 1079.58 Q171.755 1078.08 168.746 1078.08 Q165.714 1078.08 164.024 1079.58 Q162.357 1081.09 162.357 1083.77 Z\" fill=\"#000000\" fill-rule=\"evenodd\" fill-opacity=\"1\" /><path clip-path=\"url(#clip930)\" d=\"M63.0985 686.149 Q59.4875 686.149 57.6588 689.714 Q55.8532 693.256 55.8532 700.385 Q55.8532 707.492 57.6588 711.057 Q59.4875 714.598 63.0985 714.598 Q66.7328 714.598 68.5383 711.057 Q70.367 707.492 70.367 700.385 Q70.367 693.256 68.5383 689.714 Q66.7328 686.149 63.0985 686.149 M63.0985 682.446 Q68.9087 682.446 71.9642 687.052 Q75.0429 691.636 75.0429 700.385 Q75.0429 709.112 71.9642 713.719 Q68.9087 718.302 63.0985 718.302 Q57.2884 718.302 54.2097 713.719 Q51.1542 709.112 51.1542 700.385 Q51.1542 691.636 54.2097 687.052 Q57.2884 682.446 63.0985 682.446 Z\" fill=\"#000000\" fill-rule=\"evenodd\" fill-opacity=\"1\" /><path clip-path=\"url(#clip930)\" d=\"M83.2605 711.751 L88.1447 711.751 L88.1447 717.631 L83.2605 717.631 L83.2605 711.751 Z\" fill=\"#000000\" fill-rule=\"evenodd\" fill-opacity=\"1\" /><path clip-path=\"url(#clip930)\" d=\"M102.358 713.696 L118.677 713.696 L118.677 717.631 L96.7326 717.631 L96.7326 713.696 Q99.3946 710.941 103.978 706.311 Q108.584 701.659 109.765 700.316 Q112.01 697.793 112.89 696.057 Q113.793 694.298 113.793 692.608 Q113.793 689.853 111.848 688.117 Q109.927 686.381 106.825 686.381 Q104.626 686.381 102.172 687.145 Q99.7419 687.909 96.9641 689.46 L96.9641 684.737 Q99.7882 683.603 102.242 683.024 Q104.696 682.446 106.733 682.446 Q112.103 682.446 115.297 685.131 Q118.492 687.816 118.492 692.307 Q118.492 694.436 117.682 696.358 Q116.895 698.256 114.788 700.848 Q114.209 701.52 111.108 704.737 Q108.006 707.932 102.358 713.696 Z\" fill=\"#000000\" fill-rule=\"evenodd\" fill-opacity=\"1\" /><path clip-path=\"url(#clip930)\" d=\"M128.538 683.071 L146.894 683.071 L146.894 687.006 L132.82 687.006 L132.82 695.478 Q133.839 695.131 134.857 694.969 Q135.876 694.784 136.894 694.784 Q142.681 694.784 146.061 697.955 Q149.441 701.126 149.441 706.543 Q149.441 712.122 145.968 715.223 Q142.496 718.302 136.177 718.302 Q134.001 718.302 131.732 717.932 Q129.487 717.561 127.08 716.821 L127.08 712.122 Q129.163 713.256 131.385 713.811 Q133.607 714.367 136.084 714.367 Q140.089 714.367 142.427 712.26 Q144.765 710.154 144.765 706.543 Q144.765 702.932 142.427 700.825 Q140.089 698.719 136.084 698.719 Q134.209 698.719 132.334 699.136 Q130.482 699.552 128.538 700.432 L128.538 683.071 Z\" fill=\"#000000\" fill-rule=\"evenodd\" fill-opacity=\"1\" /><path clip-path=\"url(#clip930)\" d=\"M168.654 686.149 Q165.042 686.149 163.214 689.714 Q161.408 693.256 161.408 700.385 Q161.408 707.492 163.214 711.057 Q165.042 714.598 168.654 714.598 Q172.288 714.598 174.093 711.057 Q175.922 707.492 175.922 700.385 Q175.922 693.256 174.093 689.714 Q172.288 686.149 168.654 686.149 M168.654 682.446 Q174.464 682.446 177.519 687.052 Q180.598 691.636 180.598 700.385 Q180.598 709.112 177.519 713.719 Q174.464 718.302 168.654 718.302 Q162.843 718.302 159.765 713.719 Q156.709 709.112 156.709 700.385 Q156.709 691.636 159.765 687.052 Q162.843 682.446 168.654 682.446 Z\" fill=\"#000000\" fill-rule=\"evenodd\" fill-opacity=\"1\" /><path clip-path=\"url(#clip930)\" d=\"M64.6958 294.223 Q61.0847 294.223 59.256 297.788 Q57.4504 301.329 57.4504 308.459 Q57.4504 315.566 59.256 319.13 Q61.0847 322.672 64.6958 322.672 Q68.33 322.672 70.1355 319.13 Q71.9642 315.566 71.9642 308.459 Q71.9642 301.329 70.1355 297.788 Q68.33 294.223 64.6958 294.223 M64.6958 290.519 Q70.5059 290.519 73.5614 295.126 Q76.6401 299.709 76.6401 308.459 Q76.6401 317.186 73.5614 321.792 Q70.5059 326.376 64.6958 326.376 Q58.8856 326.376 55.8069 321.792 Q52.7514 317.186 52.7514 308.459 Q52.7514 299.709 55.8069 295.126 Q58.8856 290.519 64.6958 290.519 Z\" fill=\"#000000\" fill-rule=\"evenodd\" fill-opacity=\"1\" /><path clip-path=\"url(#clip930)\" d=\"M84.8577 319.825 L89.7419 319.825 L89.7419 325.704 L84.8577 325.704 L84.8577 319.825 Z\" fill=\"#000000\" fill-rule=\"evenodd\" fill-opacity=\"1\" /><path clip-path=\"url(#clip930)\" d=\"M103.955 321.769 L120.274 321.769 L120.274 325.704 L98.3298 325.704 L98.3298 321.769 Q100.992 319.015 105.575 314.385 Q110.182 309.732 111.362 308.39 Q113.608 305.866 114.487 304.13 Q115.39 302.371 115.39 300.681 Q115.39 297.927 113.445 296.191 Q111.524 294.455 108.422 294.455 Q106.223 294.455 103.77 295.218 Q101.339 295.982 98.5613 297.533 L98.5613 292.811 Q101.385 291.677 103.839 291.098 Q106.293 290.519 108.33 290.519 Q113.7 290.519 116.895 293.205 Q120.089 295.89 120.089 300.38 Q120.089 302.51 119.279 304.431 Q118.492 306.329 116.385 308.922 Q115.807 309.593 112.705 312.811 Q109.603 316.005 103.955 321.769 Z\" fill=\"#000000\" fill-rule=\"evenodd\" fill-opacity=\"1\" /><path clip-path=\"url(#clip930)\" d=\"M130.135 291.144 L148.492 291.144 L148.492 295.08 L134.418 295.08 L134.418 303.552 Q135.436 303.204 136.455 303.042 Q137.473 302.857 138.492 302.857 Q144.279 302.857 147.658 306.029 Q151.038 309.2 151.038 314.616 Q151.038 320.195 147.566 323.297 Q144.093 326.376 137.774 326.376 Q135.598 326.376 133.33 326.005 Q131.084 325.635 128.677 324.894 L128.677 320.195 Q130.76 321.329 132.982 321.885 Q135.205 322.44 137.681 322.44 Q141.686 322.44 144.024 320.334 Q146.362 318.228 146.362 314.616 Q146.362 311.005 144.024 308.899 Q141.686 306.792 137.681 306.792 Q135.806 306.792 133.931 307.209 Q132.08 307.626 130.135 308.505 L130.135 291.144 Z\" fill=\"#000000\" fill-rule=\"evenodd\" fill-opacity=\"1\" /><path clip-path=\"url(#clip930)\" d=\"M164.279 321.769 L180.598 321.769 L180.598 325.704 L158.654 325.704 L158.654 321.769 Q161.316 319.015 165.899 314.385 Q170.505 309.732 171.686 308.39 Q173.931 305.866 174.811 304.13 Q175.714 302.371 175.714 300.681 Q175.714 297.927 173.769 296.191 Q171.848 294.455 168.746 294.455 Q166.547 294.455 164.093 295.218 Q161.663 295.982 158.885 297.533 L158.885 292.811 Q161.709 291.677 164.163 291.098 Q166.617 290.519 168.654 290.519 Q174.024 290.519 177.218 293.205 Q180.413 295.89 180.413 300.38 Q180.413 302.51 179.603 304.431 Q178.816 306.329 176.709 308.922 Q176.13 309.593 173.029 312.811 Q169.927 316.005 164.279 321.769 Z\" fill=\"#000000\" fill-rule=\"evenodd\" fill-opacity=\"1\" /><polyline clip-path=\"url(#clip932)\" style=\"stroke:#e26f46; stroke-linecap:butt; stroke-linejoin:round; stroke-width:4; stroke-opacity:1; fill:none\" points=\"\n  277.055,1270.46 346.546,1294.17 416.038,1443.65 485.529,1269.43 555.02,1445.72 624.511,1445.72 694.002,626.124 763.493,1338.5 832.984,1443.65 902.476,1195.2 \n  971.967,1398.29 1041.46,1445.72 1110.95,1445.72 1180.44,87.9763 1249.93,1438.5 1319.42,1205.51 1388.91,1445.72 1458.4,670.454 1527.9,1445.72 1597.39,1445.72 \n  1666.88,973.548 1736.37,1444.68 1805.86,1445.72 1875.35,1411.69 1944.84,1376.64 2014.33,1445.72 2083.83,1442.62 2153.32,1390.05 2222.81,1445.72 2292.3,1445.72 \n  \n  \"/>\n<path clip-path=\"url(#clip930)\" d=\"\nM1620.49 250.738 L2281.55 250.738 L2281.55 95.2176 L1620.49 95.2176  Z\n  \" fill=\"#ffffff\" fill-rule=\"evenodd\" fill-opacity=\"1\"/>\n<polyline clip-path=\"url(#clip930)\" style=\"stroke:#000000; stroke-linecap:butt; stroke-linejoin:round; stroke-width:4; stroke-opacity:1; fill:none\" points=\"\n  1620.49,250.738 2281.55,250.738 2281.55,95.2176 1620.49,95.2176 1620.49,250.738 \n  \"/>\n<polyline clip-path=\"url(#clip930)\" style=\"stroke:#009af9; stroke-linecap:butt; stroke-linejoin:round; stroke-width:4; stroke-opacity:1; fill:none\" points=\"\n  1644.49,147.058 1788.49,147.058 \n  \"/>\n<path clip-path=\"url(#clip930)\" d=\"M1812.49 128.319 L1822.3 128.319 L1822.3 131.629 L1816.75 131.629 L1816.75 167.277 L1822.3 167.277 L1822.3 170.588 L1812.49 170.588 L1812.49 128.319 Z\" fill=\"#000000\" fill-rule=\"evenodd\" fill-opacity=\"1\" /><path clip-path=\"url(#clip930)\" d=\"M1835.4 129.778 L1835.4 142.625 L1831.47 142.625 L1831.47 129.778 L1835.4 129.778 M1844.15 129.778 L1844.15 142.625 L1840.22 142.625 L1840.22 129.778 L1844.15 129.778 Z\" fill=\"#000000\" fill-rule=\"evenodd\" fill-opacity=\"1\" /><path clip-path=\"url(#clip930)\" d=\"M1848.58 129.778 L1877.81 129.778 L1877.81 133.713 L1865.54 133.713 L1865.54 164.338 L1860.84 164.338 L1860.84 133.713 L1848.58 133.713 L1848.58 129.778 Z\" fill=\"#000000\" fill-rule=\"evenodd\" fill-opacity=\"1\" /><path clip-path=\"url(#clip930)\" d=\"M1890.2 142.393 Q1889.48 141.977 1888.62 141.791 Q1887.79 141.583 1886.77 141.583 Q1883.16 141.583 1881.21 143.944 Q1879.29 146.282 1879.29 150.68 L1879.29 164.338 L1875.01 164.338 L1875.01 138.412 L1879.29 138.412 L1879.29 142.44 Q1880.64 140.078 1882.79 138.944 Q1884.94 137.787 1888.02 137.787 Q1888.46 137.787 1888.99 137.856 Q1889.52 137.903 1890.17 138.018 L1890.2 142.393 Z\" fill=\"#000000\" fill-rule=\"evenodd\" fill-opacity=\"1\" /><path clip-path=\"url(#clip930)\" d=\"M1906.45 151.305 Q1901.28 151.305 1899.29 152.486 Q1897.3 153.666 1897.3 156.514 Q1897.3 158.782 1898.78 160.125 Q1900.29 161.444 1902.86 161.444 Q1906.4 161.444 1908.53 158.944 Q1910.68 156.421 1910.68 152.254 L1910.68 151.305 L1906.45 151.305 M1914.94 149.546 L1914.94 164.338 L1910.68 164.338 L1910.68 160.402 Q1909.22 162.763 1907.05 163.898 Q1904.87 165.009 1901.72 165.009 Q1897.74 165.009 1895.38 162.787 Q1893.04 160.541 1893.04 156.791 Q1893.04 152.416 1895.96 150.194 Q1898.9 147.972 1904.71 147.972 L1910.68 147.972 L1910.68 147.555 Q1910.68 144.615 1908.74 143.018 Q1906.82 141.398 1903.32 141.398 Q1901.1 141.398 1898.99 141.93 Q1896.89 142.463 1894.94 143.527 L1894.94 139.592 Q1897.28 138.69 1899.48 138.25 Q1901.68 137.787 1903.76 137.787 Q1909.39 137.787 1912.16 140.703 Q1914.94 143.62 1914.94 149.546 Z\" fill=\"#000000\" fill-rule=\"evenodd\" fill-opacity=\"1\" /><path clip-path=\"url(#clip930)\" d=\"M1923.71 138.412 L1927.97 138.412 L1927.97 164.338 L1923.71 164.338 L1923.71 138.412 M1923.71 128.319 L1927.97 128.319 L1927.97 133.713 L1923.71 133.713 L1923.71 128.319 Z\" fill=\"#000000\" fill-rule=\"evenodd\" fill-opacity=\"1\" /><path clip-path=\"url(#clip930)\" d=\"M1958.44 148.689 L1958.44 164.338 L1954.18 164.338 L1954.18 148.828 Q1954.18 145.148 1952.74 143.319 Q1951.31 141.49 1948.44 141.49 Q1944.99 141.49 1943 143.69 Q1941.01 145.889 1941.01 149.685 L1941.01 164.338 L1936.72 164.338 L1936.72 138.412 L1941.01 138.412 L1941.01 142.44 Q1942.53 140.102 1944.59 138.944 Q1946.68 137.787 1949.39 137.787 Q1953.85 137.787 1956.14 140.565 Q1958.44 143.319 1958.44 148.689 Z\" fill=\"#000000\" fill-rule=\"evenodd\" fill-opacity=\"1\" /><path clip-path=\"url(#clip930)\" d=\"M1966.93 138.412 L1971.19 138.412 L1971.19 164.338 L1966.93 164.338 L1966.93 138.412 M1966.93 128.319 L1971.19 128.319 L1971.19 133.713 L1966.93 133.713 L1966.93 128.319 Z\" fill=\"#000000\" fill-rule=\"evenodd\" fill-opacity=\"1\" /><path clip-path=\"url(#clip930)\" d=\"M2001.65 148.689 L2001.65 164.338 L1997.39 164.338 L1997.39 148.828 Q1997.39 145.148 1995.96 143.319 Q1994.52 141.49 1991.65 141.49 Q1988.2 141.49 1986.21 143.69 Q1984.22 145.889 1984.22 149.685 L1984.22 164.338 L1979.94 164.338 L1979.94 138.412 L1984.22 138.412 L1984.22 142.44 Q1985.75 140.102 1987.81 138.944 Q1989.89 137.787 1992.6 137.787 Q1997.07 137.787 1999.36 140.565 Q2001.65 143.319 2001.65 148.689 Z\" fill=\"#000000\" fill-rule=\"evenodd\" fill-opacity=\"1\" /><path clip-path=\"url(#clip930)\" d=\"M2027.21 151.074 Q2027.21 146.444 2025.29 143.898 Q2023.39 141.352 2019.94 141.352 Q2016.51 141.352 2014.59 143.898 Q2012.7 146.444 2012.7 151.074 Q2012.7 155.68 2014.59 158.226 Q2016.51 160.773 2019.94 160.773 Q2023.39 160.773 2025.29 158.226 Q2027.21 155.68 2027.21 151.074 M2031.47 161.12 Q2031.47 167.74 2028.53 170.958 Q2025.59 174.199 2019.52 174.199 Q2017.28 174.199 2015.29 173.851 Q2013.3 173.527 2011.42 172.833 L2011.42 168.689 Q2013.3 169.708 2015.13 170.194 Q2016.95 170.68 2018.85 170.68 Q2023.04 170.68 2025.13 168.481 Q2027.21 166.305 2027.21 161.884 L2027.21 159.777 Q2025.89 162.069 2023.83 163.203 Q2021.77 164.338 2018.9 164.338 Q2014.13 164.338 2011.21 160.703 Q2008.3 157.069 2008.3 151.074 Q2008.3 145.055 2011.21 141.421 Q2014.13 137.787 2018.9 137.787 Q2021.77 137.787 2023.83 138.921 Q2025.89 140.055 2027.21 142.347 L2027.21 138.412 L2031.47 138.412 L2031.47 161.12 Z\" fill=\"#000000\" fill-rule=\"evenodd\" fill-opacity=\"1\" /><path clip-path=\"url(#clip930)\" d=\"M2071.88 148.134 Q2073.39 148.643 2074.8 150.31 Q2076.24 151.977 2077.67 154.893 L2082.42 164.338 L2077.39 164.338 L2072.97 155.472 Q2071.26 152 2069.64 150.865 Q2068.04 149.731 2065.26 149.731 L2060.17 149.731 L2060.17 164.338 L2055.5 164.338 L2055.5 129.778 L2066.05 129.778 Q2071.98 129.778 2074.89 132.254 Q2077.81 134.731 2077.81 139.731 Q2077.81 142.995 2076.28 145.148 Q2074.78 147.301 2071.88 148.134 M2060.17 133.62 L2060.17 145.889 L2066.05 145.889 Q2069.43 145.889 2071.14 144.338 Q2072.88 142.764 2072.88 139.731 Q2072.88 136.699 2071.14 135.171 Q2069.43 133.62 2066.05 133.62 L2060.17 133.62 Z\" fill=\"#000000\" fill-rule=\"evenodd\" fill-opacity=\"1\" /><path clip-path=\"url(#clip930)\" d=\"M2108.3 150.31 L2108.3 152.393 L2088.71 152.393 Q2088.99 156.791 2091.35 159.106 Q2093.74 161.398 2097.97 161.398 Q2100.43 161.398 2102.72 160.796 Q2105.03 160.194 2107.3 158.99 L2107.3 163.018 Q2105.01 163.99 2102.6 164.5 Q2100.19 165.009 2097.72 165.009 Q2091.51 165.009 2087.88 161.398 Q2084.27 157.787 2084.27 151.629 Q2084.27 145.264 2087.69 141.537 Q2091.14 137.787 2096.98 137.787 Q2102.21 137.787 2105.24 141.166 Q2108.3 144.523 2108.3 150.31 M2104.04 149.06 Q2103.99 145.565 2102.07 143.481 Q2100.17 141.398 2097.02 141.398 Q2093.46 141.398 2091.31 143.412 Q2089.18 145.426 2088.85 149.083 L2104.04 149.06 Z\" fill=\"#000000\" fill-rule=\"evenodd\" fill-opacity=\"1\" /><path clip-path=\"url(#clip930)\" d=\"M2131.82 139.176 L2131.82 143.203 Q2130.01 142.277 2128.07 141.815 Q2126.12 141.352 2124.04 141.352 Q2120.87 141.352 2119.27 142.324 Q2117.69 143.296 2117.69 145.24 Q2117.69 146.722 2118.83 147.578 Q2119.96 148.412 2123.39 149.176 L2124.85 149.5 Q2129.38 150.472 2131.28 152.254 Q2133.2 154.014 2133.2 157.185 Q2133.2 160.796 2130.33 162.902 Q2127.49 165.009 2122.49 165.009 Q2120.4 165.009 2118.13 164.592 Q2115.89 164.199 2113.39 163.388 L2113.39 158.99 Q2115.75 160.217 2118.04 160.842 Q2120.33 161.444 2122.58 161.444 Q2125.59 161.444 2127.21 160.426 Q2128.83 159.384 2128.83 157.509 Q2128.83 155.773 2127.65 154.847 Q2126.49 153.921 2122.53 153.064 L2121.05 152.717 Q2117.09 151.884 2115.33 150.171 Q2113.57 148.435 2113.57 145.426 Q2113.57 141.768 2116.17 139.778 Q2118.76 137.787 2123.53 137.787 Q2125.89 137.787 2127.97 138.134 Q2130.06 138.481 2131.82 139.176 Z\" fill=\"#000000\" fill-rule=\"evenodd\" fill-opacity=\"1\" /><path clip-path=\"url(#clip930)\" d=\"M2139.55 154.106 L2139.55 138.412 L2143.81 138.412 L2143.81 153.944 Q2143.81 157.625 2145.24 159.476 Q2146.68 161.305 2149.55 161.305 Q2153 161.305 2154.99 159.106 Q2157 156.907 2157 153.111 L2157 138.412 L2161.26 138.412 L2161.26 164.338 L2157 164.338 L2157 160.356 Q2155.45 162.717 2153.39 163.875 Q2151.35 165.009 2148.64 165.009 Q2144.18 165.009 2141.86 162.231 Q2139.55 159.453 2139.55 154.106 M2150.26 137.787 L2150.26 137.787 Z\" fill=\"#000000\" fill-rule=\"evenodd\" fill-opacity=\"1\" /><path clip-path=\"url(#clip930)\" d=\"M2170.03 128.319 L2174.29 128.319 L2174.29 164.338 L2170.03 164.338 L2170.03 128.319 Z\" fill=\"#000000\" fill-rule=\"evenodd\" fill-opacity=\"1\" /><path clip-path=\"url(#clip930)\" d=\"M2187.42 131.051 L2187.42 138.412 L2196.19 138.412 L2196.19 141.722 L2187.42 141.722 L2187.42 155.796 Q2187.42 158.967 2188.27 159.87 Q2189.15 160.773 2191.81 160.773 L2196.19 160.773 L2196.19 164.338 L2191.81 164.338 Q2186.88 164.338 2185.01 162.509 Q2183.13 160.657 2183.13 155.796 L2183.13 141.722 L2180.01 141.722 L2180.01 138.412 L2183.13 138.412 L2183.13 131.051 L2187.42 131.051 Z\" fill=\"#000000\" fill-rule=\"evenodd\" fill-opacity=\"1\" /><path clip-path=\"url(#clip930)\" d=\"M2205.82 129.778 L2205.82 142.625 L2201.88 142.625 L2201.88 129.778 L2205.82 129.778 M2214.57 129.778 L2214.57 142.625 L2210.63 142.625 L2210.63 129.778 L2214.57 129.778 Z\" fill=\"#000000\" fill-rule=\"evenodd\" fill-opacity=\"1\" /><path clip-path=\"url(#clip930)\" d=\"M2233.55 128.319 L2233.55 170.588 L2223.74 170.588 L2223.74 167.277 L2229.27 167.277 L2229.27 131.629 L2223.74 131.629 L2223.74 128.319 L2233.55 128.319 Z\" fill=\"#000000\" fill-rule=\"evenodd\" fill-opacity=\"1\" /><polyline clip-path=\"url(#clip930)\" style=\"stroke:#e26f46; stroke-linecap:butt; stroke-linejoin:round; stroke-width:4; stroke-opacity:1; fill:none\" points=\"\n  1644.49,198.898 1788.49,198.898 \n  \"/>\n<path clip-path=\"url(#clip930)\" d=\"M1812.49 180.159 L1822.3 180.159 L1822.3 183.469 L1816.75 183.469 L1816.75 219.117 L1822.3 219.117 L1822.3 222.428 L1812.49 222.428 L1812.49 180.159 Z\" fill=\"#000000\" fill-rule=\"evenodd\" fill-opacity=\"1\" /><path clip-path=\"url(#clip930)\" d=\"M1835.4 181.618 L1835.4 194.465 L1831.47 194.465 L1831.47 181.618 L1835.4 181.618 M1844.15 181.618 L1844.15 194.465 L1840.22 194.465 L1840.22 181.618 L1844.15 181.618 Z\" fill=\"#000000\" fill-rule=\"evenodd\" fill-opacity=\"1\" /><path clip-path=\"url(#clip930)\" d=\"M1848.58 181.618 L1877.81 181.618 L1877.81 185.553 L1865.54 185.553 L1865.54 216.178 L1860.84 216.178 L1860.84 185.553 L1848.58 185.553 L1848.58 181.618 Z\" fill=\"#000000\" fill-rule=\"evenodd\" fill-opacity=\"1\" /><path clip-path=\"url(#clip930)\" d=\"M1896.26 202.15 L1896.26 204.233 L1876.68 204.233 Q1876.96 208.631 1879.32 210.946 Q1881.7 213.238 1885.94 213.238 Q1888.39 213.238 1890.68 212.636 Q1893 212.034 1895.27 210.83 L1895.27 214.858 Q1892.97 215.83 1890.57 216.34 Q1888.16 216.849 1885.68 216.849 Q1879.48 216.849 1875.84 213.238 Q1872.23 209.627 1872.23 203.469 Q1872.23 197.104 1875.66 193.377 Q1879.11 189.627 1884.94 189.627 Q1890.17 189.627 1893.21 193.006 Q1896.26 196.363 1896.26 202.15 M1892 200.9 Q1891.96 197.405 1890.03 195.321 Q1888.14 193.238 1884.99 193.238 Q1881.42 193.238 1879.27 195.252 Q1877.14 197.266 1876.82 200.923 L1892 200.9 Z\" fill=\"#000000\" fill-rule=\"evenodd\" fill-opacity=\"1\" /><path clip-path=\"url(#clip930)\" d=\"M1919.78 191.016 L1919.78 195.043 Q1917.97 194.117 1916.03 193.655 Q1914.08 193.192 1912 193.192 Q1908.83 193.192 1907.23 194.164 Q1905.66 195.136 1905.66 197.08 Q1905.66 198.562 1906.79 199.418 Q1907.93 200.252 1911.35 201.016 L1912.81 201.34 Q1917.35 202.312 1919.25 204.094 Q1921.17 205.854 1921.17 209.025 Q1921.17 212.636 1918.3 214.742 Q1915.45 216.849 1910.45 216.849 Q1908.37 216.849 1906.1 216.432 Q1903.85 216.039 1901.35 215.228 L1901.35 210.83 Q1903.71 212.057 1906.01 212.682 Q1908.3 213.284 1910.54 213.284 Q1913.55 213.284 1915.17 212.266 Q1916.79 211.224 1916.79 209.349 Q1916.79 207.613 1915.61 206.687 Q1914.46 205.761 1910.5 204.904 L1909.02 204.557 Q1905.06 203.724 1903.3 202.011 Q1901.54 200.275 1901.54 197.266 Q1901.54 193.608 1904.13 191.618 Q1906.72 189.627 1911.49 189.627 Q1913.85 189.627 1915.94 189.974 Q1918.02 190.321 1919.78 191.016 Z\" fill=\"#000000\" fill-rule=\"evenodd\" fill-opacity=\"1\" /><path clip-path=\"url(#clip930)\" d=\"M1932.16 182.891 L1932.16 190.252 L1940.94 190.252 L1940.94 193.562 L1932.16 193.562 L1932.16 207.636 Q1932.16 210.807 1933.02 211.71 Q1933.9 212.613 1936.56 212.613 L1940.94 212.613 L1940.94 216.178 L1936.56 216.178 Q1931.63 216.178 1929.76 214.349 Q1927.88 212.497 1927.88 207.636 L1927.88 193.562 L1924.76 193.562 L1924.76 190.252 L1927.88 190.252 L1927.88 182.891 L1932.16 182.891 Z\" fill=\"#000000\" fill-rule=\"evenodd\" fill-opacity=\"1\" /><path clip-path=\"url(#clip930)\" d=\"M1946.54 190.252 L1950.8 190.252 L1950.8 216.178 L1946.54 216.178 L1946.54 190.252 M1946.54 180.159 L1950.8 180.159 L1950.8 185.553 L1946.54 185.553 L1946.54 180.159 Z\" fill=\"#000000\" fill-rule=\"evenodd\" fill-opacity=\"1\" /><path clip-path=\"url(#clip930)\" d=\"M1981.26 200.529 L1981.26 216.178 L1977 216.178 L1977 200.668 Q1977 196.988 1975.57 195.159 Q1974.13 193.33 1971.26 193.33 Q1967.81 193.33 1965.82 195.53 Q1963.83 197.729 1963.83 201.525 L1963.83 216.178 L1959.55 216.178 L1959.55 190.252 L1963.83 190.252 L1963.83 194.28 Q1965.36 191.942 1967.42 190.784 Q1969.5 189.627 1972.21 189.627 Q1976.68 189.627 1978.97 192.405 Q1981.26 195.159 1981.26 200.529 Z\" fill=\"#000000\" fill-rule=\"evenodd\" fill-opacity=\"1\" /><path clip-path=\"url(#clip930)\" d=\"M2006.82 202.914 Q2006.82 198.284 2004.89 195.738 Q2003 193.192 1999.55 193.192 Q1996.12 193.192 1994.2 195.738 Q1992.3 198.284 1992.3 202.914 Q1992.3 207.52 1994.2 210.066 Q1996.12 212.613 1999.55 212.613 Q2003 212.613 2004.89 210.066 Q2006.82 207.52 2006.82 202.914 M2011.07 212.96 Q2011.07 219.58 2008.14 222.798 Q2005.2 226.039 1999.13 226.039 Q1996.89 226.039 1994.89 225.691 Q1992.9 225.367 1991.03 224.673 L1991.03 220.529 Q1992.9 221.548 1994.73 222.034 Q1996.56 222.52 1998.46 222.52 Q2002.65 222.52 2004.73 220.321 Q2006.82 218.145 2006.82 213.724 L2006.82 211.617 Q2005.5 213.909 2003.44 215.043 Q2001.38 216.178 1998.51 216.178 Q1993.74 216.178 1990.82 212.543 Q1987.9 208.909 1987.9 202.914 Q1987.9 196.895 1990.82 193.261 Q1993.74 189.627 1998.51 189.627 Q2001.38 189.627 2003.44 190.761 Q2005.5 191.895 2006.82 194.187 L2006.82 190.252 L2011.07 190.252 L2011.07 212.96 Z\" fill=\"#000000\" fill-rule=\"evenodd\" fill-opacity=\"1\" /><path clip-path=\"url(#clip930)\" d=\"M2051.49 199.974 Q2053 200.483 2054.41 202.15 Q2055.84 203.817 2057.28 206.733 L2062.02 216.178 L2057 216.178 L2052.58 207.312 Q2050.87 203.84 2049.25 202.705 Q2047.65 201.571 2044.87 201.571 L2039.78 201.571 L2039.78 216.178 L2035.1 216.178 L2035.1 181.618 L2045.66 181.618 Q2051.58 181.618 2054.5 184.094 Q2057.42 186.571 2057.42 191.571 Q2057.42 194.835 2055.89 196.988 Q2054.38 199.141 2051.49 199.974 M2039.78 185.46 L2039.78 197.729 L2045.66 197.729 Q2049.04 197.729 2050.75 196.178 Q2052.49 194.604 2052.49 191.571 Q2052.49 188.539 2050.75 187.011 Q2049.04 185.46 2045.66 185.46 L2039.78 185.46 Z\" fill=\"#000000\" fill-rule=\"evenodd\" fill-opacity=\"1\" /><path clip-path=\"url(#clip930)\" d=\"M2087.9 202.15 L2087.9 204.233 L2068.32 204.233 Q2068.6 208.631 2070.96 210.946 Q2073.34 213.238 2077.58 213.238 Q2080.03 213.238 2082.32 212.636 Q2084.64 212.034 2086.91 210.83 L2086.91 214.858 Q2084.62 215.83 2082.21 216.34 Q2079.8 216.849 2077.32 216.849 Q2071.12 216.849 2067.49 213.238 Q2063.88 209.627 2063.88 203.469 Q2063.88 197.104 2067.3 193.377 Q2070.75 189.627 2076.58 189.627 Q2081.82 189.627 2084.85 193.006 Q2087.9 196.363 2087.9 202.15 M2083.64 200.9 Q2083.6 197.405 2081.68 195.321 Q2079.78 193.238 2076.63 193.238 Q2073.07 193.238 2070.91 195.252 Q2068.78 197.266 2068.46 200.923 L2083.64 200.9 Z\" fill=\"#000000\" fill-rule=\"evenodd\" fill-opacity=\"1\" /><path clip-path=\"url(#clip930)\" d=\"M2111.42 191.016 L2111.42 195.043 Q2109.62 194.117 2107.67 193.655 Q2105.73 193.192 2103.64 193.192 Q2100.47 193.192 2098.88 194.164 Q2097.3 195.136 2097.3 197.08 Q2097.3 198.562 2098.44 199.418 Q2099.57 200.252 2103 201.016 L2104.45 201.34 Q2108.99 202.312 2110.89 204.094 Q2112.81 205.854 2112.81 209.025 Q2112.81 212.636 2109.94 214.742 Q2107.09 216.849 2102.09 216.849 Q2100.01 216.849 2097.74 216.432 Q2095.5 216.039 2093 215.228 L2093 210.83 Q2095.36 212.057 2097.65 212.682 Q2099.94 213.284 2102.19 213.284 Q2105.19 213.284 2106.82 212.266 Q2108.44 211.224 2108.44 209.349 Q2108.44 207.613 2107.26 206.687 Q2106.1 205.761 2102.14 204.904 L2100.66 204.557 Q2096.7 203.724 2094.94 202.011 Q2093.18 200.275 2093.18 197.266 Q2093.18 193.608 2095.77 191.618 Q2098.37 189.627 2103.13 189.627 Q2105.5 189.627 2107.58 189.974 Q2109.66 190.321 2111.42 191.016 Z\" fill=\"#000000\" fill-rule=\"evenodd\" fill-opacity=\"1\" /><path clip-path=\"url(#clip930)\" d=\"M2119.15 205.946 L2119.15 190.252 L2123.41 190.252 L2123.41 205.784 Q2123.41 209.465 2124.85 211.316 Q2126.28 213.145 2129.15 213.145 Q2132.6 213.145 2134.59 210.946 Q2136.61 208.747 2136.61 204.951 L2136.61 190.252 L2140.87 190.252 L2140.87 216.178 L2136.61 216.178 L2136.61 212.196 Q2135.06 214.557 2133 215.715 Q2130.96 216.849 2128.25 216.849 Q2123.78 216.849 2121.47 214.071 Q2119.15 211.293 2119.15 205.946 M2129.87 189.627 L2129.87 189.627 Z\" fill=\"#000000\" fill-rule=\"evenodd\" fill-opacity=\"1\" /><path clip-path=\"url(#clip930)\" d=\"M2149.64 180.159 L2153.9 180.159 L2153.9 216.178 L2149.64 216.178 L2149.64 180.159 Z\" fill=\"#000000\" fill-rule=\"evenodd\" fill-opacity=\"1\" /><path clip-path=\"url(#clip930)\" d=\"M2167.02 182.891 L2167.02 190.252 L2175.8 190.252 L2175.8 193.562 L2167.02 193.562 L2167.02 207.636 Q2167.02 210.807 2167.88 211.71 Q2168.76 212.613 2171.42 212.613 L2175.8 212.613 L2175.8 216.178 L2171.42 216.178 Q2166.49 216.178 2164.62 214.349 Q2162.74 212.497 2162.74 207.636 L2162.74 193.562 L2159.62 193.562 L2159.62 190.252 L2162.74 190.252 L2162.74 182.891 L2167.02 182.891 Z\" fill=\"#000000\" fill-rule=\"evenodd\" fill-opacity=\"1\" /><path clip-path=\"url(#clip930)\" d=\"M2185.43 181.618 L2185.43 194.465 L2181.49 194.465 L2181.49 181.618 L2185.43 181.618 M2194.18 181.618 L2194.18 194.465 L2190.24 194.465 L2190.24 181.618 L2194.18 181.618 Z\" fill=\"#000000\" fill-rule=\"evenodd\" fill-opacity=\"1\" /><path clip-path=\"url(#clip930)\" d=\"M2213.16 180.159 L2213.16 222.428 L2203.34 222.428 L2203.34 219.117 L2208.87 219.117 L2208.87 183.469 L2203.34 183.469 L2203.34 180.159 L2213.16 180.159 Z\" fill=\"#000000\" fill-rule=\"evenodd\" fill-opacity=\"1\" /></svg>\n",
      "text/html": [
       "<?xml version=\"1.0\" encoding=\"utf-8\"?>\n",
       "<svg xmlns=\"http://www.w3.org/2000/svg\" xmlns:xlink=\"http://www.w3.org/1999/xlink\" width=\"600\" height=\"400\" viewBox=\"0 0 2400 1600\">\n",
       "<defs>\n",
       "  <clipPath id=\"clip980\">\n",
       "    <rect x=\"0\" y=\"0\" width=\"2400\" height=\"1600\"/>\n",
       "  </clipPath>\n",
       "</defs>\n",
       "<path clip-path=\"url(#clip980)\" d=\"\n",
       "M0 1600 L2400 1600 L2400 0 L0 0  Z\n",
       "  \" fill=\"#ffffff\" fill-rule=\"evenodd\" fill-opacity=\"1\"/>\n",
       "<defs>\n",
       "  <clipPath id=\"clip981\">\n",
       "    <rect x=\"480\" y=\"0\" width=\"1681\" height=\"1600\"/>\n",
       "  </clipPath>\n",
       "</defs>\n",
       "<path clip-path=\"url(#clip980)\" d=\"\n",
       "M216.598 1486.45 L2352.76 1486.45 L2352.76 47.2441 L216.598 47.2441  Z\n",
       "  \" fill=\"#ffffff\" fill-rule=\"evenodd\" fill-opacity=\"1\"/>\n",
       "<defs>\n",
       "  <clipPath id=\"clip982\">\n",
       "    <rect x=\"216\" y=\"47\" width=\"2137\" height=\"1440\"/>\n",
       "  </clipPath>\n",
       "</defs>\n",
       "<polyline clip-path=\"url(#clip982)\" style=\"stroke:#000000; stroke-linecap:butt; stroke-linejoin:round; stroke-width:2; stroke-opacity:0.1; fill:none\" points=\"\n",
       "  555.02,1486.45 555.02,47.2441 \n",
       "  \"/>\n",
       "<polyline clip-path=\"url(#clip982)\" style=\"stroke:#000000; stroke-linecap:butt; stroke-linejoin:round; stroke-width:2; stroke-opacity:0.1; fill:none\" points=\"\n",
       "  902.476,1486.45 902.476,47.2441 \n",
       "  \"/>\n",
       "<polyline clip-path=\"url(#clip982)\" style=\"stroke:#000000; stroke-linecap:butt; stroke-linejoin:round; stroke-width:2; stroke-opacity:0.1; fill:none\" points=\"\n",
       "  1249.93,1486.45 1249.93,47.2441 \n",
       "  \"/>\n",
       "<polyline clip-path=\"url(#clip982)\" style=\"stroke:#000000; stroke-linecap:butt; stroke-linejoin:round; stroke-width:2; stroke-opacity:0.1; fill:none\" points=\"\n",
       "  1597.39,1486.45 1597.39,47.2441 \n",
       "  \"/>\n",
       "<polyline clip-path=\"url(#clip982)\" style=\"stroke:#000000; stroke-linecap:butt; stroke-linejoin:round; stroke-width:2; stroke-opacity:0.1; fill:none\" points=\"\n",
       "  1944.84,1486.45 1944.84,47.2441 \n",
       "  \"/>\n",
       "<polyline clip-path=\"url(#clip982)\" style=\"stroke:#000000; stroke-linecap:butt; stroke-linejoin:round; stroke-width:2; stroke-opacity:0.1; fill:none\" points=\"\n",
       "  2292.3,1486.45 2292.3,47.2441 \n",
       "  \"/>\n",
       "<polyline clip-path=\"url(#clip980)\" style=\"stroke:#000000; stroke-linecap:butt; stroke-linejoin:round; stroke-width:4; stroke-opacity:1; fill:none\" points=\"\n",
       "  216.598,1486.45 2352.76,1486.45 \n",
       "  \"/>\n",
       "<polyline clip-path=\"url(#clip980)\" style=\"stroke:#000000; stroke-linecap:butt; stroke-linejoin:round; stroke-width:4; stroke-opacity:1; fill:none\" points=\"\n",
       "  555.02,1486.45 555.02,1467.55 \n",
       "  \"/>\n",
       "<polyline clip-path=\"url(#clip980)\" style=\"stroke:#000000; stroke-linecap:butt; stroke-linejoin:round; stroke-width:4; stroke-opacity:1; fill:none\" points=\"\n",
       "  902.476,1486.45 902.476,1467.55 \n",
       "  \"/>\n",
       "<polyline clip-path=\"url(#clip980)\" style=\"stroke:#000000; stroke-linecap:butt; stroke-linejoin:round; stroke-width:4; stroke-opacity:1; fill:none\" points=\"\n",
       "  1249.93,1486.45 1249.93,1467.55 \n",
       "  \"/>\n",
       "<polyline clip-path=\"url(#clip980)\" style=\"stroke:#000000; stroke-linecap:butt; stroke-linejoin:round; stroke-width:4; stroke-opacity:1; fill:none\" points=\"\n",
       "  1597.39,1486.45 1597.39,1467.55 \n",
       "  \"/>\n",
       "<polyline clip-path=\"url(#clip980)\" style=\"stroke:#000000; stroke-linecap:butt; stroke-linejoin:round; stroke-width:4; stroke-opacity:1; fill:none\" points=\"\n",
       "  1944.84,1486.45 1944.84,1467.55 \n",
       "  \"/>\n",
       "<polyline clip-path=\"url(#clip980)\" style=\"stroke:#000000; stroke-linecap:butt; stroke-linejoin:round; stroke-width:4; stroke-opacity:1; fill:none\" points=\"\n",
       "  2292.3,1486.45 2292.3,1467.55 \n",
       "  \"/>\n",
       "<path clip-path=\"url(#clip980)\" d=\"M545.298 1514.29 L563.654 1514.29 L563.654 1518.22 L549.58 1518.22 L549.58 1526.7 Q550.599 1526.35 551.617 1526.19 Q552.636 1526 553.654 1526 Q559.441 1526 562.821 1529.17 Q566.2 1532.34 566.2 1537.76 Q566.2 1543.34 562.728 1546.44 Q559.256 1549.52 552.936 1549.52 Q550.761 1549.52 548.492 1549.15 Q546.247 1548.78 543.839 1548.04 L543.839 1543.34 Q545.923 1544.47 548.145 1545.03 Q550.367 1545.58 552.844 1545.58 Q556.849 1545.58 559.186 1543.48 Q561.524 1541.37 561.524 1537.76 Q561.524 1534.15 559.186 1532.04 Q556.849 1529.94 552.844 1529.94 Q550.969 1529.94 549.094 1530.35 Q547.242 1530.77 545.298 1531.65 L545.298 1514.29 Z\" fill=\"#000000\" fill-rule=\"evenodd\" fill-opacity=\"1\" /><path clip-path=\"url(#clip980)\" d=\"M877.163 1544.91 L884.802 1544.91 L884.802 1518.55 L876.492 1520.21 L876.492 1515.95 L884.756 1514.29 L889.432 1514.29 L889.432 1544.91 L897.071 1544.91 L897.071 1548.85 L877.163 1548.85 L877.163 1544.91 Z\" fill=\"#000000\" fill-rule=\"evenodd\" fill-opacity=\"1\" /><path clip-path=\"url(#clip980)\" d=\"M916.515 1517.37 Q912.904 1517.37 911.075 1520.93 Q909.27 1524.47 909.27 1531.6 Q909.27 1538.71 911.075 1542.27 Q912.904 1545.82 916.515 1545.82 Q920.149 1545.82 921.955 1542.27 Q923.783 1538.71 923.783 1531.6 Q923.783 1524.47 921.955 1520.93 Q920.149 1517.37 916.515 1517.37 M916.515 1513.66 Q922.325 1513.66 925.381 1518.27 Q928.459 1522.85 928.459 1531.6 Q928.459 1540.33 925.381 1544.94 Q922.325 1549.52 916.515 1549.52 Q910.705 1549.52 907.626 1544.94 Q904.57 1540.33 904.57 1531.6 Q904.57 1522.85 907.626 1518.27 Q910.705 1513.66 916.515 1513.66 Z\" fill=\"#000000\" fill-rule=\"evenodd\" fill-opacity=\"1\" /><path clip-path=\"url(#clip980)\" d=\"M1225.12 1544.91 L1232.76 1544.91 L1232.76 1518.55 L1224.45 1520.21 L1224.45 1515.95 L1232.71 1514.29 L1237.39 1514.29 L1237.39 1544.91 L1245.02 1544.91 L1245.02 1548.85 L1225.12 1548.85 L1225.12 1544.91 Z\" fill=\"#000000\" fill-rule=\"evenodd\" fill-opacity=\"1\" /><path clip-path=\"url(#clip980)\" d=\"M1254.51 1514.29 L1272.87 1514.29 L1272.87 1518.22 L1258.8 1518.22 L1258.8 1526.7 Q1259.82 1526.35 1260.83 1526.19 Q1261.85 1526 1262.87 1526 Q1268.66 1526 1272.04 1529.17 Q1275.42 1532.34 1275.42 1537.76 Q1275.42 1543.34 1271.95 1546.44 Q1268.47 1549.52 1262.15 1549.52 Q1259.98 1549.52 1257.71 1549.15 Q1255.46 1548.78 1253.06 1548.04 L1253.06 1543.34 Q1255.14 1544.47 1257.36 1545.03 Q1259.58 1545.58 1262.06 1545.58 Q1266.07 1545.58 1268.4 1543.48 Q1270.74 1541.37 1270.74 1537.76 Q1270.74 1534.15 1268.4 1532.04 Q1266.07 1529.94 1262.06 1529.94 Q1260.19 1529.94 1258.31 1530.35 Q1256.46 1530.77 1254.51 1531.65 L1254.51 1514.29 Z\" fill=\"#000000\" fill-rule=\"evenodd\" fill-opacity=\"1\" /><path clip-path=\"url(#clip980)\" d=\"M1576.16 1544.91 L1592.48 1544.91 L1592.48 1548.85 L1570.54 1548.85 L1570.54 1544.91 Q1573.2 1542.16 1577.78 1537.53 Q1582.39 1532.88 1583.57 1531.53 Q1585.81 1529.01 1586.69 1527.27 Q1587.6 1525.51 1587.6 1523.82 Q1587.6 1521.07 1585.65 1519.33 Q1583.73 1517.6 1580.63 1517.6 Q1578.43 1517.6 1575.98 1518.36 Q1573.54 1519.13 1570.77 1520.68 L1570.77 1515.95 Q1573.59 1514.82 1576.04 1514.24 Q1578.5 1513.66 1580.54 1513.66 Q1585.91 1513.66 1589.1 1516.35 Q1592.29 1519.03 1592.29 1523.52 Q1592.29 1525.65 1591.48 1527.57 Q1590.7 1529.47 1588.59 1532.07 Q1588.01 1532.74 1584.91 1535.95 Q1581.81 1539.15 1576.16 1544.91 Z\" fill=\"#000000\" fill-rule=\"evenodd\" fill-opacity=\"1\" /><path clip-path=\"url(#clip980)\" d=\"M1612.29 1517.37 Q1608.68 1517.37 1606.85 1520.93 Q1605.05 1524.47 1605.05 1531.6 Q1605.05 1538.71 1606.85 1542.27 Q1608.68 1545.82 1612.29 1545.82 Q1615.93 1545.82 1617.73 1542.27 Q1619.56 1538.71 1619.56 1531.6 Q1619.56 1524.47 1617.73 1520.93 Q1615.93 1517.37 1612.29 1517.37 M1612.29 1513.66 Q1618.1 1513.66 1621.16 1518.27 Q1624.24 1522.85 1624.24 1531.6 Q1624.24 1540.33 1621.16 1544.94 Q1618.1 1549.52 1612.29 1549.52 Q1606.48 1549.52 1603.41 1544.94 Q1600.35 1540.33 1600.35 1531.6 Q1600.35 1522.85 1603.41 1518.27 Q1606.48 1513.66 1612.29 1513.66 Z\" fill=\"#000000\" fill-rule=\"evenodd\" fill-opacity=\"1\" /><path clip-path=\"url(#clip980)\" d=\"M1924.11 1544.91 L1940.43 1544.91 L1940.43 1548.85 L1918.49 1548.85 L1918.49 1544.91 Q1921.15 1542.16 1925.73 1537.53 Q1930.34 1532.88 1931.52 1531.53 Q1933.77 1529.01 1934.65 1527.27 Q1935.55 1525.51 1935.55 1523.82 Q1935.55 1521.07 1933.6 1519.33 Q1931.68 1517.6 1928.58 1517.6 Q1926.38 1517.6 1923.93 1518.36 Q1921.5 1519.13 1918.72 1520.68 L1918.72 1515.95 Q1921.54 1514.82 1924 1514.24 Q1926.45 1513.66 1928.49 1513.66 Q1933.86 1513.66 1937.05 1516.35 Q1940.25 1519.03 1940.25 1523.52 Q1940.25 1525.65 1939.44 1527.57 Q1938.65 1529.47 1936.54 1532.07 Q1935.97 1532.74 1932.86 1535.95 Q1929.76 1539.15 1924.11 1544.91 Z\" fill=\"#000000\" fill-rule=\"evenodd\" fill-opacity=\"1\" /><path clip-path=\"url(#clip980)\" d=\"M1950.29 1514.29 L1968.65 1514.29 L1968.65 1518.22 L1954.58 1518.22 L1954.58 1526.7 Q1955.6 1526.35 1956.61 1526.19 Q1957.63 1526 1958.65 1526 Q1964.44 1526 1967.82 1529.17 Q1971.2 1532.34 1971.2 1537.76 Q1971.2 1543.34 1967.72 1546.44 Q1964.25 1549.52 1957.93 1549.52 Q1955.76 1549.52 1953.49 1549.15 Q1951.24 1548.78 1948.84 1548.04 L1948.84 1543.34 Q1950.92 1544.47 1953.14 1545.03 Q1955.36 1545.58 1957.84 1545.58 Q1961.85 1545.58 1964.18 1543.48 Q1966.52 1541.37 1966.52 1537.76 Q1966.52 1534.15 1964.18 1532.04 Q1961.85 1529.94 1957.84 1529.94 Q1955.97 1529.94 1954.09 1530.35 Q1952.24 1530.77 1950.29 1531.65 L1950.29 1514.29 Z\" fill=\"#000000\" fill-rule=\"evenodd\" fill-opacity=\"1\" /><path clip-path=\"url(#clip980)\" d=\"M2281.14 1530.21 Q2284.5 1530.93 2286.37 1533.2 Q2288.27 1535.47 2288.27 1538.8 Q2288.27 1543.92 2284.75 1546.72 Q2281.23 1549.52 2274.75 1549.52 Q2272.58 1549.52 2270.26 1549.08 Q2267.97 1548.66 2265.52 1547.81 L2265.52 1543.29 Q2267.46 1544.43 2269.78 1545.01 Q2272.09 1545.58 2274.61 1545.58 Q2279.01 1545.58 2281.3 1543.85 Q2283.62 1542.11 2283.62 1538.8 Q2283.62 1535.75 2281.47 1534.03 Q2279.34 1532.3 2275.52 1532.3 L2271.49 1532.3 L2271.49 1528.45 L2275.7 1528.45 Q2279.15 1528.45 2280.98 1527.09 Q2282.81 1525.7 2282.81 1523.11 Q2282.81 1520.45 2280.91 1519.03 Q2279.03 1517.6 2275.52 1517.6 Q2273.6 1517.6 2271.4 1518.01 Q2269.2 1518.43 2266.56 1519.31 L2266.56 1515.14 Q2269.22 1514.4 2271.53 1514.03 Q2273.87 1513.66 2275.93 1513.66 Q2281.26 1513.66 2284.36 1516.09 Q2287.46 1518.5 2287.46 1522.62 Q2287.46 1525.49 2285.82 1527.48 Q2284.17 1529.45 2281.14 1530.21 Z\" fill=\"#000000\" fill-rule=\"evenodd\" fill-opacity=\"1\" /><path clip-path=\"url(#clip980)\" d=\"M2307.14 1517.37 Q2303.53 1517.37 2301.7 1520.93 Q2299.89 1524.47 2299.89 1531.6 Q2299.89 1538.71 2301.7 1542.27 Q2303.53 1545.82 2307.14 1545.82 Q2310.77 1545.82 2312.58 1542.27 Q2314.4 1538.71 2314.4 1531.6 Q2314.4 1524.47 2312.58 1520.93 Q2310.77 1517.37 2307.14 1517.37 M2307.14 1513.66 Q2312.95 1513.66 2316 1518.27 Q2319.08 1522.85 2319.08 1531.6 Q2319.08 1540.33 2316 1544.94 Q2312.95 1549.52 2307.14 1549.52 Q2301.33 1549.52 2298.25 1544.94 Q2295.19 1540.33 2295.19 1531.6 Q2295.19 1522.85 2298.25 1518.27 Q2301.33 1513.66 2307.14 1513.66 Z\" fill=\"#000000\" fill-rule=\"evenodd\" fill-opacity=\"1\" /><polyline clip-path=\"url(#clip982)\" style=\"stroke:#000000; stroke-linecap:butt; stroke-linejoin:round; stroke-width:2; stroke-opacity:0.1; fill:none\" points=\"\n",
       "  216.598,1484.2 2352.76,1484.2 \n",
       "  \"/>\n",
       "<polyline clip-path=\"url(#clip982)\" style=\"stroke:#000000; stroke-linecap:butt; stroke-linejoin:round; stroke-width:2; stroke-opacity:0.1; fill:none\" points=\"\n",
       "  216.598,1092.28 2352.76,1092.28 \n",
       "  \"/>\n",
       "<polyline clip-path=\"url(#clip982)\" style=\"stroke:#000000; stroke-linecap:butt; stroke-linejoin:round; stroke-width:2; stroke-opacity:0.1; fill:none\" points=\"\n",
       "  216.598,700.351 2352.76,700.351 \n",
       "  \"/>\n",
       "<polyline clip-path=\"url(#clip982)\" style=\"stroke:#000000; stroke-linecap:butt; stroke-linejoin:round; stroke-width:2; stroke-opacity:0.1; fill:none\" points=\"\n",
       "  216.598,308.424 2352.76,308.424 \n",
       "  \"/>\n",
       "<polyline clip-path=\"url(#clip980)\" style=\"stroke:#000000; stroke-linecap:butt; stroke-linejoin:round; stroke-width:4; stroke-opacity:1; fill:none\" points=\"\n",
       "  216.598,1486.45 216.598,47.2441 \n",
       "  \"/>\n",
       "<polyline clip-path=\"url(#clip980)\" style=\"stroke:#000000; stroke-linecap:butt; stroke-linejoin:round; stroke-width:4; stroke-opacity:1; fill:none\" points=\"\n",
       "  216.598,1484.2 235.496,1484.2 \n",
       "  \"/>\n",
       "<polyline clip-path=\"url(#clip980)\" style=\"stroke:#000000; stroke-linecap:butt; stroke-linejoin:round; stroke-width:4; stroke-opacity:1; fill:none\" points=\"\n",
       "  216.598,1092.28 235.496,1092.28 \n",
       "  \"/>\n",
       "<polyline clip-path=\"url(#clip980)\" style=\"stroke:#000000; stroke-linecap:butt; stroke-linejoin:round; stroke-width:4; stroke-opacity:1; fill:none\" points=\"\n",
       "  216.598,700.351 235.496,700.351 \n",
       "  \"/>\n",
       "<polyline clip-path=\"url(#clip980)\" style=\"stroke:#000000; stroke-linecap:butt; stroke-linejoin:round; stroke-width:4; stroke-opacity:1; fill:none\" points=\"\n",
       "  216.598,308.424 235.496,308.424 \n",
       "  \"/>\n",
       "<path clip-path=\"url(#clip980)\" d=\"M62.9365 1470 Q59.3254 1470 57.4967 1473.57 Q55.6912 1477.11 55.6912 1484.24 Q55.6912 1491.34 57.4967 1494.91 Q59.3254 1498.45 62.9365 1498.45 Q66.5707 1498.45 68.3763 1494.91 Q70.205 1491.34 70.205 1484.24 Q70.205 1477.11 68.3763 1473.57 Q66.5707 1470 62.9365 1470 M62.9365 1466.3 Q68.7467 1466.3 71.8022 1470.91 Q74.8809 1475.49 74.8809 1484.24 Q74.8809 1492.97 71.8022 1497.57 Q68.7467 1502.15 62.9365 1502.15 Q57.1264 1502.15 54.0477 1497.57 Q50.9921 1492.97 50.9921 1484.24 Q50.9921 1475.49 54.0477 1470.91 Q57.1264 1466.3 62.9365 1466.3 Z\" fill=\"#000000\" fill-rule=\"evenodd\" fill-opacity=\"1\" /><path clip-path=\"url(#clip980)\" d=\"M83.0984 1495.6 L87.9827 1495.6 L87.9827 1501.48 L83.0984 1501.48 L83.0984 1495.6 Z\" fill=\"#000000\" fill-rule=\"evenodd\" fill-opacity=\"1\" /><path clip-path=\"url(#clip980)\" d=\"M102.196 1497.55 L118.515 1497.55 L118.515 1501.48 L96.5706 1501.48 L96.5706 1497.55 Q99.2326 1494.79 103.816 1490.16 Q108.422 1485.51 109.603 1484.17 Q111.848 1481.65 112.728 1479.91 Q113.631 1478.15 113.631 1476.46 Q113.631 1473.71 111.686 1471.97 Q109.765 1470.23 106.663 1470.23 Q104.464 1470.23 102.01 1471 Q99.5798 1471.76 96.8021 1473.31 L96.8021 1468.59 Q99.6261 1467.46 102.08 1466.88 Q104.534 1466.3 106.571 1466.3 Q111.941 1466.3 115.135 1468.98 Q118.33 1471.67 118.33 1476.16 Q118.33 1478.29 117.52 1480.21 Q116.733 1482.11 114.626 1484.7 Q114.047 1485.37 110.946 1488.59 Q107.844 1491.78 102.196 1497.55 Z\" fill=\"#000000\" fill-rule=\"evenodd\" fill-opacity=\"1\" /><path clip-path=\"url(#clip980)\" d=\"M141.177 1471 L129.371 1489.45 L141.177 1489.45 L141.177 1471 M139.95 1466.92 L145.83 1466.92 L145.83 1489.45 L150.76 1489.45 L150.76 1493.34 L145.83 1493.34 L145.83 1501.48 L141.177 1501.48 L141.177 1493.34 L125.575 1493.34 L125.575 1488.82 L139.95 1466.92 Z\" fill=\"#000000\" fill-rule=\"evenodd\" fill-opacity=\"1\" /><path clip-path=\"url(#clip980)\" d=\"M169.07 1482.34 Q165.922 1482.34 164.07 1484.49 Q162.242 1486.65 162.242 1490.4 Q162.242 1494.12 164.07 1496.3 Q165.922 1498.45 169.07 1498.45 Q172.218 1498.45 174.047 1496.3 Q175.899 1494.12 175.899 1490.4 Q175.899 1486.65 174.047 1484.49 Q172.218 1482.34 169.07 1482.34 M178.353 1467.69 L178.353 1471.95 Q176.593 1471.11 174.788 1470.67 Q173.005 1470.23 171.246 1470.23 Q166.617 1470.23 164.163 1473.36 Q161.732 1476.48 161.385 1482.8 Q162.751 1480.79 164.811 1479.72 Q166.871 1478.64 169.348 1478.64 Q174.556 1478.64 177.566 1481.81 Q180.598 1484.96 180.598 1490.4 Q180.598 1495.72 177.45 1498.94 Q174.302 1502.15 169.07 1502.15 Q163.075 1502.15 159.904 1497.57 Q156.732 1492.97 156.732 1484.24 Q156.732 1476.04 160.621 1471.18 Q164.51 1466.3 171.061 1466.3 Q172.82 1466.3 174.603 1466.65 Q176.408 1466.99 178.353 1467.69 Z\" fill=\"#000000\" fill-rule=\"evenodd\" fill-opacity=\"1\" /><path clip-path=\"url(#clip980)\" d=\"M63.1911 1078.08 Q59.58 1078.08 57.7513 1081.64 Q55.9458 1085.18 55.9458 1092.31 Q55.9458 1099.42 57.7513 1102.98 Q59.58 1106.52 63.1911 1106.52 Q66.8254 1106.52 68.6309 1102.98 Q70.4596 1099.42 70.4596 1092.31 Q70.4596 1085.18 68.6309 1081.64 Q66.8254 1078.08 63.1911 1078.08 M63.1911 1074.37 Q69.0013 1074.37 72.0568 1078.98 Q75.1355 1083.56 75.1355 1092.31 Q75.1355 1101.04 72.0568 1105.65 Q69.0013 1110.23 63.1911 1110.23 Q57.381 1110.23 54.3023 1105.65 Q51.2468 1101.04 51.2468 1092.31 Q51.2468 1083.56 54.3023 1078.98 Q57.381 1074.37 63.1911 1074.37 Z\" fill=\"#000000\" fill-rule=\"evenodd\" fill-opacity=\"1\" /><path clip-path=\"url(#clip980)\" d=\"M83.3531 1103.68 L88.2373 1103.68 L88.2373 1109.56 L83.3531 1109.56 L83.3531 1103.68 Z\" fill=\"#000000\" fill-rule=\"evenodd\" fill-opacity=\"1\" /><path clip-path=\"url(#clip980)\" d=\"M102.45 1105.62 L118.77 1105.62 L118.77 1109.56 L96.8252 1109.56 L96.8252 1105.62 Q99.4872 1102.87 104.071 1098.24 Q108.677 1093.59 109.858 1092.24 Q112.103 1089.72 112.983 1087.98 Q113.885 1086.22 113.885 1084.53 Q113.885 1081.78 111.941 1080.04 Q110.02 1078.31 106.918 1078.31 Q104.719 1078.31 102.265 1079.07 Q99.8345 1079.84 97.0567 1081.39 L97.0567 1076.66 Q99.8808 1075.53 102.334 1074.95 Q104.788 1074.37 106.825 1074.37 Q112.196 1074.37 115.39 1077.06 Q118.584 1079.74 118.584 1084.23 Q118.584 1086.36 117.774 1088.28 Q116.987 1090.18 114.881 1092.77 Q114.302 1093.45 111.2 1096.66 Q108.098 1099.86 102.45 1105.62 Z\" fill=\"#000000\" fill-rule=\"evenodd\" fill-opacity=\"1\" /><path clip-path=\"url(#clip980)\" d=\"M141.431 1079.07 L129.626 1097.52 L141.431 1097.52 L141.431 1079.07 M140.205 1075 L146.084 1075 L146.084 1097.52 L151.015 1097.52 L151.015 1101.41 L146.084 1101.41 L146.084 1109.56 L141.431 1109.56 L141.431 1101.41 L125.83 1101.41 L125.83 1096.9 L140.205 1075 Z\" fill=\"#000000\" fill-rule=\"evenodd\" fill-opacity=\"1\" /><path clip-path=\"url(#clip980)\" d=\"M168.746 1093.15 Q165.413 1093.15 163.492 1094.93 Q161.593 1096.71 161.593 1099.84 Q161.593 1102.96 163.492 1104.74 Q165.413 1106.52 168.746 1106.52 Q172.079 1106.52 174.001 1104.74 Q175.922 1102.94 175.922 1099.84 Q175.922 1096.71 174.001 1094.93 Q172.103 1093.15 168.746 1093.15 M164.07 1091.15 Q161.061 1090.41 159.371 1088.35 Q157.705 1086.29 157.705 1083.33 Q157.705 1079.19 160.644 1076.78 Q163.607 1074.37 168.746 1074.37 Q173.908 1074.37 176.848 1076.78 Q179.788 1079.19 179.788 1083.33 Q179.788 1086.29 178.098 1088.35 Q176.431 1090.41 173.445 1091.15 Q176.825 1091.94 178.7 1094.23 Q180.598 1096.52 180.598 1099.84 Q180.598 1104.86 177.519 1107.54 Q174.464 1110.23 168.746 1110.23 Q163.029 1110.23 159.95 1107.54 Q156.894 1104.86 156.894 1099.84 Q156.894 1096.52 158.792 1094.23 Q160.691 1091.94 164.07 1091.15 M162.357 1083.77 Q162.357 1086.46 164.024 1087.96 Q165.714 1089.46 168.746 1089.46 Q171.755 1089.46 173.445 1087.96 Q175.158 1086.46 175.158 1083.77 Q175.158 1081.09 173.445 1079.58 Q171.755 1078.08 168.746 1078.08 Q165.714 1078.08 164.024 1079.58 Q162.357 1081.09 162.357 1083.77 Z\" fill=\"#000000\" fill-rule=\"evenodd\" fill-opacity=\"1\" /><path clip-path=\"url(#clip980)\" d=\"M63.0985 686.149 Q59.4875 686.149 57.6588 689.714 Q55.8532 693.256 55.8532 700.385 Q55.8532 707.492 57.6588 711.057 Q59.4875 714.598 63.0985 714.598 Q66.7328 714.598 68.5383 711.057 Q70.367 707.492 70.367 700.385 Q70.367 693.256 68.5383 689.714 Q66.7328 686.149 63.0985 686.149 M63.0985 682.446 Q68.9087 682.446 71.9642 687.052 Q75.0429 691.636 75.0429 700.385 Q75.0429 709.112 71.9642 713.719 Q68.9087 718.302 63.0985 718.302 Q57.2884 718.302 54.2097 713.719 Q51.1542 709.112 51.1542 700.385 Q51.1542 691.636 54.2097 687.052 Q57.2884 682.446 63.0985 682.446 Z\" fill=\"#000000\" fill-rule=\"evenodd\" fill-opacity=\"1\" /><path clip-path=\"url(#clip980)\" d=\"M83.2605 711.751 L88.1447 711.751 L88.1447 717.631 L83.2605 717.631 L83.2605 711.751 Z\" fill=\"#000000\" fill-rule=\"evenodd\" fill-opacity=\"1\" /><path clip-path=\"url(#clip980)\" d=\"M102.358 713.696 L118.677 713.696 L118.677 717.631 L96.7326 717.631 L96.7326 713.696 Q99.3946 710.941 103.978 706.311 Q108.584 701.659 109.765 700.316 Q112.01 697.793 112.89 696.057 Q113.793 694.298 113.793 692.608 Q113.793 689.853 111.848 688.117 Q109.927 686.381 106.825 686.381 Q104.626 686.381 102.172 687.145 Q99.7419 687.909 96.9641 689.46 L96.9641 684.737 Q99.7882 683.603 102.242 683.024 Q104.696 682.446 106.733 682.446 Q112.103 682.446 115.297 685.131 Q118.492 687.816 118.492 692.307 Q118.492 694.436 117.682 696.358 Q116.895 698.256 114.788 700.848 Q114.209 701.52 111.108 704.737 Q108.006 707.932 102.358 713.696 Z\" fill=\"#000000\" fill-rule=\"evenodd\" fill-opacity=\"1\" /><path clip-path=\"url(#clip980)\" d=\"M128.538 683.071 L146.894 683.071 L146.894 687.006 L132.82 687.006 L132.82 695.478 Q133.839 695.131 134.857 694.969 Q135.876 694.784 136.894 694.784 Q142.681 694.784 146.061 697.955 Q149.441 701.126 149.441 706.543 Q149.441 712.122 145.968 715.223 Q142.496 718.302 136.177 718.302 Q134.001 718.302 131.732 717.932 Q129.487 717.561 127.08 716.821 L127.08 712.122 Q129.163 713.256 131.385 713.811 Q133.607 714.367 136.084 714.367 Q140.089 714.367 142.427 712.26 Q144.765 710.154 144.765 706.543 Q144.765 702.932 142.427 700.825 Q140.089 698.719 136.084 698.719 Q134.209 698.719 132.334 699.136 Q130.482 699.552 128.538 700.432 L128.538 683.071 Z\" fill=\"#000000\" fill-rule=\"evenodd\" fill-opacity=\"1\" /><path clip-path=\"url(#clip980)\" d=\"M168.654 686.149 Q165.042 686.149 163.214 689.714 Q161.408 693.256 161.408 700.385 Q161.408 707.492 163.214 711.057 Q165.042 714.598 168.654 714.598 Q172.288 714.598 174.093 711.057 Q175.922 707.492 175.922 700.385 Q175.922 693.256 174.093 689.714 Q172.288 686.149 168.654 686.149 M168.654 682.446 Q174.464 682.446 177.519 687.052 Q180.598 691.636 180.598 700.385 Q180.598 709.112 177.519 713.719 Q174.464 718.302 168.654 718.302 Q162.843 718.302 159.765 713.719 Q156.709 709.112 156.709 700.385 Q156.709 691.636 159.765 687.052 Q162.843 682.446 168.654 682.446 Z\" fill=\"#000000\" fill-rule=\"evenodd\" fill-opacity=\"1\" /><path clip-path=\"url(#clip980)\" d=\"M64.6958 294.223 Q61.0847 294.223 59.256 297.788 Q57.4504 301.329 57.4504 308.459 Q57.4504 315.566 59.256 319.13 Q61.0847 322.672 64.6958 322.672 Q68.33 322.672 70.1355 319.13 Q71.9642 315.566 71.9642 308.459 Q71.9642 301.329 70.1355 297.788 Q68.33 294.223 64.6958 294.223 M64.6958 290.519 Q70.5059 290.519 73.5614 295.126 Q76.6401 299.709 76.6401 308.459 Q76.6401 317.186 73.5614 321.792 Q70.5059 326.376 64.6958 326.376 Q58.8856 326.376 55.8069 321.792 Q52.7514 317.186 52.7514 308.459 Q52.7514 299.709 55.8069 295.126 Q58.8856 290.519 64.6958 290.519 Z\" fill=\"#000000\" fill-rule=\"evenodd\" fill-opacity=\"1\" /><path clip-path=\"url(#clip980)\" d=\"M84.8577 319.825 L89.7419 319.825 L89.7419 325.704 L84.8577 325.704 L84.8577 319.825 Z\" fill=\"#000000\" fill-rule=\"evenodd\" fill-opacity=\"1\" /><path clip-path=\"url(#clip980)\" d=\"M103.955 321.769 L120.274 321.769 L120.274 325.704 L98.3298 325.704 L98.3298 321.769 Q100.992 319.015 105.575 314.385 Q110.182 309.732 111.362 308.39 Q113.608 305.866 114.487 304.13 Q115.39 302.371 115.39 300.681 Q115.39 297.927 113.445 296.191 Q111.524 294.455 108.422 294.455 Q106.223 294.455 103.77 295.218 Q101.339 295.982 98.5613 297.533 L98.5613 292.811 Q101.385 291.677 103.839 291.098 Q106.293 290.519 108.33 290.519 Q113.7 290.519 116.895 293.205 Q120.089 295.89 120.089 300.38 Q120.089 302.51 119.279 304.431 Q118.492 306.329 116.385 308.922 Q115.807 309.593 112.705 312.811 Q109.603 316.005 103.955 321.769 Z\" fill=\"#000000\" fill-rule=\"evenodd\" fill-opacity=\"1\" /><path clip-path=\"url(#clip980)\" d=\"M130.135 291.144 L148.492 291.144 L148.492 295.08 L134.418 295.08 L134.418 303.552 Q135.436 303.204 136.455 303.042 Q137.473 302.857 138.492 302.857 Q144.279 302.857 147.658 306.029 Q151.038 309.2 151.038 314.616 Q151.038 320.195 147.566 323.297 Q144.093 326.376 137.774 326.376 Q135.598 326.376 133.33 326.005 Q131.084 325.635 128.677 324.894 L128.677 320.195 Q130.76 321.329 132.982 321.885 Q135.205 322.44 137.681 322.44 Q141.686 322.44 144.024 320.334 Q146.362 318.228 146.362 314.616 Q146.362 311.005 144.024 308.899 Q141.686 306.792 137.681 306.792 Q135.806 306.792 133.931 307.209 Q132.08 307.626 130.135 308.505 L130.135 291.144 Z\" fill=\"#000000\" fill-rule=\"evenodd\" fill-opacity=\"1\" /><path clip-path=\"url(#clip980)\" d=\"M164.279 321.769 L180.598 321.769 L180.598 325.704 L158.654 325.704 L158.654 321.769 Q161.316 319.015 165.899 314.385 Q170.505 309.732 171.686 308.39 Q173.931 305.866 174.811 304.13 Q175.714 302.371 175.714 300.681 Q175.714 297.927 173.769 296.191 Q171.848 294.455 168.746 294.455 Q166.547 294.455 164.093 295.218 Q161.663 295.982 158.885 297.533 L158.885 292.811 Q161.709 291.677 164.163 291.098 Q166.617 290.519 168.654 290.519 Q174.024 290.519 177.218 293.205 Q180.413 295.89 180.413 300.38 Q180.413 302.51 179.603 304.431 Q178.816 306.329 176.709 308.922 Q176.13 309.593 173.029 312.811 Q169.927 316.005 164.279 321.769 Z\" fill=\"#000000\" fill-rule=\"evenodd\" fill-opacity=\"1\" /><polyline clip-path=\"url(#clip982)\" style=\"stroke:#e26f46; stroke-linecap:butt; stroke-linejoin:round; stroke-width:4; stroke-opacity:1; fill:none\" points=\"\n",
       "  277.055,1270.46 346.546,1294.17 416.038,1443.65 485.529,1269.43 555.02,1445.72 624.511,1445.72 694.002,626.124 763.493,1338.5 832.984,1443.65 902.476,1195.2 \n",
       "  971.967,1398.29 1041.46,1445.72 1110.95,1445.72 1180.44,87.9763 1249.93,1438.5 1319.42,1205.51 1388.91,1445.72 1458.4,670.454 1527.9,1445.72 1597.39,1445.72 \n",
       "  1666.88,973.548 1736.37,1444.68 1805.86,1445.72 1875.35,1411.69 1944.84,1376.64 2014.33,1445.72 2083.83,1442.62 2153.32,1390.05 2222.81,1445.72 2292.3,1445.72 \n",
       "  \n",
       "  \"/>\n",
       "<path clip-path=\"url(#clip980)\" d=\"\n",
       "M1620.49 250.738 L2281.55 250.738 L2281.55 95.2176 L1620.49 95.2176  Z\n",
       "  \" fill=\"#ffffff\" fill-rule=\"evenodd\" fill-opacity=\"1\"/>\n",
       "<polyline clip-path=\"url(#clip980)\" style=\"stroke:#000000; stroke-linecap:butt; stroke-linejoin:round; stroke-width:4; stroke-opacity:1; fill:none\" points=\"\n",
       "  1620.49,250.738 2281.55,250.738 2281.55,95.2176 1620.49,95.2176 1620.49,250.738 \n",
       "  \"/>\n",
       "<polyline clip-path=\"url(#clip980)\" style=\"stroke:#009af9; stroke-linecap:butt; stroke-linejoin:round; stroke-width:4; stroke-opacity:1; fill:none\" points=\"\n",
       "  1644.49,147.058 1788.49,147.058 \n",
       "  \"/>\n",
       "<path clip-path=\"url(#clip980)\" d=\"M1812.49 128.319 L1822.3 128.319 L1822.3 131.629 L1816.75 131.629 L1816.75 167.277 L1822.3 167.277 L1822.3 170.588 L1812.49 170.588 L1812.49 128.319 Z\" fill=\"#000000\" fill-rule=\"evenodd\" fill-opacity=\"1\" /><path clip-path=\"url(#clip980)\" d=\"M1835.4 129.778 L1835.4 142.625 L1831.47 142.625 L1831.47 129.778 L1835.4 129.778 M1844.15 129.778 L1844.15 142.625 L1840.22 142.625 L1840.22 129.778 L1844.15 129.778 Z\" fill=\"#000000\" fill-rule=\"evenodd\" fill-opacity=\"1\" /><path clip-path=\"url(#clip980)\" d=\"M1848.58 129.778 L1877.81 129.778 L1877.81 133.713 L1865.54 133.713 L1865.54 164.338 L1860.84 164.338 L1860.84 133.713 L1848.58 133.713 L1848.58 129.778 Z\" fill=\"#000000\" fill-rule=\"evenodd\" fill-opacity=\"1\" /><path clip-path=\"url(#clip980)\" d=\"M1890.2 142.393 Q1889.48 141.977 1888.62 141.791 Q1887.79 141.583 1886.77 141.583 Q1883.16 141.583 1881.21 143.944 Q1879.29 146.282 1879.29 150.68 L1879.29 164.338 L1875.01 164.338 L1875.01 138.412 L1879.29 138.412 L1879.29 142.44 Q1880.64 140.078 1882.79 138.944 Q1884.94 137.787 1888.02 137.787 Q1888.46 137.787 1888.99 137.856 Q1889.52 137.903 1890.17 138.018 L1890.2 142.393 Z\" fill=\"#000000\" fill-rule=\"evenodd\" fill-opacity=\"1\" /><path clip-path=\"url(#clip980)\" d=\"M1906.45 151.305 Q1901.28 151.305 1899.29 152.486 Q1897.3 153.666 1897.3 156.514 Q1897.3 158.782 1898.78 160.125 Q1900.29 161.444 1902.86 161.444 Q1906.4 161.444 1908.53 158.944 Q1910.68 156.421 1910.68 152.254 L1910.68 151.305 L1906.45 151.305 M1914.94 149.546 L1914.94 164.338 L1910.68 164.338 L1910.68 160.402 Q1909.22 162.763 1907.05 163.898 Q1904.87 165.009 1901.72 165.009 Q1897.74 165.009 1895.38 162.787 Q1893.04 160.541 1893.04 156.791 Q1893.04 152.416 1895.96 150.194 Q1898.9 147.972 1904.71 147.972 L1910.68 147.972 L1910.68 147.555 Q1910.68 144.615 1908.74 143.018 Q1906.82 141.398 1903.32 141.398 Q1901.1 141.398 1898.99 141.93 Q1896.89 142.463 1894.94 143.527 L1894.94 139.592 Q1897.28 138.69 1899.48 138.25 Q1901.68 137.787 1903.76 137.787 Q1909.39 137.787 1912.16 140.703 Q1914.94 143.62 1914.94 149.546 Z\" fill=\"#000000\" fill-rule=\"evenodd\" fill-opacity=\"1\" /><path clip-path=\"url(#clip980)\" d=\"M1923.71 138.412 L1927.97 138.412 L1927.97 164.338 L1923.71 164.338 L1923.71 138.412 M1923.71 128.319 L1927.97 128.319 L1927.97 133.713 L1923.71 133.713 L1923.71 128.319 Z\" fill=\"#000000\" fill-rule=\"evenodd\" fill-opacity=\"1\" /><path clip-path=\"url(#clip980)\" d=\"M1958.44 148.689 L1958.44 164.338 L1954.18 164.338 L1954.18 148.828 Q1954.18 145.148 1952.74 143.319 Q1951.31 141.49 1948.44 141.49 Q1944.99 141.49 1943 143.69 Q1941.01 145.889 1941.01 149.685 L1941.01 164.338 L1936.72 164.338 L1936.72 138.412 L1941.01 138.412 L1941.01 142.44 Q1942.53 140.102 1944.59 138.944 Q1946.68 137.787 1949.39 137.787 Q1953.85 137.787 1956.14 140.565 Q1958.44 143.319 1958.44 148.689 Z\" fill=\"#000000\" fill-rule=\"evenodd\" fill-opacity=\"1\" /><path clip-path=\"url(#clip980)\" d=\"M1966.93 138.412 L1971.19 138.412 L1971.19 164.338 L1966.93 164.338 L1966.93 138.412 M1966.93 128.319 L1971.19 128.319 L1971.19 133.713 L1966.93 133.713 L1966.93 128.319 Z\" fill=\"#000000\" fill-rule=\"evenodd\" fill-opacity=\"1\" /><path clip-path=\"url(#clip980)\" d=\"M2001.65 148.689 L2001.65 164.338 L1997.39 164.338 L1997.39 148.828 Q1997.39 145.148 1995.96 143.319 Q1994.52 141.49 1991.65 141.49 Q1988.2 141.49 1986.21 143.69 Q1984.22 145.889 1984.22 149.685 L1984.22 164.338 L1979.94 164.338 L1979.94 138.412 L1984.22 138.412 L1984.22 142.44 Q1985.75 140.102 1987.81 138.944 Q1989.89 137.787 1992.6 137.787 Q1997.07 137.787 1999.36 140.565 Q2001.65 143.319 2001.65 148.689 Z\" fill=\"#000000\" fill-rule=\"evenodd\" fill-opacity=\"1\" /><path clip-path=\"url(#clip980)\" d=\"M2027.21 151.074 Q2027.21 146.444 2025.29 143.898 Q2023.39 141.352 2019.94 141.352 Q2016.51 141.352 2014.59 143.898 Q2012.7 146.444 2012.7 151.074 Q2012.7 155.68 2014.59 158.226 Q2016.51 160.773 2019.94 160.773 Q2023.39 160.773 2025.29 158.226 Q2027.21 155.68 2027.21 151.074 M2031.47 161.12 Q2031.47 167.74 2028.53 170.958 Q2025.59 174.199 2019.52 174.199 Q2017.28 174.199 2015.29 173.851 Q2013.3 173.527 2011.42 172.833 L2011.42 168.689 Q2013.3 169.708 2015.13 170.194 Q2016.95 170.68 2018.85 170.68 Q2023.04 170.68 2025.13 168.481 Q2027.21 166.305 2027.21 161.884 L2027.21 159.777 Q2025.89 162.069 2023.83 163.203 Q2021.77 164.338 2018.9 164.338 Q2014.13 164.338 2011.21 160.703 Q2008.3 157.069 2008.3 151.074 Q2008.3 145.055 2011.21 141.421 Q2014.13 137.787 2018.9 137.787 Q2021.77 137.787 2023.83 138.921 Q2025.89 140.055 2027.21 142.347 L2027.21 138.412 L2031.47 138.412 L2031.47 161.12 Z\" fill=\"#000000\" fill-rule=\"evenodd\" fill-opacity=\"1\" /><path clip-path=\"url(#clip980)\" d=\"M2071.88 148.134 Q2073.39 148.643 2074.8 150.31 Q2076.24 151.977 2077.67 154.893 L2082.42 164.338 L2077.39 164.338 L2072.97 155.472 Q2071.26 152 2069.64 150.865 Q2068.04 149.731 2065.26 149.731 L2060.17 149.731 L2060.17 164.338 L2055.5 164.338 L2055.5 129.778 L2066.05 129.778 Q2071.98 129.778 2074.89 132.254 Q2077.81 134.731 2077.81 139.731 Q2077.81 142.995 2076.28 145.148 Q2074.78 147.301 2071.88 148.134 M2060.17 133.62 L2060.17 145.889 L2066.05 145.889 Q2069.43 145.889 2071.14 144.338 Q2072.88 142.764 2072.88 139.731 Q2072.88 136.699 2071.14 135.171 Q2069.43 133.62 2066.05 133.62 L2060.17 133.62 Z\" fill=\"#000000\" fill-rule=\"evenodd\" fill-opacity=\"1\" /><path clip-path=\"url(#clip980)\" d=\"M2108.3 150.31 L2108.3 152.393 L2088.71 152.393 Q2088.99 156.791 2091.35 159.106 Q2093.74 161.398 2097.97 161.398 Q2100.43 161.398 2102.72 160.796 Q2105.03 160.194 2107.3 158.99 L2107.3 163.018 Q2105.01 163.99 2102.6 164.5 Q2100.19 165.009 2097.72 165.009 Q2091.51 165.009 2087.88 161.398 Q2084.27 157.787 2084.27 151.629 Q2084.27 145.264 2087.69 141.537 Q2091.14 137.787 2096.98 137.787 Q2102.21 137.787 2105.24 141.166 Q2108.3 144.523 2108.3 150.31 M2104.04 149.06 Q2103.99 145.565 2102.07 143.481 Q2100.17 141.398 2097.02 141.398 Q2093.46 141.398 2091.31 143.412 Q2089.18 145.426 2088.85 149.083 L2104.04 149.06 Z\" fill=\"#000000\" fill-rule=\"evenodd\" fill-opacity=\"1\" /><path clip-path=\"url(#clip980)\" d=\"M2131.82 139.176 L2131.82 143.203 Q2130.01 142.277 2128.07 141.815 Q2126.12 141.352 2124.04 141.352 Q2120.87 141.352 2119.27 142.324 Q2117.69 143.296 2117.69 145.24 Q2117.69 146.722 2118.83 147.578 Q2119.96 148.412 2123.39 149.176 L2124.85 149.5 Q2129.38 150.472 2131.28 152.254 Q2133.2 154.014 2133.2 157.185 Q2133.2 160.796 2130.33 162.902 Q2127.49 165.009 2122.49 165.009 Q2120.4 165.009 2118.13 164.592 Q2115.89 164.199 2113.39 163.388 L2113.39 158.99 Q2115.75 160.217 2118.04 160.842 Q2120.33 161.444 2122.58 161.444 Q2125.59 161.444 2127.21 160.426 Q2128.83 159.384 2128.83 157.509 Q2128.83 155.773 2127.65 154.847 Q2126.49 153.921 2122.53 153.064 L2121.05 152.717 Q2117.09 151.884 2115.33 150.171 Q2113.57 148.435 2113.57 145.426 Q2113.57 141.768 2116.17 139.778 Q2118.76 137.787 2123.53 137.787 Q2125.89 137.787 2127.97 138.134 Q2130.06 138.481 2131.82 139.176 Z\" fill=\"#000000\" fill-rule=\"evenodd\" fill-opacity=\"1\" /><path clip-path=\"url(#clip980)\" d=\"M2139.55 154.106 L2139.55 138.412 L2143.81 138.412 L2143.81 153.944 Q2143.81 157.625 2145.24 159.476 Q2146.68 161.305 2149.55 161.305 Q2153 161.305 2154.99 159.106 Q2157 156.907 2157 153.111 L2157 138.412 L2161.26 138.412 L2161.26 164.338 L2157 164.338 L2157 160.356 Q2155.45 162.717 2153.39 163.875 Q2151.35 165.009 2148.64 165.009 Q2144.18 165.009 2141.86 162.231 Q2139.55 159.453 2139.55 154.106 M2150.26 137.787 L2150.26 137.787 Z\" fill=\"#000000\" fill-rule=\"evenodd\" fill-opacity=\"1\" /><path clip-path=\"url(#clip980)\" d=\"M2170.03 128.319 L2174.29 128.319 L2174.29 164.338 L2170.03 164.338 L2170.03 128.319 Z\" fill=\"#000000\" fill-rule=\"evenodd\" fill-opacity=\"1\" /><path clip-path=\"url(#clip980)\" d=\"M2187.42 131.051 L2187.42 138.412 L2196.19 138.412 L2196.19 141.722 L2187.42 141.722 L2187.42 155.796 Q2187.42 158.967 2188.27 159.87 Q2189.15 160.773 2191.81 160.773 L2196.19 160.773 L2196.19 164.338 L2191.81 164.338 Q2186.88 164.338 2185.01 162.509 Q2183.13 160.657 2183.13 155.796 L2183.13 141.722 L2180.01 141.722 L2180.01 138.412 L2183.13 138.412 L2183.13 131.051 L2187.42 131.051 Z\" fill=\"#000000\" fill-rule=\"evenodd\" fill-opacity=\"1\" /><path clip-path=\"url(#clip980)\" d=\"M2205.82 129.778 L2205.82 142.625 L2201.88 142.625 L2201.88 129.778 L2205.82 129.778 M2214.57 129.778 L2214.57 142.625 L2210.63 142.625 L2210.63 129.778 L2214.57 129.778 Z\" fill=\"#000000\" fill-rule=\"evenodd\" fill-opacity=\"1\" /><path clip-path=\"url(#clip980)\" d=\"M2233.55 128.319 L2233.55 170.588 L2223.74 170.588 L2223.74 167.277 L2229.27 167.277 L2229.27 131.629 L2223.74 131.629 L2223.74 128.319 L2233.55 128.319 Z\" fill=\"#000000\" fill-rule=\"evenodd\" fill-opacity=\"1\" /><polyline clip-path=\"url(#clip980)\" style=\"stroke:#e26f46; stroke-linecap:butt; stroke-linejoin:round; stroke-width:4; stroke-opacity:1; fill:none\" points=\"\n",
       "  1644.49,198.898 1788.49,198.898 \n",
       "  \"/>\n",
       "<path clip-path=\"url(#clip980)\" d=\"M1812.49 180.159 L1822.3 180.159 L1822.3 183.469 L1816.75 183.469 L1816.75 219.117 L1822.3 219.117 L1822.3 222.428 L1812.49 222.428 L1812.49 180.159 Z\" fill=\"#000000\" fill-rule=\"evenodd\" fill-opacity=\"1\" /><path clip-path=\"url(#clip980)\" d=\"M1835.4 181.618 L1835.4 194.465 L1831.47 194.465 L1831.47 181.618 L1835.4 181.618 M1844.15 181.618 L1844.15 194.465 L1840.22 194.465 L1840.22 181.618 L1844.15 181.618 Z\" fill=\"#000000\" fill-rule=\"evenodd\" fill-opacity=\"1\" /><path clip-path=\"url(#clip980)\" d=\"M1848.58 181.618 L1877.81 181.618 L1877.81 185.553 L1865.54 185.553 L1865.54 216.178 L1860.84 216.178 L1860.84 185.553 L1848.58 185.553 L1848.58 181.618 Z\" fill=\"#000000\" fill-rule=\"evenodd\" fill-opacity=\"1\" /><path clip-path=\"url(#clip980)\" d=\"M1896.26 202.15 L1896.26 204.233 L1876.68 204.233 Q1876.96 208.631 1879.32 210.946 Q1881.7 213.238 1885.94 213.238 Q1888.39 213.238 1890.68 212.636 Q1893 212.034 1895.27 210.83 L1895.27 214.858 Q1892.97 215.83 1890.57 216.34 Q1888.16 216.849 1885.68 216.849 Q1879.48 216.849 1875.84 213.238 Q1872.23 209.627 1872.23 203.469 Q1872.23 197.104 1875.66 193.377 Q1879.11 189.627 1884.94 189.627 Q1890.17 189.627 1893.21 193.006 Q1896.26 196.363 1896.26 202.15 M1892 200.9 Q1891.96 197.405 1890.03 195.321 Q1888.14 193.238 1884.99 193.238 Q1881.42 193.238 1879.27 195.252 Q1877.14 197.266 1876.82 200.923 L1892 200.9 Z\" fill=\"#000000\" fill-rule=\"evenodd\" fill-opacity=\"1\" /><path clip-path=\"url(#clip980)\" d=\"M1919.78 191.016 L1919.78 195.043 Q1917.97 194.117 1916.03 193.655 Q1914.08 193.192 1912 193.192 Q1908.83 193.192 1907.23 194.164 Q1905.66 195.136 1905.66 197.08 Q1905.66 198.562 1906.79 199.418 Q1907.93 200.252 1911.35 201.016 L1912.81 201.34 Q1917.35 202.312 1919.25 204.094 Q1921.17 205.854 1921.17 209.025 Q1921.17 212.636 1918.3 214.742 Q1915.45 216.849 1910.45 216.849 Q1908.37 216.849 1906.1 216.432 Q1903.85 216.039 1901.35 215.228 L1901.35 210.83 Q1903.71 212.057 1906.01 212.682 Q1908.3 213.284 1910.54 213.284 Q1913.55 213.284 1915.17 212.266 Q1916.79 211.224 1916.79 209.349 Q1916.79 207.613 1915.61 206.687 Q1914.46 205.761 1910.5 204.904 L1909.02 204.557 Q1905.06 203.724 1903.3 202.011 Q1901.54 200.275 1901.54 197.266 Q1901.54 193.608 1904.13 191.618 Q1906.72 189.627 1911.49 189.627 Q1913.85 189.627 1915.94 189.974 Q1918.02 190.321 1919.78 191.016 Z\" fill=\"#000000\" fill-rule=\"evenodd\" fill-opacity=\"1\" /><path clip-path=\"url(#clip980)\" d=\"M1932.16 182.891 L1932.16 190.252 L1940.94 190.252 L1940.94 193.562 L1932.16 193.562 L1932.16 207.636 Q1932.16 210.807 1933.02 211.71 Q1933.9 212.613 1936.56 212.613 L1940.94 212.613 L1940.94 216.178 L1936.56 216.178 Q1931.63 216.178 1929.76 214.349 Q1927.88 212.497 1927.88 207.636 L1927.88 193.562 L1924.76 193.562 L1924.76 190.252 L1927.88 190.252 L1927.88 182.891 L1932.16 182.891 Z\" fill=\"#000000\" fill-rule=\"evenodd\" fill-opacity=\"1\" /><path clip-path=\"url(#clip980)\" d=\"M1946.54 190.252 L1950.8 190.252 L1950.8 216.178 L1946.54 216.178 L1946.54 190.252 M1946.54 180.159 L1950.8 180.159 L1950.8 185.553 L1946.54 185.553 L1946.54 180.159 Z\" fill=\"#000000\" fill-rule=\"evenodd\" fill-opacity=\"1\" /><path clip-path=\"url(#clip980)\" d=\"M1981.26 200.529 L1981.26 216.178 L1977 216.178 L1977 200.668 Q1977 196.988 1975.57 195.159 Q1974.13 193.33 1971.26 193.33 Q1967.81 193.33 1965.82 195.53 Q1963.83 197.729 1963.83 201.525 L1963.83 216.178 L1959.55 216.178 L1959.55 190.252 L1963.83 190.252 L1963.83 194.28 Q1965.36 191.942 1967.42 190.784 Q1969.5 189.627 1972.21 189.627 Q1976.68 189.627 1978.97 192.405 Q1981.26 195.159 1981.26 200.529 Z\" fill=\"#000000\" fill-rule=\"evenodd\" fill-opacity=\"1\" /><path clip-path=\"url(#clip980)\" d=\"M2006.82 202.914 Q2006.82 198.284 2004.89 195.738 Q2003 193.192 1999.55 193.192 Q1996.12 193.192 1994.2 195.738 Q1992.3 198.284 1992.3 202.914 Q1992.3 207.52 1994.2 210.066 Q1996.12 212.613 1999.55 212.613 Q2003 212.613 2004.89 210.066 Q2006.82 207.52 2006.82 202.914 M2011.07 212.96 Q2011.07 219.58 2008.14 222.798 Q2005.2 226.039 1999.13 226.039 Q1996.89 226.039 1994.89 225.691 Q1992.9 225.367 1991.03 224.673 L1991.03 220.529 Q1992.9 221.548 1994.73 222.034 Q1996.56 222.52 1998.46 222.52 Q2002.65 222.52 2004.73 220.321 Q2006.82 218.145 2006.82 213.724 L2006.82 211.617 Q2005.5 213.909 2003.44 215.043 Q2001.38 216.178 1998.51 216.178 Q1993.74 216.178 1990.82 212.543 Q1987.9 208.909 1987.9 202.914 Q1987.9 196.895 1990.82 193.261 Q1993.74 189.627 1998.51 189.627 Q2001.38 189.627 2003.44 190.761 Q2005.5 191.895 2006.82 194.187 L2006.82 190.252 L2011.07 190.252 L2011.07 212.96 Z\" fill=\"#000000\" fill-rule=\"evenodd\" fill-opacity=\"1\" /><path clip-path=\"url(#clip980)\" d=\"M2051.49 199.974 Q2053 200.483 2054.41 202.15 Q2055.84 203.817 2057.28 206.733 L2062.02 216.178 L2057 216.178 L2052.58 207.312 Q2050.87 203.84 2049.25 202.705 Q2047.65 201.571 2044.87 201.571 L2039.78 201.571 L2039.78 216.178 L2035.1 216.178 L2035.1 181.618 L2045.66 181.618 Q2051.58 181.618 2054.5 184.094 Q2057.42 186.571 2057.42 191.571 Q2057.42 194.835 2055.89 196.988 Q2054.38 199.141 2051.49 199.974 M2039.78 185.46 L2039.78 197.729 L2045.66 197.729 Q2049.04 197.729 2050.75 196.178 Q2052.49 194.604 2052.49 191.571 Q2052.49 188.539 2050.75 187.011 Q2049.04 185.46 2045.66 185.46 L2039.78 185.46 Z\" fill=\"#000000\" fill-rule=\"evenodd\" fill-opacity=\"1\" /><path clip-path=\"url(#clip980)\" d=\"M2087.9 202.15 L2087.9 204.233 L2068.32 204.233 Q2068.6 208.631 2070.96 210.946 Q2073.34 213.238 2077.58 213.238 Q2080.03 213.238 2082.32 212.636 Q2084.64 212.034 2086.91 210.83 L2086.91 214.858 Q2084.62 215.83 2082.21 216.34 Q2079.8 216.849 2077.32 216.849 Q2071.12 216.849 2067.49 213.238 Q2063.88 209.627 2063.88 203.469 Q2063.88 197.104 2067.3 193.377 Q2070.75 189.627 2076.58 189.627 Q2081.82 189.627 2084.85 193.006 Q2087.9 196.363 2087.9 202.15 M2083.64 200.9 Q2083.6 197.405 2081.68 195.321 Q2079.78 193.238 2076.63 193.238 Q2073.07 193.238 2070.91 195.252 Q2068.78 197.266 2068.46 200.923 L2083.64 200.9 Z\" fill=\"#000000\" fill-rule=\"evenodd\" fill-opacity=\"1\" /><path clip-path=\"url(#clip980)\" d=\"M2111.42 191.016 L2111.42 195.043 Q2109.62 194.117 2107.67 193.655 Q2105.73 193.192 2103.64 193.192 Q2100.47 193.192 2098.88 194.164 Q2097.3 195.136 2097.3 197.08 Q2097.3 198.562 2098.44 199.418 Q2099.57 200.252 2103 201.016 L2104.45 201.34 Q2108.99 202.312 2110.89 204.094 Q2112.81 205.854 2112.81 209.025 Q2112.81 212.636 2109.94 214.742 Q2107.09 216.849 2102.09 216.849 Q2100.01 216.849 2097.74 216.432 Q2095.5 216.039 2093 215.228 L2093 210.83 Q2095.36 212.057 2097.65 212.682 Q2099.94 213.284 2102.19 213.284 Q2105.19 213.284 2106.82 212.266 Q2108.44 211.224 2108.44 209.349 Q2108.44 207.613 2107.26 206.687 Q2106.1 205.761 2102.14 204.904 L2100.66 204.557 Q2096.7 203.724 2094.94 202.011 Q2093.18 200.275 2093.18 197.266 Q2093.18 193.608 2095.77 191.618 Q2098.37 189.627 2103.13 189.627 Q2105.5 189.627 2107.58 189.974 Q2109.66 190.321 2111.42 191.016 Z\" fill=\"#000000\" fill-rule=\"evenodd\" fill-opacity=\"1\" /><path clip-path=\"url(#clip980)\" d=\"M2119.15 205.946 L2119.15 190.252 L2123.41 190.252 L2123.41 205.784 Q2123.41 209.465 2124.85 211.316 Q2126.28 213.145 2129.15 213.145 Q2132.6 213.145 2134.59 210.946 Q2136.61 208.747 2136.61 204.951 L2136.61 190.252 L2140.87 190.252 L2140.87 216.178 L2136.61 216.178 L2136.61 212.196 Q2135.06 214.557 2133 215.715 Q2130.96 216.849 2128.25 216.849 Q2123.78 216.849 2121.47 214.071 Q2119.15 211.293 2119.15 205.946 M2129.87 189.627 L2129.87 189.627 Z\" fill=\"#000000\" fill-rule=\"evenodd\" fill-opacity=\"1\" /><path clip-path=\"url(#clip980)\" d=\"M2149.64 180.159 L2153.9 180.159 L2153.9 216.178 L2149.64 216.178 L2149.64 180.159 Z\" fill=\"#000000\" fill-rule=\"evenodd\" fill-opacity=\"1\" /><path clip-path=\"url(#clip980)\" d=\"M2167.02 182.891 L2167.02 190.252 L2175.8 190.252 L2175.8 193.562 L2167.02 193.562 L2167.02 207.636 Q2167.02 210.807 2167.88 211.71 Q2168.76 212.613 2171.42 212.613 L2175.8 212.613 L2175.8 216.178 L2171.42 216.178 Q2166.49 216.178 2164.62 214.349 Q2162.74 212.497 2162.74 207.636 L2162.74 193.562 L2159.62 193.562 L2159.62 190.252 L2162.74 190.252 L2162.74 182.891 L2167.02 182.891 Z\" fill=\"#000000\" fill-rule=\"evenodd\" fill-opacity=\"1\" /><path clip-path=\"url(#clip980)\" d=\"M2185.43 181.618 L2185.43 194.465 L2181.49 194.465 L2181.49 181.618 L2185.43 181.618 M2194.18 181.618 L2194.18 194.465 L2190.24 194.465 L2190.24 181.618 L2194.18 181.618 Z\" fill=\"#000000\" fill-rule=\"evenodd\" fill-opacity=\"1\" /><path clip-path=\"url(#clip980)\" d=\"M2213.16 180.159 L2213.16 222.428 L2203.34 222.428 L2203.34 219.117 L2208.87 219.117 L2208.87 183.469 L2203.34 183.469 L2203.34 180.159 L2213.16 180.159 Z\" fill=\"#000000\" fill-rule=\"evenodd\" fill-opacity=\"1\" /></svg>\n"
      ]
     },
     "metadata": {},
     "output_type": "display_data"
    }
   ],
   "source": [
    "Plots.plot(train_acc_list,label=[\"Training Result\"])\n",
    "Plots.plot!(test,label=[\"Testing Result\"])"
   ]
  },
  {
   "cell_type": "code",
   "execution_count": 72,
   "id": "5bf17642",
   "metadata": {},
   "outputs": [
    {
     "name": "stdout",
     "output_type": "stream",
     "text": [
      "confusion matrix:\n",
      "True True Result: 76,  True False Result: 478\n",
      "False False Result: 76,   False True Result: FT\n"
     ]
    }
   ],
   "source": [
    "\"\"\"\n",
    "    In order to compute for confusion matrix\n",
    "\"\"\"\n",
    "#TT\n",
    "TT = sum(vec(chromosomes[1](para_test_std) .> 0.5) .== 1)\n",
    "#TF\n",
    "TF = sum(vec(chromosomes[1](para_test_std) .> 0.5) .== 0)\n",
    "#FT\n",
    "FT = sum(vec(chromosomes[1](para_test_std) .< 0.5) .== 1)\n",
    "#FF\n",
    "FF = sum(vec(chromosomes[1](para_test_std) .< 0.5) .== 0)\n",
    "println(\"confusion matrix:\")\n",
    "println(\"True True Result: $TT,  True False Result: $TF\")\n",
    "println(\"False False Result: $FF,   False True Result: FT\")"
   ]
  }
 ],
 "metadata": {
  "kernelspec": {
   "display_name": "Julia 1.6.5",
   "language": "julia",
   "name": "julia-1.6"
  },
  "language_info": {
   "file_extension": ".jl",
   "mimetype": "application/julia",
   "name": "julia",
   "version": "1.6.5"
  }
 },
 "nbformat": 4,
 "nbformat_minor": 5
}
