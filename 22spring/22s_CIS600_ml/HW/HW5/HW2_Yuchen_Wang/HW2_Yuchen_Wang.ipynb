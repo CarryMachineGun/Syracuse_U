{
 "cells": [
  {
   "cell_type": "code",
   "execution_count": 3,
   "id": "controlled-jerusalem",
   "metadata": {},
   "outputs": [
    {
     "data": {
      "text/html": [
       "<div class=\"data-frame\"><p>2,000 rows × 21 columns (omitted printing of 13 columns)</p><table class=\"data-frame\"><thead><tr><th></th><th>battery_power</th><th>blue</th><th>clock_speed</th><th>dual_sim</th><th>fc</th><th>four_g</th><th>int_memory</th><th>m_dep</th></tr><tr><th></th><th title=\"Int64\">Int64</th><th title=\"Int64\">Int64</th><th title=\"Float64\">Float64</th><th title=\"Int64\">Int64</th><th title=\"Int64\">Int64</th><th title=\"Int64\">Int64</th><th title=\"Int64\">Int64</th><th title=\"Float64\">Float64</th></tr></thead><tbody><tr><th>1</th><td>842</td><td>0</td><td>2.2</td><td>0</td><td>1</td><td>0</td><td>7</td><td>0.6</td></tr><tr><th>2</th><td>1021</td><td>1</td><td>0.5</td><td>1</td><td>0</td><td>1</td><td>53</td><td>0.7</td></tr><tr><th>3</th><td>563</td><td>1</td><td>0.5</td><td>1</td><td>2</td><td>1</td><td>41</td><td>0.9</td></tr><tr><th>4</th><td>615</td><td>1</td><td>2.5</td><td>0</td><td>0</td><td>0</td><td>10</td><td>0.8</td></tr><tr><th>5</th><td>1821</td><td>1</td><td>1.2</td><td>0</td><td>13</td><td>1</td><td>44</td><td>0.6</td></tr><tr><th>6</th><td>1859</td><td>0</td><td>0.5</td><td>1</td><td>3</td><td>0</td><td>22</td><td>0.7</td></tr><tr><th>7</th><td>1821</td><td>0</td><td>1.7</td><td>0</td><td>4</td><td>1</td><td>10</td><td>0.8</td></tr><tr><th>8</th><td>1954</td><td>0</td><td>0.5</td><td>1</td><td>0</td><td>0</td><td>24</td><td>0.8</td></tr><tr><th>9</th><td>1445</td><td>1</td><td>0.5</td><td>0</td><td>0</td><td>0</td><td>53</td><td>0.7</td></tr><tr><th>10</th><td>509</td><td>1</td><td>0.6</td><td>1</td><td>2</td><td>1</td><td>9</td><td>0.1</td></tr><tr><th>11</th><td>769</td><td>1</td><td>2.9</td><td>1</td><td>0</td><td>0</td><td>9</td><td>0.1</td></tr><tr><th>12</th><td>1520</td><td>1</td><td>2.2</td><td>0</td><td>5</td><td>1</td><td>33</td><td>0.5</td></tr><tr><th>13</th><td>1815</td><td>0</td><td>2.8</td><td>0</td><td>2</td><td>0</td><td>33</td><td>0.6</td></tr><tr><th>14</th><td>803</td><td>1</td><td>2.1</td><td>0</td><td>7</td><td>0</td><td>17</td><td>1.0</td></tr><tr><th>15</th><td>1866</td><td>0</td><td>0.5</td><td>0</td><td>13</td><td>1</td><td>52</td><td>0.7</td></tr><tr><th>16</th><td>775</td><td>0</td><td>1.0</td><td>0</td><td>3</td><td>0</td><td>46</td><td>0.7</td></tr><tr><th>17</th><td>838</td><td>0</td><td>0.5</td><td>0</td><td>1</td><td>1</td><td>13</td><td>0.1</td></tr><tr><th>18</th><td>595</td><td>0</td><td>0.9</td><td>1</td><td>7</td><td>1</td><td>23</td><td>0.1</td></tr><tr><th>19</th><td>1131</td><td>1</td><td>0.5</td><td>1</td><td>11</td><td>0</td><td>49</td><td>0.6</td></tr><tr><th>20</th><td>682</td><td>1</td><td>0.5</td><td>0</td><td>4</td><td>0</td><td>19</td><td>1.0</td></tr><tr><th>21</th><td>772</td><td>0</td><td>1.1</td><td>1</td><td>12</td><td>0</td><td>39</td><td>0.8</td></tr><tr><th>22</th><td>1709</td><td>1</td><td>2.1</td><td>0</td><td>1</td><td>0</td><td>13</td><td>1.0</td></tr><tr><th>23</th><td>1949</td><td>0</td><td>2.6</td><td>1</td><td>4</td><td>0</td><td>47</td><td>0.3</td></tr><tr><th>24</th><td>1602</td><td>1</td><td>2.8</td><td>1</td><td>4</td><td>1</td><td>38</td><td>0.7</td></tr><tr><th>25</th><td>503</td><td>0</td><td>1.2</td><td>1</td><td>5</td><td>1</td><td>8</td><td>0.4</td></tr><tr><th>26</th><td>961</td><td>1</td><td>1.4</td><td>1</td><td>0</td><td>1</td><td>57</td><td>0.6</td></tr><tr><th>27</th><td>519</td><td>1</td><td>1.6</td><td>1</td><td>7</td><td>1</td><td>51</td><td>0.3</td></tr><tr><th>28</th><td>956</td><td>0</td><td>0.5</td><td>0</td><td>1</td><td>1</td><td>41</td><td>1.0</td></tr><tr><th>29</th><td>1453</td><td>0</td><td>1.6</td><td>1</td><td>12</td><td>1</td><td>52</td><td>0.3</td></tr><tr><th>30</th><td>851</td><td>0</td><td>0.5</td><td>0</td><td>3</td><td>0</td><td>21</td><td>0.4</td></tr><tr><th>&vellip;</th><td>&vellip;</td><td>&vellip;</td><td>&vellip;</td><td>&vellip;</td><td>&vellip;</td><td>&vellip;</td><td>&vellip;</td><td>&vellip;</td></tr></tbody></table></div>"
      ],
      "text/latex": [
       "\\begin{tabular}{r|ccccccccc}\n",
       "\t& battery\\_power & blue & clock\\_speed & dual\\_sim & fc & four\\_g & int\\_memory & m\\_dep & \\\\\n",
       "\t\\hline\n",
       "\t& Int64 & Int64 & Float64 & Int64 & Int64 & Int64 & Int64 & Float64 & \\\\\n",
       "\t\\hline\n",
       "\t1 & 842 & 0 & 2.2 & 0 & 1 & 0 & 7 & 0.6 & $\\dots$ \\\\\n",
       "\t2 & 1021 & 1 & 0.5 & 1 & 0 & 1 & 53 & 0.7 & $\\dots$ \\\\\n",
       "\t3 & 563 & 1 & 0.5 & 1 & 2 & 1 & 41 & 0.9 & $\\dots$ \\\\\n",
       "\t4 & 615 & 1 & 2.5 & 0 & 0 & 0 & 10 & 0.8 & $\\dots$ \\\\\n",
       "\t5 & 1821 & 1 & 1.2 & 0 & 13 & 1 & 44 & 0.6 & $\\dots$ \\\\\n",
       "\t6 & 1859 & 0 & 0.5 & 1 & 3 & 0 & 22 & 0.7 & $\\dots$ \\\\\n",
       "\t7 & 1821 & 0 & 1.7 & 0 & 4 & 1 & 10 & 0.8 & $\\dots$ \\\\\n",
       "\t8 & 1954 & 0 & 0.5 & 1 & 0 & 0 & 24 & 0.8 & $\\dots$ \\\\\n",
       "\t9 & 1445 & 1 & 0.5 & 0 & 0 & 0 & 53 & 0.7 & $\\dots$ \\\\\n",
       "\t10 & 509 & 1 & 0.6 & 1 & 2 & 1 & 9 & 0.1 & $\\dots$ \\\\\n",
       "\t11 & 769 & 1 & 2.9 & 1 & 0 & 0 & 9 & 0.1 & $\\dots$ \\\\\n",
       "\t12 & 1520 & 1 & 2.2 & 0 & 5 & 1 & 33 & 0.5 & $\\dots$ \\\\\n",
       "\t13 & 1815 & 0 & 2.8 & 0 & 2 & 0 & 33 & 0.6 & $\\dots$ \\\\\n",
       "\t14 & 803 & 1 & 2.1 & 0 & 7 & 0 & 17 & 1.0 & $\\dots$ \\\\\n",
       "\t15 & 1866 & 0 & 0.5 & 0 & 13 & 1 & 52 & 0.7 & $\\dots$ \\\\\n",
       "\t16 & 775 & 0 & 1.0 & 0 & 3 & 0 & 46 & 0.7 & $\\dots$ \\\\\n",
       "\t17 & 838 & 0 & 0.5 & 0 & 1 & 1 & 13 & 0.1 & $\\dots$ \\\\\n",
       "\t18 & 595 & 0 & 0.9 & 1 & 7 & 1 & 23 & 0.1 & $\\dots$ \\\\\n",
       "\t19 & 1131 & 1 & 0.5 & 1 & 11 & 0 & 49 & 0.6 & $\\dots$ \\\\\n",
       "\t20 & 682 & 1 & 0.5 & 0 & 4 & 0 & 19 & 1.0 & $\\dots$ \\\\\n",
       "\t21 & 772 & 0 & 1.1 & 1 & 12 & 0 & 39 & 0.8 & $\\dots$ \\\\\n",
       "\t22 & 1709 & 1 & 2.1 & 0 & 1 & 0 & 13 & 1.0 & $\\dots$ \\\\\n",
       "\t23 & 1949 & 0 & 2.6 & 1 & 4 & 0 & 47 & 0.3 & $\\dots$ \\\\\n",
       "\t24 & 1602 & 1 & 2.8 & 1 & 4 & 1 & 38 & 0.7 & $\\dots$ \\\\\n",
       "\t25 & 503 & 0 & 1.2 & 1 & 5 & 1 & 8 & 0.4 & $\\dots$ \\\\\n",
       "\t26 & 961 & 1 & 1.4 & 1 & 0 & 1 & 57 & 0.6 & $\\dots$ \\\\\n",
       "\t27 & 519 & 1 & 1.6 & 1 & 7 & 1 & 51 & 0.3 & $\\dots$ \\\\\n",
       "\t28 & 956 & 0 & 0.5 & 0 & 1 & 1 & 41 & 1.0 & $\\dots$ \\\\\n",
       "\t29 & 1453 & 0 & 1.6 & 1 & 12 & 1 & 52 & 0.3 & $\\dots$ \\\\\n",
       "\t30 & 851 & 0 & 0.5 & 0 & 3 & 0 & 21 & 0.4 & $\\dots$ \\\\\n",
       "\t$\\dots$ & $\\dots$ & $\\dots$ & $\\dots$ & $\\dots$ & $\\dots$ & $\\dots$ & $\\dots$ & $\\dots$ &  \\\\\n",
       "\\end{tabular}\n"
      ],
      "text/plain": [
       "\u001b[1m2000×21 DataFrame\u001b[0m\n",
       "\u001b[1m  Row \u001b[0m│\u001b[1m battery_power \u001b[0m\u001b[1m blue  \u001b[0m\u001b[1m clock_speed \u001b[0m\u001b[1m dual_sim \u001b[0m\u001b[1m fc    \u001b[0m\u001b[1m four_g \u001b[0m\u001b[1m int_memory\u001b[0m ⋯\n",
       "\u001b[1m      \u001b[0m│\u001b[90m Int64         \u001b[0m\u001b[90m Int64 \u001b[0m\u001b[90m Float64     \u001b[0m\u001b[90m Int64    \u001b[0m\u001b[90m Int64 \u001b[0m\u001b[90m Int64  \u001b[0m\u001b[90m Int64     \u001b[0m ⋯\n",
       "──────┼─────────────────────────────────────────────────────────────────────────\n",
       "    1 │           842      0          2.2         0      1       0           7 ⋯\n",
       "    2 │          1021      1          0.5         1      0       1          53\n",
       "    3 │           563      1          0.5         1      2       1          41\n",
       "    4 │           615      1          2.5         0      0       0          10\n",
       "    5 │          1821      1          1.2         0     13       1          44 ⋯\n",
       "    6 │          1859      0          0.5         1      3       0          22\n",
       "    7 │          1821      0          1.7         0      4       1          10\n",
       "    8 │          1954      0          0.5         1      0       0          24\n",
       "    9 │          1445      1          0.5         0      0       0          53 ⋯\n",
       "   10 │           509      1          0.6         1      2       1           9\n",
       "   11 │           769      1          2.9         1      0       0           9\n",
       "  ⋮   │       ⋮          ⋮         ⋮          ⋮        ⋮      ⋮         ⋮      ⋱\n",
       " 1991 │          1617      1          2.4         0      8       1          36\n",
       " 1992 │          1882      0          2.0         0     11       1          44 ⋯\n",
       " 1993 │           674      1          2.9         1      1       0          21\n",
       " 1994 │          1467      1          0.5         0      0       0          18\n",
       " 1995 │           858      0          2.2         0      1       0          50\n",
       " 1996 │           794      1          0.5         1      0       1           2 ⋯\n",
       " 1997 │          1965      1          2.6         1      0       0          39\n",
       " 1998 │          1911      0          0.9         1      1       1          36\n",
       " 1999 │          1512      0          0.9         0      4       1          46\n",
       " 2000 │           510      1          2.0         1      5       1          45 ⋯\n",
       "\u001b[36m                                                14 columns and 1979 rows omitted\u001b[0m"
      ]
     },
     "execution_count": 3,
     "metadata": {},
     "output_type": "execute_result"
    }
   ],
   "source": [
    "using ZipFile, Distributed, CSV, DataFrames, Random, StatsBase, Plots, Statistics, StableRNGs, MLJBase\n",
    "using Flux\n",
    "using Flux: logitbinarycrossentropy\n",
    "using BSON: @save\n",
    "using Distributions\n",
    "\n",
    "file = CSV.read(\"train.csv\", DataFrame)"
   ]
  },
  {
   "cell_type": "code",
   "execution_count": 4,
   "id": "postal-class",
   "metadata": {},
   "outputs": [
    {
     "data": {
      "text/plain": [
       "1000×21 Matrix{Float64}:\n",
       " 1021.0  1.0  0.5  1.0   0.0  1.0  53.0  …   3.0   7.0  1.0  1.0  0.0  2.0\n",
       "  563.0  1.0  0.5  1.0   2.0  1.0  41.0      2.0   9.0  1.0  1.0  0.0  2.0\n",
       "  615.0  1.0  2.5  0.0   0.0  0.0  10.0      8.0  11.0  1.0  0.0  0.0  2.0\n",
       " 1821.0  0.0  1.7  0.0   4.0  1.0  10.0      8.0  18.0  1.0  0.0  1.0  3.0\n",
       "  769.0  1.0  2.9  1.0   0.0  0.0   9.0      2.0   7.0  0.0  0.0  0.0  3.0\n",
       " 1520.0  1.0  2.2  0.0   5.0  1.0  33.0  …   9.0  13.0  1.0  1.0  1.0  3.0\n",
       "  803.0  1.0  2.1  0.0   7.0  0.0  17.0      1.0   4.0  1.0  0.0  1.0  2.0\n",
       "  838.0  0.0  0.5  0.0   1.0  1.0  13.0      9.0  19.0  1.0  0.0  1.0  3.0\n",
       "  595.0  0.0  0.9  1.0   7.0  1.0  23.0      2.0  18.0  1.0  1.0  0.0  3.0\n",
       "  772.0  0.0  1.1  1.0  12.0  0.0  39.0     15.0   3.0  1.0  1.0  0.0  3.0\n",
       " 1709.0  1.0  2.1  0.0   1.0  0.0  13.0  …   1.0  15.0  1.0  0.0  0.0  3.0\n",
       "  961.0  1.0  1.4  1.0   0.0  1.0  57.0      9.0   7.0  1.0  1.0  1.0  2.0\n",
       "  519.0  1.0  1.6  1.0   7.0  1.0  51.0      1.0   4.0  1.0  0.0  1.0  3.0\n",
       "    ⋮                         ⋮          ⋱   ⋮                         ⋮\n",
       "  816.0  0.0  3.0  1.0   2.0  0.0   9.0      3.0  14.0  1.0  0.0  1.0  3.0\n",
       " 1157.0  1.0  0.8  0.0   7.0  0.0  27.0      4.0   2.0  1.0  0.0  1.0  3.0\n",
       " 1379.0  0.0  1.1  1.0   1.0  1.0  18.0  …   5.0  15.0  1.0  1.0  0.0  2.0\n",
       " 1784.0  0.0  1.6  0.0   4.0  0.0  41.0      1.0  11.0  0.0  1.0  0.0  2.0\n",
       " 1262.0  0.0  1.8  1.0  12.0  0.0  34.0      3.0   4.0  0.0  1.0  1.0  2.0\n",
       " 1829.0  1.0  2.1  0.0   8.0  0.0  59.0      6.0   5.0  1.0  1.0  1.0  3.0\n",
       " 1882.0  0.0  2.0  0.0  11.0  1.0  44.0      8.0  20.0  1.0  1.0  0.0  3.0\n",
       " 1467.0  1.0  0.5  0.0   0.0  0.0  18.0  …  11.0   5.0  1.0  1.0  1.0  3.0\n",
       "  858.0  0.0  2.2  0.0   1.0  0.0  50.0     16.0   3.0  1.0  1.0  0.0  3.0\n",
       " 1965.0  1.0  2.6  1.0   0.0  0.0  39.0     10.0  16.0  1.0  1.0  1.0  2.0\n",
       " 1911.0  0.0  0.9  1.0   1.0  1.0  36.0      1.0   5.0  1.0  1.0  0.0  3.0\n",
       "  510.0  1.0  2.0  1.0   5.0  1.0  45.0      4.0   2.0  1.0  1.0  1.0  3.0"
      ]
     },
     "execution_count": 4,
     "metadata": {},
     "output_type": "execute_result"
    }
   ],
   "source": [
    "# Transfer DataFrame to matrix form\n",
    "df = file |> Tables.matrix\n",
    "\n",
    "# Transfer the dataset to 2-classifiers. df_0 represents the result is 0, df_1 represents the result is 1.\n",
    "# Due to my datasset is binary problems, and each result is 50 percents of the whole dataset. So i didn't add any other pre-actions for dataset. \n",
    "\n",
    "mat_0 = df[df[:,21] .<= 1, :]\n",
    "mat_1 = df[df[:,21] .>= 2, :]\n"
   ]
  },
  {
   "cell_type": "code",
   "execution_count": 5,
   "id": "weekly-presentation",
   "metadata": {},
   "outputs": [
    {
     "data": {
      "text/plain": [
       "628×21 Matrix{Float64}:\n",
       "  842.0  0.0  2.2  0.0   1.0  0.0   7.0  …   7.0  19.0  0.0  0.0  1.0  1.0\n",
       " 1954.0  0.0  0.5  1.0   0.0  0.0  24.0      3.0   5.0  1.0  1.0  1.0  0.0\n",
       "  509.0  1.0  0.6  1.0   2.0  1.0   9.0     10.0  12.0  1.0  0.0  0.0  0.0\n",
       " 1866.0  0.0  0.5  0.0  13.0  1.0  52.0      9.0   3.0  1.0  0.0  1.0  0.0\n",
       "  682.0  1.0  0.5  0.0   4.0  0.0  19.0      1.0  18.0  0.0  1.0  1.0  1.0\n",
       " 1949.0  0.0  2.6  1.0   4.0  0.0  47.0  …   5.0  20.0  0.0  0.0  1.0  1.0\n",
       " 1602.0  1.0  2.8  1.0   4.0  1.0  38.0      7.0  20.0  1.0  0.0  0.0  0.0\n",
       " 1568.0  1.0  0.5  0.0  16.0  0.0  33.0      1.0   6.0  1.0  1.0  1.0  0.0\n",
       "  644.0  1.0  2.7  0.0   0.0  0.0  22.0      1.0  15.0  1.0  0.0  0.0  0.0\n",
       "  725.0  0.0  1.3  1.0  16.0  0.0  60.0      4.0  15.0  1.0  0.0  0.0  1.0\n",
       " 1656.0  0.0  1.0  0.0   5.0  1.0  34.0  …  12.0  14.0  1.0  1.0  0.0  1.0\n",
       " 1054.0  1.0  1.8  1.0   3.0  1.0  40.0     12.0  12.0  1.0  0.0  1.0  1.0\n",
       "  578.0  1.0  2.6  1.0   2.0  1.0  57.0      3.0   5.0  1.0  0.0  1.0  0.0\n",
       "    ⋮                         ⋮          ⋱   ⋮                         ⋮\n",
       " 1405.0  0.0  1.7  0.0   0.0  0.0   8.0      6.0  11.0  0.0  1.0  0.0  2.0\n",
       " 1035.0  1.0  2.7  0.0   1.0  0.0  40.0      4.0   5.0  0.0  1.0  1.0  3.0\n",
       " 1588.0  1.0  2.5  0.0  12.0  1.0   4.0      3.0  11.0  1.0  0.0  0.0  2.0\n",
       " 1788.0  0.0  0.5  0.0   0.0  1.0   6.0      5.0  20.0  1.0  1.0  0.0  2.0\n",
       " 1515.0  1.0  2.1  1.0   4.0  1.0  24.0  …   5.0  20.0  1.0  0.0  0.0  3.0\n",
       " 1589.0  0.0  0.6  0.0   0.0  0.0   5.0      5.0  19.0  1.0  1.0  1.0  3.0\n",
       " 1976.0  1.0  2.6  1.0   6.0  0.0  45.0      1.0   3.0  0.0  0.0  0.0  3.0\n",
       "  635.0  1.0  0.5  0.0   9.0  0.0  16.0     17.0   8.0  1.0  0.0  0.0  2.0\n",
       " 1913.0  1.0  1.8  0.0   0.0  0.0  29.0     13.0   8.0  1.0  1.0  0.0  2.0\n",
       " 1379.0  0.0  1.1  1.0   1.0  1.0  18.0  …   5.0  15.0  1.0  1.0  0.0  2.0\n",
       " 1784.0  0.0  1.6  0.0   4.0  0.0  41.0      1.0  11.0  0.0  1.0  0.0  2.0\n",
       " 1467.0  1.0  0.5  0.0   0.0  0.0  18.0     11.0   5.0  1.0  1.0  1.0  3.0"
      ]
     },
     "execution_count": 5,
     "metadata": {},
     "output_type": "execute_result"
    }
   ],
   "source": [
    "# randomly select 70% data from data set as the train data\n",
    "\n",
    "train_data = randsubseq(1:1000, 0.7)\n",
    "train_df = vcat(mat_0[train_data, :], mat_1[train_data, :])\n",
    "\n",
    "# select the rest as the test data \n",
    "\n",
    "test_data = [i for i in 1:1000 if isempty(searchsorted(train_data, i))]\n",
    "test_df = vcat(mat_0[test_data, :], mat_1[test_data, :])"
   ]
  },
  {
   "cell_type": "code",
   "execution_count": 6,
   "id": "featured-residence",
   "metadata": {},
   "outputs": [
    {
     "data": {
      "text/plain": [
       "1×628 Matrix{Float64}:\n",
       " 1.0  0.0  0.0  0.0  1.0  1.0  0.0  0.0  …  3.0  3.0  2.0  2.0  2.0  2.0  3.0"
      ]
     },
     "execution_count": 6,
     "metadata": {},
     "output_type": "execute_result"
    }
   ],
   "source": [
    "# parameters of the training and testing data\n",
    "para_train = train_df[:, 1:20]\n",
    "para_test = test_df[:, 1:20]\n",
    "\n",
    "# value is never used?\n",
    "value_train = train_df[:, 21]\n",
    "value_test = test_df[:, 21]\n",
    "value_train_std = reshape(value_train, (1, :)) \n",
    "value_test_std = reshape(value_test, (1, :)) \n"
   ]
  },
  {
   "cell_type": "code",
   "execution_count": 7,
   "id": "prerequisite-commercial",
   "metadata": {},
   "outputs": [
    {
     "data": {
      "text/plain": [
       "20×628 transpose(::Matrix{Float64}) with eltype Float64:\n",
       " -0.889597   1.63079   -1.64435   …   0.327533   1.24548     0.526988\n",
       " -1.01136   -1.01136    0.988045     -1.01136   -1.01136     0.988045\n",
       "  0.845458  -1.23071   -1.10858      -0.497946   0.112692   -1.23071\n",
       " -0.998179   1.00109    1.00109       1.00109   -0.998179   -0.998179\n",
       " -0.76351   -0.991483  -0.535537     -0.76351   -0.0795911  -0.991483\n",
       " -1.04283   -1.04283    0.958233  …   0.958233  -1.04283    -1.04283\n",
       " -1.39836   -0.458762  -1.28782      -0.790386   0.480838   -0.790386\n",
       "  0.359258   1.05105   -1.37022      -1.02433   -0.332535    0.359258\n",
       "  1.35565    1.32744   -1.32448      -0.30885    0.678566   -0.506334\n",
       " -1.09231   -0.214367   0.224605     -1.09231    0.663577    0.224605\n",
       " -1.29714   -1.62514    0.8348    …   0.998796   1.65478    -1.62514\n",
       " -1.4395    -0.340306   1.05603       0.388024  -0.12136     0.499731\n",
       " -1.20528   -0.281232  -0.104888     -0.901965   0.39593    -0.398795\n",
       "  0.389475  -1.33142   -1.50546       0.211708   0.169826    1.70458\n",
       " -0.822189   0.846514   1.56167      -0.583803   0.369742    0.608128\n",
       "  0.297975  -0.61918    0.985841  …  -0.160602  -1.07776     1.21513\n",
       "  1.4547    -1.11373    0.170489      0.720866  -0.0129705  -1.11373\n",
       " -1.76574    0.565921   0.565921      0.565921  -1.76574     0.565921\n",
       " -1.02772    0.972322  -1.02772       0.972322   0.972322    0.972322\n",
       "  0.995273   0.995273  -1.00402      -1.00402   -1.00402     0.995273"
      ]
     },
     "execution_count": 7,
     "metadata": {},
     "output_type": "execute_result"
    }
   ],
   "source": [
    "dt = StatsBase.fit(ZScoreTransform, para_train, dims=1)\n",
    "\n",
    "# rotate the matrix for 90 degree\n",
    "para_train_std = StatsBase.transform(dt, para_train)\n",
    "para_test_std = StatsBase.transform(dt, para_test)\n",
    "\n",
    "para_train_std = transpose(para_train_std) \n",
    "para_test_std = transpose(para_test_std)"
   ]
  },
  {
   "cell_type": "code",
   "execution_count": 8,
   "id": "8afab176",
   "metadata": {},
   "outputs": [
    {
     "data": {
      "text/plain": [
       "2"
      ]
     },
     "execution_count": 8,
     "metadata": {},
     "output_type": "execute_result"
    }
   ],
   "source": [
    "# basic parameters\n",
    "batch_size = 20\n",
    "population_size = 300\n",
    "Mutation_rate = 0.5\n",
    "Crossover_rate = 0.4\n",
    "Retain_rate = 0.9\n",
    "iteration = 500\n",
    "layer = 2"
   ]
  },
  {
   "cell_type": "code",
   "execution_count": 9,
   "id": "1a755a5b",
   "metadata": {},
   "outputs": [
    {
     "data": {
      "text/plain": [
       "sigmoidModel (generic function with 1 method)"
      ]
     },
     "execution_count": 9,
     "metadata": {},
     "output_type": "execute_result"
    }
   ],
   "source": [
    "#build the models with sigmoid as Activation Function\n",
    "\n",
    "function sigmoidModel(batch_size)\n",
    "    model = Chain(Dense(batch_size, 12, relu), Dense(12, 1, relu))\n",
    "    return model\n",
    "end"
   ]
  },
  {
   "cell_type": "code",
   "execution_count": 10,
   "id": "3ef502cc",
   "metadata": {},
   "outputs": [
    {
     "data": {
      "text/plain": [
       "generateInitialPopulation (generic function with 1 method)"
      ]
     },
     "execution_count": 10,
     "metadata": {},
     "output_type": "execute_result"
    }
   ],
   "source": [
    "# We will define a function that can generate initial weight and bias for the neutral network.\n",
    "\n",
    "function generateInitialPopulation(initial_population_size)\n",
    "    chromosomes = []\n",
    "    for i in 1 : initial_population_size\n",
    "        chromosome = sigmoidModel(batch_size)\n",
    "        push!(chromosomes, chromosome)\n",
    "    end\n",
    "    return chromosomes\n",
    "end"
   ]
  },
  {
   "cell_type": "code",
   "execution_count": 11,
   "id": "dc31fd7b",
   "metadata": {},
   "outputs": [
    {
     "data": {
      "text/plain": [
       "trainNetwork (generic function with 1 method)"
      ]
     },
     "execution_count": 11,
     "metadata": {},
     "output_type": "execute_result"
    }
   ],
   "source": [
    "# Do we need to train the network?\n",
    "\n",
    "\n",
    "function trainNetwork(chromosomes)\n",
    "    model_mean_acc_list = []\n",
    "    i=1\n",
    "\n",
    "    for model in chromosomes\n",
    "        push!(model_mean_acc_list, mean(accuracy(para_train_std, value_train_std, i)))\n",
    "        i = i + 1\n",
    "    end\n",
    "    \n",
    "    index = reverse(sortperm(model_mean_acc_list))\n",
    "    model_mean_acc_list = model_mean_acc_list[index]\n",
    "    chromosome = chromosomes[index]\n",
    "    \n",
    "    return chromosome, model_mean_acc_list\n",
    "end"
   ]
  },
  {
   "cell_type": "code",
   "execution_count": 12,
   "id": "60fc5fee",
   "metadata": {},
   "outputs": [
    {
     "data": {
      "text/plain": [
       "testModel (generic function with 1 method)"
      ]
     },
     "execution_count": 12,
     "metadata": {},
     "output_type": "execute_result"
    }
   ],
   "source": [
    "# why there is no manipuation on test data?\n",
    "function testModel(model_index)\n",
    "    model_acc_list=[]\n",
    "    return mean(accuracy(para_test_std, value_test_std, model_index))\n",
    "end"
   ]
  },
  {
   "cell_type": "code",
   "execution_count": 13,
   "id": "e9b3e765",
   "metadata": {},
   "outputs": [
    {
     "data": {
      "text/plain": [
       "crossover (generic function with 1 method)"
      ]
     },
     "execution_count": 13,
     "metadata": {},
     "output_type": "execute_result"
    }
   ],
   "source": [
    "# create a new model using two parent models\n",
    "\n",
    "function crossover(parent_one_chromosome,parent_two_chromosome)\n",
    "    n_offspring = deepcopy(parent_one_chromosome)\n",
    "    for i in 1:layer\n",
    "        select_one_layer = shuffle(collect(1:layer))[1]\n",
    "        mother_bias=parent_two_chromosome[select_one_layer].bias\n",
    "        row_to_shuffle = shuffle(collect(1:size(mother_bias)[1]))[1]\n",
    "        if rand() < Crossover_rate\n",
    "            n_offspring[select_one_layer].bias[row_to_shuffle]=mother_bias[row_to_shuffle]\n",
    "        end\n",
    "    end\n",
    "    \n",
    "    for i in 1:layer\n",
    "        select_one_layer=shuffle(collect(1:layer))[1]\n",
    "        mother_weight=parent_two_chromosome[select_one_layer].weight\n",
    "        row_to_shuffle=shuffle(collect(1:size(mother_weight)[1]))[1]\n",
    "        col_to_shuffle=shuffle(collect(1:size(mother_weight)[2]))[1]\n",
    "        if rand() < Crossover_rate\n",
    "            n_offspring[select_one_layer].weight[row_to_shuffle,col_to_shuffle]=mother_weight[row_to_shuffle,col_to_shuffle]\n",
    "        end\n",
    "    end\n",
    "    return n_offspring\n",
    "end"
   ]
  },
  {
   "cell_type": "code",
   "execution_count": 14,
   "id": "b9adc0de",
   "metadata": {},
   "outputs": [
    {
     "data": {
      "text/plain": [
       "mutation (generic function with 1 method)"
      ]
     },
     "execution_count": 14,
     "metadata": {},
     "output_type": "execute_result"
    }
   ],
   "source": [
    "#Do mutation here\n",
    "function mutation(offspring)\n",
    "    n_offspring = deepcopy(offspring)\n",
    "    for i in 1:layer\n",
    "        select_one_layer = shuffle(collect(1:layer))[1]\n",
    "        bias = offspring[select_one_layer].bias\n",
    "        row_to_shuffle = shuffle(collect(1:size(bias)[1]))[1]\n",
    "        if rand() < Mutation_rate\n",
    "            n_offspring[select_one_layer].bias[row_to_shuffle] += rand(Uniform(-0.5,0.5),1)[1]\n",
    "        end\n",
    "    end\n",
    "    \n",
    "    for i in 1:layer\n",
    "        select_one_layer = shuffle(collect(1:layer))[1]\n",
    "        weight = n_offspring[select_one_layer].weight\n",
    "        row_to_shuffle = shuffle(collect(1:size(weight)[1]))[1]\n",
    "        col_to_shuffle = shuffle(collect(1:size(weight)[2]))[1]\n",
    "        if rand() < Mutation_rate\n",
    "            n_offspring[select_one_layer].weight[row_to_shuffle,col_to_shuffle] += rand(Uniform(-0.5,0.5),1)[1]\n",
    "        end\n",
    "    end\n",
    "    return n_offspring\n",
    "end"
   ]
  },
  {
   "cell_type": "code",
   "execution_count": 15,
   "id": "f78715fa",
   "metadata": {},
   "outputs": [
    {
     "data": {
      "text/plain": [
       "300-element Vector{Any}:\n",
       " Chain(Dense(20, 12, relu), Dense(12, 1, relu))  \u001b[90m# 265 parameters\u001b[39m\n",
       " Chain(Dense(20, 12, relu), Dense(12, 1, relu))  \u001b[90m# 265 parameters\u001b[39m\n",
       " Chain(Dense(20, 12, relu), Dense(12, 1, relu))  \u001b[90m# 265 parameters\u001b[39m\n",
       " Chain(Dense(20, 12, relu), Dense(12, 1, relu))  \u001b[90m# 265 parameters\u001b[39m\n",
       " Chain(Dense(20, 12, relu), Dense(12, 1, relu))  \u001b[90m# 265 parameters\u001b[39m\n",
       " Chain(Dense(20, 12, relu), Dense(12, 1, relu))  \u001b[90m# 265 parameters\u001b[39m\n",
       " Chain(Dense(20, 12, relu), Dense(12, 1, relu))  \u001b[90m# 265 parameters\u001b[39m\n",
       " Chain(Dense(20, 12, relu), Dense(12, 1, relu))  \u001b[90m# 265 parameters\u001b[39m\n",
       " Chain(Dense(20, 12, relu), Dense(12, 1, relu))  \u001b[90m# 265 parameters\u001b[39m\n",
       " Chain(Dense(20, 12, relu), Dense(12, 1, relu))  \u001b[90m# 265 parameters\u001b[39m\n",
       " Chain(Dense(20, 12, relu), Dense(12, 1, relu))  \u001b[90m# 265 parameters\u001b[39m\n",
       " Chain(Dense(20, 12, relu), Dense(12, 1, relu))  \u001b[90m# 265 parameters\u001b[39m\n",
       " Chain(Dense(20, 12, relu), Dense(12, 1, relu))  \u001b[90m# 265 parameters\u001b[39m\n",
       " ⋮\n",
       " Chain(Dense(20, 12, relu), Dense(12, 1, relu))  \u001b[90m# 265 parameters\u001b[39m\n",
       " Chain(Dense(20, 12, relu), Dense(12, 1, relu))  \u001b[90m# 265 parameters\u001b[39m\n",
       " Chain(Dense(20, 12, relu), Dense(12, 1, relu))  \u001b[90m# 265 parameters\u001b[39m\n",
       " Chain(Dense(20, 12, relu), Dense(12, 1, relu))  \u001b[90m# 265 parameters\u001b[39m\n",
       " Chain(Dense(20, 12, relu), Dense(12, 1, relu))  \u001b[90m# 265 parameters\u001b[39m\n",
       " Chain(Dense(20, 12, relu), Dense(12, 1, relu))  \u001b[90m# 265 parameters\u001b[39m\n",
       " Chain(Dense(20, 12, relu), Dense(12, 1, relu))  \u001b[90m# 265 parameters\u001b[39m\n",
       " Chain(Dense(20, 12, relu), Dense(12, 1, relu))  \u001b[90m# 265 parameters\u001b[39m\n",
       " Chain(Dense(20, 12, relu), Dense(12, 1, relu))  \u001b[90m# 265 parameters\u001b[39m\n",
       " Chain(Dense(20, 12, relu), Dense(12, 1, relu))  \u001b[90m# 265 parameters\u001b[39m\n",
       " Chain(Dense(20, 12, relu), Dense(12, 1, relu))  \u001b[90m# 265 parameters\u001b[39m\n",
       " Chain(Dense(20, 12, relu), Dense(12, 1, relu))  \u001b[90m# 265 parameters\u001b[39m"
      ]
     },
     "execution_count": 15,
     "metadata": {},
     "output_type": "execute_result"
    }
   ],
   "source": [
    "chromosomes = generateInitialPopulation(population_size)"
   ]
  },
  {
   "cell_type": "code",
   "execution_count": 16,
   "id": "00ed7b7c",
   "metadata": {},
   "outputs": [
    {
     "data": {
      "text/plain": [
       "Any[]"
      ]
     },
     "execution_count": 16,
     "metadata": {},
     "output_type": "execute_result"
    }
   ],
   "source": [
    "train_acc_list = []\n",
    "test_acc_list = []"
   ]
  },
  {
   "cell_type": "code",
   "execution_count": 17,
   "id": "17bc34f5",
   "metadata": {},
   "outputs": [
    {
     "name": "stdout",
     "output_type": "stream",
     "text": [
      "0.2489906416544127\n",
      "0.24992775119210534\n",
      "0.24961750631114588\n",
      "0.24893751753096074\n",
      "0.24926263716648675\n",
      "0.2488822684425707\n",
      "0.25004674922863773\n",
      "new\n",
      "0.2489906416544127\n",
      "0.24992775119210534\n",
      "0.24961750631114588\n",
      "0.24893751753096074\n",
      "0.24926263716648675\n",
      "0.2488822684425707\n",
      "0.25004674922863773\n"
     ]
    }
   ],
   "source": [
    "\n",
    "# println(\"\\nTrial\") \n",
    "accuracy(para, val, i) = mean(vec(chromosomes[i](para) .> 0.5) .== val)\n",
    "\n",
    "model,score = trainNetwork(chromosomes)\n",
    "# println(\"\\nTrial\") \n",
    "#erase models with low accuracy\n",
    "# println(typeof(size(chromosomes)[1] * Retain_rate)) \n",
    "# println(typeof())\n",
    "chromosomes = chromosomes[1 : floor(Int ,size(chromosomes)[1] * Retain_rate)]\n",
    "# println(\"\\nTrial\") \n",
    "test_acc=testModel(1)\n",
    "# println(\"\\nTrial\") \n",
    "append!(train_acc_list,mean(score))\n",
    "append!(test_acc_list,test_acc)\n",
    "\n",
    "# println(\"\\nTrial\") \n",
    "\n",
    "for i in 1 : 7\n",
    "    println(accuracy(para_train_std, value_train_std, i))\n",
    "end\n",
    "\n",
    "while size(chromosomes)[1] < population_size\n",
    "    # select a chromosome to do crossover\n",
    "    model_mean_acc_list = []\n",
    "    i=1\n",
    "    for chromosome in chromosomes\n",
    "        append!(model_mean_acc_list,mean(accuracy(para_train_std,value_train_std,i)))\n",
    "        i=i+1\n",
    "    end\n",
    "\n",
    "    idx=collect(1:size(chromosomes)[1])\n",
    "    idx=shuffle(idx)\n",
    "    parent_one_chromosome=chromosomes[idx[1]]\n",
    "    parent_two_chromosome=chromosomes[idx[2]]\n",
    "\n",
    "    offspring = crossover(parent_one_chromosome,parent_two_chromosome)\n",
    "    offspring = mutation(offspring)\n",
    "    append!(chromosomes,[offspring])\n",
    "end\n",
    "println(\"new\")\n",
    "for j in 1:7\n",
    "    println(accuracy(para_train_std, value_train_std,j))\n",
    "end "
   ]
  },
  {
   "cell_type": "code",
   "execution_count": 18,
   "id": "c0840c0c",
   "metadata": {},
   "outputs": [],
   "source": [
    "# to do the test\n",
    "test=[]\n",
    "\n",
    "for j in 1:30\n",
    "    push!(test,accuracy(para_train_std, value_train_std,j))\n",
    "end"
   ]
  },
  {
   "cell_type": "code",
   "execution_count": 19,
   "id": "a491ae4a",
   "metadata": {},
   "outputs": [
    {
     "data": {
      "image/svg+xml": "<?xml version=\"1.0\" encoding=\"utf-8\"?>\n<svg xmlns=\"http://www.w3.org/2000/svg\" xmlns:xlink=\"http://www.w3.org/1999/xlink\" width=\"600\" height=\"400\" viewBox=\"0 0 2400 1600\">\n<defs>\n  <clipPath id=\"clip470\">\n    <rect x=\"0\" y=\"0\" width=\"2400\" height=\"1600\"/>\n  </clipPath>\n</defs>\n<path clip-path=\"url(#clip470)\" d=\"\nM0 1600 L2400 1600 L2400 0 L0 0  Z\n  \" fill=\"#ffffff\" fill-rule=\"evenodd\" fill-opacity=\"1\"/>\n<defs>\n  <clipPath id=\"clip471\">\n    <rect x=\"480\" y=\"0\" width=\"1681\" height=\"1600\"/>\n  </clipPath>\n</defs>\n<path clip-path=\"url(#clip470)\" d=\"\nM246.598 1486.45 L2352.76 1486.45 L2352.76 47.2441 L246.598 47.2441  Z\n  \" fill=\"#ffffff\" fill-rule=\"evenodd\" fill-opacity=\"1\"/>\n<defs>\n  <clipPath id=\"clip472\">\n    <rect x=\"246\" y=\"47\" width=\"2107\" height=\"1440\"/>\n  </clipPath>\n</defs>\n<polyline clip-path=\"url(#clip472)\" style=\"stroke:#000000; stroke-linecap:butt; stroke-linejoin:round; stroke-width:2; stroke-opacity:0.1; fill:none\" points=\"\n  580.267,1486.45 580.267,47.2441 \n  \"/>\n<polyline clip-path=\"url(#clip472)\" style=\"stroke:#000000; stroke-linecap:butt; stroke-linejoin:round; stroke-width:2; stroke-opacity:0.1; fill:none\" points=\"\n  922.843,1486.45 922.843,47.2441 \n  \"/>\n<polyline clip-path=\"url(#clip472)\" style=\"stroke:#000000; stroke-linecap:butt; stroke-linejoin:round; stroke-width:2; stroke-opacity:0.1; fill:none\" points=\"\n  1265.42,1486.45 1265.42,47.2441 \n  \"/>\n<polyline clip-path=\"url(#clip472)\" style=\"stroke:#000000; stroke-linecap:butt; stroke-linejoin:round; stroke-width:2; stroke-opacity:0.1; fill:none\" points=\"\n  1608,1486.45 1608,47.2441 \n  \"/>\n<polyline clip-path=\"url(#clip472)\" style=\"stroke:#000000; stroke-linecap:butt; stroke-linejoin:round; stroke-width:2; stroke-opacity:0.1; fill:none\" points=\"\n  1950.57,1486.45 1950.57,47.2441 \n  \"/>\n<polyline clip-path=\"url(#clip472)\" style=\"stroke:#000000; stroke-linecap:butt; stroke-linejoin:round; stroke-width:2; stroke-opacity:0.1; fill:none\" points=\"\n  2293.15,1486.45 2293.15,47.2441 \n  \"/>\n<polyline clip-path=\"url(#clip470)\" style=\"stroke:#000000; stroke-linecap:butt; stroke-linejoin:round; stroke-width:4; stroke-opacity:1; fill:none\" points=\"\n  246.598,1486.45 2352.76,1486.45 \n  \"/>\n<polyline clip-path=\"url(#clip470)\" style=\"stroke:#000000; stroke-linecap:butt; stroke-linejoin:round; stroke-width:4; stroke-opacity:1; fill:none\" points=\"\n  580.267,1486.45 580.267,1467.55 \n  \"/>\n<polyline clip-path=\"url(#clip470)\" style=\"stroke:#000000; stroke-linecap:butt; stroke-linejoin:round; stroke-width:4; stroke-opacity:1; fill:none\" points=\"\n  922.843,1486.45 922.843,1467.55 \n  \"/>\n<polyline clip-path=\"url(#clip470)\" style=\"stroke:#000000; stroke-linecap:butt; stroke-linejoin:round; stroke-width:4; stroke-opacity:1; fill:none\" points=\"\n  1265.42,1486.45 1265.42,1467.55 \n  \"/>\n<polyline clip-path=\"url(#clip470)\" style=\"stroke:#000000; stroke-linecap:butt; stroke-linejoin:round; stroke-width:4; stroke-opacity:1; fill:none\" points=\"\n  1608,1486.45 1608,1467.55 \n  \"/>\n<polyline clip-path=\"url(#clip470)\" style=\"stroke:#000000; stroke-linecap:butt; stroke-linejoin:round; stroke-width:4; stroke-opacity:1; fill:none\" points=\"\n  1950.57,1486.45 1950.57,1467.55 \n  \"/>\n<polyline clip-path=\"url(#clip470)\" style=\"stroke:#000000; stroke-linecap:butt; stroke-linejoin:round; stroke-width:4; stroke-opacity:1; fill:none\" points=\"\n  2293.15,1486.45 2293.15,1467.55 \n  \"/>\n<path clip-path=\"url(#clip470)\" d=\"M570.545 1514.29 L588.901 1514.29 L588.901 1518.22 L574.827 1518.22 L574.827 1526.7 Q575.846 1526.35 576.864 1526.19 Q577.883 1526 578.901 1526 Q584.688 1526 588.068 1529.17 Q591.447 1532.34 591.447 1537.76 Q591.447 1543.34 587.975 1546.44 Q584.503 1549.52 578.184 1549.52 Q576.008 1549.52 573.739 1549.15 Q571.494 1548.78 569.086 1548.04 L569.086 1543.34 Q571.17 1544.47 573.392 1545.03 Q575.614 1545.58 578.091 1545.58 Q582.096 1545.58 584.434 1543.48 Q586.772 1541.37 586.772 1537.76 Q586.772 1534.15 584.434 1532.04 Q582.096 1529.94 578.091 1529.94 Q576.216 1529.94 574.341 1530.35 Q572.489 1530.77 570.545 1531.65 L570.545 1514.29 Z\" fill=\"#000000\" fill-rule=\"evenodd\" fill-opacity=\"1\" /><path clip-path=\"url(#clip470)\" d=\"M897.531 1544.91 L905.17 1544.91 L905.17 1518.55 L896.859 1520.21 L896.859 1515.95 L905.123 1514.29 L909.799 1514.29 L909.799 1544.91 L917.438 1544.91 L917.438 1548.85 L897.531 1548.85 L897.531 1544.91 Z\" fill=\"#000000\" fill-rule=\"evenodd\" fill-opacity=\"1\" /><path clip-path=\"url(#clip470)\" d=\"M936.882 1517.37 Q933.271 1517.37 931.443 1520.93 Q929.637 1524.47 929.637 1531.6 Q929.637 1538.71 931.443 1542.27 Q933.271 1545.82 936.882 1545.82 Q940.517 1545.82 942.322 1542.27 Q944.151 1538.71 944.151 1531.6 Q944.151 1524.47 942.322 1520.93 Q940.517 1517.37 936.882 1517.37 M936.882 1513.66 Q942.692 1513.66 945.748 1518.27 Q948.827 1522.85 948.827 1531.6 Q948.827 1540.33 945.748 1544.94 Q942.692 1549.52 936.882 1549.52 Q931.072 1549.52 927.994 1544.94 Q924.938 1540.33 924.938 1531.6 Q924.938 1522.85 927.994 1518.27 Q931.072 1513.66 936.882 1513.66 Z\" fill=\"#000000\" fill-rule=\"evenodd\" fill-opacity=\"1\" /><path clip-path=\"url(#clip470)\" d=\"M1240.6 1544.91 L1248.24 1544.91 L1248.24 1518.55 L1239.93 1520.21 L1239.93 1515.95 L1248.2 1514.29 L1252.87 1514.29 L1252.87 1544.91 L1260.51 1544.91 L1260.51 1548.85 L1240.6 1548.85 L1240.6 1544.91 Z\" fill=\"#000000\" fill-rule=\"evenodd\" fill-opacity=\"1\" /><path clip-path=\"url(#clip470)\" d=\"M1270 1514.29 L1288.36 1514.29 L1288.36 1518.22 L1274.28 1518.22 L1274.28 1526.7 Q1275.3 1526.35 1276.32 1526.19 Q1277.34 1526 1278.36 1526 Q1284.15 1526 1287.53 1529.17 Q1290.91 1532.34 1290.91 1537.76 Q1290.91 1543.34 1287.43 1546.44 Q1283.96 1549.52 1277.64 1549.52 Q1275.47 1549.52 1273.2 1549.15 Q1270.95 1548.78 1268.54 1548.04 L1268.54 1543.34 Q1270.63 1544.47 1272.85 1545.03 Q1275.07 1545.58 1277.55 1545.58 Q1281.55 1545.58 1283.89 1543.48 Q1286.23 1541.37 1286.23 1537.76 Q1286.23 1534.15 1283.89 1532.04 Q1281.55 1529.94 1277.55 1529.94 Q1275.67 1529.94 1273.8 1530.35 Q1271.95 1530.77 1270 1531.65 L1270 1514.29 Z\" fill=\"#000000\" fill-rule=\"evenodd\" fill-opacity=\"1\" /><path clip-path=\"url(#clip470)\" d=\"M1586.77 1544.91 L1603.09 1544.91 L1603.09 1548.85 L1581.14 1548.85 L1581.14 1544.91 Q1583.81 1542.16 1588.39 1537.53 Q1593 1532.88 1594.18 1531.53 Q1596.42 1529.01 1597.3 1527.27 Q1598.2 1525.51 1598.2 1523.82 Q1598.2 1521.07 1596.26 1519.33 Q1594.34 1517.6 1591.24 1517.6 Q1589.04 1517.6 1586.58 1518.36 Q1584.15 1519.13 1581.38 1520.68 L1581.38 1515.95 Q1584.2 1514.82 1586.65 1514.24 Q1589.11 1513.66 1591.14 1513.66 Q1596.51 1513.66 1599.71 1516.35 Q1602.9 1519.03 1602.9 1523.52 Q1602.9 1525.65 1602.09 1527.57 Q1601.31 1529.47 1599.2 1532.07 Q1598.62 1532.74 1595.52 1535.95 Q1592.42 1539.15 1586.77 1544.91 Z\" fill=\"#000000\" fill-rule=\"evenodd\" fill-opacity=\"1\" /><path clip-path=\"url(#clip470)\" d=\"M1622.9 1517.37 Q1619.29 1517.37 1617.46 1520.93 Q1615.66 1524.47 1615.66 1531.6 Q1615.66 1538.71 1617.46 1542.27 Q1619.29 1545.82 1622.9 1545.82 Q1626.54 1545.82 1628.34 1542.27 Q1630.17 1538.71 1630.17 1531.6 Q1630.17 1524.47 1628.34 1520.93 Q1626.54 1517.37 1622.9 1517.37 M1622.9 1513.66 Q1628.71 1513.66 1631.77 1518.27 Q1634.85 1522.85 1634.85 1531.6 Q1634.85 1540.33 1631.77 1544.94 Q1628.71 1549.52 1622.9 1549.52 Q1617.09 1549.52 1614.01 1544.94 Q1610.96 1540.33 1610.96 1531.6 Q1610.96 1522.85 1614.01 1518.27 Q1617.09 1513.66 1622.9 1513.66 Z\" fill=\"#000000\" fill-rule=\"evenodd\" fill-opacity=\"1\" /><path clip-path=\"url(#clip470)\" d=\"M1929.84 1544.91 L1946.16 1544.91 L1946.16 1548.85 L1924.22 1548.85 L1924.22 1544.91 Q1926.88 1542.16 1931.46 1537.53 Q1936.07 1532.88 1937.25 1531.53 Q1939.5 1529.01 1940.37 1527.27 Q1941.28 1525.51 1941.28 1523.82 Q1941.28 1521.07 1939.33 1519.33 Q1937.41 1517.6 1934.31 1517.6 Q1932.11 1517.6 1929.66 1518.36 Q1927.23 1519.13 1924.45 1520.68 L1924.45 1515.95 Q1927.27 1514.82 1929.73 1514.24 Q1932.18 1513.66 1934.22 1513.66 Q1939.59 1513.66 1942.78 1516.35 Q1945.98 1519.03 1945.98 1523.52 Q1945.98 1525.65 1945.17 1527.57 Q1944.38 1529.47 1942.27 1532.07 Q1941.69 1532.74 1938.59 1535.95 Q1935.49 1539.15 1929.84 1544.91 Z\" fill=\"#000000\" fill-rule=\"evenodd\" fill-opacity=\"1\" /><path clip-path=\"url(#clip470)\" d=\"M1956.02 1514.29 L1974.38 1514.29 L1974.38 1518.22 L1960.31 1518.22 L1960.31 1526.7 Q1961.32 1526.35 1962.34 1526.19 Q1963.36 1526 1964.38 1526 Q1970.17 1526 1973.55 1529.17 Q1976.93 1532.34 1976.93 1537.76 Q1976.93 1543.34 1973.45 1546.44 Q1969.98 1549.52 1963.66 1549.52 Q1961.49 1549.52 1959.22 1549.15 Q1956.97 1548.78 1954.56 1548.04 L1954.56 1543.34 Q1956.65 1544.47 1958.87 1545.03 Q1961.09 1545.58 1963.57 1545.58 Q1967.57 1545.58 1969.91 1543.48 Q1972.25 1541.37 1972.25 1537.76 Q1972.25 1534.15 1969.91 1532.04 Q1967.57 1529.94 1963.57 1529.94 Q1961.69 1529.94 1959.82 1530.35 Q1957.97 1530.77 1956.02 1531.65 L1956.02 1514.29 Z\" fill=\"#000000\" fill-rule=\"evenodd\" fill-opacity=\"1\" /><path clip-path=\"url(#clip470)\" d=\"M2281.99 1530.21 Q2285.35 1530.93 2287.22 1533.2 Q2289.12 1535.47 2289.12 1538.8 Q2289.12 1543.92 2285.6 1546.72 Q2282.08 1549.52 2275.6 1549.52 Q2273.43 1549.52 2271.11 1549.08 Q2268.82 1548.66 2266.37 1547.81 L2266.37 1543.29 Q2268.31 1544.43 2270.62 1545.01 Q2272.94 1545.58 2275.46 1545.58 Q2279.86 1545.58 2282.15 1543.85 Q2284.47 1542.11 2284.47 1538.8 Q2284.47 1535.75 2282.31 1534.03 Q2280.18 1532.3 2276.37 1532.3 L2272.34 1532.3 L2272.34 1528.45 L2276.55 1528.45 Q2280 1528.45 2281.83 1527.09 Q2283.66 1525.7 2283.66 1523.11 Q2283.66 1520.45 2281.76 1519.03 Q2279.88 1517.6 2276.37 1517.6 Q2274.44 1517.6 2272.24 1518.01 Q2270.05 1518.43 2267.41 1519.31 L2267.41 1515.14 Q2270.07 1514.4 2272.38 1514.03 Q2274.72 1513.66 2276.78 1513.66 Q2282.11 1513.66 2285.21 1516.09 Q2288.31 1518.5 2288.31 1522.62 Q2288.31 1525.49 2286.67 1527.48 Q2285.02 1529.45 2281.99 1530.21 Z\" fill=\"#000000\" fill-rule=\"evenodd\" fill-opacity=\"1\" /><path clip-path=\"url(#clip470)\" d=\"M2307.99 1517.37 Q2304.37 1517.37 2302.55 1520.93 Q2300.74 1524.47 2300.74 1531.6 Q2300.74 1538.71 2302.55 1542.27 Q2304.37 1545.82 2307.99 1545.82 Q2311.62 1545.82 2313.43 1542.27 Q2315.25 1538.71 2315.25 1531.6 Q2315.25 1524.47 2313.43 1520.93 Q2311.62 1517.37 2307.99 1517.37 M2307.99 1513.66 Q2313.8 1513.66 2316.85 1518.27 Q2319.93 1522.85 2319.93 1531.6 Q2319.93 1540.33 2316.85 1544.94 Q2313.8 1549.52 2307.99 1549.52 Q2302.18 1549.52 2299.1 1544.94 Q2296.04 1540.33 2296.04 1531.6 Q2296.04 1522.85 2299.1 1518.27 Q2302.18 1513.66 2307.99 1513.66 Z\" fill=\"#000000\" fill-rule=\"evenodd\" fill-opacity=\"1\" /><polyline clip-path=\"url(#clip472)\" style=\"stroke:#000000; stroke-linecap:butt; stroke-linejoin:round; stroke-width:2; stroke-opacity:0.1; fill:none\" points=\"\n  246.598,1485.04 2352.76,1485.04 \n  \"/>\n<polyline clip-path=\"url(#clip472)\" style=\"stroke:#000000; stroke-linecap:butt; stroke-linejoin:round; stroke-width:2; stroke-opacity:0.1; fill:none\" points=\"\n  246.598,1062.45 2352.76,1062.45 \n  \"/>\n<polyline clip-path=\"url(#clip472)\" style=\"stroke:#000000; stroke-linecap:butt; stroke-linejoin:round; stroke-width:2; stroke-opacity:0.1; fill:none\" points=\"\n  246.598,639.869 2352.76,639.869 \n  \"/>\n<polyline clip-path=\"url(#clip472)\" style=\"stroke:#000000; stroke-linecap:butt; stroke-linejoin:round; stroke-width:2; stroke-opacity:0.1; fill:none\" points=\"\n  246.598,217.285 2352.76,217.285 \n  \"/>\n<polyline clip-path=\"url(#clip470)\" style=\"stroke:#000000; stroke-linecap:butt; stroke-linejoin:round; stroke-width:4; stroke-opacity:1; fill:none\" points=\"\n  246.598,1486.45 246.598,47.2441 \n  \"/>\n<polyline clip-path=\"url(#clip470)\" style=\"stroke:#000000; stroke-linecap:butt; stroke-linejoin:round; stroke-width:4; stroke-opacity:1; fill:none\" points=\"\n  246.598,1485.04 265.495,1485.04 \n  \"/>\n<polyline clip-path=\"url(#clip470)\" style=\"stroke:#000000; stroke-linecap:butt; stroke-linejoin:round; stroke-width:4; stroke-opacity:1; fill:none\" points=\"\n  246.598,1062.45 265.495,1062.45 \n  \"/>\n<polyline clip-path=\"url(#clip470)\" style=\"stroke:#000000; stroke-linecap:butt; stroke-linejoin:round; stroke-width:4; stroke-opacity:1; fill:none\" points=\"\n  246.598,639.869 265.495,639.869 \n  \"/>\n<polyline clip-path=\"url(#clip470)\" style=\"stroke:#000000; stroke-linecap:butt; stroke-linejoin:round; stroke-width:4; stroke-opacity:1; fill:none\" points=\"\n  246.598,217.285 265.495,217.285 \n  \"/>\n<path clip-path=\"url(#clip470)\" d=\"M63.9319 1470.83 Q60.3208 1470.83 58.4921 1474.4 Q56.6865 1477.94 56.6865 1485.07 Q56.6865 1492.18 58.4921 1495.74 Q60.3208 1499.28 63.9319 1499.28 Q67.5661 1499.28 69.3717 1495.74 Q71.2004 1492.18 71.2004 1485.07 Q71.2004 1477.94 69.3717 1474.4 Q67.5661 1470.83 63.9319 1470.83 M63.9319 1467.13 Q69.742 1467.13 72.7976 1471.74 Q75.8763 1476.32 75.8763 1485.07 Q75.8763 1493.8 72.7976 1498.4 Q69.742 1502.99 63.9319 1502.99 Q58.1217 1502.99 55.043 1498.4 Q51.9875 1493.8 51.9875 1485.07 Q51.9875 1476.32 55.043 1471.74 Q58.1217 1467.13 63.9319 1467.13 Z\" fill=\"#000000\" fill-rule=\"evenodd\" fill-opacity=\"1\" /><path clip-path=\"url(#clip470)\" d=\"M84.0938 1496.44 L88.978 1496.44 L88.978 1502.32 L84.0938 1502.32 L84.0938 1496.44 Z\" fill=\"#000000\" fill-rule=\"evenodd\" fill-opacity=\"1\" /><path clip-path=\"url(#clip470)\" d=\"M103.191 1498.38 L119.51 1498.38 L119.51 1502.32 L97.566 1502.32 L97.566 1498.38 Q100.228 1495.63 104.811 1491 Q109.418 1486.34 110.598 1485 Q112.844 1482.48 113.723 1480.74 Q114.626 1478.98 114.626 1477.29 Q114.626 1474.54 112.682 1472.8 Q110.76 1471.07 107.658 1471.07 Q105.459 1471.07 103.006 1471.83 Q100.575 1472.59 97.7974 1474.15 L97.7974 1469.42 Q100.621 1468.29 103.075 1467.71 Q105.529 1467.13 107.566 1467.13 Q112.936 1467.13 116.131 1469.82 Q119.325 1472.5 119.325 1476.99 Q119.325 1479.12 118.515 1481.04 Q117.728 1482.94 115.621 1485.53 Q115.043 1486.21 111.941 1489.42 Q108.839 1492.62 103.191 1498.38 Z\" fill=\"#000000\" fill-rule=\"evenodd\" fill-opacity=\"1\" /><path clip-path=\"url(#clip470)\" d=\"M142.172 1471.83 L130.367 1490.28 L142.172 1490.28 L142.172 1471.83 M140.945 1467.76 L146.825 1467.76 L146.825 1490.28 L151.755 1490.28 L151.755 1494.17 L146.825 1494.17 L146.825 1502.32 L142.172 1502.32 L142.172 1494.17 L126.57 1494.17 L126.57 1489.65 L140.945 1467.76 Z\" fill=\"#000000\" fill-rule=\"evenodd\" fill-opacity=\"1\" /><path clip-path=\"url(#clip470)\" d=\"M169.487 1485.9 Q166.154 1485.9 164.232 1487.69 Q162.334 1489.47 162.334 1492.59 Q162.334 1495.72 164.232 1497.5 Q166.154 1499.28 169.487 1499.28 Q172.82 1499.28 174.741 1497.5 Q176.663 1495.7 176.663 1492.59 Q176.663 1489.47 174.741 1487.69 Q172.843 1485.9 169.487 1485.9 M164.811 1483.91 Q161.802 1483.17 160.112 1481.11 Q158.445 1479.05 158.445 1476.09 Q158.445 1471.95 161.385 1469.54 Q164.348 1467.13 169.487 1467.13 Q174.649 1467.13 177.589 1469.54 Q180.528 1471.95 180.528 1476.09 Q180.528 1479.05 178.839 1481.11 Q177.172 1483.17 174.186 1483.91 Q177.566 1484.7 179.441 1486.99 Q181.339 1489.28 181.339 1492.59 Q181.339 1497.62 178.26 1500.3 Q175.204 1502.99 169.487 1502.99 Q163.769 1502.99 160.691 1500.3 Q157.635 1497.62 157.635 1492.59 Q157.635 1489.28 159.533 1486.99 Q161.431 1484.7 164.811 1483.91 M163.098 1476.53 Q163.098 1479.21 164.765 1480.72 Q166.454 1482.22 169.487 1482.22 Q172.496 1482.22 174.186 1480.72 Q175.899 1479.21 175.899 1476.53 Q175.899 1473.84 174.186 1472.34 Q172.496 1470.83 169.487 1470.83 Q166.454 1470.83 164.765 1472.34 Q163.098 1473.84 163.098 1476.53 Z\" fill=\"#000000\" fill-rule=\"evenodd\" fill-opacity=\"1\" /><path clip-path=\"url(#clip470)\" d=\"M189.695 1467.76 L208.051 1467.76 L208.051 1471.69 L193.977 1471.69 L193.977 1480.16 Q194.996 1479.82 196.014 1479.65 Q197.033 1479.47 198.052 1479.47 Q203.839 1479.47 207.218 1482.64 Q210.598 1485.81 210.598 1491.23 Q210.598 1496.81 207.126 1499.91 Q203.653 1502.99 197.334 1502.99 Q195.158 1502.99 192.89 1502.62 Q190.644 1502.25 188.237 1501.51 L188.237 1496.81 Q190.32 1497.94 192.542 1498.5 Q194.765 1499.05 197.241 1499.05 Q201.246 1499.05 203.584 1496.95 Q205.922 1494.84 205.922 1491.23 Q205.922 1487.62 203.584 1485.51 Q201.246 1483.4 197.241 1483.4 Q195.366 1483.4 193.491 1483.82 Q191.64 1484.24 189.695 1485.12 L189.695 1467.76 Z\" fill=\"#000000\" fill-rule=\"evenodd\" fill-opacity=\"1\" /><path clip-path=\"url(#clip470)\" d=\"M62.9365 1048.25 Q59.3254 1048.25 57.4967 1051.82 Q55.6912 1055.36 55.6912 1062.49 Q55.6912 1069.59 57.4967 1073.16 Q59.3254 1076.7 62.9365 1076.7 Q66.5707 1076.7 68.3763 1073.16 Q70.205 1069.59 70.205 1062.49 Q70.205 1055.36 68.3763 1051.82 Q66.5707 1048.25 62.9365 1048.25 M62.9365 1044.55 Q68.7467 1044.55 71.8022 1049.15 Q74.8809 1053.74 74.8809 1062.49 Q74.8809 1071.21 71.8022 1075.82 Q68.7467 1080.4 62.9365 1080.4 Q57.1264 1080.4 54.0477 1075.82 Q50.9921 1071.21 50.9921 1062.49 Q50.9921 1053.74 54.0477 1049.15 Q57.1264 1044.55 62.9365 1044.55 Z\" fill=\"#000000\" fill-rule=\"evenodd\" fill-opacity=\"1\" /><path clip-path=\"url(#clip470)\" d=\"M83.0984 1073.85 L87.9827 1073.85 L87.9827 1079.73 L83.0984 1079.73 L83.0984 1073.85 Z\" fill=\"#000000\" fill-rule=\"evenodd\" fill-opacity=\"1\" /><path clip-path=\"url(#clip470)\" d=\"M102.196 1075.8 L118.515 1075.8 L118.515 1079.73 L96.5706 1079.73 L96.5706 1075.8 Q99.2326 1073.04 103.816 1068.41 Q108.422 1063.76 109.603 1062.42 Q111.848 1059.89 112.728 1058.16 Q113.631 1056.4 113.631 1054.71 Q113.631 1051.95 111.686 1050.22 Q109.765 1048.48 106.663 1048.48 Q104.464 1048.48 102.01 1049.25 Q99.5798 1050.01 96.8021 1051.56 L96.8021 1046.84 Q99.6261 1045.7 102.08 1045.13 Q104.534 1044.55 106.571 1044.55 Q111.941 1044.55 115.135 1047.23 Q118.33 1049.92 118.33 1054.41 Q118.33 1056.54 117.52 1058.46 Q116.733 1060.36 114.626 1062.95 Q114.047 1063.62 110.946 1066.84 Q107.844 1070.03 102.196 1075.8 Z\" fill=\"#000000\" fill-rule=\"evenodd\" fill-opacity=\"1\" /><path clip-path=\"url(#clip470)\" d=\"M141.177 1049.25 L129.371 1067.7 L141.177 1067.7 L141.177 1049.25 M139.95 1045.17 L145.83 1045.17 L145.83 1067.7 L150.76 1067.7 L150.76 1071.58 L145.83 1071.58 L145.83 1079.73 L141.177 1079.73 L141.177 1071.58 L125.575 1071.58 L125.575 1067.07 L139.95 1045.17 Z\" fill=\"#000000\" fill-rule=\"evenodd\" fill-opacity=\"1\" /><path clip-path=\"url(#clip470)\" d=\"M158.63 1079.01 L158.63 1074.76 Q160.39 1075.59 162.195 1076.03 Q164.001 1076.47 165.737 1076.47 Q170.366 1076.47 172.797 1073.37 Q175.251 1070.24 175.598 1063.9 Q174.255 1065.89 172.195 1066.95 Q170.135 1068.02 167.635 1068.02 Q162.45 1068.02 159.417 1064.89 Q156.408 1061.75 156.408 1056.31 Q156.408 1050.98 159.556 1047.77 Q162.704 1044.55 167.936 1044.55 Q173.931 1044.55 177.079 1049.15 Q180.251 1053.74 180.251 1062.49 Q180.251 1070.66 176.362 1075.54 Q172.496 1080.4 165.945 1080.4 Q164.186 1080.4 162.38 1080.06 Q160.575 1079.71 158.63 1079.01 M167.936 1064.36 Q171.084 1064.36 172.913 1062.21 Q174.765 1060.06 174.765 1056.31 Q174.765 1052.58 172.913 1050.43 Q171.084 1048.25 167.936 1048.25 Q164.788 1048.25 162.936 1050.43 Q161.107 1052.58 161.107 1056.31 Q161.107 1060.06 162.936 1062.21 Q164.788 1064.36 167.936 1064.36 Z\" fill=\"#000000\" fill-rule=\"evenodd\" fill-opacity=\"1\" /><path clip-path=\"url(#clip470)\" d=\"M198.653 1048.25 Q195.042 1048.25 193.214 1051.82 Q191.408 1055.36 191.408 1062.49 Q191.408 1069.59 193.214 1073.16 Q195.042 1076.7 198.653 1076.7 Q202.288 1076.7 204.093 1073.16 Q205.922 1069.59 205.922 1062.49 Q205.922 1055.36 204.093 1051.82 Q202.288 1048.25 198.653 1048.25 M198.653 1044.55 Q204.464 1044.55 207.519 1049.15 Q210.598 1053.74 210.598 1062.49 Q210.598 1071.21 207.519 1075.82 Q204.464 1080.4 198.653 1080.4 Q192.843 1080.4 189.765 1075.82 Q186.709 1071.21 186.709 1062.49 Q186.709 1053.74 189.765 1049.15 Q192.843 1044.55 198.653 1044.55 Z\" fill=\"#000000\" fill-rule=\"evenodd\" fill-opacity=\"1\" /><path clip-path=\"url(#clip470)\" d=\"M63.9319 625.667 Q60.3208 625.667 58.4921 629.232 Q56.6865 632.774 56.6865 639.903 Q56.6865 647.01 58.4921 650.575 Q60.3208 654.116 63.9319 654.116 Q67.5661 654.116 69.3717 650.575 Q71.2004 647.01 71.2004 639.903 Q71.2004 632.774 69.3717 629.232 Q67.5661 625.667 63.9319 625.667 M63.9319 621.964 Q69.742 621.964 72.7976 626.57 Q75.8763 631.153 75.8763 639.903 Q75.8763 648.63 72.7976 653.237 Q69.742 657.82 63.9319 657.82 Q58.1217 657.82 55.043 653.237 Q51.9875 648.63 51.9875 639.903 Q51.9875 631.153 55.043 626.57 Q58.1217 621.964 63.9319 621.964 Z\" fill=\"#000000\" fill-rule=\"evenodd\" fill-opacity=\"1\" /><path clip-path=\"url(#clip470)\" d=\"M84.0938 651.269 L88.978 651.269 L88.978 657.149 L84.0938 657.149 L84.0938 651.269 Z\" fill=\"#000000\" fill-rule=\"evenodd\" fill-opacity=\"1\" /><path clip-path=\"url(#clip470)\" d=\"M103.191 653.213 L119.51 653.213 L119.51 657.149 L97.566 657.149 L97.566 653.213 Q100.228 650.459 104.811 645.829 Q109.418 641.176 110.598 639.834 Q112.844 637.311 113.723 635.575 Q114.626 633.815 114.626 632.126 Q114.626 629.371 112.682 627.635 Q110.76 625.899 107.658 625.899 Q105.459 625.899 103.006 626.663 Q100.575 627.427 97.7974 628.977 L97.7974 624.255 Q100.621 623.121 103.075 622.542 Q105.529 621.964 107.566 621.964 Q112.936 621.964 116.131 624.649 Q119.325 627.334 119.325 631.825 Q119.325 633.954 118.515 635.876 Q117.728 637.774 115.621 640.366 Q115.043 641.038 111.941 644.255 Q108.839 647.45 103.191 653.213 Z\" fill=\"#000000\" fill-rule=\"evenodd\" fill-opacity=\"1\" /><path clip-path=\"url(#clip470)\" d=\"M142.172 626.663 L130.367 645.112 L142.172 645.112 L142.172 626.663 M140.945 622.589 L146.825 622.589 L146.825 645.112 L151.755 645.112 L151.755 649.001 L146.825 649.001 L146.825 657.149 L142.172 657.149 L142.172 649.001 L126.57 649.001 L126.57 644.487 L140.945 622.589 Z\" fill=\"#000000\" fill-rule=\"evenodd\" fill-opacity=\"1\" /><path clip-path=\"url(#clip470)\" d=\"M159.626 656.431 L159.626 652.172 Q161.385 653.005 163.191 653.445 Q164.996 653.885 166.732 653.885 Q171.362 653.885 173.792 650.783 Q176.246 647.658 176.593 641.315 Q175.251 643.306 173.191 644.371 Q171.13 645.436 168.63 645.436 Q163.445 645.436 160.413 642.311 Q157.404 639.163 157.404 633.723 Q157.404 628.399 160.552 625.181 Q163.7 621.964 168.931 621.964 Q174.927 621.964 178.075 626.57 Q181.246 631.153 181.246 639.903 Q181.246 648.075 177.357 652.959 Q173.491 657.82 166.941 657.82 Q165.181 657.82 163.376 657.473 Q161.57 657.125 159.626 656.431 M168.931 641.778 Q172.079 641.778 173.908 639.626 Q175.76 637.473 175.76 633.723 Q175.76 629.996 173.908 627.843 Q172.079 625.667 168.931 625.667 Q165.783 625.667 163.931 627.843 Q162.103 629.996 162.103 633.723 Q162.103 637.473 163.931 639.626 Q165.783 641.778 168.931 641.778 Z\" fill=\"#000000\" fill-rule=\"evenodd\" fill-opacity=\"1\" /><path clip-path=\"url(#clip470)\" d=\"M189.695 622.589 L208.051 622.589 L208.051 626.524 L193.977 626.524 L193.977 634.996 Q194.996 634.649 196.014 634.487 Q197.033 634.302 198.052 634.302 Q203.839 634.302 207.218 637.473 Q210.598 640.644 210.598 646.061 Q210.598 651.639 207.126 654.741 Q203.653 657.82 197.334 657.82 Q195.158 657.82 192.89 657.45 Q190.644 657.079 188.237 656.338 L188.237 651.639 Q190.32 652.774 192.542 653.329 Q194.765 653.885 197.241 653.885 Q201.246 653.885 203.584 651.778 Q205.922 649.672 205.922 646.061 Q205.922 642.45 203.584 640.343 Q201.246 638.237 197.241 638.237 Q195.366 638.237 193.491 638.653 Q191.64 639.07 189.695 639.95 L189.695 622.589 Z\" fill=\"#000000\" fill-rule=\"evenodd\" fill-opacity=\"1\" /><path clip-path=\"url(#clip470)\" d=\"M62.9365 203.083 Q59.3254 203.083 57.4967 206.648 Q55.6912 210.19 55.6912 217.32 Q55.6912 224.426 57.4967 227.991 Q59.3254 231.532 62.9365 231.532 Q66.5707 231.532 68.3763 227.991 Q70.205 224.426 70.205 217.32 Q70.205 210.19 68.3763 206.648 Q66.5707 203.083 62.9365 203.083 M62.9365 199.38 Q68.7467 199.38 71.8022 203.986 Q74.8809 208.57 74.8809 217.32 Q74.8809 226.046 71.8022 230.653 Q68.7467 235.236 62.9365 235.236 Q57.1264 235.236 54.0477 230.653 Q50.9921 226.046 50.9921 217.32 Q50.9921 208.57 54.0477 203.986 Q57.1264 199.38 62.9365 199.38 Z\" fill=\"#000000\" fill-rule=\"evenodd\" fill-opacity=\"1\" /><path clip-path=\"url(#clip470)\" d=\"M83.0984 228.685 L87.9827 228.685 L87.9827 234.565 L83.0984 234.565 L83.0984 228.685 Z\" fill=\"#000000\" fill-rule=\"evenodd\" fill-opacity=\"1\" /><path clip-path=\"url(#clip470)\" d=\"M102.196 230.63 L118.515 230.63 L118.515 234.565 L96.5706 234.565 L96.5706 230.63 Q99.2326 227.875 103.816 223.245 Q108.422 218.593 109.603 217.25 Q111.848 214.727 112.728 212.991 Q113.631 211.232 113.631 209.542 Q113.631 206.787 111.686 205.051 Q109.765 203.315 106.663 203.315 Q104.464 203.315 102.01 204.079 Q99.5798 204.843 96.8021 206.394 L96.8021 201.671 Q99.6261 200.537 102.08 199.958 Q104.534 199.38 106.571 199.38 Q111.941 199.38 115.135 202.065 Q118.33 204.75 118.33 209.241 Q118.33 211.37 117.52 213.292 Q116.733 215.19 114.626 217.782 Q114.047 218.454 110.946 221.671 Q107.844 224.866 102.196 230.63 Z\" fill=\"#000000\" fill-rule=\"evenodd\" fill-opacity=\"1\" /><path clip-path=\"url(#clip470)\" d=\"M128.376 200.005 L146.732 200.005 L146.732 203.94 L132.658 203.94 L132.658 212.412 Q133.677 212.065 134.695 211.903 Q135.714 211.718 136.732 211.718 Q142.519 211.718 145.899 214.889 Q149.279 218.06 149.279 223.477 Q149.279 229.056 145.806 232.157 Q142.334 235.236 136.015 235.236 Q133.839 235.236 131.57 234.866 Q129.325 234.495 126.918 233.755 L126.918 229.056 Q129.001 230.19 131.223 230.745 Q133.445 231.301 135.922 231.301 Q139.927 231.301 142.265 229.194 Q144.603 227.088 144.603 223.477 Q144.603 219.866 142.265 217.759 Q139.927 215.653 135.922 215.653 Q134.047 215.653 132.172 216.07 Q130.32 216.486 128.376 217.366 L128.376 200.005 Z\" fill=\"#000000\" fill-rule=\"evenodd\" fill-opacity=\"1\" /><path clip-path=\"url(#clip470)\" d=\"M168.491 203.083 Q164.88 203.083 163.052 206.648 Q161.246 210.19 161.246 217.32 Q161.246 224.426 163.052 227.991 Q164.88 231.532 168.491 231.532 Q172.126 231.532 173.931 227.991 Q175.76 224.426 175.76 217.32 Q175.76 210.19 173.931 206.648 Q172.126 203.083 168.491 203.083 M168.491 199.38 Q174.302 199.38 177.357 203.986 Q180.436 208.57 180.436 217.32 Q180.436 226.046 177.357 230.653 Q174.302 235.236 168.491 235.236 Q162.681 235.236 159.603 230.653 Q156.547 226.046 156.547 217.32 Q156.547 208.57 159.603 203.986 Q162.681 199.38 168.491 199.38 Z\" fill=\"#000000\" fill-rule=\"evenodd\" fill-opacity=\"1\" /><path clip-path=\"url(#clip470)\" d=\"M198.653 203.083 Q195.042 203.083 193.214 206.648 Q191.408 210.19 191.408 217.32 Q191.408 224.426 193.214 227.991 Q195.042 231.532 198.653 231.532 Q202.288 231.532 204.093 227.991 Q205.922 224.426 205.922 217.32 Q205.922 210.19 204.093 206.648 Q202.288 203.083 198.653 203.083 M198.653 199.38 Q204.464 199.38 207.519 203.986 Q210.598 208.57 210.598 217.32 Q210.598 226.046 207.519 230.653 Q204.464 235.236 198.653 235.236 Q192.843 235.236 189.765 230.653 Q186.709 226.046 186.709 217.32 Q186.709 208.57 189.765 203.986 Q192.843 199.38 198.653 199.38 Z\" fill=\"#000000\" fill-rule=\"evenodd\" fill-opacity=\"1\" /><polyline clip-path=\"url(#clip472)\" style=\"stroke:#e26f46; stroke-linecap:butt; stroke-linejoin:round; stroke-width:4; stroke-opacity:1; fill:none\" points=\"\n  306.206,1070.36 374.721,278.347 443.236,540.556 511.752,1115.26 580.267,840.48 648.782,1161.96 717.297,177.774 785.813,1382.86 854.328,317.858 922.843,278.347 \n  991.358,603.414 1059.87,707.58 1128.39,969.789 1196.9,1379.27 1265.42,113.12 1333.93,468.718 1402.45,93.3641 1470.96,1406.2 1539.48,747.091 1608,660.885 \n  1676.51,1282.28 1745.03,147.243 1813.54,844.072 1882.06,702.192 1950.57,1445.72 2019.09,87.9763 2087.6,527.984 2156.12,1305.63 2224.63,156.222 2293.15,793.785 \n  \n  \"/>\n<path clip-path=\"url(#clip470)\" d=\"\nM1621.49 250.738 L2282.55 250.738 L2282.55 95.2176 L1621.49 95.2176  Z\n  \" fill=\"#ffffff\" fill-rule=\"evenodd\" fill-opacity=\"1\"/>\n<polyline clip-path=\"url(#clip470)\" style=\"stroke:#000000; stroke-linecap:butt; stroke-linejoin:round; stroke-width:4; stroke-opacity:1; fill:none\" points=\"\n  1621.49,250.738 2282.55,250.738 2282.55,95.2176 1621.49,95.2176 1621.49,250.738 \n  \"/>\n<polyline clip-path=\"url(#clip470)\" style=\"stroke:#009af9; stroke-linecap:butt; stroke-linejoin:round; stroke-width:4; stroke-opacity:1; fill:none\" points=\"\n  1645.49,147.058 1789.49,147.058 \n  \"/>\n<path clip-path=\"url(#clip470)\" d=\"M1813.49 128.319 L1823.3 128.319 L1823.3 131.629 L1817.75 131.629 L1817.75 167.277 L1823.3 167.277 L1823.3 170.588 L1813.49 170.588 L1813.49 128.319 Z\" fill=\"#000000\" fill-rule=\"evenodd\" fill-opacity=\"1\" /><path clip-path=\"url(#clip470)\" d=\"M1836.4 129.778 L1836.4 142.625 L1832.47 142.625 L1832.47 129.778 L1836.4 129.778 M1845.15 129.778 L1845.15 142.625 L1841.22 142.625 L1841.22 129.778 L1845.15 129.778 Z\" fill=\"#000000\" fill-rule=\"evenodd\" fill-opacity=\"1\" /><path clip-path=\"url(#clip470)\" d=\"M1849.58 129.778 L1878.81 129.778 L1878.81 133.713 L1866.54 133.713 L1866.54 164.338 L1861.84 164.338 L1861.84 133.713 L1849.58 133.713 L1849.58 129.778 Z\" fill=\"#000000\" fill-rule=\"evenodd\" fill-opacity=\"1\" /><path clip-path=\"url(#clip470)\" d=\"M1891.2 142.393 Q1890.48 141.977 1889.62 141.791 Q1888.79 141.583 1887.77 141.583 Q1884.16 141.583 1882.21 143.944 Q1880.29 146.282 1880.29 150.68 L1880.29 164.338 L1876.01 164.338 L1876.01 138.412 L1880.29 138.412 L1880.29 142.44 Q1881.64 140.078 1883.79 138.944 Q1885.94 137.787 1889.02 137.787 Q1889.46 137.787 1889.99 137.856 Q1890.52 137.903 1891.17 138.018 L1891.2 142.393 Z\" fill=\"#000000\" fill-rule=\"evenodd\" fill-opacity=\"1\" /><path clip-path=\"url(#clip470)\" d=\"M1907.45 151.305 Q1902.28 151.305 1900.29 152.486 Q1898.3 153.666 1898.3 156.514 Q1898.3 158.782 1899.78 160.125 Q1901.29 161.444 1903.86 161.444 Q1907.4 161.444 1909.53 158.944 Q1911.68 156.421 1911.68 152.254 L1911.68 151.305 L1907.45 151.305 M1915.94 149.546 L1915.94 164.338 L1911.68 164.338 L1911.68 160.402 Q1910.22 162.763 1908.05 163.898 Q1905.87 165.009 1902.72 165.009 Q1898.74 165.009 1896.38 162.787 Q1894.04 160.541 1894.04 156.791 Q1894.04 152.416 1896.96 150.194 Q1899.9 147.972 1905.71 147.972 L1911.68 147.972 L1911.68 147.555 Q1911.68 144.615 1909.74 143.018 Q1907.82 141.398 1904.32 141.398 Q1902.1 141.398 1899.99 141.93 Q1897.89 142.463 1895.94 143.527 L1895.94 139.592 Q1898.28 138.69 1900.48 138.25 Q1902.68 137.787 1904.76 137.787 Q1910.39 137.787 1913.16 140.703 Q1915.94 143.62 1915.94 149.546 Z\" fill=\"#000000\" fill-rule=\"evenodd\" fill-opacity=\"1\" /><path clip-path=\"url(#clip470)\" d=\"M1924.71 138.412 L1928.97 138.412 L1928.97 164.338 L1924.71 164.338 L1924.71 138.412 M1924.71 128.319 L1928.97 128.319 L1928.97 133.713 L1924.71 133.713 L1924.71 128.319 Z\" fill=\"#000000\" fill-rule=\"evenodd\" fill-opacity=\"1\" /><path clip-path=\"url(#clip470)\" d=\"M1959.44 148.689 L1959.44 164.338 L1955.18 164.338 L1955.18 148.828 Q1955.18 145.148 1953.74 143.319 Q1952.31 141.49 1949.44 141.49 Q1945.99 141.49 1944 143.69 Q1942.01 145.889 1942.01 149.685 L1942.01 164.338 L1937.72 164.338 L1937.72 138.412 L1942.01 138.412 L1942.01 142.44 Q1943.53 140.102 1945.59 138.944 Q1947.68 137.787 1950.39 137.787 Q1954.85 137.787 1957.14 140.565 Q1959.44 143.319 1959.44 148.689 Z\" fill=\"#000000\" fill-rule=\"evenodd\" fill-opacity=\"1\" /><path clip-path=\"url(#clip470)\" d=\"M1967.93 138.412 L1972.19 138.412 L1972.19 164.338 L1967.93 164.338 L1967.93 138.412 M1967.93 128.319 L1972.19 128.319 L1972.19 133.713 L1967.93 133.713 L1967.93 128.319 Z\" fill=\"#000000\" fill-rule=\"evenodd\" fill-opacity=\"1\" /><path clip-path=\"url(#clip470)\" d=\"M2002.65 148.689 L2002.65 164.338 L1998.39 164.338 L1998.39 148.828 Q1998.39 145.148 1996.96 143.319 Q1995.52 141.49 1992.65 141.49 Q1989.2 141.49 1987.21 143.69 Q1985.22 145.889 1985.22 149.685 L1985.22 164.338 L1980.94 164.338 L1980.94 138.412 L1985.22 138.412 L1985.22 142.44 Q1986.75 140.102 1988.81 138.944 Q1990.89 137.787 1993.6 137.787 Q1998.07 137.787 2000.36 140.565 Q2002.65 143.319 2002.65 148.689 Z\" fill=\"#000000\" fill-rule=\"evenodd\" fill-opacity=\"1\" /><path clip-path=\"url(#clip470)\" d=\"M2028.21 151.074 Q2028.21 146.444 2026.29 143.898 Q2024.39 141.352 2020.94 141.352 Q2017.51 141.352 2015.59 143.898 Q2013.7 146.444 2013.7 151.074 Q2013.7 155.68 2015.59 158.226 Q2017.51 160.773 2020.94 160.773 Q2024.39 160.773 2026.29 158.226 Q2028.21 155.68 2028.21 151.074 M2032.47 161.12 Q2032.47 167.74 2029.53 170.958 Q2026.59 174.199 2020.52 174.199 Q2018.28 174.199 2016.29 173.851 Q2014.3 173.527 2012.42 172.833 L2012.42 168.689 Q2014.3 169.708 2016.13 170.194 Q2017.95 170.68 2019.85 170.68 Q2024.04 170.68 2026.13 168.481 Q2028.21 166.305 2028.21 161.884 L2028.21 159.777 Q2026.89 162.069 2024.83 163.203 Q2022.77 164.338 2019.9 164.338 Q2015.13 164.338 2012.21 160.703 Q2009.3 157.069 2009.3 151.074 Q2009.3 145.055 2012.21 141.421 Q2015.13 137.787 2019.9 137.787 Q2022.77 137.787 2024.83 138.921 Q2026.89 140.055 2028.21 142.347 L2028.21 138.412 L2032.47 138.412 L2032.47 161.12 Z\" fill=\"#000000\" fill-rule=\"evenodd\" fill-opacity=\"1\" /><path clip-path=\"url(#clip470)\" d=\"M2072.88 148.134 Q2074.39 148.643 2075.8 150.31 Q2077.24 151.977 2078.67 154.893 L2083.42 164.338 L2078.39 164.338 L2073.97 155.472 Q2072.26 152 2070.64 150.865 Q2069.04 149.731 2066.26 149.731 L2061.17 149.731 L2061.17 164.338 L2056.5 164.338 L2056.5 129.778 L2067.05 129.778 Q2072.98 129.778 2075.89 132.254 Q2078.81 134.731 2078.81 139.731 Q2078.81 142.995 2077.28 145.148 Q2075.78 147.301 2072.88 148.134 M2061.17 133.62 L2061.17 145.889 L2067.05 145.889 Q2070.43 145.889 2072.14 144.338 Q2073.88 142.764 2073.88 139.731 Q2073.88 136.699 2072.14 135.171 Q2070.43 133.62 2067.05 133.62 L2061.17 133.62 Z\" fill=\"#000000\" fill-rule=\"evenodd\" fill-opacity=\"1\" /><path clip-path=\"url(#clip470)\" d=\"M2109.3 150.31 L2109.3 152.393 L2089.71 152.393 Q2089.99 156.791 2092.35 159.106 Q2094.74 161.398 2098.97 161.398 Q2101.43 161.398 2103.72 160.796 Q2106.03 160.194 2108.3 158.99 L2108.3 163.018 Q2106.01 163.99 2103.6 164.5 Q2101.19 165.009 2098.72 165.009 Q2092.51 165.009 2088.88 161.398 Q2085.27 157.787 2085.27 151.629 Q2085.27 145.264 2088.69 141.537 Q2092.14 137.787 2097.98 137.787 Q2103.21 137.787 2106.24 141.166 Q2109.3 144.523 2109.3 150.31 M2105.04 149.06 Q2104.99 145.565 2103.07 143.481 Q2101.17 141.398 2098.02 141.398 Q2094.46 141.398 2092.31 143.412 Q2090.18 145.426 2089.85 149.083 L2105.04 149.06 Z\" fill=\"#000000\" fill-rule=\"evenodd\" fill-opacity=\"1\" /><path clip-path=\"url(#clip470)\" d=\"M2132.82 139.176 L2132.82 143.203 Q2131.01 142.277 2129.07 141.815 Q2127.12 141.352 2125.04 141.352 Q2121.87 141.352 2120.27 142.324 Q2118.69 143.296 2118.69 145.24 Q2118.69 146.722 2119.83 147.578 Q2120.96 148.412 2124.39 149.176 L2125.85 149.5 Q2130.38 150.472 2132.28 152.254 Q2134.2 154.014 2134.2 157.185 Q2134.2 160.796 2131.33 162.902 Q2128.49 165.009 2123.49 165.009 Q2121.4 165.009 2119.13 164.592 Q2116.89 164.199 2114.39 163.388 L2114.39 158.99 Q2116.75 160.217 2119.04 160.842 Q2121.33 161.444 2123.58 161.444 Q2126.59 161.444 2128.21 160.426 Q2129.83 159.384 2129.83 157.509 Q2129.83 155.773 2128.65 154.847 Q2127.49 153.921 2123.53 153.064 L2122.05 152.717 Q2118.09 151.884 2116.33 150.171 Q2114.57 148.435 2114.57 145.426 Q2114.57 141.768 2117.17 139.778 Q2119.76 137.787 2124.53 137.787 Q2126.89 137.787 2128.97 138.134 Q2131.06 138.481 2132.82 139.176 Z\" fill=\"#000000\" fill-rule=\"evenodd\" fill-opacity=\"1\" /><path clip-path=\"url(#clip470)\" d=\"M2140.55 154.106 L2140.55 138.412 L2144.81 138.412 L2144.81 153.944 Q2144.81 157.625 2146.24 159.476 Q2147.68 161.305 2150.55 161.305 Q2154 161.305 2155.99 159.106 Q2158 156.907 2158 153.111 L2158 138.412 L2162.26 138.412 L2162.26 164.338 L2158 164.338 L2158 160.356 Q2156.45 162.717 2154.39 163.875 Q2152.35 165.009 2149.64 165.009 Q2145.18 165.009 2142.86 162.231 Q2140.55 159.453 2140.55 154.106 M2151.26 137.787 L2151.26 137.787 Z\" fill=\"#000000\" fill-rule=\"evenodd\" fill-opacity=\"1\" /><path clip-path=\"url(#clip470)\" d=\"M2171.03 128.319 L2175.29 128.319 L2175.29 164.338 L2171.03 164.338 L2171.03 128.319 Z\" fill=\"#000000\" fill-rule=\"evenodd\" fill-opacity=\"1\" /><path clip-path=\"url(#clip470)\" d=\"M2188.42 131.051 L2188.42 138.412 L2197.19 138.412 L2197.19 141.722 L2188.42 141.722 L2188.42 155.796 Q2188.42 158.967 2189.27 159.87 Q2190.15 160.773 2192.81 160.773 L2197.19 160.773 L2197.19 164.338 L2192.81 164.338 Q2187.88 164.338 2186.01 162.509 Q2184.13 160.657 2184.13 155.796 L2184.13 141.722 L2181.01 141.722 L2181.01 138.412 L2184.13 138.412 L2184.13 131.051 L2188.42 131.051 Z\" fill=\"#000000\" fill-rule=\"evenodd\" fill-opacity=\"1\" /><path clip-path=\"url(#clip470)\" d=\"M2206.82 129.778 L2206.82 142.625 L2202.88 142.625 L2202.88 129.778 L2206.82 129.778 M2215.57 129.778 L2215.57 142.625 L2211.63 142.625 L2211.63 129.778 L2215.57 129.778 Z\" fill=\"#000000\" fill-rule=\"evenodd\" fill-opacity=\"1\" /><path clip-path=\"url(#clip470)\" d=\"M2234.55 128.319 L2234.55 170.588 L2224.74 170.588 L2224.74 167.277 L2230.27 167.277 L2230.27 131.629 L2224.74 131.629 L2224.74 128.319 L2234.55 128.319 Z\" fill=\"#000000\" fill-rule=\"evenodd\" fill-opacity=\"1\" /><polyline clip-path=\"url(#clip470)\" style=\"stroke:#e26f46; stroke-linecap:butt; stroke-linejoin:round; stroke-width:4; stroke-opacity:1; fill:none\" points=\"\n  1645.49,198.898 1789.49,198.898 \n  \"/>\n<path clip-path=\"url(#clip470)\" d=\"M1813.49 180.159 L1823.3 180.159 L1823.3 183.469 L1817.75 183.469 L1817.75 219.117 L1823.3 219.117 L1823.3 222.428 L1813.49 222.428 L1813.49 180.159 Z\" fill=\"#000000\" fill-rule=\"evenodd\" fill-opacity=\"1\" /><path clip-path=\"url(#clip470)\" d=\"M1836.4 181.618 L1836.4 194.465 L1832.47 194.465 L1832.47 181.618 L1836.4 181.618 M1845.15 181.618 L1845.15 194.465 L1841.22 194.465 L1841.22 181.618 L1845.15 181.618 Z\" fill=\"#000000\" fill-rule=\"evenodd\" fill-opacity=\"1\" /><path clip-path=\"url(#clip470)\" d=\"M1849.58 181.618 L1878.81 181.618 L1878.81 185.553 L1866.54 185.553 L1866.54 216.178 L1861.84 216.178 L1861.84 185.553 L1849.58 185.553 L1849.58 181.618 Z\" fill=\"#000000\" fill-rule=\"evenodd\" fill-opacity=\"1\" /><path clip-path=\"url(#clip470)\" d=\"M1897.26 202.15 L1897.26 204.233 L1877.68 204.233 Q1877.96 208.631 1880.32 210.946 Q1882.7 213.238 1886.94 213.238 Q1889.39 213.238 1891.68 212.636 Q1894 212.034 1896.27 210.83 L1896.27 214.858 Q1893.97 215.83 1891.57 216.34 Q1889.16 216.849 1886.68 216.849 Q1880.48 216.849 1876.84 213.238 Q1873.23 209.627 1873.23 203.469 Q1873.23 197.104 1876.66 193.377 Q1880.11 189.627 1885.94 189.627 Q1891.17 189.627 1894.21 193.006 Q1897.26 196.363 1897.26 202.15 M1893 200.9 Q1892.96 197.405 1891.03 195.321 Q1889.14 193.238 1885.99 193.238 Q1882.42 193.238 1880.27 195.252 Q1878.14 197.266 1877.82 200.923 L1893 200.9 Z\" fill=\"#000000\" fill-rule=\"evenodd\" fill-opacity=\"1\" /><path clip-path=\"url(#clip470)\" d=\"M1920.78 191.016 L1920.78 195.043 Q1918.97 194.117 1917.03 193.655 Q1915.08 193.192 1913 193.192 Q1909.83 193.192 1908.23 194.164 Q1906.66 195.136 1906.66 197.08 Q1906.66 198.562 1907.79 199.418 Q1908.93 200.252 1912.35 201.016 L1913.81 201.34 Q1918.35 202.312 1920.25 204.094 Q1922.17 205.854 1922.17 209.025 Q1922.17 212.636 1919.3 214.742 Q1916.45 216.849 1911.45 216.849 Q1909.37 216.849 1907.1 216.432 Q1904.85 216.039 1902.35 215.228 L1902.35 210.83 Q1904.71 212.057 1907.01 212.682 Q1909.3 213.284 1911.54 213.284 Q1914.55 213.284 1916.17 212.266 Q1917.79 211.224 1917.79 209.349 Q1917.79 207.613 1916.61 206.687 Q1915.46 205.761 1911.5 204.904 L1910.02 204.557 Q1906.06 203.724 1904.3 202.011 Q1902.54 200.275 1902.54 197.266 Q1902.54 193.608 1905.13 191.618 Q1907.72 189.627 1912.49 189.627 Q1914.85 189.627 1916.94 189.974 Q1919.02 190.321 1920.78 191.016 Z\" fill=\"#000000\" fill-rule=\"evenodd\" fill-opacity=\"1\" /><path clip-path=\"url(#clip470)\" d=\"M1933.16 182.891 L1933.16 190.252 L1941.94 190.252 L1941.94 193.562 L1933.16 193.562 L1933.16 207.636 Q1933.16 210.807 1934.02 211.71 Q1934.9 212.613 1937.56 212.613 L1941.94 212.613 L1941.94 216.178 L1937.56 216.178 Q1932.63 216.178 1930.76 214.349 Q1928.88 212.497 1928.88 207.636 L1928.88 193.562 L1925.76 193.562 L1925.76 190.252 L1928.88 190.252 L1928.88 182.891 L1933.16 182.891 Z\" fill=\"#000000\" fill-rule=\"evenodd\" fill-opacity=\"1\" /><path clip-path=\"url(#clip470)\" d=\"M1947.54 190.252 L1951.8 190.252 L1951.8 216.178 L1947.54 216.178 L1947.54 190.252 M1947.54 180.159 L1951.8 180.159 L1951.8 185.553 L1947.54 185.553 L1947.54 180.159 Z\" fill=\"#000000\" fill-rule=\"evenodd\" fill-opacity=\"1\" /><path clip-path=\"url(#clip470)\" d=\"M1982.26 200.529 L1982.26 216.178 L1978 216.178 L1978 200.668 Q1978 196.988 1976.57 195.159 Q1975.13 193.33 1972.26 193.33 Q1968.81 193.33 1966.82 195.53 Q1964.83 197.729 1964.83 201.525 L1964.83 216.178 L1960.55 216.178 L1960.55 190.252 L1964.83 190.252 L1964.83 194.28 Q1966.36 191.942 1968.42 190.784 Q1970.5 189.627 1973.21 189.627 Q1977.68 189.627 1979.97 192.405 Q1982.26 195.159 1982.26 200.529 Z\" fill=\"#000000\" fill-rule=\"evenodd\" fill-opacity=\"1\" /><path clip-path=\"url(#clip470)\" d=\"M2007.82 202.914 Q2007.82 198.284 2005.89 195.738 Q2004 193.192 2000.55 193.192 Q1997.12 193.192 1995.2 195.738 Q1993.3 198.284 1993.3 202.914 Q1993.3 207.52 1995.2 210.066 Q1997.12 212.613 2000.55 212.613 Q2004 212.613 2005.89 210.066 Q2007.82 207.52 2007.82 202.914 M2012.07 212.96 Q2012.07 219.58 2009.14 222.798 Q2006.2 226.039 2000.13 226.039 Q1997.89 226.039 1995.89 225.691 Q1993.9 225.367 1992.03 224.673 L1992.03 220.529 Q1993.9 221.548 1995.73 222.034 Q1997.56 222.52 1999.46 222.52 Q2003.65 222.52 2005.73 220.321 Q2007.82 218.145 2007.82 213.724 L2007.82 211.617 Q2006.5 213.909 2004.44 215.043 Q2002.38 216.178 1999.51 216.178 Q1994.74 216.178 1991.82 212.543 Q1988.9 208.909 1988.9 202.914 Q1988.9 196.895 1991.82 193.261 Q1994.74 189.627 1999.51 189.627 Q2002.38 189.627 2004.44 190.761 Q2006.5 191.895 2007.82 194.187 L2007.82 190.252 L2012.07 190.252 L2012.07 212.96 Z\" fill=\"#000000\" fill-rule=\"evenodd\" fill-opacity=\"1\" /><path clip-path=\"url(#clip470)\" d=\"M2052.49 199.974 Q2054 200.483 2055.41 202.15 Q2056.84 203.817 2058.28 206.733 L2063.02 216.178 L2058 216.178 L2053.58 207.312 Q2051.87 203.84 2050.25 202.705 Q2048.65 201.571 2045.87 201.571 L2040.78 201.571 L2040.78 216.178 L2036.1 216.178 L2036.1 181.618 L2046.66 181.618 Q2052.58 181.618 2055.5 184.094 Q2058.42 186.571 2058.42 191.571 Q2058.42 194.835 2056.89 196.988 Q2055.38 199.141 2052.49 199.974 M2040.78 185.46 L2040.78 197.729 L2046.66 197.729 Q2050.04 197.729 2051.75 196.178 Q2053.49 194.604 2053.49 191.571 Q2053.49 188.539 2051.75 187.011 Q2050.04 185.46 2046.66 185.46 L2040.78 185.46 Z\" fill=\"#000000\" fill-rule=\"evenodd\" fill-opacity=\"1\" /><path clip-path=\"url(#clip470)\" d=\"M2088.9 202.15 L2088.9 204.233 L2069.32 204.233 Q2069.6 208.631 2071.96 210.946 Q2074.34 213.238 2078.58 213.238 Q2081.03 213.238 2083.32 212.636 Q2085.64 212.034 2087.91 210.83 L2087.91 214.858 Q2085.62 215.83 2083.21 216.34 Q2080.8 216.849 2078.32 216.849 Q2072.12 216.849 2068.49 213.238 Q2064.88 209.627 2064.88 203.469 Q2064.88 197.104 2068.3 193.377 Q2071.75 189.627 2077.58 189.627 Q2082.82 189.627 2085.85 193.006 Q2088.9 196.363 2088.9 202.15 M2084.64 200.9 Q2084.6 197.405 2082.68 195.321 Q2080.78 193.238 2077.63 193.238 Q2074.07 193.238 2071.91 195.252 Q2069.78 197.266 2069.46 200.923 L2084.64 200.9 Z\" fill=\"#000000\" fill-rule=\"evenodd\" fill-opacity=\"1\" /><path clip-path=\"url(#clip470)\" d=\"M2112.42 191.016 L2112.42 195.043 Q2110.62 194.117 2108.67 193.655 Q2106.73 193.192 2104.64 193.192 Q2101.47 193.192 2099.88 194.164 Q2098.3 195.136 2098.3 197.08 Q2098.3 198.562 2099.44 199.418 Q2100.57 200.252 2104 201.016 L2105.45 201.34 Q2109.99 202.312 2111.89 204.094 Q2113.81 205.854 2113.81 209.025 Q2113.81 212.636 2110.94 214.742 Q2108.09 216.849 2103.09 216.849 Q2101.01 216.849 2098.74 216.432 Q2096.5 216.039 2094 215.228 L2094 210.83 Q2096.36 212.057 2098.65 212.682 Q2100.94 213.284 2103.19 213.284 Q2106.19 213.284 2107.82 212.266 Q2109.44 211.224 2109.44 209.349 Q2109.44 207.613 2108.26 206.687 Q2107.1 205.761 2103.14 204.904 L2101.66 204.557 Q2097.7 203.724 2095.94 202.011 Q2094.18 200.275 2094.18 197.266 Q2094.18 193.608 2096.77 191.618 Q2099.37 189.627 2104.13 189.627 Q2106.5 189.627 2108.58 189.974 Q2110.66 190.321 2112.42 191.016 Z\" fill=\"#000000\" fill-rule=\"evenodd\" fill-opacity=\"1\" /><path clip-path=\"url(#clip470)\" d=\"M2120.15 205.946 L2120.15 190.252 L2124.41 190.252 L2124.41 205.784 Q2124.41 209.465 2125.85 211.316 Q2127.28 213.145 2130.15 213.145 Q2133.6 213.145 2135.59 210.946 Q2137.61 208.747 2137.61 204.951 L2137.61 190.252 L2141.87 190.252 L2141.87 216.178 L2137.61 216.178 L2137.61 212.196 Q2136.06 214.557 2134 215.715 Q2131.96 216.849 2129.25 216.849 Q2124.78 216.849 2122.47 214.071 Q2120.15 211.293 2120.15 205.946 M2130.87 189.627 L2130.87 189.627 Z\" fill=\"#000000\" fill-rule=\"evenodd\" fill-opacity=\"1\" /><path clip-path=\"url(#clip470)\" d=\"M2150.64 180.159 L2154.9 180.159 L2154.9 216.178 L2150.64 216.178 L2150.64 180.159 Z\" fill=\"#000000\" fill-rule=\"evenodd\" fill-opacity=\"1\" /><path clip-path=\"url(#clip470)\" d=\"M2168.02 182.891 L2168.02 190.252 L2176.8 190.252 L2176.8 193.562 L2168.02 193.562 L2168.02 207.636 Q2168.02 210.807 2168.88 211.71 Q2169.76 212.613 2172.42 212.613 L2176.8 212.613 L2176.8 216.178 L2172.42 216.178 Q2167.49 216.178 2165.62 214.349 Q2163.74 212.497 2163.74 207.636 L2163.74 193.562 L2160.62 193.562 L2160.62 190.252 L2163.74 190.252 L2163.74 182.891 L2168.02 182.891 Z\" fill=\"#000000\" fill-rule=\"evenodd\" fill-opacity=\"1\" /><path clip-path=\"url(#clip470)\" d=\"M2186.43 181.618 L2186.43 194.465 L2182.49 194.465 L2182.49 181.618 L2186.43 181.618 M2195.18 181.618 L2195.18 194.465 L2191.24 194.465 L2191.24 181.618 L2195.18 181.618 Z\" fill=\"#000000\" fill-rule=\"evenodd\" fill-opacity=\"1\" /><path clip-path=\"url(#clip470)\" d=\"M2214.16 180.159 L2214.16 222.428 L2204.34 222.428 L2204.34 219.117 L2209.87 219.117 L2209.87 183.469 L2204.34 183.469 L2204.34 180.159 L2214.16 180.159 Z\" fill=\"#000000\" fill-rule=\"evenodd\" fill-opacity=\"1\" /></svg>\n"
     },
     "execution_count": 19,
     "metadata": {},
     "output_type": "execute_result"
    }
   ],
   "source": [
    "Plots.plot(train_acc_list,label=[\"Training Result\"])\n",
    "Plots.plot!(test,label=[\"Testing Result\"])"
   ]
  },
  {
   "cell_type": "code",
   "execution_count": 20,
   "id": "5bf17642",
   "metadata": {},
   "outputs": [
    {
     "name": "stdout",
     "output_type": "stream",
     "text": [
      "confusion matrix:\n",
      "True True Result: 101,  True False Result: 527\n",
      "False False Result: 101,   False True Result: FT\n"
     ]
    }
   ],
   "source": [
    "\"\"\"\n",
    "    In order to compute for confusion matrix\n",
    "\"\"\"\n",
    "#TT\n",
    "TT = sum(vec(chromosomes[1](para_test_std) .> 0.5) .== 1)\n",
    "#TF\n",
    "TF = sum(vec(chromosomes[1](para_test_std) .> 0.5) .== 0)\n",
    "#FT\n",
    "FT = sum(vec(chromosomes[1](para_test_std) .< 0.5) .== 1)\n",
    "#FF\n",
    "FF = sum(vec(chromosomes[1](para_test_std) .< 0.5) .== 0)\n",
    "println(\"confusion matrix:\")\n",
    "println(\"True True Result: $TT,  True False Result: $TF\")\n",
    "println(\"False False Result: $FF,   False True Result: FT\")"
   ]
  }
 ],
 "metadata": {
  "kernelspec": {
   "display_name": "Julia 1.6.5",
   "language": "julia",
   "name": "julia-1.6"
  },
  "language_info": {
   "file_extension": ".jl",
   "mimetype": "application/julia",
   "name": "julia",
   "version": "1.6.5"
  }
 },
 "nbformat": 4,
 "nbformat_minor": 5
}
